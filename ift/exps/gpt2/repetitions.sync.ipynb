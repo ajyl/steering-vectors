{
 "cells": [
  {
   "cell_type": "code",
   "execution_count": 1,
   "id": "1c0b9bd2",
   "metadata": {},
   "outputs": [],
   "source": [
    "\n",
    "# 29: \">\"\n",
    "# 314: \" I\"\n",
    "# 1101: \"'m\"\n",
    "# 2111: \" trying\"\n",
    "# 284: \" to\"\n",
    "# 5879: \" prove\"\n",
    "# 25: \":\"\n",
    "# 611: \" if\"\n",
    "# 39280: \" $\\\\\""
   ]
  },
  {
   "cell_type": "code",
   "execution_count": 2,
   "id": "4d172f70",
   "metadata": {},
   "outputs": [
    {
     "name": "stderr",
     "output_type": "stream",
     "text": [
      "/home/repos/anaconda3/envs/z/lib/python3.11/site-packages/tqdm/auto.py:21: TqdmWarning: IProgress not found. Please update jupyter and ipywidgets. See https://ipywidgets.readthedocs.io/en/stable/user_install.html\n",
      "  from .autonotebook import tqdm as notebook_tqdm\n"
     ]
    }
   ],
   "source": [
    "\n",
    "import os\n",
    "import json\n",
    "from tqdm import tqdm\n",
    "import pandas as pd\n",
    "import plotly.express as px\n",
    "import matplotlib.pyplot as plt\n",
    "import seaborn as sns\n",
    "from matplotlib.gridspec import GridSpec\n",
    "from fancy_einsum import einsum\n",
    "import torch\n",
    "import torch.nn.functional as F\n",
    "from ift.interp_utils import (\n",
    "    get_model_and_tokenizer,\n",
    "    load_steer_vecs,\n",
    "    get_hooked_model_and_tokenizer,\n",
    ")\n",
    "from steering_vectors.steering_vector import hooked_generate\n",
    "from steering_vectors.record_activations import record_activations\n",
    "from steering_vectors.torch_utils import get_module\n",
    "from ift.data_utils import (\n",
    "    get_batch,\n",
    "    tokenize_data,\n",
    "    load_cached_data,\n",
    "    build_ift_prompts,\n",
    ")"
   ]
  },
  {
   "cell_type": "code",
   "execution_count": 3,
   "id": "080a5b31",
   "metadata": {},
   "outputs": [],
   "source": [
    "\n",
    "# Notes:\n",
    "# \" [Response]\" --> [58, 31077, 60] (indices 145:148)\n",
    "#"
   ]
  },
  {
   "cell_type": "code",
   "execution_count": 5,
   "id": "30ad58d8",
   "metadata": {},
   "outputs": [],
   "source": [
    "\n",
    "\"\"\" Driver \"\"\"\n",
    "config = {\n",
    "    \"model\": \"gpt2-medium\",\n",
    "    \"batch_size\": 16,\n",
    "    \"max_prompt_length\": 512,\n",
    "    \"max_new_tokens\": 40,\n",
    "    \"train_size\": 5000,\n",
    "    \"valid_size\": 200,\n",
    "    \"cache_dir\": \"/home/repos/ift_mechinterp/data/cache\",\n",
    "    \"prompt_token\": \"[Instruction]\",\n",
    "    \"response_token\": \"[Response]\",\n",
    "    \"ift_state_dict\": \"/home/repos/ift_mechinterp/finetune/.cache/andrew/gpt2_ift/LATEST/ift_model.pt\",\n",
    "    \"ift_model_path\": \"/home/repos/ift_mechinterp/ift_gpt2_latest\",\n",
    "    \"tokenizer\": \"gpt2-medium\",\n",
    "    \"steer_timesteps\": 20,\n",
    "    \"num_generate\": 20,\n",
    "    \"ckpt_dir\": \"/home/repos/steering-vectors/ckpts/\",\n",
    "}\n",
    "\n",
    "config[\"multipliers\"] = {\n",
    "    timestep: 1 for timestep in range(config[\"steer_timesteps\"])\n",
    "}\n",
    "config[\"multipliers\"][0] = 0.1\n",
    "\n",
    "valid_data = load_cached_data(os.path.join(config[\"cache_dir\"], \"valid.json\"))\n",
    "valid_data = build_ift_prompts(valid_data, config)\n",
    "valid_data = tokenize_data(valid_data, config)\n",
    "\n",
    "# with open(\"repetitive_prompts.json\", \"r\") as file_p:\n",
    "#    data = json.load(file_p)\n",
    "#\n",
    "# valid_data = tokenize_data([{\"prompt\": prompt} for prompt in data], config)\n",
    "\n",
    "\n",
    "# steer_vecs = load_steer_vecs(\n",
    "#    os.path.join(config[\"ckpt_dir\"], \"steer_vec_series_longer.pt\")\n",
    "# )\n",
    "# sample_steer(steer_vecs, valid_data, config)\n",
    "# sample_ift(valid_data, config)\n",
    "# sample_normal(valid_data, config)"
   ]
  },
  {
   "cell_type": "code",
   "execution_count": 6,
   "id": "c4b0c05c",
   "metadata": {},
   "outputs": [
    {
     "name": "stdout",
     "output_type": "stream",
     "text": [
      "Loaded pretrained model gpt2-medium into HookedTransformer\n"
     ]
    }
   ],
   "source": [
    "\n",
    "max_length = config[\"max_prompt_length\"]\n",
    "max_new_tokens = config[\"max_new_tokens\"]\n",
    "\n",
    "ift, tokenizer = get_hooked_model_and_tokenizer(\n",
    "    config[\"model\"],\n",
    "    config[\"tokenizer\"],\n",
    "    model_path=config[\"ift_model_path\"],\n",
    "    device=\"cuda:0\",\n",
    ")\n",
    "gpt2, tokenizer = get_model_and_tokenizer(\n",
    "    config[\"model\"], config[\"tokenizer\"], device_map=\"cuda:1\"\n",
    ")"
   ]
  },
  {
   "cell_type": "code",
   "execution_count": 7,
   "id": "580143eb",
   "metadata": {},
   "outputs": [
    {
     "name": "stdout",
     "output_type": "stream",
     "text": [
      "Loaded pretrained model gpt2-medium into HookedTransformer\n"
     ]
    }
   ],
   "source": [
    "\n",
    "sample = get_batch(valid_data, 1, 1)\n",
    "\n",
    "prompt_input_ids = sample[\"prompt_input_ids\"]\n",
    "attention_mask = sample[\"prompt_attention_mask\"]\n",
    "\n",
    "prompt = sample[\"prompts\"]\n",
    "prompt = prompt[0] + \" > \"\n",
    "\n",
    "# prompt_input_ids_bs = sample[\"prompt_input_ids\"]\n",
    "# prompt_shape = prompt_input_ids_bs.shape\n",
    "tokenized = tokenizer(\n",
    "    prompt,\n",
    "    max_length=max_length,\n",
    "    padding=True,\n",
    "    truncation=True,\n",
    "    return_tensors=\"pt\",\n",
    ")\n",
    "\n",
    "prompt_input_ids = tokenized[\"input_ids\"]\n",
    "attention_mask = tokenized[\"attention_mask\"]\n",
    "\n",
    "prompt_input_ids = torch.cat(\n",
    "    [prompt_input_ids, torch.tensor([[198, 198]])], dim=1\n",
    ")\n",
    "attention_mask = torch.cat([attention_mask, torch.tensor([[1, 1]])], dim=1)\n",
    "prompt_shape = prompt_input_ids.shape\n",
    "\n",
    "\n",
    "with torch.inference_mode():\n",
    "    gpt2_out = gpt2.generate(\n",
    "        prompt_input_ids.to(gpt2.device),\n",
    "        attention_mask=attention_mask.to(gpt2.device),\n",
    "        do_sample=False,\n",
    "        max_new_tokens=max_new_tokens,\n",
    "        pad_token_id=tokenizer.pad_token_id,\n",
    "        use_cache=False,\n",
    "    )\n",
    "    gpt2_out_text = tokenizer.batch_decode(\n",
    "        gpt2_out[:, prompt_shape[1] :], skip_special_tokens=True\n",
    "    )\n",
    "\n",
    "gpt2_out = gpt2_out[:, prompt_shape[1] :]\n",
    "\n",
    "gpt2, tokenizer = get_hooked_model_and_tokenizer(\n",
    "    config[\"model\"], config[\"tokenizer\"], device=\"cuda:1\"\n",
    ")"
   ]
  },
  {
   "cell_type": "code",
   "execution_count": 10,
   "id": "616f6ae3",
   "metadata": {
    "scrolled": false
   },
   "outputs": [
    {
     "name": "stdout",
     "output_type": "stream",
     "text": [
      "tensor([[   29,   314,  1101,  2111,   284,  5879,    25,   611, 39280,    70,\n",
      "         10210,     7,    64,    11,    66, 47505,    67, 47113,   720,    64,\n",
      "            59, 13602,   275,     3,   290,   720,    66,    59, 13602,   275,\n",
      "         47113,   788,   720,   330,    59, 13602,   275,    67, 35307,   198]],\n",
      "       device='cuda:1')\n",
      "Neg tok: 24503\n",
      "Tok id: 29\n"
     ]
    },
    {
     "data": {
      "application/vnd.plotly.v1+json": {
       "config": {
        "plotlyServerURL": "https://plot.ly"
       },
       "data": [
        {
         "hovertemplate": "Model=IFT<br>Layer=%{x}<br>neg_logprob=%{y}<extra></extra>",
         "legendgroup": "IFT",
         "line": {
          "color": "#636efa",
          "dash": "solid"
         },
         "marker": {
          "symbol": "circle"
         },
         "mode": "lines",
         "name": "IFT",
         "orientation": "v",
         "showlegend": true,
         "type": "scatter",
         "x": [
          "0_mid",
          "0_post",
          "1_mid",
          "1_post",
          "2_mid",
          "2_post",
          "3_mid",
          "3_post",
          "4_mid",
          "4_post",
          "5_mid",
          "5_post",
          "6_mid",
          "6_post",
          "7_mid",
          "7_post",
          "8_mid",
          "8_post",
          "9_mid",
          "9_post",
          "10_mid",
          "10_post",
          "11_mid",
          "11_post",
          "12_mid",
          "12_post",
          "13_mid",
          "13_post",
          "14_mid",
          "14_post",
          "15_mid",
          "15_post",
          "16_mid",
          "16_post",
          "17_mid",
          "17_post",
          "18_mid",
          "18_post",
          "19_mid",
          "19_post",
          "20_mid",
          "20_post",
          "21_mid",
          "21_post",
          "22_mid",
          "22_post",
          "23_mid",
          "23_post"
         ],
         "xaxis": "x",
         "y": [
          -10.31999397277832,
          -16.280071258544922,
          -14.240143775939941,
          -11.781946182250977,
          -11.20174503326416,
          -8.700005531311035,
          -7.70792293548584,
          -8.750536918640137,
          -9.692249298095703,
          -8.150392532348633,
          -9.289140701293945,
          -10.561334609985352,
          -12.23802375793457,
          -10.406655311584473,
          -12.353838920593262,
          -14.638772964477539,
          -9.389920234680176,
          -16.812768936157227,
          -2.5500049591064453,
          -0.3400959074497223,
          -0.10353349149227142,
          -0.09124558418989182,
          -0.0005391574813984334,
          -0.5017092823982239,
          -3.98207950592041,
          -8.506884574890137,
          -11.767058372497559,
          -20.329248428344727,
          -8.022930145263672,
          -25.01365089416504,
          -19.68140411376953,
          -13.138383865356445,
          -7.275901794433594,
          -10.748512268066406,
          -0.9827499389648438,
          -2.7358286380767822,
          -3.509064197540283,
          -8.93795108795166,
          -7.783746242523193,
          -31.434722900390625,
          -30.3525390625,
          -64.60281372070312,
          -42.692626953125,
          -63.16162109375,
          -66.7073974609375,
          -64.17294311523438,
          -39.620849609375,
          -54.10186767578125
         ],
         "yaxis": "y"
        },
        {
         "hovertemplate": "Model=GPT2<br>Layer=%{x}<br>neg_logprob=%{y}<extra></extra>",
         "legendgroup": "GPT2",
         "line": {
          "color": "#EF553B",
          "dash": "solid"
         },
         "marker": {
          "symbol": "circle"
         },
         "mode": "lines",
         "name": "GPT2",
         "orientation": "v",
         "showlegend": true,
         "type": "scatter",
         "x": [
          "0_mid",
          "0_post",
          "1_mid",
          "1_post",
          "2_mid",
          "2_post",
          "3_mid",
          "3_post",
          "4_mid",
          "4_post",
          "5_mid",
          "5_post",
          "6_mid",
          "6_post",
          "7_mid",
          "7_post",
          "8_mid",
          "8_post",
          "9_mid",
          "9_post",
          "10_mid",
          "10_post",
          "11_mid",
          "11_post",
          "12_mid",
          "12_post",
          "13_mid",
          "13_post",
          "14_mid",
          "14_post",
          "15_mid",
          "15_post",
          "16_mid",
          "16_post",
          "17_mid",
          "17_post",
          "18_mid",
          "18_post",
          "19_mid",
          "19_post",
          "20_mid",
          "20_post",
          "21_mid",
          "21_post",
          "22_mid",
          "22_post",
          "23_mid",
          "23_post"
         ],
         "xaxis": "x",
         "y": [
          -10.28657054901123,
          -15.709123611450195,
          -12.909769058227539,
          -10.914163589477539,
          -10.168810844421387,
          -8.294280052185059,
          -7.4843902587890625,
          -10.40868091583252,
          -8.283751487731934,
          -8.57242488861084,
          -10.089822769165039,
          -9.212689399719238,
          -8.918837547302246,
          -8.613191604614258,
          -8.325113296508789,
          -9.06472396850586,
          -8.500490188598633,
          -14.210383415222168,
          -0.23184069991111755,
          -0.0029407371766865253,
          -0.0007260785205289721,
          -0.0014884117990732193,
          -1.1920928244535389e-07,
          -2.3841855067985307e-07,
          0,
          0,
          0,
          0,
          0,
          0,
          0,
          0,
          0,
          0,
          0,
          0,
          0,
          0,
          0,
          0,
          0,
          0,
          0,
          0,
          0,
          0,
          0,
          0
         ],
         "yaxis": "y"
        },
        {
         "hovertemplate": "Model=IFT_10<br>Layer=%{x}<br>neg_logprob=%{y}<extra></extra>",
         "legendgroup": "IFT_10",
         "line": {
          "color": "#00cc96",
          "dash": "solid"
         },
         "marker": {
          "symbol": "circle"
         },
         "mode": "lines",
         "name": "IFT_10",
         "orientation": "v",
         "showlegend": true,
         "type": "scatter",
         "x": [
          "0_mid",
          "0_post",
          "1_mid",
          "1_post",
          "2_mid",
          "2_post",
          "3_mid",
          "3_post",
          "4_mid",
          "4_post",
          "5_mid",
          "5_post",
          "6_mid",
          "6_post",
          "7_mid",
          "7_post",
          "8_mid",
          "8_post",
          "9_mid",
          "9_post",
          "10_mid",
          "10_post",
          "11_mid",
          "11_post",
          "12_mid",
          "12_post",
          "13_mid",
          "13_post",
          "14_mid",
          "14_post",
          "15_mid",
          "15_post",
          "16_mid",
          "16_post",
          "17_mid",
          "17_post",
          "18_mid",
          "18_post",
          "19_mid",
          "19_post",
          "20_mid",
          "20_post",
          "21_mid",
          "21_post",
          "22_mid",
          "22_post",
          "23_mid",
          "23_post"
         ],
         "xaxis": "x",
         "y": [
          -11.035689353942871,
          -30.25111198425293,
          -32.129241943359375,
          -35.23249816894531,
          -37.459842681884766,
          -29.950193405151367,
          -32.806541442871094,
          -34.242530822753906,
          -35.201698303222656,
          -35.201515197753906,
          -35.05537796020508,
          -32.02808380126953,
          -33.63323974609375,
          -30.719003677368164,
          -38.69456481933594,
          -30.39512825012207,
          -25.29366683959961,
          -32.04374313354492,
          -30.26682472229004,
          -32.775726318359375,
          -33.0006217956543,
          -23.524274826049805,
          -31.420236587524414,
          -26.259727478027344,
          -28.45970344543457,
          -31.29166030883789,
          -25.498268127441406,
          -35.78066635131836,
          -42.70612716674805,
          -58.377872467041016,
          -61.414390563964844,
          -68.88862609863281,
          -71.83880615234375,
          -80.75074768066406,
          -82.44060516357422,
          -95.48296356201172,
          -90.38289642333984,
          -108.5048828125,
          -108.12802124023438,
          -132.5838623046875,
          -144.89727783203125,
          -189.1605682373047,
          -197.3762664794922,
          -213.74131774902344,
          -234.90664672851562,
          -267.89703369140625,
          -295.53631591796875,
          -306.5538330078125
         ],
         "yaxis": "y"
        },
        {
         "hovertemplate": "Model=GPT2_10<br>Layer=%{x}<br>neg_logprob=%{y}<extra></extra>",
         "legendgroup": "GPT2_10",
         "line": {
          "color": "#ab63fa",
          "dash": "solid"
         },
         "marker": {
          "symbol": "circle"
         },
         "mode": "lines",
         "name": "GPT2_10",
         "orientation": "v",
         "showlegend": true,
         "type": "scatter",
         "x": [
          "0_mid",
          "0_post",
          "1_mid",
          "1_post",
          "2_mid",
          "2_post",
          "3_mid",
          "3_post",
          "4_mid",
          "4_post",
          "5_mid",
          "5_post",
          "6_mid",
          "6_post",
          "7_mid",
          "7_post",
          "8_mid",
          "8_post",
          "9_mid",
          "9_post",
          "10_mid",
          "10_post",
          "11_mid",
          "11_post",
          "12_mid",
          "12_post",
          "13_mid",
          "13_post",
          "14_mid",
          "14_post",
          "15_mid",
          "15_post",
          "16_mid",
          "16_post",
          "17_mid",
          "17_post",
          "18_mid",
          "18_post",
          "19_mid",
          "19_post",
          "20_mid",
          "20_post",
          "21_mid",
          "21_post",
          "22_mid",
          "22_post",
          "23_mid",
          "23_post"
         ],
         "xaxis": "x",
         "y": [
          -11.048553466796875,
          -27.95860481262207,
          -29.067317962646484,
          -31.26133155822754,
          -33.64101791381836,
          -31.095638275146484,
          -33.51869201660156,
          -37.23094940185547,
          -38.55043029785156,
          -38.829200744628906,
          -38.91205596923828,
          -37.71874237060547,
          -36.77117156982422,
          -39.54814910888672,
          -45.09314727783203,
          -35.80292892456055,
          -32.17097473144531,
          -38.664207458496094,
          -61.4027099609375,
          -59.83445358276367,
          -61.08498764038086,
          -56.67388153076172,
          -70.63003540039062,
          -59.05529022216797,
          -65.53697204589844,
          -62.73600769042969,
          -91.82600402832031,
          -98.18568420410156,
          -138.86376953125,
          -142.3639373779297,
          -157.34776306152344,
          -166.18447875976562,
          -192.0259552001953,
          -192.72085571289062,
          -225.4944610595703,
          -241.9351806640625,
          -253.89491271972656,
          -232.52059936523438,
          -255.73146057128906,
          -245.22842407226562,
          -278.61981201171875,
          -252.27423095703125,
          -282.68255615234375,
          -237.18173217773438,
          -234.466796875,
          -218.59527587890625,
          -217.87222290039062,
          -211.57028198242188
         ],
         "yaxis": "y"
        },
        {
         "hovertemplate": "Model=IFT_100<br>Layer=%{x}<br>neg_logprob=%{y}<extra></extra>",
         "legendgroup": "IFT_100",
         "line": {
          "color": "#FFA15A",
          "dash": "solid"
         },
         "marker": {
          "symbol": "circle"
         },
         "mode": "lines",
         "name": "IFT_100",
         "orientation": "v",
         "showlegend": true,
         "type": "scatter",
         "x": [
          "0_mid",
          "0_post",
          "1_mid",
          "1_post",
          "2_mid",
          "2_post",
          "3_mid",
          "3_post",
          "4_mid",
          "4_post",
          "5_mid",
          "5_post",
          "6_mid",
          "6_post",
          "7_mid",
          "7_post",
          "8_mid",
          "8_post",
          "9_mid",
          "9_post",
          "10_mid",
          "10_post",
          "11_mid",
          "11_post",
          "12_mid",
          "12_post",
          "13_mid",
          "13_post",
          "14_mid",
          "14_post",
          "15_mid",
          "15_post",
          "16_mid",
          "16_post",
          "17_mid",
          "17_post",
          "18_mid",
          "18_post",
          "19_mid",
          "19_post",
          "20_mid",
          "20_post",
          "21_mid",
          "21_post",
          "22_mid",
          "22_post",
          "23_mid",
          "23_post",
          "0_mid",
          "0_post",
          "1_mid",
          "1_post",
          "2_mid",
          "2_post",
          "3_mid",
          "3_post",
          "4_mid",
          "4_post",
          "5_mid",
          "5_post",
          "6_mid",
          "6_post",
          "7_mid",
          "7_post",
          "8_mid",
          "8_post",
          "9_mid",
          "9_post",
          "10_mid",
          "10_post",
          "11_mid",
          "11_post",
          "12_mid",
          "12_post",
          "13_mid",
          "13_post",
          "14_mid",
          "14_post",
          "15_mid",
          "15_post",
          "16_mid",
          "16_post",
          "17_mid",
          "17_post",
          "18_mid",
          "18_post",
          "19_mid",
          "19_post",
          "20_mid",
          "20_post",
          "21_mid",
          "21_post",
          "22_mid",
          "22_post",
          "23_mid",
          "23_post"
         ],
         "xaxis": "x",
         "y": [
          -10.233287811279297,
          -13.26741886138916,
          -14.308938026428223,
          -13.501279830932617,
          -14.166254997253418,
          -11.38057804107666,
          -10.940953254699707,
          -11.066838264465332,
          -16.10993003845215,
          -16.847015380859375,
          -17.902027130126953,
          -19.911102294921875,
          -17.815818786621094,
          -14.306282997131348,
          -22.938220977783203,
          -24.906152725219727,
          -24.433780670166016,
          -26.190622329711914,
          -29.21601676940918,
          -33.18463897705078,
          -33.30746841430664,
          -28.624906539916992,
          -32.25465393066406,
          -26.974063873291016,
          -29.928133010864258,
          -30.731815338134766,
          -33.57249450683594,
          -37.71226119995117,
          -42.58955001831055,
          -50.4367561340332,
          -54.722503662109375,
          -54.896175384521484,
          -58.36039733886719,
          -61.809059143066406,
          -68.89192962646484,
          -69.13679504394531,
          -75.55223846435547,
          -80.09349822998047,
          -84.98360443115234,
          -93.4617919921875,
          -109.40922546386719,
          -135.556640625,
          -143.5750732421875,
          -136.88323974609375,
          -145.17047119140625,
          -148.27117919921875,
          -165.26593017578125,
          -156.7271728515625,
          -10.233287811279297,
          -13.26741886138916,
          -14.308938026428223,
          -13.501279830932617,
          -14.166254997253418,
          -11.38057804107666,
          -10.940953254699707,
          -11.066838264465332,
          -16.10993003845215,
          -16.847015380859375,
          -17.902027130126953,
          -19.911102294921875,
          -17.815818786621094,
          -14.306282997131348,
          -22.938220977783203,
          -24.906152725219727,
          -24.433780670166016,
          -26.190622329711914,
          -29.21601676940918,
          -33.18463897705078,
          -33.30746841430664,
          -28.624906539916992,
          -32.25465393066406,
          -26.974063873291016,
          -29.928133010864258,
          -30.731815338134766,
          -33.57249450683594,
          -37.71226119995117,
          -42.58955001831055,
          -50.4367561340332,
          -54.722503662109375,
          -54.896175384521484,
          -58.36039733886719,
          -61.809059143066406,
          -68.89192962646484,
          -69.13679504394531,
          -75.55223846435547,
          -80.09349822998047,
          -84.98360443115234,
          -93.4617919921875,
          -109.40922546386719,
          -135.556640625,
          -143.5750732421875,
          -136.88323974609375,
          -145.17047119140625,
          -148.27117919921875,
          -165.26593017578125,
          -156.7271728515625
         ],
         "yaxis": "y"
        },
        {
         "hovertemplate": "Model=GPT2_100<br>Layer=%{x}<br>neg_logprob=%{y}<extra></extra>",
         "legendgroup": "GPT2_100",
         "line": {
          "color": "#19d3f3",
          "dash": "solid"
         },
         "marker": {
          "symbol": "circle"
         },
         "mode": "lines",
         "name": "GPT2_100",
         "orientation": "v",
         "showlegend": true,
         "type": "scatter",
         "x": [
          "0_mid",
          "0_post",
          "1_mid",
          "1_post",
          "2_mid",
          "2_post",
          "3_mid",
          "3_post",
          "4_mid",
          "4_post",
          "5_mid",
          "5_post",
          "6_mid",
          "6_post",
          "7_mid",
          "7_post",
          "8_mid",
          "8_post",
          "9_mid",
          "9_post",
          "10_mid",
          "10_post",
          "11_mid",
          "11_post",
          "12_mid",
          "12_post",
          "13_mid",
          "13_post",
          "14_mid",
          "14_post",
          "15_mid",
          "15_post",
          "16_mid",
          "16_post",
          "17_mid",
          "17_post",
          "18_mid",
          "18_post",
          "19_mid",
          "19_post",
          "20_mid",
          "20_post",
          "21_mid",
          "21_post",
          "22_mid",
          "22_post",
          "23_mid",
          "23_post",
          "0_mid",
          "0_post",
          "1_mid",
          "1_post",
          "2_mid",
          "2_post",
          "3_mid",
          "3_post",
          "4_mid",
          "4_post",
          "5_mid",
          "5_post",
          "6_mid",
          "6_post",
          "7_mid",
          "7_post",
          "8_mid",
          "8_post",
          "9_mid",
          "9_post",
          "10_mid",
          "10_post",
          "11_mid",
          "11_post",
          "12_mid",
          "12_post",
          "13_mid",
          "13_post",
          "14_mid",
          "14_post",
          "15_mid",
          "15_post",
          "16_mid",
          "16_post",
          "17_mid",
          "17_post",
          "18_mid",
          "18_post",
          "19_mid",
          "19_post",
          "20_mid",
          "20_post",
          "21_mid",
          "21_post",
          "22_mid",
          "22_post",
          "23_mid",
          "23_post"
         ],
         "xaxis": "x",
         "y": [
          -10.219934463500977,
          -12.212503433227539,
          -13.557607650756836,
          -13.234054565429688,
          -14.06701374053955,
          -11.721169471740723,
          -11.342863082885742,
          -12.892016410827637,
          -17.22434425354004,
          -18.71495246887207,
          -20.738500595092773,
          -18.444133758544922,
          -19.29998207092285,
          -19.75760841369629,
          -23.629789352416992,
          -22.862987518310547,
          -23.46156883239746,
          -23.985225677490234,
          -42.07926940917969,
          -43.91287612915039,
          -47.04442596435547,
          -44.0118408203125,
          -53.43275451660156,
          -46.29583740234375,
          -55.82928466796875,
          -59.583526611328125,
          -93.38764953613281,
          -89.93463134765625,
          -125.7147216796875,
          -123.49431610107422,
          -140.7769317626953,
          -155.3812713623047,
          -180.11680603027344,
          -184.7735595703125,
          -218.1751708984375,
          -230.38125610351562,
          -252.36965942382812,
          -241.12013244628906,
          -269.7607116699219,
          -258.80255126953125,
          -300.3271484375,
          -277.51483154296875,
          -310.5245361328125,
          -271.4464416503906,
          -273.40118408203125,
          -270.10821533203125,
          -277.94720458984375,
          -273.31317138671875,
          -10.219934463500977,
          -12.212503433227539,
          -13.557607650756836,
          -13.234054565429688,
          -14.06701374053955,
          -11.721169471740723,
          -11.342863082885742,
          -12.892016410827637,
          -17.22434425354004,
          -18.71495246887207,
          -20.738500595092773,
          -18.444133758544922,
          -19.29998207092285,
          -19.75760841369629,
          -23.629789352416992,
          -22.862987518310547,
          -23.46156883239746,
          -23.985225677490234,
          -42.07926940917969,
          -43.91287612915039,
          -47.04442596435547,
          -44.0118408203125,
          -53.43275451660156,
          -46.29583740234375,
          -55.82928466796875,
          -59.583526611328125,
          -93.38764953613281,
          -89.93463134765625,
          -125.7147216796875,
          -123.49431610107422,
          -140.7769317626953,
          -155.3812713623047,
          -180.11680603027344,
          -184.7735595703125,
          -218.1751708984375,
          -230.38125610351562,
          -252.36965942382812,
          -241.12013244628906,
          -269.7607116699219,
          -258.80255126953125,
          -300.3271484375,
          -277.51483154296875,
          -310.5245361328125,
          -271.4464416503906,
          -273.40118408203125,
          -270.10821533203125,
          -277.94720458984375,
          -273.31317138671875
         ],
         "yaxis": "y"
        },
        {
         "hovertemplate": "Model=IFT_10000<br>Layer=%{x}<br>neg_logprob=%{y}<extra></extra>",
         "legendgroup": "IFT_10000",
         "line": {
          "color": "#FF6692",
          "dash": "solid"
         },
         "marker": {
          "symbol": "circle"
         },
         "mode": "lines",
         "name": "IFT_10000",
         "orientation": "v",
         "showlegend": true,
         "type": "scatter",
         "x": [
          "0_mid",
          "0_post",
          "1_mid",
          "1_post",
          "2_mid",
          "2_post",
          "3_mid",
          "3_post",
          "4_mid",
          "4_post",
          "5_mid",
          "5_post",
          "6_mid",
          "6_post",
          "7_mid",
          "7_post",
          "8_mid",
          "8_post",
          "9_mid",
          "9_post",
          "10_mid",
          "10_post",
          "11_mid",
          "11_post",
          "12_mid",
          "12_post",
          "13_mid",
          "13_post",
          "14_mid",
          "14_post",
          "15_mid",
          "15_post",
          "16_mid",
          "16_post",
          "17_mid",
          "17_post",
          "18_mid",
          "18_post",
          "19_mid",
          "19_post",
          "20_mid",
          "20_post",
          "21_mid",
          "21_post",
          "22_mid",
          "22_post",
          "23_mid",
          "23_post"
         ],
         "xaxis": "x",
         "y": [
          -10.486393928527832,
          -32.90309524536133,
          -33.58885955810547,
          -33.825096130371094,
          -33.70661544799805,
          -31.083457946777344,
          -29.5872802734375,
          -29.32424545288086,
          -27.15819549560547,
          -32.76470947265625,
          -29.458372116088867,
          -33.676490783691406,
          -34.084712982177734,
          -39.40591049194336,
          -40.604434967041016,
          -44.50325012207031,
          -45.17170333862305,
          -45.67688751220703,
          -49.872764587402344,
          -49.797821044921875,
          -56.39265060424805,
          -46.17756271362305,
          -54.092411041259766,
          -65.49127960205078,
          -69.91858673095703,
          -83.8471908569336,
          -84.0417709350586,
          -102.31018829345703,
          -103.7940673828125,
          -130.0471954345703,
          -128.69613647460938,
          -139.32138061523438,
          -145.837646484375,
          -158.43894958496094,
          -156.98294067382812,
          -172.5554656982422,
          -180.22409057617188,
          -217.2471160888672,
          -223.1524658203125,
          -251.77989196777344,
          -268.7972106933594,
          -334.81781005859375,
          -341.7503356933594,
          -382.29931640625,
          -401.16680908203125,
          -454.4974060058594,
          -483.0183410644531,
          -516.9417724609375
         ],
         "yaxis": "y"
        },
        {
         "hovertemplate": "Model=GPT2_10000<br>Layer=%{x}<br>neg_logprob=%{y}<extra></extra>",
         "legendgroup": "GPT2_10000",
         "line": {
          "color": "#B6E880",
          "dash": "solid"
         },
         "marker": {
          "symbol": "circle"
         },
         "mode": "lines",
         "name": "GPT2_10000",
         "orientation": "v",
         "showlegend": true,
         "type": "scatter",
         "x": [
          "0_mid",
          "0_post",
          "1_mid",
          "1_post",
          "2_mid",
          "2_post",
          "3_mid",
          "3_post",
          "4_mid",
          "4_post",
          "5_mid",
          "5_post",
          "6_mid",
          "6_post",
          "7_mid",
          "7_post",
          "8_mid",
          "8_post",
          "9_mid",
          "9_post",
          "10_mid",
          "10_post",
          "11_mid",
          "11_post",
          "12_mid",
          "12_post",
          "13_mid",
          "13_post",
          "14_mid",
          "14_post",
          "15_mid",
          "15_post",
          "16_mid",
          "16_post",
          "17_mid",
          "17_post",
          "18_mid",
          "18_post",
          "19_mid",
          "19_post",
          "20_mid",
          "20_post",
          "21_mid",
          "21_post",
          "22_mid",
          "22_post",
          "23_mid",
          "23_post"
         ],
         "xaxis": "x",
         "y": [
          -10.53918170928955,
          -31.774198532104492,
          -32.795921325683594,
          -32.96152877807617,
          -33.350372314453125,
          -31.842636108398438,
          -30.85078239440918,
          -30.877704620361328,
          -28.89942169189453,
          -37.221065521240234,
          -36.12451934814453,
          -38.43305969238281,
          -40.53473663330078,
          -49.27334976196289,
          -51.66080856323242,
          -53.55743408203125,
          -56.386653900146484,
          -55.9147834777832,
          -72.34278869628906,
          -74.60315704345703,
          -81.53965759277344,
          -81.44852447509766,
          -93.76830291748047,
          -91.94648742675781,
          -98.29872131347656,
          -106.6816177368164,
          -143.43423461914062,
          -159.9521484375,
          -201.52310180664062,
          -217.57089233398438,
          -233.61700439453125,
          -246.50088500976562,
          -275.2010192871094,
          -271.84759521484375,
          -308.8681335449219,
          -342.6165466308594,
          -372.0415344238281,
          -396.7878112792969,
          -435.485595703125,
          -440.4531555175781,
          -495.1798095703125,
          -496.67059326171875,
          -531.1585083007812,
          -521.9172973632812,
          -526.5759887695312,
          -546.5501098632812,
          -563.6914672851562,
          -551.3218994140625
         ],
         "yaxis": "y"
        }
       ],
       "layout": {
        "legend": {
         "title": {
          "text": "Model"
         },
         "tracegroupgap": 0
        },
        "margin": {
         "t": 60
        },
        "template": {
         "data": {
          "bar": [
           {
            "error_x": {
             "color": "#2a3f5f"
            },
            "error_y": {
             "color": "#2a3f5f"
            },
            "marker": {
             "line": {
              "color": "#E5ECF6",
              "width": 0.5
             },
             "pattern": {
              "fillmode": "overlay",
              "size": 10,
              "solidity": 0.2
             }
            },
            "type": "bar"
           }
          ],
          "barpolar": [
           {
            "marker": {
             "line": {
              "color": "#E5ECF6",
              "width": 0.5
             },
             "pattern": {
              "fillmode": "overlay",
              "size": 10,
              "solidity": 0.2
             }
            },
            "type": "barpolar"
           }
          ],
          "carpet": [
           {
            "aaxis": {
             "endlinecolor": "#2a3f5f",
             "gridcolor": "white",
             "linecolor": "white",
             "minorgridcolor": "white",
             "startlinecolor": "#2a3f5f"
            },
            "baxis": {
             "endlinecolor": "#2a3f5f",
             "gridcolor": "white",
             "linecolor": "white",
             "minorgridcolor": "white",
             "startlinecolor": "#2a3f5f"
            },
            "type": "carpet"
           }
          ],
          "choropleth": [
           {
            "colorbar": {
             "outlinewidth": 0,
             "ticks": ""
            },
            "type": "choropleth"
           }
          ],
          "contour": [
           {
            "colorbar": {
             "outlinewidth": 0,
             "ticks": ""
            },
            "colorscale": [
             [
              0,
              "#0d0887"
             ],
             [
              0.1111111111111111,
              "#46039f"
             ],
             [
              0.2222222222222222,
              "#7201a8"
             ],
             [
              0.3333333333333333,
              "#9c179e"
             ],
             [
              0.4444444444444444,
              "#bd3786"
             ],
             [
              0.5555555555555556,
              "#d8576b"
             ],
             [
              0.6666666666666666,
              "#ed7953"
             ],
             [
              0.7777777777777778,
              "#fb9f3a"
             ],
             [
              0.8888888888888888,
              "#fdca26"
             ],
             [
              1,
              "#f0f921"
             ]
            ],
            "type": "contour"
           }
          ],
          "contourcarpet": [
           {
            "colorbar": {
             "outlinewidth": 0,
             "ticks": ""
            },
            "type": "contourcarpet"
           }
          ],
          "heatmap": [
           {
            "colorbar": {
             "outlinewidth": 0,
             "ticks": ""
            },
            "colorscale": [
             [
              0,
              "#0d0887"
             ],
             [
              0.1111111111111111,
              "#46039f"
             ],
             [
              0.2222222222222222,
              "#7201a8"
             ],
             [
              0.3333333333333333,
              "#9c179e"
             ],
             [
              0.4444444444444444,
              "#bd3786"
             ],
             [
              0.5555555555555556,
              "#d8576b"
             ],
             [
              0.6666666666666666,
              "#ed7953"
             ],
             [
              0.7777777777777778,
              "#fb9f3a"
             ],
             [
              0.8888888888888888,
              "#fdca26"
             ],
             [
              1,
              "#f0f921"
             ]
            ],
            "type": "heatmap"
           }
          ],
          "heatmapgl": [
           {
            "colorbar": {
             "outlinewidth": 0,
             "ticks": ""
            },
            "colorscale": [
             [
              0,
              "#0d0887"
             ],
             [
              0.1111111111111111,
              "#46039f"
             ],
             [
              0.2222222222222222,
              "#7201a8"
             ],
             [
              0.3333333333333333,
              "#9c179e"
             ],
             [
              0.4444444444444444,
              "#bd3786"
             ],
             [
              0.5555555555555556,
              "#d8576b"
             ],
             [
              0.6666666666666666,
              "#ed7953"
             ],
             [
              0.7777777777777778,
              "#fb9f3a"
             ],
             [
              0.8888888888888888,
              "#fdca26"
             ],
             [
              1,
              "#f0f921"
             ]
            ],
            "type": "heatmapgl"
           }
          ],
          "histogram": [
           {
            "marker": {
             "pattern": {
              "fillmode": "overlay",
              "size": 10,
              "solidity": 0.2
             }
            },
            "type": "histogram"
           }
          ],
          "histogram2d": [
           {
            "colorbar": {
             "outlinewidth": 0,
             "ticks": ""
            },
            "colorscale": [
             [
              0,
              "#0d0887"
             ],
             [
              0.1111111111111111,
              "#46039f"
             ],
             [
              0.2222222222222222,
              "#7201a8"
             ],
             [
              0.3333333333333333,
              "#9c179e"
             ],
             [
              0.4444444444444444,
              "#bd3786"
             ],
             [
              0.5555555555555556,
              "#d8576b"
             ],
             [
              0.6666666666666666,
              "#ed7953"
             ],
             [
              0.7777777777777778,
              "#fb9f3a"
             ],
             [
              0.8888888888888888,
              "#fdca26"
             ],
             [
              1,
              "#f0f921"
             ]
            ],
            "type": "histogram2d"
           }
          ],
          "histogram2dcontour": [
           {
            "colorbar": {
             "outlinewidth": 0,
             "ticks": ""
            },
            "colorscale": [
             [
              0,
              "#0d0887"
             ],
             [
              0.1111111111111111,
              "#46039f"
             ],
             [
              0.2222222222222222,
              "#7201a8"
             ],
             [
              0.3333333333333333,
              "#9c179e"
             ],
             [
              0.4444444444444444,
              "#bd3786"
             ],
             [
              0.5555555555555556,
              "#d8576b"
             ],
             [
              0.6666666666666666,
              "#ed7953"
             ],
             [
              0.7777777777777778,
              "#fb9f3a"
             ],
             [
              0.8888888888888888,
              "#fdca26"
             ],
             [
              1,
              "#f0f921"
             ]
            ],
            "type": "histogram2dcontour"
           }
          ],
          "mesh3d": [
           {
            "colorbar": {
             "outlinewidth": 0,
             "ticks": ""
            },
            "type": "mesh3d"
           }
          ],
          "parcoords": [
           {
            "line": {
             "colorbar": {
              "outlinewidth": 0,
              "ticks": ""
             }
            },
            "type": "parcoords"
           }
          ],
          "pie": [
           {
            "automargin": true,
            "type": "pie"
           }
          ],
          "scatter": [
           {
            "fillpattern": {
             "fillmode": "overlay",
             "size": 10,
             "solidity": 0.2
            },
            "type": "scatter"
           }
          ],
          "scatter3d": [
           {
            "line": {
             "colorbar": {
              "outlinewidth": 0,
              "ticks": ""
             }
            },
            "marker": {
             "colorbar": {
              "outlinewidth": 0,
              "ticks": ""
             }
            },
            "type": "scatter3d"
           }
          ],
          "scattercarpet": [
           {
            "marker": {
             "colorbar": {
              "outlinewidth": 0,
              "ticks": ""
             }
            },
            "type": "scattercarpet"
           }
          ],
          "scattergeo": [
           {
            "marker": {
             "colorbar": {
              "outlinewidth": 0,
              "ticks": ""
             }
            },
            "type": "scattergeo"
           }
          ],
          "scattergl": [
           {
            "marker": {
             "colorbar": {
              "outlinewidth": 0,
              "ticks": ""
             }
            },
            "type": "scattergl"
           }
          ],
          "scattermapbox": [
           {
            "marker": {
             "colorbar": {
              "outlinewidth": 0,
              "ticks": ""
             }
            },
            "type": "scattermapbox"
           }
          ],
          "scatterpolar": [
           {
            "marker": {
             "colorbar": {
              "outlinewidth": 0,
              "ticks": ""
             }
            },
            "type": "scatterpolar"
           }
          ],
          "scatterpolargl": [
           {
            "marker": {
             "colorbar": {
              "outlinewidth": 0,
              "ticks": ""
             }
            },
            "type": "scatterpolargl"
           }
          ],
          "scatterternary": [
           {
            "marker": {
             "colorbar": {
              "outlinewidth": 0,
              "ticks": ""
             }
            },
            "type": "scatterternary"
           }
          ],
          "surface": [
           {
            "colorbar": {
             "outlinewidth": 0,
             "ticks": ""
            },
            "colorscale": [
             [
              0,
              "#0d0887"
             ],
             [
              0.1111111111111111,
              "#46039f"
             ],
             [
              0.2222222222222222,
              "#7201a8"
             ],
             [
              0.3333333333333333,
              "#9c179e"
             ],
             [
              0.4444444444444444,
              "#bd3786"
             ],
             [
              0.5555555555555556,
              "#d8576b"
             ],
             [
              0.6666666666666666,
              "#ed7953"
             ],
             [
              0.7777777777777778,
              "#fb9f3a"
             ],
             [
              0.8888888888888888,
              "#fdca26"
             ],
             [
              1,
              "#f0f921"
             ]
            ],
            "type": "surface"
           }
          ],
          "table": [
           {
            "cells": {
             "fill": {
              "color": "#EBF0F8"
             },
             "line": {
              "color": "white"
             }
            },
            "header": {
             "fill": {
              "color": "#C8D4E3"
             },
             "line": {
              "color": "white"
             }
            },
            "type": "table"
           }
          ]
         },
         "layout": {
          "annotationdefaults": {
           "arrowcolor": "#2a3f5f",
           "arrowhead": 0,
           "arrowwidth": 1
          },
          "autotypenumbers": "strict",
          "coloraxis": {
           "colorbar": {
            "outlinewidth": 0,
            "ticks": ""
           }
          },
          "colorscale": {
           "diverging": [
            [
             0,
             "#8e0152"
            ],
            [
             0.1,
             "#c51b7d"
            ],
            [
             0.2,
             "#de77ae"
            ],
            [
             0.3,
             "#f1b6da"
            ],
            [
             0.4,
             "#fde0ef"
            ],
            [
             0.5,
             "#f7f7f7"
            ],
            [
             0.6,
             "#e6f5d0"
            ],
            [
             0.7,
             "#b8e186"
            ],
            [
             0.8,
             "#7fbc41"
            ],
            [
             0.9,
             "#4d9221"
            ],
            [
             1,
             "#276419"
            ]
           ],
           "sequential": [
            [
             0,
             "#0d0887"
            ],
            [
             0.1111111111111111,
             "#46039f"
            ],
            [
             0.2222222222222222,
             "#7201a8"
            ],
            [
             0.3333333333333333,
             "#9c179e"
            ],
            [
             0.4444444444444444,
             "#bd3786"
            ],
            [
             0.5555555555555556,
             "#d8576b"
            ],
            [
             0.6666666666666666,
             "#ed7953"
            ],
            [
             0.7777777777777778,
             "#fb9f3a"
            ],
            [
             0.8888888888888888,
             "#fdca26"
            ],
            [
             1,
             "#f0f921"
            ]
           ],
           "sequentialminus": [
            [
             0,
             "#0d0887"
            ],
            [
             0.1111111111111111,
             "#46039f"
            ],
            [
             0.2222222222222222,
             "#7201a8"
            ],
            [
             0.3333333333333333,
             "#9c179e"
            ],
            [
             0.4444444444444444,
             "#bd3786"
            ],
            [
             0.5555555555555556,
             "#d8576b"
            ],
            [
             0.6666666666666666,
             "#ed7953"
            ],
            [
             0.7777777777777778,
             "#fb9f3a"
            ],
            [
             0.8888888888888888,
             "#fdca26"
            ],
            [
             1,
             "#f0f921"
            ]
           ]
          },
          "colorway": [
           "#636efa",
           "#EF553B",
           "#00cc96",
           "#ab63fa",
           "#FFA15A",
           "#19d3f3",
           "#FF6692",
           "#B6E880",
           "#FF97FF",
           "#FECB52"
          ],
          "font": {
           "color": "#2a3f5f"
          },
          "geo": {
           "bgcolor": "white",
           "lakecolor": "white",
           "landcolor": "#E5ECF6",
           "showlakes": true,
           "showland": true,
           "subunitcolor": "white"
          },
          "hoverlabel": {
           "align": "left"
          },
          "hovermode": "closest",
          "mapbox": {
           "style": "light"
          },
          "paper_bgcolor": "white",
          "plot_bgcolor": "#E5ECF6",
          "polar": {
           "angularaxis": {
            "gridcolor": "white",
            "linecolor": "white",
            "ticks": ""
           },
           "bgcolor": "#E5ECF6",
           "radialaxis": {
            "gridcolor": "white",
            "linecolor": "white",
            "ticks": ""
           }
          },
          "scene": {
           "xaxis": {
            "backgroundcolor": "#E5ECF6",
            "gridcolor": "white",
            "gridwidth": 2,
            "linecolor": "white",
            "showbackground": true,
            "ticks": "",
            "zerolinecolor": "white"
           },
           "yaxis": {
            "backgroundcolor": "#E5ECF6",
            "gridcolor": "white",
            "gridwidth": 2,
            "linecolor": "white",
            "showbackground": true,
            "ticks": "",
            "zerolinecolor": "white"
           },
           "zaxis": {
            "backgroundcolor": "#E5ECF6",
            "gridcolor": "white",
            "gridwidth": 2,
            "linecolor": "white",
            "showbackground": true,
            "ticks": "",
            "zerolinecolor": "white"
           }
          },
          "shapedefaults": {
           "line": {
            "color": "#2a3f5f"
           }
          },
          "ternary": {
           "aaxis": {
            "gridcolor": "white",
            "linecolor": "white",
            "ticks": ""
           },
           "baxis": {
            "gridcolor": "white",
            "linecolor": "white",
            "ticks": ""
           },
           "bgcolor": "#E5ECF6",
           "caxis": {
            "gridcolor": "white",
            "linecolor": "white",
            "ticks": ""
           }
          },
          "title": {
           "x": 0.05
          },
          "xaxis": {
           "automargin": true,
           "gridcolor": "white",
           "linecolor": "white",
           "ticks": "",
           "title": {
            "standoff": 15
           },
           "zerolinecolor": "white",
           "zerolinewidth": 2
          },
          "yaxis": {
           "automargin": true,
           "gridcolor": "white",
           "linecolor": "white",
           "ticks": "",
           "title": {
            "standoff": 15
           },
           "zerolinecolor": "white",
           "zerolinewidth": 2
          }
         }
        },
        "xaxis": {
         "anchor": "y",
         "domain": [
          0,
          1
         ],
         "title": {
          "text": "Layer"
         }
        },
        "yaxis": {
         "anchor": "x",
         "domain": [
          0,
          1
         ],
         "title": {
          "text": "neg_logprob"
         }
        }
       }
      },
      "text/html": [
       "<div>                            <div id=\"50c8e9a0-6068-4f36-b953-18b8ea752b12\" class=\"plotly-graph-div\" style=\"height:525px; width:100%;\"></div>            <script type=\"text/javascript\">                require([\"plotly\"], function(Plotly) {                    window.PLOTLYENV=window.PLOTLYENV || {};                                    if (document.getElementById(\"50c8e9a0-6068-4f36-b953-18b8ea752b12\")) {                    Plotly.newPlot(                        \"50c8e9a0-6068-4f36-b953-18b8ea752b12\",                        [{\"hovertemplate\":\"Model=IFT\\u003cbr\\u003eLayer=%{x}\\u003cbr\\u003eneg_logprob=%{y}\\u003cextra\\u003e\\u003c\\u002fextra\\u003e\",\"legendgroup\":\"IFT\",\"line\":{\"color\":\"#636efa\",\"dash\":\"solid\"},\"marker\":{\"symbol\":\"circle\"},\"mode\":\"lines\",\"name\":\"IFT\",\"orientation\":\"v\",\"showlegend\":true,\"x\":[\"0_mid\",\"0_post\",\"1_mid\",\"1_post\",\"2_mid\",\"2_post\",\"3_mid\",\"3_post\",\"4_mid\",\"4_post\",\"5_mid\",\"5_post\",\"6_mid\",\"6_post\",\"7_mid\",\"7_post\",\"8_mid\",\"8_post\",\"9_mid\",\"9_post\",\"10_mid\",\"10_post\",\"11_mid\",\"11_post\",\"12_mid\",\"12_post\",\"13_mid\",\"13_post\",\"14_mid\",\"14_post\",\"15_mid\",\"15_post\",\"16_mid\",\"16_post\",\"17_mid\",\"17_post\",\"18_mid\",\"18_post\",\"19_mid\",\"19_post\",\"20_mid\",\"20_post\",\"21_mid\",\"21_post\",\"22_mid\",\"22_post\",\"23_mid\",\"23_post\"],\"xaxis\":\"x\",\"y\":[-10.31999397277832,-16.280071258544922,-14.240143775939941,-11.781946182250977,-11.20174503326416,-8.700005531311035,-7.70792293548584,-8.750536918640137,-9.692249298095703,-8.150392532348633,-9.289140701293945,-10.561334609985352,-12.23802375793457,-10.406655311584473,-12.353838920593262,-14.638772964477539,-9.389920234680176,-16.812768936157227,-2.5500049591064453,-0.3400959074497223,-0.10353349149227142,-0.09124558418989182,-0.0005391574813984334,-0.5017092823982239,-3.98207950592041,-8.506884574890137,-11.767058372497559,-20.329248428344727,-8.022930145263672,-25.01365089416504,-19.68140411376953,-13.138383865356445,-7.275901794433594,-10.748512268066406,-0.9827499389648438,-2.7358286380767822,-3.509064197540283,-8.93795108795166,-7.783746242523193,-31.434722900390625,-30.3525390625,-64.60281372070312,-42.692626953125,-63.16162109375,-66.7073974609375,-64.17294311523438,-39.620849609375,-54.10186767578125],\"yaxis\":\"y\",\"type\":\"scatter\"},{\"hovertemplate\":\"Model=GPT2\\u003cbr\\u003eLayer=%{x}\\u003cbr\\u003eneg_logprob=%{y}\\u003cextra\\u003e\\u003c\\u002fextra\\u003e\",\"legendgroup\":\"GPT2\",\"line\":{\"color\":\"#EF553B\",\"dash\":\"solid\"},\"marker\":{\"symbol\":\"circle\"},\"mode\":\"lines\",\"name\":\"GPT2\",\"orientation\":\"v\",\"showlegend\":true,\"x\":[\"0_mid\",\"0_post\",\"1_mid\",\"1_post\",\"2_mid\",\"2_post\",\"3_mid\",\"3_post\",\"4_mid\",\"4_post\",\"5_mid\",\"5_post\",\"6_mid\",\"6_post\",\"7_mid\",\"7_post\",\"8_mid\",\"8_post\",\"9_mid\",\"9_post\",\"10_mid\",\"10_post\",\"11_mid\",\"11_post\",\"12_mid\",\"12_post\",\"13_mid\",\"13_post\",\"14_mid\",\"14_post\",\"15_mid\",\"15_post\",\"16_mid\",\"16_post\",\"17_mid\",\"17_post\",\"18_mid\",\"18_post\",\"19_mid\",\"19_post\",\"20_mid\",\"20_post\",\"21_mid\",\"21_post\",\"22_mid\",\"22_post\",\"23_mid\",\"23_post\"],\"xaxis\":\"x\",\"y\":[-10.28657054901123,-15.709123611450195,-12.909769058227539,-10.914163589477539,-10.168810844421387,-8.294280052185059,-7.4843902587890625,-10.40868091583252,-8.283751487731934,-8.57242488861084,-10.089822769165039,-9.212689399719238,-8.918837547302246,-8.613191604614258,-8.325113296508789,-9.06472396850586,-8.500490188598633,-14.210383415222168,-0.23184069991111755,-0.0029407371766865253,-0.0007260785205289721,-0.0014884117990732193,-1.1920928244535389e-07,-2.3841855067985307e-07,0.0,0.0,0.0,0.0,0.0,0.0,0.0,0.0,0.0,0.0,0.0,0.0,0.0,0.0,0.0,0.0,0.0,0.0,0.0,0.0,0.0,0.0,0.0,0.0],\"yaxis\":\"y\",\"type\":\"scatter\"},{\"hovertemplate\":\"Model=IFT_10\\u003cbr\\u003eLayer=%{x}\\u003cbr\\u003eneg_logprob=%{y}\\u003cextra\\u003e\\u003c\\u002fextra\\u003e\",\"legendgroup\":\"IFT_10\",\"line\":{\"color\":\"#00cc96\",\"dash\":\"solid\"},\"marker\":{\"symbol\":\"circle\"},\"mode\":\"lines\",\"name\":\"IFT_10\",\"orientation\":\"v\",\"showlegend\":true,\"x\":[\"0_mid\",\"0_post\",\"1_mid\",\"1_post\",\"2_mid\",\"2_post\",\"3_mid\",\"3_post\",\"4_mid\",\"4_post\",\"5_mid\",\"5_post\",\"6_mid\",\"6_post\",\"7_mid\",\"7_post\",\"8_mid\",\"8_post\",\"9_mid\",\"9_post\",\"10_mid\",\"10_post\",\"11_mid\",\"11_post\",\"12_mid\",\"12_post\",\"13_mid\",\"13_post\",\"14_mid\",\"14_post\",\"15_mid\",\"15_post\",\"16_mid\",\"16_post\",\"17_mid\",\"17_post\",\"18_mid\",\"18_post\",\"19_mid\",\"19_post\",\"20_mid\",\"20_post\",\"21_mid\",\"21_post\",\"22_mid\",\"22_post\",\"23_mid\",\"23_post\"],\"xaxis\":\"x\",\"y\":[-11.035689353942871,-30.25111198425293,-32.129241943359375,-35.23249816894531,-37.459842681884766,-29.950193405151367,-32.806541442871094,-34.242530822753906,-35.201698303222656,-35.201515197753906,-35.05537796020508,-32.02808380126953,-33.63323974609375,-30.719003677368164,-38.69456481933594,-30.39512825012207,-25.29366683959961,-32.04374313354492,-30.26682472229004,-32.775726318359375,-33.0006217956543,-23.524274826049805,-31.420236587524414,-26.259727478027344,-28.45970344543457,-31.29166030883789,-25.498268127441406,-35.78066635131836,-42.70612716674805,-58.377872467041016,-61.414390563964844,-68.88862609863281,-71.83880615234375,-80.75074768066406,-82.44060516357422,-95.48296356201172,-90.38289642333984,-108.5048828125,-108.12802124023438,-132.5838623046875,-144.89727783203125,-189.1605682373047,-197.3762664794922,-213.74131774902344,-234.90664672851562,-267.89703369140625,-295.53631591796875,-306.5538330078125],\"yaxis\":\"y\",\"type\":\"scatter\"},{\"hovertemplate\":\"Model=GPT2_10\\u003cbr\\u003eLayer=%{x}\\u003cbr\\u003eneg_logprob=%{y}\\u003cextra\\u003e\\u003c\\u002fextra\\u003e\",\"legendgroup\":\"GPT2_10\",\"line\":{\"color\":\"#ab63fa\",\"dash\":\"solid\"},\"marker\":{\"symbol\":\"circle\"},\"mode\":\"lines\",\"name\":\"GPT2_10\",\"orientation\":\"v\",\"showlegend\":true,\"x\":[\"0_mid\",\"0_post\",\"1_mid\",\"1_post\",\"2_mid\",\"2_post\",\"3_mid\",\"3_post\",\"4_mid\",\"4_post\",\"5_mid\",\"5_post\",\"6_mid\",\"6_post\",\"7_mid\",\"7_post\",\"8_mid\",\"8_post\",\"9_mid\",\"9_post\",\"10_mid\",\"10_post\",\"11_mid\",\"11_post\",\"12_mid\",\"12_post\",\"13_mid\",\"13_post\",\"14_mid\",\"14_post\",\"15_mid\",\"15_post\",\"16_mid\",\"16_post\",\"17_mid\",\"17_post\",\"18_mid\",\"18_post\",\"19_mid\",\"19_post\",\"20_mid\",\"20_post\",\"21_mid\",\"21_post\",\"22_mid\",\"22_post\",\"23_mid\",\"23_post\"],\"xaxis\":\"x\",\"y\":[-11.048553466796875,-27.95860481262207,-29.067317962646484,-31.26133155822754,-33.64101791381836,-31.095638275146484,-33.51869201660156,-37.23094940185547,-38.55043029785156,-38.829200744628906,-38.91205596923828,-37.71874237060547,-36.77117156982422,-39.54814910888672,-45.09314727783203,-35.80292892456055,-32.17097473144531,-38.664207458496094,-61.4027099609375,-59.83445358276367,-61.08498764038086,-56.67388153076172,-70.63003540039062,-59.05529022216797,-65.53697204589844,-62.73600769042969,-91.82600402832031,-98.18568420410156,-138.86376953125,-142.3639373779297,-157.34776306152344,-166.18447875976562,-192.0259552001953,-192.72085571289062,-225.4944610595703,-241.9351806640625,-253.89491271972656,-232.52059936523438,-255.73146057128906,-245.22842407226562,-278.61981201171875,-252.27423095703125,-282.68255615234375,-237.18173217773438,-234.466796875,-218.59527587890625,-217.87222290039062,-211.57028198242188],\"yaxis\":\"y\",\"type\":\"scatter\"},{\"hovertemplate\":\"Model=IFT_100\\u003cbr\\u003eLayer=%{x}\\u003cbr\\u003eneg_logprob=%{y}\\u003cextra\\u003e\\u003c\\u002fextra\\u003e\",\"legendgroup\":\"IFT_100\",\"line\":{\"color\":\"#FFA15A\",\"dash\":\"solid\"},\"marker\":{\"symbol\":\"circle\"},\"mode\":\"lines\",\"name\":\"IFT_100\",\"orientation\":\"v\",\"showlegend\":true,\"x\":[\"0_mid\",\"0_post\",\"1_mid\",\"1_post\",\"2_mid\",\"2_post\",\"3_mid\",\"3_post\",\"4_mid\",\"4_post\",\"5_mid\",\"5_post\",\"6_mid\",\"6_post\",\"7_mid\",\"7_post\",\"8_mid\",\"8_post\",\"9_mid\",\"9_post\",\"10_mid\",\"10_post\",\"11_mid\",\"11_post\",\"12_mid\",\"12_post\",\"13_mid\",\"13_post\",\"14_mid\",\"14_post\",\"15_mid\",\"15_post\",\"16_mid\",\"16_post\",\"17_mid\",\"17_post\",\"18_mid\",\"18_post\",\"19_mid\",\"19_post\",\"20_mid\",\"20_post\",\"21_mid\",\"21_post\",\"22_mid\",\"22_post\",\"23_mid\",\"23_post\",\"0_mid\",\"0_post\",\"1_mid\",\"1_post\",\"2_mid\",\"2_post\",\"3_mid\",\"3_post\",\"4_mid\",\"4_post\",\"5_mid\",\"5_post\",\"6_mid\",\"6_post\",\"7_mid\",\"7_post\",\"8_mid\",\"8_post\",\"9_mid\",\"9_post\",\"10_mid\",\"10_post\",\"11_mid\",\"11_post\",\"12_mid\",\"12_post\",\"13_mid\",\"13_post\",\"14_mid\",\"14_post\",\"15_mid\",\"15_post\",\"16_mid\",\"16_post\",\"17_mid\",\"17_post\",\"18_mid\",\"18_post\",\"19_mid\",\"19_post\",\"20_mid\",\"20_post\",\"21_mid\",\"21_post\",\"22_mid\",\"22_post\",\"23_mid\",\"23_post\"],\"xaxis\":\"x\",\"y\":[-10.233287811279297,-13.26741886138916,-14.308938026428223,-13.501279830932617,-14.166254997253418,-11.38057804107666,-10.940953254699707,-11.066838264465332,-16.10993003845215,-16.847015380859375,-17.902027130126953,-19.911102294921875,-17.815818786621094,-14.306282997131348,-22.938220977783203,-24.906152725219727,-24.433780670166016,-26.190622329711914,-29.21601676940918,-33.18463897705078,-33.30746841430664,-28.624906539916992,-32.25465393066406,-26.974063873291016,-29.928133010864258,-30.731815338134766,-33.57249450683594,-37.71226119995117,-42.58955001831055,-50.4367561340332,-54.722503662109375,-54.896175384521484,-58.36039733886719,-61.809059143066406,-68.89192962646484,-69.13679504394531,-75.55223846435547,-80.09349822998047,-84.98360443115234,-93.4617919921875,-109.40922546386719,-135.556640625,-143.5750732421875,-136.88323974609375,-145.17047119140625,-148.27117919921875,-165.26593017578125,-156.7271728515625,-10.233287811279297,-13.26741886138916,-14.308938026428223,-13.501279830932617,-14.166254997253418,-11.38057804107666,-10.940953254699707,-11.066838264465332,-16.10993003845215,-16.847015380859375,-17.902027130126953,-19.911102294921875,-17.815818786621094,-14.306282997131348,-22.938220977783203,-24.906152725219727,-24.433780670166016,-26.190622329711914,-29.21601676940918,-33.18463897705078,-33.30746841430664,-28.624906539916992,-32.25465393066406,-26.974063873291016,-29.928133010864258,-30.731815338134766,-33.57249450683594,-37.71226119995117,-42.58955001831055,-50.4367561340332,-54.722503662109375,-54.896175384521484,-58.36039733886719,-61.809059143066406,-68.89192962646484,-69.13679504394531,-75.55223846435547,-80.09349822998047,-84.98360443115234,-93.4617919921875,-109.40922546386719,-135.556640625,-143.5750732421875,-136.88323974609375,-145.17047119140625,-148.27117919921875,-165.26593017578125,-156.7271728515625],\"yaxis\":\"y\",\"type\":\"scatter\"},{\"hovertemplate\":\"Model=GPT2_100\\u003cbr\\u003eLayer=%{x}\\u003cbr\\u003eneg_logprob=%{y}\\u003cextra\\u003e\\u003c\\u002fextra\\u003e\",\"legendgroup\":\"GPT2_100\",\"line\":{\"color\":\"#19d3f3\",\"dash\":\"solid\"},\"marker\":{\"symbol\":\"circle\"},\"mode\":\"lines\",\"name\":\"GPT2_100\",\"orientation\":\"v\",\"showlegend\":true,\"x\":[\"0_mid\",\"0_post\",\"1_mid\",\"1_post\",\"2_mid\",\"2_post\",\"3_mid\",\"3_post\",\"4_mid\",\"4_post\",\"5_mid\",\"5_post\",\"6_mid\",\"6_post\",\"7_mid\",\"7_post\",\"8_mid\",\"8_post\",\"9_mid\",\"9_post\",\"10_mid\",\"10_post\",\"11_mid\",\"11_post\",\"12_mid\",\"12_post\",\"13_mid\",\"13_post\",\"14_mid\",\"14_post\",\"15_mid\",\"15_post\",\"16_mid\",\"16_post\",\"17_mid\",\"17_post\",\"18_mid\",\"18_post\",\"19_mid\",\"19_post\",\"20_mid\",\"20_post\",\"21_mid\",\"21_post\",\"22_mid\",\"22_post\",\"23_mid\",\"23_post\",\"0_mid\",\"0_post\",\"1_mid\",\"1_post\",\"2_mid\",\"2_post\",\"3_mid\",\"3_post\",\"4_mid\",\"4_post\",\"5_mid\",\"5_post\",\"6_mid\",\"6_post\",\"7_mid\",\"7_post\",\"8_mid\",\"8_post\",\"9_mid\",\"9_post\",\"10_mid\",\"10_post\",\"11_mid\",\"11_post\",\"12_mid\",\"12_post\",\"13_mid\",\"13_post\",\"14_mid\",\"14_post\",\"15_mid\",\"15_post\",\"16_mid\",\"16_post\",\"17_mid\",\"17_post\",\"18_mid\",\"18_post\",\"19_mid\",\"19_post\",\"20_mid\",\"20_post\",\"21_mid\",\"21_post\",\"22_mid\",\"22_post\",\"23_mid\",\"23_post\"],\"xaxis\":\"x\",\"y\":[-10.219934463500977,-12.212503433227539,-13.557607650756836,-13.234054565429688,-14.06701374053955,-11.721169471740723,-11.342863082885742,-12.892016410827637,-17.22434425354004,-18.71495246887207,-20.738500595092773,-18.444133758544922,-19.29998207092285,-19.75760841369629,-23.629789352416992,-22.862987518310547,-23.46156883239746,-23.985225677490234,-42.07926940917969,-43.91287612915039,-47.04442596435547,-44.0118408203125,-53.43275451660156,-46.29583740234375,-55.82928466796875,-59.583526611328125,-93.38764953613281,-89.93463134765625,-125.7147216796875,-123.49431610107422,-140.7769317626953,-155.3812713623047,-180.11680603027344,-184.7735595703125,-218.1751708984375,-230.38125610351562,-252.36965942382812,-241.12013244628906,-269.7607116699219,-258.80255126953125,-300.3271484375,-277.51483154296875,-310.5245361328125,-271.4464416503906,-273.40118408203125,-270.10821533203125,-277.94720458984375,-273.31317138671875,-10.219934463500977,-12.212503433227539,-13.557607650756836,-13.234054565429688,-14.06701374053955,-11.721169471740723,-11.342863082885742,-12.892016410827637,-17.22434425354004,-18.71495246887207,-20.738500595092773,-18.444133758544922,-19.29998207092285,-19.75760841369629,-23.629789352416992,-22.862987518310547,-23.46156883239746,-23.985225677490234,-42.07926940917969,-43.91287612915039,-47.04442596435547,-44.0118408203125,-53.43275451660156,-46.29583740234375,-55.82928466796875,-59.583526611328125,-93.38764953613281,-89.93463134765625,-125.7147216796875,-123.49431610107422,-140.7769317626953,-155.3812713623047,-180.11680603027344,-184.7735595703125,-218.1751708984375,-230.38125610351562,-252.36965942382812,-241.12013244628906,-269.7607116699219,-258.80255126953125,-300.3271484375,-277.51483154296875,-310.5245361328125,-271.4464416503906,-273.40118408203125,-270.10821533203125,-277.94720458984375,-273.31317138671875],\"yaxis\":\"y\",\"type\":\"scatter\"},{\"hovertemplate\":\"Model=IFT_10000\\u003cbr\\u003eLayer=%{x}\\u003cbr\\u003eneg_logprob=%{y}\\u003cextra\\u003e\\u003c\\u002fextra\\u003e\",\"legendgroup\":\"IFT_10000\",\"line\":{\"color\":\"#FF6692\",\"dash\":\"solid\"},\"marker\":{\"symbol\":\"circle\"},\"mode\":\"lines\",\"name\":\"IFT_10000\",\"orientation\":\"v\",\"showlegend\":true,\"x\":[\"0_mid\",\"0_post\",\"1_mid\",\"1_post\",\"2_mid\",\"2_post\",\"3_mid\",\"3_post\",\"4_mid\",\"4_post\",\"5_mid\",\"5_post\",\"6_mid\",\"6_post\",\"7_mid\",\"7_post\",\"8_mid\",\"8_post\",\"9_mid\",\"9_post\",\"10_mid\",\"10_post\",\"11_mid\",\"11_post\",\"12_mid\",\"12_post\",\"13_mid\",\"13_post\",\"14_mid\",\"14_post\",\"15_mid\",\"15_post\",\"16_mid\",\"16_post\",\"17_mid\",\"17_post\",\"18_mid\",\"18_post\",\"19_mid\",\"19_post\",\"20_mid\",\"20_post\",\"21_mid\",\"21_post\",\"22_mid\",\"22_post\",\"23_mid\",\"23_post\"],\"xaxis\":\"x\",\"y\":[-10.486393928527832,-32.90309524536133,-33.58885955810547,-33.825096130371094,-33.70661544799805,-31.083457946777344,-29.5872802734375,-29.32424545288086,-27.15819549560547,-32.76470947265625,-29.458372116088867,-33.676490783691406,-34.084712982177734,-39.40591049194336,-40.604434967041016,-44.50325012207031,-45.17170333862305,-45.67688751220703,-49.872764587402344,-49.797821044921875,-56.39265060424805,-46.17756271362305,-54.092411041259766,-65.49127960205078,-69.91858673095703,-83.8471908569336,-84.0417709350586,-102.31018829345703,-103.7940673828125,-130.0471954345703,-128.69613647460938,-139.32138061523438,-145.837646484375,-158.43894958496094,-156.98294067382812,-172.5554656982422,-180.22409057617188,-217.2471160888672,-223.1524658203125,-251.77989196777344,-268.7972106933594,-334.81781005859375,-341.7503356933594,-382.29931640625,-401.16680908203125,-454.4974060058594,-483.0183410644531,-516.9417724609375],\"yaxis\":\"y\",\"type\":\"scatter\"},{\"hovertemplate\":\"Model=GPT2_10000\\u003cbr\\u003eLayer=%{x}\\u003cbr\\u003eneg_logprob=%{y}\\u003cextra\\u003e\\u003c\\u002fextra\\u003e\",\"legendgroup\":\"GPT2_10000\",\"line\":{\"color\":\"#B6E880\",\"dash\":\"solid\"},\"marker\":{\"symbol\":\"circle\"},\"mode\":\"lines\",\"name\":\"GPT2_10000\",\"orientation\":\"v\",\"showlegend\":true,\"x\":[\"0_mid\",\"0_post\",\"1_mid\",\"1_post\",\"2_mid\",\"2_post\",\"3_mid\",\"3_post\",\"4_mid\",\"4_post\",\"5_mid\",\"5_post\",\"6_mid\",\"6_post\",\"7_mid\",\"7_post\",\"8_mid\",\"8_post\",\"9_mid\",\"9_post\",\"10_mid\",\"10_post\",\"11_mid\",\"11_post\",\"12_mid\",\"12_post\",\"13_mid\",\"13_post\",\"14_mid\",\"14_post\",\"15_mid\",\"15_post\",\"16_mid\",\"16_post\",\"17_mid\",\"17_post\",\"18_mid\",\"18_post\",\"19_mid\",\"19_post\",\"20_mid\",\"20_post\",\"21_mid\",\"21_post\",\"22_mid\",\"22_post\",\"23_mid\",\"23_post\"],\"xaxis\":\"x\",\"y\":[-10.53918170928955,-31.774198532104492,-32.795921325683594,-32.96152877807617,-33.350372314453125,-31.842636108398438,-30.85078239440918,-30.877704620361328,-28.89942169189453,-37.221065521240234,-36.12451934814453,-38.43305969238281,-40.53473663330078,-49.27334976196289,-51.66080856323242,-53.55743408203125,-56.386653900146484,-55.9147834777832,-72.34278869628906,-74.60315704345703,-81.53965759277344,-81.44852447509766,-93.76830291748047,-91.94648742675781,-98.29872131347656,-106.6816177368164,-143.43423461914062,-159.9521484375,-201.52310180664062,-217.57089233398438,-233.61700439453125,-246.50088500976562,-275.2010192871094,-271.84759521484375,-308.8681335449219,-342.6165466308594,-372.0415344238281,-396.7878112792969,-435.485595703125,-440.4531555175781,-495.1798095703125,-496.67059326171875,-531.1585083007812,-521.9172973632812,-526.5759887695312,-546.5501098632812,-563.6914672851562,-551.3218994140625],\"yaxis\":\"y\",\"type\":\"scatter\"}],                        {\"template\":{\"data\":{\"histogram2dcontour\":[{\"type\":\"histogram2dcontour\",\"colorbar\":{\"outlinewidth\":0,\"ticks\":\"\"},\"colorscale\":[[0.0,\"#0d0887\"],[0.1111111111111111,\"#46039f\"],[0.2222222222222222,\"#7201a8\"],[0.3333333333333333,\"#9c179e\"],[0.4444444444444444,\"#bd3786\"],[0.5555555555555556,\"#d8576b\"],[0.6666666666666666,\"#ed7953\"],[0.7777777777777778,\"#fb9f3a\"],[0.8888888888888888,\"#fdca26\"],[1.0,\"#f0f921\"]]}],\"choropleth\":[{\"type\":\"choropleth\",\"colorbar\":{\"outlinewidth\":0,\"ticks\":\"\"}}],\"histogram2d\":[{\"type\":\"histogram2d\",\"colorbar\":{\"outlinewidth\":0,\"ticks\":\"\"},\"colorscale\":[[0.0,\"#0d0887\"],[0.1111111111111111,\"#46039f\"],[0.2222222222222222,\"#7201a8\"],[0.3333333333333333,\"#9c179e\"],[0.4444444444444444,\"#bd3786\"],[0.5555555555555556,\"#d8576b\"],[0.6666666666666666,\"#ed7953\"],[0.7777777777777778,\"#fb9f3a\"],[0.8888888888888888,\"#fdca26\"],[1.0,\"#f0f921\"]]}],\"heatmap\":[{\"type\":\"heatmap\",\"colorbar\":{\"outlinewidth\":0,\"ticks\":\"\"},\"colorscale\":[[0.0,\"#0d0887\"],[0.1111111111111111,\"#46039f\"],[0.2222222222222222,\"#7201a8\"],[0.3333333333333333,\"#9c179e\"],[0.4444444444444444,\"#bd3786\"],[0.5555555555555556,\"#d8576b\"],[0.6666666666666666,\"#ed7953\"],[0.7777777777777778,\"#fb9f3a\"],[0.8888888888888888,\"#fdca26\"],[1.0,\"#f0f921\"]]}],\"heatmapgl\":[{\"type\":\"heatmapgl\",\"colorbar\":{\"outlinewidth\":0,\"ticks\":\"\"},\"colorscale\":[[0.0,\"#0d0887\"],[0.1111111111111111,\"#46039f\"],[0.2222222222222222,\"#7201a8\"],[0.3333333333333333,\"#9c179e\"],[0.4444444444444444,\"#bd3786\"],[0.5555555555555556,\"#d8576b\"],[0.6666666666666666,\"#ed7953\"],[0.7777777777777778,\"#fb9f3a\"],[0.8888888888888888,\"#fdca26\"],[1.0,\"#f0f921\"]]}],\"contourcarpet\":[{\"type\":\"contourcarpet\",\"colorbar\":{\"outlinewidth\":0,\"ticks\":\"\"}}],\"contour\":[{\"type\":\"contour\",\"colorbar\":{\"outlinewidth\":0,\"ticks\":\"\"},\"colorscale\":[[0.0,\"#0d0887\"],[0.1111111111111111,\"#46039f\"],[0.2222222222222222,\"#7201a8\"],[0.3333333333333333,\"#9c179e\"],[0.4444444444444444,\"#bd3786\"],[0.5555555555555556,\"#d8576b\"],[0.6666666666666666,\"#ed7953\"],[0.7777777777777778,\"#fb9f3a\"],[0.8888888888888888,\"#fdca26\"],[1.0,\"#f0f921\"]]}],\"surface\":[{\"type\":\"surface\",\"colorbar\":{\"outlinewidth\":0,\"ticks\":\"\"},\"colorscale\":[[0.0,\"#0d0887\"],[0.1111111111111111,\"#46039f\"],[0.2222222222222222,\"#7201a8\"],[0.3333333333333333,\"#9c179e\"],[0.4444444444444444,\"#bd3786\"],[0.5555555555555556,\"#d8576b\"],[0.6666666666666666,\"#ed7953\"],[0.7777777777777778,\"#fb9f3a\"],[0.8888888888888888,\"#fdca26\"],[1.0,\"#f0f921\"]]}],\"mesh3d\":[{\"type\":\"mesh3d\",\"colorbar\":{\"outlinewidth\":0,\"ticks\":\"\"}}],\"scatter\":[{\"fillpattern\":{\"fillmode\":\"overlay\",\"size\":10,\"solidity\":0.2},\"type\":\"scatter\"}],\"parcoords\":[{\"type\":\"parcoords\",\"line\":{\"colorbar\":{\"outlinewidth\":0,\"ticks\":\"\"}}}],\"scatterpolargl\":[{\"type\":\"scatterpolargl\",\"marker\":{\"colorbar\":{\"outlinewidth\":0,\"ticks\":\"\"}}}],\"bar\":[{\"error_x\":{\"color\":\"#2a3f5f\"},\"error_y\":{\"color\":\"#2a3f5f\"},\"marker\":{\"line\":{\"color\":\"#E5ECF6\",\"width\":0.5},\"pattern\":{\"fillmode\":\"overlay\",\"size\":10,\"solidity\":0.2}},\"type\":\"bar\"}],\"scattergeo\":[{\"type\":\"scattergeo\",\"marker\":{\"colorbar\":{\"outlinewidth\":0,\"ticks\":\"\"}}}],\"scatterpolar\":[{\"type\":\"scatterpolar\",\"marker\":{\"colorbar\":{\"outlinewidth\":0,\"ticks\":\"\"}}}],\"histogram\":[{\"marker\":{\"pattern\":{\"fillmode\":\"overlay\",\"size\":10,\"solidity\":0.2}},\"type\":\"histogram\"}],\"scattergl\":[{\"type\":\"scattergl\",\"marker\":{\"colorbar\":{\"outlinewidth\":0,\"ticks\":\"\"}}}],\"scatter3d\":[{\"type\":\"scatter3d\",\"line\":{\"colorbar\":{\"outlinewidth\":0,\"ticks\":\"\"}},\"marker\":{\"colorbar\":{\"outlinewidth\":0,\"ticks\":\"\"}}}],\"scattermapbox\":[{\"type\":\"scattermapbox\",\"marker\":{\"colorbar\":{\"outlinewidth\":0,\"ticks\":\"\"}}}],\"scatterternary\":[{\"type\":\"scatterternary\",\"marker\":{\"colorbar\":{\"outlinewidth\":0,\"ticks\":\"\"}}}],\"scattercarpet\":[{\"type\":\"scattercarpet\",\"marker\":{\"colorbar\":{\"outlinewidth\":0,\"ticks\":\"\"}}}],\"carpet\":[{\"aaxis\":{\"endlinecolor\":\"#2a3f5f\",\"gridcolor\":\"white\",\"linecolor\":\"white\",\"minorgridcolor\":\"white\",\"startlinecolor\":\"#2a3f5f\"},\"baxis\":{\"endlinecolor\":\"#2a3f5f\",\"gridcolor\":\"white\",\"linecolor\":\"white\",\"minorgridcolor\":\"white\",\"startlinecolor\":\"#2a3f5f\"},\"type\":\"carpet\"}],\"table\":[{\"cells\":{\"fill\":{\"color\":\"#EBF0F8\"},\"line\":{\"color\":\"white\"}},\"header\":{\"fill\":{\"color\":\"#C8D4E3\"},\"line\":{\"color\":\"white\"}},\"type\":\"table\"}],\"barpolar\":[{\"marker\":{\"line\":{\"color\":\"#E5ECF6\",\"width\":0.5},\"pattern\":{\"fillmode\":\"overlay\",\"size\":10,\"solidity\":0.2}},\"type\":\"barpolar\"}],\"pie\":[{\"automargin\":true,\"type\":\"pie\"}]},\"layout\":{\"autotypenumbers\":\"strict\",\"colorway\":[\"#636efa\",\"#EF553B\",\"#00cc96\",\"#ab63fa\",\"#FFA15A\",\"#19d3f3\",\"#FF6692\",\"#B6E880\",\"#FF97FF\",\"#FECB52\"],\"font\":{\"color\":\"#2a3f5f\"},\"hovermode\":\"closest\",\"hoverlabel\":{\"align\":\"left\"},\"paper_bgcolor\":\"white\",\"plot_bgcolor\":\"#E5ECF6\",\"polar\":{\"bgcolor\":\"#E5ECF6\",\"angularaxis\":{\"gridcolor\":\"white\",\"linecolor\":\"white\",\"ticks\":\"\"},\"radialaxis\":{\"gridcolor\":\"white\",\"linecolor\":\"white\",\"ticks\":\"\"}},\"ternary\":{\"bgcolor\":\"#E5ECF6\",\"aaxis\":{\"gridcolor\":\"white\",\"linecolor\":\"white\",\"ticks\":\"\"},\"baxis\":{\"gridcolor\":\"white\",\"linecolor\":\"white\",\"ticks\":\"\"},\"caxis\":{\"gridcolor\":\"white\",\"linecolor\":\"white\",\"ticks\":\"\"}},\"coloraxis\":{\"colorbar\":{\"outlinewidth\":0,\"ticks\":\"\"}},\"colorscale\":{\"sequential\":[[0.0,\"#0d0887\"],[0.1111111111111111,\"#46039f\"],[0.2222222222222222,\"#7201a8\"],[0.3333333333333333,\"#9c179e\"],[0.4444444444444444,\"#bd3786\"],[0.5555555555555556,\"#d8576b\"],[0.6666666666666666,\"#ed7953\"],[0.7777777777777778,\"#fb9f3a\"],[0.8888888888888888,\"#fdca26\"],[1.0,\"#f0f921\"]],\"sequentialminus\":[[0.0,\"#0d0887\"],[0.1111111111111111,\"#46039f\"],[0.2222222222222222,\"#7201a8\"],[0.3333333333333333,\"#9c179e\"],[0.4444444444444444,\"#bd3786\"],[0.5555555555555556,\"#d8576b\"],[0.6666666666666666,\"#ed7953\"],[0.7777777777777778,\"#fb9f3a\"],[0.8888888888888888,\"#fdca26\"],[1.0,\"#f0f921\"]],\"diverging\":[[0,\"#8e0152\"],[0.1,\"#c51b7d\"],[0.2,\"#de77ae\"],[0.3,\"#f1b6da\"],[0.4,\"#fde0ef\"],[0.5,\"#f7f7f7\"],[0.6,\"#e6f5d0\"],[0.7,\"#b8e186\"],[0.8,\"#7fbc41\"],[0.9,\"#4d9221\"],[1,\"#276419\"]]},\"xaxis\":{\"gridcolor\":\"white\",\"linecolor\":\"white\",\"ticks\":\"\",\"title\":{\"standoff\":15},\"zerolinecolor\":\"white\",\"automargin\":true,\"zerolinewidth\":2},\"yaxis\":{\"gridcolor\":\"white\",\"linecolor\":\"white\",\"ticks\":\"\",\"title\":{\"standoff\":15},\"zerolinecolor\":\"white\",\"automargin\":true,\"zerolinewidth\":2},\"scene\":{\"xaxis\":{\"backgroundcolor\":\"#E5ECF6\",\"gridcolor\":\"white\",\"linecolor\":\"white\",\"showbackground\":true,\"ticks\":\"\",\"zerolinecolor\":\"white\",\"gridwidth\":2},\"yaxis\":{\"backgroundcolor\":\"#E5ECF6\",\"gridcolor\":\"white\",\"linecolor\":\"white\",\"showbackground\":true,\"ticks\":\"\",\"zerolinecolor\":\"white\",\"gridwidth\":2},\"zaxis\":{\"backgroundcolor\":\"#E5ECF6\",\"gridcolor\":\"white\",\"linecolor\":\"white\",\"showbackground\":true,\"ticks\":\"\",\"zerolinecolor\":\"white\",\"gridwidth\":2}},\"shapedefaults\":{\"line\":{\"color\":\"#2a3f5f\"}},\"annotationdefaults\":{\"arrowcolor\":\"#2a3f5f\",\"arrowhead\":0,\"arrowwidth\":1},\"geo\":{\"bgcolor\":\"white\",\"landcolor\":\"#E5ECF6\",\"subunitcolor\":\"white\",\"showland\":true,\"showlakes\":true,\"lakecolor\":\"white\"},\"title\":{\"x\":0.05},\"mapbox\":{\"style\":\"light\"}}},\"xaxis\":{\"anchor\":\"y\",\"domain\":[0.0,1.0],\"title\":{\"text\":\"Layer\"}},\"yaxis\":{\"anchor\":\"x\",\"domain\":[0.0,1.0],\"title\":{\"text\":\"neg_logprob\"}},\"legend\":{\"title\":{\"text\":\"Model\"},\"tracegroupgap\":0},\"margin\":{\"t\":60}},                        {\"responsive\": true}                    ).then(function(){\n",
       "                            \n",
       "var gd = document.getElementById('50c8e9a0-6068-4f36-b953-18b8ea752b12');\n",
       "var x = new MutationObserver(function (mutations, observer) {{\n",
       "        var display = window.getComputedStyle(gd).display;\n",
       "        if (!display || display === 'none') {{\n",
       "            console.log([gd, 'removed!']);\n",
       "            Plotly.purge(gd);\n",
       "            observer.disconnect();\n",
       "        }}\n",
       "}});\n",
       "\n",
       "// Listen for the removal of the full notebook cells\n",
       "var notebookContainer = gd.closest('#notebook-container');\n",
       "if (notebookContainer) {{\n",
       "    x.observe(notebookContainer, {childList: true});\n",
       "}}\n",
       "\n",
       "// Listen for the clearing of the current output cell\n",
       "var outputEl = gd.closest('.output');\n",
       "if (outputEl) {{\n",
       "    x.observe(outputEl, {childList: true});\n",
       "}}\n",
       "\n",
       "                        })                };                });            </script>        </div>"
      ]
     },
     "metadata": {},
     "output_type": "display_data"
    },
    {
     "name": "stdout",
     "output_type": "stream",
     "text": [
      "zzzzzzzzzzzzzzzzzzzzzzzzzzzzzzzzzzzzzzzzzzzzzzzzzzzz\n",
      "Neg tok: 27334\n",
      "Tok id: 314\n"
     ]
    },
    {
     "data": {
      "application/vnd.plotly.v1+json": {
       "config": {
        "plotlyServerURL": "https://plot.ly"
       },
       "data": [
        {
         "hovertemplate": "Model=IFT<br>Layer=%{x}<br>neg_logprob=%{y}<extra></extra>",
         "legendgroup": "IFT",
         "line": {
          "color": "#636efa",
          "dash": "solid"
         },
         "marker": {
          "symbol": "circle"
         },
         "mode": "lines",
         "name": "IFT",
         "orientation": "v",
         "showlegend": true,
         "type": "scatter",
         "x": [
          "0_mid",
          "0_post",
          "1_mid",
          "1_post",
          "2_mid",
          "2_post",
          "3_mid",
          "3_post",
          "4_mid",
          "4_post",
          "5_mid",
          "5_post",
          "6_mid",
          "6_post",
          "7_mid",
          "7_post",
          "8_mid",
          "8_post",
          "9_mid",
          "9_post",
          "10_mid",
          "10_post",
          "11_mid",
          "11_post",
          "12_mid",
          "12_post",
          "13_mid",
          "13_post",
          "14_mid",
          "14_post",
          "15_mid",
          "15_post",
          "16_mid",
          "16_post",
          "17_mid",
          "17_post",
          "18_mid",
          "18_post",
          "19_mid",
          "19_post",
          "20_mid",
          "20_post",
          "21_mid",
          "21_post",
          "22_mid",
          "22_post",
          "23_mid",
          "23_post"
         ],
         "xaxis": "x",
         "y": [
          -13.632166862487793,
          -15.89104175567627,
          -16.487287521362305,
          -11.054523468017578,
          -14.070908546447754,
          -12.134320259094238,
          -13.340950965881348,
          -16.630144119262695,
          -13.351222038269043,
          -14.913041114807129,
          -15.21062183380127,
          -21.961950302124023,
          -23.355119705200195,
          -24.935211181640625,
          -31.989526748657227,
          -34.00780487060547,
          -32.23211669921875,
          -24.532039642333984,
          -30.088346481323242,
          -33.364593505859375,
          -33.37731170654297,
          -42.215084075927734,
          -42.839778900146484,
          -39.63618469238281,
          -39.794925689697266,
          -54.38480758666992,
          -61.60920715332031,
          -57.41902542114258,
          -58.10722351074219,
          -69.6583251953125,
          -70.01342010498047,
          -84.69216918945312,
          -83.63249969482422,
          -101.31407928466797,
          -82.33849334716797,
          -88.28038787841797,
          -77.61763763427734,
          -96.8642578125,
          -98.84436798095703,
          -109.47689056396484,
          -112.4869155883789,
          -119.16949462890625,
          -120.30220031738281,
          -138.01734924316406,
          -130.3258056640625,
          -141.4387664794922,
          -120.12468719482422,
          -137.09481811523438
         ],
         "yaxis": "y"
        },
        {
         "hovertemplate": "Model=GPT2<br>Layer=%{x}<br>neg_logprob=%{y}<extra></extra>",
         "legendgroup": "GPT2",
         "line": {
          "color": "#EF553B",
          "dash": "solid"
         },
         "marker": {
          "symbol": "circle"
         },
         "mode": "lines",
         "name": "GPT2",
         "orientation": "v",
         "showlegend": true,
         "type": "scatter",
         "x": [
          "0_mid",
          "0_post",
          "1_mid",
          "1_post",
          "2_mid",
          "2_post",
          "3_mid",
          "3_post",
          "4_mid",
          "4_post",
          "5_mid",
          "5_post",
          "6_mid",
          "6_post",
          "7_mid",
          "7_post",
          "8_mid",
          "8_post",
          "9_mid",
          "9_post",
          "10_mid",
          "10_post",
          "11_mid",
          "11_post",
          "12_mid",
          "12_post",
          "13_mid",
          "13_post",
          "14_mid",
          "14_post",
          "15_mid",
          "15_post",
          "16_mid",
          "16_post",
          "17_mid",
          "17_post",
          "18_mid",
          "18_post",
          "19_mid",
          "19_post",
          "20_mid",
          "20_post",
          "21_mid",
          "21_post",
          "22_mid",
          "22_post",
          "23_mid",
          "23_post"
         ],
         "xaxis": "x",
         "y": [
          -13.609353065490723,
          -15.772156715393066,
          -15.914029121398926,
          -11.042847633361816,
          -12.142998695373535,
          -12.070103645324707,
          -13.51995849609375,
          -16.395465850830078,
          -14.662827491760254,
          -15.684428215026855,
          -14.971822738647461,
          -16.79831886291504,
          -13.956997871398926,
          -16.22467613220215,
          -16.342992782592773,
          -22.42367935180664,
          -20.30159568786621,
          -21.595762252807617,
          -18.175992965698242,
          -12.873393058776855,
          -19.389114379882812,
          -18.552310943603516,
          -11.597545623779297,
          -16.181581497192383,
          -11.794947624206543,
          -23.472475051879883,
          -4.086602687835693,
          -12.880964279174805,
          -8.004385948181152,
          -13.62023639678955,
          -16.790563583374023,
          -24.57143211364746,
          -20.910400390625,
          -34.544952392578125,
          -14.701723098754883,
          -23.96627426147461,
          -21.808629989624023,
          -56.02154541015625,
          -53.50672912597656,
          -81.57989501953125,
          -39.37261962890625,
          -48.99530029296875,
          -32.14727783203125,
          -40.7730712890625,
          -15.71429443359375,
          -18.213531494140625,
          0,
          0
         ],
         "yaxis": "y"
        },
        {
         "hovertemplate": "Model=IFT_10<br>Layer=%{x}<br>neg_logprob=%{y}<extra></extra>",
         "legendgroup": "IFT_10",
         "line": {
          "color": "#00cc96",
          "dash": "solid"
         },
         "marker": {
          "symbol": "circle"
         },
         "mode": "lines",
         "name": "IFT_10",
         "orientation": "v",
         "showlegend": true,
         "type": "scatter",
         "x": [
          "0_mid",
          "0_post",
          "1_mid",
          "1_post",
          "2_mid",
          "2_post",
          "3_mid",
          "3_post",
          "4_mid",
          "4_post",
          "5_mid",
          "5_post",
          "6_mid",
          "6_post",
          "7_mid",
          "7_post",
          "8_mid",
          "8_post",
          "9_mid",
          "9_post",
          "10_mid",
          "10_post",
          "11_mid",
          "11_post",
          "12_mid",
          "12_post",
          "13_mid",
          "13_post",
          "14_mid",
          "14_post",
          "15_mid",
          "15_post",
          "16_mid",
          "16_post",
          "17_mid",
          "17_post",
          "18_mid",
          "18_post",
          "19_mid",
          "19_post",
          "20_mid",
          "20_post",
          "21_mid",
          "21_post",
          "22_mid",
          "22_post",
          "23_mid",
          "23_post"
         ],
         "xaxis": "x",
         "y": [
          -11.670305252075195,
          -21.51677894592285,
          -21.261865615844727,
          -24.909997940063477,
          -26.587736129760742,
          -24.296432495117188,
          -24.56744956970215,
          -29.07433319091797,
          -29.004940032958984,
          -31.141925811767578,
          -32.05508804321289,
          -39.47895812988281,
          -41.90483093261719,
          -36.9569091796875,
          -36.70851516723633,
          -37.18215560913086,
          -36.5605583190918,
          -32.311363220214844,
          -32.130001068115234,
          -36.61334228515625,
          -35.6251335144043,
          -29.178831100463867,
          -19.57895851135254,
          -13.615988731384277,
          -9.752649307250977,
          -16.948644638061523,
          -17.967933654785156,
          -23.6107234954834,
          -31.26517677307129,
          -24.360538482666016,
          -22.18634033203125,
          -12.573546409606934,
          -14.92216968536377,
          -20.31528091430664,
          -17.879962921142578,
          -22.256452560424805,
          -28.946989059448242,
          -31.546964645385742,
          -40.343666076660156,
          -49.09976577758789,
          -54.54868698120117,
          -75.714111328125,
          -76.86366271972656,
          -91.84770202636719,
          -110.2527847290039,
          -137.90821838378906,
          -170.46018981933594,
          -199.91094970703125
         ],
         "yaxis": "y"
        },
        {
         "hovertemplate": "Model=GPT2_10<br>Layer=%{x}<br>neg_logprob=%{y}<extra></extra>",
         "legendgroup": "GPT2_10",
         "line": {
          "color": "#ab63fa",
          "dash": "solid"
         },
         "marker": {
          "symbol": "circle"
         },
         "mode": "lines",
         "name": "GPT2_10",
         "orientation": "v",
         "showlegend": true,
         "type": "scatter",
         "x": [
          "0_mid",
          "0_post",
          "1_mid",
          "1_post",
          "2_mid",
          "2_post",
          "3_mid",
          "3_post",
          "4_mid",
          "4_post",
          "5_mid",
          "5_post",
          "6_mid",
          "6_post",
          "7_mid",
          "7_post",
          "8_mid",
          "8_post",
          "9_mid",
          "9_post",
          "10_mid",
          "10_post",
          "11_mid",
          "11_post",
          "12_mid",
          "12_post",
          "13_mid",
          "13_post",
          "14_mid",
          "14_post",
          "15_mid",
          "15_post",
          "16_mid",
          "16_post",
          "17_mid",
          "17_post",
          "18_mid",
          "18_post",
          "19_mid",
          "19_post",
          "20_mid",
          "20_post",
          "21_mid",
          "21_post",
          "22_mid",
          "22_post",
          "23_mid",
          "23_post"
         ],
         "xaxis": "x",
         "y": [
          -11.866107940673828,
          -22.284835815429688,
          -21.77016830444336,
          -24.08639907836914,
          -26.380558013916016,
          -26.063072204589844,
          -27.046276092529297,
          -31.892532348632812,
          -30.802627563476562,
          -33.93156051635742,
          -33.75563049316406,
          -39.52520751953125,
          -42.42835998535156,
          -42.00358963012695,
          -40.7638053894043,
          -40.49696350097656,
          -39.10634231567383,
          -35.5533561706543,
          -32.56992721557617,
          -29.378360748291016,
          -34.85079574584961,
          -24.135372161865234,
          -21.691967010498047,
          -21.610857009887695,
          -17.47457504272461,
          -17.782175064086914,
          -19.03598976135254,
          -21.8646297454834,
          -27.224349975585938,
          -31.398052215576172,
          -33.638465881347656,
          -30.22174644470215,
          -27.946487426757812,
          -27.80499267578125,
          -24.256441116333008,
          -16.93362045288086,
          -29.15668296813965,
          -37.78205871582031,
          -41.215576171875,
          -41.493560791015625,
          -41.562957763671875,
          -47.685943603515625,
          -47.85284423828125,
          -50.576171875,
          -54.717254638671875,
          -53.75933837890625,
          -73.28955078125,
          -85.1876220703125
         ],
         "yaxis": "y"
        },
        {
         "hovertemplate": "Model=IFT_100<br>Layer=%{x}<br>neg_logprob=%{y}<extra></extra>",
         "legendgroup": "IFT_100",
         "line": {
          "color": "#FFA15A",
          "dash": "solid"
         },
         "marker": {
          "symbol": "circle"
         },
         "mode": "lines",
         "name": "IFT_100",
         "orientation": "v",
         "showlegend": true,
         "type": "scatter",
         "x": [
          "0_mid",
          "0_post",
          "1_mid",
          "1_post",
          "2_mid",
          "2_post",
          "3_mid",
          "3_post",
          "4_mid",
          "4_post",
          "5_mid",
          "5_post",
          "6_mid",
          "6_post",
          "7_mid",
          "7_post",
          "8_mid",
          "8_post",
          "9_mid",
          "9_post",
          "10_mid",
          "10_post",
          "11_mid",
          "11_post",
          "12_mid",
          "12_post",
          "13_mid",
          "13_post",
          "14_mid",
          "14_post",
          "15_mid",
          "15_post",
          "16_mid",
          "16_post",
          "17_mid",
          "17_post",
          "18_mid",
          "18_post",
          "19_mid",
          "19_post",
          "20_mid",
          "20_post",
          "21_mid",
          "21_post",
          "22_mid",
          "22_post",
          "23_mid",
          "23_post",
          "0_mid",
          "0_post",
          "1_mid",
          "1_post",
          "2_mid",
          "2_post",
          "3_mid",
          "3_post",
          "4_mid",
          "4_post",
          "5_mid",
          "5_post",
          "6_mid",
          "6_post",
          "7_mid",
          "7_post",
          "8_mid",
          "8_post",
          "9_mid",
          "9_post",
          "10_mid",
          "10_post",
          "11_mid",
          "11_post",
          "12_mid",
          "12_post",
          "13_mid",
          "13_post",
          "14_mid",
          "14_post",
          "15_mid",
          "15_post",
          "16_mid",
          "16_post",
          "17_mid",
          "17_post",
          "18_mid",
          "18_post",
          "19_mid",
          "19_post",
          "20_mid",
          "20_post",
          "21_mid",
          "21_post",
          "22_mid",
          "22_post",
          "23_mid",
          "23_post"
         ],
         "xaxis": "x",
         "y": [
          -13.221242904663086,
          -18.25078582763672,
          -21.30073356628418,
          -17.840621948242188,
          -22.46116065979004,
          -23.046354293823242,
          -24.3354549407959,
          -24.90859031677246,
          -23.589567184448242,
          -22.032657623291016,
          -22.416006088256836,
          -29.856271743774414,
          -33.46707534790039,
          -33.328269958496094,
          -39.48196029663086,
          -41.28081130981445,
          -42.04222106933594,
          -38.52284240722656,
          -39.94443130493164,
          -43.21794128417969,
          -41.60056686401367,
          -43.46642303466797,
          -40.328372955322266,
          -38.6776008605957,
          -40.27518844604492,
          -53.07163619995117,
          -54.510231018066406,
          -39.557212829589844,
          -41.6919059753418,
          -37.23025131225586,
          -38.881690979003906,
          -36.588653564453125,
          -44.511295318603516,
          -59.02934646606445,
          -71.60395050048828,
          -71.76553344726562,
          -70.65330505371094,
          -82.15975952148438,
          -76.8387222290039,
          -88.24723052978516,
          -93.2869644165039,
          -90.48764038085938,
          -99.00738525390625,
          -93.77162170410156,
          -92.40738677978516,
          -92.44288635253906,
          -92.21306610107422,
          -104.811279296875,
          -13.221242904663086,
          -18.25078582763672,
          -21.30073356628418,
          -17.840621948242188,
          -22.46116065979004,
          -23.046354293823242,
          -24.3354549407959,
          -24.90859031677246,
          -23.589567184448242,
          -22.032657623291016,
          -22.416006088256836,
          -29.856271743774414,
          -33.46707534790039,
          -33.328269958496094,
          -39.48196029663086,
          -41.28081130981445,
          -42.04222106933594,
          -38.52284240722656,
          -39.94443130493164,
          -43.21794128417969,
          -41.60056686401367,
          -43.46642303466797,
          -40.328372955322266,
          -38.6776008605957,
          -40.27518844604492,
          -53.07163619995117,
          -54.510231018066406,
          -39.557212829589844,
          -41.6919059753418,
          -37.23025131225586,
          -38.881690979003906,
          -36.588653564453125,
          -44.511295318603516,
          -59.02934646606445,
          -71.60395050048828,
          -71.76553344726562,
          -70.65330505371094,
          -82.15975952148438,
          -76.8387222290039,
          -88.24723052978516,
          -93.2869644165039,
          -90.48764038085938,
          -99.00738525390625,
          -93.77162170410156,
          -92.40738677978516,
          -92.44288635253906,
          -92.21306610107422,
          -104.811279296875
         ],
         "yaxis": "y"
        },
        {
         "hovertemplate": "Model=GPT2_100<br>Layer=%{x}<br>neg_logprob=%{y}<extra></extra>",
         "legendgroup": "GPT2_100",
         "line": {
          "color": "#19d3f3",
          "dash": "solid"
         },
         "marker": {
          "symbol": "circle"
         },
         "mode": "lines",
         "name": "GPT2_100",
         "orientation": "v",
         "showlegend": true,
         "type": "scatter",
         "x": [
          "0_mid",
          "0_post",
          "1_mid",
          "1_post",
          "2_mid",
          "2_post",
          "3_mid",
          "3_post",
          "4_mid",
          "4_post",
          "5_mid",
          "5_post",
          "6_mid",
          "6_post",
          "7_mid",
          "7_post",
          "8_mid",
          "8_post",
          "9_mid",
          "9_post",
          "10_mid",
          "10_post",
          "11_mid",
          "11_post",
          "12_mid",
          "12_post",
          "13_mid",
          "13_post",
          "14_mid",
          "14_post",
          "15_mid",
          "15_post",
          "16_mid",
          "16_post",
          "17_mid",
          "17_post",
          "18_mid",
          "18_post",
          "19_mid",
          "19_post",
          "20_mid",
          "20_post",
          "21_mid",
          "21_post",
          "22_mid",
          "22_post",
          "23_mid",
          "23_post",
          "0_mid",
          "0_post",
          "1_mid",
          "1_post",
          "2_mid",
          "2_post",
          "3_mid",
          "3_post",
          "4_mid",
          "4_post",
          "5_mid",
          "5_post",
          "6_mid",
          "6_post",
          "7_mid",
          "7_post",
          "8_mid",
          "8_post",
          "9_mid",
          "9_post",
          "10_mid",
          "10_post",
          "11_mid",
          "11_post",
          "12_mid",
          "12_post",
          "13_mid",
          "13_post",
          "14_mid",
          "14_post",
          "15_mid",
          "15_post",
          "16_mid",
          "16_post",
          "17_mid",
          "17_post",
          "18_mid",
          "18_post",
          "19_mid",
          "19_post",
          "20_mid",
          "20_post",
          "21_mid",
          "21_post",
          "22_mid",
          "22_post",
          "23_mid",
          "23_post"
         ],
         "xaxis": "x",
         "y": [
          -13.176461219787598,
          -18.993282318115234,
          -21.85073471069336,
          -19.234477996826172,
          -22.60873031616211,
          -23.059452056884766,
          -24.867935180664062,
          -24.61004638671875,
          -25.579853057861328,
          -24.931150436401367,
          -23.490406036376953,
          -25.163341522216797,
          -26.04466438293457,
          -28.215856552124023,
          -29.598859786987305,
          -34.93829345703125,
          -33.641326904296875,
          -32.565547943115234,
          -35.08770751953125,
          -28.770233154296875,
          -38.25959777832031,
          -30.53403091430664,
          -30.858287811279297,
          -35.038570404052734,
          -38.07743453979492,
          -45.64514923095703,
          -44.707420349121094,
          -45.792633056640625,
          -48.48766326904297,
          -49.615962982177734,
          -50.581581115722656,
          -54.0216064453125,
          -55.27320098876953,
          -66.86796569824219,
          -72.27835083007812,
          -73.64705657958984,
          -78.35604095458984,
          -107.43960571289062,
          -104.656005859375,
          -112.67764282226562,
          -112.1605224609375,
          -116.29934692382812,
          -125.380126953125,
          -130.68112182617188,
          -136.07452392578125,
          -126.32061767578125,
          -151.84527587890625,
          -148.98568725585938,
          -13.176461219787598,
          -18.993282318115234,
          -21.85073471069336,
          -19.234477996826172,
          -22.60873031616211,
          -23.059452056884766,
          -24.867935180664062,
          -24.61004638671875,
          -25.579853057861328,
          -24.931150436401367,
          -23.490406036376953,
          -25.163341522216797,
          -26.04466438293457,
          -28.215856552124023,
          -29.598859786987305,
          -34.93829345703125,
          -33.641326904296875,
          -32.565547943115234,
          -35.08770751953125,
          -28.770233154296875,
          -38.25959777832031,
          -30.53403091430664,
          -30.858287811279297,
          -35.038570404052734,
          -38.07743453979492,
          -45.64514923095703,
          -44.707420349121094,
          -45.792633056640625,
          -48.48766326904297,
          -49.615962982177734,
          -50.581581115722656,
          -54.0216064453125,
          -55.27320098876953,
          -66.86796569824219,
          -72.27835083007812,
          -73.64705657958984,
          -78.35604095458984,
          -107.43960571289062,
          -104.656005859375,
          -112.67764282226562,
          -112.1605224609375,
          -116.29934692382812,
          -125.380126953125,
          -130.68112182617188,
          -136.07452392578125,
          -126.32061767578125,
          -151.84527587890625,
          -148.98568725585938
         ],
         "yaxis": "y"
        },
        {
         "hovertemplate": "Model=IFT_10000<br>Layer=%{x}<br>neg_logprob=%{y}<extra></extra>",
         "legendgroup": "IFT_10000",
         "line": {
          "color": "#FF6692",
          "dash": "solid"
         },
         "marker": {
          "symbol": "circle"
         },
         "mode": "lines",
         "name": "IFT_10000",
         "orientation": "v",
         "showlegend": true,
         "type": "scatter",
         "x": [
          "0_mid",
          "0_post",
          "1_mid",
          "1_post",
          "2_mid",
          "2_post",
          "3_mid",
          "3_post",
          "4_mid",
          "4_post",
          "5_mid",
          "5_post",
          "6_mid",
          "6_post",
          "7_mid",
          "7_post",
          "8_mid",
          "8_post",
          "9_mid",
          "9_post",
          "10_mid",
          "10_post",
          "11_mid",
          "11_post",
          "12_mid",
          "12_post",
          "13_mid",
          "13_post",
          "14_mid",
          "14_post",
          "15_mid",
          "15_post",
          "16_mid",
          "16_post",
          "17_mid",
          "17_post",
          "18_mid",
          "18_post",
          "19_mid",
          "19_post",
          "20_mid",
          "20_post",
          "21_mid",
          "21_post",
          "22_mid",
          "22_post",
          "23_mid",
          "23_post"
         ],
         "xaxis": "x",
         "y": [
          -12.72164249420166,
          -35.50550842285156,
          -41.671512603759766,
          -40.147884368896484,
          -42.43509292602539,
          -41.82036209106445,
          -41.94099807739258,
          -49.510841369628906,
          -48.65090560913086,
          -55.00349426269531,
          -50.37004852294922,
          -60.36430358886719,
          -63.04557800292969,
          -69.6826400756836,
          -76.45256805419922,
          -84.86080932617188,
          -81.8063735961914,
          -74.78535461425781,
          -81.32554626464844,
          -79.35908508300781,
          -81.5741958618164,
          -78.39749145507812,
          -78.56453704833984,
          -81.0296401977539,
          -84.64198303222656,
          -101.388427734375,
          -112.1836166381836,
          -112.42253112792969,
          -115.06916046142578,
          -131.94735717773438,
          -130.61289978027344,
          -142.4172821044922,
          -142.6064910888672,
          -169.74301147460938,
          -167.12049865722656,
          -176.62020874023438,
          -158.55747985839844,
          -184.38116455078125,
          -186.0587615966797,
          -220.76480102539062,
          -251.4358673095703,
          -278.3475341796875,
          -287.96551513671875,
          -340.31744384765625,
          -341.1392822265625,
          -377.4818420410156,
          -398.3926696777344,
          -464.4095458984375
         ],
         "yaxis": "y"
        },
        {
         "hovertemplate": "Model=GPT2_10000<br>Layer=%{x}<br>neg_logprob=%{y}<extra></extra>",
         "legendgroup": "GPT2_10000",
         "line": {
          "color": "#B6E880",
          "dash": "solid"
         },
         "marker": {
          "symbol": "circle"
         },
         "mode": "lines",
         "name": "GPT2_10000",
         "orientation": "v",
         "showlegend": true,
         "type": "scatter",
         "x": [
          "0_mid",
          "0_post",
          "1_mid",
          "1_post",
          "2_mid",
          "2_post",
          "3_mid",
          "3_post",
          "4_mid",
          "4_post",
          "5_mid",
          "5_post",
          "6_mid",
          "6_post",
          "7_mid",
          "7_post",
          "8_mid",
          "8_post",
          "9_mid",
          "9_post",
          "10_mid",
          "10_post",
          "11_mid",
          "11_post",
          "12_mid",
          "12_post",
          "13_mid",
          "13_post",
          "14_mid",
          "14_post",
          "15_mid",
          "15_post",
          "16_mid",
          "16_post",
          "17_mid",
          "17_post",
          "18_mid",
          "18_post",
          "19_mid",
          "19_post",
          "20_mid",
          "20_post",
          "21_mid",
          "21_post",
          "22_mid",
          "22_post",
          "23_mid",
          "23_post"
         ],
         "xaxis": "x",
         "y": [
          -12.778581619262695,
          -35.94066619873047,
          -41.57835388183594,
          -41.01156997680664,
          -43.48692321777344,
          -44.4725456237793,
          -45.51003646850586,
          -51.14273452758789,
          -51.12430953979492,
          -56.02482223510742,
          -50.25579833984375,
          -57.6479377746582,
          -60.19001770019531,
          -66.55890655517578,
          -70.0130844116211,
          -80.64746856689453,
          -82.0540771484375,
          -73.29822540283203,
          -77.67952728271484,
          -76.14397430419922,
          -89.01874542236328,
          -84.50206756591797,
          -94.16141510009766,
          -101.70259857177734,
          -102.94529724121094,
          -114.99179077148438,
          -127.20209503173828,
          -129.75421142578125,
          -141.294677734375,
          -158.70504760742188,
          -167.15890502929688,
          -177.60772705078125,
          -177.37789916992188,
          -197.76158142089844,
          -203.057861328125,
          -207.07879638671875,
          -219.47792053222656,
          -260.60498046875,
          -271.4185791015625,
          -313.948974609375,
          -325.0075378417969,
          -336.2227478027344,
          -349.75445556640625,
          -371.6650695800781,
          -374.2757568359375,
          -378.87969970703125,
          -407.2061767578125,
          -398.1211242675781
         ],
         "yaxis": "y"
        }
       ],
       "layout": {
        "legend": {
         "title": {
          "text": "Model"
         },
         "tracegroupgap": 0
        },
        "margin": {
         "t": 60
        },
        "template": {
         "data": {
          "bar": [
           {
            "error_x": {
             "color": "#2a3f5f"
            },
            "error_y": {
             "color": "#2a3f5f"
            },
            "marker": {
             "line": {
              "color": "#E5ECF6",
              "width": 0.5
             },
             "pattern": {
              "fillmode": "overlay",
              "size": 10,
              "solidity": 0.2
             }
            },
            "type": "bar"
           }
          ],
          "barpolar": [
           {
            "marker": {
             "line": {
              "color": "#E5ECF6",
              "width": 0.5
             },
             "pattern": {
              "fillmode": "overlay",
              "size": 10,
              "solidity": 0.2
             }
            },
            "type": "barpolar"
           }
          ],
          "carpet": [
           {
            "aaxis": {
             "endlinecolor": "#2a3f5f",
             "gridcolor": "white",
             "linecolor": "white",
             "minorgridcolor": "white",
             "startlinecolor": "#2a3f5f"
            },
            "baxis": {
             "endlinecolor": "#2a3f5f",
             "gridcolor": "white",
             "linecolor": "white",
             "minorgridcolor": "white",
             "startlinecolor": "#2a3f5f"
            },
            "type": "carpet"
           }
          ],
          "choropleth": [
           {
            "colorbar": {
             "outlinewidth": 0,
             "ticks": ""
            },
            "type": "choropleth"
           }
          ],
          "contour": [
           {
            "colorbar": {
             "outlinewidth": 0,
             "ticks": ""
            },
            "colorscale": [
             [
              0,
              "#0d0887"
             ],
             [
              0.1111111111111111,
              "#46039f"
             ],
             [
              0.2222222222222222,
              "#7201a8"
             ],
             [
              0.3333333333333333,
              "#9c179e"
             ],
             [
              0.4444444444444444,
              "#bd3786"
             ],
             [
              0.5555555555555556,
              "#d8576b"
             ],
             [
              0.6666666666666666,
              "#ed7953"
             ],
             [
              0.7777777777777778,
              "#fb9f3a"
             ],
             [
              0.8888888888888888,
              "#fdca26"
             ],
             [
              1,
              "#f0f921"
             ]
            ],
            "type": "contour"
           }
          ],
          "contourcarpet": [
           {
            "colorbar": {
             "outlinewidth": 0,
             "ticks": ""
            },
            "type": "contourcarpet"
           }
          ],
          "heatmap": [
           {
            "colorbar": {
             "outlinewidth": 0,
             "ticks": ""
            },
            "colorscale": [
             [
              0,
              "#0d0887"
             ],
             [
              0.1111111111111111,
              "#46039f"
             ],
             [
              0.2222222222222222,
              "#7201a8"
             ],
             [
              0.3333333333333333,
              "#9c179e"
             ],
             [
              0.4444444444444444,
              "#bd3786"
             ],
             [
              0.5555555555555556,
              "#d8576b"
             ],
             [
              0.6666666666666666,
              "#ed7953"
             ],
             [
              0.7777777777777778,
              "#fb9f3a"
             ],
             [
              0.8888888888888888,
              "#fdca26"
             ],
             [
              1,
              "#f0f921"
             ]
            ],
            "type": "heatmap"
           }
          ],
          "heatmapgl": [
           {
            "colorbar": {
             "outlinewidth": 0,
             "ticks": ""
            },
            "colorscale": [
             [
              0,
              "#0d0887"
             ],
             [
              0.1111111111111111,
              "#46039f"
             ],
             [
              0.2222222222222222,
              "#7201a8"
             ],
             [
              0.3333333333333333,
              "#9c179e"
             ],
             [
              0.4444444444444444,
              "#bd3786"
             ],
             [
              0.5555555555555556,
              "#d8576b"
             ],
             [
              0.6666666666666666,
              "#ed7953"
             ],
             [
              0.7777777777777778,
              "#fb9f3a"
             ],
             [
              0.8888888888888888,
              "#fdca26"
             ],
             [
              1,
              "#f0f921"
             ]
            ],
            "type": "heatmapgl"
           }
          ],
          "histogram": [
           {
            "marker": {
             "pattern": {
              "fillmode": "overlay",
              "size": 10,
              "solidity": 0.2
             }
            },
            "type": "histogram"
           }
          ],
          "histogram2d": [
           {
            "colorbar": {
             "outlinewidth": 0,
             "ticks": ""
            },
            "colorscale": [
             [
              0,
              "#0d0887"
             ],
             [
              0.1111111111111111,
              "#46039f"
             ],
             [
              0.2222222222222222,
              "#7201a8"
             ],
             [
              0.3333333333333333,
              "#9c179e"
             ],
             [
              0.4444444444444444,
              "#bd3786"
             ],
             [
              0.5555555555555556,
              "#d8576b"
             ],
             [
              0.6666666666666666,
              "#ed7953"
             ],
             [
              0.7777777777777778,
              "#fb9f3a"
             ],
             [
              0.8888888888888888,
              "#fdca26"
             ],
             [
              1,
              "#f0f921"
             ]
            ],
            "type": "histogram2d"
           }
          ],
          "histogram2dcontour": [
           {
            "colorbar": {
             "outlinewidth": 0,
             "ticks": ""
            },
            "colorscale": [
             [
              0,
              "#0d0887"
             ],
             [
              0.1111111111111111,
              "#46039f"
             ],
             [
              0.2222222222222222,
              "#7201a8"
             ],
             [
              0.3333333333333333,
              "#9c179e"
             ],
             [
              0.4444444444444444,
              "#bd3786"
             ],
             [
              0.5555555555555556,
              "#d8576b"
             ],
             [
              0.6666666666666666,
              "#ed7953"
             ],
             [
              0.7777777777777778,
              "#fb9f3a"
             ],
             [
              0.8888888888888888,
              "#fdca26"
             ],
             [
              1,
              "#f0f921"
             ]
            ],
            "type": "histogram2dcontour"
           }
          ],
          "mesh3d": [
           {
            "colorbar": {
             "outlinewidth": 0,
             "ticks": ""
            },
            "type": "mesh3d"
           }
          ],
          "parcoords": [
           {
            "line": {
             "colorbar": {
              "outlinewidth": 0,
              "ticks": ""
             }
            },
            "type": "parcoords"
           }
          ],
          "pie": [
           {
            "automargin": true,
            "type": "pie"
           }
          ],
          "scatter": [
           {
            "fillpattern": {
             "fillmode": "overlay",
             "size": 10,
             "solidity": 0.2
            },
            "type": "scatter"
           }
          ],
          "scatter3d": [
           {
            "line": {
             "colorbar": {
              "outlinewidth": 0,
              "ticks": ""
             }
            },
            "marker": {
             "colorbar": {
              "outlinewidth": 0,
              "ticks": ""
             }
            },
            "type": "scatter3d"
           }
          ],
          "scattercarpet": [
           {
            "marker": {
             "colorbar": {
              "outlinewidth": 0,
              "ticks": ""
             }
            },
            "type": "scattercarpet"
           }
          ],
          "scattergeo": [
           {
            "marker": {
             "colorbar": {
              "outlinewidth": 0,
              "ticks": ""
             }
            },
            "type": "scattergeo"
           }
          ],
          "scattergl": [
           {
            "marker": {
             "colorbar": {
              "outlinewidth": 0,
              "ticks": ""
             }
            },
            "type": "scattergl"
           }
          ],
          "scattermapbox": [
           {
            "marker": {
             "colorbar": {
              "outlinewidth": 0,
              "ticks": ""
             }
            },
            "type": "scattermapbox"
           }
          ],
          "scatterpolar": [
           {
            "marker": {
             "colorbar": {
              "outlinewidth": 0,
              "ticks": ""
             }
            },
            "type": "scatterpolar"
           }
          ],
          "scatterpolargl": [
           {
            "marker": {
             "colorbar": {
              "outlinewidth": 0,
              "ticks": ""
             }
            },
            "type": "scatterpolargl"
           }
          ],
          "scatterternary": [
           {
            "marker": {
             "colorbar": {
              "outlinewidth": 0,
              "ticks": ""
             }
            },
            "type": "scatterternary"
           }
          ],
          "surface": [
           {
            "colorbar": {
             "outlinewidth": 0,
             "ticks": ""
            },
            "colorscale": [
             [
              0,
              "#0d0887"
             ],
             [
              0.1111111111111111,
              "#46039f"
             ],
             [
              0.2222222222222222,
              "#7201a8"
             ],
             [
              0.3333333333333333,
              "#9c179e"
             ],
             [
              0.4444444444444444,
              "#bd3786"
             ],
             [
              0.5555555555555556,
              "#d8576b"
             ],
             [
              0.6666666666666666,
              "#ed7953"
             ],
             [
              0.7777777777777778,
              "#fb9f3a"
             ],
             [
              0.8888888888888888,
              "#fdca26"
             ],
             [
              1,
              "#f0f921"
             ]
            ],
            "type": "surface"
           }
          ],
          "table": [
           {
            "cells": {
             "fill": {
              "color": "#EBF0F8"
             },
             "line": {
              "color": "white"
             }
            },
            "header": {
             "fill": {
              "color": "#C8D4E3"
             },
             "line": {
              "color": "white"
             }
            },
            "type": "table"
           }
          ]
         },
         "layout": {
          "annotationdefaults": {
           "arrowcolor": "#2a3f5f",
           "arrowhead": 0,
           "arrowwidth": 1
          },
          "autotypenumbers": "strict",
          "coloraxis": {
           "colorbar": {
            "outlinewidth": 0,
            "ticks": ""
           }
          },
          "colorscale": {
           "diverging": [
            [
             0,
             "#8e0152"
            ],
            [
             0.1,
             "#c51b7d"
            ],
            [
             0.2,
             "#de77ae"
            ],
            [
             0.3,
             "#f1b6da"
            ],
            [
             0.4,
             "#fde0ef"
            ],
            [
             0.5,
             "#f7f7f7"
            ],
            [
             0.6,
             "#e6f5d0"
            ],
            [
             0.7,
             "#b8e186"
            ],
            [
             0.8,
             "#7fbc41"
            ],
            [
             0.9,
             "#4d9221"
            ],
            [
             1,
             "#276419"
            ]
           ],
           "sequential": [
            [
             0,
             "#0d0887"
            ],
            [
             0.1111111111111111,
             "#46039f"
            ],
            [
             0.2222222222222222,
             "#7201a8"
            ],
            [
             0.3333333333333333,
             "#9c179e"
            ],
            [
             0.4444444444444444,
             "#bd3786"
            ],
            [
             0.5555555555555556,
             "#d8576b"
            ],
            [
             0.6666666666666666,
             "#ed7953"
            ],
            [
             0.7777777777777778,
             "#fb9f3a"
            ],
            [
             0.8888888888888888,
             "#fdca26"
            ],
            [
             1,
             "#f0f921"
            ]
           ],
           "sequentialminus": [
            [
             0,
             "#0d0887"
            ],
            [
             0.1111111111111111,
             "#46039f"
            ],
            [
             0.2222222222222222,
             "#7201a8"
            ],
            [
             0.3333333333333333,
             "#9c179e"
            ],
            [
             0.4444444444444444,
             "#bd3786"
            ],
            [
             0.5555555555555556,
             "#d8576b"
            ],
            [
             0.6666666666666666,
             "#ed7953"
            ],
            [
             0.7777777777777778,
             "#fb9f3a"
            ],
            [
             0.8888888888888888,
             "#fdca26"
            ],
            [
             1,
             "#f0f921"
            ]
           ]
          },
          "colorway": [
           "#636efa",
           "#EF553B",
           "#00cc96",
           "#ab63fa",
           "#FFA15A",
           "#19d3f3",
           "#FF6692",
           "#B6E880",
           "#FF97FF",
           "#FECB52"
          ],
          "font": {
           "color": "#2a3f5f"
          },
          "geo": {
           "bgcolor": "white",
           "lakecolor": "white",
           "landcolor": "#E5ECF6",
           "showlakes": true,
           "showland": true,
           "subunitcolor": "white"
          },
          "hoverlabel": {
           "align": "left"
          },
          "hovermode": "closest",
          "mapbox": {
           "style": "light"
          },
          "paper_bgcolor": "white",
          "plot_bgcolor": "#E5ECF6",
          "polar": {
           "angularaxis": {
            "gridcolor": "white",
            "linecolor": "white",
            "ticks": ""
           },
           "bgcolor": "#E5ECF6",
           "radialaxis": {
            "gridcolor": "white",
            "linecolor": "white",
            "ticks": ""
           }
          },
          "scene": {
           "xaxis": {
            "backgroundcolor": "#E5ECF6",
            "gridcolor": "white",
            "gridwidth": 2,
            "linecolor": "white",
            "showbackground": true,
            "ticks": "",
            "zerolinecolor": "white"
           },
           "yaxis": {
            "backgroundcolor": "#E5ECF6",
            "gridcolor": "white",
            "gridwidth": 2,
            "linecolor": "white",
            "showbackground": true,
            "ticks": "",
            "zerolinecolor": "white"
           },
           "zaxis": {
            "backgroundcolor": "#E5ECF6",
            "gridcolor": "white",
            "gridwidth": 2,
            "linecolor": "white",
            "showbackground": true,
            "ticks": "",
            "zerolinecolor": "white"
           }
          },
          "shapedefaults": {
           "line": {
            "color": "#2a3f5f"
           }
          },
          "ternary": {
           "aaxis": {
            "gridcolor": "white",
            "linecolor": "white",
            "ticks": ""
           },
           "baxis": {
            "gridcolor": "white",
            "linecolor": "white",
            "ticks": ""
           },
           "bgcolor": "#E5ECF6",
           "caxis": {
            "gridcolor": "white",
            "linecolor": "white",
            "ticks": ""
           }
          },
          "title": {
           "x": 0.05
          },
          "xaxis": {
           "automargin": true,
           "gridcolor": "white",
           "linecolor": "white",
           "ticks": "",
           "title": {
            "standoff": 15
           },
           "zerolinecolor": "white",
           "zerolinewidth": 2
          },
          "yaxis": {
           "automargin": true,
           "gridcolor": "white",
           "linecolor": "white",
           "ticks": "",
           "title": {
            "standoff": 15
           },
           "zerolinecolor": "white",
           "zerolinewidth": 2
          }
         }
        },
        "xaxis": {
         "anchor": "y",
         "domain": [
          0,
          1
         ],
         "title": {
          "text": "Layer"
         }
        },
        "yaxis": {
         "anchor": "x",
         "domain": [
          0,
          1
         ],
         "title": {
          "text": "neg_logprob"
         }
        }
       }
      },
      "text/html": [
       "<div>                            <div id=\"baeadec9-a7e9-408e-af57-3d9ab3401b0f\" class=\"plotly-graph-div\" style=\"height:525px; width:100%;\"></div>            <script type=\"text/javascript\">                require([\"plotly\"], function(Plotly) {                    window.PLOTLYENV=window.PLOTLYENV || {};                                    if (document.getElementById(\"baeadec9-a7e9-408e-af57-3d9ab3401b0f\")) {                    Plotly.newPlot(                        \"baeadec9-a7e9-408e-af57-3d9ab3401b0f\",                        [{\"hovertemplate\":\"Model=IFT\\u003cbr\\u003eLayer=%{x}\\u003cbr\\u003eneg_logprob=%{y}\\u003cextra\\u003e\\u003c\\u002fextra\\u003e\",\"legendgroup\":\"IFT\",\"line\":{\"color\":\"#636efa\",\"dash\":\"solid\"},\"marker\":{\"symbol\":\"circle\"},\"mode\":\"lines\",\"name\":\"IFT\",\"orientation\":\"v\",\"showlegend\":true,\"x\":[\"0_mid\",\"0_post\",\"1_mid\",\"1_post\",\"2_mid\",\"2_post\",\"3_mid\",\"3_post\",\"4_mid\",\"4_post\",\"5_mid\",\"5_post\",\"6_mid\",\"6_post\",\"7_mid\",\"7_post\",\"8_mid\",\"8_post\",\"9_mid\",\"9_post\",\"10_mid\",\"10_post\",\"11_mid\",\"11_post\",\"12_mid\",\"12_post\",\"13_mid\",\"13_post\",\"14_mid\",\"14_post\",\"15_mid\",\"15_post\",\"16_mid\",\"16_post\",\"17_mid\",\"17_post\",\"18_mid\",\"18_post\",\"19_mid\",\"19_post\",\"20_mid\",\"20_post\",\"21_mid\",\"21_post\",\"22_mid\",\"22_post\",\"23_mid\",\"23_post\"],\"xaxis\":\"x\",\"y\":[-13.632166862487793,-15.89104175567627,-16.487287521362305,-11.054523468017578,-14.070908546447754,-12.134320259094238,-13.340950965881348,-16.630144119262695,-13.351222038269043,-14.913041114807129,-15.21062183380127,-21.961950302124023,-23.355119705200195,-24.935211181640625,-31.989526748657227,-34.00780487060547,-32.23211669921875,-24.532039642333984,-30.088346481323242,-33.364593505859375,-33.37731170654297,-42.215084075927734,-42.839778900146484,-39.63618469238281,-39.794925689697266,-54.38480758666992,-61.60920715332031,-57.41902542114258,-58.10722351074219,-69.6583251953125,-70.01342010498047,-84.69216918945312,-83.63249969482422,-101.31407928466797,-82.33849334716797,-88.28038787841797,-77.61763763427734,-96.8642578125,-98.84436798095703,-109.47689056396484,-112.4869155883789,-119.16949462890625,-120.30220031738281,-138.01734924316406,-130.3258056640625,-141.4387664794922,-120.12468719482422,-137.09481811523438],\"yaxis\":\"y\",\"type\":\"scatter\"},{\"hovertemplate\":\"Model=GPT2\\u003cbr\\u003eLayer=%{x}\\u003cbr\\u003eneg_logprob=%{y}\\u003cextra\\u003e\\u003c\\u002fextra\\u003e\",\"legendgroup\":\"GPT2\",\"line\":{\"color\":\"#EF553B\",\"dash\":\"solid\"},\"marker\":{\"symbol\":\"circle\"},\"mode\":\"lines\",\"name\":\"GPT2\",\"orientation\":\"v\",\"showlegend\":true,\"x\":[\"0_mid\",\"0_post\",\"1_mid\",\"1_post\",\"2_mid\",\"2_post\",\"3_mid\",\"3_post\",\"4_mid\",\"4_post\",\"5_mid\",\"5_post\",\"6_mid\",\"6_post\",\"7_mid\",\"7_post\",\"8_mid\",\"8_post\",\"9_mid\",\"9_post\",\"10_mid\",\"10_post\",\"11_mid\",\"11_post\",\"12_mid\",\"12_post\",\"13_mid\",\"13_post\",\"14_mid\",\"14_post\",\"15_mid\",\"15_post\",\"16_mid\",\"16_post\",\"17_mid\",\"17_post\",\"18_mid\",\"18_post\",\"19_mid\",\"19_post\",\"20_mid\",\"20_post\",\"21_mid\",\"21_post\",\"22_mid\",\"22_post\",\"23_mid\",\"23_post\"],\"xaxis\":\"x\",\"y\":[-13.609353065490723,-15.772156715393066,-15.914029121398926,-11.042847633361816,-12.142998695373535,-12.070103645324707,-13.51995849609375,-16.395465850830078,-14.662827491760254,-15.684428215026855,-14.971822738647461,-16.79831886291504,-13.956997871398926,-16.22467613220215,-16.342992782592773,-22.42367935180664,-20.30159568786621,-21.595762252807617,-18.175992965698242,-12.873393058776855,-19.389114379882812,-18.552310943603516,-11.597545623779297,-16.181581497192383,-11.794947624206543,-23.472475051879883,-4.086602687835693,-12.880964279174805,-8.004385948181152,-13.62023639678955,-16.790563583374023,-24.57143211364746,-20.910400390625,-34.544952392578125,-14.701723098754883,-23.96627426147461,-21.808629989624023,-56.02154541015625,-53.50672912597656,-81.57989501953125,-39.37261962890625,-48.99530029296875,-32.14727783203125,-40.7730712890625,-15.71429443359375,-18.213531494140625,0.0,0.0],\"yaxis\":\"y\",\"type\":\"scatter\"},{\"hovertemplate\":\"Model=IFT_10\\u003cbr\\u003eLayer=%{x}\\u003cbr\\u003eneg_logprob=%{y}\\u003cextra\\u003e\\u003c\\u002fextra\\u003e\",\"legendgroup\":\"IFT_10\",\"line\":{\"color\":\"#00cc96\",\"dash\":\"solid\"},\"marker\":{\"symbol\":\"circle\"},\"mode\":\"lines\",\"name\":\"IFT_10\",\"orientation\":\"v\",\"showlegend\":true,\"x\":[\"0_mid\",\"0_post\",\"1_mid\",\"1_post\",\"2_mid\",\"2_post\",\"3_mid\",\"3_post\",\"4_mid\",\"4_post\",\"5_mid\",\"5_post\",\"6_mid\",\"6_post\",\"7_mid\",\"7_post\",\"8_mid\",\"8_post\",\"9_mid\",\"9_post\",\"10_mid\",\"10_post\",\"11_mid\",\"11_post\",\"12_mid\",\"12_post\",\"13_mid\",\"13_post\",\"14_mid\",\"14_post\",\"15_mid\",\"15_post\",\"16_mid\",\"16_post\",\"17_mid\",\"17_post\",\"18_mid\",\"18_post\",\"19_mid\",\"19_post\",\"20_mid\",\"20_post\",\"21_mid\",\"21_post\",\"22_mid\",\"22_post\",\"23_mid\",\"23_post\"],\"xaxis\":\"x\",\"y\":[-11.670305252075195,-21.51677894592285,-21.261865615844727,-24.909997940063477,-26.587736129760742,-24.296432495117188,-24.56744956970215,-29.07433319091797,-29.004940032958984,-31.141925811767578,-32.05508804321289,-39.47895812988281,-41.90483093261719,-36.9569091796875,-36.70851516723633,-37.18215560913086,-36.5605583190918,-32.311363220214844,-32.130001068115234,-36.61334228515625,-35.6251335144043,-29.178831100463867,-19.57895851135254,-13.615988731384277,-9.752649307250977,-16.948644638061523,-17.967933654785156,-23.6107234954834,-31.26517677307129,-24.360538482666016,-22.18634033203125,-12.573546409606934,-14.92216968536377,-20.31528091430664,-17.879962921142578,-22.256452560424805,-28.946989059448242,-31.546964645385742,-40.343666076660156,-49.09976577758789,-54.54868698120117,-75.714111328125,-76.86366271972656,-91.84770202636719,-110.2527847290039,-137.90821838378906,-170.46018981933594,-199.91094970703125],\"yaxis\":\"y\",\"type\":\"scatter\"},{\"hovertemplate\":\"Model=GPT2_10\\u003cbr\\u003eLayer=%{x}\\u003cbr\\u003eneg_logprob=%{y}\\u003cextra\\u003e\\u003c\\u002fextra\\u003e\",\"legendgroup\":\"GPT2_10\",\"line\":{\"color\":\"#ab63fa\",\"dash\":\"solid\"},\"marker\":{\"symbol\":\"circle\"},\"mode\":\"lines\",\"name\":\"GPT2_10\",\"orientation\":\"v\",\"showlegend\":true,\"x\":[\"0_mid\",\"0_post\",\"1_mid\",\"1_post\",\"2_mid\",\"2_post\",\"3_mid\",\"3_post\",\"4_mid\",\"4_post\",\"5_mid\",\"5_post\",\"6_mid\",\"6_post\",\"7_mid\",\"7_post\",\"8_mid\",\"8_post\",\"9_mid\",\"9_post\",\"10_mid\",\"10_post\",\"11_mid\",\"11_post\",\"12_mid\",\"12_post\",\"13_mid\",\"13_post\",\"14_mid\",\"14_post\",\"15_mid\",\"15_post\",\"16_mid\",\"16_post\",\"17_mid\",\"17_post\",\"18_mid\",\"18_post\",\"19_mid\",\"19_post\",\"20_mid\",\"20_post\",\"21_mid\",\"21_post\",\"22_mid\",\"22_post\",\"23_mid\",\"23_post\"],\"xaxis\":\"x\",\"y\":[-11.866107940673828,-22.284835815429688,-21.77016830444336,-24.08639907836914,-26.380558013916016,-26.063072204589844,-27.046276092529297,-31.892532348632812,-30.802627563476562,-33.93156051635742,-33.75563049316406,-39.52520751953125,-42.42835998535156,-42.00358963012695,-40.7638053894043,-40.49696350097656,-39.10634231567383,-35.5533561706543,-32.56992721557617,-29.378360748291016,-34.85079574584961,-24.135372161865234,-21.691967010498047,-21.610857009887695,-17.47457504272461,-17.782175064086914,-19.03598976135254,-21.8646297454834,-27.224349975585938,-31.398052215576172,-33.638465881347656,-30.22174644470215,-27.946487426757812,-27.80499267578125,-24.256441116333008,-16.93362045288086,-29.15668296813965,-37.78205871582031,-41.215576171875,-41.493560791015625,-41.562957763671875,-47.685943603515625,-47.85284423828125,-50.576171875,-54.717254638671875,-53.75933837890625,-73.28955078125,-85.1876220703125],\"yaxis\":\"y\",\"type\":\"scatter\"},{\"hovertemplate\":\"Model=IFT_100\\u003cbr\\u003eLayer=%{x}\\u003cbr\\u003eneg_logprob=%{y}\\u003cextra\\u003e\\u003c\\u002fextra\\u003e\",\"legendgroup\":\"IFT_100\",\"line\":{\"color\":\"#FFA15A\",\"dash\":\"solid\"},\"marker\":{\"symbol\":\"circle\"},\"mode\":\"lines\",\"name\":\"IFT_100\",\"orientation\":\"v\",\"showlegend\":true,\"x\":[\"0_mid\",\"0_post\",\"1_mid\",\"1_post\",\"2_mid\",\"2_post\",\"3_mid\",\"3_post\",\"4_mid\",\"4_post\",\"5_mid\",\"5_post\",\"6_mid\",\"6_post\",\"7_mid\",\"7_post\",\"8_mid\",\"8_post\",\"9_mid\",\"9_post\",\"10_mid\",\"10_post\",\"11_mid\",\"11_post\",\"12_mid\",\"12_post\",\"13_mid\",\"13_post\",\"14_mid\",\"14_post\",\"15_mid\",\"15_post\",\"16_mid\",\"16_post\",\"17_mid\",\"17_post\",\"18_mid\",\"18_post\",\"19_mid\",\"19_post\",\"20_mid\",\"20_post\",\"21_mid\",\"21_post\",\"22_mid\",\"22_post\",\"23_mid\",\"23_post\",\"0_mid\",\"0_post\",\"1_mid\",\"1_post\",\"2_mid\",\"2_post\",\"3_mid\",\"3_post\",\"4_mid\",\"4_post\",\"5_mid\",\"5_post\",\"6_mid\",\"6_post\",\"7_mid\",\"7_post\",\"8_mid\",\"8_post\",\"9_mid\",\"9_post\",\"10_mid\",\"10_post\",\"11_mid\",\"11_post\",\"12_mid\",\"12_post\",\"13_mid\",\"13_post\",\"14_mid\",\"14_post\",\"15_mid\",\"15_post\",\"16_mid\",\"16_post\",\"17_mid\",\"17_post\",\"18_mid\",\"18_post\",\"19_mid\",\"19_post\",\"20_mid\",\"20_post\",\"21_mid\",\"21_post\",\"22_mid\",\"22_post\",\"23_mid\",\"23_post\"],\"xaxis\":\"x\",\"y\":[-13.221242904663086,-18.25078582763672,-21.30073356628418,-17.840621948242188,-22.46116065979004,-23.046354293823242,-24.3354549407959,-24.90859031677246,-23.589567184448242,-22.032657623291016,-22.416006088256836,-29.856271743774414,-33.46707534790039,-33.328269958496094,-39.48196029663086,-41.28081130981445,-42.04222106933594,-38.52284240722656,-39.94443130493164,-43.21794128417969,-41.60056686401367,-43.46642303466797,-40.328372955322266,-38.6776008605957,-40.27518844604492,-53.07163619995117,-54.510231018066406,-39.557212829589844,-41.6919059753418,-37.23025131225586,-38.881690979003906,-36.588653564453125,-44.511295318603516,-59.02934646606445,-71.60395050048828,-71.76553344726562,-70.65330505371094,-82.15975952148438,-76.8387222290039,-88.24723052978516,-93.2869644165039,-90.48764038085938,-99.00738525390625,-93.77162170410156,-92.40738677978516,-92.44288635253906,-92.21306610107422,-104.811279296875,-13.221242904663086,-18.25078582763672,-21.30073356628418,-17.840621948242188,-22.46116065979004,-23.046354293823242,-24.3354549407959,-24.90859031677246,-23.589567184448242,-22.032657623291016,-22.416006088256836,-29.856271743774414,-33.46707534790039,-33.328269958496094,-39.48196029663086,-41.28081130981445,-42.04222106933594,-38.52284240722656,-39.94443130493164,-43.21794128417969,-41.60056686401367,-43.46642303466797,-40.328372955322266,-38.6776008605957,-40.27518844604492,-53.07163619995117,-54.510231018066406,-39.557212829589844,-41.6919059753418,-37.23025131225586,-38.881690979003906,-36.588653564453125,-44.511295318603516,-59.02934646606445,-71.60395050048828,-71.76553344726562,-70.65330505371094,-82.15975952148438,-76.8387222290039,-88.24723052978516,-93.2869644165039,-90.48764038085938,-99.00738525390625,-93.77162170410156,-92.40738677978516,-92.44288635253906,-92.21306610107422,-104.811279296875],\"yaxis\":\"y\",\"type\":\"scatter\"},{\"hovertemplate\":\"Model=GPT2_100\\u003cbr\\u003eLayer=%{x}\\u003cbr\\u003eneg_logprob=%{y}\\u003cextra\\u003e\\u003c\\u002fextra\\u003e\",\"legendgroup\":\"GPT2_100\",\"line\":{\"color\":\"#19d3f3\",\"dash\":\"solid\"},\"marker\":{\"symbol\":\"circle\"},\"mode\":\"lines\",\"name\":\"GPT2_100\",\"orientation\":\"v\",\"showlegend\":true,\"x\":[\"0_mid\",\"0_post\",\"1_mid\",\"1_post\",\"2_mid\",\"2_post\",\"3_mid\",\"3_post\",\"4_mid\",\"4_post\",\"5_mid\",\"5_post\",\"6_mid\",\"6_post\",\"7_mid\",\"7_post\",\"8_mid\",\"8_post\",\"9_mid\",\"9_post\",\"10_mid\",\"10_post\",\"11_mid\",\"11_post\",\"12_mid\",\"12_post\",\"13_mid\",\"13_post\",\"14_mid\",\"14_post\",\"15_mid\",\"15_post\",\"16_mid\",\"16_post\",\"17_mid\",\"17_post\",\"18_mid\",\"18_post\",\"19_mid\",\"19_post\",\"20_mid\",\"20_post\",\"21_mid\",\"21_post\",\"22_mid\",\"22_post\",\"23_mid\",\"23_post\",\"0_mid\",\"0_post\",\"1_mid\",\"1_post\",\"2_mid\",\"2_post\",\"3_mid\",\"3_post\",\"4_mid\",\"4_post\",\"5_mid\",\"5_post\",\"6_mid\",\"6_post\",\"7_mid\",\"7_post\",\"8_mid\",\"8_post\",\"9_mid\",\"9_post\",\"10_mid\",\"10_post\",\"11_mid\",\"11_post\",\"12_mid\",\"12_post\",\"13_mid\",\"13_post\",\"14_mid\",\"14_post\",\"15_mid\",\"15_post\",\"16_mid\",\"16_post\",\"17_mid\",\"17_post\",\"18_mid\",\"18_post\",\"19_mid\",\"19_post\",\"20_mid\",\"20_post\",\"21_mid\",\"21_post\",\"22_mid\",\"22_post\",\"23_mid\",\"23_post\"],\"xaxis\":\"x\",\"y\":[-13.176461219787598,-18.993282318115234,-21.85073471069336,-19.234477996826172,-22.60873031616211,-23.059452056884766,-24.867935180664062,-24.61004638671875,-25.579853057861328,-24.931150436401367,-23.490406036376953,-25.163341522216797,-26.04466438293457,-28.215856552124023,-29.598859786987305,-34.93829345703125,-33.641326904296875,-32.565547943115234,-35.08770751953125,-28.770233154296875,-38.25959777832031,-30.53403091430664,-30.858287811279297,-35.038570404052734,-38.07743453979492,-45.64514923095703,-44.707420349121094,-45.792633056640625,-48.48766326904297,-49.615962982177734,-50.581581115722656,-54.0216064453125,-55.27320098876953,-66.86796569824219,-72.27835083007812,-73.64705657958984,-78.35604095458984,-107.43960571289062,-104.656005859375,-112.67764282226562,-112.1605224609375,-116.29934692382812,-125.380126953125,-130.68112182617188,-136.07452392578125,-126.32061767578125,-151.84527587890625,-148.98568725585938,-13.176461219787598,-18.993282318115234,-21.85073471069336,-19.234477996826172,-22.60873031616211,-23.059452056884766,-24.867935180664062,-24.61004638671875,-25.579853057861328,-24.931150436401367,-23.490406036376953,-25.163341522216797,-26.04466438293457,-28.215856552124023,-29.598859786987305,-34.93829345703125,-33.641326904296875,-32.565547943115234,-35.08770751953125,-28.770233154296875,-38.25959777832031,-30.53403091430664,-30.858287811279297,-35.038570404052734,-38.07743453979492,-45.64514923095703,-44.707420349121094,-45.792633056640625,-48.48766326904297,-49.615962982177734,-50.581581115722656,-54.0216064453125,-55.27320098876953,-66.86796569824219,-72.27835083007812,-73.64705657958984,-78.35604095458984,-107.43960571289062,-104.656005859375,-112.67764282226562,-112.1605224609375,-116.29934692382812,-125.380126953125,-130.68112182617188,-136.07452392578125,-126.32061767578125,-151.84527587890625,-148.98568725585938],\"yaxis\":\"y\",\"type\":\"scatter\"},{\"hovertemplate\":\"Model=IFT_10000\\u003cbr\\u003eLayer=%{x}\\u003cbr\\u003eneg_logprob=%{y}\\u003cextra\\u003e\\u003c\\u002fextra\\u003e\",\"legendgroup\":\"IFT_10000\",\"line\":{\"color\":\"#FF6692\",\"dash\":\"solid\"},\"marker\":{\"symbol\":\"circle\"},\"mode\":\"lines\",\"name\":\"IFT_10000\",\"orientation\":\"v\",\"showlegend\":true,\"x\":[\"0_mid\",\"0_post\",\"1_mid\",\"1_post\",\"2_mid\",\"2_post\",\"3_mid\",\"3_post\",\"4_mid\",\"4_post\",\"5_mid\",\"5_post\",\"6_mid\",\"6_post\",\"7_mid\",\"7_post\",\"8_mid\",\"8_post\",\"9_mid\",\"9_post\",\"10_mid\",\"10_post\",\"11_mid\",\"11_post\",\"12_mid\",\"12_post\",\"13_mid\",\"13_post\",\"14_mid\",\"14_post\",\"15_mid\",\"15_post\",\"16_mid\",\"16_post\",\"17_mid\",\"17_post\",\"18_mid\",\"18_post\",\"19_mid\",\"19_post\",\"20_mid\",\"20_post\",\"21_mid\",\"21_post\",\"22_mid\",\"22_post\",\"23_mid\",\"23_post\"],\"xaxis\":\"x\",\"y\":[-12.72164249420166,-35.50550842285156,-41.671512603759766,-40.147884368896484,-42.43509292602539,-41.82036209106445,-41.94099807739258,-49.510841369628906,-48.65090560913086,-55.00349426269531,-50.37004852294922,-60.36430358886719,-63.04557800292969,-69.6826400756836,-76.45256805419922,-84.86080932617188,-81.8063735961914,-74.78535461425781,-81.32554626464844,-79.35908508300781,-81.5741958618164,-78.39749145507812,-78.56453704833984,-81.0296401977539,-84.64198303222656,-101.388427734375,-112.1836166381836,-112.42253112792969,-115.06916046142578,-131.94735717773438,-130.61289978027344,-142.4172821044922,-142.6064910888672,-169.74301147460938,-167.12049865722656,-176.62020874023438,-158.55747985839844,-184.38116455078125,-186.0587615966797,-220.76480102539062,-251.4358673095703,-278.3475341796875,-287.96551513671875,-340.31744384765625,-341.1392822265625,-377.4818420410156,-398.3926696777344,-464.4095458984375],\"yaxis\":\"y\",\"type\":\"scatter\"},{\"hovertemplate\":\"Model=GPT2_10000\\u003cbr\\u003eLayer=%{x}\\u003cbr\\u003eneg_logprob=%{y}\\u003cextra\\u003e\\u003c\\u002fextra\\u003e\",\"legendgroup\":\"GPT2_10000\",\"line\":{\"color\":\"#B6E880\",\"dash\":\"solid\"},\"marker\":{\"symbol\":\"circle\"},\"mode\":\"lines\",\"name\":\"GPT2_10000\",\"orientation\":\"v\",\"showlegend\":true,\"x\":[\"0_mid\",\"0_post\",\"1_mid\",\"1_post\",\"2_mid\",\"2_post\",\"3_mid\",\"3_post\",\"4_mid\",\"4_post\",\"5_mid\",\"5_post\",\"6_mid\",\"6_post\",\"7_mid\",\"7_post\",\"8_mid\",\"8_post\",\"9_mid\",\"9_post\",\"10_mid\",\"10_post\",\"11_mid\",\"11_post\",\"12_mid\",\"12_post\",\"13_mid\",\"13_post\",\"14_mid\",\"14_post\",\"15_mid\",\"15_post\",\"16_mid\",\"16_post\",\"17_mid\",\"17_post\",\"18_mid\",\"18_post\",\"19_mid\",\"19_post\",\"20_mid\",\"20_post\",\"21_mid\",\"21_post\",\"22_mid\",\"22_post\",\"23_mid\",\"23_post\"],\"xaxis\":\"x\",\"y\":[-12.778581619262695,-35.94066619873047,-41.57835388183594,-41.01156997680664,-43.48692321777344,-44.4725456237793,-45.51003646850586,-51.14273452758789,-51.12430953979492,-56.02482223510742,-50.25579833984375,-57.6479377746582,-60.19001770019531,-66.55890655517578,-70.0130844116211,-80.64746856689453,-82.0540771484375,-73.29822540283203,-77.67952728271484,-76.14397430419922,-89.01874542236328,-84.50206756591797,-94.16141510009766,-101.70259857177734,-102.94529724121094,-114.99179077148438,-127.20209503173828,-129.75421142578125,-141.294677734375,-158.70504760742188,-167.15890502929688,-177.60772705078125,-177.37789916992188,-197.76158142089844,-203.057861328125,-207.07879638671875,-219.47792053222656,-260.60498046875,-271.4185791015625,-313.948974609375,-325.0075378417969,-336.2227478027344,-349.75445556640625,-371.6650695800781,-374.2757568359375,-378.87969970703125,-407.2061767578125,-398.1211242675781],\"yaxis\":\"y\",\"type\":\"scatter\"}],                        {\"template\":{\"data\":{\"histogram2dcontour\":[{\"type\":\"histogram2dcontour\",\"colorbar\":{\"outlinewidth\":0,\"ticks\":\"\"},\"colorscale\":[[0.0,\"#0d0887\"],[0.1111111111111111,\"#46039f\"],[0.2222222222222222,\"#7201a8\"],[0.3333333333333333,\"#9c179e\"],[0.4444444444444444,\"#bd3786\"],[0.5555555555555556,\"#d8576b\"],[0.6666666666666666,\"#ed7953\"],[0.7777777777777778,\"#fb9f3a\"],[0.8888888888888888,\"#fdca26\"],[1.0,\"#f0f921\"]]}],\"choropleth\":[{\"type\":\"choropleth\",\"colorbar\":{\"outlinewidth\":0,\"ticks\":\"\"}}],\"histogram2d\":[{\"type\":\"histogram2d\",\"colorbar\":{\"outlinewidth\":0,\"ticks\":\"\"},\"colorscale\":[[0.0,\"#0d0887\"],[0.1111111111111111,\"#46039f\"],[0.2222222222222222,\"#7201a8\"],[0.3333333333333333,\"#9c179e\"],[0.4444444444444444,\"#bd3786\"],[0.5555555555555556,\"#d8576b\"],[0.6666666666666666,\"#ed7953\"],[0.7777777777777778,\"#fb9f3a\"],[0.8888888888888888,\"#fdca26\"],[1.0,\"#f0f921\"]]}],\"heatmap\":[{\"type\":\"heatmap\",\"colorbar\":{\"outlinewidth\":0,\"ticks\":\"\"},\"colorscale\":[[0.0,\"#0d0887\"],[0.1111111111111111,\"#46039f\"],[0.2222222222222222,\"#7201a8\"],[0.3333333333333333,\"#9c179e\"],[0.4444444444444444,\"#bd3786\"],[0.5555555555555556,\"#d8576b\"],[0.6666666666666666,\"#ed7953\"],[0.7777777777777778,\"#fb9f3a\"],[0.8888888888888888,\"#fdca26\"],[1.0,\"#f0f921\"]]}],\"heatmapgl\":[{\"type\":\"heatmapgl\",\"colorbar\":{\"outlinewidth\":0,\"ticks\":\"\"},\"colorscale\":[[0.0,\"#0d0887\"],[0.1111111111111111,\"#46039f\"],[0.2222222222222222,\"#7201a8\"],[0.3333333333333333,\"#9c179e\"],[0.4444444444444444,\"#bd3786\"],[0.5555555555555556,\"#d8576b\"],[0.6666666666666666,\"#ed7953\"],[0.7777777777777778,\"#fb9f3a\"],[0.8888888888888888,\"#fdca26\"],[1.0,\"#f0f921\"]]}],\"contourcarpet\":[{\"type\":\"contourcarpet\",\"colorbar\":{\"outlinewidth\":0,\"ticks\":\"\"}}],\"contour\":[{\"type\":\"contour\",\"colorbar\":{\"outlinewidth\":0,\"ticks\":\"\"},\"colorscale\":[[0.0,\"#0d0887\"],[0.1111111111111111,\"#46039f\"],[0.2222222222222222,\"#7201a8\"],[0.3333333333333333,\"#9c179e\"],[0.4444444444444444,\"#bd3786\"],[0.5555555555555556,\"#d8576b\"],[0.6666666666666666,\"#ed7953\"],[0.7777777777777778,\"#fb9f3a\"],[0.8888888888888888,\"#fdca26\"],[1.0,\"#f0f921\"]]}],\"surface\":[{\"type\":\"surface\",\"colorbar\":{\"outlinewidth\":0,\"ticks\":\"\"},\"colorscale\":[[0.0,\"#0d0887\"],[0.1111111111111111,\"#46039f\"],[0.2222222222222222,\"#7201a8\"],[0.3333333333333333,\"#9c179e\"],[0.4444444444444444,\"#bd3786\"],[0.5555555555555556,\"#d8576b\"],[0.6666666666666666,\"#ed7953\"],[0.7777777777777778,\"#fb9f3a\"],[0.8888888888888888,\"#fdca26\"],[1.0,\"#f0f921\"]]}],\"mesh3d\":[{\"type\":\"mesh3d\",\"colorbar\":{\"outlinewidth\":0,\"ticks\":\"\"}}],\"scatter\":[{\"fillpattern\":{\"fillmode\":\"overlay\",\"size\":10,\"solidity\":0.2},\"type\":\"scatter\"}],\"parcoords\":[{\"type\":\"parcoords\",\"line\":{\"colorbar\":{\"outlinewidth\":0,\"ticks\":\"\"}}}],\"scatterpolargl\":[{\"type\":\"scatterpolargl\",\"marker\":{\"colorbar\":{\"outlinewidth\":0,\"ticks\":\"\"}}}],\"bar\":[{\"error_x\":{\"color\":\"#2a3f5f\"},\"error_y\":{\"color\":\"#2a3f5f\"},\"marker\":{\"line\":{\"color\":\"#E5ECF6\",\"width\":0.5},\"pattern\":{\"fillmode\":\"overlay\",\"size\":10,\"solidity\":0.2}},\"type\":\"bar\"}],\"scattergeo\":[{\"type\":\"scattergeo\",\"marker\":{\"colorbar\":{\"outlinewidth\":0,\"ticks\":\"\"}}}],\"scatterpolar\":[{\"type\":\"scatterpolar\",\"marker\":{\"colorbar\":{\"outlinewidth\":0,\"ticks\":\"\"}}}],\"histogram\":[{\"marker\":{\"pattern\":{\"fillmode\":\"overlay\",\"size\":10,\"solidity\":0.2}},\"type\":\"histogram\"}],\"scattergl\":[{\"type\":\"scattergl\",\"marker\":{\"colorbar\":{\"outlinewidth\":0,\"ticks\":\"\"}}}],\"scatter3d\":[{\"type\":\"scatter3d\",\"line\":{\"colorbar\":{\"outlinewidth\":0,\"ticks\":\"\"}},\"marker\":{\"colorbar\":{\"outlinewidth\":0,\"ticks\":\"\"}}}],\"scattermapbox\":[{\"type\":\"scattermapbox\",\"marker\":{\"colorbar\":{\"outlinewidth\":0,\"ticks\":\"\"}}}],\"scatterternary\":[{\"type\":\"scatterternary\",\"marker\":{\"colorbar\":{\"outlinewidth\":0,\"ticks\":\"\"}}}],\"scattercarpet\":[{\"type\":\"scattercarpet\",\"marker\":{\"colorbar\":{\"outlinewidth\":0,\"ticks\":\"\"}}}],\"carpet\":[{\"aaxis\":{\"endlinecolor\":\"#2a3f5f\",\"gridcolor\":\"white\",\"linecolor\":\"white\",\"minorgridcolor\":\"white\",\"startlinecolor\":\"#2a3f5f\"},\"baxis\":{\"endlinecolor\":\"#2a3f5f\",\"gridcolor\":\"white\",\"linecolor\":\"white\",\"minorgridcolor\":\"white\",\"startlinecolor\":\"#2a3f5f\"},\"type\":\"carpet\"}],\"table\":[{\"cells\":{\"fill\":{\"color\":\"#EBF0F8\"},\"line\":{\"color\":\"white\"}},\"header\":{\"fill\":{\"color\":\"#C8D4E3\"},\"line\":{\"color\":\"white\"}},\"type\":\"table\"}],\"barpolar\":[{\"marker\":{\"line\":{\"color\":\"#E5ECF6\",\"width\":0.5},\"pattern\":{\"fillmode\":\"overlay\",\"size\":10,\"solidity\":0.2}},\"type\":\"barpolar\"}],\"pie\":[{\"automargin\":true,\"type\":\"pie\"}]},\"layout\":{\"autotypenumbers\":\"strict\",\"colorway\":[\"#636efa\",\"#EF553B\",\"#00cc96\",\"#ab63fa\",\"#FFA15A\",\"#19d3f3\",\"#FF6692\",\"#B6E880\",\"#FF97FF\",\"#FECB52\"],\"font\":{\"color\":\"#2a3f5f\"},\"hovermode\":\"closest\",\"hoverlabel\":{\"align\":\"left\"},\"paper_bgcolor\":\"white\",\"plot_bgcolor\":\"#E5ECF6\",\"polar\":{\"bgcolor\":\"#E5ECF6\",\"angularaxis\":{\"gridcolor\":\"white\",\"linecolor\":\"white\",\"ticks\":\"\"},\"radialaxis\":{\"gridcolor\":\"white\",\"linecolor\":\"white\",\"ticks\":\"\"}},\"ternary\":{\"bgcolor\":\"#E5ECF6\",\"aaxis\":{\"gridcolor\":\"white\",\"linecolor\":\"white\",\"ticks\":\"\"},\"baxis\":{\"gridcolor\":\"white\",\"linecolor\":\"white\",\"ticks\":\"\"},\"caxis\":{\"gridcolor\":\"white\",\"linecolor\":\"white\",\"ticks\":\"\"}},\"coloraxis\":{\"colorbar\":{\"outlinewidth\":0,\"ticks\":\"\"}},\"colorscale\":{\"sequential\":[[0.0,\"#0d0887\"],[0.1111111111111111,\"#46039f\"],[0.2222222222222222,\"#7201a8\"],[0.3333333333333333,\"#9c179e\"],[0.4444444444444444,\"#bd3786\"],[0.5555555555555556,\"#d8576b\"],[0.6666666666666666,\"#ed7953\"],[0.7777777777777778,\"#fb9f3a\"],[0.8888888888888888,\"#fdca26\"],[1.0,\"#f0f921\"]],\"sequentialminus\":[[0.0,\"#0d0887\"],[0.1111111111111111,\"#46039f\"],[0.2222222222222222,\"#7201a8\"],[0.3333333333333333,\"#9c179e\"],[0.4444444444444444,\"#bd3786\"],[0.5555555555555556,\"#d8576b\"],[0.6666666666666666,\"#ed7953\"],[0.7777777777777778,\"#fb9f3a\"],[0.8888888888888888,\"#fdca26\"],[1.0,\"#f0f921\"]],\"diverging\":[[0,\"#8e0152\"],[0.1,\"#c51b7d\"],[0.2,\"#de77ae\"],[0.3,\"#f1b6da\"],[0.4,\"#fde0ef\"],[0.5,\"#f7f7f7\"],[0.6,\"#e6f5d0\"],[0.7,\"#b8e186\"],[0.8,\"#7fbc41\"],[0.9,\"#4d9221\"],[1,\"#276419\"]]},\"xaxis\":{\"gridcolor\":\"white\",\"linecolor\":\"white\",\"ticks\":\"\",\"title\":{\"standoff\":15},\"zerolinecolor\":\"white\",\"automargin\":true,\"zerolinewidth\":2},\"yaxis\":{\"gridcolor\":\"white\",\"linecolor\":\"white\",\"ticks\":\"\",\"title\":{\"standoff\":15},\"zerolinecolor\":\"white\",\"automargin\":true,\"zerolinewidth\":2},\"scene\":{\"xaxis\":{\"backgroundcolor\":\"#E5ECF6\",\"gridcolor\":\"white\",\"linecolor\":\"white\",\"showbackground\":true,\"ticks\":\"\",\"zerolinecolor\":\"white\",\"gridwidth\":2},\"yaxis\":{\"backgroundcolor\":\"#E5ECF6\",\"gridcolor\":\"white\",\"linecolor\":\"white\",\"showbackground\":true,\"ticks\":\"\",\"zerolinecolor\":\"white\",\"gridwidth\":2},\"zaxis\":{\"backgroundcolor\":\"#E5ECF6\",\"gridcolor\":\"white\",\"linecolor\":\"white\",\"showbackground\":true,\"ticks\":\"\",\"zerolinecolor\":\"white\",\"gridwidth\":2}},\"shapedefaults\":{\"line\":{\"color\":\"#2a3f5f\"}},\"annotationdefaults\":{\"arrowcolor\":\"#2a3f5f\",\"arrowhead\":0,\"arrowwidth\":1},\"geo\":{\"bgcolor\":\"white\",\"landcolor\":\"#E5ECF6\",\"subunitcolor\":\"white\",\"showland\":true,\"showlakes\":true,\"lakecolor\":\"white\"},\"title\":{\"x\":0.05},\"mapbox\":{\"style\":\"light\"}}},\"xaxis\":{\"anchor\":\"y\",\"domain\":[0.0,1.0],\"title\":{\"text\":\"Layer\"}},\"yaxis\":{\"anchor\":\"x\",\"domain\":[0.0,1.0],\"title\":{\"text\":\"neg_logprob\"}},\"legend\":{\"title\":{\"text\":\"Model\"},\"tracegroupgap\":0},\"margin\":{\"t\":60}},                        {\"responsive\": true}                    ).then(function(){\n",
       "                            \n",
       "var gd = document.getElementById('baeadec9-a7e9-408e-af57-3d9ab3401b0f');\n",
       "var x = new MutationObserver(function (mutations, observer) {{\n",
       "        var display = window.getComputedStyle(gd).display;\n",
       "        if (!display || display === 'none') {{\n",
       "            console.log([gd, 'removed!']);\n",
       "            Plotly.purge(gd);\n",
       "            observer.disconnect();\n",
       "        }}\n",
       "}});\n",
       "\n",
       "// Listen for the removal of the full notebook cells\n",
       "var notebookContainer = gd.closest('#notebook-container');\n",
       "if (notebookContainer) {{\n",
       "    x.observe(notebookContainer, {childList: true});\n",
       "}}\n",
       "\n",
       "// Listen for the clearing of the current output cell\n",
       "var outputEl = gd.closest('.output');\n",
       "if (outputEl) {{\n",
       "    x.observe(outputEl, {childList: true});\n",
       "}}\n",
       "\n",
       "                        })                };                });            </script>        </div>"
      ]
     },
     "metadata": {},
     "output_type": "display_data"
    },
    {
     "name": "stdout",
     "output_type": "stream",
     "text": [
      "zzzzzzzzzzzzzzzzzzzzzzzzzzzzzzzzzzzzzzzzzzzzzzzzzzzz\n",
      "Neg tok: 11748\n",
      "Tok id: 1101\n"
     ]
    },
    {
     "data": {
      "application/vnd.plotly.v1+json": {
       "config": {
        "plotlyServerURL": "https://plot.ly"
       },
       "data": [
        {
         "hovertemplate": "Model=IFT<br>Layer=%{x}<br>neg_logprob=%{y}<extra></extra>",
         "legendgroup": "IFT",
         "line": {
          "color": "#636efa",
          "dash": "solid"
         },
         "marker": {
          "symbol": "circle"
         },
         "mode": "lines",
         "name": "IFT",
         "orientation": "v",
         "showlegend": true,
         "type": "scatter",
         "x": [
          "0_mid",
          "0_post",
          "1_mid",
          "1_post",
          "2_mid",
          "2_post",
          "3_mid",
          "3_post",
          "4_mid",
          "4_post",
          "5_mid",
          "5_post",
          "6_mid",
          "6_post",
          "7_mid",
          "7_post",
          "8_mid",
          "8_post",
          "9_mid",
          "9_post",
          "10_mid",
          "10_post",
          "11_mid",
          "11_post",
          "12_mid",
          "12_post",
          "13_mid",
          "13_post",
          "14_mid",
          "14_post",
          "15_mid",
          "15_post",
          "16_mid",
          "16_post",
          "17_mid",
          "17_post",
          "18_mid",
          "18_post",
          "19_mid",
          "19_post",
          "20_mid",
          "20_post",
          "21_mid",
          "21_post",
          "22_mid",
          "22_post",
          "23_mid",
          "23_post"
         ],
         "xaxis": "x",
         "y": [
          -10.968925476074219,
          -0.748222291469574,
          -0.766362190246582,
          -0.12562090158462524,
          -0.40124303102493286,
          -0.23406100273132324,
          -0.1623086929321289,
          -0.04117231443524361,
          -0.035579316318035126,
          -0.008571264334022999,
          -0.003980452660471201,
          -0.001538642100058496,
          -0.008210240863263607,
          -0.0053656138479709625,
          -0.014602220617234707,
          -0.01425100676715374,
          -0.011200882494449615,
          -0.013362965546548367,
          -0.03106188029050827,
          -0.006055579520761967,
          -0.011977773159742355,
          -0.015825390815734863,
          -0.010515284724533558,
          -0.012041849084198475,
          -0.3451647162437439,
          -0.03590632975101471,
          -0.09224410355091095,
          -0.008817191235721111,
          -0.0014969820622354746,
          -7.152555099310121e-07,
          0,
          -1.1920928244535389e-07,
          0,
          0,
          0,
          0,
          0,
          0,
          0,
          0,
          0,
          -1.1920928244535389e-07,
          0,
          -3.6619434356689453,
          -6.55629628454335e-05,
          -2.3841855067985307e-07,
          0,
          -14.291108131408691
         ],
         "yaxis": "y"
        },
        {
         "hovertemplate": "Model=GPT2<br>Layer=%{x}<br>neg_logprob=%{y}<extra></extra>",
         "legendgroup": "GPT2",
         "line": {
          "color": "#EF553B",
          "dash": "solid"
         },
         "marker": {
          "symbol": "circle"
         },
         "mode": "lines",
         "name": "GPT2",
         "orientation": "v",
         "showlegend": true,
         "type": "scatter",
         "x": [
          "0_mid",
          "0_post",
          "1_mid",
          "1_post",
          "2_mid",
          "2_post",
          "3_mid",
          "3_post",
          "4_mid",
          "4_post",
          "5_mid",
          "5_post",
          "6_mid",
          "6_post",
          "7_mid",
          "7_post",
          "8_mid",
          "8_post",
          "9_mid",
          "9_post",
          "10_mid",
          "10_post",
          "11_mid",
          "11_post",
          "12_mid",
          "12_post",
          "13_mid",
          "13_post",
          "14_mid",
          "14_post",
          "15_mid",
          "15_post",
          "16_mid",
          "16_post",
          "17_mid",
          "17_post",
          "18_mid",
          "18_post",
          "19_mid",
          "19_post",
          "20_mid",
          "20_post",
          "21_mid",
          "21_post",
          "22_mid",
          "22_post",
          "23_mid",
          "23_post"
         ],
         "xaxis": "x",
         "y": [
          -10.944775581359863,
          -1.1679940223693848,
          -0.9234143495559692,
          -0.14481551945209503,
          -0.06424002349376678,
          -0.1968819946050644,
          -0.29751715064048767,
          -0.0658193975687027,
          -0.03802293911576271,
          -0.010748469270765781,
          -0.005728257820010185,
          -0.0007364421617239714,
          -0.0004663571889977902,
          -0.00028165188268758357,
          -0.0006160030607134104,
          -0.0006854568491689861,
          -0.1411193609237671,
          -0.17669251561164856,
          -1.4096746444702148,
          -0.001158519764430821,
          -7.939023635117337e-05,
          -4.2199197196168825e-05,
          -0.00022456508304458112,
          -2.5510462364763953e-05,
          -7.152531907195225e-06,
          -9.536738616588991e-07,
          -2.372236667724792e-05,
          -1.9073468138230965e-06,
          -5.960462772236497e-07,
          0,
          0,
          0,
          0,
          0,
          0,
          0,
          0,
          0,
          0,
          0,
          0,
          0,
          0,
          0,
          0,
          0,
          0,
          0
         ],
         "yaxis": "y"
        },
        {
         "hovertemplate": "Model=IFT_10<br>Layer=%{x}<br>neg_logprob=%{y}<extra></extra>",
         "legendgroup": "IFT_10",
         "line": {
          "color": "#00cc96",
          "dash": "solid"
         },
         "marker": {
          "symbol": "circle"
         },
         "mode": "lines",
         "name": "IFT_10",
         "orientation": "v",
         "showlegend": true,
         "type": "scatter",
         "x": [
          "0_mid",
          "0_post",
          "1_mid",
          "1_post",
          "2_mid",
          "2_post",
          "3_mid",
          "3_post",
          "4_mid",
          "4_post",
          "5_mid",
          "5_post",
          "6_mid",
          "6_post",
          "7_mid",
          "7_post",
          "8_mid",
          "8_post",
          "9_mid",
          "9_post",
          "10_mid",
          "10_post",
          "11_mid",
          "11_post",
          "12_mid",
          "12_post",
          "13_mid",
          "13_post",
          "14_mid",
          "14_post",
          "15_mid",
          "15_post",
          "16_mid",
          "16_post",
          "17_mid",
          "17_post",
          "18_mid",
          "18_post",
          "19_mid",
          "19_post",
          "20_mid",
          "20_post",
          "21_mid",
          "21_post",
          "22_mid",
          "22_post",
          "23_mid",
          "23_post"
         ],
         "xaxis": "x",
         "y": [
          -11.041792869567871,
          -21.857776641845703,
          -21.515403747558594,
          -22.962377548217773,
          -24.028310775756836,
          -21.19716453552246,
          -21.27210235595703,
          -26.026046752929688,
          -25.69602394104004,
          -28.00168228149414,
          -26.3349552154541,
          -29.779443740844727,
          -29.771636962890625,
          -33.35481262207031,
          -33.3896598815918,
          -33.38729476928711,
          -31.27724838256836,
          -29.008296966552734,
          -31.544580459594727,
          -30.20844841003418,
          -28.43665313720703,
          -33.0810661315918,
          -34.399681091308594,
          -37.72322463989258,
          -37.882789611816406,
          -41.218814849853516,
          -41.671504974365234,
          -49.26743698120117,
          -39.52246856689453,
          -46.5233154296875,
          -43.50642395019531,
          -50.98695373535156,
          -52.4320068359375,
          -59.412322998046875,
          -53.92628479003906,
          -59.3529052734375,
          -60.12664794921875,
          -71.19374084472656,
          -70.94673156738281,
          -62.36500549316406,
          -62.897979736328125,
          -69.14736938476562,
          -76.1142578125,
          -76.05665588378906,
          -78.9565200805664,
          -84.866943359375,
          -93.35287475585938,
          -75.25283813476562
         ],
         "yaxis": "y"
        },
        {
         "hovertemplate": "Model=GPT2_10<br>Layer=%{x}<br>neg_logprob=%{y}<extra></extra>",
         "legendgroup": "GPT2_10",
         "line": {
          "color": "#ab63fa",
          "dash": "solid"
         },
         "marker": {
          "symbol": "circle"
         },
         "mode": "lines",
         "name": "GPT2_10",
         "orientation": "v",
         "showlegend": true,
         "type": "scatter",
         "x": [
          "0_mid",
          "0_post",
          "1_mid",
          "1_post",
          "2_mid",
          "2_post",
          "3_mid",
          "3_post",
          "4_mid",
          "4_post",
          "5_mid",
          "5_post",
          "6_mid",
          "6_post",
          "7_mid",
          "7_post",
          "8_mid",
          "8_post",
          "9_mid",
          "9_post",
          "10_mid",
          "10_post",
          "11_mid",
          "11_post",
          "12_mid",
          "12_post",
          "13_mid",
          "13_post",
          "14_mid",
          "14_post",
          "15_mid",
          "15_post",
          "16_mid",
          "16_post",
          "17_mid",
          "17_post",
          "18_mid",
          "18_post",
          "19_mid",
          "19_post",
          "20_mid",
          "20_post",
          "21_mid",
          "21_post",
          "22_mid",
          "22_post",
          "23_mid",
          "23_post"
         ],
         "xaxis": "x",
         "y": [
          -11.04026985168457,
          -22.95152473449707,
          -23.655832290649414,
          -26.471342086791992,
          -28.331045150756836,
          -26.762805938720703,
          -25.76815414428711,
          -29.384634017944336,
          -29.206207275390625,
          -31.303659439086914,
          -29.73482322692871,
          -34.039058685302734,
          -34.775142669677734,
          -37.325584411621094,
          -39.292259216308594,
          -38.93439483642578,
          -33.28125,
          -29.877853393554688,
          -36.35190963745117,
          -36.31904983520508,
          -35.59881591796875,
          -40.659969329833984,
          -36.9649543762207,
          -42.13218688964844,
          -43.99278259277344,
          -53.34535217285156,
          -55.591270446777344,
          -59.47090148925781,
          -55.927345275878906,
          -62.89323425292969,
          -67.51062774658203,
          -78.74564361572266,
          -75.37759399414062,
          -77.99598693847656,
          -76.51426696777344,
          -91.75755310058594,
          -95.44577026367188,
          -105.82308959960938,
          -105.190185546875,
          -107.93197631835938,
          -106.547607421875,
          -105.82830810546875,
          -110.26260375976562,
          -111.11102294921875,
          -120.201904296875,
          -114.71133422851562,
          -118.66375732421875,
          -101.2337646484375
         ],
         "yaxis": "y"
        },
        {
         "hovertemplate": "Model=IFT_100<br>Layer=%{x}<br>neg_logprob=%{y}<extra></extra>",
         "legendgroup": "IFT_100",
         "line": {
          "color": "#FFA15A",
          "dash": "solid"
         },
         "marker": {
          "symbol": "circle"
         },
         "mode": "lines",
         "name": "IFT_100",
         "orientation": "v",
         "showlegend": true,
         "type": "scatter",
         "x": [
          "0_mid",
          "0_post",
          "1_mid",
          "1_post",
          "2_mid",
          "2_post",
          "3_mid",
          "3_post",
          "4_mid",
          "4_post",
          "5_mid",
          "5_post",
          "6_mid",
          "6_post",
          "7_mid",
          "7_post",
          "8_mid",
          "8_post",
          "9_mid",
          "9_post",
          "10_mid",
          "10_post",
          "11_mid",
          "11_post",
          "12_mid",
          "12_post",
          "13_mid",
          "13_post",
          "14_mid",
          "14_post",
          "15_mid",
          "15_post",
          "16_mid",
          "16_post",
          "17_mid",
          "17_post",
          "18_mid",
          "18_post",
          "19_mid",
          "19_post",
          "20_mid",
          "20_post",
          "21_mid",
          "21_post",
          "22_mid",
          "22_post",
          "23_mid",
          "23_post",
          "0_mid",
          "0_post",
          "1_mid",
          "1_post",
          "2_mid",
          "2_post",
          "3_mid",
          "3_post",
          "4_mid",
          "4_post",
          "5_mid",
          "5_post",
          "6_mid",
          "6_post",
          "7_mid",
          "7_post",
          "8_mid",
          "8_post",
          "9_mid",
          "9_post",
          "10_mid",
          "10_post",
          "11_mid",
          "11_post",
          "12_mid",
          "12_post",
          "13_mid",
          "13_post",
          "14_mid",
          "14_post",
          "15_mid",
          "15_post",
          "16_mid",
          "16_post",
          "17_mid",
          "17_post",
          "18_mid",
          "18_post",
          "19_mid",
          "19_post",
          "20_mid",
          "20_post",
          "21_mid",
          "21_post",
          "22_mid",
          "22_post",
          "23_mid",
          "23_post"
         ],
         "xaxis": "x",
         "y": [
          -11.639135360717773,
          -25.70904541015625,
          -23.087329864501953,
          -26.96814727783203,
          -29.44990348815918,
          -26.209976196289062,
          -26.586261749267578,
          -28.490732192993164,
          -29.759489059448242,
          -30.076740264892578,
          -32.350711822509766,
          -32.836368560791016,
          -29.805374145507812,
          -30.44364356994629,
          -31.181007385253906,
          -36.76167297363281,
          -39.22118377685547,
          -38.67329406738281,
          -36.72950744628906,
          -34.30849075317383,
          -27.584083557128906,
          -35.87446212768555,
          -37.119022369384766,
          -42.28845977783203,
          -37.47794723510742,
          -39.893619537353516,
          -37.860836029052734,
          -50.1185417175293,
          -49.230445861816406,
          -56.66474914550781,
          -59.925209045410156,
          -80.37358093261719,
          -89.75370025634766,
          -92.49574279785156,
          -86.77449798583984,
          -98.13703918457031,
          -93.50382995605469,
          -99.05307006835938,
          -102.75637817382812,
          -116.39306640625,
          -117.2071533203125,
          -129.52520751953125,
          -134.88233947753906,
          -116.12419128417969,
          -109.25897979736328,
          -108.87384033203125,
          -113.2681884765625,
          -103.27011108398438,
          -11.639135360717773,
          -25.70904541015625,
          -23.087329864501953,
          -26.96814727783203,
          -29.44990348815918,
          -26.209976196289062,
          -26.586261749267578,
          -28.490732192993164,
          -29.759489059448242,
          -30.076740264892578,
          -32.350711822509766,
          -32.836368560791016,
          -29.805374145507812,
          -30.44364356994629,
          -31.181007385253906,
          -36.76167297363281,
          -39.22118377685547,
          -38.67329406738281,
          -36.72950744628906,
          -34.30849075317383,
          -27.584083557128906,
          -35.87446212768555,
          -37.119022369384766,
          -42.28845977783203,
          -37.47794723510742,
          -39.893619537353516,
          -37.860836029052734,
          -50.1185417175293,
          -49.230445861816406,
          -56.66474914550781,
          -59.925209045410156,
          -80.37358093261719,
          -89.75370025634766,
          -92.49574279785156,
          -86.77449798583984,
          -98.13703918457031,
          -93.50382995605469,
          -99.05307006835938,
          -102.75637817382812,
          -116.39306640625,
          -117.2071533203125,
          -129.52520751953125,
          -134.88233947753906,
          -116.12419128417969,
          -109.25897979736328,
          -108.87384033203125,
          -113.2681884765625,
          -103.27011108398438
         ],
         "yaxis": "y"
        },
        {
         "hovertemplate": "Model=GPT2_100<br>Layer=%{x}<br>neg_logprob=%{y}<extra></extra>",
         "legendgroup": "GPT2_100",
         "line": {
          "color": "#19d3f3",
          "dash": "solid"
         },
         "marker": {
          "symbol": "circle"
         },
         "mode": "lines",
         "name": "GPT2_100",
         "orientation": "v",
         "showlegend": true,
         "type": "scatter",
         "x": [
          "0_mid",
          "0_post",
          "1_mid",
          "1_post",
          "2_mid",
          "2_post",
          "3_mid",
          "3_post",
          "4_mid",
          "4_post",
          "5_mid",
          "5_post",
          "6_mid",
          "6_post",
          "7_mid",
          "7_post",
          "8_mid",
          "8_post",
          "9_mid",
          "9_post",
          "10_mid",
          "10_post",
          "11_mid",
          "11_post",
          "12_mid",
          "12_post",
          "13_mid",
          "13_post",
          "14_mid",
          "14_post",
          "15_mid",
          "15_post",
          "16_mid",
          "16_post",
          "17_mid",
          "17_post",
          "18_mid",
          "18_post",
          "19_mid",
          "19_post",
          "20_mid",
          "20_post",
          "21_mid",
          "21_post",
          "22_mid",
          "22_post",
          "23_mid",
          "23_post",
          "0_mid",
          "0_post",
          "1_mid",
          "1_post",
          "2_mid",
          "2_post",
          "3_mid",
          "3_post",
          "4_mid",
          "4_post",
          "5_mid",
          "5_post",
          "6_mid",
          "6_post",
          "7_mid",
          "7_post",
          "8_mid",
          "8_post",
          "9_mid",
          "9_post",
          "10_mid",
          "10_post",
          "11_mid",
          "11_post",
          "12_mid",
          "12_post",
          "13_mid",
          "13_post",
          "14_mid",
          "14_post",
          "15_mid",
          "15_post",
          "16_mid",
          "16_post",
          "17_mid",
          "17_post",
          "18_mid",
          "18_post",
          "19_mid",
          "19_post",
          "20_mid",
          "20_post",
          "21_mid",
          "21_post",
          "22_mid",
          "22_post",
          "23_mid",
          "23_post"
         ],
         "xaxis": "x",
         "y": [
          -11.569404602050781,
          -27.844505310058594,
          -26.216367721557617,
          -28.85622787475586,
          -31.272254943847656,
          -29.421724319458008,
          -29.534503936767578,
          -30.784475326538086,
          -32.086124420166016,
          -30.99562644958496,
          -31.60167121887207,
          -33.96449279785156,
          -31.860578536987305,
          -32.69195556640625,
          -33.89224624633789,
          -39.211952209472656,
          -40.994815826416016,
          -40.76520919799805,
          -44.46460723876953,
          -44.667572021484375,
          -41.198875427246094,
          -46.27336883544922,
          -49.03388595581055,
          -54.88665771484375,
          -54.733394622802734,
          -65.09284973144531,
          -63.622772216796875,
          -70.30322265625,
          -71.44181823730469,
          -85.57466888427734,
          -95.77484130859375,
          -113.1103515625,
          -115.87755584716797,
          -121.03878784179688,
          -120.23027038574219,
          -139.4243621826172,
          -145.15789794921875,
          -159.76930236816406,
          -165.72206115722656,
          -183.83311462402344,
          -185.78700256347656,
          -206.27224731445312,
          -211.03860473632812,
          -208.0757598876953,
          -211.13107299804688,
          -205.79824829101562,
          -212.09283447265625,
          -192.23941040039062,
          -11.569404602050781,
          -27.844505310058594,
          -26.216367721557617,
          -28.85622787475586,
          -31.272254943847656,
          -29.421724319458008,
          -29.534503936767578,
          -30.784475326538086,
          -32.086124420166016,
          -30.99562644958496,
          -31.60167121887207,
          -33.96449279785156,
          -31.860578536987305,
          -32.69195556640625,
          -33.89224624633789,
          -39.211952209472656,
          -40.994815826416016,
          -40.76520919799805,
          -44.46460723876953,
          -44.667572021484375,
          -41.198875427246094,
          -46.27336883544922,
          -49.03388595581055,
          -54.88665771484375,
          -54.733394622802734,
          -65.09284973144531,
          -63.622772216796875,
          -70.30322265625,
          -71.44181823730469,
          -85.57466888427734,
          -95.77484130859375,
          -113.1103515625,
          -115.87755584716797,
          -121.03878784179688,
          -120.23027038574219,
          -139.4243621826172,
          -145.15789794921875,
          -159.76930236816406,
          -165.72206115722656,
          -183.83311462402344,
          -185.78700256347656,
          -206.27224731445312,
          -211.03860473632812,
          -208.0757598876953,
          -211.13107299804688,
          -205.79824829101562,
          -212.09283447265625,
          -192.23941040039062
         ],
         "yaxis": "y"
        },
        {
         "hovertemplate": "Model=IFT_10000<br>Layer=%{x}<br>neg_logprob=%{y}<extra></extra>",
         "legendgroup": "IFT_10000",
         "line": {
          "color": "#FF6692",
          "dash": "solid"
         },
         "marker": {
          "symbol": "circle"
         },
         "mode": "lines",
         "name": "IFT_10000",
         "orientation": "v",
         "showlegend": true,
         "type": "scatter",
         "x": [
          "0_mid",
          "0_post",
          "1_mid",
          "1_post",
          "2_mid",
          "2_post",
          "3_mid",
          "3_post",
          "4_mid",
          "4_post",
          "5_mid",
          "5_post",
          "6_mid",
          "6_post",
          "7_mid",
          "7_post",
          "8_mid",
          "8_post",
          "9_mid",
          "9_post",
          "10_mid",
          "10_post",
          "11_mid",
          "11_post",
          "12_mid",
          "12_post",
          "13_mid",
          "13_post",
          "14_mid",
          "14_post",
          "15_mid",
          "15_post",
          "16_mid",
          "16_post",
          "17_mid",
          "17_post",
          "18_mid",
          "18_post",
          "19_mid",
          "19_post",
          "20_mid",
          "20_post",
          "21_mid",
          "21_post",
          "22_mid",
          "22_post",
          "23_mid",
          "23_post"
         ],
         "xaxis": "x",
         "y": [
          -10.70553970336914,
          -36.46573257446289,
          -36.740177154541016,
          -39.34328842163086,
          -40.35446548461914,
          -37.3227424621582,
          -34.41486358642578,
          -40.223548889160156,
          -44.54110336303711,
          -46.70994567871094,
          -48.83574295043945,
          -49.06551742553711,
          -43.976993560791016,
          -46.712589263916016,
          -49.97938537597656,
          -54.937400817871094,
          -60.730979919433594,
          -51.4306640625,
          -57.255130767822266,
          -53.497276306152344,
          -53.84547424316406,
          -79.25440979003906,
          -89.95832824707031,
          -93.4454345703125,
          -89.51492309570312,
          -96.1081771850586,
          -96.2990493774414,
          -121.87295532226562,
          -111.8416976928711,
          -126.99369049072266,
          -137.4911651611328,
          -167.0549774169922,
          -175.25836181640625,
          -204.48008728027344,
          -202.80149841308594,
          -235.64602661132812,
          -230.34744262695312,
          -256.87164306640625,
          -258.5567626953125,
          -283.8305358886719,
          -284.43109130859375,
          -320.952392578125,
          -339.72503662109375,
          -329.3786926269531,
          -341.8834228515625,
          -362.5556945800781,
          -364.7724609375,
          -393.4171447753906
         ],
         "yaxis": "y"
        },
        {
         "hovertemplate": "Model=GPT2_10000<br>Layer=%{x}<br>neg_logprob=%{y}<extra></extra>",
         "legendgroup": "GPT2_10000",
         "line": {
          "color": "#B6E880",
          "dash": "solid"
         },
         "marker": {
          "symbol": "circle"
         },
         "mode": "lines",
         "name": "GPT2_10000",
         "orientation": "v",
         "showlegend": true,
         "type": "scatter",
         "x": [
          "0_mid",
          "0_post",
          "1_mid",
          "1_post",
          "2_mid",
          "2_post",
          "3_mid",
          "3_post",
          "4_mid",
          "4_post",
          "5_mid",
          "5_post",
          "6_mid",
          "6_post",
          "7_mid",
          "7_post",
          "8_mid",
          "8_post",
          "9_mid",
          "9_post",
          "10_mid",
          "10_post",
          "11_mid",
          "11_post",
          "12_mid",
          "12_post",
          "13_mid",
          "13_post",
          "14_mid",
          "14_post",
          "15_mid",
          "15_post",
          "16_mid",
          "16_post",
          "17_mid",
          "17_post",
          "18_mid",
          "18_post",
          "19_mid",
          "19_post",
          "20_mid",
          "20_post",
          "21_mid",
          "21_post",
          "22_mid",
          "22_post",
          "23_mid",
          "23_post"
         ],
         "xaxis": "x",
         "y": [
          -10.686378479003906,
          -37.83184051513672,
          -38.707454681396484,
          -42.694236755371094,
          -44.05750274658203,
          -43.66024398803711,
          -40.29290008544922,
          -45.0721435546875,
          -48.110145568847656,
          -51.20557403564453,
          -51.146060943603516,
          -50.76686096191406,
          -49.264137268066406,
          -53.76647186279297,
          -54.855098724365234,
          -58.796104431152344,
          -62.772560119628906,
          -62.14594650268555,
          -70.0411605834961,
          -71.6051025390625,
          -75.96499633789062,
          -88.11357116699219,
          -95.28453826904297,
          -101.62955474853516,
          -105.05207824707031,
          -115.8038101196289,
          -124.03152465820312,
          -140.59039306640625,
          -138.86863708496094,
          -162.08441162109375,
          -184.23187255859375,
          -208.9060821533203,
          -216.6355743408203,
          -236.42898559570312,
          -243.28250122070312,
          -278.439697265625,
          -285.5450439453125,
          -315.52178955078125,
          -320.24932861328125,
          -354.7046813964844,
          -354.46612548828125,
          -392.9332580566406,
          -400.37530517578125,
          -408.4804992675781,
          -410.8753662109375,
          -440.9264831542969,
          -448.8370056152344,
          -488.84429931640625
         ],
         "yaxis": "y"
        }
       ],
       "layout": {
        "legend": {
         "title": {
          "text": "Model"
         },
         "tracegroupgap": 0
        },
        "margin": {
         "t": 60
        },
        "template": {
         "data": {
          "bar": [
           {
            "error_x": {
             "color": "#2a3f5f"
            },
            "error_y": {
             "color": "#2a3f5f"
            },
            "marker": {
             "line": {
              "color": "#E5ECF6",
              "width": 0.5
             },
             "pattern": {
              "fillmode": "overlay",
              "size": 10,
              "solidity": 0.2
             }
            },
            "type": "bar"
           }
          ],
          "barpolar": [
           {
            "marker": {
             "line": {
              "color": "#E5ECF6",
              "width": 0.5
             },
             "pattern": {
              "fillmode": "overlay",
              "size": 10,
              "solidity": 0.2
             }
            },
            "type": "barpolar"
           }
          ],
          "carpet": [
           {
            "aaxis": {
             "endlinecolor": "#2a3f5f",
             "gridcolor": "white",
             "linecolor": "white",
             "minorgridcolor": "white",
             "startlinecolor": "#2a3f5f"
            },
            "baxis": {
             "endlinecolor": "#2a3f5f",
             "gridcolor": "white",
             "linecolor": "white",
             "minorgridcolor": "white",
             "startlinecolor": "#2a3f5f"
            },
            "type": "carpet"
           }
          ],
          "choropleth": [
           {
            "colorbar": {
             "outlinewidth": 0,
             "ticks": ""
            },
            "type": "choropleth"
           }
          ],
          "contour": [
           {
            "colorbar": {
             "outlinewidth": 0,
             "ticks": ""
            },
            "colorscale": [
             [
              0,
              "#0d0887"
             ],
             [
              0.1111111111111111,
              "#46039f"
             ],
             [
              0.2222222222222222,
              "#7201a8"
             ],
             [
              0.3333333333333333,
              "#9c179e"
             ],
             [
              0.4444444444444444,
              "#bd3786"
             ],
             [
              0.5555555555555556,
              "#d8576b"
             ],
             [
              0.6666666666666666,
              "#ed7953"
             ],
             [
              0.7777777777777778,
              "#fb9f3a"
             ],
             [
              0.8888888888888888,
              "#fdca26"
             ],
             [
              1,
              "#f0f921"
             ]
            ],
            "type": "contour"
           }
          ],
          "contourcarpet": [
           {
            "colorbar": {
             "outlinewidth": 0,
             "ticks": ""
            },
            "type": "contourcarpet"
           }
          ],
          "heatmap": [
           {
            "colorbar": {
             "outlinewidth": 0,
             "ticks": ""
            },
            "colorscale": [
             [
              0,
              "#0d0887"
             ],
             [
              0.1111111111111111,
              "#46039f"
             ],
             [
              0.2222222222222222,
              "#7201a8"
             ],
             [
              0.3333333333333333,
              "#9c179e"
             ],
             [
              0.4444444444444444,
              "#bd3786"
             ],
             [
              0.5555555555555556,
              "#d8576b"
             ],
             [
              0.6666666666666666,
              "#ed7953"
             ],
             [
              0.7777777777777778,
              "#fb9f3a"
             ],
             [
              0.8888888888888888,
              "#fdca26"
             ],
             [
              1,
              "#f0f921"
             ]
            ],
            "type": "heatmap"
           }
          ],
          "heatmapgl": [
           {
            "colorbar": {
             "outlinewidth": 0,
             "ticks": ""
            },
            "colorscale": [
             [
              0,
              "#0d0887"
             ],
             [
              0.1111111111111111,
              "#46039f"
             ],
             [
              0.2222222222222222,
              "#7201a8"
             ],
             [
              0.3333333333333333,
              "#9c179e"
             ],
             [
              0.4444444444444444,
              "#bd3786"
             ],
             [
              0.5555555555555556,
              "#d8576b"
             ],
             [
              0.6666666666666666,
              "#ed7953"
             ],
             [
              0.7777777777777778,
              "#fb9f3a"
             ],
             [
              0.8888888888888888,
              "#fdca26"
             ],
             [
              1,
              "#f0f921"
             ]
            ],
            "type": "heatmapgl"
           }
          ],
          "histogram": [
           {
            "marker": {
             "pattern": {
              "fillmode": "overlay",
              "size": 10,
              "solidity": 0.2
             }
            },
            "type": "histogram"
           }
          ],
          "histogram2d": [
           {
            "colorbar": {
             "outlinewidth": 0,
             "ticks": ""
            },
            "colorscale": [
             [
              0,
              "#0d0887"
             ],
             [
              0.1111111111111111,
              "#46039f"
             ],
             [
              0.2222222222222222,
              "#7201a8"
             ],
             [
              0.3333333333333333,
              "#9c179e"
             ],
             [
              0.4444444444444444,
              "#bd3786"
             ],
             [
              0.5555555555555556,
              "#d8576b"
             ],
             [
              0.6666666666666666,
              "#ed7953"
             ],
             [
              0.7777777777777778,
              "#fb9f3a"
             ],
             [
              0.8888888888888888,
              "#fdca26"
             ],
             [
              1,
              "#f0f921"
             ]
            ],
            "type": "histogram2d"
           }
          ],
          "histogram2dcontour": [
           {
            "colorbar": {
             "outlinewidth": 0,
             "ticks": ""
            },
            "colorscale": [
             [
              0,
              "#0d0887"
             ],
             [
              0.1111111111111111,
              "#46039f"
             ],
             [
              0.2222222222222222,
              "#7201a8"
             ],
             [
              0.3333333333333333,
              "#9c179e"
             ],
             [
              0.4444444444444444,
              "#bd3786"
             ],
             [
              0.5555555555555556,
              "#d8576b"
             ],
             [
              0.6666666666666666,
              "#ed7953"
             ],
             [
              0.7777777777777778,
              "#fb9f3a"
             ],
             [
              0.8888888888888888,
              "#fdca26"
             ],
             [
              1,
              "#f0f921"
             ]
            ],
            "type": "histogram2dcontour"
           }
          ],
          "mesh3d": [
           {
            "colorbar": {
             "outlinewidth": 0,
             "ticks": ""
            },
            "type": "mesh3d"
           }
          ],
          "parcoords": [
           {
            "line": {
             "colorbar": {
              "outlinewidth": 0,
              "ticks": ""
             }
            },
            "type": "parcoords"
           }
          ],
          "pie": [
           {
            "automargin": true,
            "type": "pie"
           }
          ],
          "scatter": [
           {
            "fillpattern": {
             "fillmode": "overlay",
             "size": 10,
             "solidity": 0.2
            },
            "type": "scatter"
           }
          ],
          "scatter3d": [
           {
            "line": {
             "colorbar": {
              "outlinewidth": 0,
              "ticks": ""
             }
            },
            "marker": {
             "colorbar": {
              "outlinewidth": 0,
              "ticks": ""
             }
            },
            "type": "scatter3d"
           }
          ],
          "scattercarpet": [
           {
            "marker": {
             "colorbar": {
              "outlinewidth": 0,
              "ticks": ""
             }
            },
            "type": "scattercarpet"
           }
          ],
          "scattergeo": [
           {
            "marker": {
             "colorbar": {
              "outlinewidth": 0,
              "ticks": ""
             }
            },
            "type": "scattergeo"
           }
          ],
          "scattergl": [
           {
            "marker": {
             "colorbar": {
              "outlinewidth": 0,
              "ticks": ""
             }
            },
            "type": "scattergl"
           }
          ],
          "scattermapbox": [
           {
            "marker": {
             "colorbar": {
              "outlinewidth": 0,
              "ticks": ""
             }
            },
            "type": "scattermapbox"
           }
          ],
          "scatterpolar": [
           {
            "marker": {
             "colorbar": {
              "outlinewidth": 0,
              "ticks": ""
             }
            },
            "type": "scatterpolar"
           }
          ],
          "scatterpolargl": [
           {
            "marker": {
             "colorbar": {
              "outlinewidth": 0,
              "ticks": ""
             }
            },
            "type": "scatterpolargl"
           }
          ],
          "scatterternary": [
           {
            "marker": {
             "colorbar": {
              "outlinewidth": 0,
              "ticks": ""
             }
            },
            "type": "scatterternary"
           }
          ],
          "surface": [
           {
            "colorbar": {
             "outlinewidth": 0,
             "ticks": ""
            },
            "colorscale": [
             [
              0,
              "#0d0887"
             ],
             [
              0.1111111111111111,
              "#46039f"
             ],
             [
              0.2222222222222222,
              "#7201a8"
             ],
             [
              0.3333333333333333,
              "#9c179e"
             ],
             [
              0.4444444444444444,
              "#bd3786"
             ],
             [
              0.5555555555555556,
              "#d8576b"
             ],
             [
              0.6666666666666666,
              "#ed7953"
             ],
             [
              0.7777777777777778,
              "#fb9f3a"
             ],
             [
              0.8888888888888888,
              "#fdca26"
             ],
             [
              1,
              "#f0f921"
             ]
            ],
            "type": "surface"
           }
          ],
          "table": [
           {
            "cells": {
             "fill": {
              "color": "#EBF0F8"
             },
             "line": {
              "color": "white"
             }
            },
            "header": {
             "fill": {
              "color": "#C8D4E3"
             },
             "line": {
              "color": "white"
             }
            },
            "type": "table"
           }
          ]
         },
         "layout": {
          "annotationdefaults": {
           "arrowcolor": "#2a3f5f",
           "arrowhead": 0,
           "arrowwidth": 1
          },
          "autotypenumbers": "strict",
          "coloraxis": {
           "colorbar": {
            "outlinewidth": 0,
            "ticks": ""
           }
          },
          "colorscale": {
           "diverging": [
            [
             0,
             "#8e0152"
            ],
            [
             0.1,
             "#c51b7d"
            ],
            [
             0.2,
             "#de77ae"
            ],
            [
             0.3,
             "#f1b6da"
            ],
            [
             0.4,
             "#fde0ef"
            ],
            [
             0.5,
             "#f7f7f7"
            ],
            [
             0.6,
             "#e6f5d0"
            ],
            [
             0.7,
             "#b8e186"
            ],
            [
             0.8,
             "#7fbc41"
            ],
            [
             0.9,
             "#4d9221"
            ],
            [
             1,
             "#276419"
            ]
           ],
           "sequential": [
            [
             0,
             "#0d0887"
            ],
            [
             0.1111111111111111,
             "#46039f"
            ],
            [
             0.2222222222222222,
             "#7201a8"
            ],
            [
             0.3333333333333333,
             "#9c179e"
            ],
            [
             0.4444444444444444,
             "#bd3786"
            ],
            [
             0.5555555555555556,
             "#d8576b"
            ],
            [
             0.6666666666666666,
             "#ed7953"
            ],
            [
             0.7777777777777778,
             "#fb9f3a"
            ],
            [
             0.8888888888888888,
             "#fdca26"
            ],
            [
             1,
             "#f0f921"
            ]
           ],
           "sequentialminus": [
            [
             0,
             "#0d0887"
            ],
            [
             0.1111111111111111,
             "#46039f"
            ],
            [
             0.2222222222222222,
             "#7201a8"
            ],
            [
             0.3333333333333333,
             "#9c179e"
            ],
            [
             0.4444444444444444,
             "#bd3786"
            ],
            [
             0.5555555555555556,
             "#d8576b"
            ],
            [
             0.6666666666666666,
             "#ed7953"
            ],
            [
             0.7777777777777778,
             "#fb9f3a"
            ],
            [
             0.8888888888888888,
             "#fdca26"
            ],
            [
             1,
             "#f0f921"
            ]
           ]
          },
          "colorway": [
           "#636efa",
           "#EF553B",
           "#00cc96",
           "#ab63fa",
           "#FFA15A",
           "#19d3f3",
           "#FF6692",
           "#B6E880",
           "#FF97FF",
           "#FECB52"
          ],
          "font": {
           "color": "#2a3f5f"
          },
          "geo": {
           "bgcolor": "white",
           "lakecolor": "white",
           "landcolor": "#E5ECF6",
           "showlakes": true,
           "showland": true,
           "subunitcolor": "white"
          },
          "hoverlabel": {
           "align": "left"
          },
          "hovermode": "closest",
          "mapbox": {
           "style": "light"
          },
          "paper_bgcolor": "white",
          "plot_bgcolor": "#E5ECF6",
          "polar": {
           "angularaxis": {
            "gridcolor": "white",
            "linecolor": "white",
            "ticks": ""
           },
           "bgcolor": "#E5ECF6",
           "radialaxis": {
            "gridcolor": "white",
            "linecolor": "white",
            "ticks": ""
           }
          },
          "scene": {
           "xaxis": {
            "backgroundcolor": "#E5ECF6",
            "gridcolor": "white",
            "gridwidth": 2,
            "linecolor": "white",
            "showbackground": true,
            "ticks": "",
            "zerolinecolor": "white"
           },
           "yaxis": {
            "backgroundcolor": "#E5ECF6",
            "gridcolor": "white",
            "gridwidth": 2,
            "linecolor": "white",
            "showbackground": true,
            "ticks": "",
            "zerolinecolor": "white"
           },
           "zaxis": {
            "backgroundcolor": "#E5ECF6",
            "gridcolor": "white",
            "gridwidth": 2,
            "linecolor": "white",
            "showbackground": true,
            "ticks": "",
            "zerolinecolor": "white"
           }
          },
          "shapedefaults": {
           "line": {
            "color": "#2a3f5f"
           }
          },
          "ternary": {
           "aaxis": {
            "gridcolor": "white",
            "linecolor": "white",
            "ticks": ""
           },
           "baxis": {
            "gridcolor": "white",
            "linecolor": "white",
            "ticks": ""
           },
           "bgcolor": "#E5ECF6",
           "caxis": {
            "gridcolor": "white",
            "linecolor": "white",
            "ticks": ""
           }
          },
          "title": {
           "x": 0.05
          },
          "xaxis": {
           "automargin": true,
           "gridcolor": "white",
           "linecolor": "white",
           "ticks": "",
           "title": {
            "standoff": 15
           },
           "zerolinecolor": "white",
           "zerolinewidth": 2
          },
          "yaxis": {
           "automargin": true,
           "gridcolor": "white",
           "linecolor": "white",
           "ticks": "",
           "title": {
            "standoff": 15
           },
           "zerolinecolor": "white",
           "zerolinewidth": 2
          }
         }
        },
        "xaxis": {
         "anchor": "y",
         "domain": [
          0,
          1
         ],
         "title": {
          "text": "Layer"
         }
        },
        "yaxis": {
         "anchor": "x",
         "domain": [
          0,
          1
         ],
         "title": {
          "text": "neg_logprob"
         }
        }
       }
      },
      "text/html": [
       "<div>                            <div id=\"1d855c30-8cff-4557-b323-4e8eafd6c6fd\" class=\"plotly-graph-div\" style=\"height:525px; width:100%;\"></div>            <script type=\"text/javascript\">                require([\"plotly\"], function(Plotly) {                    window.PLOTLYENV=window.PLOTLYENV || {};                                    if (document.getElementById(\"1d855c30-8cff-4557-b323-4e8eafd6c6fd\")) {                    Plotly.newPlot(                        \"1d855c30-8cff-4557-b323-4e8eafd6c6fd\",                        [{\"hovertemplate\":\"Model=IFT\\u003cbr\\u003eLayer=%{x}\\u003cbr\\u003eneg_logprob=%{y}\\u003cextra\\u003e\\u003c\\u002fextra\\u003e\",\"legendgroup\":\"IFT\",\"line\":{\"color\":\"#636efa\",\"dash\":\"solid\"},\"marker\":{\"symbol\":\"circle\"},\"mode\":\"lines\",\"name\":\"IFT\",\"orientation\":\"v\",\"showlegend\":true,\"x\":[\"0_mid\",\"0_post\",\"1_mid\",\"1_post\",\"2_mid\",\"2_post\",\"3_mid\",\"3_post\",\"4_mid\",\"4_post\",\"5_mid\",\"5_post\",\"6_mid\",\"6_post\",\"7_mid\",\"7_post\",\"8_mid\",\"8_post\",\"9_mid\",\"9_post\",\"10_mid\",\"10_post\",\"11_mid\",\"11_post\",\"12_mid\",\"12_post\",\"13_mid\",\"13_post\",\"14_mid\",\"14_post\",\"15_mid\",\"15_post\",\"16_mid\",\"16_post\",\"17_mid\",\"17_post\",\"18_mid\",\"18_post\",\"19_mid\",\"19_post\",\"20_mid\",\"20_post\",\"21_mid\",\"21_post\",\"22_mid\",\"22_post\",\"23_mid\",\"23_post\"],\"xaxis\":\"x\",\"y\":[-10.968925476074219,-0.748222291469574,-0.766362190246582,-0.12562090158462524,-0.40124303102493286,-0.23406100273132324,-0.1623086929321289,-0.04117231443524361,-0.035579316318035126,-0.008571264334022999,-0.003980452660471201,-0.001538642100058496,-0.008210240863263607,-0.0053656138479709625,-0.014602220617234707,-0.01425100676715374,-0.011200882494449615,-0.013362965546548367,-0.03106188029050827,-0.006055579520761967,-0.011977773159742355,-0.015825390815734863,-0.010515284724533558,-0.012041849084198475,-0.3451647162437439,-0.03590632975101471,-0.09224410355091095,-0.008817191235721111,-0.0014969820622354746,-7.152555099310121e-07,0.0,-1.1920928244535389e-07,0.0,0.0,0.0,0.0,0.0,0.0,0.0,0.0,0.0,-1.1920928244535389e-07,0.0,-3.6619434356689453,-6.55629628454335e-05,-2.3841855067985307e-07,0.0,-14.291108131408691],\"yaxis\":\"y\",\"type\":\"scatter\"},{\"hovertemplate\":\"Model=GPT2\\u003cbr\\u003eLayer=%{x}\\u003cbr\\u003eneg_logprob=%{y}\\u003cextra\\u003e\\u003c\\u002fextra\\u003e\",\"legendgroup\":\"GPT2\",\"line\":{\"color\":\"#EF553B\",\"dash\":\"solid\"},\"marker\":{\"symbol\":\"circle\"},\"mode\":\"lines\",\"name\":\"GPT2\",\"orientation\":\"v\",\"showlegend\":true,\"x\":[\"0_mid\",\"0_post\",\"1_mid\",\"1_post\",\"2_mid\",\"2_post\",\"3_mid\",\"3_post\",\"4_mid\",\"4_post\",\"5_mid\",\"5_post\",\"6_mid\",\"6_post\",\"7_mid\",\"7_post\",\"8_mid\",\"8_post\",\"9_mid\",\"9_post\",\"10_mid\",\"10_post\",\"11_mid\",\"11_post\",\"12_mid\",\"12_post\",\"13_mid\",\"13_post\",\"14_mid\",\"14_post\",\"15_mid\",\"15_post\",\"16_mid\",\"16_post\",\"17_mid\",\"17_post\",\"18_mid\",\"18_post\",\"19_mid\",\"19_post\",\"20_mid\",\"20_post\",\"21_mid\",\"21_post\",\"22_mid\",\"22_post\",\"23_mid\",\"23_post\"],\"xaxis\":\"x\",\"y\":[-10.944775581359863,-1.1679940223693848,-0.9234143495559692,-0.14481551945209503,-0.06424002349376678,-0.1968819946050644,-0.29751715064048767,-0.0658193975687027,-0.03802293911576271,-0.010748469270765781,-0.005728257820010185,-0.0007364421617239714,-0.0004663571889977902,-0.00028165188268758357,-0.0006160030607134104,-0.0006854568491689861,-0.1411193609237671,-0.17669251561164856,-1.4096746444702148,-0.001158519764430821,-7.939023635117337e-05,-4.2199197196168825e-05,-0.00022456508304458112,-2.5510462364763953e-05,-7.152531907195225e-06,-9.536738616588991e-07,-2.372236667724792e-05,-1.9073468138230965e-06,-5.960462772236497e-07,0.0,0.0,0.0,0.0,0.0,0.0,0.0,0.0,0.0,0.0,0.0,0.0,0.0,0.0,0.0,0.0,0.0,0.0,0.0],\"yaxis\":\"y\",\"type\":\"scatter\"},{\"hovertemplate\":\"Model=IFT_10\\u003cbr\\u003eLayer=%{x}\\u003cbr\\u003eneg_logprob=%{y}\\u003cextra\\u003e\\u003c\\u002fextra\\u003e\",\"legendgroup\":\"IFT_10\",\"line\":{\"color\":\"#00cc96\",\"dash\":\"solid\"},\"marker\":{\"symbol\":\"circle\"},\"mode\":\"lines\",\"name\":\"IFT_10\",\"orientation\":\"v\",\"showlegend\":true,\"x\":[\"0_mid\",\"0_post\",\"1_mid\",\"1_post\",\"2_mid\",\"2_post\",\"3_mid\",\"3_post\",\"4_mid\",\"4_post\",\"5_mid\",\"5_post\",\"6_mid\",\"6_post\",\"7_mid\",\"7_post\",\"8_mid\",\"8_post\",\"9_mid\",\"9_post\",\"10_mid\",\"10_post\",\"11_mid\",\"11_post\",\"12_mid\",\"12_post\",\"13_mid\",\"13_post\",\"14_mid\",\"14_post\",\"15_mid\",\"15_post\",\"16_mid\",\"16_post\",\"17_mid\",\"17_post\",\"18_mid\",\"18_post\",\"19_mid\",\"19_post\",\"20_mid\",\"20_post\",\"21_mid\",\"21_post\",\"22_mid\",\"22_post\",\"23_mid\",\"23_post\"],\"xaxis\":\"x\",\"y\":[-11.041792869567871,-21.857776641845703,-21.515403747558594,-22.962377548217773,-24.028310775756836,-21.19716453552246,-21.27210235595703,-26.026046752929688,-25.69602394104004,-28.00168228149414,-26.3349552154541,-29.779443740844727,-29.771636962890625,-33.35481262207031,-33.3896598815918,-33.38729476928711,-31.27724838256836,-29.008296966552734,-31.544580459594727,-30.20844841003418,-28.43665313720703,-33.0810661315918,-34.399681091308594,-37.72322463989258,-37.882789611816406,-41.218814849853516,-41.671504974365234,-49.26743698120117,-39.52246856689453,-46.5233154296875,-43.50642395019531,-50.98695373535156,-52.4320068359375,-59.412322998046875,-53.92628479003906,-59.3529052734375,-60.12664794921875,-71.19374084472656,-70.94673156738281,-62.36500549316406,-62.897979736328125,-69.14736938476562,-76.1142578125,-76.05665588378906,-78.9565200805664,-84.866943359375,-93.35287475585938,-75.25283813476562],\"yaxis\":\"y\",\"type\":\"scatter\"},{\"hovertemplate\":\"Model=GPT2_10\\u003cbr\\u003eLayer=%{x}\\u003cbr\\u003eneg_logprob=%{y}\\u003cextra\\u003e\\u003c\\u002fextra\\u003e\",\"legendgroup\":\"GPT2_10\",\"line\":{\"color\":\"#ab63fa\",\"dash\":\"solid\"},\"marker\":{\"symbol\":\"circle\"},\"mode\":\"lines\",\"name\":\"GPT2_10\",\"orientation\":\"v\",\"showlegend\":true,\"x\":[\"0_mid\",\"0_post\",\"1_mid\",\"1_post\",\"2_mid\",\"2_post\",\"3_mid\",\"3_post\",\"4_mid\",\"4_post\",\"5_mid\",\"5_post\",\"6_mid\",\"6_post\",\"7_mid\",\"7_post\",\"8_mid\",\"8_post\",\"9_mid\",\"9_post\",\"10_mid\",\"10_post\",\"11_mid\",\"11_post\",\"12_mid\",\"12_post\",\"13_mid\",\"13_post\",\"14_mid\",\"14_post\",\"15_mid\",\"15_post\",\"16_mid\",\"16_post\",\"17_mid\",\"17_post\",\"18_mid\",\"18_post\",\"19_mid\",\"19_post\",\"20_mid\",\"20_post\",\"21_mid\",\"21_post\",\"22_mid\",\"22_post\",\"23_mid\",\"23_post\"],\"xaxis\":\"x\",\"y\":[-11.04026985168457,-22.95152473449707,-23.655832290649414,-26.471342086791992,-28.331045150756836,-26.762805938720703,-25.76815414428711,-29.384634017944336,-29.206207275390625,-31.303659439086914,-29.73482322692871,-34.039058685302734,-34.775142669677734,-37.325584411621094,-39.292259216308594,-38.93439483642578,-33.28125,-29.877853393554688,-36.35190963745117,-36.31904983520508,-35.59881591796875,-40.659969329833984,-36.9649543762207,-42.13218688964844,-43.99278259277344,-53.34535217285156,-55.591270446777344,-59.47090148925781,-55.927345275878906,-62.89323425292969,-67.51062774658203,-78.74564361572266,-75.37759399414062,-77.99598693847656,-76.51426696777344,-91.75755310058594,-95.44577026367188,-105.82308959960938,-105.190185546875,-107.93197631835938,-106.547607421875,-105.82830810546875,-110.26260375976562,-111.11102294921875,-120.201904296875,-114.71133422851562,-118.66375732421875,-101.2337646484375],\"yaxis\":\"y\",\"type\":\"scatter\"},{\"hovertemplate\":\"Model=IFT_100\\u003cbr\\u003eLayer=%{x}\\u003cbr\\u003eneg_logprob=%{y}\\u003cextra\\u003e\\u003c\\u002fextra\\u003e\",\"legendgroup\":\"IFT_100\",\"line\":{\"color\":\"#FFA15A\",\"dash\":\"solid\"},\"marker\":{\"symbol\":\"circle\"},\"mode\":\"lines\",\"name\":\"IFT_100\",\"orientation\":\"v\",\"showlegend\":true,\"x\":[\"0_mid\",\"0_post\",\"1_mid\",\"1_post\",\"2_mid\",\"2_post\",\"3_mid\",\"3_post\",\"4_mid\",\"4_post\",\"5_mid\",\"5_post\",\"6_mid\",\"6_post\",\"7_mid\",\"7_post\",\"8_mid\",\"8_post\",\"9_mid\",\"9_post\",\"10_mid\",\"10_post\",\"11_mid\",\"11_post\",\"12_mid\",\"12_post\",\"13_mid\",\"13_post\",\"14_mid\",\"14_post\",\"15_mid\",\"15_post\",\"16_mid\",\"16_post\",\"17_mid\",\"17_post\",\"18_mid\",\"18_post\",\"19_mid\",\"19_post\",\"20_mid\",\"20_post\",\"21_mid\",\"21_post\",\"22_mid\",\"22_post\",\"23_mid\",\"23_post\",\"0_mid\",\"0_post\",\"1_mid\",\"1_post\",\"2_mid\",\"2_post\",\"3_mid\",\"3_post\",\"4_mid\",\"4_post\",\"5_mid\",\"5_post\",\"6_mid\",\"6_post\",\"7_mid\",\"7_post\",\"8_mid\",\"8_post\",\"9_mid\",\"9_post\",\"10_mid\",\"10_post\",\"11_mid\",\"11_post\",\"12_mid\",\"12_post\",\"13_mid\",\"13_post\",\"14_mid\",\"14_post\",\"15_mid\",\"15_post\",\"16_mid\",\"16_post\",\"17_mid\",\"17_post\",\"18_mid\",\"18_post\",\"19_mid\",\"19_post\",\"20_mid\",\"20_post\",\"21_mid\",\"21_post\",\"22_mid\",\"22_post\",\"23_mid\",\"23_post\"],\"xaxis\":\"x\",\"y\":[-11.639135360717773,-25.70904541015625,-23.087329864501953,-26.96814727783203,-29.44990348815918,-26.209976196289062,-26.586261749267578,-28.490732192993164,-29.759489059448242,-30.076740264892578,-32.350711822509766,-32.836368560791016,-29.805374145507812,-30.44364356994629,-31.181007385253906,-36.76167297363281,-39.22118377685547,-38.67329406738281,-36.72950744628906,-34.30849075317383,-27.584083557128906,-35.87446212768555,-37.119022369384766,-42.28845977783203,-37.47794723510742,-39.893619537353516,-37.860836029052734,-50.1185417175293,-49.230445861816406,-56.66474914550781,-59.925209045410156,-80.37358093261719,-89.75370025634766,-92.49574279785156,-86.77449798583984,-98.13703918457031,-93.50382995605469,-99.05307006835938,-102.75637817382812,-116.39306640625,-117.2071533203125,-129.52520751953125,-134.88233947753906,-116.12419128417969,-109.25897979736328,-108.87384033203125,-113.2681884765625,-103.27011108398438,-11.639135360717773,-25.70904541015625,-23.087329864501953,-26.96814727783203,-29.44990348815918,-26.209976196289062,-26.586261749267578,-28.490732192993164,-29.759489059448242,-30.076740264892578,-32.350711822509766,-32.836368560791016,-29.805374145507812,-30.44364356994629,-31.181007385253906,-36.76167297363281,-39.22118377685547,-38.67329406738281,-36.72950744628906,-34.30849075317383,-27.584083557128906,-35.87446212768555,-37.119022369384766,-42.28845977783203,-37.47794723510742,-39.893619537353516,-37.860836029052734,-50.1185417175293,-49.230445861816406,-56.66474914550781,-59.925209045410156,-80.37358093261719,-89.75370025634766,-92.49574279785156,-86.77449798583984,-98.13703918457031,-93.50382995605469,-99.05307006835938,-102.75637817382812,-116.39306640625,-117.2071533203125,-129.52520751953125,-134.88233947753906,-116.12419128417969,-109.25897979736328,-108.87384033203125,-113.2681884765625,-103.27011108398438],\"yaxis\":\"y\",\"type\":\"scatter\"},{\"hovertemplate\":\"Model=GPT2_100\\u003cbr\\u003eLayer=%{x}\\u003cbr\\u003eneg_logprob=%{y}\\u003cextra\\u003e\\u003c\\u002fextra\\u003e\",\"legendgroup\":\"GPT2_100\",\"line\":{\"color\":\"#19d3f3\",\"dash\":\"solid\"},\"marker\":{\"symbol\":\"circle\"},\"mode\":\"lines\",\"name\":\"GPT2_100\",\"orientation\":\"v\",\"showlegend\":true,\"x\":[\"0_mid\",\"0_post\",\"1_mid\",\"1_post\",\"2_mid\",\"2_post\",\"3_mid\",\"3_post\",\"4_mid\",\"4_post\",\"5_mid\",\"5_post\",\"6_mid\",\"6_post\",\"7_mid\",\"7_post\",\"8_mid\",\"8_post\",\"9_mid\",\"9_post\",\"10_mid\",\"10_post\",\"11_mid\",\"11_post\",\"12_mid\",\"12_post\",\"13_mid\",\"13_post\",\"14_mid\",\"14_post\",\"15_mid\",\"15_post\",\"16_mid\",\"16_post\",\"17_mid\",\"17_post\",\"18_mid\",\"18_post\",\"19_mid\",\"19_post\",\"20_mid\",\"20_post\",\"21_mid\",\"21_post\",\"22_mid\",\"22_post\",\"23_mid\",\"23_post\",\"0_mid\",\"0_post\",\"1_mid\",\"1_post\",\"2_mid\",\"2_post\",\"3_mid\",\"3_post\",\"4_mid\",\"4_post\",\"5_mid\",\"5_post\",\"6_mid\",\"6_post\",\"7_mid\",\"7_post\",\"8_mid\",\"8_post\",\"9_mid\",\"9_post\",\"10_mid\",\"10_post\",\"11_mid\",\"11_post\",\"12_mid\",\"12_post\",\"13_mid\",\"13_post\",\"14_mid\",\"14_post\",\"15_mid\",\"15_post\",\"16_mid\",\"16_post\",\"17_mid\",\"17_post\",\"18_mid\",\"18_post\",\"19_mid\",\"19_post\",\"20_mid\",\"20_post\",\"21_mid\",\"21_post\",\"22_mid\",\"22_post\",\"23_mid\",\"23_post\"],\"xaxis\":\"x\",\"y\":[-11.569404602050781,-27.844505310058594,-26.216367721557617,-28.85622787475586,-31.272254943847656,-29.421724319458008,-29.534503936767578,-30.784475326538086,-32.086124420166016,-30.99562644958496,-31.60167121887207,-33.96449279785156,-31.860578536987305,-32.69195556640625,-33.89224624633789,-39.211952209472656,-40.994815826416016,-40.76520919799805,-44.46460723876953,-44.667572021484375,-41.198875427246094,-46.27336883544922,-49.03388595581055,-54.88665771484375,-54.733394622802734,-65.09284973144531,-63.622772216796875,-70.30322265625,-71.44181823730469,-85.57466888427734,-95.77484130859375,-113.1103515625,-115.87755584716797,-121.03878784179688,-120.23027038574219,-139.4243621826172,-145.15789794921875,-159.76930236816406,-165.72206115722656,-183.83311462402344,-185.78700256347656,-206.27224731445312,-211.03860473632812,-208.0757598876953,-211.13107299804688,-205.79824829101562,-212.09283447265625,-192.23941040039062,-11.569404602050781,-27.844505310058594,-26.216367721557617,-28.85622787475586,-31.272254943847656,-29.421724319458008,-29.534503936767578,-30.784475326538086,-32.086124420166016,-30.99562644958496,-31.60167121887207,-33.96449279785156,-31.860578536987305,-32.69195556640625,-33.89224624633789,-39.211952209472656,-40.994815826416016,-40.76520919799805,-44.46460723876953,-44.667572021484375,-41.198875427246094,-46.27336883544922,-49.03388595581055,-54.88665771484375,-54.733394622802734,-65.09284973144531,-63.622772216796875,-70.30322265625,-71.44181823730469,-85.57466888427734,-95.77484130859375,-113.1103515625,-115.87755584716797,-121.03878784179688,-120.23027038574219,-139.4243621826172,-145.15789794921875,-159.76930236816406,-165.72206115722656,-183.83311462402344,-185.78700256347656,-206.27224731445312,-211.03860473632812,-208.0757598876953,-211.13107299804688,-205.79824829101562,-212.09283447265625,-192.23941040039062],\"yaxis\":\"y\",\"type\":\"scatter\"},{\"hovertemplate\":\"Model=IFT_10000\\u003cbr\\u003eLayer=%{x}\\u003cbr\\u003eneg_logprob=%{y}\\u003cextra\\u003e\\u003c\\u002fextra\\u003e\",\"legendgroup\":\"IFT_10000\",\"line\":{\"color\":\"#FF6692\",\"dash\":\"solid\"},\"marker\":{\"symbol\":\"circle\"},\"mode\":\"lines\",\"name\":\"IFT_10000\",\"orientation\":\"v\",\"showlegend\":true,\"x\":[\"0_mid\",\"0_post\",\"1_mid\",\"1_post\",\"2_mid\",\"2_post\",\"3_mid\",\"3_post\",\"4_mid\",\"4_post\",\"5_mid\",\"5_post\",\"6_mid\",\"6_post\",\"7_mid\",\"7_post\",\"8_mid\",\"8_post\",\"9_mid\",\"9_post\",\"10_mid\",\"10_post\",\"11_mid\",\"11_post\",\"12_mid\",\"12_post\",\"13_mid\",\"13_post\",\"14_mid\",\"14_post\",\"15_mid\",\"15_post\",\"16_mid\",\"16_post\",\"17_mid\",\"17_post\",\"18_mid\",\"18_post\",\"19_mid\",\"19_post\",\"20_mid\",\"20_post\",\"21_mid\",\"21_post\",\"22_mid\",\"22_post\",\"23_mid\",\"23_post\"],\"xaxis\":\"x\",\"y\":[-10.70553970336914,-36.46573257446289,-36.740177154541016,-39.34328842163086,-40.35446548461914,-37.3227424621582,-34.41486358642578,-40.223548889160156,-44.54110336303711,-46.70994567871094,-48.83574295043945,-49.06551742553711,-43.976993560791016,-46.712589263916016,-49.97938537597656,-54.937400817871094,-60.730979919433594,-51.4306640625,-57.255130767822266,-53.497276306152344,-53.84547424316406,-79.25440979003906,-89.95832824707031,-93.4454345703125,-89.51492309570312,-96.1081771850586,-96.2990493774414,-121.87295532226562,-111.8416976928711,-126.99369049072266,-137.4911651611328,-167.0549774169922,-175.25836181640625,-204.48008728027344,-202.80149841308594,-235.64602661132812,-230.34744262695312,-256.87164306640625,-258.5567626953125,-283.8305358886719,-284.43109130859375,-320.952392578125,-339.72503662109375,-329.3786926269531,-341.8834228515625,-362.5556945800781,-364.7724609375,-393.4171447753906],\"yaxis\":\"y\",\"type\":\"scatter\"},{\"hovertemplate\":\"Model=GPT2_10000\\u003cbr\\u003eLayer=%{x}\\u003cbr\\u003eneg_logprob=%{y}\\u003cextra\\u003e\\u003c\\u002fextra\\u003e\",\"legendgroup\":\"GPT2_10000\",\"line\":{\"color\":\"#B6E880\",\"dash\":\"solid\"},\"marker\":{\"symbol\":\"circle\"},\"mode\":\"lines\",\"name\":\"GPT2_10000\",\"orientation\":\"v\",\"showlegend\":true,\"x\":[\"0_mid\",\"0_post\",\"1_mid\",\"1_post\",\"2_mid\",\"2_post\",\"3_mid\",\"3_post\",\"4_mid\",\"4_post\",\"5_mid\",\"5_post\",\"6_mid\",\"6_post\",\"7_mid\",\"7_post\",\"8_mid\",\"8_post\",\"9_mid\",\"9_post\",\"10_mid\",\"10_post\",\"11_mid\",\"11_post\",\"12_mid\",\"12_post\",\"13_mid\",\"13_post\",\"14_mid\",\"14_post\",\"15_mid\",\"15_post\",\"16_mid\",\"16_post\",\"17_mid\",\"17_post\",\"18_mid\",\"18_post\",\"19_mid\",\"19_post\",\"20_mid\",\"20_post\",\"21_mid\",\"21_post\",\"22_mid\",\"22_post\",\"23_mid\",\"23_post\"],\"xaxis\":\"x\",\"y\":[-10.686378479003906,-37.83184051513672,-38.707454681396484,-42.694236755371094,-44.05750274658203,-43.66024398803711,-40.29290008544922,-45.0721435546875,-48.110145568847656,-51.20557403564453,-51.146060943603516,-50.76686096191406,-49.264137268066406,-53.76647186279297,-54.855098724365234,-58.796104431152344,-62.772560119628906,-62.14594650268555,-70.0411605834961,-71.6051025390625,-75.96499633789062,-88.11357116699219,-95.28453826904297,-101.62955474853516,-105.05207824707031,-115.8038101196289,-124.03152465820312,-140.59039306640625,-138.86863708496094,-162.08441162109375,-184.23187255859375,-208.9060821533203,-216.6355743408203,-236.42898559570312,-243.28250122070312,-278.439697265625,-285.5450439453125,-315.52178955078125,-320.24932861328125,-354.7046813964844,-354.46612548828125,-392.9332580566406,-400.37530517578125,-408.4804992675781,-410.8753662109375,-440.9264831542969,-448.8370056152344,-488.84429931640625],\"yaxis\":\"y\",\"type\":\"scatter\"}],                        {\"template\":{\"data\":{\"histogram2dcontour\":[{\"type\":\"histogram2dcontour\",\"colorbar\":{\"outlinewidth\":0,\"ticks\":\"\"},\"colorscale\":[[0.0,\"#0d0887\"],[0.1111111111111111,\"#46039f\"],[0.2222222222222222,\"#7201a8\"],[0.3333333333333333,\"#9c179e\"],[0.4444444444444444,\"#bd3786\"],[0.5555555555555556,\"#d8576b\"],[0.6666666666666666,\"#ed7953\"],[0.7777777777777778,\"#fb9f3a\"],[0.8888888888888888,\"#fdca26\"],[1.0,\"#f0f921\"]]}],\"choropleth\":[{\"type\":\"choropleth\",\"colorbar\":{\"outlinewidth\":0,\"ticks\":\"\"}}],\"histogram2d\":[{\"type\":\"histogram2d\",\"colorbar\":{\"outlinewidth\":0,\"ticks\":\"\"},\"colorscale\":[[0.0,\"#0d0887\"],[0.1111111111111111,\"#46039f\"],[0.2222222222222222,\"#7201a8\"],[0.3333333333333333,\"#9c179e\"],[0.4444444444444444,\"#bd3786\"],[0.5555555555555556,\"#d8576b\"],[0.6666666666666666,\"#ed7953\"],[0.7777777777777778,\"#fb9f3a\"],[0.8888888888888888,\"#fdca26\"],[1.0,\"#f0f921\"]]}],\"heatmap\":[{\"type\":\"heatmap\",\"colorbar\":{\"outlinewidth\":0,\"ticks\":\"\"},\"colorscale\":[[0.0,\"#0d0887\"],[0.1111111111111111,\"#46039f\"],[0.2222222222222222,\"#7201a8\"],[0.3333333333333333,\"#9c179e\"],[0.4444444444444444,\"#bd3786\"],[0.5555555555555556,\"#d8576b\"],[0.6666666666666666,\"#ed7953\"],[0.7777777777777778,\"#fb9f3a\"],[0.8888888888888888,\"#fdca26\"],[1.0,\"#f0f921\"]]}],\"heatmapgl\":[{\"type\":\"heatmapgl\",\"colorbar\":{\"outlinewidth\":0,\"ticks\":\"\"},\"colorscale\":[[0.0,\"#0d0887\"],[0.1111111111111111,\"#46039f\"],[0.2222222222222222,\"#7201a8\"],[0.3333333333333333,\"#9c179e\"],[0.4444444444444444,\"#bd3786\"],[0.5555555555555556,\"#d8576b\"],[0.6666666666666666,\"#ed7953\"],[0.7777777777777778,\"#fb9f3a\"],[0.8888888888888888,\"#fdca26\"],[1.0,\"#f0f921\"]]}],\"contourcarpet\":[{\"type\":\"contourcarpet\",\"colorbar\":{\"outlinewidth\":0,\"ticks\":\"\"}}],\"contour\":[{\"type\":\"contour\",\"colorbar\":{\"outlinewidth\":0,\"ticks\":\"\"},\"colorscale\":[[0.0,\"#0d0887\"],[0.1111111111111111,\"#46039f\"],[0.2222222222222222,\"#7201a8\"],[0.3333333333333333,\"#9c179e\"],[0.4444444444444444,\"#bd3786\"],[0.5555555555555556,\"#d8576b\"],[0.6666666666666666,\"#ed7953\"],[0.7777777777777778,\"#fb9f3a\"],[0.8888888888888888,\"#fdca26\"],[1.0,\"#f0f921\"]]}],\"surface\":[{\"type\":\"surface\",\"colorbar\":{\"outlinewidth\":0,\"ticks\":\"\"},\"colorscale\":[[0.0,\"#0d0887\"],[0.1111111111111111,\"#46039f\"],[0.2222222222222222,\"#7201a8\"],[0.3333333333333333,\"#9c179e\"],[0.4444444444444444,\"#bd3786\"],[0.5555555555555556,\"#d8576b\"],[0.6666666666666666,\"#ed7953\"],[0.7777777777777778,\"#fb9f3a\"],[0.8888888888888888,\"#fdca26\"],[1.0,\"#f0f921\"]]}],\"mesh3d\":[{\"type\":\"mesh3d\",\"colorbar\":{\"outlinewidth\":0,\"ticks\":\"\"}}],\"scatter\":[{\"fillpattern\":{\"fillmode\":\"overlay\",\"size\":10,\"solidity\":0.2},\"type\":\"scatter\"}],\"parcoords\":[{\"type\":\"parcoords\",\"line\":{\"colorbar\":{\"outlinewidth\":0,\"ticks\":\"\"}}}],\"scatterpolargl\":[{\"type\":\"scatterpolargl\",\"marker\":{\"colorbar\":{\"outlinewidth\":0,\"ticks\":\"\"}}}],\"bar\":[{\"error_x\":{\"color\":\"#2a3f5f\"},\"error_y\":{\"color\":\"#2a3f5f\"},\"marker\":{\"line\":{\"color\":\"#E5ECF6\",\"width\":0.5},\"pattern\":{\"fillmode\":\"overlay\",\"size\":10,\"solidity\":0.2}},\"type\":\"bar\"}],\"scattergeo\":[{\"type\":\"scattergeo\",\"marker\":{\"colorbar\":{\"outlinewidth\":0,\"ticks\":\"\"}}}],\"scatterpolar\":[{\"type\":\"scatterpolar\",\"marker\":{\"colorbar\":{\"outlinewidth\":0,\"ticks\":\"\"}}}],\"histogram\":[{\"marker\":{\"pattern\":{\"fillmode\":\"overlay\",\"size\":10,\"solidity\":0.2}},\"type\":\"histogram\"}],\"scattergl\":[{\"type\":\"scattergl\",\"marker\":{\"colorbar\":{\"outlinewidth\":0,\"ticks\":\"\"}}}],\"scatter3d\":[{\"type\":\"scatter3d\",\"line\":{\"colorbar\":{\"outlinewidth\":0,\"ticks\":\"\"}},\"marker\":{\"colorbar\":{\"outlinewidth\":0,\"ticks\":\"\"}}}],\"scattermapbox\":[{\"type\":\"scattermapbox\",\"marker\":{\"colorbar\":{\"outlinewidth\":0,\"ticks\":\"\"}}}],\"scatterternary\":[{\"type\":\"scatterternary\",\"marker\":{\"colorbar\":{\"outlinewidth\":0,\"ticks\":\"\"}}}],\"scattercarpet\":[{\"type\":\"scattercarpet\",\"marker\":{\"colorbar\":{\"outlinewidth\":0,\"ticks\":\"\"}}}],\"carpet\":[{\"aaxis\":{\"endlinecolor\":\"#2a3f5f\",\"gridcolor\":\"white\",\"linecolor\":\"white\",\"minorgridcolor\":\"white\",\"startlinecolor\":\"#2a3f5f\"},\"baxis\":{\"endlinecolor\":\"#2a3f5f\",\"gridcolor\":\"white\",\"linecolor\":\"white\",\"minorgridcolor\":\"white\",\"startlinecolor\":\"#2a3f5f\"},\"type\":\"carpet\"}],\"table\":[{\"cells\":{\"fill\":{\"color\":\"#EBF0F8\"},\"line\":{\"color\":\"white\"}},\"header\":{\"fill\":{\"color\":\"#C8D4E3\"},\"line\":{\"color\":\"white\"}},\"type\":\"table\"}],\"barpolar\":[{\"marker\":{\"line\":{\"color\":\"#E5ECF6\",\"width\":0.5},\"pattern\":{\"fillmode\":\"overlay\",\"size\":10,\"solidity\":0.2}},\"type\":\"barpolar\"}],\"pie\":[{\"automargin\":true,\"type\":\"pie\"}]},\"layout\":{\"autotypenumbers\":\"strict\",\"colorway\":[\"#636efa\",\"#EF553B\",\"#00cc96\",\"#ab63fa\",\"#FFA15A\",\"#19d3f3\",\"#FF6692\",\"#B6E880\",\"#FF97FF\",\"#FECB52\"],\"font\":{\"color\":\"#2a3f5f\"},\"hovermode\":\"closest\",\"hoverlabel\":{\"align\":\"left\"},\"paper_bgcolor\":\"white\",\"plot_bgcolor\":\"#E5ECF6\",\"polar\":{\"bgcolor\":\"#E5ECF6\",\"angularaxis\":{\"gridcolor\":\"white\",\"linecolor\":\"white\",\"ticks\":\"\"},\"radialaxis\":{\"gridcolor\":\"white\",\"linecolor\":\"white\",\"ticks\":\"\"}},\"ternary\":{\"bgcolor\":\"#E5ECF6\",\"aaxis\":{\"gridcolor\":\"white\",\"linecolor\":\"white\",\"ticks\":\"\"},\"baxis\":{\"gridcolor\":\"white\",\"linecolor\":\"white\",\"ticks\":\"\"},\"caxis\":{\"gridcolor\":\"white\",\"linecolor\":\"white\",\"ticks\":\"\"}},\"coloraxis\":{\"colorbar\":{\"outlinewidth\":0,\"ticks\":\"\"}},\"colorscale\":{\"sequential\":[[0.0,\"#0d0887\"],[0.1111111111111111,\"#46039f\"],[0.2222222222222222,\"#7201a8\"],[0.3333333333333333,\"#9c179e\"],[0.4444444444444444,\"#bd3786\"],[0.5555555555555556,\"#d8576b\"],[0.6666666666666666,\"#ed7953\"],[0.7777777777777778,\"#fb9f3a\"],[0.8888888888888888,\"#fdca26\"],[1.0,\"#f0f921\"]],\"sequentialminus\":[[0.0,\"#0d0887\"],[0.1111111111111111,\"#46039f\"],[0.2222222222222222,\"#7201a8\"],[0.3333333333333333,\"#9c179e\"],[0.4444444444444444,\"#bd3786\"],[0.5555555555555556,\"#d8576b\"],[0.6666666666666666,\"#ed7953\"],[0.7777777777777778,\"#fb9f3a\"],[0.8888888888888888,\"#fdca26\"],[1.0,\"#f0f921\"]],\"diverging\":[[0,\"#8e0152\"],[0.1,\"#c51b7d\"],[0.2,\"#de77ae\"],[0.3,\"#f1b6da\"],[0.4,\"#fde0ef\"],[0.5,\"#f7f7f7\"],[0.6,\"#e6f5d0\"],[0.7,\"#b8e186\"],[0.8,\"#7fbc41\"],[0.9,\"#4d9221\"],[1,\"#276419\"]]},\"xaxis\":{\"gridcolor\":\"white\",\"linecolor\":\"white\",\"ticks\":\"\",\"title\":{\"standoff\":15},\"zerolinecolor\":\"white\",\"automargin\":true,\"zerolinewidth\":2},\"yaxis\":{\"gridcolor\":\"white\",\"linecolor\":\"white\",\"ticks\":\"\",\"title\":{\"standoff\":15},\"zerolinecolor\":\"white\",\"automargin\":true,\"zerolinewidth\":2},\"scene\":{\"xaxis\":{\"backgroundcolor\":\"#E5ECF6\",\"gridcolor\":\"white\",\"linecolor\":\"white\",\"showbackground\":true,\"ticks\":\"\",\"zerolinecolor\":\"white\",\"gridwidth\":2},\"yaxis\":{\"backgroundcolor\":\"#E5ECF6\",\"gridcolor\":\"white\",\"linecolor\":\"white\",\"showbackground\":true,\"ticks\":\"\",\"zerolinecolor\":\"white\",\"gridwidth\":2},\"zaxis\":{\"backgroundcolor\":\"#E5ECF6\",\"gridcolor\":\"white\",\"linecolor\":\"white\",\"showbackground\":true,\"ticks\":\"\",\"zerolinecolor\":\"white\",\"gridwidth\":2}},\"shapedefaults\":{\"line\":{\"color\":\"#2a3f5f\"}},\"annotationdefaults\":{\"arrowcolor\":\"#2a3f5f\",\"arrowhead\":0,\"arrowwidth\":1},\"geo\":{\"bgcolor\":\"white\",\"landcolor\":\"#E5ECF6\",\"subunitcolor\":\"white\",\"showland\":true,\"showlakes\":true,\"lakecolor\":\"white\"},\"title\":{\"x\":0.05},\"mapbox\":{\"style\":\"light\"}}},\"xaxis\":{\"anchor\":\"y\",\"domain\":[0.0,1.0],\"title\":{\"text\":\"Layer\"}},\"yaxis\":{\"anchor\":\"x\",\"domain\":[0.0,1.0],\"title\":{\"text\":\"neg_logprob\"}},\"legend\":{\"title\":{\"text\":\"Model\"},\"tracegroupgap\":0},\"margin\":{\"t\":60}},                        {\"responsive\": true}                    ).then(function(){\n",
       "                            \n",
       "var gd = document.getElementById('1d855c30-8cff-4557-b323-4e8eafd6c6fd');\n",
       "var x = new MutationObserver(function (mutations, observer) {{\n",
       "        var display = window.getComputedStyle(gd).display;\n",
       "        if (!display || display === 'none') {{\n",
       "            console.log([gd, 'removed!']);\n",
       "            Plotly.purge(gd);\n",
       "            observer.disconnect();\n",
       "        }}\n",
       "}});\n",
       "\n",
       "// Listen for the removal of the full notebook cells\n",
       "var notebookContainer = gd.closest('#notebook-container');\n",
       "if (notebookContainer) {{\n",
       "    x.observe(notebookContainer, {childList: true});\n",
       "}}\n",
       "\n",
       "// Listen for the clearing of the current output cell\n",
       "var outputEl = gd.closest('.output');\n",
       "if (outputEl) {{\n",
       "    x.observe(outputEl, {childList: true});\n",
       "}}\n",
       "\n",
       "                        })                };                });            </script>        </div>"
      ]
     },
     "metadata": {},
     "output_type": "display_data"
    },
    {
     "name": "stdout",
     "output_type": "stream",
     "text": [
      "zzzzzzzzzzzzzzzzzzzzzzzzzzzzzzzzzzzzzzzzzzzzzzzzzzzz\n",
      "Neg tok: 453\n",
      "Tok id: 2111\n"
     ]
    },
    {
     "data": {
      "application/vnd.plotly.v1+json": {
       "config": {
        "plotlyServerURL": "https://plot.ly"
       },
       "data": [
        {
         "hovertemplate": "Model=IFT<br>Layer=%{x}<br>neg_logprob=%{y}<extra></extra>",
         "legendgroup": "IFT",
         "line": {
          "color": "#636efa",
          "dash": "solid"
         },
         "marker": {
          "symbol": "circle"
         },
         "mode": "lines",
         "name": "IFT",
         "orientation": "v",
         "showlegend": true,
         "type": "scatter",
         "x": [
          "0_mid",
          "0_post",
          "1_mid",
          "1_post",
          "2_mid",
          "2_post",
          "3_mid",
          "3_post",
          "4_mid",
          "4_post",
          "5_mid",
          "5_post",
          "6_mid",
          "6_post",
          "7_mid",
          "7_post",
          "8_mid",
          "8_post",
          "9_mid",
          "9_post",
          "10_mid",
          "10_post",
          "11_mid",
          "11_post",
          "12_mid",
          "12_post",
          "13_mid",
          "13_post",
          "14_mid",
          "14_post",
          "15_mid",
          "15_post",
          "16_mid",
          "16_post",
          "17_mid",
          "17_post",
          "18_mid",
          "18_post",
          "19_mid",
          "19_post",
          "20_mid",
          "20_post",
          "21_mid",
          "21_post",
          "22_mid",
          "22_post",
          "23_mid",
          "23_post"
         ],
         "xaxis": "x",
         "y": [
          -11.496150970458984,
          -20.00824546813965,
          -20.582050323486328,
          -17.45646095275879,
          -19.284969329833984,
          -19.91244125366211,
          -18.89391326904297,
          -18.079940795898438,
          -18.414424896240234,
          -17.368900299072266,
          -18.349519729614258,
          -20.494726181030273,
          -17.624937057495117,
          -18.889280319213867,
          -17.747629165649414,
          -15.871650695800781,
          -19.88248062133789,
          -18.89853858947754,
          -21.246082305908203,
          -24.197595596313477,
          -19.359521865844727,
          -13.359617233276367,
          -3.7840476036071777,
          -5.89254093170166,
          -3.057084798812866,
          -0.0036499565467238426,
          -0.004893825389444828,
          -2.111966848373413,
          -4.218565940856934,
          -13.599174499511719,
          -15.860577583312988,
          -18.833616256713867,
          -21.7556209564209,
          -40.36614990234375,
          -35.68875503540039,
          -53.9408073425293,
          -53.16872024536133,
          -59.56561279296875,
          -58.83271789550781,
          -60.96504211425781,
          -52.22583770751953,
          -51.33155822753906,
          -40.95390319824219,
          -36.7869987487793,
          -36.498077392578125,
          -30.068737030029297,
          -33.873294830322266,
          -36.56207275390625
         ],
         "yaxis": "y"
        },
        {
         "hovertemplate": "Model=GPT2<br>Layer=%{x}<br>neg_logprob=%{y}<extra></extra>",
         "legendgroup": "GPT2",
         "line": {
          "color": "#EF553B",
          "dash": "solid"
         },
         "marker": {
          "symbol": "circle"
         },
         "mode": "lines",
         "name": "GPT2",
         "orientation": "v",
         "showlegend": true,
         "type": "scatter",
         "x": [
          "0_mid",
          "0_post",
          "1_mid",
          "1_post",
          "2_mid",
          "2_post",
          "3_mid",
          "3_post",
          "4_mid",
          "4_post",
          "5_mid",
          "5_post",
          "6_mid",
          "6_post",
          "7_mid",
          "7_post",
          "8_mid",
          "8_post",
          "9_mid",
          "9_post",
          "10_mid",
          "10_post",
          "11_mid",
          "11_post",
          "12_mid",
          "12_post",
          "13_mid",
          "13_post",
          "14_mid",
          "14_post",
          "15_mid",
          "15_post",
          "16_mid",
          "16_post",
          "17_mid",
          "17_post",
          "18_mid",
          "18_post",
          "19_mid",
          "19_post",
          "20_mid",
          "20_post",
          "21_mid",
          "21_post",
          "22_mid",
          "22_post",
          "23_mid",
          "23_post"
         ],
         "xaxis": "x",
         "y": [
          -11.438942909240723,
          -21.535512924194336,
          -20.81598472595215,
          -19.375696182250977,
          -20.000381469726562,
          -20.488651275634766,
          -20.415889739990234,
          -21.46560287475586,
          -20.8131103515625,
          -21.090595245361328,
          -22.79844093322754,
          -24.703977584838867,
          -21.780094146728516,
          -25.755876541137695,
          -25.304182052612305,
          -27.35732078552246,
          -33.173370361328125,
          -32.902164459228516,
          -31.04125213623047,
          -33.96050262451172,
          -22.846817016601562,
          -22.168045043945312,
          -12.576305389404297,
          -13.040424346923828,
          -10.370484352111816,
          -2.584066867828369,
          -0.004250539932399988,
          -1.9711776971817017,
          -0.07154404371976852,
          -4.756028175354004,
          -0.3089051842689514,
          -0.5075677633285522,
          -0.00011467275908216834,
          -0.08385077118873596,
          -2.7179348762729205e-05,
          -0.00012694983161054552,
          -1.7881377516459906e-06,
          0,
          0,
          0,
          0,
          0,
          0,
          0,
          0,
          0,
          0,
          0
         ],
         "yaxis": "y"
        },
        {
         "hovertemplate": "Model=IFT_10<br>Layer=%{x}<br>neg_logprob=%{y}<extra></extra>",
         "legendgroup": "IFT_10",
         "line": {
          "color": "#00cc96",
          "dash": "solid"
         },
         "marker": {
          "symbol": "circle"
         },
         "mode": "lines",
         "name": "IFT_10",
         "orientation": "v",
         "showlegend": true,
         "type": "scatter",
         "x": [
          "0_mid",
          "0_post",
          "1_mid",
          "1_post",
          "2_mid",
          "2_post",
          "3_mid",
          "3_post",
          "4_mid",
          "4_post",
          "5_mid",
          "5_post",
          "6_mid",
          "6_post",
          "7_mid",
          "7_post",
          "8_mid",
          "8_post",
          "9_mid",
          "9_post",
          "10_mid",
          "10_post",
          "11_mid",
          "11_post",
          "12_mid",
          "12_post",
          "13_mid",
          "13_post",
          "14_mid",
          "14_post",
          "15_mid",
          "15_post",
          "16_mid",
          "16_post",
          "17_mid",
          "17_post",
          "18_mid",
          "18_post",
          "19_mid",
          "19_post",
          "20_mid",
          "20_post",
          "21_mid",
          "21_post",
          "22_mid",
          "22_post",
          "23_mid",
          "23_post"
         ],
         "xaxis": "x",
         "y": [
          -11.429031372070312,
          -7.67364501953125,
          -4.615306854248047,
          -2.547898530960083,
          -2.296607255935669,
          -3.004403591156006,
          -2.7682580947875977,
          -3.652092456817627,
          -4.006368637084961,
          -4.716010093688965,
          -6.177613258361816,
          -11.887940406799316,
          -10.50837516784668,
          -10.789915084838867,
          -13.898496627807617,
          -9.377716064453125,
          -12.286831855773926,
          -12.33813190460205,
          -10.764400482177734,
          -16.52345848083496,
          -9.900666236877441,
          -10.989294052124023,
          -12.531606674194336,
          -17.089256286621094,
          -10.884462356567383,
          -12.3722562789917,
          -12.06765365600586,
          -12.962774276733398,
          -14.268919944763184,
          -11.474052429199219,
          -15.14220142364502,
          -9.472960472106934,
          -14.164403915405273,
          -35.96623229980469,
          -33.83646011352539,
          -56.94819259643555,
          -58.1872444152832,
          -61.82115173339844,
          -68.55354309082031,
          -65.54141235351562,
          -64.54424285888672,
          -80.02200317382812,
          -80.57582092285156,
          -77.58242797851562,
          -73.79934692382812,
          -74.1221694946289,
          -79.61328887939453,
          -75.78997802734375
         ],
         "yaxis": "y"
        },
        {
         "hovertemplate": "Model=GPT2_10<br>Layer=%{x}<br>neg_logprob=%{y}<extra></extra>",
         "legendgroup": "GPT2_10",
         "line": {
          "color": "#ab63fa",
          "dash": "solid"
         },
         "marker": {
          "symbol": "circle"
         },
         "mode": "lines",
         "name": "GPT2_10",
         "orientation": "v",
         "showlegend": true,
         "type": "scatter",
         "x": [
          "0_mid",
          "0_post",
          "1_mid",
          "1_post",
          "2_mid",
          "2_post",
          "3_mid",
          "3_post",
          "4_mid",
          "4_post",
          "5_mid",
          "5_post",
          "6_mid",
          "6_post",
          "7_mid",
          "7_post",
          "8_mid",
          "8_post",
          "9_mid",
          "9_post",
          "10_mid",
          "10_post",
          "11_mid",
          "11_post",
          "12_mid",
          "12_post",
          "13_mid",
          "13_post",
          "14_mid",
          "14_post",
          "15_mid",
          "15_post",
          "16_mid",
          "16_post",
          "17_mid",
          "17_post",
          "18_mid",
          "18_post",
          "19_mid",
          "19_post",
          "20_mid",
          "20_post",
          "21_mid",
          "21_post",
          "22_mid",
          "22_post",
          "23_mid",
          "23_post"
         ],
         "xaxis": "x",
         "y": [
          -11.37006664276123,
          -8.412881851196289,
          -5.869466781616211,
          -2.4066338539123535,
          -2.136353015899658,
          -2.717270851135254,
          -3.0880367755889893,
          -4.919084548950195,
          -5.441490173339844,
          -7.345573425292969,
          -8.894649505615234,
          -14.176473617553711,
          -15.902179718017578,
          -15.855737686157227,
          -19.607038497924805,
          -19.08173179626465,
          -25.593799591064453,
          -25.398801803588867,
          -25.912841796875,
          -29.48583984375,
          -26.5758056640625,
          -25.464309692382812,
          -27.231456756591797,
          -31.314685821533203,
          -27.250930786132812,
          -23.085355758666992,
          -28.424814224243164,
          -31.89549446105957,
          -32.86216354370117,
          -28.672943115234375,
          -30.4425106048584,
          -27.606094360351562,
          -33.613685607910156,
          -35.53401565551758,
          -43.65363693237305,
          -46.17641067504883,
          -50.36260986328125,
          -55.7554931640625,
          -71.17277526855469,
          -66.58721923828125,
          -95.11361694335938,
          -93.88421630859375,
          -115.21420288085938,
          -114.43698120117188,
          -119.61456298828125,
          -112.0828857421875,
          -118.27798461914062,
          -114.126220703125
         ],
         "yaxis": "y"
        },
        {
         "hovertemplate": "Model=IFT_100<br>Layer=%{x}<br>neg_logprob=%{y}<extra></extra>",
         "legendgroup": "IFT_100",
         "line": {
          "color": "#FFA15A",
          "dash": "solid"
         },
         "marker": {
          "symbol": "circle"
         },
         "mode": "lines",
         "name": "IFT_100",
         "orientation": "v",
         "showlegend": true,
         "type": "scatter",
         "x": [
          "0_mid",
          "0_post",
          "1_mid",
          "1_post",
          "2_mid",
          "2_post",
          "3_mid",
          "3_post",
          "4_mid",
          "4_post",
          "5_mid",
          "5_post",
          "6_mid",
          "6_post",
          "7_mid",
          "7_post",
          "8_mid",
          "8_post",
          "9_mid",
          "9_post",
          "10_mid",
          "10_post",
          "11_mid",
          "11_post",
          "12_mid",
          "12_post",
          "13_mid",
          "13_post",
          "14_mid",
          "14_post",
          "15_mid",
          "15_post",
          "16_mid",
          "16_post",
          "17_mid",
          "17_post",
          "18_mid",
          "18_post",
          "19_mid",
          "19_post",
          "20_mid",
          "20_post",
          "21_mid",
          "21_post",
          "22_mid",
          "22_post",
          "23_mid",
          "23_post",
          "0_mid",
          "0_post",
          "1_mid",
          "1_post",
          "2_mid",
          "2_post",
          "3_mid",
          "3_post",
          "4_mid",
          "4_post",
          "5_mid",
          "5_post",
          "6_mid",
          "6_post",
          "7_mid",
          "7_post",
          "8_mid",
          "8_post",
          "9_mid",
          "9_post",
          "10_mid",
          "10_post",
          "11_mid",
          "11_post",
          "12_mid",
          "12_post",
          "13_mid",
          "13_post",
          "14_mid",
          "14_post",
          "15_mid",
          "15_post",
          "16_mid",
          "16_post",
          "17_mid",
          "17_post",
          "18_mid",
          "18_post",
          "19_mid",
          "19_post",
          "20_mid",
          "20_post",
          "21_mid",
          "21_post",
          "22_mid",
          "22_post",
          "23_mid",
          "23_post"
         ],
         "xaxis": "x",
         "y": [
          -11.6486177444458,
          -19.37213897705078,
          -19.351091384887695,
          -22.9437255859375,
          -23.597335815429688,
          -23.893356323242188,
          -24.72276496887207,
          -23.32534408569336,
          -25.040172576904297,
          -25.44121742248535,
          -26.693450927734375,
          -28.6628475189209,
          -25.91126823425293,
          -26.383975982666016,
          -27.38285255432129,
          -26.689109802246094,
          -34.33195114135742,
          -33.341522216796875,
          -37.36079788208008,
          -39.665252685546875,
          -35.42015838623047,
          -36.99273681640625,
          -39.5826301574707,
          -37.73794174194336,
          -41.75632095336914,
          -35.16427230834961,
          -35.16813278198242,
          -31.369489669799805,
          -31.773910522460938,
          -32.93092346191406,
          -37.93064498901367,
          -51.761749267578125,
          -59.16004943847656,
          -60.772613525390625,
          -64.86746978759766,
          -75.31672668457031,
          -79.88187408447266,
          -79.89250183105469,
          -90.13937377929688,
          -90.30654907226562,
          -88.76969146728516,
          -96.8680419921875,
          -102.14434814453125,
          -120.913330078125,
          -130.7412109375,
          -139.83448791503906,
          -157.79672241210938,
          -165.225830078125,
          -11.6486177444458,
          -19.37213897705078,
          -19.351091384887695,
          -22.9437255859375,
          -23.597335815429688,
          -23.893356323242188,
          -24.72276496887207,
          -23.32534408569336,
          -25.040172576904297,
          -25.44121742248535,
          -26.693450927734375,
          -28.6628475189209,
          -25.91126823425293,
          -26.383975982666016,
          -27.38285255432129,
          -26.689109802246094,
          -34.33195114135742,
          -33.341522216796875,
          -37.36079788208008,
          -39.665252685546875,
          -35.42015838623047,
          -36.99273681640625,
          -39.5826301574707,
          -37.73794174194336,
          -41.75632095336914,
          -35.16427230834961,
          -35.16813278198242,
          -31.369489669799805,
          -31.773910522460938,
          -32.93092346191406,
          -37.93064498901367,
          -51.761749267578125,
          -59.16004943847656,
          -60.772613525390625,
          -64.86746978759766,
          -75.31672668457031,
          -79.88187408447266,
          -79.89250183105469,
          -90.13937377929688,
          -90.30654907226562,
          -88.76969146728516,
          -96.8680419921875,
          -102.14434814453125,
          -120.913330078125,
          -130.7412109375,
          -139.83448791503906,
          -157.79672241210938,
          -165.225830078125
         ],
         "yaxis": "y"
        },
        {
         "hovertemplate": "Model=GPT2_100<br>Layer=%{x}<br>neg_logprob=%{y}<extra></extra>",
         "legendgroup": "GPT2_100",
         "line": {
          "color": "#19d3f3",
          "dash": "solid"
         },
         "marker": {
          "symbol": "circle"
         },
         "mode": "lines",
         "name": "GPT2_100",
         "orientation": "v",
         "showlegend": true,
         "type": "scatter",
         "x": [
          "0_mid",
          "0_post",
          "1_mid",
          "1_post",
          "2_mid",
          "2_post",
          "3_mid",
          "3_post",
          "4_mid",
          "4_post",
          "5_mid",
          "5_post",
          "6_mid",
          "6_post",
          "7_mid",
          "7_post",
          "8_mid",
          "8_post",
          "9_mid",
          "9_post",
          "10_mid",
          "10_post",
          "11_mid",
          "11_post",
          "12_mid",
          "12_post",
          "13_mid",
          "13_post",
          "14_mid",
          "14_post",
          "15_mid",
          "15_post",
          "16_mid",
          "16_post",
          "17_mid",
          "17_post",
          "18_mid",
          "18_post",
          "19_mid",
          "19_post",
          "20_mid",
          "20_post",
          "21_mid",
          "21_post",
          "22_mid",
          "22_post",
          "23_mid",
          "23_post",
          "0_mid",
          "0_post",
          "1_mid",
          "1_post",
          "2_mid",
          "2_post",
          "3_mid",
          "3_post",
          "4_mid",
          "4_post",
          "5_mid",
          "5_post",
          "6_mid",
          "6_post",
          "7_mid",
          "7_post",
          "8_mid",
          "8_post",
          "9_mid",
          "9_post",
          "10_mid",
          "10_post",
          "11_mid",
          "11_post",
          "12_mid",
          "12_post",
          "13_mid",
          "13_post",
          "14_mid",
          "14_post",
          "15_mid",
          "15_post",
          "16_mid",
          "16_post",
          "17_mid",
          "17_post",
          "18_mid",
          "18_post",
          "19_mid",
          "19_post",
          "20_mid",
          "20_post",
          "21_mid",
          "21_post",
          "22_mid",
          "22_post",
          "23_mid",
          "23_post"
         ],
         "xaxis": "x",
         "y": [
          -11.680054664611816,
          -21.570510864257812,
          -21.18726921081543,
          -23.86788558959961,
          -24.585529327392578,
          -25.083797454833984,
          -26.05817413330078,
          -27.06447410583496,
          -27.671770095825195,
          -29.07253074645996,
          -31.306936264038086,
          -33.954132080078125,
          -32.8709602355957,
          -35.152584075927734,
          -36.820777893066406,
          -37.500831604003906,
          -44.41166687011719,
          -44.21342086791992,
          -48.19295120239258,
          -51.314945220947266,
          -48.764923095703125,
          -47.14488983154297,
          -49.70344161987305,
          -50.04854202270508,
          -52.40631103515625,
          -44.74254608154297,
          -53.625465393066406,
          -50.514251708984375,
          -53.48836898803711,
          -54.54652404785156,
          -61.326568603515625,
          -63.19956970214844,
          -79.49486541748047,
          -74.58084106445312,
          -85.89268493652344,
          -81.26416778564453,
          -92.77598571777344,
          -95.56979370117188,
          -121.37994384765625,
          -119.70030212402344,
          -152.47268676757812,
          -153.30010986328125,
          -183.7389373779297,
          -197.2955322265625,
          -207.2469482421875,
          -199.90972900390625,
          -212.77993774414062,
          -200.80453491210938,
          -11.680054664611816,
          -21.570510864257812,
          -21.18726921081543,
          -23.86788558959961,
          -24.585529327392578,
          -25.083797454833984,
          -26.05817413330078,
          -27.06447410583496,
          -27.671770095825195,
          -29.07253074645996,
          -31.306936264038086,
          -33.954132080078125,
          -32.8709602355957,
          -35.152584075927734,
          -36.820777893066406,
          -37.500831604003906,
          -44.41166687011719,
          -44.21342086791992,
          -48.19295120239258,
          -51.314945220947266,
          -48.764923095703125,
          -47.14488983154297,
          -49.70344161987305,
          -50.04854202270508,
          -52.40631103515625,
          -44.74254608154297,
          -53.625465393066406,
          -50.514251708984375,
          -53.48836898803711,
          -54.54652404785156,
          -61.326568603515625,
          -63.19956970214844,
          -79.49486541748047,
          -74.58084106445312,
          -85.89268493652344,
          -81.26416778564453,
          -92.77598571777344,
          -95.56979370117188,
          -121.37994384765625,
          -119.70030212402344,
          -152.47268676757812,
          -153.30010986328125,
          -183.7389373779297,
          -197.2955322265625,
          -207.2469482421875,
          -199.90972900390625,
          -212.77993774414062,
          -200.80453491210938
         ],
         "yaxis": "y"
        },
        {
         "hovertemplate": "Model=IFT_10000<br>Layer=%{x}<br>neg_logprob=%{y}<extra></extra>",
         "legendgroup": "IFT_10000",
         "line": {
          "color": "#FF6692",
          "dash": "solid"
         },
         "marker": {
          "symbol": "circle"
         },
         "mode": "lines",
         "name": "IFT_10000",
         "orientation": "v",
         "showlegend": true,
         "type": "scatter",
         "x": [
          "0_mid",
          "0_post",
          "1_mid",
          "1_post",
          "2_mid",
          "2_post",
          "3_mid",
          "3_post",
          "4_mid",
          "4_post",
          "5_mid",
          "5_post",
          "6_mid",
          "6_post",
          "7_mid",
          "7_post",
          "8_mid",
          "8_post",
          "9_mid",
          "9_post",
          "10_mid",
          "10_post",
          "11_mid",
          "11_post",
          "12_mid",
          "12_post",
          "13_mid",
          "13_post",
          "14_mid",
          "14_post",
          "15_mid",
          "15_post",
          "16_mid",
          "16_post",
          "17_mid",
          "17_post",
          "18_mid",
          "18_post",
          "19_mid",
          "19_post",
          "20_mid",
          "20_post",
          "21_mid",
          "21_post",
          "22_mid",
          "22_post",
          "23_mid",
          "23_post"
         ],
         "xaxis": "x",
         "y": [
          -12.330982208251953,
          -38.92879867553711,
          -39.404972076416016,
          -44.03681182861328,
          -40.01618576049805,
          -42.391212463378906,
          -42.62651824951172,
          -42.592586517333984,
          -44.94923400878906,
          -47.06606674194336,
          -52.84239196777344,
          -52.168556213378906,
          -55.69285583496094,
          -57.601070404052734,
          -56.4932861328125,
          -59.575286865234375,
          -76.75414276123047,
          -72.9406509399414,
          -83.86051940917969,
          -85.28136444091797,
          -85.46286010742188,
          -88.24750518798828,
          -93.53636169433594,
          -95.96356964111328,
          -96.70648956298828,
          -102.59447479248047,
          -103.71232604980469,
          -106.9435806274414,
          -109.9732437133789,
          -124.0455093383789,
          -122.38839721679688,
          -135.7402801513672,
          -146.73121643066406,
          -157.96963500976562,
          -159.2746124267578,
          -178.78207397460938,
          -181.69741821289062,
          -210.20068359375,
          -218.30859375,
          -225.822998046875,
          -226.26087951660156,
          -217.41845703125,
          -220.6861114501953,
          -256.8755798339844,
          -254.3676300048828,
          -254.75997924804688,
          -260.0667419433594,
          -258.4783935546875
         ],
         "yaxis": "y"
        },
        {
         "hovertemplate": "Model=GPT2_10000<br>Layer=%{x}<br>neg_logprob=%{y}<extra></extra>",
         "legendgroup": "GPT2_10000",
         "line": {
          "color": "#B6E880",
          "dash": "solid"
         },
         "marker": {
          "symbol": "circle"
         },
         "mode": "lines",
         "name": "GPT2_10000",
         "orientation": "v",
         "showlegend": true,
         "type": "scatter",
         "x": [
          "0_mid",
          "0_post",
          "1_mid",
          "1_post",
          "2_mid",
          "2_post",
          "3_mid",
          "3_post",
          "4_mid",
          "4_post",
          "5_mid",
          "5_post",
          "6_mid",
          "6_post",
          "7_mid",
          "7_post",
          "8_mid",
          "8_post",
          "9_mid",
          "9_post",
          "10_mid",
          "10_post",
          "11_mid",
          "11_post",
          "12_mid",
          "12_post",
          "13_mid",
          "13_post",
          "14_mid",
          "14_post",
          "15_mid",
          "15_post",
          "16_mid",
          "16_post",
          "17_mid",
          "17_post",
          "18_mid",
          "18_post",
          "19_mid",
          "19_post",
          "20_mid",
          "20_post",
          "21_mid",
          "21_post",
          "22_mid",
          "22_post",
          "23_mid",
          "23_post"
         ],
         "xaxis": "x",
         "y": [
          -12.317166328430176,
          -39.97886657714844,
          -39.129005432128906,
          -43.3690071105957,
          -39.097530364990234,
          -44.02851486206055,
          -44.23820877075195,
          -47.500755310058594,
          -49.102439880371094,
          -51.03129959106445,
          -56.21378707885742,
          -58.373268127441406,
          -66.56827545166016,
          -71.14048767089844,
          -72.29829406738281,
          -77.4277572631836,
          -93.9083480834961,
          -88.18164825439453,
          -99.97262573242188,
          -104.1493911743164,
          -105.35030364990234,
          -108.824951171875,
          -115.38314819335938,
          -124.66791534423828,
          -129.2545928955078,
          -133.4805908203125,
          -142.4852752685547,
          -150.53285217285156,
          -153.9997100830078,
          -167.08543395996094,
          -171.510498046875,
          -182.11508178710938,
          -201.94326782226562,
          -215.00038146972656,
          -227.31594848632812,
          -243.24392700195312,
          -250.87049865722656,
          -286.8725280761719,
          -315.984375,
          -343.07891845703125,
          -373.6607666015625,
          -373.7509765625,
          -404.54107666015625,
          -437.7629699707031,
          -442.05364990234375,
          -450.0708312988281,
          -459.2117614746094,
          -453.9939270019531
         ],
         "yaxis": "y"
        }
       ],
       "layout": {
        "legend": {
         "title": {
          "text": "Model"
         },
         "tracegroupgap": 0
        },
        "margin": {
         "t": 60
        },
        "template": {
         "data": {
          "bar": [
           {
            "error_x": {
             "color": "#2a3f5f"
            },
            "error_y": {
             "color": "#2a3f5f"
            },
            "marker": {
             "line": {
              "color": "#E5ECF6",
              "width": 0.5
             },
             "pattern": {
              "fillmode": "overlay",
              "size": 10,
              "solidity": 0.2
             }
            },
            "type": "bar"
           }
          ],
          "barpolar": [
           {
            "marker": {
             "line": {
              "color": "#E5ECF6",
              "width": 0.5
             },
             "pattern": {
              "fillmode": "overlay",
              "size": 10,
              "solidity": 0.2
             }
            },
            "type": "barpolar"
           }
          ],
          "carpet": [
           {
            "aaxis": {
             "endlinecolor": "#2a3f5f",
             "gridcolor": "white",
             "linecolor": "white",
             "minorgridcolor": "white",
             "startlinecolor": "#2a3f5f"
            },
            "baxis": {
             "endlinecolor": "#2a3f5f",
             "gridcolor": "white",
             "linecolor": "white",
             "minorgridcolor": "white",
             "startlinecolor": "#2a3f5f"
            },
            "type": "carpet"
           }
          ],
          "choropleth": [
           {
            "colorbar": {
             "outlinewidth": 0,
             "ticks": ""
            },
            "type": "choropleth"
           }
          ],
          "contour": [
           {
            "colorbar": {
             "outlinewidth": 0,
             "ticks": ""
            },
            "colorscale": [
             [
              0,
              "#0d0887"
             ],
             [
              0.1111111111111111,
              "#46039f"
             ],
             [
              0.2222222222222222,
              "#7201a8"
             ],
             [
              0.3333333333333333,
              "#9c179e"
             ],
             [
              0.4444444444444444,
              "#bd3786"
             ],
             [
              0.5555555555555556,
              "#d8576b"
             ],
             [
              0.6666666666666666,
              "#ed7953"
             ],
             [
              0.7777777777777778,
              "#fb9f3a"
             ],
             [
              0.8888888888888888,
              "#fdca26"
             ],
             [
              1,
              "#f0f921"
             ]
            ],
            "type": "contour"
           }
          ],
          "contourcarpet": [
           {
            "colorbar": {
             "outlinewidth": 0,
             "ticks": ""
            },
            "type": "contourcarpet"
           }
          ],
          "heatmap": [
           {
            "colorbar": {
             "outlinewidth": 0,
             "ticks": ""
            },
            "colorscale": [
             [
              0,
              "#0d0887"
             ],
             [
              0.1111111111111111,
              "#46039f"
             ],
             [
              0.2222222222222222,
              "#7201a8"
             ],
             [
              0.3333333333333333,
              "#9c179e"
             ],
             [
              0.4444444444444444,
              "#bd3786"
             ],
             [
              0.5555555555555556,
              "#d8576b"
             ],
             [
              0.6666666666666666,
              "#ed7953"
             ],
             [
              0.7777777777777778,
              "#fb9f3a"
             ],
             [
              0.8888888888888888,
              "#fdca26"
             ],
             [
              1,
              "#f0f921"
             ]
            ],
            "type": "heatmap"
           }
          ],
          "heatmapgl": [
           {
            "colorbar": {
             "outlinewidth": 0,
             "ticks": ""
            },
            "colorscale": [
             [
              0,
              "#0d0887"
             ],
             [
              0.1111111111111111,
              "#46039f"
             ],
             [
              0.2222222222222222,
              "#7201a8"
             ],
             [
              0.3333333333333333,
              "#9c179e"
             ],
             [
              0.4444444444444444,
              "#bd3786"
             ],
             [
              0.5555555555555556,
              "#d8576b"
             ],
             [
              0.6666666666666666,
              "#ed7953"
             ],
             [
              0.7777777777777778,
              "#fb9f3a"
             ],
             [
              0.8888888888888888,
              "#fdca26"
             ],
             [
              1,
              "#f0f921"
             ]
            ],
            "type": "heatmapgl"
           }
          ],
          "histogram": [
           {
            "marker": {
             "pattern": {
              "fillmode": "overlay",
              "size": 10,
              "solidity": 0.2
             }
            },
            "type": "histogram"
           }
          ],
          "histogram2d": [
           {
            "colorbar": {
             "outlinewidth": 0,
             "ticks": ""
            },
            "colorscale": [
             [
              0,
              "#0d0887"
             ],
             [
              0.1111111111111111,
              "#46039f"
             ],
             [
              0.2222222222222222,
              "#7201a8"
             ],
             [
              0.3333333333333333,
              "#9c179e"
             ],
             [
              0.4444444444444444,
              "#bd3786"
             ],
             [
              0.5555555555555556,
              "#d8576b"
             ],
             [
              0.6666666666666666,
              "#ed7953"
             ],
             [
              0.7777777777777778,
              "#fb9f3a"
             ],
             [
              0.8888888888888888,
              "#fdca26"
             ],
             [
              1,
              "#f0f921"
             ]
            ],
            "type": "histogram2d"
           }
          ],
          "histogram2dcontour": [
           {
            "colorbar": {
             "outlinewidth": 0,
             "ticks": ""
            },
            "colorscale": [
             [
              0,
              "#0d0887"
             ],
             [
              0.1111111111111111,
              "#46039f"
             ],
             [
              0.2222222222222222,
              "#7201a8"
             ],
             [
              0.3333333333333333,
              "#9c179e"
             ],
             [
              0.4444444444444444,
              "#bd3786"
             ],
             [
              0.5555555555555556,
              "#d8576b"
             ],
             [
              0.6666666666666666,
              "#ed7953"
             ],
             [
              0.7777777777777778,
              "#fb9f3a"
             ],
             [
              0.8888888888888888,
              "#fdca26"
             ],
             [
              1,
              "#f0f921"
             ]
            ],
            "type": "histogram2dcontour"
           }
          ],
          "mesh3d": [
           {
            "colorbar": {
             "outlinewidth": 0,
             "ticks": ""
            },
            "type": "mesh3d"
           }
          ],
          "parcoords": [
           {
            "line": {
             "colorbar": {
              "outlinewidth": 0,
              "ticks": ""
             }
            },
            "type": "parcoords"
           }
          ],
          "pie": [
           {
            "automargin": true,
            "type": "pie"
           }
          ],
          "scatter": [
           {
            "fillpattern": {
             "fillmode": "overlay",
             "size": 10,
             "solidity": 0.2
            },
            "type": "scatter"
           }
          ],
          "scatter3d": [
           {
            "line": {
             "colorbar": {
              "outlinewidth": 0,
              "ticks": ""
             }
            },
            "marker": {
             "colorbar": {
              "outlinewidth": 0,
              "ticks": ""
             }
            },
            "type": "scatter3d"
           }
          ],
          "scattercarpet": [
           {
            "marker": {
             "colorbar": {
              "outlinewidth": 0,
              "ticks": ""
             }
            },
            "type": "scattercarpet"
           }
          ],
          "scattergeo": [
           {
            "marker": {
             "colorbar": {
              "outlinewidth": 0,
              "ticks": ""
             }
            },
            "type": "scattergeo"
           }
          ],
          "scattergl": [
           {
            "marker": {
             "colorbar": {
              "outlinewidth": 0,
              "ticks": ""
             }
            },
            "type": "scattergl"
           }
          ],
          "scattermapbox": [
           {
            "marker": {
             "colorbar": {
              "outlinewidth": 0,
              "ticks": ""
             }
            },
            "type": "scattermapbox"
           }
          ],
          "scatterpolar": [
           {
            "marker": {
             "colorbar": {
              "outlinewidth": 0,
              "ticks": ""
             }
            },
            "type": "scatterpolar"
           }
          ],
          "scatterpolargl": [
           {
            "marker": {
             "colorbar": {
              "outlinewidth": 0,
              "ticks": ""
             }
            },
            "type": "scatterpolargl"
           }
          ],
          "scatterternary": [
           {
            "marker": {
             "colorbar": {
              "outlinewidth": 0,
              "ticks": ""
             }
            },
            "type": "scatterternary"
           }
          ],
          "surface": [
           {
            "colorbar": {
             "outlinewidth": 0,
             "ticks": ""
            },
            "colorscale": [
             [
              0,
              "#0d0887"
             ],
             [
              0.1111111111111111,
              "#46039f"
             ],
             [
              0.2222222222222222,
              "#7201a8"
             ],
             [
              0.3333333333333333,
              "#9c179e"
             ],
             [
              0.4444444444444444,
              "#bd3786"
             ],
             [
              0.5555555555555556,
              "#d8576b"
             ],
             [
              0.6666666666666666,
              "#ed7953"
             ],
             [
              0.7777777777777778,
              "#fb9f3a"
             ],
             [
              0.8888888888888888,
              "#fdca26"
             ],
             [
              1,
              "#f0f921"
             ]
            ],
            "type": "surface"
           }
          ],
          "table": [
           {
            "cells": {
             "fill": {
              "color": "#EBF0F8"
             },
             "line": {
              "color": "white"
             }
            },
            "header": {
             "fill": {
              "color": "#C8D4E3"
             },
             "line": {
              "color": "white"
             }
            },
            "type": "table"
           }
          ]
         },
         "layout": {
          "annotationdefaults": {
           "arrowcolor": "#2a3f5f",
           "arrowhead": 0,
           "arrowwidth": 1
          },
          "autotypenumbers": "strict",
          "coloraxis": {
           "colorbar": {
            "outlinewidth": 0,
            "ticks": ""
           }
          },
          "colorscale": {
           "diverging": [
            [
             0,
             "#8e0152"
            ],
            [
             0.1,
             "#c51b7d"
            ],
            [
             0.2,
             "#de77ae"
            ],
            [
             0.3,
             "#f1b6da"
            ],
            [
             0.4,
             "#fde0ef"
            ],
            [
             0.5,
             "#f7f7f7"
            ],
            [
             0.6,
             "#e6f5d0"
            ],
            [
             0.7,
             "#b8e186"
            ],
            [
             0.8,
             "#7fbc41"
            ],
            [
             0.9,
             "#4d9221"
            ],
            [
             1,
             "#276419"
            ]
           ],
           "sequential": [
            [
             0,
             "#0d0887"
            ],
            [
             0.1111111111111111,
             "#46039f"
            ],
            [
             0.2222222222222222,
             "#7201a8"
            ],
            [
             0.3333333333333333,
             "#9c179e"
            ],
            [
             0.4444444444444444,
             "#bd3786"
            ],
            [
             0.5555555555555556,
             "#d8576b"
            ],
            [
             0.6666666666666666,
             "#ed7953"
            ],
            [
             0.7777777777777778,
             "#fb9f3a"
            ],
            [
             0.8888888888888888,
             "#fdca26"
            ],
            [
             1,
             "#f0f921"
            ]
           ],
           "sequentialminus": [
            [
             0,
             "#0d0887"
            ],
            [
             0.1111111111111111,
             "#46039f"
            ],
            [
             0.2222222222222222,
             "#7201a8"
            ],
            [
             0.3333333333333333,
             "#9c179e"
            ],
            [
             0.4444444444444444,
             "#bd3786"
            ],
            [
             0.5555555555555556,
             "#d8576b"
            ],
            [
             0.6666666666666666,
             "#ed7953"
            ],
            [
             0.7777777777777778,
             "#fb9f3a"
            ],
            [
             0.8888888888888888,
             "#fdca26"
            ],
            [
             1,
             "#f0f921"
            ]
           ]
          },
          "colorway": [
           "#636efa",
           "#EF553B",
           "#00cc96",
           "#ab63fa",
           "#FFA15A",
           "#19d3f3",
           "#FF6692",
           "#B6E880",
           "#FF97FF",
           "#FECB52"
          ],
          "font": {
           "color": "#2a3f5f"
          },
          "geo": {
           "bgcolor": "white",
           "lakecolor": "white",
           "landcolor": "#E5ECF6",
           "showlakes": true,
           "showland": true,
           "subunitcolor": "white"
          },
          "hoverlabel": {
           "align": "left"
          },
          "hovermode": "closest",
          "mapbox": {
           "style": "light"
          },
          "paper_bgcolor": "white",
          "plot_bgcolor": "#E5ECF6",
          "polar": {
           "angularaxis": {
            "gridcolor": "white",
            "linecolor": "white",
            "ticks": ""
           },
           "bgcolor": "#E5ECF6",
           "radialaxis": {
            "gridcolor": "white",
            "linecolor": "white",
            "ticks": ""
           }
          },
          "scene": {
           "xaxis": {
            "backgroundcolor": "#E5ECF6",
            "gridcolor": "white",
            "gridwidth": 2,
            "linecolor": "white",
            "showbackground": true,
            "ticks": "",
            "zerolinecolor": "white"
           },
           "yaxis": {
            "backgroundcolor": "#E5ECF6",
            "gridcolor": "white",
            "gridwidth": 2,
            "linecolor": "white",
            "showbackground": true,
            "ticks": "",
            "zerolinecolor": "white"
           },
           "zaxis": {
            "backgroundcolor": "#E5ECF6",
            "gridcolor": "white",
            "gridwidth": 2,
            "linecolor": "white",
            "showbackground": true,
            "ticks": "",
            "zerolinecolor": "white"
           }
          },
          "shapedefaults": {
           "line": {
            "color": "#2a3f5f"
           }
          },
          "ternary": {
           "aaxis": {
            "gridcolor": "white",
            "linecolor": "white",
            "ticks": ""
           },
           "baxis": {
            "gridcolor": "white",
            "linecolor": "white",
            "ticks": ""
           },
           "bgcolor": "#E5ECF6",
           "caxis": {
            "gridcolor": "white",
            "linecolor": "white",
            "ticks": ""
           }
          },
          "title": {
           "x": 0.05
          },
          "xaxis": {
           "automargin": true,
           "gridcolor": "white",
           "linecolor": "white",
           "ticks": "",
           "title": {
            "standoff": 15
           },
           "zerolinecolor": "white",
           "zerolinewidth": 2
          },
          "yaxis": {
           "automargin": true,
           "gridcolor": "white",
           "linecolor": "white",
           "ticks": "",
           "title": {
            "standoff": 15
           },
           "zerolinecolor": "white",
           "zerolinewidth": 2
          }
         }
        },
        "xaxis": {
         "anchor": "y",
         "domain": [
          0,
          1
         ],
         "title": {
          "text": "Layer"
         }
        },
        "yaxis": {
         "anchor": "x",
         "domain": [
          0,
          1
         ],
         "title": {
          "text": "neg_logprob"
         }
        }
       }
      },
      "text/html": [
       "<div>                            <div id=\"2bc812e1-6290-4593-9e54-3a2ac7d561f8\" class=\"plotly-graph-div\" style=\"height:525px; width:100%;\"></div>            <script type=\"text/javascript\">                require([\"plotly\"], function(Plotly) {                    window.PLOTLYENV=window.PLOTLYENV || {};                                    if (document.getElementById(\"2bc812e1-6290-4593-9e54-3a2ac7d561f8\")) {                    Plotly.newPlot(                        \"2bc812e1-6290-4593-9e54-3a2ac7d561f8\",                        [{\"hovertemplate\":\"Model=IFT\\u003cbr\\u003eLayer=%{x}\\u003cbr\\u003eneg_logprob=%{y}\\u003cextra\\u003e\\u003c\\u002fextra\\u003e\",\"legendgroup\":\"IFT\",\"line\":{\"color\":\"#636efa\",\"dash\":\"solid\"},\"marker\":{\"symbol\":\"circle\"},\"mode\":\"lines\",\"name\":\"IFT\",\"orientation\":\"v\",\"showlegend\":true,\"x\":[\"0_mid\",\"0_post\",\"1_mid\",\"1_post\",\"2_mid\",\"2_post\",\"3_mid\",\"3_post\",\"4_mid\",\"4_post\",\"5_mid\",\"5_post\",\"6_mid\",\"6_post\",\"7_mid\",\"7_post\",\"8_mid\",\"8_post\",\"9_mid\",\"9_post\",\"10_mid\",\"10_post\",\"11_mid\",\"11_post\",\"12_mid\",\"12_post\",\"13_mid\",\"13_post\",\"14_mid\",\"14_post\",\"15_mid\",\"15_post\",\"16_mid\",\"16_post\",\"17_mid\",\"17_post\",\"18_mid\",\"18_post\",\"19_mid\",\"19_post\",\"20_mid\",\"20_post\",\"21_mid\",\"21_post\",\"22_mid\",\"22_post\",\"23_mid\",\"23_post\"],\"xaxis\":\"x\",\"y\":[-11.496150970458984,-20.00824546813965,-20.582050323486328,-17.45646095275879,-19.284969329833984,-19.91244125366211,-18.89391326904297,-18.079940795898438,-18.414424896240234,-17.368900299072266,-18.349519729614258,-20.494726181030273,-17.624937057495117,-18.889280319213867,-17.747629165649414,-15.871650695800781,-19.88248062133789,-18.89853858947754,-21.246082305908203,-24.197595596313477,-19.359521865844727,-13.359617233276367,-3.7840476036071777,-5.89254093170166,-3.057084798812866,-0.0036499565467238426,-0.004893825389444828,-2.111966848373413,-4.218565940856934,-13.599174499511719,-15.860577583312988,-18.833616256713867,-21.7556209564209,-40.36614990234375,-35.68875503540039,-53.9408073425293,-53.16872024536133,-59.56561279296875,-58.83271789550781,-60.96504211425781,-52.22583770751953,-51.33155822753906,-40.95390319824219,-36.7869987487793,-36.498077392578125,-30.068737030029297,-33.873294830322266,-36.56207275390625],\"yaxis\":\"y\",\"type\":\"scatter\"},{\"hovertemplate\":\"Model=GPT2\\u003cbr\\u003eLayer=%{x}\\u003cbr\\u003eneg_logprob=%{y}\\u003cextra\\u003e\\u003c\\u002fextra\\u003e\",\"legendgroup\":\"GPT2\",\"line\":{\"color\":\"#EF553B\",\"dash\":\"solid\"},\"marker\":{\"symbol\":\"circle\"},\"mode\":\"lines\",\"name\":\"GPT2\",\"orientation\":\"v\",\"showlegend\":true,\"x\":[\"0_mid\",\"0_post\",\"1_mid\",\"1_post\",\"2_mid\",\"2_post\",\"3_mid\",\"3_post\",\"4_mid\",\"4_post\",\"5_mid\",\"5_post\",\"6_mid\",\"6_post\",\"7_mid\",\"7_post\",\"8_mid\",\"8_post\",\"9_mid\",\"9_post\",\"10_mid\",\"10_post\",\"11_mid\",\"11_post\",\"12_mid\",\"12_post\",\"13_mid\",\"13_post\",\"14_mid\",\"14_post\",\"15_mid\",\"15_post\",\"16_mid\",\"16_post\",\"17_mid\",\"17_post\",\"18_mid\",\"18_post\",\"19_mid\",\"19_post\",\"20_mid\",\"20_post\",\"21_mid\",\"21_post\",\"22_mid\",\"22_post\",\"23_mid\",\"23_post\"],\"xaxis\":\"x\",\"y\":[-11.438942909240723,-21.535512924194336,-20.81598472595215,-19.375696182250977,-20.000381469726562,-20.488651275634766,-20.415889739990234,-21.46560287475586,-20.8131103515625,-21.090595245361328,-22.79844093322754,-24.703977584838867,-21.780094146728516,-25.755876541137695,-25.304182052612305,-27.35732078552246,-33.173370361328125,-32.902164459228516,-31.04125213623047,-33.96050262451172,-22.846817016601562,-22.168045043945312,-12.576305389404297,-13.040424346923828,-10.370484352111816,-2.584066867828369,-0.004250539932399988,-1.9711776971817017,-0.07154404371976852,-4.756028175354004,-0.3089051842689514,-0.5075677633285522,-0.00011467275908216834,-0.08385077118873596,-2.7179348762729205e-05,-0.00012694983161054552,-1.7881377516459906e-06,0.0,0.0,0.0,0.0,0.0,0.0,0.0,0.0,0.0,0.0,0.0],\"yaxis\":\"y\",\"type\":\"scatter\"},{\"hovertemplate\":\"Model=IFT_10\\u003cbr\\u003eLayer=%{x}\\u003cbr\\u003eneg_logprob=%{y}\\u003cextra\\u003e\\u003c\\u002fextra\\u003e\",\"legendgroup\":\"IFT_10\",\"line\":{\"color\":\"#00cc96\",\"dash\":\"solid\"},\"marker\":{\"symbol\":\"circle\"},\"mode\":\"lines\",\"name\":\"IFT_10\",\"orientation\":\"v\",\"showlegend\":true,\"x\":[\"0_mid\",\"0_post\",\"1_mid\",\"1_post\",\"2_mid\",\"2_post\",\"3_mid\",\"3_post\",\"4_mid\",\"4_post\",\"5_mid\",\"5_post\",\"6_mid\",\"6_post\",\"7_mid\",\"7_post\",\"8_mid\",\"8_post\",\"9_mid\",\"9_post\",\"10_mid\",\"10_post\",\"11_mid\",\"11_post\",\"12_mid\",\"12_post\",\"13_mid\",\"13_post\",\"14_mid\",\"14_post\",\"15_mid\",\"15_post\",\"16_mid\",\"16_post\",\"17_mid\",\"17_post\",\"18_mid\",\"18_post\",\"19_mid\",\"19_post\",\"20_mid\",\"20_post\",\"21_mid\",\"21_post\",\"22_mid\",\"22_post\",\"23_mid\",\"23_post\"],\"xaxis\":\"x\",\"y\":[-11.429031372070312,-7.67364501953125,-4.615306854248047,-2.547898530960083,-2.296607255935669,-3.004403591156006,-2.7682580947875977,-3.652092456817627,-4.006368637084961,-4.716010093688965,-6.177613258361816,-11.887940406799316,-10.50837516784668,-10.789915084838867,-13.898496627807617,-9.377716064453125,-12.286831855773926,-12.33813190460205,-10.764400482177734,-16.52345848083496,-9.900666236877441,-10.989294052124023,-12.531606674194336,-17.089256286621094,-10.884462356567383,-12.3722562789917,-12.06765365600586,-12.962774276733398,-14.268919944763184,-11.474052429199219,-15.14220142364502,-9.472960472106934,-14.164403915405273,-35.96623229980469,-33.83646011352539,-56.94819259643555,-58.1872444152832,-61.82115173339844,-68.55354309082031,-65.54141235351562,-64.54424285888672,-80.02200317382812,-80.57582092285156,-77.58242797851562,-73.79934692382812,-74.1221694946289,-79.61328887939453,-75.78997802734375],\"yaxis\":\"y\",\"type\":\"scatter\"},{\"hovertemplate\":\"Model=GPT2_10\\u003cbr\\u003eLayer=%{x}\\u003cbr\\u003eneg_logprob=%{y}\\u003cextra\\u003e\\u003c\\u002fextra\\u003e\",\"legendgroup\":\"GPT2_10\",\"line\":{\"color\":\"#ab63fa\",\"dash\":\"solid\"},\"marker\":{\"symbol\":\"circle\"},\"mode\":\"lines\",\"name\":\"GPT2_10\",\"orientation\":\"v\",\"showlegend\":true,\"x\":[\"0_mid\",\"0_post\",\"1_mid\",\"1_post\",\"2_mid\",\"2_post\",\"3_mid\",\"3_post\",\"4_mid\",\"4_post\",\"5_mid\",\"5_post\",\"6_mid\",\"6_post\",\"7_mid\",\"7_post\",\"8_mid\",\"8_post\",\"9_mid\",\"9_post\",\"10_mid\",\"10_post\",\"11_mid\",\"11_post\",\"12_mid\",\"12_post\",\"13_mid\",\"13_post\",\"14_mid\",\"14_post\",\"15_mid\",\"15_post\",\"16_mid\",\"16_post\",\"17_mid\",\"17_post\",\"18_mid\",\"18_post\",\"19_mid\",\"19_post\",\"20_mid\",\"20_post\",\"21_mid\",\"21_post\",\"22_mid\",\"22_post\",\"23_mid\",\"23_post\"],\"xaxis\":\"x\",\"y\":[-11.37006664276123,-8.412881851196289,-5.869466781616211,-2.4066338539123535,-2.136353015899658,-2.717270851135254,-3.0880367755889893,-4.919084548950195,-5.441490173339844,-7.345573425292969,-8.894649505615234,-14.176473617553711,-15.902179718017578,-15.855737686157227,-19.607038497924805,-19.08173179626465,-25.593799591064453,-25.398801803588867,-25.912841796875,-29.48583984375,-26.5758056640625,-25.464309692382812,-27.231456756591797,-31.314685821533203,-27.250930786132812,-23.085355758666992,-28.424814224243164,-31.89549446105957,-32.86216354370117,-28.672943115234375,-30.4425106048584,-27.606094360351562,-33.613685607910156,-35.53401565551758,-43.65363693237305,-46.17641067504883,-50.36260986328125,-55.7554931640625,-71.17277526855469,-66.58721923828125,-95.11361694335938,-93.88421630859375,-115.21420288085938,-114.43698120117188,-119.61456298828125,-112.0828857421875,-118.27798461914062,-114.126220703125],\"yaxis\":\"y\",\"type\":\"scatter\"},{\"hovertemplate\":\"Model=IFT_100\\u003cbr\\u003eLayer=%{x}\\u003cbr\\u003eneg_logprob=%{y}\\u003cextra\\u003e\\u003c\\u002fextra\\u003e\",\"legendgroup\":\"IFT_100\",\"line\":{\"color\":\"#FFA15A\",\"dash\":\"solid\"},\"marker\":{\"symbol\":\"circle\"},\"mode\":\"lines\",\"name\":\"IFT_100\",\"orientation\":\"v\",\"showlegend\":true,\"x\":[\"0_mid\",\"0_post\",\"1_mid\",\"1_post\",\"2_mid\",\"2_post\",\"3_mid\",\"3_post\",\"4_mid\",\"4_post\",\"5_mid\",\"5_post\",\"6_mid\",\"6_post\",\"7_mid\",\"7_post\",\"8_mid\",\"8_post\",\"9_mid\",\"9_post\",\"10_mid\",\"10_post\",\"11_mid\",\"11_post\",\"12_mid\",\"12_post\",\"13_mid\",\"13_post\",\"14_mid\",\"14_post\",\"15_mid\",\"15_post\",\"16_mid\",\"16_post\",\"17_mid\",\"17_post\",\"18_mid\",\"18_post\",\"19_mid\",\"19_post\",\"20_mid\",\"20_post\",\"21_mid\",\"21_post\",\"22_mid\",\"22_post\",\"23_mid\",\"23_post\",\"0_mid\",\"0_post\",\"1_mid\",\"1_post\",\"2_mid\",\"2_post\",\"3_mid\",\"3_post\",\"4_mid\",\"4_post\",\"5_mid\",\"5_post\",\"6_mid\",\"6_post\",\"7_mid\",\"7_post\",\"8_mid\",\"8_post\",\"9_mid\",\"9_post\",\"10_mid\",\"10_post\",\"11_mid\",\"11_post\",\"12_mid\",\"12_post\",\"13_mid\",\"13_post\",\"14_mid\",\"14_post\",\"15_mid\",\"15_post\",\"16_mid\",\"16_post\",\"17_mid\",\"17_post\",\"18_mid\",\"18_post\",\"19_mid\",\"19_post\",\"20_mid\",\"20_post\",\"21_mid\",\"21_post\",\"22_mid\",\"22_post\",\"23_mid\",\"23_post\"],\"xaxis\":\"x\",\"y\":[-11.6486177444458,-19.37213897705078,-19.351091384887695,-22.9437255859375,-23.597335815429688,-23.893356323242188,-24.72276496887207,-23.32534408569336,-25.040172576904297,-25.44121742248535,-26.693450927734375,-28.6628475189209,-25.91126823425293,-26.383975982666016,-27.38285255432129,-26.689109802246094,-34.33195114135742,-33.341522216796875,-37.36079788208008,-39.665252685546875,-35.42015838623047,-36.99273681640625,-39.5826301574707,-37.73794174194336,-41.75632095336914,-35.16427230834961,-35.16813278198242,-31.369489669799805,-31.773910522460938,-32.93092346191406,-37.93064498901367,-51.761749267578125,-59.16004943847656,-60.772613525390625,-64.86746978759766,-75.31672668457031,-79.88187408447266,-79.89250183105469,-90.13937377929688,-90.30654907226562,-88.76969146728516,-96.8680419921875,-102.14434814453125,-120.913330078125,-130.7412109375,-139.83448791503906,-157.79672241210938,-165.225830078125,-11.6486177444458,-19.37213897705078,-19.351091384887695,-22.9437255859375,-23.597335815429688,-23.893356323242188,-24.72276496887207,-23.32534408569336,-25.040172576904297,-25.44121742248535,-26.693450927734375,-28.6628475189209,-25.91126823425293,-26.383975982666016,-27.38285255432129,-26.689109802246094,-34.33195114135742,-33.341522216796875,-37.36079788208008,-39.665252685546875,-35.42015838623047,-36.99273681640625,-39.5826301574707,-37.73794174194336,-41.75632095336914,-35.16427230834961,-35.16813278198242,-31.369489669799805,-31.773910522460938,-32.93092346191406,-37.93064498901367,-51.761749267578125,-59.16004943847656,-60.772613525390625,-64.86746978759766,-75.31672668457031,-79.88187408447266,-79.89250183105469,-90.13937377929688,-90.30654907226562,-88.76969146728516,-96.8680419921875,-102.14434814453125,-120.913330078125,-130.7412109375,-139.83448791503906,-157.79672241210938,-165.225830078125],\"yaxis\":\"y\",\"type\":\"scatter\"},{\"hovertemplate\":\"Model=GPT2_100\\u003cbr\\u003eLayer=%{x}\\u003cbr\\u003eneg_logprob=%{y}\\u003cextra\\u003e\\u003c\\u002fextra\\u003e\",\"legendgroup\":\"GPT2_100\",\"line\":{\"color\":\"#19d3f3\",\"dash\":\"solid\"},\"marker\":{\"symbol\":\"circle\"},\"mode\":\"lines\",\"name\":\"GPT2_100\",\"orientation\":\"v\",\"showlegend\":true,\"x\":[\"0_mid\",\"0_post\",\"1_mid\",\"1_post\",\"2_mid\",\"2_post\",\"3_mid\",\"3_post\",\"4_mid\",\"4_post\",\"5_mid\",\"5_post\",\"6_mid\",\"6_post\",\"7_mid\",\"7_post\",\"8_mid\",\"8_post\",\"9_mid\",\"9_post\",\"10_mid\",\"10_post\",\"11_mid\",\"11_post\",\"12_mid\",\"12_post\",\"13_mid\",\"13_post\",\"14_mid\",\"14_post\",\"15_mid\",\"15_post\",\"16_mid\",\"16_post\",\"17_mid\",\"17_post\",\"18_mid\",\"18_post\",\"19_mid\",\"19_post\",\"20_mid\",\"20_post\",\"21_mid\",\"21_post\",\"22_mid\",\"22_post\",\"23_mid\",\"23_post\",\"0_mid\",\"0_post\",\"1_mid\",\"1_post\",\"2_mid\",\"2_post\",\"3_mid\",\"3_post\",\"4_mid\",\"4_post\",\"5_mid\",\"5_post\",\"6_mid\",\"6_post\",\"7_mid\",\"7_post\",\"8_mid\",\"8_post\",\"9_mid\",\"9_post\",\"10_mid\",\"10_post\",\"11_mid\",\"11_post\",\"12_mid\",\"12_post\",\"13_mid\",\"13_post\",\"14_mid\",\"14_post\",\"15_mid\",\"15_post\",\"16_mid\",\"16_post\",\"17_mid\",\"17_post\",\"18_mid\",\"18_post\",\"19_mid\",\"19_post\",\"20_mid\",\"20_post\",\"21_mid\",\"21_post\",\"22_mid\",\"22_post\",\"23_mid\",\"23_post\"],\"xaxis\":\"x\",\"y\":[-11.680054664611816,-21.570510864257812,-21.18726921081543,-23.86788558959961,-24.585529327392578,-25.083797454833984,-26.05817413330078,-27.06447410583496,-27.671770095825195,-29.07253074645996,-31.306936264038086,-33.954132080078125,-32.8709602355957,-35.152584075927734,-36.820777893066406,-37.500831604003906,-44.41166687011719,-44.21342086791992,-48.19295120239258,-51.314945220947266,-48.764923095703125,-47.14488983154297,-49.70344161987305,-50.04854202270508,-52.40631103515625,-44.74254608154297,-53.625465393066406,-50.514251708984375,-53.48836898803711,-54.54652404785156,-61.326568603515625,-63.19956970214844,-79.49486541748047,-74.58084106445312,-85.89268493652344,-81.26416778564453,-92.77598571777344,-95.56979370117188,-121.37994384765625,-119.70030212402344,-152.47268676757812,-153.30010986328125,-183.7389373779297,-197.2955322265625,-207.2469482421875,-199.90972900390625,-212.77993774414062,-200.80453491210938,-11.680054664611816,-21.570510864257812,-21.18726921081543,-23.86788558959961,-24.585529327392578,-25.083797454833984,-26.05817413330078,-27.06447410583496,-27.671770095825195,-29.07253074645996,-31.306936264038086,-33.954132080078125,-32.8709602355957,-35.152584075927734,-36.820777893066406,-37.500831604003906,-44.41166687011719,-44.21342086791992,-48.19295120239258,-51.314945220947266,-48.764923095703125,-47.14488983154297,-49.70344161987305,-50.04854202270508,-52.40631103515625,-44.74254608154297,-53.625465393066406,-50.514251708984375,-53.48836898803711,-54.54652404785156,-61.326568603515625,-63.19956970214844,-79.49486541748047,-74.58084106445312,-85.89268493652344,-81.26416778564453,-92.77598571777344,-95.56979370117188,-121.37994384765625,-119.70030212402344,-152.47268676757812,-153.30010986328125,-183.7389373779297,-197.2955322265625,-207.2469482421875,-199.90972900390625,-212.77993774414062,-200.80453491210938],\"yaxis\":\"y\",\"type\":\"scatter\"},{\"hovertemplate\":\"Model=IFT_10000\\u003cbr\\u003eLayer=%{x}\\u003cbr\\u003eneg_logprob=%{y}\\u003cextra\\u003e\\u003c\\u002fextra\\u003e\",\"legendgroup\":\"IFT_10000\",\"line\":{\"color\":\"#FF6692\",\"dash\":\"solid\"},\"marker\":{\"symbol\":\"circle\"},\"mode\":\"lines\",\"name\":\"IFT_10000\",\"orientation\":\"v\",\"showlegend\":true,\"x\":[\"0_mid\",\"0_post\",\"1_mid\",\"1_post\",\"2_mid\",\"2_post\",\"3_mid\",\"3_post\",\"4_mid\",\"4_post\",\"5_mid\",\"5_post\",\"6_mid\",\"6_post\",\"7_mid\",\"7_post\",\"8_mid\",\"8_post\",\"9_mid\",\"9_post\",\"10_mid\",\"10_post\",\"11_mid\",\"11_post\",\"12_mid\",\"12_post\",\"13_mid\",\"13_post\",\"14_mid\",\"14_post\",\"15_mid\",\"15_post\",\"16_mid\",\"16_post\",\"17_mid\",\"17_post\",\"18_mid\",\"18_post\",\"19_mid\",\"19_post\",\"20_mid\",\"20_post\",\"21_mid\",\"21_post\",\"22_mid\",\"22_post\",\"23_mid\",\"23_post\"],\"xaxis\":\"x\",\"y\":[-12.330982208251953,-38.92879867553711,-39.404972076416016,-44.03681182861328,-40.01618576049805,-42.391212463378906,-42.62651824951172,-42.592586517333984,-44.94923400878906,-47.06606674194336,-52.84239196777344,-52.168556213378906,-55.69285583496094,-57.601070404052734,-56.4932861328125,-59.575286865234375,-76.75414276123047,-72.9406509399414,-83.86051940917969,-85.28136444091797,-85.46286010742188,-88.24750518798828,-93.53636169433594,-95.96356964111328,-96.70648956298828,-102.59447479248047,-103.71232604980469,-106.9435806274414,-109.9732437133789,-124.0455093383789,-122.38839721679688,-135.7402801513672,-146.73121643066406,-157.96963500976562,-159.2746124267578,-178.78207397460938,-181.69741821289062,-210.20068359375,-218.30859375,-225.822998046875,-226.26087951660156,-217.41845703125,-220.6861114501953,-256.8755798339844,-254.3676300048828,-254.75997924804688,-260.0667419433594,-258.4783935546875],\"yaxis\":\"y\",\"type\":\"scatter\"},{\"hovertemplate\":\"Model=GPT2_10000\\u003cbr\\u003eLayer=%{x}\\u003cbr\\u003eneg_logprob=%{y}\\u003cextra\\u003e\\u003c\\u002fextra\\u003e\",\"legendgroup\":\"GPT2_10000\",\"line\":{\"color\":\"#B6E880\",\"dash\":\"solid\"},\"marker\":{\"symbol\":\"circle\"},\"mode\":\"lines\",\"name\":\"GPT2_10000\",\"orientation\":\"v\",\"showlegend\":true,\"x\":[\"0_mid\",\"0_post\",\"1_mid\",\"1_post\",\"2_mid\",\"2_post\",\"3_mid\",\"3_post\",\"4_mid\",\"4_post\",\"5_mid\",\"5_post\",\"6_mid\",\"6_post\",\"7_mid\",\"7_post\",\"8_mid\",\"8_post\",\"9_mid\",\"9_post\",\"10_mid\",\"10_post\",\"11_mid\",\"11_post\",\"12_mid\",\"12_post\",\"13_mid\",\"13_post\",\"14_mid\",\"14_post\",\"15_mid\",\"15_post\",\"16_mid\",\"16_post\",\"17_mid\",\"17_post\",\"18_mid\",\"18_post\",\"19_mid\",\"19_post\",\"20_mid\",\"20_post\",\"21_mid\",\"21_post\",\"22_mid\",\"22_post\",\"23_mid\",\"23_post\"],\"xaxis\":\"x\",\"y\":[-12.317166328430176,-39.97886657714844,-39.129005432128906,-43.3690071105957,-39.097530364990234,-44.02851486206055,-44.23820877075195,-47.500755310058594,-49.102439880371094,-51.03129959106445,-56.21378707885742,-58.373268127441406,-66.56827545166016,-71.14048767089844,-72.29829406738281,-77.4277572631836,-93.9083480834961,-88.18164825439453,-99.97262573242188,-104.1493911743164,-105.35030364990234,-108.824951171875,-115.38314819335938,-124.66791534423828,-129.2545928955078,-133.4805908203125,-142.4852752685547,-150.53285217285156,-153.9997100830078,-167.08543395996094,-171.510498046875,-182.11508178710938,-201.94326782226562,-215.00038146972656,-227.31594848632812,-243.24392700195312,-250.87049865722656,-286.8725280761719,-315.984375,-343.07891845703125,-373.6607666015625,-373.7509765625,-404.54107666015625,-437.7629699707031,-442.05364990234375,-450.0708312988281,-459.2117614746094,-453.9939270019531],\"yaxis\":\"y\",\"type\":\"scatter\"}],                        {\"template\":{\"data\":{\"histogram2dcontour\":[{\"type\":\"histogram2dcontour\",\"colorbar\":{\"outlinewidth\":0,\"ticks\":\"\"},\"colorscale\":[[0.0,\"#0d0887\"],[0.1111111111111111,\"#46039f\"],[0.2222222222222222,\"#7201a8\"],[0.3333333333333333,\"#9c179e\"],[0.4444444444444444,\"#bd3786\"],[0.5555555555555556,\"#d8576b\"],[0.6666666666666666,\"#ed7953\"],[0.7777777777777778,\"#fb9f3a\"],[0.8888888888888888,\"#fdca26\"],[1.0,\"#f0f921\"]]}],\"choropleth\":[{\"type\":\"choropleth\",\"colorbar\":{\"outlinewidth\":0,\"ticks\":\"\"}}],\"histogram2d\":[{\"type\":\"histogram2d\",\"colorbar\":{\"outlinewidth\":0,\"ticks\":\"\"},\"colorscale\":[[0.0,\"#0d0887\"],[0.1111111111111111,\"#46039f\"],[0.2222222222222222,\"#7201a8\"],[0.3333333333333333,\"#9c179e\"],[0.4444444444444444,\"#bd3786\"],[0.5555555555555556,\"#d8576b\"],[0.6666666666666666,\"#ed7953\"],[0.7777777777777778,\"#fb9f3a\"],[0.8888888888888888,\"#fdca26\"],[1.0,\"#f0f921\"]]}],\"heatmap\":[{\"type\":\"heatmap\",\"colorbar\":{\"outlinewidth\":0,\"ticks\":\"\"},\"colorscale\":[[0.0,\"#0d0887\"],[0.1111111111111111,\"#46039f\"],[0.2222222222222222,\"#7201a8\"],[0.3333333333333333,\"#9c179e\"],[0.4444444444444444,\"#bd3786\"],[0.5555555555555556,\"#d8576b\"],[0.6666666666666666,\"#ed7953\"],[0.7777777777777778,\"#fb9f3a\"],[0.8888888888888888,\"#fdca26\"],[1.0,\"#f0f921\"]]}],\"heatmapgl\":[{\"type\":\"heatmapgl\",\"colorbar\":{\"outlinewidth\":0,\"ticks\":\"\"},\"colorscale\":[[0.0,\"#0d0887\"],[0.1111111111111111,\"#46039f\"],[0.2222222222222222,\"#7201a8\"],[0.3333333333333333,\"#9c179e\"],[0.4444444444444444,\"#bd3786\"],[0.5555555555555556,\"#d8576b\"],[0.6666666666666666,\"#ed7953\"],[0.7777777777777778,\"#fb9f3a\"],[0.8888888888888888,\"#fdca26\"],[1.0,\"#f0f921\"]]}],\"contourcarpet\":[{\"type\":\"contourcarpet\",\"colorbar\":{\"outlinewidth\":0,\"ticks\":\"\"}}],\"contour\":[{\"type\":\"contour\",\"colorbar\":{\"outlinewidth\":0,\"ticks\":\"\"},\"colorscale\":[[0.0,\"#0d0887\"],[0.1111111111111111,\"#46039f\"],[0.2222222222222222,\"#7201a8\"],[0.3333333333333333,\"#9c179e\"],[0.4444444444444444,\"#bd3786\"],[0.5555555555555556,\"#d8576b\"],[0.6666666666666666,\"#ed7953\"],[0.7777777777777778,\"#fb9f3a\"],[0.8888888888888888,\"#fdca26\"],[1.0,\"#f0f921\"]]}],\"surface\":[{\"type\":\"surface\",\"colorbar\":{\"outlinewidth\":0,\"ticks\":\"\"},\"colorscale\":[[0.0,\"#0d0887\"],[0.1111111111111111,\"#46039f\"],[0.2222222222222222,\"#7201a8\"],[0.3333333333333333,\"#9c179e\"],[0.4444444444444444,\"#bd3786\"],[0.5555555555555556,\"#d8576b\"],[0.6666666666666666,\"#ed7953\"],[0.7777777777777778,\"#fb9f3a\"],[0.8888888888888888,\"#fdca26\"],[1.0,\"#f0f921\"]]}],\"mesh3d\":[{\"type\":\"mesh3d\",\"colorbar\":{\"outlinewidth\":0,\"ticks\":\"\"}}],\"scatter\":[{\"fillpattern\":{\"fillmode\":\"overlay\",\"size\":10,\"solidity\":0.2},\"type\":\"scatter\"}],\"parcoords\":[{\"type\":\"parcoords\",\"line\":{\"colorbar\":{\"outlinewidth\":0,\"ticks\":\"\"}}}],\"scatterpolargl\":[{\"type\":\"scatterpolargl\",\"marker\":{\"colorbar\":{\"outlinewidth\":0,\"ticks\":\"\"}}}],\"bar\":[{\"error_x\":{\"color\":\"#2a3f5f\"},\"error_y\":{\"color\":\"#2a3f5f\"},\"marker\":{\"line\":{\"color\":\"#E5ECF6\",\"width\":0.5},\"pattern\":{\"fillmode\":\"overlay\",\"size\":10,\"solidity\":0.2}},\"type\":\"bar\"}],\"scattergeo\":[{\"type\":\"scattergeo\",\"marker\":{\"colorbar\":{\"outlinewidth\":0,\"ticks\":\"\"}}}],\"scatterpolar\":[{\"type\":\"scatterpolar\",\"marker\":{\"colorbar\":{\"outlinewidth\":0,\"ticks\":\"\"}}}],\"histogram\":[{\"marker\":{\"pattern\":{\"fillmode\":\"overlay\",\"size\":10,\"solidity\":0.2}},\"type\":\"histogram\"}],\"scattergl\":[{\"type\":\"scattergl\",\"marker\":{\"colorbar\":{\"outlinewidth\":0,\"ticks\":\"\"}}}],\"scatter3d\":[{\"type\":\"scatter3d\",\"line\":{\"colorbar\":{\"outlinewidth\":0,\"ticks\":\"\"}},\"marker\":{\"colorbar\":{\"outlinewidth\":0,\"ticks\":\"\"}}}],\"scattermapbox\":[{\"type\":\"scattermapbox\",\"marker\":{\"colorbar\":{\"outlinewidth\":0,\"ticks\":\"\"}}}],\"scatterternary\":[{\"type\":\"scatterternary\",\"marker\":{\"colorbar\":{\"outlinewidth\":0,\"ticks\":\"\"}}}],\"scattercarpet\":[{\"type\":\"scattercarpet\",\"marker\":{\"colorbar\":{\"outlinewidth\":0,\"ticks\":\"\"}}}],\"carpet\":[{\"aaxis\":{\"endlinecolor\":\"#2a3f5f\",\"gridcolor\":\"white\",\"linecolor\":\"white\",\"minorgridcolor\":\"white\",\"startlinecolor\":\"#2a3f5f\"},\"baxis\":{\"endlinecolor\":\"#2a3f5f\",\"gridcolor\":\"white\",\"linecolor\":\"white\",\"minorgridcolor\":\"white\",\"startlinecolor\":\"#2a3f5f\"},\"type\":\"carpet\"}],\"table\":[{\"cells\":{\"fill\":{\"color\":\"#EBF0F8\"},\"line\":{\"color\":\"white\"}},\"header\":{\"fill\":{\"color\":\"#C8D4E3\"},\"line\":{\"color\":\"white\"}},\"type\":\"table\"}],\"barpolar\":[{\"marker\":{\"line\":{\"color\":\"#E5ECF6\",\"width\":0.5},\"pattern\":{\"fillmode\":\"overlay\",\"size\":10,\"solidity\":0.2}},\"type\":\"barpolar\"}],\"pie\":[{\"automargin\":true,\"type\":\"pie\"}]},\"layout\":{\"autotypenumbers\":\"strict\",\"colorway\":[\"#636efa\",\"#EF553B\",\"#00cc96\",\"#ab63fa\",\"#FFA15A\",\"#19d3f3\",\"#FF6692\",\"#B6E880\",\"#FF97FF\",\"#FECB52\"],\"font\":{\"color\":\"#2a3f5f\"},\"hovermode\":\"closest\",\"hoverlabel\":{\"align\":\"left\"},\"paper_bgcolor\":\"white\",\"plot_bgcolor\":\"#E5ECF6\",\"polar\":{\"bgcolor\":\"#E5ECF6\",\"angularaxis\":{\"gridcolor\":\"white\",\"linecolor\":\"white\",\"ticks\":\"\"},\"radialaxis\":{\"gridcolor\":\"white\",\"linecolor\":\"white\",\"ticks\":\"\"}},\"ternary\":{\"bgcolor\":\"#E5ECF6\",\"aaxis\":{\"gridcolor\":\"white\",\"linecolor\":\"white\",\"ticks\":\"\"},\"baxis\":{\"gridcolor\":\"white\",\"linecolor\":\"white\",\"ticks\":\"\"},\"caxis\":{\"gridcolor\":\"white\",\"linecolor\":\"white\",\"ticks\":\"\"}},\"coloraxis\":{\"colorbar\":{\"outlinewidth\":0,\"ticks\":\"\"}},\"colorscale\":{\"sequential\":[[0.0,\"#0d0887\"],[0.1111111111111111,\"#46039f\"],[0.2222222222222222,\"#7201a8\"],[0.3333333333333333,\"#9c179e\"],[0.4444444444444444,\"#bd3786\"],[0.5555555555555556,\"#d8576b\"],[0.6666666666666666,\"#ed7953\"],[0.7777777777777778,\"#fb9f3a\"],[0.8888888888888888,\"#fdca26\"],[1.0,\"#f0f921\"]],\"sequentialminus\":[[0.0,\"#0d0887\"],[0.1111111111111111,\"#46039f\"],[0.2222222222222222,\"#7201a8\"],[0.3333333333333333,\"#9c179e\"],[0.4444444444444444,\"#bd3786\"],[0.5555555555555556,\"#d8576b\"],[0.6666666666666666,\"#ed7953\"],[0.7777777777777778,\"#fb9f3a\"],[0.8888888888888888,\"#fdca26\"],[1.0,\"#f0f921\"]],\"diverging\":[[0,\"#8e0152\"],[0.1,\"#c51b7d\"],[0.2,\"#de77ae\"],[0.3,\"#f1b6da\"],[0.4,\"#fde0ef\"],[0.5,\"#f7f7f7\"],[0.6,\"#e6f5d0\"],[0.7,\"#b8e186\"],[0.8,\"#7fbc41\"],[0.9,\"#4d9221\"],[1,\"#276419\"]]},\"xaxis\":{\"gridcolor\":\"white\",\"linecolor\":\"white\",\"ticks\":\"\",\"title\":{\"standoff\":15},\"zerolinecolor\":\"white\",\"automargin\":true,\"zerolinewidth\":2},\"yaxis\":{\"gridcolor\":\"white\",\"linecolor\":\"white\",\"ticks\":\"\",\"title\":{\"standoff\":15},\"zerolinecolor\":\"white\",\"automargin\":true,\"zerolinewidth\":2},\"scene\":{\"xaxis\":{\"backgroundcolor\":\"#E5ECF6\",\"gridcolor\":\"white\",\"linecolor\":\"white\",\"showbackground\":true,\"ticks\":\"\",\"zerolinecolor\":\"white\",\"gridwidth\":2},\"yaxis\":{\"backgroundcolor\":\"#E5ECF6\",\"gridcolor\":\"white\",\"linecolor\":\"white\",\"showbackground\":true,\"ticks\":\"\",\"zerolinecolor\":\"white\",\"gridwidth\":2},\"zaxis\":{\"backgroundcolor\":\"#E5ECF6\",\"gridcolor\":\"white\",\"linecolor\":\"white\",\"showbackground\":true,\"ticks\":\"\",\"zerolinecolor\":\"white\",\"gridwidth\":2}},\"shapedefaults\":{\"line\":{\"color\":\"#2a3f5f\"}},\"annotationdefaults\":{\"arrowcolor\":\"#2a3f5f\",\"arrowhead\":0,\"arrowwidth\":1},\"geo\":{\"bgcolor\":\"white\",\"landcolor\":\"#E5ECF6\",\"subunitcolor\":\"white\",\"showland\":true,\"showlakes\":true,\"lakecolor\":\"white\"},\"title\":{\"x\":0.05},\"mapbox\":{\"style\":\"light\"}}},\"xaxis\":{\"anchor\":\"y\",\"domain\":[0.0,1.0],\"title\":{\"text\":\"Layer\"}},\"yaxis\":{\"anchor\":\"x\",\"domain\":[0.0,1.0],\"title\":{\"text\":\"neg_logprob\"}},\"legend\":{\"title\":{\"text\":\"Model\"},\"tracegroupgap\":0},\"margin\":{\"t\":60}},                        {\"responsive\": true}                    ).then(function(){\n",
       "                            \n",
       "var gd = document.getElementById('2bc812e1-6290-4593-9e54-3a2ac7d561f8');\n",
       "var x = new MutationObserver(function (mutations, observer) {{\n",
       "        var display = window.getComputedStyle(gd).display;\n",
       "        if (!display || display === 'none') {{\n",
       "            console.log([gd, 'removed!']);\n",
       "            Plotly.purge(gd);\n",
       "            observer.disconnect();\n",
       "        }}\n",
       "}});\n",
       "\n",
       "// Listen for the removal of the full notebook cells\n",
       "var notebookContainer = gd.closest('#notebook-container');\n",
       "if (notebookContainer) {{\n",
       "    x.observe(notebookContainer, {childList: true});\n",
       "}}\n",
       "\n",
       "// Listen for the clearing of the current output cell\n",
       "var outputEl = gd.closest('.output');\n",
       "if (outputEl) {{\n",
       "    x.observe(outputEl, {childList: true});\n",
       "}}\n",
       "\n",
       "                        })                };                });            </script>        </div>"
      ]
     },
     "metadata": {},
     "output_type": "display_data"
    },
    {
     "name": "stdout",
     "output_type": "stream",
     "text": [
      "zzzzzzzzzzzzzzzzzzzzzzzzzzzzzzzzzzzzzzzzzzzzzzzzzzzz\n",
      "Neg tok: 6040\n",
      "Tok id: 284\n"
     ]
    },
    {
     "data": {
      "application/vnd.plotly.v1+json": {
       "config": {
        "plotlyServerURL": "https://plot.ly"
       },
       "data": [
        {
         "hovertemplate": "Model=IFT<br>Layer=%{x}<br>neg_logprob=%{y}<extra></extra>",
         "legendgroup": "IFT",
         "line": {
          "color": "#636efa",
          "dash": "solid"
         },
         "marker": {
          "symbol": "circle"
         },
         "mode": "lines",
         "name": "IFT",
         "orientation": "v",
         "showlegend": true,
         "type": "scatter",
         "x": [
          "0_mid",
          "0_post",
          "1_mid",
          "1_post",
          "2_mid",
          "2_post",
          "3_mid",
          "3_post",
          "4_mid",
          "4_post",
          "5_mid",
          "5_post",
          "6_mid",
          "6_post",
          "7_mid",
          "7_post",
          "8_mid",
          "8_post",
          "9_mid",
          "9_post",
          "10_mid",
          "10_post",
          "11_mid",
          "11_post",
          "12_mid",
          "12_post",
          "13_mid",
          "13_post",
          "14_mid",
          "14_post",
          "15_mid",
          "15_post",
          "16_mid",
          "16_post",
          "17_mid",
          "17_post",
          "18_mid",
          "18_post",
          "19_mid",
          "19_post",
          "20_mid",
          "20_post",
          "21_mid",
          "21_post",
          "22_mid",
          "22_post",
          "23_mid",
          "23_post"
         ],
         "xaxis": "x",
         "y": [
          -12.779389381408691,
          -10.419245719909668,
          -11.971735000610352,
          -9.831866264343262,
          -13.805706977844238,
          -4.916987419128418,
          -5.504084587097168,
          -5.95362663269043,
          -5.540719509124756,
          -3.718170642852783,
          -2.9165444374084473,
          -4.226057529449463,
          -4.524083614349365,
          -2.1630797386169434,
          -2.464217185974121,
          -2.966668128967285,
          -8.095369338989258,
          -1.5136809349060059,
          -1.584956169128418,
          -7.851123809814453,
          -11.248275756835938,
          -1.4220876693725586,
          -0.3112455904483795,
          -0.01789109595119953,
          -0.23572957515716553,
          0,
          0,
          0,
          0,
          0,
          0,
          0,
          0,
          0,
          0,
          0,
          0,
          0,
          0,
          0,
          0,
          0,
          0,
          0,
          0,
          0,
          0,
          0
         ],
         "yaxis": "y"
        },
        {
         "hovertemplate": "Model=GPT2<br>Layer=%{x}<br>neg_logprob=%{y}<extra></extra>",
         "legendgroup": "GPT2",
         "line": {
          "color": "#EF553B",
          "dash": "solid"
         },
         "marker": {
          "symbol": "circle"
         },
         "mode": "lines",
         "name": "GPT2",
         "orientation": "v",
         "showlegend": true,
         "type": "scatter",
         "x": [
          "0_mid",
          "0_post",
          "1_mid",
          "1_post",
          "2_mid",
          "2_post",
          "3_mid",
          "3_post",
          "4_mid",
          "4_post",
          "5_mid",
          "5_post",
          "6_mid",
          "6_post",
          "7_mid",
          "7_post",
          "8_mid",
          "8_post",
          "9_mid",
          "9_post",
          "10_mid",
          "10_post",
          "11_mid",
          "11_post",
          "12_mid",
          "12_post",
          "13_mid",
          "13_post",
          "14_mid",
          "14_post",
          "15_mid",
          "15_post",
          "16_mid",
          "16_post",
          "17_mid",
          "17_post",
          "18_mid",
          "18_post",
          "19_mid",
          "19_post",
          "20_mid",
          "20_post",
          "21_mid",
          "21_post",
          "22_mid",
          "22_post",
          "23_mid",
          "23_post"
         ],
         "xaxis": "x",
         "y": [
          -12.716227531433105,
          -12.09395694732666,
          -11.752796173095703,
          -10.606587409973145,
          -11.538033485412598,
          -5.504166126251221,
          -6.494617462158203,
          -6.802651882171631,
          -6.282186508178711,
          -5.3391923904418945,
          -4.024789810180664,
          -3.16133189201355,
          -4.114562511444092,
          -1.3863232135772705,
          -0.23718436062335968,
          -1.6417367458343506,
          -2.537203073501587,
          -0.1390599012374878,
          -0.08010788261890411,
          -2.476139783859253,
          -0.8643947243690491,
          -0.8157452940940857,
          -0.004176110029220581,
          -3.909988299710676e-05,
          -4.768370445162873e-07,
          0,
          0,
          0,
          0,
          0,
          0,
          0,
          0,
          0,
          0,
          0,
          0,
          0,
          0,
          0,
          0,
          0,
          0,
          0,
          0,
          0,
          0,
          0
         ],
         "yaxis": "y"
        },
        {
         "hovertemplate": "Model=IFT_10<br>Layer=%{x}<br>neg_logprob=%{y}<extra></extra>",
         "legendgroup": "IFT_10",
         "line": {
          "color": "#00cc96",
          "dash": "solid"
         },
         "marker": {
          "symbol": "circle"
         },
         "mode": "lines",
         "name": "IFT_10",
         "orientation": "v",
         "showlegend": true,
         "type": "scatter",
         "x": [
          "0_mid",
          "0_post",
          "1_mid",
          "1_post",
          "2_mid",
          "2_post",
          "3_mid",
          "3_post",
          "4_mid",
          "4_post",
          "5_mid",
          "5_post",
          "6_mid",
          "6_post",
          "7_mid",
          "7_post",
          "8_mid",
          "8_post",
          "9_mid",
          "9_post",
          "10_mid",
          "10_post",
          "11_mid",
          "11_post",
          "12_mid",
          "12_post",
          "13_mid",
          "13_post",
          "14_mid",
          "14_post",
          "15_mid",
          "15_post",
          "16_mid",
          "16_post",
          "17_mid",
          "17_post",
          "18_mid",
          "18_post",
          "19_mid",
          "19_post",
          "20_mid",
          "20_post",
          "21_mid",
          "21_post",
          "22_mid",
          "22_post",
          "23_mid",
          "23_post"
         ],
         "xaxis": "x",
         "y": [
          -11.50795841217041,
          -20.05887794494629,
          -23.17719078063965,
          -28.791048049926758,
          -34.31474685668945,
          -26.685436248779297,
          -26.10478973388672,
          -26.567380905151367,
          -28.238615036010742,
          -25.95547103881836,
          -25.775203704833984,
          -29.084787368774414,
          -30.32106590270996,
          -30.04866600036621,
          -30.5557804107666,
          -27.52381134033203,
          -26.78545570373535,
          -21.191316604614258,
          -24.00334358215332,
          -26.5565185546875,
          -30.221141815185547,
          -17.867481231689453,
          -20.761470794677734,
          -23.28875732421875,
          -27.439353942871094,
          -50.0795783996582,
          -45.09783935546875,
          -51.02937316894531,
          -62.864601135253906,
          -57.85563659667969,
          -59.72108459472656,
          -71.31428527832031,
          -71.83952331542969,
          -78.01202392578125,
          -74.0026626586914,
          -107.98277282714844,
          -106.76485443115234,
          -111.45864868164062,
          -118.11329650878906,
          -140.57412719726562,
          -141.94821166992188,
          -202.919189453125,
          -200.75323486328125,
          -235.04318237304688,
          -228.63478088378906,
          -244.98202514648438,
          -241.14764404296875,
          -253.7015380859375
         ],
         "yaxis": "y"
        },
        {
         "hovertemplate": "Model=GPT2_10<br>Layer=%{x}<br>neg_logprob=%{y}<extra></extra>",
         "legendgroup": "GPT2_10",
         "line": {
          "color": "#ab63fa",
          "dash": "solid"
         },
         "marker": {
          "symbol": "circle"
         },
         "mode": "lines",
         "name": "GPT2_10",
         "orientation": "v",
         "showlegend": true,
         "type": "scatter",
         "x": [
          "0_mid",
          "0_post",
          "1_mid",
          "1_post",
          "2_mid",
          "2_post",
          "3_mid",
          "3_post",
          "4_mid",
          "4_post",
          "5_mid",
          "5_post",
          "6_mid",
          "6_post",
          "7_mid",
          "7_post",
          "8_mid",
          "8_post",
          "9_mid",
          "9_post",
          "10_mid",
          "10_post",
          "11_mid",
          "11_post",
          "12_mid",
          "12_post",
          "13_mid",
          "13_post",
          "14_mid",
          "14_post",
          "15_mid",
          "15_post",
          "16_mid",
          "16_post",
          "17_mid",
          "17_post",
          "18_mid",
          "18_post",
          "19_mid",
          "19_post",
          "20_mid",
          "20_post",
          "21_mid",
          "21_post",
          "22_mid",
          "22_post",
          "23_mid",
          "23_post"
         ],
         "xaxis": "x",
         "y": [
          -11.430288314819336,
          -22.860258102416992,
          -24.196081161499023,
          -30.280332565307617,
          -33.355587005615234,
          -28.1975040435791,
          -28.255077362060547,
          -29.644384384155273,
          -31.01920509338379,
          -29.79384422302246,
          -29.121450424194336,
          -28.865198135375977,
          -30.99345588684082,
          -31.096416473388672,
          -30.28560447692871,
          -29.97332191467285,
          -27.250246047973633,
          -26.29229164123535,
          -32.1627311706543,
          -29.67971420288086,
          -31.745872497558594,
          -26.593164443969727,
          -32.95600509643555,
          -34.1482048034668,
          -41.00249481201172,
          -59.143531799316406,
          -56.81908416748047,
          -60.976585388183594,
          -79.65888977050781,
          -78.778564453125,
          -79.50924682617188,
          -87.0363998413086,
          -87.09033203125,
          -96.11941528320312,
          -97.06915283203125,
          -127.02886199951172,
          -128.20462036132812,
          -138.57913208007812,
          -149.3387451171875,
          -185.59912109375,
          -186.66436767578125,
          -244.84701538085938,
          -246.86241149902344,
          -285.73419189453125,
          -282.40179443359375,
          -301.3731689453125,
          -295.00555419921875,
          -318.95709228515625
         ],
         "yaxis": "y"
        },
        {
         "hovertemplate": "Model=IFT_100<br>Layer=%{x}<br>neg_logprob=%{y}<extra></extra>",
         "legendgroup": "IFT_100",
         "line": {
          "color": "#FFA15A",
          "dash": "solid"
         },
         "marker": {
          "symbol": "circle"
         },
         "mode": "lines",
         "name": "IFT_100",
         "orientation": "v",
         "showlegend": true,
         "type": "scatter",
         "x": [
          "0_mid",
          "0_post",
          "1_mid",
          "1_post",
          "2_mid",
          "2_post",
          "3_mid",
          "3_post",
          "4_mid",
          "4_post",
          "5_mid",
          "5_post",
          "6_mid",
          "6_post",
          "7_mid",
          "7_post",
          "8_mid",
          "8_post",
          "9_mid",
          "9_post",
          "10_mid",
          "10_post",
          "11_mid",
          "11_post",
          "12_mid",
          "12_post",
          "13_mid",
          "13_post",
          "14_mid",
          "14_post",
          "15_mid",
          "15_post",
          "16_mid",
          "16_post",
          "17_mid",
          "17_post",
          "18_mid",
          "18_post",
          "19_mid",
          "19_post",
          "20_mid",
          "20_post",
          "21_mid",
          "21_post",
          "22_mid",
          "22_post",
          "23_mid",
          "23_post",
          "0_mid",
          "0_post",
          "1_mid",
          "1_post",
          "2_mid",
          "2_post",
          "3_mid",
          "3_post",
          "4_mid",
          "4_post",
          "5_mid",
          "5_post",
          "6_mid",
          "6_post",
          "7_mid",
          "7_post",
          "8_mid",
          "8_post",
          "9_mid",
          "9_post",
          "10_mid",
          "10_post",
          "11_mid",
          "11_post",
          "12_mid",
          "12_post",
          "13_mid",
          "13_post",
          "14_mid",
          "14_post",
          "15_mid",
          "15_post",
          "16_mid",
          "16_post",
          "17_mid",
          "17_post",
          "18_mid",
          "18_post",
          "19_mid",
          "19_post",
          "20_mid",
          "20_post",
          "21_mid",
          "21_post",
          "22_mid",
          "22_post",
          "23_mid",
          "23_post"
         ],
         "xaxis": "x",
         "y": [
          -12.272729873657227,
          -16.82433319091797,
          -18.107336044311523,
          -20.844703674316406,
          -26.77091407775879,
          -22.48716926574707,
          -21.353801727294922,
          -20.09342384338379,
          -22.028057098388672,
          -22.046897888183594,
          -19.89040184020996,
          -25.053499221801758,
          -26.802688598632812,
          -28.600833892822266,
          -27.330720901489258,
          -32.60243606567383,
          -34.92995071411133,
          -34.77741622924805,
          -36.3925666809082,
          -36.59775924682617,
          -40.850830078125,
          -30.812278747558594,
          -31.52001190185547,
          -39.97379684448242,
          -41.56608963012695,
          -56.72724151611328,
          -53.508399963378906,
          -66.63668823242188,
          -75.39334106445312,
          -77.16191101074219,
          -72.80706787109375,
          -84.91265106201172,
          -79.59709930419922,
          -94.02545166015625,
          -85.85401153564453,
          -111.1788330078125,
          -115.44180297851562,
          -111.55162048339844,
          -110.0516357421875,
          -149.6420135498047,
          -148.24545288085938,
          -203.33364868164062,
          -194.24375915527344,
          -232.22439575195312,
          -223.55209350585938,
          -240.04025268554688,
          -227.78277587890625,
          -237.6885986328125,
          -12.272729873657227,
          -16.82433319091797,
          -18.107336044311523,
          -20.844703674316406,
          -26.77091407775879,
          -22.48716926574707,
          -21.353801727294922,
          -20.09342384338379,
          -22.028057098388672,
          -22.046897888183594,
          -19.89040184020996,
          -25.053499221801758,
          -26.802688598632812,
          -28.600833892822266,
          -27.330720901489258,
          -32.60243606567383,
          -34.92995071411133,
          -34.77741622924805,
          -36.3925666809082,
          -36.59775924682617,
          -40.850830078125,
          -30.812278747558594,
          -31.52001190185547,
          -39.97379684448242,
          -41.56608963012695,
          -56.72724151611328,
          -53.508399963378906,
          -66.63668823242188,
          -75.39334106445312,
          -77.16191101074219,
          -72.80706787109375,
          -84.91265106201172,
          -79.59709930419922,
          -94.02545166015625,
          -85.85401153564453,
          -111.1788330078125,
          -115.44180297851562,
          -111.55162048339844,
          -110.0516357421875,
          -149.6420135498047,
          -148.24545288085938,
          -203.33364868164062,
          -194.24375915527344,
          -232.22439575195312,
          -223.55209350585938,
          -240.04025268554688,
          -227.78277587890625,
          -237.6885986328125
         ],
         "yaxis": "y"
        },
        {
         "hovertemplate": "Model=GPT2_100<br>Layer=%{x}<br>neg_logprob=%{y}<extra></extra>",
         "legendgroup": "GPT2_100",
         "line": {
          "color": "#19d3f3",
          "dash": "solid"
         },
         "marker": {
          "symbol": "circle"
         },
         "mode": "lines",
         "name": "GPT2_100",
         "orientation": "v",
         "showlegend": true,
         "type": "scatter",
         "x": [
          "0_mid",
          "0_post",
          "1_mid",
          "1_post",
          "2_mid",
          "2_post",
          "3_mid",
          "3_post",
          "4_mid",
          "4_post",
          "5_mid",
          "5_post",
          "6_mid",
          "6_post",
          "7_mid",
          "7_post",
          "8_mid",
          "8_post",
          "9_mid",
          "9_post",
          "10_mid",
          "10_post",
          "11_mid",
          "11_post",
          "12_mid",
          "12_post",
          "13_mid",
          "13_post",
          "14_mid",
          "14_post",
          "15_mid",
          "15_post",
          "16_mid",
          "16_post",
          "17_mid",
          "17_post",
          "18_mid",
          "18_post",
          "19_mid",
          "19_post",
          "20_mid",
          "20_post",
          "21_mid",
          "21_post",
          "22_mid",
          "22_post",
          "23_mid",
          "23_post",
          "0_mid",
          "0_post",
          "1_mid",
          "1_post",
          "2_mid",
          "2_post",
          "3_mid",
          "3_post",
          "4_mid",
          "4_post",
          "5_mid",
          "5_post",
          "6_mid",
          "6_post",
          "7_mid",
          "7_post",
          "8_mid",
          "8_post",
          "9_mid",
          "9_post",
          "10_mid",
          "10_post",
          "11_mid",
          "11_post",
          "12_mid",
          "12_post",
          "13_mid",
          "13_post",
          "14_mid",
          "14_post",
          "15_mid",
          "15_post",
          "16_mid",
          "16_post",
          "17_mid",
          "17_post",
          "18_mid",
          "18_post",
          "19_mid",
          "19_post",
          "20_mid",
          "20_post",
          "21_mid",
          "21_post",
          "22_mid",
          "22_post",
          "23_mid",
          "23_post"
         ],
         "xaxis": "x",
         "y": [
          -12.172462463378906,
          -18.030698776245117,
          -18.056324005126953,
          -20.90578269958496,
          -24.768762588500977,
          -22.366825103759766,
          -22.661867141723633,
          -22.121984481811523,
          -23.04697036743164,
          -24.552127838134766,
          -22.806428909301758,
          -24.973255157470703,
          -26.29595184326172,
          -28.615829467773438,
          -27.712182998657227,
          -34.701026916503906,
          -36.20005798339844,
          -38.655128479003906,
          -45.52229309082031,
          -43.64921951293945,
          -45.18822479248047,
          -43.7896728515625,
          -48.4866943359375,
          -55.044288635253906,
          -63.20591735839844,
          -80.95704650878906,
          -80.84011840820312,
          -94.91874694824219,
          -111.27403259277344,
          -116.78466796875,
          -115.568603515625,
          -129.39015197753906,
          -128.92568969726562,
          -139.83657836914062,
          -140.70492553710938,
          -165.995361328125,
          -166.651123046875,
          -173.7855682373047,
          -182.74607849121094,
          -231.31439208984375,
          -231.28253173828125,
          -287.256103515625,
          -279.30975341796875,
          -328.0137634277344,
          -326.8556213378906,
          -351.00628662109375,
          -359.01995849609375,
          -403.806396484375,
          -12.172462463378906,
          -18.030698776245117,
          -18.056324005126953,
          -20.90578269958496,
          -24.768762588500977,
          -22.366825103759766,
          -22.661867141723633,
          -22.121984481811523,
          -23.04697036743164,
          -24.552127838134766,
          -22.806428909301758,
          -24.973255157470703,
          -26.29595184326172,
          -28.615829467773438,
          -27.712182998657227,
          -34.701026916503906,
          -36.20005798339844,
          -38.655128479003906,
          -45.52229309082031,
          -43.64921951293945,
          -45.18822479248047,
          -43.7896728515625,
          -48.4866943359375,
          -55.044288635253906,
          -63.20591735839844,
          -80.95704650878906,
          -80.84011840820312,
          -94.91874694824219,
          -111.27403259277344,
          -116.78466796875,
          -115.568603515625,
          -129.39015197753906,
          -128.92568969726562,
          -139.83657836914062,
          -140.70492553710938,
          -165.995361328125,
          -166.651123046875,
          -173.7855682373047,
          -182.74607849121094,
          -231.31439208984375,
          -231.28253173828125,
          -287.256103515625,
          -279.30975341796875,
          -328.0137634277344,
          -326.8556213378906,
          -351.00628662109375,
          -359.01995849609375,
          -403.806396484375
         ],
         "yaxis": "y"
        },
        {
         "hovertemplate": "Model=IFT_10000<br>Layer=%{x}<br>neg_logprob=%{y}<extra></extra>",
         "legendgroup": "IFT_10000",
         "line": {
          "color": "#FF6692",
          "dash": "solid"
         },
         "marker": {
          "symbol": "circle"
         },
         "mode": "lines",
         "name": "IFT_10000",
         "orientation": "v",
         "showlegend": true,
         "type": "scatter",
         "x": [
          "0_mid",
          "0_post",
          "1_mid",
          "1_post",
          "2_mid",
          "2_post",
          "3_mid",
          "3_post",
          "4_mid",
          "4_post",
          "5_mid",
          "5_post",
          "6_mid",
          "6_post",
          "7_mid",
          "7_post",
          "8_mid",
          "8_post",
          "9_mid",
          "9_post",
          "10_mid",
          "10_post",
          "11_mid",
          "11_post",
          "12_mid",
          "12_post",
          "13_mid",
          "13_post",
          "14_mid",
          "14_post",
          "15_mid",
          "15_post",
          "16_mid",
          "16_post",
          "17_mid",
          "17_post",
          "18_mid",
          "18_post",
          "19_mid",
          "19_post",
          "20_mid",
          "20_post",
          "21_mid",
          "21_post",
          "22_mid",
          "22_post",
          "23_mid",
          "23_post"
         ],
         "xaxis": "x",
         "y": [
          -10.613897323608398,
          -15.709345817565918,
          -15.420232772827148,
          -12.854691505432129,
          -21.55870246887207,
          -21.784854888916016,
          -22.84901237487793,
          -26.885950088500977,
          -25.569448471069336,
          -28.6048583984375,
          -29.83341407775879,
          -38.49061965942383,
          -37.127315521240234,
          -37.31679153442383,
          -39.94065475463867,
          -38.57331848144531,
          -43.524749755859375,
          -41.55408477783203,
          -32.522342681884766,
          -33.69763946533203,
          -34.169734954833984,
          -28.885169982910156,
          -26.431373596191406,
          -39.66811752319336,
          -43.956153869628906,
          -69.2667236328125,
          -70.36064147949219,
          -84.93943786621094,
          -104.06574249267578,
          -96.79641723632812,
          -100.98452758789062,
          -119.4480209350586,
          -124.37767028808594,
          -142.7933807373047,
          -141.51612854003906,
          -191.82943725585938,
          -196.86709594726562,
          -200.2119903564453,
          -215.6710662841797,
          -253.69497680664062,
          -261.54327392578125,
          -340.1097106933594,
          -355.7527770996094,
          -431.5653991699219,
          -461.3270263671875,
          -562.5108642578125,
          -597.3640747070312,
          -633.7399291992188
         ],
         "yaxis": "y"
        },
        {
         "hovertemplate": "Model=GPT2_10000<br>Layer=%{x}<br>neg_logprob=%{y}<extra></extra>",
         "legendgroup": "GPT2_10000",
         "line": {
          "color": "#B6E880",
          "dash": "solid"
         },
         "marker": {
          "symbol": "circle"
         },
         "mode": "lines",
         "name": "GPT2_10000",
         "orientation": "v",
         "showlegend": true,
         "type": "scatter",
         "x": [
          "0_mid",
          "0_post",
          "1_mid",
          "1_post",
          "2_mid",
          "2_post",
          "3_mid",
          "3_post",
          "4_mid",
          "4_post",
          "5_mid",
          "5_post",
          "6_mid",
          "6_post",
          "7_mid",
          "7_post",
          "8_mid",
          "8_post",
          "9_mid",
          "9_post",
          "10_mid",
          "10_post",
          "11_mid",
          "11_post",
          "12_mid",
          "12_post",
          "13_mid",
          "13_post",
          "14_mid",
          "14_post",
          "15_mid",
          "15_post",
          "16_mid",
          "16_post",
          "17_mid",
          "17_post",
          "18_mid",
          "18_post",
          "19_mid",
          "19_post",
          "20_mid",
          "20_post",
          "21_mid",
          "21_post",
          "22_mid",
          "22_post",
          "23_mid",
          "23_post"
         ],
         "xaxis": "x",
         "y": [
          -10.700817108154297,
          -16.99837875366211,
          -16.22111701965332,
          -13.072615623474121,
          -20.395063400268555,
          -21.432666778564453,
          -23.52968978881836,
          -29.111391067504883,
          -27.687847137451172,
          -31.806806564331055,
          -33.950748443603516,
          -38.3590202331543,
          -35.78883361816406,
          -35.99364471435547,
          -38.187950134277344,
          -41.454219818115234,
          -42.874568939208984,
          -41.925926208496094,
          -40.042198181152344,
          -39.33420181274414,
          -40.27979278564453,
          -40.54299545288086,
          -46.03423309326172,
          -56.343605041503906,
          -62.287208557128906,
          -86.97369384765625,
          -89.75373840332031,
          -105.28485107421875,
          -134.17303466796875,
          -135.35687255859375,
          -140.8376007080078,
          -162.3754119873047,
          -165.5699005126953,
          -177.7743682861328,
          -184.33316040039062,
          -222.03529357910156,
          -229.2327117919922,
          -246.01348876953125,
          -261.3719177246094,
          -309.8471984863281,
          -316.85406494140625,
          -390.68621826171875,
          -382.79901123046875,
          -449.1477355957031,
          -455.3064880371094,
          -526.7801513671875,
          -545.360595703125,
          -659.0186767578125
         ],
         "yaxis": "y"
        }
       ],
       "layout": {
        "legend": {
         "title": {
          "text": "Model"
         },
         "tracegroupgap": 0
        },
        "margin": {
         "t": 60
        },
        "template": {
         "data": {
          "bar": [
           {
            "error_x": {
             "color": "#2a3f5f"
            },
            "error_y": {
             "color": "#2a3f5f"
            },
            "marker": {
             "line": {
              "color": "#E5ECF6",
              "width": 0.5
             },
             "pattern": {
              "fillmode": "overlay",
              "size": 10,
              "solidity": 0.2
             }
            },
            "type": "bar"
           }
          ],
          "barpolar": [
           {
            "marker": {
             "line": {
              "color": "#E5ECF6",
              "width": 0.5
             },
             "pattern": {
              "fillmode": "overlay",
              "size": 10,
              "solidity": 0.2
             }
            },
            "type": "barpolar"
           }
          ],
          "carpet": [
           {
            "aaxis": {
             "endlinecolor": "#2a3f5f",
             "gridcolor": "white",
             "linecolor": "white",
             "minorgridcolor": "white",
             "startlinecolor": "#2a3f5f"
            },
            "baxis": {
             "endlinecolor": "#2a3f5f",
             "gridcolor": "white",
             "linecolor": "white",
             "minorgridcolor": "white",
             "startlinecolor": "#2a3f5f"
            },
            "type": "carpet"
           }
          ],
          "choropleth": [
           {
            "colorbar": {
             "outlinewidth": 0,
             "ticks": ""
            },
            "type": "choropleth"
           }
          ],
          "contour": [
           {
            "colorbar": {
             "outlinewidth": 0,
             "ticks": ""
            },
            "colorscale": [
             [
              0,
              "#0d0887"
             ],
             [
              0.1111111111111111,
              "#46039f"
             ],
             [
              0.2222222222222222,
              "#7201a8"
             ],
             [
              0.3333333333333333,
              "#9c179e"
             ],
             [
              0.4444444444444444,
              "#bd3786"
             ],
             [
              0.5555555555555556,
              "#d8576b"
             ],
             [
              0.6666666666666666,
              "#ed7953"
             ],
             [
              0.7777777777777778,
              "#fb9f3a"
             ],
             [
              0.8888888888888888,
              "#fdca26"
             ],
             [
              1,
              "#f0f921"
             ]
            ],
            "type": "contour"
           }
          ],
          "contourcarpet": [
           {
            "colorbar": {
             "outlinewidth": 0,
             "ticks": ""
            },
            "type": "contourcarpet"
           }
          ],
          "heatmap": [
           {
            "colorbar": {
             "outlinewidth": 0,
             "ticks": ""
            },
            "colorscale": [
             [
              0,
              "#0d0887"
             ],
             [
              0.1111111111111111,
              "#46039f"
             ],
             [
              0.2222222222222222,
              "#7201a8"
             ],
             [
              0.3333333333333333,
              "#9c179e"
             ],
             [
              0.4444444444444444,
              "#bd3786"
             ],
             [
              0.5555555555555556,
              "#d8576b"
             ],
             [
              0.6666666666666666,
              "#ed7953"
             ],
             [
              0.7777777777777778,
              "#fb9f3a"
             ],
             [
              0.8888888888888888,
              "#fdca26"
             ],
             [
              1,
              "#f0f921"
             ]
            ],
            "type": "heatmap"
           }
          ],
          "heatmapgl": [
           {
            "colorbar": {
             "outlinewidth": 0,
             "ticks": ""
            },
            "colorscale": [
             [
              0,
              "#0d0887"
             ],
             [
              0.1111111111111111,
              "#46039f"
             ],
             [
              0.2222222222222222,
              "#7201a8"
             ],
             [
              0.3333333333333333,
              "#9c179e"
             ],
             [
              0.4444444444444444,
              "#bd3786"
             ],
             [
              0.5555555555555556,
              "#d8576b"
             ],
             [
              0.6666666666666666,
              "#ed7953"
             ],
             [
              0.7777777777777778,
              "#fb9f3a"
             ],
             [
              0.8888888888888888,
              "#fdca26"
             ],
             [
              1,
              "#f0f921"
             ]
            ],
            "type": "heatmapgl"
           }
          ],
          "histogram": [
           {
            "marker": {
             "pattern": {
              "fillmode": "overlay",
              "size": 10,
              "solidity": 0.2
             }
            },
            "type": "histogram"
           }
          ],
          "histogram2d": [
           {
            "colorbar": {
             "outlinewidth": 0,
             "ticks": ""
            },
            "colorscale": [
             [
              0,
              "#0d0887"
             ],
             [
              0.1111111111111111,
              "#46039f"
             ],
             [
              0.2222222222222222,
              "#7201a8"
             ],
             [
              0.3333333333333333,
              "#9c179e"
             ],
             [
              0.4444444444444444,
              "#bd3786"
             ],
             [
              0.5555555555555556,
              "#d8576b"
             ],
             [
              0.6666666666666666,
              "#ed7953"
             ],
             [
              0.7777777777777778,
              "#fb9f3a"
             ],
             [
              0.8888888888888888,
              "#fdca26"
             ],
             [
              1,
              "#f0f921"
             ]
            ],
            "type": "histogram2d"
           }
          ],
          "histogram2dcontour": [
           {
            "colorbar": {
             "outlinewidth": 0,
             "ticks": ""
            },
            "colorscale": [
             [
              0,
              "#0d0887"
             ],
             [
              0.1111111111111111,
              "#46039f"
             ],
             [
              0.2222222222222222,
              "#7201a8"
             ],
             [
              0.3333333333333333,
              "#9c179e"
             ],
             [
              0.4444444444444444,
              "#bd3786"
             ],
             [
              0.5555555555555556,
              "#d8576b"
             ],
             [
              0.6666666666666666,
              "#ed7953"
             ],
             [
              0.7777777777777778,
              "#fb9f3a"
             ],
             [
              0.8888888888888888,
              "#fdca26"
             ],
             [
              1,
              "#f0f921"
             ]
            ],
            "type": "histogram2dcontour"
           }
          ],
          "mesh3d": [
           {
            "colorbar": {
             "outlinewidth": 0,
             "ticks": ""
            },
            "type": "mesh3d"
           }
          ],
          "parcoords": [
           {
            "line": {
             "colorbar": {
              "outlinewidth": 0,
              "ticks": ""
             }
            },
            "type": "parcoords"
           }
          ],
          "pie": [
           {
            "automargin": true,
            "type": "pie"
           }
          ],
          "scatter": [
           {
            "fillpattern": {
             "fillmode": "overlay",
             "size": 10,
             "solidity": 0.2
            },
            "type": "scatter"
           }
          ],
          "scatter3d": [
           {
            "line": {
             "colorbar": {
              "outlinewidth": 0,
              "ticks": ""
             }
            },
            "marker": {
             "colorbar": {
              "outlinewidth": 0,
              "ticks": ""
             }
            },
            "type": "scatter3d"
           }
          ],
          "scattercarpet": [
           {
            "marker": {
             "colorbar": {
              "outlinewidth": 0,
              "ticks": ""
             }
            },
            "type": "scattercarpet"
           }
          ],
          "scattergeo": [
           {
            "marker": {
             "colorbar": {
              "outlinewidth": 0,
              "ticks": ""
             }
            },
            "type": "scattergeo"
           }
          ],
          "scattergl": [
           {
            "marker": {
             "colorbar": {
              "outlinewidth": 0,
              "ticks": ""
             }
            },
            "type": "scattergl"
           }
          ],
          "scattermapbox": [
           {
            "marker": {
             "colorbar": {
              "outlinewidth": 0,
              "ticks": ""
             }
            },
            "type": "scattermapbox"
           }
          ],
          "scatterpolar": [
           {
            "marker": {
             "colorbar": {
              "outlinewidth": 0,
              "ticks": ""
             }
            },
            "type": "scatterpolar"
           }
          ],
          "scatterpolargl": [
           {
            "marker": {
             "colorbar": {
              "outlinewidth": 0,
              "ticks": ""
             }
            },
            "type": "scatterpolargl"
           }
          ],
          "scatterternary": [
           {
            "marker": {
             "colorbar": {
              "outlinewidth": 0,
              "ticks": ""
             }
            },
            "type": "scatterternary"
           }
          ],
          "surface": [
           {
            "colorbar": {
             "outlinewidth": 0,
             "ticks": ""
            },
            "colorscale": [
             [
              0,
              "#0d0887"
             ],
             [
              0.1111111111111111,
              "#46039f"
             ],
             [
              0.2222222222222222,
              "#7201a8"
             ],
             [
              0.3333333333333333,
              "#9c179e"
             ],
             [
              0.4444444444444444,
              "#bd3786"
             ],
             [
              0.5555555555555556,
              "#d8576b"
             ],
             [
              0.6666666666666666,
              "#ed7953"
             ],
             [
              0.7777777777777778,
              "#fb9f3a"
             ],
             [
              0.8888888888888888,
              "#fdca26"
             ],
             [
              1,
              "#f0f921"
             ]
            ],
            "type": "surface"
           }
          ],
          "table": [
           {
            "cells": {
             "fill": {
              "color": "#EBF0F8"
             },
             "line": {
              "color": "white"
             }
            },
            "header": {
             "fill": {
              "color": "#C8D4E3"
             },
             "line": {
              "color": "white"
             }
            },
            "type": "table"
           }
          ]
         },
         "layout": {
          "annotationdefaults": {
           "arrowcolor": "#2a3f5f",
           "arrowhead": 0,
           "arrowwidth": 1
          },
          "autotypenumbers": "strict",
          "coloraxis": {
           "colorbar": {
            "outlinewidth": 0,
            "ticks": ""
           }
          },
          "colorscale": {
           "diverging": [
            [
             0,
             "#8e0152"
            ],
            [
             0.1,
             "#c51b7d"
            ],
            [
             0.2,
             "#de77ae"
            ],
            [
             0.3,
             "#f1b6da"
            ],
            [
             0.4,
             "#fde0ef"
            ],
            [
             0.5,
             "#f7f7f7"
            ],
            [
             0.6,
             "#e6f5d0"
            ],
            [
             0.7,
             "#b8e186"
            ],
            [
             0.8,
             "#7fbc41"
            ],
            [
             0.9,
             "#4d9221"
            ],
            [
             1,
             "#276419"
            ]
           ],
           "sequential": [
            [
             0,
             "#0d0887"
            ],
            [
             0.1111111111111111,
             "#46039f"
            ],
            [
             0.2222222222222222,
             "#7201a8"
            ],
            [
             0.3333333333333333,
             "#9c179e"
            ],
            [
             0.4444444444444444,
             "#bd3786"
            ],
            [
             0.5555555555555556,
             "#d8576b"
            ],
            [
             0.6666666666666666,
             "#ed7953"
            ],
            [
             0.7777777777777778,
             "#fb9f3a"
            ],
            [
             0.8888888888888888,
             "#fdca26"
            ],
            [
             1,
             "#f0f921"
            ]
           ],
           "sequentialminus": [
            [
             0,
             "#0d0887"
            ],
            [
             0.1111111111111111,
             "#46039f"
            ],
            [
             0.2222222222222222,
             "#7201a8"
            ],
            [
             0.3333333333333333,
             "#9c179e"
            ],
            [
             0.4444444444444444,
             "#bd3786"
            ],
            [
             0.5555555555555556,
             "#d8576b"
            ],
            [
             0.6666666666666666,
             "#ed7953"
            ],
            [
             0.7777777777777778,
             "#fb9f3a"
            ],
            [
             0.8888888888888888,
             "#fdca26"
            ],
            [
             1,
             "#f0f921"
            ]
           ]
          },
          "colorway": [
           "#636efa",
           "#EF553B",
           "#00cc96",
           "#ab63fa",
           "#FFA15A",
           "#19d3f3",
           "#FF6692",
           "#B6E880",
           "#FF97FF",
           "#FECB52"
          ],
          "font": {
           "color": "#2a3f5f"
          },
          "geo": {
           "bgcolor": "white",
           "lakecolor": "white",
           "landcolor": "#E5ECF6",
           "showlakes": true,
           "showland": true,
           "subunitcolor": "white"
          },
          "hoverlabel": {
           "align": "left"
          },
          "hovermode": "closest",
          "mapbox": {
           "style": "light"
          },
          "paper_bgcolor": "white",
          "plot_bgcolor": "#E5ECF6",
          "polar": {
           "angularaxis": {
            "gridcolor": "white",
            "linecolor": "white",
            "ticks": ""
           },
           "bgcolor": "#E5ECF6",
           "radialaxis": {
            "gridcolor": "white",
            "linecolor": "white",
            "ticks": ""
           }
          },
          "scene": {
           "xaxis": {
            "backgroundcolor": "#E5ECF6",
            "gridcolor": "white",
            "gridwidth": 2,
            "linecolor": "white",
            "showbackground": true,
            "ticks": "",
            "zerolinecolor": "white"
           },
           "yaxis": {
            "backgroundcolor": "#E5ECF6",
            "gridcolor": "white",
            "gridwidth": 2,
            "linecolor": "white",
            "showbackground": true,
            "ticks": "",
            "zerolinecolor": "white"
           },
           "zaxis": {
            "backgroundcolor": "#E5ECF6",
            "gridcolor": "white",
            "gridwidth": 2,
            "linecolor": "white",
            "showbackground": true,
            "ticks": "",
            "zerolinecolor": "white"
           }
          },
          "shapedefaults": {
           "line": {
            "color": "#2a3f5f"
           }
          },
          "ternary": {
           "aaxis": {
            "gridcolor": "white",
            "linecolor": "white",
            "ticks": ""
           },
           "baxis": {
            "gridcolor": "white",
            "linecolor": "white",
            "ticks": ""
           },
           "bgcolor": "#E5ECF6",
           "caxis": {
            "gridcolor": "white",
            "linecolor": "white",
            "ticks": ""
           }
          },
          "title": {
           "x": 0.05
          },
          "xaxis": {
           "automargin": true,
           "gridcolor": "white",
           "linecolor": "white",
           "ticks": "",
           "title": {
            "standoff": 15
           },
           "zerolinecolor": "white",
           "zerolinewidth": 2
          },
          "yaxis": {
           "automargin": true,
           "gridcolor": "white",
           "linecolor": "white",
           "ticks": "",
           "title": {
            "standoff": 15
           },
           "zerolinecolor": "white",
           "zerolinewidth": 2
          }
         }
        },
        "xaxis": {
         "anchor": "y",
         "domain": [
          0,
          1
         ],
         "title": {
          "text": "Layer"
         }
        },
        "yaxis": {
         "anchor": "x",
         "domain": [
          0,
          1
         ],
         "title": {
          "text": "neg_logprob"
         }
        }
       }
      },
      "text/html": [
       "<div>                            <div id=\"78c33e3c-01be-435b-b5b5-ee0990f1d706\" class=\"plotly-graph-div\" style=\"height:525px; width:100%;\"></div>            <script type=\"text/javascript\">                require([\"plotly\"], function(Plotly) {                    window.PLOTLYENV=window.PLOTLYENV || {};                                    if (document.getElementById(\"78c33e3c-01be-435b-b5b5-ee0990f1d706\")) {                    Plotly.newPlot(                        \"78c33e3c-01be-435b-b5b5-ee0990f1d706\",                        [{\"hovertemplate\":\"Model=IFT\\u003cbr\\u003eLayer=%{x}\\u003cbr\\u003eneg_logprob=%{y}\\u003cextra\\u003e\\u003c\\u002fextra\\u003e\",\"legendgroup\":\"IFT\",\"line\":{\"color\":\"#636efa\",\"dash\":\"solid\"},\"marker\":{\"symbol\":\"circle\"},\"mode\":\"lines\",\"name\":\"IFT\",\"orientation\":\"v\",\"showlegend\":true,\"x\":[\"0_mid\",\"0_post\",\"1_mid\",\"1_post\",\"2_mid\",\"2_post\",\"3_mid\",\"3_post\",\"4_mid\",\"4_post\",\"5_mid\",\"5_post\",\"6_mid\",\"6_post\",\"7_mid\",\"7_post\",\"8_mid\",\"8_post\",\"9_mid\",\"9_post\",\"10_mid\",\"10_post\",\"11_mid\",\"11_post\",\"12_mid\",\"12_post\",\"13_mid\",\"13_post\",\"14_mid\",\"14_post\",\"15_mid\",\"15_post\",\"16_mid\",\"16_post\",\"17_mid\",\"17_post\",\"18_mid\",\"18_post\",\"19_mid\",\"19_post\",\"20_mid\",\"20_post\",\"21_mid\",\"21_post\",\"22_mid\",\"22_post\",\"23_mid\",\"23_post\"],\"xaxis\":\"x\",\"y\":[-12.779389381408691,-10.419245719909668,-11.971735000610352,-9.831866264343262,-13.805706977844238,-4.916987419128418,-5.504084587097168,-5.95362663269043,-5.540719509124756,-3.718170642852783,-2.9165444374084473,-4.226057529449463,-4.524083614349365,-2.1630797386169434,-2.464217185974121,-2.966668128967285,-8.095369338989258,-1.5136809349060059,-1.584956169128418,-7.851123809814453,-11.248275756835938,-1.4220876693725586,-0.3112455904483795,-0.01789109595119953,-0.23572957515716553,0.0,0.0,0.0,0.0,0.0,0.0,0.0,0.0,0.0,0.0,0.0,0.0,0.0,0.0,0.0,0.0,0.0,0.0,0.0,0.0,0.0,0.0,0.0],\"yaxis\":\"y\",\"type\":\"scatter\"},{\"hovertemplate\":\"Model=GPT2\\u003cbr\\u003eLayer=%{x}\\u003cbr\\u003eneg_logprob=%{y}\\u003cextra\\u003e\\u003c\\u002fextra\\u003e\",\"legendgroup\":\"GPT2\",\"line\":{\"color\":\"#EF553B\",\"dash\":\"solid\"},\"marker\":{\"symbol\":\"circle\"},\"mode\":\"lines\",\"name\":\"GPT2\",\"orientation\":\"v\",\"showlegend\":true,\"x\":[\"0_mid\",\"0_post\",\"1_mid\",\"1_post\",\"2_mid\",\"2_post\",\"3_mid\",\"3_post\",\"4_mid\",\"4_post\",\"5_mid\",\"5_post\",\"6_mid\",\"6_post\",\"7_mid\",\"7_post\",\"8_mid\",\"8_post\",\"9_mid\",\"9_post\",\"10_mid\",\"10_post\",\"11_mid\",\"11_post\",\"12_mid\",\"12_post\",\"13_mid\",\"13_post\",\"14_mid\",\"14_post\",\"15_mid\",\"15_post\",\"16_mid\",\"16_post\",\"17_mid\",\"17_post\",\"18_mid\",\"18_post\",\"19_mid\",\"19_post\",\"20_mid\",\"20_post\",\"21_mid\",\"21_post\",\"22_mid\",\"22_post\",\"23_mid\",\"23_post\"],\"xaxis\":\"x\",\"y\":[-12.716227531433105,-12.09395694732666,-11.752796173095703,-10.606587409973145,-11.538033485412598,-5.504166126251221,-6.494617462158203,-6.802651882171631,-6.282186508178711,-5.3391923904418945,-4.024789810180664,-3.16133189201355,-4.114562511444092,-1.3863232135772705,-0.23718436062335968,-1.6417367458343506,-2.537203073501587,-0.1390599012374878,-0.08010788261890411,-2.476139783859253,-0.8643947243690491,-0.8157452940940857,-0.004176110029220581,-3.909988299710676e-05,-4.768370445162873e-07,0.0,0.0,0.0,0.0,0.0,0.0,0.0,0.0,0.0,0.0,0.0,0.0,0.0,0.0,0.0,0.0,0.0,0.0,0.0,0.0,0.0,0.0,0.0],\"yaxis\":\"y\",\"type\":\"scatter\"},{\"hovertemplate\":\"Model=IFT_10\\u003cbr\\u003eLayer=%{x}\\u003cbr\\u003eneg_logprob=%{y}\\u003cextra\\u003e\\u003c\\u002fextra\\u003e\",\"legendgroup\":\"IFT_10\",\"line\":{\"color\":\"#00cc96\",\"dash\":\"solid\"},\"marker\":{\"symbol\":\"circle\"},\"mode\":\"lines\",\"name\":\"IFT_10\",\"orientation\":\"v\",\"showlegend\":true,\"x\":[\"0_mid\",\"0_post\",\"1_mid\",\"1_post\",\"2_mid\",\"2_post\",\"3_mid\",\"3_post\",\"4_mid\",\"4_post\",\"5_mid\",\"5_post\",\"6_mid\",\"6_post\",\"7_mid\",\"7_post\",\"8_mid\",\"8_post\",\"9_mid\",\"9_post\",\"10_mid\",\"10_post\",\"11_mid\",\"11_post\",\"12_mid\",\"12_post\",\"13_mid\",\"13_post\",\"14_mid\",\"14_post\",\"15_mid\",\"15_post\",\"16_mid\",\"16_post\",\"17_mid\",\"17_post\",\"18_mid\",\"18_post\",\"19_mid\",\"19_post\",\"20_mid\",\"20_post\",\"21_mid\",\"21_post\",\"22_mid\",\"22_post\",\"23_mid\",\"23_post\"],\"xaxis\":\"x\",\"y\":[-11.50795841217041,-20.05887794494629,-23.17719078063965,-28.791048049926758,-34.31474685668945,-26.685436248779297,-26.10478973388672,-26.567380905151367,-28.238615036010742,-25.95547103881836,-25.775203704833984,-29.084787368774414,-30.32106590270996,-30.04866600036621,-30.5557804107666,-27.52381134033203,-26.78545570373535,-21.191316604614258,-24.00334358215332,-26.5565185546875,-30.221141815185547,-17.867481231689453,-20.761470794677734,-23.28875732421875,-27.439353942871094,-50.0795783996582,-45.09783935546875,-51.02937316894531,-62.864601135253906,-57.85563659667969,-59.72108459472656,-71.31428527832031,-71.83952331542969,-78.01202392578125,-74.0026626586914,-107.98277282714844,-106.76485443115234,-111.45864868164062,-118.11329650878906,-140.57412719726562,-141.94821166992188,-202.919189453125,-200.75323486328125,-235.04318237304688,-228.63478088378906,-244.98202514648438,-241.14764404296875,-253.7015380859375],\"yaxis\":\"y\",\"type\":\"scatter\"},{\"hovertemplate\":\"Model=GPT2_10\\u003cbr\\u003eLayer=%{x}\\u003cbr\\u003eneg_logprob=%{y}\\u003cextra\\u003e\\u003c\\u002fextra\\u003e\",\"legendgroup\":\"GPT2_10\",\"line\":{\"color\":\"#ab63fa\",\"dash\":\"solid\"},\"marker\":{\"symbol\":\"circle\"},\"mode\":\"lines\",\"name\":\"GPT2_10\",\"orientation\":\"v\",\"showlegend\":true,\"x\":[\"0_mid\",\"0_post\",\"1_mid\",\"1_post\",\"2_mid\",\"2_post\",\"3_mid\",\"3_post\",\"4_mid\",\"4_post\",\"5_mid\",\"5_post\",\"6_mid\",\"6_post\",\"7_mid\",\"7_post\",\"8_mid\",\"8_post\",\"9_mid\",\"9_post\",\"10_mid\",\"10_post\",\"11_mid\",\"11_post\",\"12_mid\",\"12_post\",\"13_mid\",\"13_post\",\"14_mid\",\"14_post\",\"15_mid\",\"15_post\",\"16_mid\",\"16_post\",\"17_mid\",\"17_post\",\"18_mid\",\"18_post\",\"19_mid\",\"19_post\",\"20_mid\",\"20_post\",\"21_mid\",\"21_post\",\"22_mid\",\"22_post\",\"23_mid\",\"23_post\"],\"xaxis\":\"x\",\"y\":[-11.430288314819336,-22.860258102416992,-24.196081161499023,-30.280332565307617,-33.355587005615234,-28.1975040435791,-28.255077362060547,-29.644384384155273,-31.01920509338379,-29.79384422302246,-29.121450424194336,-28.865198135375977,-30.99345588684082,-31.096416473388672,-30.28560447692871,-29.97332191467285,-27.250246047973633,-26.29229164123535,-32.1627311706543,-29.67971420288086,-31.745872497558594,-26.593164443969727,-32.95600509643555,-34.1482048034668,-41.00249481201172,-59.143531799316406,-56.81908416748047,-60.976585388183594,-79.65888977050781,-78.778564453125,-79.50924682617188,-87.0363998413086,-87.09033203125,-96.11941528320312,-97.06915283203125,-127.02886199951172,-128.20462036132812,-138.57913208007812,-149.3387451171875,-185.59912109375,-186.66436767578125,-244.84701538085938,-246.86241149902344,-285.73419189453125,-282.40179443359375,-301.3731689453125,-295.00555419921875,-318.95709228515625],\"yaxis\":\"y\",\"type\":\"scatter\"},{\"hovertemplate\":\"Model=IFT_100\\u003cbr\\u003eLayer=%{x}\\u003cbr\\u003eneg_logprob=%{y}\\u003cextra\\u003e\\u003c\\u002fextra\\u003e\",\"legendgroup\":\"IFT_100\",\"line\":{\"color\":\"#FFA15A\",\"dash\":\"solid\"},\"marker\":{\"symbol\":\"circle\"},\"mode\":\"lines\",\"name\":\"IFT_100\",\"orientation\":\"v\",\"showlegend\":true,\"x\":[\"0_mid\",\"0_post\",\"1_mid\",\"1_post\",\"2_mid\",\"2_post\",\"3_mid\",\"3_post\",\"4_mid\",\"4_post\",\"5_mid\",\"5_post\",\"6_mid\",\"6_post\",\"7_mid\",\"7_post\",\"8_mid\",\"8_post\",\"9_mid\",\"9_post\",\"10_mid\",\"10_post\",\"11_mid\",\"11_post\",\"12_mid\",\"12_post\",\"13_mid\",\"13_post\",\"14_mid\",\"14_post\",\"15_mid\",\"15_post\",\"16_mid\",\"16_post\",\"17_mid\",\"17_post\",\"18_mid\",\"18_post\",\"19_mid\",\"19_post\",\"20_mid\",\"20_post\",\"21_mid\",\"21_post\",\"22_mid\",\"22_post\",\"23_mid\",\"23_post\",\"0_mid\",\"0_post\",\"1_mid\",\"1_post\",\"2_mid\",\"2_post\",\"3_mid\",\"3_post\",\"4_mid\",\"4_post\",\"5_mid\",\"5_post\",\"6_mid\",\"6_post\",\"7_mid\",\"7_post\",\"8_mid\",\"8_post\",\"9_mid\",\"9_post\",\"10_mid\",\"10_post\",\"11_mid\",\"11_post\",\"12_mid\",\"12_post\",\"13_mid\",\"13_post\",\"14_mid\",\"14_post\",\"15_mid\",\"15_post\",\"16_mid\",\"16_post\",\"17_mid\",\"17_post\",\"18_mid\",\"18_post\",\"19_mid\",\"19_post\",\"20_mid\",\"20_post\",\"21_mid\",\"21_post\",\"22_mid\",\"22_post\",\"23_mid\",\"23_post\"],\"xaxis\":\"x\",\"y\":[-12.272729873657227,-16.82433319091797,-18.107336044311523,-20.844703674316406,-26.77091407775879,-22.48716926574707,-21.353801727294922,-20.09342384338379,-22.028057098388672,-22.046897888183594,-19.89040184020996,-25.053499221801758,-26.802688598632812,-28.600833892822266,-27.330720901489258,-32.60243606567383,-34.92995071411133,-34.77741622924805,-36.3925666809082,-36.59775924682617,-40.850830078125,-30.812278747558594,-31.52001190185547,-39.97379684448242,-41.56608963012695,-56.72724151611328,-53.508399963378906,-66.63668823242188,-75.39334106445312,-77.16191101074219,-72.80706787109375,-84.91265106201172,-79.59709930419922,-94.02545166015625,-85.85401153564453,-111.1788330078125,-115.44180297851562,-111.55162048339844,-110.0516357421875,-149.6420135498047,-148.24545288085938,-203.33364868164062,-194.24375915527344,-232.22439575195312,-223.55209350585938,-240.04025268554688,-227.78277587890625,-237.6885986328125,-12.272729873657227,-16.82433319091797,-18.107336044311523,-20.844703674316406,-26.77091407775879,-22.48716926574707,-21.353801727294922,-20.09342384338379,-22.028057098388672,-22.046897888183594,-19.89040184020996,-25.053499221801758,-26.802688598632812,-28.600833892822266,-27.330720901489258,-32.60243606567383,-34.92995071411133,-34.77741622924805,-36.3925666809082,-36.59775924682617,-40.850830078125,-30.812278747558594,-31.52001190185547,-39.97379684448242,-41.56608963012695,-56.72724151611328,-53.508399963378906,-66.63668823242188,-75.39334106445312,-77.16191101074219,-72.80706787109375,-84.91265106201172,-79.59709930419922,-94.02545166015625,-85.85401153564453,-111.1788330078125,-115.44180297851562,-111.55162048339844,-110.0516357421875,-149.6420135498047,-148.24545288085938,-203.33364868164062,-194.24375915527344,-232.22439575195312,-223.55209350585938,-240.04025268554688,-227.78277587890625,-237.6885986328125],\"yaxis\":\"y\",\"type\":\"scatter\"},{\"hovertemplate\":\"Model=GPT2_100\\u003cbr\\u003eLayer=%{x}\\u003cbr\\u003eneg_logprob=%{y}\\u003cextra\\u003e\\u003c\\u002fextra\\u003e\",\"legendgroup\":\"GPT2_100\",\"line\":{\"color\":\"#19d3f3\",\"dash\":\"solid\"},\"marker\":{\"symbol\":\"circle\"},\"mode\":\"lines\",\"name\":\"GPT2_100\",\"orientation\":\"v\",\"showlegend\":true,\"x\":[\"0_mid\",\"0_post\",\"1_mid\",\"1_post\",\"2_mid\",\"2_post\",\"3_mid\",\"3_post\",\"4_mid\",\"4_post\",\"5_mid\",\"5_post\",\"6_mid\",\"6_post\",\"7_mid\",\"7_post\",\"8_mid\",\"8_post\",\"9_mid\",\"9_post\",\"10_mid\",\"10_post\",\"11_mid\",\"11_post\",\"12_mid\",\"12_post\",\"13_mid\",\"13_post\",\"14_mid\",\"14_post\",\"15_mid\",\"15_post\",\"16_mid\",\"16_post\",\"17_mid\",\"17_post\",\"18_mid\",\"18_post\",\"19_mid\",\"19_post\",\"20_mid\",\"20_post\",\"21_mid\",\"21_post\",\"22_mid\",\"22_post\",\"23_mid\",\"23_post\",\"0_mid\",\"0_post\",\"1_mid\",\"1_post\",\"2_mid\",\"2_post\",\"3_mid\",\"3_post\",\"4_mid\",\"4_post\",\"5_mid\",\"5_post\",\"6_mid\",\"6_post\",\"7_mid\",\"7_post\",\"8_mid\",\"8_post\",\"9_mid\",\"9_post\",\"10_mid\",\"10_post\",\"11_mid\",\"11_post\",\"12_mid\",\"12_post\",\"13_mid\",\"13_post\",\"14_mid\",\"14_post\",\"15_mid\",\"15_post\",\"16_mid\",\"16_post\",\"17_mid\",\"17_post\",\"18_mid\",\"18_post\",\"19_mid\",\"19_post\",\"20_mid\",\"20_post\",\"21_mid\",\"21_post\",\"22_mid\",\"22_post\",\"23_mid\",\"23_post\"],\"xaxis\":\"x\",\"y\":[-12.172462463378906,-18.030698776245117,-18.056324005126953,-20.90578269958496,-24.768762588500977,-22.366825103759766,-22.661867141723633,-22.121984481811523,-23.04697036743164,-24.552127838134766,-22.806428909301758,-24.973255157470703,-26.29595184326172,-28.615829467773438,-27.712182998657227,-34.701026916503906,-36.20005798339844,-38.655128479003906,-45.52229309082031,-43.64921951293945,-45.18822479248047,-43.7896728515625,-48.4866943359375,-55.044288635253906,-63.20591735839844,-80.95704650878906,-80.84011840820312,-94.91874694824219,-111.27403259277344,-116.78466796875,-115.568603515625,-129.39015197753906,-128.92568969726562,-139.83657836914062,-140.70492553710938,-165.995361328125,-166.651123046875,-173.7855682373047,-182.74607849121094,-231.31439208984375,-231.28253173828125,-287.256103515625,-279.30975341796875,-328.0137634277344,-326.8556213378906,-351.00628662109375,-359.01995849609375,-403.806396484375,-12.172462463378906,-18.030698776245117,-18.056324005126953,-20.90578269958496,-24.768762588500977,-22.366825103759766,-22.661867141723633,-22.121984481811523,-23.04697036743164,-24.552127838134766,-22.806428909301758,-24.973255157470703,-26.29595184326172,-28.615829467773438,-27.712182998657227,-34.701026916503906,-36.20005798339844,-38.655128479003906,-45.52229309082031,-43.64921951293945,-45.18822479248047,-43.7896728515625,-48.4866943359375,-55.044288635253906,-63.20591735839844,-80.95704650878906,-80.84011840820312,-94.91874694824219,-111.27403259277344,-116.78466796875,-115.568603515625,-129.39015197753906,-128.92568969726562,-139.83657836914062,-140.70492553710938,-165.995361328125,-166.651123046875,-173.7855682373047,-182.74607849121094,-231.31439208984375,-231.28253173828125,-287.256103515625,-279.30975341796875,-328.0137634277344,-326.8556213378906,-351.00628662109375,-359.01995849609375,-403.806396484375],\"yaxis\":\"y\",\"type\":\"scatter\"},{\"hovertemplate\":\"Model=IFT_10000\\u003cbr\\u003eLayer=%{x}\\u003cbr\\u003eneg_logprob=%{y}\\u003cextra\\u003e\\u003c\\u002fextra\\u003e\",\"legendgroup\":\"IFT_10000\",\"line\":{\"color\":\"#FF6692\",\"dash\":\"solid\"},\"marker\":{\"symbol\":\"circle\"},\"mode\":\"lines\",\"name\":\"IFT_10000\",\"orientation\":\"v\",\"showlegend\":true,\"x\":[\"0_mid\",\"0_post\",\"1_mid\",\"1_post\",\"2_mid\",\"2_post\",\"3_mid\",\"3_post\",\"4_mid\",\"4_post\",\"5_mid\",\"5_post\",\"6_mid\",\"6_post\",\"7_mid\",\"7_post\",\"8_mid\",\"8_post\",\"9_mid\",\"9_post\",\"10_mid\",\"10_post\",\"11_mid\",\"11_post\",\"12_mid\",\"12_post\",\"13_mid\",\"13_post\",\"14_mid\",\"14_post\",\"15_mid\",\"15_post\",\"16_mid\",\"16_post\",\"17_mid\",\"17_post\",\"18_mid\",\"18_post\",\"19_mid\",\"19_post\",\"20_mid\",\"20_post\",\"21_mid\",\"21_post\",\"22_mid\",\"22_post\",\"23_mid\",\"23_post\"],\"xaxis\":\"x\",\"y\":[-10.613897323608398,-15.709345817565918,-15.420232772827148,-12.854691505432129,-21.55870246887207,-21.784854888916016,-22.84901237487793,-26.885950088500977,-25.569448471069336,-28.6048583984375,-29.83341407775879,-38.49061965942383,-37.127315521240234,-37.31679153442383,-39.94065475463867,-38.57331848144531,-43.524749755859375,-41.55408477783203,-32.522342681884766,-33.69763946533203,-34.169734954833984,-28.885169982910156,-26.431373596191406,-39.66811752319336,-43.956153869628906,-69.2667236328125,-70.36064147949219,-84.93943786621094,-104.06574249267578,-96.79641723632812,-100.98452758789062,-119.4480209350586,-124.37767028808594,-142.7933807373047,-141.51612854003906,-191.82943725585938,-196.86709594726562,-200.2119903564453,-215.6710662841797,-253.69497680664062,-261.54327392578125,-340.1097106933594,-355.7527770996094,-431.5653991699219,-461.3270263671875,-562.5108642578125,-597.3640747070312,-633.7399291992188],\"yaxis\":\"y\",\"type\":\"scatter\"},{\"hovertemplate\":\"Model=GPT2_10000\\u003cbr\\u003eLayer=%{x}\\u003cbr\\u003eneg_logprob=%{y}\\u003cextra\\u003e\\u003c\\u002fextra\\u003e\",\"legendgroup\":\"GPT2_10000\",\"line\":{\"color\":\"#B6E880\",\"dash\":\"solid\"},\"marker\":{\"symbol\":\"circle\"},\"mode\":\"lines\",\"name\":\"GPT2_10000\",\"orientation\":\"v\",\"showlegend\":true,\"x\":[\"0_mid\",\"0_post\",\"1_mid\",\"1_post\",\"2_mid\",\"2_post\",\"3_mid\",\"3_post\",\"4_mid\",\"4_post\",\"5_mid\",\"5_post\",\"6_mid\",\"6_post\",\"7_mid\",\"7_post\",\"8_mid\",\"8_post\",\"9_mid\",\"9_post\",\"10_mid\",\"10_post\",\"11_mid\",\"11_post\",\"12_mid\",\"12_post\",\"13_mid\",\"13_post\",\"14_mid\",\"14_post\",\"15_mid\",\"15_post\",\"16_mid\",\"16_post\",\"17_mid\",\"17_post\",\"18_mid\",\"18_post\",\"19_mid\",\"19_post\",\"20_mid\",\"20_post\",\"21_mid\",\"21_post\",\"22_mid\",\"22_post\",\"23_mid\",\"23_post\"],\"xaxis\":\"x\",\"y\":[-10.700817108154297,-16.99837875366211,-16.22111701965332,-13.072615623474121,-20.395063400268555,-21.432666778564453,-23.52968978881836,-29.111391067504883,-27.687847137451172,-31.806806564331055,-33.950748443603516,-38.3590202331543,-35.78883361816406,-35.99364471435547,-38.187950134277344,-41.454219818115234,-42.874568939208984,-41.925926208496094,-40.042198181152344,-39.33420181274414,-40.27979278564453,-40.54299545288086,-46.03423309326172,-56.343605041503906,-62.287208557128906,-86.97369384765625,-89.75373840332031,-105.28485107421875,-134.17303466796875,-135.35687255859375,-140.8376007080078,-162.3754119873047,-165.5699005126953,-177.7743682861328,-184.33316040039062,-222.03529357910156,-229.2327117919922,-246.01348876953125,-261.3719177246094,-309.8471984863281,-316.85406494140625,-390.68621826171875,-382.79901123046875,-449.1477355957031,-455.3064880371094,-526.7801513671875,-545.360595703125,-659.0186767578125],\"yaxis\":\"y\",\"type\":\"scatter\"}],                        {\"template\":{\"data\":{\"histogram2dcontour\":[{\"type\":\"histogram2dcontour\",\"colorbar\":{\"outlinewidth\":0,\"ticks\":\"\"},\"colorscale\":[[0.0,\"#0d0887\"],[0.1111111111111111,\"#46039f\"],[0.2222222222222222,\"#7201a8\"],[0.3333333333333333,\"#9c179e\"],[0.4444444444444444,\"#bd3786\"],[0.5555555555555556,\"#d8576b\"],[0.6666666666666666,\"#ed7953\"],[0.7777777777777778,\"#fb9f3a\"],[0.8888888888888888,\"#fdca26\"],[1.0,\"#f0f921\"]]}],\"choropleth\":[{\"type\":\"choropleth\",\"colorbar\":{\"outlinewidth\":0,\"ticks\":\"\"}}],\"histogram2d\":[{\"type\":\"histogram2d\",\"colorbar\":{\"outlinewidth\":0,\"ticks\":\"\"},\"colorscale\":[[0.0,\"#0d0887\"],[0.1111111111111111,\"#46039f\"],[0.2222222222222222,\"#7201a8\"],[0.3333333333333333,\"#9c179e\"],[0.4444444444444444,\"#bd3786\"],[0.5555555555555556,\"#d8576b\"],[0.6666666666666666,\"#ed7953\"],[0.7777777777777778,\"#fb9f3a\"],[0.8888888888888888,\"#fdca26\"],[1.0,\"#f0f921\"]]}],\"heatmap\":[{\"type\":\"heatmap\",\"colorbar\":{\"outlinewidth\":0,\"ticks\":\"\"},\"colorscale\":[[0.0,\"#0d0887\"],[0.1111111111111111,\"#46039f\"],[0.2222222222222222,\"#7201a8\"],[0.3333333333333333,\"#9c179e\"],[0.4444444444444444,\"#bd3786\"],[0.5555555555555556,\"#d8576b\"],[0.6666666666666666,\"#ed7953\"],[0.7777777777777778,\"#fb9f3a\"],[0.8888888888888888,\"#fdca26\"],[1.0,\"#f0f921\"]]}],\"heatmapgl\":[{\"type\":\"heatmapgl\",\"colorbar\":{\"outlinewidth\":0,\"ticks\":\"\"},\"colorscale\":[[0.0,\"#0d0887\"],[0.1111111111111111,\"#46039f\"],[0.2222222222222222,\"#7201a8\"],[0.3333333333333333,\"#9c179e\"],[0.4444444444444444,\"#bd3786\"],[0.5555555555555556,\"#d8576b\"],[0.6666666666666666,\"#ed7953\"],[0.7777777777777778,\"#fb9f3a\"],[0.8888888888888888,\"#fdca26\"],[1.0,\"#f0f921\"]]}],\"contourcarpet\":[{\"type\":\"contourcarpet\",\"colorbar\":{\"outlinewidth\":0,\"ticks\":\"\"}}],\"contour\":[{\"type\":\"contour\",\"colorbar\":{\"outlinewidth\":0,\"ticks\":\"\"},\"colorscale\":[[0.0,\"#0d0887\"],[0.1111111111111111,\"#46039f\"],[0.2222222222222222,\"#7201a8\"],[0.3333333333333333,\"#9c179e\"],[0.4444444444444444,\"#bd3786\"],[0.5555555555555556,\"#d8576b\"],[0.6666666666666666,\"#ed7953\"],[0.7777777777777778,\"#fb9f3a\"],[0.8888888888888888,\"#fdca26\"],[1.0,\"#f0f921\"]]}],\"surface\":[{\"type\":\"surface\",\"colorbar\":{\"outlinewidth\":0,\"ticks\":\"\"},\"colorscale\":[[0.0,\"#0d0887\"],[0.1111111111111111,\"#46039f\"],[0.2222222222222222,\"#7201a8\"],[0.3333333333333333,\"#9c179e\"],[0.4444444444444444,\"#bd3786\"],[0.5555555555555556,\"#d8576b\"],[0.6666666666666666,\"#ed7953\"],[0.7777777777777778,\"#fb9f3a\"],[0.8888888888888888,\"#fdca26\"],[1.0,\"#f0f921\"]]}],\"mesh3d\":[{\"type\":\"mesh3d\",\"colorbar\":{\"outlinewidth\":0,\"ticks\":\"\"}}],\"scatter\":[{\"fillpattern\":{\"fillmode\":\"overlay\",\"size\":10,\"solidity\":0.2},\"type\":\"scatter\"}],\"parcoords\":[{\"type\":\"parcoords\",\"line\":{\"colorbar\":{\"outlinewidth\":0,\"ticks\":\"\"}}}],\"scatterpolargl\":[{\"type\":\"scatterpolargl\",\"marker\":{\"colorbar\":{\"outlinewidth\":0,\"ticks\":\"\"}}}],\"bar\":[{\"error_x\":{\"color\":\"#2a3f5f\"},\"error_y\":{\"color\":\"#2a3f5f\"},\"marker\":{\"line\":{\"color\":\"#E5ECF6\",\"width\":0.5},\"pattern\":{\"fillmode\":\"overlay\",\"size\":10,\"solidity\":0.2}},\"type\":\"bar\"}],\"scattergeo\":[{\"type\":\"scattergeo\",\"marker\":{\"colorbar\":{\"outlinewidth\":0,\"ticks\":\"\"}}}],\"scatterpolar\":[{\"type\":\"scatterpolar\",\"marker\":{\"colorbar\":{\"outlinewidth\":0,\"ticks\":\"\"}}}],\"histogram\":[{\"marker\":{\"pattern\":{\"fillmode\":\"overlay\",\"size\":10,\"solidity\":0.2}},\"type\":\"histogram\"}],\"scattergl\":[{\"type\":\"scattergl\",\"marker\":{\"colorbar\":{\"outlinewidth\":0,\"ticks\":\"\"}}}],\"scatter3d\":[{\"type\":\"scatter3d\",\"line\":{\"colorbar\":{\"outlinewidth\":0,\"ticks\":\"\"}},\"marker\":{\"colorbar\":{\"outlinewidth\":0,\"ticks\":\"\"}}}],\"scattermapbox\":[{\"type\":\"scattermapbox\",\"marker\":{\"colorbar\":{\"outlinewidth\":0,\"ticks\":\"\"}}}],\"scatterternary\":[{\"type\":\"scatterternary\",\"marker\":{\"colorbar\":{\"outlinewidth\":0,\"ticks\":\"\"}}}],\"scattercarpet\":[{\"type\":\"scattercarpet\",\"marker\":{\"colorbar\":{\"outlinewidth\":0,\"ticks\":\"\"}}}],\"carpet\":[{\"aaxis\":{\"endlinecolor\":\"#2a3f5f\",\"gridcolor\":\"white\",\"linecolor\":\"white\",\"minorgridcolor\":\"white\",\"startlinecolor\":\"#2a3f5f\"},\"baxis\":{\"endlinecolor\":\"#2a3f5f\",\"gridcolor\":\"white\",\"linecolor\":\"white\",\"minorgridcolor\":\"white\",\"startlinecolor\":\"#2a3f5f\"},\"type\":\"carpet\"}],\"table\":[{\"cells\":{\"fill\":{\"color\":\"#EBF0F8\"},\"line\":{\"color\":\"white\"}},\"header\":{\"fill\":{\"color\":\"#C8D4E3\"},\"line\":{\"color\":\"white\"}},\"type\":\"table\"}],\"barpolar\":[{\"marker\":{\"line\":{\"color\":\"#E5ECF6\",\"width\":0.5},\"pattern\":{\"fillmode\":\"overlay\",\"size\":10,\"solidity\":0.2}},\"type\":\"barpolar\"}],\"pie\":[{\"automargin\":true,\"type\":\"pie\"}]},\"layout\":{\"autotypenumbers\":\"strict\",\"colorway\":[\"#636efa\",\"#EF553B\",\"#00cc96\",\"#ab63fa\",\"#FFA15A\",\"#19d3f3\",\"#FF6692\",\"#B6E880\",\"#FF97FF\",\"#FECB52\"],\"font\":{\"color\":\"#2a3f5f\"},\"hovermode\":\"closest\",\"hoverlabel\":{\"align\":\"left\"},\"paper_bgcolor\":\"white\",\"plot_bgcolor\":\"#E5ECF6\",\"polar\":{\"bgcolor\":\"#E5ECF6\",\"angularaxis\":{\"gridcolor\":\"white\",\"linecolor\":\"white\",\"ticks\":\"\"},\"radialaxis\":{\"gridcolor\":\"white\",\"linecolor\":\"white\",\"ticks\":\"\"}},\"ternary\":{\"bgcolor\":\"#E5ECF6\",\"aaxis\":{\"gridcolor\":\"white\",\"linecolor\":\"white\",\"ticks\":\"\"},\"baxis\":{\"gridcolor\":\"white\",\"linecolor\":\"white\",\"ticks\":\"\"},\"caxis\":{\"gridcolor\":\"white\",\"linecolor\":\"white\",\"ticks\":\"\"}},\"coloraxis\":{\"colorbar\":{\"outlinewidth\":0,\"ticks\":\"\"}},\"colorscale\":{\"sequential\":[[0.0,\"#0d0887\"],[0.1111111111111111,\"#46039f\"],[0.2222222222222222,\"#7201a8\"],[0.3333333333333333,\"#9c179e\"],[0.4444444444444444,\"#bd3786\"],[0.5555555555555556,\"#d8576b\"],[0.6666666666666666,\"#ed7953\"],[0.7777777777777778,\"#fb9f3a\"],[0.8888888888888888,\"#fdca26\"],[1.0,\"#f0f921\"]],\"sequentialminus\":[[0.0,\"#0d0887\"],[0.1111111111111111,\"#46039f\"],[0.2222222222222222,\"#7201a8\"],[0.3333333333333333,\"#9c179e\"],[0.4444444444444444,\"#bd3786\"],[0.5555555555555556,\"#d8576b\"],[0.6666666666666666,\"#ed7953\"],[0.7777777777777778,\"#fb9f3a\"],[0.8888888888888888,\"#fdca26\"],[1.0,\"#f0f921\"]],\"diverging\":[[0,\"#8e0152\"],[0.1,\"#c51b7d\"],[0.2,\"#de77ae\"],[0.3,\"#f1b6da\"],[0.4,\"#fde0ef\"],[0.5,\"#f7f7f7\"],[0.6,\"#e6f5d0\"],[0.7,\"#b8e186\"],[0.8,\"#7fbc41\"],[0.9,\"#4d9221\"],[1,\"#276419\"]]},\"xaxis\":{\"gridcolor\":\"white\",\"linecolor\":\"white\",\"ticks\":\"\",\"title\":{\"standoff\":15},\"zerolinecolor\":\"white\",\"automargin\":true,\"zerolinewidth\":2},\"yaxis\":{\"gridcolor\":\"white\",\"linecolor\":\"white\",\"ticks\":\"\",\"title\":{\"standoff\":15},\"zerolinecolor\":\"white\",\"automargin\":true,\"zerolinewidth\":2},\"scene\":{\"xaxis\":{\"backgroundcolor\":\"#E5ECF6\",\"gridcolor\":\"white\",\"linecolor\":\"white\",\"showbackground\":true,\"ticks\":\"\",\"zerolinecolor\":\"white\",\"gridwidth\":2},\"yaxis\":{\"backgroundcolor\":\"#E5ECF6\",\"gridcolor\":\"white\",\"linecolor\":\"white\",\"showbackground\":true,\"ticks\":\"\",\"zerolinecolor\":\"white\",\"gridwidth\":2},\"zaxis\":{\"backgroundcolor\":\"#E5ECF6\",\"gridcolor\":\"white\",\"linecolor\":\"white\",\"showbackground\":true,\"ticks\":\"\",\"zerolinecolor\":\"white\",\"gridwidth\":2}},\"shapedefaults\":{\"line\":{\"color\":\"#2a3f5f\"}},\"annotationdefaults\":{\"arrowcolor\":\"#2a3f5f\",\"arrowhead\":0,\"arrowwidth\":1},\"geo\":{\"bgcolor\":\"white\",\"landcolor\":\"#E5ECF6\",\"subunitcolor\":\"white\",\"showland\":true,\"showlakes\":true,\"lakecolor\":\"white\"},\"title\":{\"x\":0.05},\"mapbox\":{\"style\":\"light\"}}},\"xaxis\":{\"anchor\":\"y\",\"domain\":[0.0,1.0],\"title\":{\"text\":\"Layer\"}},\"yaxis\":{\"anchor\":\"x\",\"domain\":[0.0,1.0],\"title\":{\"text\":\"neg_logprob\"}},\"legend\":{\"title\":{\"text\":\"Model\"},\"tracegroupgap\":0},\"margin\":{\"t\":60}},                        {\"responsive\": true}                    ).then(function(){\n",
       "                            \n",
       "var gd = document.getElementById('78c33e3c-01be-435b-b5b5-ee0990f1d706');\n",
       "var x = new MutationObserver(function (mutations, observer) {{\n",
       "        var display = window.getComputedStyle(gd).display;\n",
       "        if (!display || display === 'none') {{\n",
       "            console.log([gd, 'removed!']);\n",
       "            Plotly.purge(gd);\n",
       "            observer.disconnect();\n",
       "        }}\n",
       "}});\n",
       "\n",
       "// Listen for the removal of the full notebook cells\n",
       "var notebookContainer = gd.closest('#notebook-container');\n",
       "if (notebookContainer) {{\n",
       "    x.observe(notebookContainer, {childList: true});\n",
       "}}\n",
       "\n",
       "// Listen for the clearing of the current output cell\n",
       "var outputEl = gd.closest('.output');\n",
       "if (outputEl) {{\n",
       "    x.observe(outputEl, {childList: true});\n",
       "}}\n",
       "\n",
       "                        })                };                });            </script>        </div>"
      ]
     },
     "metadata": {},
     "output_type": "display_data"
    },
    {
     "name": "stdout",
     "output_type": "stream",
     "text": [
      "zzzzzzzzzzzzzzzzzzzzzzzzzzzzzzzzzzzzzzzzzzzzzzzzzzzz\n",
      "Neg tok: 12040\n",
      "Tok id: 5879\n"
     ]
    },
    {
     "data": {
      "application/vnd.plotly.v1+json": {
       "config": {
        "plotlyServerURL": "https://plot.ly"
       },
       "data": [
        {
         "hovertemplate": "Model=IFT<br>Layer=%{x}<br>neg_logprob=%{y}<extra></extra>",
         "legendgroup": "IFT",
         "line": {
          "color": "#636efa",
          "dash": "solid"
         },
         "marker": {
          "symbol": "circle"
         },
         "mode": "lines",
         "name": "IFT",
         "orientation": "v",
         "showlegend": true,
         "type": "scatter",
         "x": [
          "0_mid",
          "0_post",
          "1_mid",
          "1_post",
          "2_mid",
          "2_post",
          "3_mid",
          "3_post",
          "4_mid",
          "4_post",
          "5_mid",
          "5_post",
          "6_mid",
          "6_post",
          "7_mid",
          "7_post",
          "8_mid",
          "8_post",
          "9_mid",
          "9_post",
          "10_mid",
          "10_post",
          "11_mid",
          "11_post",
          "12_mid",
          "12_post",
          "13_mid",
          "13_post",
          "14_mid",
          "14_post",
          "15_mid",
          "15_post",
          "16_mid",
          "16_post",
          "17_mid",
          "17_post",
          "18_mid",
          "18_post",
          "19_mid",
          "19_post",
          "20_mid",
          "20_post",
          "21_mid",
          "21_post",
          "22_mid",
          "22_post",
          "23_mid",
          "23_post"
         ],
         "xaxis": "x",
         "y": [
          -10.673839569091797,
          -9.890148162841797,
          -10.494213104248047,
          -12.110987663269043,
          -13.057568550109863,
          -12.235231399536133,
          -10.754222869873047,
          -15.034364700317383,
          -16.042539596557617,
          -19.248010635375977,
          -23.944347381591797,
          -26.009449005126953,
          -28.457517623901367,
          -31.85520362854004,
          -34.26556396484375,
          -34.05903625488281,
          -40.171077728271484,
          -34.54261016845703,
          -34.582218170166016,
          -35.96146774291992,
          -32.080322265625,
          -30.260698318481445,
          -31.895977020263672,
          -28.257299423217773,
          -19.585124969482422,
          -21.209903717041016,
          -7.143075466156006,
          -10.636374473571777,
          -8.15210247039795,
          -15.570087432861328,
          -10.258685111999512,
          -7.088171482086182,
          -8.160760879516602,
          -7.353188514709473,
          -10.274439811706543,
          -10.129558563232422,
          -14.897007942199707,
          -12.069917678833008,
          -11.919353485107422,
          -14.915314674377441,
          -0.0021096847485750914,
          0,
          0,
          0,
          -15.35479736328125,
          -0.028042858466506004,
          -0.0022597985807806253,
          0
         ],
         "yaxis": "y"
        },
        {
         "hovertemplate": "Model=GPT2<br>Layer=%{x}<br>neg_logprob=%{y}<extra></extra>",
         "legendgroup": "GPT2",
         "line": {
          "color": "#EF553B",
          "dash": "solid"
         },
         "marker": {
          "symbol": "circle"
         },
         "mode": "lines",
         "name": "GPT2",
         "orientation": "v",
         "showlegend": true,
         "type": "scatter",
         "x": [
          "0_mid",
          "0_post",
          "1_mid",
          "1_post",
          "2_mid",
          "2_post",
          "3_mid",
          "3_post",
          "4_mid",
          "4_post",
          "5_mid",
          "5_post",
          "6_mid",
          "6_post",
          "7_mid",
          "7_post",
          "8_mid",
          "8_post",
          "9_mid",
          "9_post",
          "10_mid",
          "10_post",
          "11_mid",
          "11_post",
          "12_mid",
          "12_post",
          "13_mid",
          "13_post",
          "14_mid",
          "14_post",
          "15_mid",
          "15_post",
          "16_mid",
          "16_post",
          "17_mid",
          "17_post",
          "18_mid",
          "18_post",
          "19_mid",
          "19_post",
          "20_mid",
          "20_post",
          "21_mid",
          "21_post",
          "22_mid",
          "22_post",
          "23_mid",
          "23_post"
         ],
         "xaxis": "x",
         "y": [
          -10.679248809814453,
          -10.179519653320312,
          -10.928162574768066,
          -11.322054862976074,
          -12.358539581298828,
          -13.69716739654541,
          -12.895094871520996,
          -16.716510772705078,
          -18.064496994018555,
          -21.47728729248047,
          -26.613048553466797,
          -29.14742088317871,
          -32.942081451416016,
          -36.96643829345703,
          -38.80076599121094,
          -38.90946960449219,
          -38.44982147216797,
          -35.96458435058594,
          -33.76709747314453,
          -35.130008697509766,
          -32.18107223510742,
          -26.31011390686035,
          -23.79729652404785,
          -20.136354446411133,
          -10.715664863586426,
          -11.042290687561035,
          -0.0001599660754436627,
          -0.00017152745567727834,
          -7.092700980138034e-05,
          -0.00046754872892051935,
          -0.0001984637783607468,
          -1.9788545614574105e-05,
          -2.3841855067985307e-07,
          0,
          0,
          0,
          0,
          0,
          0,
          0,
          0,
          0,
          0,
          0,
          0,
          0,
          0,
          0
         ],
         "yaxis": "y"
        },
        {
         "hovertemplate": "Model=IFT_10<br>Layer=%{x}<br>neg_logprob=%{y}<extra></extra>",
         "legendgroup": "IFT_10",
         "line": {
          "color": "#00cc96",
          "dash": "solid"
         },
         "marker": {
          "symbol": "circle"
         },
         "mode": "lines",
         "name": "IFT_10",
         "orientation": "v",
         "showlegend": true,
         "type": "scatter",
         "x": [
          "0_mid",
          "0_post",
          "1_mid",
          "1_post",
          "2_mid",
          "2_post",
          "3_mid",
          "3_post",
          "4_mid",
          "4_post",
          "5_mid",
          "5_post",
          "6_mid",
          "6_post",
          "7_mid",
          "7_post",
          "8_mid",
          "8_post",
          "9_mid",
          "9_post",
          "10_mid",
          "10_post",
          "11_mid",
          "11_post",
          "12_mid",
          "12_post",
          "13_mid",
          "13_post",
          "14_mid",
          "14_post",
          "15_mid",
          "15_post",
          "16_mid",
          "16_post",
          "17_mid",
          "17_post",
          "18_mid",
          "18_post",
          "19_mid",
          "19_post",
          "20_mid",
          "20_post",
          "21_mid",
          "21_post",
          "22_mid",
          "22_post",
          "23_mid",
          "23_post"
         ],
         "xaxis": "x",
         "y": [
          -10.555257797241211,
          -12.783472061157227,
          -12.554191589355469,
          -13.254439353942871,
          -11.100794792175293,
          -12.60714340209961,
          -11.529266357421875,
          -13.28727912902832,
          -14.129297256469727,
          -14.475479125976562,
          -16.502412796020508,
          -18.80923843383789,
          -18.914520263671875,
          -25.312442779541016,
          -28.302867889404297,
          -25.56613540649414,
          -31.435012817382812,
          -22.726463317871094,
          -21.24519157409668,
          -17.33510971069336,
          -15.896504402160645,
          -27.474668502807617,
          -28.35083770751953,
          -31.972105026245117,
          -27.203441619873047,
          -23.69321060180664,
          -27.24578285217285,
          -29.25721549987793,
          -25.21445083618164,
          -35.7968635559082,
          -24.814212799072266,
          -17.973134994506836,
          -8.830011367797852,
          -0.30460456013679504,
          -0.005412092432379723,
          -7.313395977020264,
          -15.92992115020752,
          -13.471590042114258,
          -16.283824920654297,
          -8.098023414611816,
          -10.19192886352539,
          -42.091888427734375,
          -37.050537109375,
          -61.912689208984375,
          -77.80545043945312,
          -79.3599853515625,
          -74.69100952148438,
          -82.07098388671875
         ],
         "yaxis": "y"
        },
        {
         "hovertemplate": "Model=GPT2_10<br>Layer=%{x}<br>neg_logprob=%{y}<extra></extra>",
         "legendgroup": "GPT2_10",
         "line": {
          "color": "#ab63fa",
          "dash": "solid"
         },
         "marker": {
          "symbol": "circle"
         },
         "mode": "lines",
         "name": "GPT2_10",
         "orientation": "v",
         "showlegend": true,
         "type": "scatter",
         "x": [
          "0_mid",
          "0_post",
          "1_mid",
          "1_post",
          "2_mid",
          "2_post",
          "3_mid",
          "3_post",
          "4_mid",
          "4_post",
          "5_mid",
          "5_post",
          "6_mid",
          "6_post",
          "7_mid",
          "7_post",
          "8_mid",
          "8_post",
          "9_mid",
          "9_post",
          "10_mid",
          "10_post",
          "11_mid",
          "11_post",
          "12_mid",
          "12_post",
          "13_mid",
          "13_post",
          "14_mid",
          "14_post",
          "15_mid",
          "15_post",
          "16_mid",
          "16_post",
          "17_mid",
          "17_post",
          "18_mid",
          "18_post",
          "19_mid",
          "19_post",
          "20_mid",
          "20_post",
          "21_mid",
          "21_post",
          "22_mid",
          "22_post",
          "23_mid",
          "23_post"
         ],
         "xaxis": "x",
         "y": [
          -10.503545761108398,
          -13.867156982421875,
          -13.11774730682373,
          -13.66503620147705,
          -14.658819198608398,
          -16.234378814697266,
          -16.317058563232422,
          -16.400630950927734,
          -16.418533325195312,
          -18.05122184753418,
          -19.230525970458984,
          -22.511255264282227,
          -25.573457717895508,
          -31.63760757446289,
          -33.985042572021484,
          -33.17881774902344,
          -36.091346740722656,
          -29.838708877563477,
          -27.10096549987793,
          -24.861553192138672,
          -25.25909996032715,
          -28.303125381469727,
          -28.366296768188477,
          -30.31492042541504,
          -25.041370391845703,
          -24.45268440246582,
          -31.50218963623047,
          -29.589984893798828,
          -23.31846046447754,
          -30.500940322875977,
          -25.556243896484375,
          -26.95090103149414,
          -28.211959838867188,
          -28.666717529296875,
          -38.21522521972656,
          -47.55860900878906,
          -58.905303955078125,
          -65.49307250976562,
          -73.02603149414062,
          -67.66815185546875,
          -116.2843017578125,
          -143.32720947265625,
          -151.63592529296875,
          -174.36349487304688,
          -179.47970581054688,
          -188.06939697265625,
          -193.63790893554688,
          -199.51242065429688
         ],
         "yaxis": "y"
        },
        {
         "hovertemplate": "Model=IFT_100<br>Layer=%{x}<br>neg_logprob=%{y}<extra></extra>",
         "legendgroup": "IFT_100",
         "line": {
          "color": "#FFA15A",
          "dash": "solid"
         },
         "marker": {
          "symbol": "circle"
         },
         "mode": "lines",
         "name": "IFT_100",
         "orientation": "v",
         "showlegend": true,
         "type": "scatter",
         "x": [
          "0_mid",
          "0_post",
          "1_mid",
          "1_post",
          "2_mid",
          "2_post",
          "3_mid",
          "3_post",
          "4_mid",
          "4_post",
          "5_mid",
          "5_post",
          "6_mid",
          "6_post",
          "7_mid",
          "7_post",
          "8_mid",
          "8_post",
          "9_mid",
          "9_post",
          "10_mid",
          "10_post",
          "11_mid",
          "11_post",
          "12_mid",
          "12_post",
          "13_mid",
          "13_post",
          "14_mid",
          "14_post",
          "15_mid",
          "15_post",
          "16_mid",
          "16_post",
          "17_mid",
          "17_post",
          "18_mid",
          "18_post",
          "19_mid",
          "19_post",
          "20_mid",
          "20_post",
          "21_mid",
          "21_post",
          "22_mid",
          "22_post",
          "23_mid",
          "23_post",
          "0_mid",
          "0_post",
          "1_mid",
          "1_post",
          "2_mid",
          "2_post",
          "3_mid",
          "3_post",
          "4_mid",
          "4_post",
          "5_mid",
          "5_post",
          "6_mid",
          "6_post",
          "7_mid",
          "7_post",
          "8_mid",
          "8_post",
          "9_mid",
          "9_post",
          "10_mid",
          "10_post",
          "11_mid",
          "11_post",
          "12_mid",
          "12_post",
          "13_mid",
          "13_post",
          "14_mid",
          "14_post",
          "15_mid",
          "15_post",
          "16_mid",
          "16_post",
          "17_mid",
          "17_post",
          "18_mid",
          "18_post",
          "19_mid",
          "19_post",
          "20_mid",
          "20_post",
          "21_mid",
          "21_post",
          "22_mid",
          "22_post",
          "23_mid",
          "23_post"
         ],
         "xaxis": "x",
         "y": [
          -10.922550201416016,
          -16.595569610595703,
          -16.258447647094727,
          -19.41379165649414,
          -23.65938377380371,
          -18.499679565429688,
          -22.582977294921875,
          -21.922775268554688,
          -22.617942810058594,
          -24.517091751098633,
          -26.174142837524414,
          -26.320327758789062,
          -29.36749839782715,
          -30.71868133544922,
          -32.166297912597656,
          -34.668670654296875,
          -37.720706939697266,
          -37.851566314697266,
          -42.202816009521484,
          -47.1334114074707,
          -49.484214782714844,
          -49.693885803222656,
          -55.728309631347656,
          -55.46238708496094,
          -55.126407623291016,
          -52.54422378540039,
          -48.97559356689453,
          -51.424354553222656,
          -51.82503128051758,
          -55.49307632446289,
          -52.36952590942383,
          -58.311859130859375,
          -63.30213165283203,
          -69.25881958007812,
          -75.5215072631836,
          -78.57840728759766,
          -88.1836166381836,
          -89.1097412109375,
          -97.34684753417969,
          -102.04280090332031,
          -109.68512725830078,
          -148.7620849609375,
          -159.34573364257812,
          -193.26231384277344,
          -204.9850311279297,
          -207.40594482421875,
          -203.43719482421875,
          -222.09228515625,
          -10.922550201416016,
          -16.595569610595703,
          -16.258447647094727,
          -19.41379165649414,
          -23.65938377380371,
          -18.499679565429688,
          -22.582977294921875,
          -21.922775268554688,
          -22.617942810058594,
          -24.517091751098633,
          -26.174142837524414,
          -26.320327758789062,
          -29.36749839782715,
          -30.71868133544922,
          -32.166297912597656,
          -34.668670654296875,
          -37.720706939697266,
          -37.851566314697266,
          -42.202816009521484,
          -47.1334114074707,
          -49.484214782714844,
          -49.693885803222656,
          -55.728309631347656,
          -55.46238708496094,
          -55.126407623291016,
          -52.54422378540039,
          -48.97559356689453,
          -51.424354553222656,
          -51.82503128051758,
          -55.49307632446289,
          -52.36952590942383,
          -58.311859130859375,
          -63.30213165283203,
          -69.25881958007812,
          -75.5215072631836,
          -78.57840728759766,
          -88.1836166381836,
          -89.1097412109375,
          -97.34684753417969,
          -102.04280090332031,
          -109.68512725830078,
          -148.7620849609375,
          -159.34573364257812,
          -193.26231384277344,
          -204.9850311279297,
          -207.40594482421875,
          -203.43719482421875,
          -222.09228515625
         ],
         "yaxis": "y"
        },
        {
         "hovertemplate": "Model=GPT2_100<br>Layer=%{x}<br>neg_logprob=%{y}<extra></extra>",
         "legendgroup": "GPT2_100",
         "line": {
          "color": "#19d3f3",
          "dash": "solid"
         },
         "marker": {
          "symbol": "circle"
         },
         "mode": "lines",
         "name": "GPT2_100",
         "orientation": "v",
         "showlegend": true,
         "type": "scatter",
         "x": [
          "0_mid",
          "0_post",
          "1_mid",
          "1_post",
          "2_mid",
          "2_post",
          "3_mid",
          "3_post",
          "4_mid",
          "4_post",
          "5_mid",
          "5_post",
          "6_mid",
          "6_post",
          "7_mid",
          "7_post",
          "8_mid",
          "8_post",
          "9_mid",
          "9_post",
          "10_mid",
          "10_post",
          "11_mid",
          "11_post",
          "12_mid",
          "12_post",
          "13_mid",
          "13_post",
          "14_mid",
          "14_post",
          "15_mid",
          "15_post",
          "16_mid",
          "16_post",
          "17_mid",
          "17_post",
          "18_mid",
          "18_post",
          "19_mid",
          "19_post",
          "20_mid",
          "20_post",
          "21_mid",
          "21_post",
          "22_mid",
          "22_post",
          "23_mid",
          "23_post",
          "0_mid",
          "0_post",
          "1_mid",
          "1_post",
          "2_mid",
          "2_post",
          "3_mid",
          "3_post",
          "4_mid",
          "4_post",
          "5_mid",
          "5_post",
          "6_mid",
          "6_post",
          "7_mid",
          "7_post",
          "8_mid",
          "8_post",
          "9_mid",
          "9_post",
          "10_mid",
          "10_post",
          "11_mid",
          "11_post",
          "12_mid",
          "12_post",
          "13_mid",
          "13_post",
          "14_mid",
          "14_post",
          "15_mid",
          "15_post",
          "16_mid",
          "16_post",
          "17_mid",
          "17_post",
          "18_mid",
          "18_post",
          "19_mid",
          "19_post",
          "20_mid",
          "20_post",
          "21_mid",
          "21_post",
          "22_mid",
          "22_post",
          "23_mid",
          "23_post"
         ],
         "xaxis": "x",
         "y": [
          -10.860313415527344,
          -16.99212646484375,
          -17.00420570373535,
          -19.310171127319336,
          -23.27460479736328,
          -21.35831642150879,
          -26.07878875732422,
          -25.232196807861328,
          -27.107280731201172,
          -29.29257583618164,
          -30.903823852539062,
          -31.923295974731445,
          -35.32709884643555,
          -37.722434997558594,
          -38.47610855102539,
          -42.20500946044922,
          -40.274566650390625,
          -41.2918586730957,
          -45.41035079956055,
          -48.27616500854492,
          -54.65170669555664,
          -54.236167907714844,
          -60.34040451049805,
          -59.6821403503418,
          -64.10652923583984,
          -67.07337188720703,
          -67.27135467529297,
          -66.37288665771484,
          -69.04328918457031,
          -71.66519165039062,
          -71.71453857421875,
          -81.41405487060547,
          -85.1082763671875,
          -87.48052978515625,
          -98.65190124511719,
          -99.76362609863281,
          -110.64718627929688,
          -121.65412902832031,
          -130.15023803710938,
          -134.80838012695312,
          -181.10723876953125,
          -217.48434448242188,
          -230.4514923095703,
          -263.9214782714844,
          -265.19659423828125,
          -276.28778076171875,
          -280.94671630859375,
          -285.7757263183594,
          -10.860313415527344,
          -16.99212646484375,
          -17.00420570373535,
          -19.310171127319336,
          -23.27460479736328,
          -21.35831642150879,
          -26.07878875732422,
          -25.232196807861328,
          -27.107280731201172,
          -29.29257583618164,
          -30.903823852539062,
          -31.923295974731445,
          -35.32709884643555,
          -37.722434997558594,
          -38.47610855102539,
          -42.20500946044922,
          -40.274566650390625,
          -41.2918586730957,
          -45.41035079956055,
          -48.27616500854492,
          -54.65170669555664,
          -54.236167907714844,
          -60.34040451049805,
          -59.6821403503418,
          -64.10652923583984,
          -67.07337188720703,
          -67.27135467529297,
          -66.37288665771484,
          -69.04328918457031,
          -71.66519165039062,
          -71.71453857421875,
          -81.41405487060547,
          -85.1082763671875,
          -87.48052978515625,
          -98.65190124511719,
          -99.76362609863281,
          -110.64718627929688,
          -121.65412902832031,
          -130.15023803710938,
          -134.80838012695312,
          -181.10723876953125,
          -217.48434448242188,
          -230.4514923095703,
          -263.9214782714844,
          -265.19659423828125,
          -276.28778076171875,
          -280.94671630859375,
          -285.7757263183594
         ],
         "yaxis": "y"
        },
        {
         "hovertemplate": "Model=IFT_10000<br>Layer=%{x}<br>neg_logprob=%{y}<extra></extra>",
         "legendgroup": "IFT_10000",
         "line": {
          "color": "#FF6692",
          "dash": "solid"
         },
         "marker": {
          "symbol": "circle"
         },
         "mode": "lines",
         "name": "IFT_10000",
         "orientation": "v",
         "showlegend": true,
         "type": "scatter",
         "x": [
          "0_mid",
          "0_post",
          "1_mid",
          "1_post",
          "2_mid",
          "2_post",
          "3_mid",
          "3_post",
          "4_mid",
          "4_post",
          "5_mid",
          "5_post",
          "6_mid",
          "6_post",
          "7_mid",
          "7_post",
          "8_mid",
          "8_post",
          "9_mid",
          "9_post",
          "10_mid",
          "10_post",
          "11_mid",
          "11_post",
          "12_mid",
          "12_post",
          "13_mid",
          "13_post",
          "14_mid",
          "14_post",
          "15_mid",
          "15_post",
          "16_mid",
          "16_post",
          "17_mid",
          "17_post",
          "18_mid",
          "18_post",
          "19_mid",
          "19_post",
          "20_mid",
          "20_post",
          "21_mid",
          "21_post",
          "22_mid",
          "22_post",
          "23_mid",
          "23_post"
         ],
         "xaxis": "x",
         "y": [
          -11.552133560180664,
          -25.954242706298828,
          -27.7714786529541,
          -29.403806686401367,
          -33.15214157104492,
          -28.209793090820312,
          -29.58898162841797,
          -32.04304504394531,
          -33.08289337158203,
          -34.13561248779297,
          -36.42280197143555,
          -36.47673034667969,
          -40.33759689331055,
          -46.08506774902344,
          -55.7940673828125,
          -45.22642517089844,
          -47.56187438964844,
          -50.40773010253906,
          -56.58993911743164,
          -61.65350341796875,
          -63.915985107421875,
          -60.65143966674805,
          -68.80377960205078,
          -67.46104431152344,
          -69.6550064086914,
          -76.44192504882812,
          -80.11299133300781,
          -95.48416137695312,
          -98.1353759765625,
          -115.48509979248047,
          -118.818603515625,
          -130.7485809326172,
          -145.46632385253906,
          -154.49713134765625,
          -159.53948974609375,
          -168.41432189941406,
          -179.01596069335938,
          -191.2777557373047,
          -197.10687255859375,
          -213.37692260742188,
          -216.52108764648438,
          -273.4033203125,
          -278.93487548828125,
          -326.288330078125,
          -345.3245849609375,
          -412.4761047363281,
          -417.50738525390625,
          -469.9396667480469
         ],
         "yaxis": "y"
        },
        {
         "hovertemplate": "Model=GPT2_10000<br>Layer=%{x}<br>neg_logprob=%{y}<extra></extra>",
         "legendgroup": "GPT2_10000",
         "line": {
          "color": "#B6E880",
          "dash": "solid"
         },
         "marker": {
          "symbol": "circle"
         },
         "mode": "lines",
         "name": "GPT2_10000",
         "orientation": "v",
         "showlegend": true,
         "type": "scatter",
         "x": [
          "0_mid",
          "0_post",
          "1_mid",
          "1_post",
          "2_mid",
          "2_post",
          "3_mid",
          "3_post",
          "4_mid",
          "4_post",
          "5_mid",
          "5_post",
          "6_mid",
          "6_post",
          "7_mid",
          "7_post",
          "8_mid",
          "8_post",
          "9_mid",
          "9_post",
          "10_mid",
          "10_post",
          "11_mid",
          "11_post",
          "12_mid",
          "12_post",
          "13_mid",
          "13_post",
          "14_mid",
          "14_post",
          "15_mid",
          "15_post",
          "16_mid",
          "16_post",
          "17_mid",
          "17_post",
          "18_mid",
          "18_post",
          "19_mid",
          "19_post",
          "20_mid",
          "20_post",
          "21_mid",
          "21_post",
          "22_mid",
          "22_post",
          "23_mid",
          "23_post"
         ],
         "xaxis": "x",
         "y": [
          -11.603717803955078,
          -26.87187385559082,
          -29.610706329345703,
          -31.33108901977539,
          -34.20671463012695,
          -33.75468826293945,
          -36.670352935791016,
          -37.43151092529297,
          -39.07124710083008,
          -41.065738677978516,
          -41.55496597290039,
          -43.157894134521484,
          -48.173316955566406,
          -56.5179443359375,
          -62.25107192993164,
          -56.23307418823242,
          -54.37059020996094,
          -55.2508659362793,
          -59.975563049316406,
          -63.48002624511719,
          -70.96228790283203,
          -73.1343994140625,
          -82.5851821899414,
          -86.8498306274414,
          -100.44896697998047,
          -102.88851165771484,
          -109.69015502929688,
          -120.0953369140625,
          -123.4939956665039,
          -134.763916015625,
          -137.98524475097656,
          -157.27877807617188,
          -169.4637451171875,
          -187.0460662841797,
          -200.22515869140625,
          -212.33322143554688,
          -226.36534118652344,
          -253.44790649414062,
          -264.5777587890625,
          -284.12030029296875,
          -324.7613525390625,
          -386.90484619140625,
          -405.0877990722656,
          -457.2536926269531,
          -464.80706787109375,
          -525.1539306640625,
          -536.9564819335938,
          -570.8509521484375
         ],
         "yaxis": "y"
        }
       ],
       "layout": {
        "legend": {
         "title": {
          "text": "Model"
         },
         "tracegroupgap": 0
        },
        "margin": {
         "t": 60
        },
        "template": {
         "data": {
          "bar": [
           {
            "error_x": {
             "color": "#2a3f5f"
            },
            "error_y": {
             "color": "#2a3f5f"
            },
            "marker": {
             "line": {
              "color": "#E5ECF6",
              "width": 0.5
             },
             "pattern": {
              "fillmode": "overlay",
              "size": 10,
              "solidity": 0.2
             }
            },
            "type": "bar"
           }
          ],
          "barpolar": [
           {
            "marker": {
             "line": {
              "color": "#E5ECF6",
              "width": 0.5
             },
             "pattern": {
              "fillmode": "overlay",
              "size": 10,
              "solidity": 0.2
             }
            },
            "type": "barpolar"
           }
          ],
          "carpet": [
           {
            "aaxis": {
             "endlinecolor": "#2a3f5f",
             "gridcolor": "white",
             "linecolor": "white",
             "minorgridcolor": "white",
             "startlinecolor": "#2a3f5f"
            },
            "baxis": {
             "endlinecolor": "#2a3f5f",
             "gridcolor": "white",
             "linecolor": "white",
             "minorgridcolor": "white",
             "startlinecolor": "#2a3f5f"
            },
            "type": "carpet"
           }
          ],
          "choropleth": [
           {
            "colorbar": {
             "outlinewidth": 0,
             "ticks": ""
            },
            "type": "choropleth"
           }
          ],
          "contour": [
           {
            "colorbar": {
             "outlinewidth": 0,
             "ticks": ""
            },
            "colorscale": [
             [
              0,
              "#0d0887"
             ],
             [
              0.1111111111111111,
              "#46039f"
             ],
             [
              0.2222222222222222,
              "#7201a8"
             ],
             [
              0.3333333333333333,
              "#9c179e"
             ],
             [
              0.4444444444444444,
              "#bd3786"
             ],
             [
              0.5555555555555556,
              "#d8576b"
             ],
             [
              0.6666666666666666,
              "#ed7953"
             ],
             [
              0.7777777777777778,
              "#fb9f3a"
             ],
             [
              0.8888888888888888,
              "#fdca26"
             ],
             [
              1,
              "#f0f921"
             ]
            ],
            "type": "contour"
           }
          ],
          "contourcarpet": [
           {
            "colorbar": {
             "outlinewidth": 0,
             "ticks": ""
            },
            "type": "contourcarpet"
           }
          ],
          "heatmap": [
           {
            "colorbar": {
             "outlinewidth": 0,
             "ticks": ""
            },
            "colorscale": [
             [
              0,
              "#0d0887"
             ],
             [
              0.1111111111111111,
              "#46039f"
             ],
             [
              0.2222222222222222,
              "#7201a8"
             ],
             [
              0.3333333333333333,
              "#9c179e"
             ],
             [
              0.4444444444444444,
              "#bd3786"
             ],
             [
              0.5555555555555556,
              "#d8576b"
             ],
             [
              0.6666666666666666,
              "#ed7953"
             ],
             [
              0.7777777777777778,
              "#fb9f3a"
             ],
             [
              0.8888888888888888,
              "#fdca26"
             ],
             [
              1,
              "#f0f921"
             ]
            ],
            "type": "heatmap"
           }
          ],
          "heatmapgl": [
           {
            "colorbar": {
             "outlinewidth": 0,
             "ticks": ""
            },
            "colorscale": [
             [
              0,
              "#0d0887"
             ],
             [
              0.1111111111111111,
              "#46039f"
             ],
             [
              0.2222222222222222,
              "#7201a8"
             ],
             [
              0.3333333333333333,
              "#9c179e"
             ],
             [
              0.4444444444444444,
              "#bd3786"
             ],
             [
              0.5555555555555556,
              "#d8576b"
             ],
             [
              0.6666666666666666,
              "#ed7953"
             ],
             [
              0.7777777777777778,
              "#fb9f3a"
             ],
             [
              0.8888888888888888,
              "#fdca26"
             ],
             [
              1,
              "#f0f921"
             ]
            ],
            "type": "heatmapgl"
           }
          ],
          "histogram": [
           {
            "marker": {
             "pattern": {
              "fillmode": "overlay",
              "size": 10,
              "solidity": 0.2
             }
            },
            "type": "histogram"
           }
          ],
          "histogram2d": [
           {
            "colorbar": {
             "outlinewidth": 0,
             "ticks": ""
            },
            "colorscale": [
             [
              0,
              "#0d0887"
             ],
             [
              0.1111111111111111,
              "#46039f"
             ],
             [
              0.2222222222222222,
              "#7201a8"
             ],
             [
              0.3333333333333333,
              "#9c179e"
             ],
             [
              0.4444444444444444,
              "#bd3786"
             ],
             [
              0.5555555555555556,
              "#d8576b"
             ],
             [
              0.6666666666666666,
              "#ed7953"
             ],
             [
              0.7777777777777778,
              "#fb9f3a"
             ],
             [
              0.8888888888888888,
              "#fdca26"
             ],
             [
              1,
              "#f0f921"
             ]
            ],
            "type": "histogram2d"
           }
          ],
          "histogram2dcontour": [
           {
            "colorbar": {
             "outlinewidth": 0,
             "ticks": ""
            },
            "colorscale": [
             [
              0,
              "#0d0887"
             ],
             [
              0.1111111111111111,
              "#46039f"
             ],
             [
              0.2222222222222222,
              "#7201a8"
             ],
             [
              0.3333333333333333,
              "#9c179e"
             ],
             [
              0.4444444444444444,
              "#bd3786"
             ],
             [
              0.5555555555555556,
              "#d8576b"
             ],
             [
              0.6666666666666666,
              "#ed7953"
             ],
             [
              0.7777777777777778,
              "#fb9f3a"
             ],
             [
              0.8888888888888888,
              "#fdca26"
             ],
             [
              1,
              "#f0f921"
             ]
            ],
            "type": "histogram2dcontour"
           }
          ],
          "mesh3d": [
           {
            "colorbar": {
             "outlinewidth": 0,
             "ticks": ""
            },
            "type": "mesh3d"
           }
          ],
          "parcoords": [
           {
            "line": {
             "colorbar": {
              "outlinewidth": 0,
              "ticks": ""
             }
            },
            "type": "parcoords"
           }
          ],
          "pie": [
           {
            "automargin": true,
            "type": "pie"
           }
          ],
          "scatter": [
           {
            "fillpattern": {
             "fillmode": "overlay",
             "size": 10,
             "solidity": 0.2
            },
            "type": "scatter"
           }
          ],
          "scatter3d": [
           {
            "line": {
             "colorbar": {
              "outlinewidth": 0,
              "ticks": ""
             }
            },
            "marker": {
             "colorbar": {
              "outlinewidth": 0,
              "ticks": ""
             }
            },
            "type": "scatter3d"
           }
          ],
          "scattercarpet": [
           {
            "marker": {
             "colorbar": {
              "outlinewidth": 0,
              "ticks": ""
             }
            },
            "type": "scattercarpet"
           }
          ],
          "scattergeo": [
           {
            "marker": {
             "colorbar": {
              "outlinewidth": 0,
              "ticks": ""
             }
            },
            "type": "scattergeo"
           }
          ],
          "scattergl": [
           {
            "marker": {
             "colorbar": {
              "outlinewidth": 0,
              "ticks": ""
             }
            },
            "type": "scattergl"
           }
          ],
          "scattermapbox": [
           {
            "marker": {
             "colorbar": {
              "outlinewidth": 0,
              "ticks": ""
             }
            },
            "type": "scattermapbox"
           }
          ],
          "scatterpolar": [
           {
            "marker": {
             "colorbar": {
              "outlinewidth": 0,
              "ticks": ""
             }
            },
            "type": "scatterpolar"
           }
          ],
          "scatterpolargl": [
           {
            "marker": {
             "colorbar": {
              "outlinewidth": 0,
              "ticks": ""
             }
            },
            "type": "scatterpolargl"
           }
          ],
          "scatterternary": [
           {
            "marker": {
             "colorbar": {
              "outlinewidth": 0,
              "ticks": ""
             }
            },
            "type": "scatterternary"
           }
          ],
          "surface": [
           {
            "colorbar": {
             "outlinewidth": 0,
             "ticks": ""
            },
            "colorscale": [
             [
              0,
              "#0d0887"
             ],
             [
              0.1111111111111111,
              "#46039f"
             ],
             [
              0.2222222222222222,
              "#7201a8"
             ],
             [
              0.3333333333333333,
              "#9c179e"
             ],
             [
              0.4444444444444444,
              "#bd3786"
             ],
             [
              0.5555555555555556,
              "#d8576b"
             ],
             [
              0.6666666666666666,
              "#ed7953"
             ],
             [
              0.7777777777777778,
              "#fb9f3a"
             ],
             [
              0.8888888888888888,
              "#fdca26"
             ],
             [
              1,
              "#f0f921"
             ]
            ],
            "type": "surface"
           }
          ],
          "table": [
           {
            "cells": {
             "fill": {
              "color": "#EBF0F8"
             },
             "line": {
              "color": "white"
             }
            },
            "header": {
             "fill": {
              "color": "#C8D4E3"
             },
             "line": {
              "color": "white"
             }
            },
            "type": "table"
           }
          ]
         },
         "layout": {
          "annotationdefaults": {
           "arrowcolor": "#2a3f5f",
           "arrowhead": 0,
           "arrowwidth": 1
          },
          "autotypenumbers": "strict",
          "coloraxis": {
           "colorbar": {
            "outlinewidth": 0,
            "ticks": ""
           }
          },
          "colorscale": {
           "diverging": [
            [
             0,
             "#8e0152"
            ],
            [
             0.1,
             "#c51b7d"
            ],
            [
             0.2,
             "#de77ae"
            ],
            [
             0.3,
             "#f1b6da"
            ],
            [
             0.4,
             "#fde0ef"
            ],
            [
             0.5,
             "#f7f7f7"
            ],
            [
             0.6,
             "#e6f5d0"
            ],
            [
             0.7,
             "#b8e186"
            ],
            [
             0.8,
             "#7fbc41"
            ],
            [
             0.9,
             "#4d9221"
            ],
            [
             1,
             "#276419"
            ]
           ],
           "sequential": [
            [
             0,
             "#0d0887"
            ],
            [
             0.1111111111111111,
             "#46039f"
            ],
            [
             0.2222222222222222,
             "#7201a8"
            ],
            [
             0.3333333333333333,
             "#9c179e"
            ],
            [
             0.4444444444444444,
             "#bd3786"
            ],
            [
             0.5555555555555556,
             "#d8576b"
            ],
            [
             0.6666666666666666,
             "#ed7953"
            ],
            [
             0.7777777777777778,
             "#fb9f3a"
            ],
            [
             0.8888888888888888,
             "#fdca26"
            ],
            [
             1,
             "#f0f921"
            ]
           ],
           "sequentialminus": [
            [
             0,
             "#0d0887"
            ],
            [
             0.1111111111111111,
             "#46039f"
            ],
            [
             0.2222222222222222,
             "#7201a8"
            ],
            [
             0.3333333333333333,
             "#9c179e"
            ],
            [
             0.4444444444444444,
             "#bd3786"
            ],
            [
             0.5555555555555556,
             "#d8576b"
            ],
            [
             0.6666666666666666,
             "#ed7953"
            ],
            [
             0.7777777777777778,
             "#fb9f3a"
            ],
            [
             0.8888888888888888,
             "#fdca26"
            ],
            [
             1,
             "#f0f921"
            ]
           ]
          },
          "colorway": [
           "#636efa",
           "#EF553B",
           "#00cc96",
           "#ab63fa",
           "#FFA15A",
           "#19d3f3",
           "#FF6692",
           "#B6E880",
           "#FF97FF",
           "#FECB52"
          ],
          "font": {
           "color": "#2a3f5f"
          },
          "geo": {
           "bgcolor": "white",
           "lakecolor": "white",
           "landcolor": "#E5ECF6",
           "showlakes": true,
           "showland": true,
           "subunitcolor": "white"
          },
          "hoverlabel": {
           "align": "left"
          },
          "hovermode": "closest",
          "mapbox": {
           "style": "light"
          },
          "paper_bgcolor": "white",
          "plot_bgcolor": "#E5ECF6",
          "polar": {
           "angularaxis": {
            "gridcolor": "white",
            "linecolor": "white",
            "ticks": ""
           },
           "bgcolor": "#E5ECF6",
           "radialaxis": {
            "gridcolor": "white",
            "linecolor": "white",
            "ticks": ""
           }
          },
          "scene": {
           "xaxis": {
            "backgroundcolor": "#E5ECF6",
            "gridcolor": "white",
            "gridwidth": 2,
            "linecolor": "white",
            "showbackground": true,
            "ticks": "",
            "zerolinecolor": "white"
           },
           "yaxis": {
            "backgroundcolor": "#E5ECF6",
            "gridcolor": "white",
            "gridwidth": 2,
            "linecolor": "white",
            "showbackground": true,
            "ticks": "",
            "zerolinecolor": "white"
           },
           "zaxis": {
            "backgroundcolor": "#E5ECF6",
            "gridcolor": "white",
            "gridwidth": 2,
            "linecolor": "white",
            "showbackground": true,
            "ticks": "",
            "zerolinecolor": "white"
           }
          },
          "shapedefaults": {
           "line": {
            "color": "#2a3f5f"
           }
          },
          "ternary": {
           "aaxis": {
            "gridcolor": "white",
            "linecolor": "white",
            "ticks": ""
           },
           "baxis": {
            "gridcolor": "white",
            "linecolor": "white",
            "ticks": ""
           },
           "bgcolor": "#E5ECF6",
           "caxis": {
            "gridcolor": "white",
            "linecolor": "white",
            "ticks": ""
           }
          },
          "title": {
           "x": 0.05
          },
          "xaxis": {
           "automargin": true,
           "gridcolor": "white",
           "linecolor": "white",
           "ticks": "",
           "title": {
            "standoff": 15
           },
           "zerolinecolor": "white",
           "zerolinewidth": 2
          },
          "yaxis": {
           "automargin": true,
           "gridcolor": "white",
           "linecolor": "white",
           "ticks": "",
           "title": {
            "standoff": 15
           },
           "zerolinecolor": "white",
           "zerolinewidth": 2
          }
         }
        },
        "xaxis": {
         "anchor": "y",
         "domain": [
          0,
          1
         ],
         "title": {
          "text": "Layer"
         }
        },
        "yaxis": {
         "anchor": "x",
         "domain": [
          0,
          1
         ],
         "title": {
          "text": "neg_logprob"
         }
        }
       }
      },
      "text/html": [
       "<div>                            <div id=\"4c83c079-d352-4b3c-91c6-1414b28e8f37\" class=\"plotly-graph-div\" style=\"height:525px; width:100%;\"></div>            <script type=\"text/javascript\">                require([\"plotly\"], function(Plotly) {                    window.PLOTLYENV=window.PLOTLYENV || {};                                    if (document.getElementById(\"4c83c079-d352-4b3c-91c6-1414b28e8f37\")) {                    Plotly.newPlot(                        \"4c83c079-d352-4b3c-91c6-1414b28e8f37\",                        [{\"hovertemplate\":\"Model=IFT\\u003cbr\\u003eLayer=%{x}\\u003cbr\\u003eneg_logprob=%{y}\\u003cextra\\u003e\\u003c\\u002fextra\\u003e\",\"legendgroup\":\"IFT\",\"line\":{\"color\":\"#636efa\",\"dash\":\"solid\"},\"marker\":{\"symbol\":\"circle\"},\"mode\":\"lines\",\"name\":\"IFT\",\"orientation\":\"v\",\"showlegend\":true,\"x\":[\"0_mid\",\"0_post\",\"1_mid\",\"1_post\",\"2_mid\",\"2_post\",\"3_mid\",\"3_post\",\"4_mid\",\"4_post\",\"5_mid\",\"5_post\",\"6_mid\",\"6_post\",\"7_mid\",\"7_post\",\"8_mid\",\"8_post\",\"9_mid\",\"9_post\",\"10_mid\",\"10_post\",\"11_mid\",\"11_post\",\"12_mid\",\"12_post\",\"13_mid\",\"13_post\",\"14_mid\",\"14_post\",\"15_mid\",\"15_post\",\"16_mid\",\"16_post\",\"17_mid\",\"17_post\",\"18_mid\",\"18_post\",\"19_mid\",\"19_post\",\"20_mid\",\"20_post\",\"21_mid\",\"21_post\",\"22_mid\",\"22_post\",\"23_mid\",\"23_post\"],\"xaxis\":\"x\",\"y\":[-10.673839569091797,-9.890148162841797,-10.494213104248047,-12.110987663269043,-13.057568550109863,-12.235231399536133,-10.754222869873047,-15.034364700317383,-16.042539596557617,-19.248010635375977,-23.944347381591797,-26.009449005126953,-28.457517623901367,-31.85520362854004,-34.26556396484375,-34.05903625488281,-40.171077728271484,-34.54261016845703,-34.582218170166016,-35.96146774291992,-32.080322265625,-30.260698318481445,-31.895977020263672,-28.257299423217773,-19.585124969482422,-21.209903717041016,-7.143075466156006,-10.636374473571777,-8.15210247039795,-15.570087432861328,-10.258685111999512,-7.088171482086182,-8.160760879516602,-7.353188514709473,-10.274439811706543,-10.129558563232422,-14.897007942199707,-12.069917678833008,-11.919353485107422,-14.915314674377441,-0.0021096847485750914,0.0,0.0,0.0,-15.35479736328125,-0.028042858466506004,-0.0022597985807806253,0.0],\"yaxis\":\"y\",\"type\":\"scatter\"},{\"hovertemplate\":\"Model=GPT2\\u003cbr\\u003eLayer=%{x}\\u003cbr\\u003eneg_logprob=%{y}\\u003cextra\\u003e\\u003c\\u002fextra\\u003e\",\"legendgroup\":\"GPT2\",\"line\":{\"color\":\"#EF553B\",\"dash\":\"solid\"},\"marker\":{\"symbol\":\"circle\"},\"mode\":\"lines\",\"name\":\"GPT2\",\"orientation\":\"v\",\"showlegend\":true,\"x\":[\"0_mid\",\"0_post\",\"1_mid\",\"1_post\",\"2_mid\",\"2_post\",\"3_mid\",\"3_post\",\"4_mid\",\"4_post\",\"5_mid\",\"5_post\",\"6_mid\",\"6_post\",\"7_mid\",\"7_post\",\"8_mid\",\"8_post\",\"9_mid\",\"9_post\",\"10_mid\",\"10_post\",\"11_mid\",\"11_post\",\"12_mid\",\"12_post\",\"13_mid\",\"13_post\",\"14_mid\",\"14_post\",\"15_mid\",\"15_post\",\"16_mid\",\"16_post\",\"17_mid\",\"17_post\",\"18_mid\",\"18_post\",\"19_mid\",\"19_post\",\"20_mid\",\"20_post\",\"21_mid\",\"21_post\",\"22_mid\",\"22_post\",\"23_mid\",\"23_post\"],\"xaxis\":\"x\",\"y\":[-10.679248809814453,-10.179519653320312,-10.928162574768066,-11.322054862976074,-12.358539581298828,-13.69716739654541,-12.895094871520996,-16.716510772705078,-18.064496994018555,-21.47728729248047,-26.613048553466797,-29.14742088317871,-32.942081451416016,-36.96643829345703,-38.80076599121094,-38.90946960449219,-38.44982147216797,-35.96458435058594,-33.76709747314453,-35.130008697509766,-32.18107223510742,-26.31011390686035,-23.79729652404785,-20.136354446411133,-10.715664863586426,-11.042290687561035,-0.0001599660754436627,-0.00017152745567727834,-7.092700980138034e-05,-0.00046754872892051935,-0.0001984637783607468,-1.9788545614574105e-05,-2.3841855067985307e-07,0.0,0.0,0.0,0.0,0.0,0.0,0.0,0.0,0.0,0.0,0.0,0.0,0.0,0.0,0.0],\"yaxis\":\"y\",\"type\":\"scatter\"},{\"hovertemplate\":\"Model=IFT_10\\u003cbr\\u003eLayer=%{x}\\u003cbr\\u003eneg_logprob=%{y}\\u003cextra\\u003e\\u003c\\u002fextra\\u003e\",\"legendgroup\":\"IFT_10\",\"line\":{\"color\":\"#00cc96\",\"dash\":\"solid\"},\"marker\":{\"symbol\":\"circle\"},\"mode\":\"lines\",\"name\":\"IFT_10\",\"orientation\":\"v\",\"showlegend\":true,\"x\":[\"0_mid\",\"0_post\",\"1_mid\",\"1_post\",\"2_mid\",\"2_post\",\"3_mid\",\"3_post\",\"4_mid\",\"4_post\",\"5_mid\",\"5_post\",\"6_mid\",\"6_post\",\"7_mid\",\"7_post\",\"8_mid\",\"8_post\",\"9_mid\",\"9_post\",\"10_mid\",\"10_post\",\"11_mid\",\"11_post\",\"12_mid\",\"12_post\",\"13_mid\",\"13_post\",\"14_mid\",\"14_post\",\"15_mid\",\"15_post\",\"16_mid\",\"16_post\",\"17_mid\",\"17_post\",\"18_mid\",\"18_post\",\"19_mid\",\"19_post\",\"20_mid\",\"20_post\",\"21_mid\",\"21_post\",\"22_mid\",\"22_post\",\"23_mid\",\"23_post\"],\"xaxis\":\"x\",\"y\":[-10.555257797241211,-12.783472061157227,-12.554191589355469,-13.254439353942871,-11.100794792175293,-12.60714340209961,-11.529266357421875,-13.28727912902832,-14.129297256469727,-14.475479125976562,-16.502412796020508,-18.80923843383789,-18.914520263671875,-25.312442779541016,-28.302867889404297,-25.56613540649414,-31.435012817382812,-22.726463317871094,-21.24519157409668,-17.33510971069336,-15.896504402160645,-27.474668502807617,-28.35083770751953,-31.972105026245117,-27.203441619873047,-23.69321060180664,-27.24578285217285,-29.25721549987793,-25.21445083618164,-35.7968635559082,-24.814212799072266,-17.973134994506836,-8.830011367797852,-0.30460456013679504,-0.005412092432379723,-7.313395977020264,-15.92992115020752,-13.471590042114258,-16.283824920654297,-8.098023414611816,-10.19192886352539,-42.091888427734375,-37.050537109375,-61.912689208984375,-77.80545043945312,-79.3599853515625,-74.69100952148438,-82.07098388671875],\"yaxis\":\"y\",\"type\":\"scatter\"},{\"hovertemplate\":\"Model=GPT2_10\\u003cbr\\u003eLayer=%{x}\\u003cbr\\u003eneg_logprob=%{y}\\u003cextra\\u003e\\u003c\\u002fextra\\u003e\",\"legendgroup\":\"GPT2_10\",\"line\":{\"color\":\"#ab63fa\",\"dash\":\"solid\"},\"marker\":{\"symbol\":\"circle\"},\"mode\":\"lines\",\"name\":\"GPT2_10\",\"orientation\":\"v\",\"showlegend\":true,\"x\":[\"0_mid\",\"0_post\",\"1_mid\",\"1_post\",\"2_mid\",\"2_post\",\"3_mid\",\"3_post\",\"4_mid\",\"4_post\",\"5_mid\",\"5_post\",\"6_mid\",\"6_post\",\"7_mid\",\"7_post\",\"8_mid\",\"8_post\",\"9_mid\",\"9_post\",\"10_mid\",\"10_post\",\"11_mid\",\"11_post\",\"12_mid\",\"12_post\",\"13_mid\",\"13_post\",\"14_mid\",\"14_post\",\"15_mid\",\"15_post\",\"16_mid\",\"16_post\",\"17_mid\",\"17_post\",\"18_mid\",\"18_post\",\"19_mid\",\"19_post\",\"20_mid\",\"20_post\",\"21_mid\",\"21_post\",\"22_mid\",\"22_post\",\"23_mid\",\"23_post\"],\"xaxis\":\"x\",\"y\":[-10.503545761108398,-13.867156982421875,-13.11774730682373,-13.66503620147705,-14.658819198608398,-16.234378814697266,-16.317058563232422,-16.400630950927734,-16.418533325195312,-18.05122184753418,-19.230525970458984,-22.511255264282227,-25.573457717895508,-31.63760757446289,-33.985042572021484,-33.17881774902344,-36.091346740722656,-29.838708877563477,-27.10096549987793,-24.861553192138672,-25.25909996032715,-28.303125381469727,-28.366296768188477,-30.31492042541504,-25.041370391845703,-24.45268440246582,-31.50218963623047,-29.589984893798828,-23.31846046447754,-30.500940322875977,-25.556243896484375,-26.95090103149414,-28.211959838867188,-28.666717529296875,-38.21522521972656,-47.55860900878906,-58.905303955078125,-65.49307250976562,-73.02603149414062,-67.66815185546875,-116.2843017578125,-143.32720947265625,-151.63592529296875,-174.36349487304688,-179.47970581054688,-188.06939697265625,-193.63790893554688,-199.51242065429688],\"yaxis\":\"y\",\"type\":\"scatter\"},{\"hovertemplate\":\"Model=IFT_100\\u003cbr\\u003eLayer=%{x}\\u003cbr\\u003eneg_logprob=%{y}\\u003cextra\\u003e\\u003c\\u002fextra\\u003e\",\"legendgroup\":\"IFT_100\",\"line\":{\"color\":\"#FFA15A\",\"dash\":\"solid\"},\"marker\":{\"symbol\":\"circle\"},\"mode\":\"lines\",\"name\":\"IFT_100\",\"orientation\":\"v\",\"showlegend\":true,\"x\":[\"0_mid\",\"0_post\",\"1_mid\",\"1_post\",\"2_mid\",\"2_post\",\"3_mid\",\"3_post\",\"4_mid\",\"4_post\",\"5_mid\",\"5_post\",\"6_mid\",\"6_post\",\"7_mid\",\"7_post\",\"8_mid\",\"8_post\",\"9_mid\",\"9_post\",\"10_mid\",\"10_post\",\"11_mid\",\"11_post\",\"12_mid\",\"12_post\",\"13_mid\",\"13_post\",\"14_mid\",\"14_post\",\"15_mid\",\"15_post\",\"16_mid\",\"16_post\",\"17_mid\",\"17_post\",\"18_mid\",\"18_post\",\"19_mid\",\"19_post\",\"20_mid\",\"20_post\",\"21_mid\",\"21_post\",\"22_mid\",\"22_post\",\"23_mid\",\"23_post\",\"0_mid\",\"0_post\",\"1_mid\",\"1_post\",\"2_mid\",\"2_post\",\"3_mid\",\"3_post\",\"4_mid\",\"4_post\",\"5_mid\",\"5_post\",\"6_mid\",\"6_post\",\"7_mid\",\"7_post\",\"8_mid\",\"8_post\",\"9_mid\",\"9_post\",\"10_mid\",\"10_post\",\"11_mid\",\"11_post\",\"12_mid\",\"12_post\",\"13_mid\",\"13_post\",\"14_mid\",\"14_post\",\"15_mid\",\"15_post\",\"16_mid\",\"16_post\",\"17_mid\",\"17_post\",\"18_mid\",\"18_post\",\"19_mid\",\"19_post\",\"20_mid\",\"20_post\",\"21_mid\",\"21_post\",\"22_mid\",\"22_post\",\"23_mid\",\"23_post\"],\"xaxis\":\"x\",\"y\":[-10.922550201416016,-16.595569610595703,-16.258447647094727,-19.41379165649414,-23.65938377380371,-18.499679565429688,-22.582977294921875,-21.922775268554688,-22.617942810058594,-24.517091751098633,-26.174142837524414,-26.320327758789062,-29.36749839782715,-30.71868133544922,-32.166297912597656,-34.668670654296875,-37.720706939697266,-37.851566314697266,-42.202816009521484,-47.1334114074707,-49.484214782714844,-49.693885803222656,-55.728309631347656,-55.46238708496094,-55.126407623291016,-52.54422378540039,-48.97559356689453,-51.424354553222656,-51.82503128051758,-55.49307632446289,-52.36952590942383,-58.311859130859375,-63.30213165283203,-69.25881958007812,-75.5215072631836,-78.57840728759766,-88.1836166381836,-89.1097412109375,-97.34684753417969,-102.04280090332031,-109.68512725830078,-148.7620849609375,-159.34573364257812,-193.26231384277344,-204.9850311279297,-207.40594482421875,-203.43719482421875,-222.09228515625,-10.922550201416016,-16.595569610595703,-16.258447647094727,-19.41379165649414,-23.65938377380371,-18.499679565429688,-22.582977294921875,-21.922775268554688,-22.617942810058594,-24.517091751098633,-26.174142837524414,-26.320327758789062,-29.36749839782715,-30.71868133544922,-32.166297912597656,-34.668670654296875,-37.720706939697266,-37.851566314697266,-42.202816009521484,-47.1334114074707,-49.484214782714844,-49.693885803222656,-55.728309631347656,-55.46238708496094,-55.126407623291016,-52.54422378540039,-48.97559356689453,-51.424354553222656,-51.82503128051758,-55.49307632446289,-52.36952590942383,-58.311859130859375,-63.30213165283203,-69.25881958007812,-75.5215072631836,-78.57840728759766,-88.1836166381836,-89.1097412109375,-97.34684753417969,-102.04280090332031,-109.68512725830078,-148.7620849609375,-159.34573364257812,-193.26231384277344,-204.9850311279297,-207.40594482421875,-203.43719482421875,-222.09228515625],\"yaxis\":\"y\",\"type\":\"scatter\"},{\"hovertemplate\":\"Model=GPT2_100\\u003cbr\\u003eLayer=%{x}\\u003cbr\\u003eneg_logprob=%{y}\\u003cextra\\u003e\\u003c\\u002fextra\\u003e\",\"legendgroup\":\"GPT2_100\",\"line\":{\"color\":\"#19d3f3\",\"dash\":\"solid\"},\"marker\":{\"symbol\":\"circle\"},\"mode\":\"lines\",\"name\":\"GPT2_100\",\"orientation\":\"v\",\"showlegend\":true,\"x\":[\"0_mid\",\"0_post\",\"1_mid\",\"1_post\",\"2_mid\",\"2_post\",\"3_mid\",\"3_post\",\"4_mid\",\"4_post\",\"5_mid\",\"5_post\",\"6_mid\",\"6_post\",\"7_mid\",\"7_post\",\"8_mid\",\"8_post\",\"9_mid\",\"9_post\",\"10_mid\",\"10_post\",\"11_mid\",\"11_post\",\"12_mid\",\"12_post\",\"13_mid\",\"13_post\",\"14_mid\",\"14_post\",\"15_mid\",\"15_post\",\"16_mid\",\"16_post\",\"17_mid\",\"17_post\",\"18_mid\",\"18_post\",\"19_mid\",\"19_post\",\"20_mid\",\"20_post\",\"21_mid\",\"21_post\",\"22_mid\",\"22_post\",\"23_mid\",\"23_post\",\"0_mid\",\"0_post\",\"1_mid\",\"1_post\",\"2_mid\",\"2_post\",\"3_mid\",\"3_post\",\"4_mid\",\"4_post\",\"5_mid\",\"5_post\",\"6_mid\",\"6_post\",\"7_mid\",\"7_post\",\"8_mid\",\"8_post\",\"9_mid\",\"9_post\",\"10_mid\",\"10_post\",\"11_mid\",\"11_post\",\"12_mid\",\"12_post\",\"13_mid\",\"13_post\",\"14_mid\",\"14_post\",\"15_mid\",\"15_post\",\"16_mid\",\"16_post\",\"17_mid\",\"17_post\",\"18_mid\",\"18_post\",\"19_mid\",\"19_post\",\"20_mid\",\"20_post\",\"21_mid\",\"21_post\",\"22_mid\",\"22_post\",\"23_mid\",\"23_post\"],\"xaxis\":\"x\",\"y\":[-10.860313415527344,-16.99212646484375,-17.00420570373535,-19.310171127319336,-23.27460479736328,-21.35831642150879,-26.07878875732422,-25.232196807861328,-27.107280731201172,-29.29257583618164,-30.903823852539062,-31.923295974731445,-35.32709884643555,-37.722434997558594,-38.47610855102539,-42.20500946044922,-40.274566650390625,-41.2918586730957,-45.41035079956055,-48.27616500854492,-54.65170669555664,-54.236167907714844,-60.34040451049805,-59.6821403503418,-64.10652923583984,-67.07337188720703,-67.27135467529297,-66.37288665771484,-69.04328918457031,-71.66519165039062,-71.71453857421875,-81.41405487060547,-85.1082763671875,-87.48052978515625,-98.65190124511719,-99.76362609863281,-110.64718627929688,-121.65412902832031,-130.15023803710938,-134.80838012695312,-181.10723876953125,-217.48434448242188,-230.4514923095703,-263.9214782714844,-265.19659423828125,-276.28778076171875,-280.94671630859375,-285.7757263183594,-10.860313415527344,-16.99212646484375,-17.00420570373535,-19.310171127319336,-23.27460479736328,-21.35831642150879,-26.07878875732422,-25.232196807861328,-27.107280731201172,-29.29257583618164,-30.903823852539062,-31.923295974731445,-35.32709884643555,-37.722434997558594,-38.47610855102539,-42.20500946044922,-40.274566650390625,-41.2918586730957,-45.41035079956055,-48.27616500854492,-54.65170669555664,-54.236167907714844,-60.34040451049805,-59.6821403503418,-64.10652923583984,-67.07337188720703,-67.27135467529297,-66.37288665771484,-69.04328918457031,-71.66519165039062,-71.71453857421875,-81.41405487060547,-85.1082763671875,-87.48052978515625,-98.65190124511719,-99.76362609863281,-110.64718627929688,-121.65412902832031,-130.15023803710938,-134.80838012695312,-181.10723876953125,-217.48434448242188,-230.4514923095703,-263.9214782714844,-265.19659423828125,-276.28778076171875,-280.94671630859375,-285.7757263183594],\"yaxis\":\"y\",\"type\":\"scatter\"},{\"hovertemplate\":\"Model=IFT_10000\\u003cbr\\u003eLayer=%{x}\\u003cbr\\u003eneg_logprob=%{y}\\u003cextra\\u003e\\u003c\\u002fextra\\u003e\",\"legendgroup\":\"IFT_10000\",\"line\":{\"color\":\"#FF6692\",\"dash\":\"solid\"},\"marker\":{\"symbol\":\"circle\"},\"mode\":\"lines\",\"name\":\"IFT_10000\",\"orientation\":\"v\",\"showlegend\":true,\"x\":[\"0_mid\",\"0_post\",\"1_mid\",\"1_post\",\"2_mid\",\"2_post\",\"3_mid\",\"3_post\",\"4_mid\",\"4_post\",\"5_mid\",\"5_post\",\"6_mid\",\"6_post\",\"7_mid\",\"7_post\",\"8_mid\",\"8_post\",\"9_mid\",\"9_post\",\"10_mid\",\"10_post\",\"11_mid\",\"11_post\",\"12_mid\",\"12_post\",\"13_mid\",\"13_post\",\"14_mid\",\"14_post\",\"15_mid\",\"15_post\",\"16_mid\",\"16_post\",\"17_mid\",\"17_post\",\"18_mid\",\"18_post\",\"19_mid\",\"19_post\",\"20_mid\",\"20_post\",\"21_mid\",\"21_post\",\"22_mid\",\"22_post\",\"23_mid\",\"23_post\"],\"xaxis\":\"x\",\"y\":[-11.552133560180664,-25.954242706298828,-27.7714786529541,-29.403806686401367,-33.15214157104492,-28.209793090820312,-29.58898162841797,-32.04304504394531,-33.08289337158203,-34.13561248779297,-36.42280197143555,-36.47673034667969,-40.33759689331055,-46.08506774902344,-55.7940673828125,-45.22642517089844,-47.56187438964844,-50.40773010253906,-56.58993911743164,-61.65350341796875,-63.915985107421875,-60.65143966674805,-68.80377960205078,-67.46104431152344,-69.6550064086914,-76.44192504882812,-80.11299133300781,-95.48416137695312,-98.1353759765625,-115.48509979248047,-118.818603515625,-130.7485809326172,-145.46632385253906,-154.49713134765625,-159.53948974609375,-168.41432189941406,-179.01596069335938,-191.2777557373047,-197.10687255859375,-213.37692260742188,-216.52108764648438,-273.4033203125,-278.93487548828125,-326.288330078125,-345.3245849609375,-412.4761047363281,-417.50738525390625,-469.9396667480469],\"yaxis\":\"y\",\"type\":\"scatter\"},{\"hovertemplate\":\"Model=GPT2_10000\\u003cbr\\u003eLayer=%{x}\\u003cbr\\u003eneg_logprob=%{y}\\u003cextra\\u003e\\u003c\\u002fextra\\u003e\",\"legendgroup\":\"GPT2_10000\",\"line\":{\"color\":\"#B6E880\",\"dash\":\"solid\"},\"marker\":{\"symbol\":\"circle\"},\"mode\":\"lines\",\"name\":\"GPT2_10000\",\"orientation\":\"v\",\"showlegend\":true,\"x\":[\"0_mid\",\"0_post\",\"1_mid\",\"1_post\",\"2_mid\",\"2_post\",\"3_mid\",\"3_post\",\"4_mid\",\"4_post\",\"5_mid\",\"5_post\",\"6_mid\",\"6_post\",\"7_mid\",\"7_post\",\"8_mid\",\"8_post\",\"9_mid\",\"9_post\",\"10_mid\",\"10_post\",\"11_mid\",\"11_post\",\"12_mid\",\"12_post\",\"13_mid\",\"13_post\",\"14_mid\",\"14_post\",\"15_mid\",\"15_post\",\"16_mid\",\"16_post\",\"17_mid\",\"17_post\",\"18_mid\",\"18_post\",\"19_mid\",\"19_post\",\"20_mid\",\"20_post\",\"21_mid\",\"21_post\",\"22_mid\",\"22_post\",\"23_mid\",\"23_post\"],\"xaxis\":\"x\",\"y\":[-11.603717803955078,-26.87187385559082,-29.610706329345703,-31.33108901977539,-34.20671463012695,-33.75468826293945,-36.670352935791016,-37.43151092529297,-39.07124710083008,-41.065738677978516,-41.55496597290039,-43.157894134521484,-48.173316955566406,-56.5179443359375,-62.25107192993164,-56.23307418823242,-54.37059020996094,-55.2508659362793,-59.975563049316406,-63.48002624511719,-70.96228790283203,-73.1343994140625,-82.5851821899414,-86.8498306274414,-100.44896697998047,-102.88851165771484,-109.69015502929688,-120.0953369140625,-123.4939956665039,-134.763916015625,-137.98524475097656,-157.27877807617188,-169.4637451171875,-187.0460662841797,-200.22515869140625,-212.33322143554688,-226.36534118652344,-253.44790649414062,-264.5777587890625,-284.12030029296875,-324.7613525390625,-386.90484619140625,-405.0877990722656,-457.2536926269531,-464.80706787109375,-525.1539306640625,-536.9564819335938,-570.8509521484375],\"yaxis\":\"y\",\"type\":\"scatter\"}],                        {\"template\":{\"data\":{\"histogram2dcontour\":[{\"type\":\"histogram2dcontour\",\"colorbar\":{\"outlinewidth\":0,\"ticks\":\"\"},\"colorscale\":[[0.0,\"#0d0887\"],[0.1111111111111111,\"#46039f\"],[0.2222222222222222,\"#7201a8\"],[0.3333333333333333,\"#9c179e\"],[0.4444444444444444,\"#bd3786\"],[0.5555555555555556,\"#d8576b\"],[0.6666666666666666,\"#ed7953\"],[0.7777777777777778,\"#fb9f3a\"],[0.8888888888888888,\"#fdca26\"],[1.0,\"#f0f921\"]]}],\"choropleth\":[{\"type\":\"choropleth\",\"colorbar\":{\"outlinewidth\":0,\"ticks\":\"\"}}],\"histogram2d\":[{\"type\":\"histogram2d\",\"colorbar\":{\"outlinewidth\":0,\"ticks\":\"\"},\"colorscale\":[[0.0,\"#0d0887\"],[0.1111111111111111,\"#46039f\"],[0.2222222222222222,\"#7201a8\"],[0.3333333333333333,\"#9c179e\"],[0.4444444444444444,\"#bd3786\"],[0.5555555555555556,\"#d8576b\"],[0.6666666666666666,\"#ed7953\"],[0.7777777777777778,\"#fb9f3a\"],[0.8888888888888888,\"#fdca26\"],[1.0,\"#f0f921\"]]}],\"heatmap\":[{\"type\":\"heatmap\",\"colorbar\":{\"outlinewidth\":0,\"ticks\":\"\"},\"colorscale\":[[0.0,\"#0d0887\"],[0.1111111111111111,\"#46039f\"],[0.2222222222222222,\"#7201a8\"],[0.3333333333333333,\"#9c179e\"],[0.4444444444444444,\"#bd3786\"],[0.5555555555555556,\"#d8576b\"],[0.6666666666666666,\"#ed7953\"],[0.7777777777777778,\"#fb9f3a\"],[0.8888888888888888,\"#fdca26\"],[1.0,\"#f0f921\"]]}],\"heatmapgl\":[{\"type\":\"heatmapgl\",\"colorbar\":{\"outlinewidth\":0,\"ticks\":\"\"},\"colorscale\":[[0.0,\"#0d0887\"],[0.1111111111111111,\"#46039f\"],[0.2222222222222222,\"#7201a8\"],[0.3333333333333333,\"#9c179e\"],[0.4444444444444444,\"#bd3786\"],[0.5555555555555556,\"#d8576b\"],[0.6666666666666666,\"#ed7953\"],[0.7777777777777778,\"#fb9f3a\"],[0.8888888888888888,\"#fdca26\"],[1.0,\"#f0f921\"]]}],\"contourcarpet\":[{\"type\":\"contourcarpet\",\"colorbar\":{\"outlinewidth\":0,\"ticks\":\"\"}}],\"contour\":[{\"type\":\"contour\",\"colorbar\":{\"outlinewidth\":0,\"ticks\":\"\"},\"colorscale\":[[0.0,\"#0d0887\"],[0.1111111111111111,\"#46039f\"],[0.2222222222222222,\"#7201a8\"],[0.3333333333333333,\"#9c179e\"],[0.4444444444444444,\"#bd3786\"],[0.5555555555555556,\"#d8576b\"],[0.6666666666666666,\"#ed7953\"],[0.7777777777777778,\"#fb9f3a\"],[0.8888888888888888,\"#fdca26\"],[1.0,\"#f0f921\"]]}],\"surface\":[{\"type\":\"surface\",\"colorbar\":{\"outlinewidth\":0,\"ticks\":\"\"},\"colorscale\":[[0.0,\"#0d0887\"],[0.1111111111111111,\"#46039f\"],[0.2222222222222222,\"#7201a8\"],[0.3333333333333333,\"#9c179e\"],[0.4444444444444444,\"#bd3786\"],[0.5555555555555556,\"#d8576b\"],[0.6666666666666666,\"#ed7953\"],[0.7777777777777778,\"#fb9f3a\"],[0.8888888888888888,\"#fdca26\"],[1.0,\"#f0f921\"]]}],\"mesh3d\":[{\"type\":\"mesh3d\",\"colorbar\":{\"outlinewidth\":0,\"ticks\":\"\"}}],\"scatter\":[{\"fillpattern\":{\"fillmode\":\"overlay\",\"size\":10,\"solidity\":0.2},\"type\":\"scatter\"}],\"parcoords\":[{\"type\":\"parcoords\",\"line\":{\"colorbar\":{\"outlinewidth\":0,\"ticks\":\"\"}}}],\"scatterpolargl\":[{\"type\":\"scatterpolargl\",\"marker\":{\"colorbar\":{\"outlinewidth\":0,\"ticks\":\"\"}}}],\"bar\":[{\"error_x\":{\"color\":\"#2a3f5f\"},\"error_y\":{\"color\":\"#2a3f5f\"},\"marker\":{\"line\":{\"color\":\"#E5ECF6\",\"width\":0.5},\"pattern\":{\"fillmode\":\"overlay\",\"size\":10,\"solidity\":0.2}},\"type\":\"bar\"}],\"scattergeo\":[{\"type\":\"scattergeo\",\"marker\":{\"colorbar\":{\"outlinewidth\":0,\"ticks\":\"\"}}}],\"scatterpolar\":[{\"type\":\"scatterpolar\",\"marker\":{\"colorbar\":{\"outlinewidth\":0,\"ticks\":\"\"}}}],\"histogram\":[{\"marker\":{\"pattern\":{\"fillmode\":\"overlay\",\"size\":10,\"solidity\":0.2}},\"type\":\"histogram\"}],\"scattergl\":[{\"type\":\"scattergl\",\"marker\":{\"colorbar\":{\"outlinewidth\":0,\"ticks\":\"\"}}}],\"scatter3d\":[{\"type\":\"scatter3d\",\"line\":{\"colorbar\":{\"outlinewidth\":0,\"ticks\":\"\"}},\"marker\":{\"colorbar\":{\"outlinewidth\":0,\"ticks\":\"\"}}}],\"scattermapbox\":[{\"type\":\"scattermapbox\",\"marker\":{\"colorbar\":{\"outlinewidth\":0,\"ticks\":\"\"}}}],\"scatterternary\":[{\"type\":\"scatterternary\",\"marker\":{\"colorbar\":{\"outlinewidth\":0,\"ticks\":\"\"}}}],\"scattercarpet\":[{\"type\":\"scattercarpet\",\"marker\":{\"colorbar\":{\"outlinewidth\":0,\"ticks\":\"\"}}}],\"carpet\":[{\"aaxis\":{\"endlinecolor\":\"#2a3f5f\",\"gridcolor\":\"white\",\"linecolor\":\"white\",\"minorgridcolor\":\"white\",\"startlinecolor\":\"#2a3f5f\"},\"baxis\":{\"endlinecolor\":\"#2a3f5f\",\"gridcolor\":\"white\",\"linecolor\":\"white\",\"minorgridcolor\":\"white\",\"startlinecolor\":\"#2a3f5f\"},\"type\":\"carpet\"}],\"table\":[{\"cells\":{\"fill\":{\"color\":\"#EBF0F8\"},\"line\":{\"color\":\"white\"}},\"header\":{\"fill\":{\"color\":\"#C8D4E3\"},\"line\":{\"color\":\"white\"}},\"type\":\"table\"}],\"barpolar\":[{\"marker\":{\"line\":{\"color\":\"#E5ECF6\",\"width\":0.5},\"pattern\":{\"fillmode\":\"overlay\",\"size\":10,\"solidity\":0.2}},\"type\":\"barpolar\"}],\"pie\":[{\"automargin\":true,\"type\":\"pie\"}]},\"layout\":{\"autotypenumbers\":\"strict\",\"colorway\":[\"#636efa\",\"#EF553B\",\"#00cc96\",\"#ab63fa\",\"#FFA15A\",\"#19d3f3\",\"#FF6692\",\"#B6E880\",\"#FF97FF\",\"#FECB52\"],\"font\":{\"color\":\"#2a3f5f\"},\"hovermode\":\"closest\",\"hoverlabel\":{\"align\":\"left\"},\"paper_bgcolor\":\"white\",\"plot_bgcolor\":\"#E5ECF6\",\"polar\":{\"bgcolor\":\"#E5ECF6\",\"angularaxis\":{\"gridcolor\":\"white\",\"linecolor\":\"white\",\"ticks\":\"\"},\"radialaxis\":{\"gridcolor\":\"white\",\"linecolor\":\"white\",\"ticks\":\"\"}},\"ternary\":{\"bgcolor\":\"#E5ECF6\",\"aaxis\":{\"gridcolor\":\"white\",\"linecolor\":\"white\",\"ticks\":\"\"},\"baxis\":{\"gridcolor\":\"white\",\"linecolor\":\"white\",\"ticks\":\"\"},\"caxis\":{\"gridcolor\":\"white\",\"linecolor\":\"white\",\"ticks\":\"\"}},\"coloraxis\":{\"colorbar\":{\"outlinewidth\":0,\"ticks\":\"\"}},\"colorscale\":{\"sequential\":[[0.0,\"#0d0887\"],[0.1111111111111111,\"#46039f\"],[0.2222222222222222,\"#7201a8\"],[0.3333333333333333,\"#9c179e\"],[0.4444444444444444,\"#bd3786\"],[0.5555555555555556,\"#d8576b\"],[0.6666666666666666,\"#ed7953\"],[0.7777777777777778,\"#fb9f3a\"],[0.8888888888888888,\"#fdca26\"],[1.0,\"#f0f921\"]],\"sequentialminus\":[[0.0,\"#0d0887\"],[0.1111111111111111,\"#46039f\"],[0.2222222222222222,\"#7201a8\"],[0.3333333333333333,\"#9c179e\"],[0.4444444444444444,\"#bd3786\"],[0.5555555555555556,\"#d8576b\"],[0.6666666666666666,\"#ed7953\"],[0.7777777777777778,\"#fb9f3a\"],[0.8888888888888888,\"#fdca26\"],[1.0,\"#f0f921\"]],\"diverging\":[[0,\"#8e0152\"],[0.1,\"#c51b7d\"],[0.2,\"#de77ae\"],[0.3,\"#f1b6da\"],[0.4,\"#fde0ef\"],[0.5,\"#f7f7f7\"],[0.6,\"#e6f5d0\"],[0.7,\"#b8e186\"],[0.8,\"#7fbc41\"],[0.9,\"#4d9221\"],[1,\"#276419\"]]},\"xaxis\":{\"gridcolor\":\"white\",\"linecolor\":\"white\",\"ticks\":\"\",\"title\":{\"standoff\":15},\"zerolinecolor\":\"white\",\"automargin\":true,\"zerolinewidth\":2},\"yaxis\":{\"gridcolor\":\"white\",\"linecolor\":\"white\",\"ticks\":\"\",\"title\":{\"standoff\":15},\"zerolinecolor\":\"white\",\"automargin\":true,\"zerolinewidth\":2},\"scene\":{\"xaxis\":{\"backgroundcolor\":\"#E5ECF6\",\"gridcolor\":\"white\",\"linecolor\":\"white\",\"showbackground\":true,\"ticks\":\"\",\"zerolinecolor\":\"white\",\"gridwidth\":2},\"yaxis\":{\"backgroundcolor\":\"#E5ECF6\",\"gridcolor\":\"white\",\"linecolor\":\"white\",\"showbackground\":true,\"ticks\":\"\",\"zerolinecolor\":\"white\",\"gridwidth\":2},\"zaxis\":{\"backgroundcolor\":\"#E5ECF6\",\"gridcolor\":\"white\",\"linecolor\":\"white\",\"showbackground\":true,\"ticks\":\"\",\"zerolinecolor\":\"white\",\"gridwidth\":2}},\"shapedefaults\":{\"line\":{\"color\":\"#2a3f5f\"}},\"annotationdefaults\":{\"arrowcolor\":\"#2a3f5f\",\"arrowhead\":0,\"arrowwidth\":1},\"geo\":{\"bgcolor\":\"white\",\"landcolor\":\"#E5ECF6\",\"subunitcolor\":\"white\",\"showland\":true,\"showlakes\":true,\"lakecolor\":\"white\"},\"title\":{\"x\":0.05},\"mapbox\":{\"style\":\"light\"}}},\"xaxis\":{\"anchor\":\"y\",\"domain\":[0.0,1.0],\"title\":{\"text\":\"Layer\"}},\"yaxis\":{\"anchor\":\"x\",\"domain\":[0.0,1.0],\"title\":{\"text\":\"neg_logprob\"}},\"legend\":{\"title\":{\"text\":\"Model\"},\"tracegroupgap\":0},\"margin\":{\"t\":60}},                        {\"responsive\": true}                    ).then(function(){\n",
       "                            \n",
       "var gd = document.getElementById('4c83c079-d352-4b3c-91c6-1414b28e8f37');\n",
       "var x = new MutationObserver(function (mutations, observer) {{\n",
       "        var display = window.getComputedStyle(gd).display;\n",
       "        if (!display || display === 'none') {{\n",
       "            console.log([gd, 'removed!']);\n",
       "            Plotly.purge(gd);\n",
       "            observer.disconnect();\n",
       "        }}\n",
       "}});\n",
       "\n",
       "// Listen for the removal of the full notebook cells\n",
       "var notebookContainer = gd.closest('#notebook-container');\n",
       "if (notebookContainer) {{\n",
       "    x.observe(notebookContainer, {childList: true});\n",
       "}}\n",
       "\n",
       "// Listen for the clearing of the current output cell\n",
       "var outputEl = gd.closest('.output');\n",
       "if (outputEl) {{\n",
       "    x.observe(outputEl, {childList: true});\n",
       "}}\n",
       "\n",
       "                        })                };                });            </script>        </div>"
      ]
     },
     "metadata": {},
     "output_type": "display_data"
    },
    {
     "name": "stdout",
     "output_type": "stream",
     "text": [
      "zzzzzzzzzzzzzzzzzzzzzzzzzzzzzzzzzzzzzzzzzzzzzzzzzzzz\n",
      "Neg tok: 25694\n",
      "Tok id: 25\n"
     ]
    },
    {
     "data": {
      "application/vnd.plotly.v1+json": {
       "config": {
        "plotlyServerURL": "https://plot.ly"
       },
       "data": [
        {
         "hovertemplate": "Model=IFT<br>Layer=%{x}<br>neg_logprob=%{y}<extra></extra>",
         "legendgroup": "IFT",
         "line": {
          "color": "#636efa",
          "dash": "solid"
         },
         "marker": {
          "symbol": "circle"
         },
         "mode": "lines",
         "name": "IFT",
         "orientation": "v",
         "showlegend": true,
         "type": "scatter",
         "x": [
          "0_mid",
          "0_post",
          "1_mid",
          "1_post",
          "2_mid",
          "2_post",
          "3_mid",
          "3_post",
          "4_mid",
          "4_post",
          "5_mid",
          "5_post",
          "6_mid",
          "6_post",
          "7_mid",
          "7_post",
          "8_mid",
          "8_post",
          "9_mid",
          "9_post",
          "10_mid",
          "10_post",
          "11_mid",
          "11_post",
          "12_mid",
          "12_post",
          "13_mid",
          "13_post",
          "14_mid",
          "14_post",
          "15_mid",
          "15_post",
          "16_mid",
          "16_post",
          "17_mid",
          "17_post",
          "18_mid",
          "18_post",
          "19_mid",
          "19_post",
          "20_mid",
          "20_post",
          "21_mid",
          "21_post",
          "22_mid",
          "22_post",
          "23_mid",
          "23_post"
         ],
         "xaxis": "x",
         "y": [
          -14.018868446350098,
          -30.11005401611328,
          -29.7423095703125,
          -30.7487735748291,
          -36.028316497802734,
          -25.56928253173828,
          -24.098766326904297,
          -31.860700607299805,
          -32.68754196166992,
          -35.91687774658203,
          -31.886629104614258,
          -32.811702728271484,
          -27.631114959716797,
          -27.396337509155273,
          -21.355300903320312,
          -28.281200408935547,
          -26.636716842651367,
          -23.930830001831055,
          -2.4209935665130615,
          -7.331487655639648,
          -5.6197943687438965,
          -3.5970401763916016,
          -0.0012815127847716212,
          -0.08817178010940552,
          -0.05052158236503601,
          -2.489015579223633,
          -3.452683687210083,
          -0.09639593213796616,
          -1.764281842042692e-05,
          0,
          -4.8993817472364753e-05,
          0,
          0,
          0,
          0,
          0,
          0,
          0,
          0,
          -30.6942138671875,
          -28.94256591796875,
          -0.04738916829228401,
          -1.4305104514278355e-06,
          -1.2950513362884521,
          -8.801206588745117,
          -10.047772407531738,
          -8.059489250183105,
          -7.664501190185547
         ],
         "yaxis": "y"
        },
        {
         "hovertemplate": "Model=GPT2<br>Layer=%{x}<br>neg_logprob=%{y}<extra></extra>",
         "legendgroup": "GPT2",
         "line": {
          "color": "#EF553B",
          "dash": "solid"
         },
         "marker": {
          "symbol": "circle"
         },
         "mode": "lines",
         "name": "GPT2",
         "orientation": "v",
         "showlegend": true,
         "type": "scatter",
         "x": [
          "0_mid",
          "0_post",
          "1_mid",
          "1_post",
          "2_mid",
          "2_post",
          "3_mid",
          "3_post",
          "4_mid",
          "4_post",
          "5_mid",
          "5_post",
          "6_mid",
          "6_post",
          "7_mid",
          "7_post",
          "8_mid",
          "8_post",
          "9_mid",
          "9_post",
          "10_mid",
          "10_post",
          "11_mid",
          "11_post",
          "12_mid",
          "12_post",
          "13_mid",
          "13_post",
          "14_mid",
          "14_post",
          "15_mid",
          "15_post",
          "16_mid",
          "16_post",
          "17_mid",
          "17_post",
          "18_mid",
          "18_post",
          "19_mid",
          "19_post",
          "20_mid",
          "20_post",
          "21_mid",
          "21_post",
          "22_mid",
          "22_post",
          "23_mid",
          "23_post"
         ],
         "xaxis": "x",
         "y": [
          -14.009649276733398,
          -33.915199279785156,
          -31.19052505493164,
          -34.20401382446289,
          -37.78535842895508,
          -30.32469940185547,
          -28.3370304107666,
          -31.289899826049805,
          -35.327728271484375,
          -44.68828201293945,
          -38.172367095947266,
          -40.90865707397461,
          -36.354400634765625,
          -34.643890380859375,
          -28.94344711303711,
          -29.227428436279297,
          -28.323999404907227,
          -26.379840850830078,
          -1.786353588104248,
          -7.131608009338379,
          -0.004045517649501562,
          -9.262132516596466e-05,
          0,
          0,
          0,
          0,
          0,
          0,
          0,
          0,
          0,
          0,
          0,
          0,
          0,
          0,
          0,
          0,
          0,
          0,
          0,
          0,
          0,
          0,
          0,
          0,
          0,
          0
         ],
         "yaxis": "y"
        },
        {
         "hovertemplate": "Model=IFT_10<br>Layer=%{x}<br>neg_logprob=%{y}<extra></extra>",
         "legendgroup": "IFT_10",
         "line": {
          "color": "#00cc96",
          "dash": "solid"
         },
         "marker": {
          "symbol": "circle"
         },
         "mode": "lines",
         "name": "IFT_10",
         "orientation": "v",
         "showlegend": true,
         "type": "scatter",
         "x": [
          "0_mid",
          "0_post",
          "1_mid",
          "1_post",
          "2_mid",
          "2_post",
          "3_mid",
          "3_post",
          "4_mid",
          "4_post",
          "5_mid",
          "5_post",
          "6_mid",
          "6_post",
          "7_mid",
          "7_post",
          "8_mid",
          "8_post",
          "9_mid",
          "9_post",
          "10_mid",
          "10_post",
          "11_mid",
          "11_post",
          "12_mid",
          "12_post",
          "13_mid",
          "13_post",
          "14_mid",
          "14_post",
          "15_mid",
          "15_post",
          "16_mid",
          "16_post",
          "17_mid",
          "17_post",
          "18_mid",
          "18_post",
          "19_mid",
          "19_post",
          "20_mid",
          "20_post",
          "21_mid",
          "21_post",
          "22_mid",
          "22_post",
          "23_mid",
          "23_post"
         ],
         "xaxis": "x",
         "y": [
          -11.96336841583252,
          -34.185298919677734,
          -33.35942840576172,
          -36.347774505615234,
          -43.58420944213867,
          -34.199806213378906,
          -35.21180725097656,
          -43.15113830566406,
          -47.074161529541016,
          -48.31411361694336,
          -46.32441329956055,
          -48.74675750732422,
          -41.084407806396484,
          -43.66382598876953,
          -37.27606201171875,
          -41.077301025390625,
          -36.41621017456055,
          -41.55343246459961,
          -19.770729064941406,
          -19.260583877563477,
          -21.827062606811523,
          -24.46946907043457,
          -28.39895248413086,
          -29.114599227905273,
          -31.499195098876953,
          -41.17912673950195,
          -49.706809997558594,
          -48.71269226074219,
          -51.700138092041016,
          -51.027862548828125,
          -59.358150482177734,
          -57.83592224121094,
          -60.29472351074219,
          -56.660247802734375,
          -55.55895233154297,
          -62.28050231933594,
          -75.70962524414062,
          -86.29483032226562,
          -90.16366577148438,
          -133.1817169189453,
          -139.83938598632812,
          -129.5897216796875,
          -154.239501953125,
          -175.2707977294922,
          -181.89845275878906,
          -199.4924774169922,
          -169.27122497558594,
          -166.5474395751953
         ],
         "yaxis": "y"
        },
        {
         "hovertemplate": "Model=GPT2_10<br>Layer=%{x}<br>neg_logprob=%{y}<extra></extra>",
         "legendgroup": "GPT2_10",
         "line": {
          "color": "#ab63fa",
          "dash": "solid"
         },
         "marker": {
          "symbol": "circle"
         },
         "mode": "lines",
         "name": "GPT2_10",
         "orientation": "v",
         "showlegend": true,
         "type": "scatter",
         "x": [
          "0_mid",
          "0_post",
          "1_mid",
          "1_post",
          "2_mid",
          "2_post",
          "3_mid",
          "3_post",
          "4_mid",
          "4_post",
          "5_mid",
          "5_post",
          "6_mid",
          "6_post",
          "7_mid",
          "7_post",
          "8_mid",
          "8_post",
          "9_mid",
          "9_post",
          "10_mid",
          "10_post",
          "11_mid",
          "11_post",
          "12_mid",
          "12_post",
          "13_mid",
          "13_post",
          "14_mid",
          "14_post",
          "15_mid",
          "15_post",
          "16_mid",
          "16_post",
          "17_mid",
          "17_post",
          "18_mid",
          "18_post",
          "19_mid",
          "19_post",
          "20_mid",
          "20_post",
          "21_mid",
          "21_post",
          "22_mid",
          "22_post",
          "23_mid",
          "23_post"
         ],
         "xaxis": "x",
         "y": [
          -11.94058609008789,
          -37.791351318359375,
          -35.109642028808594,
          -40.399627685546875,
          -46.94428634643555,
          -39.92715072631836,
          -40.76567459106445,
          -45.049808502197266,
          -51.24382781982422,
          -59.8621940612793,
          -55.09834289550781,
          -58.40153121948242,
          -50.954715728759766,
          -53.70104217529297,
          -46.78795623779297,
          -44.237308502197266,
          -40.66493225097656,
          -47.7227783203125,
          -22.41119384765625,
          -25.399581909179688,
          -19.347841262817383,
          -28.320016860961914,
          -35.26792907714844,
          -31.81896209716797,
          -39.06816101074219,
          -43.8824462890625,
          -47.94463348388672,
          -52.25422668457031,
          -58.811981201171875,
          -61.61932373046875,
          -66.74562072753906,
          -68.539306640625,
          -74.97674560546875,
          -74.45817565917969,
          -75.94615173339844,
          -84.57905578613281,
          -92.89161682128906,
          -109.60014343261719,
          -116.21896362304688,
          -128.46188354492188,
          -134.23812866210938,
          -155.38848876953125,
          -169.36032104492188,
          -181.78707885742188,
          -185.29330444335938,
          -194.85028076171875,
          -191.86880493164062,
          -179.0460205078125
         ],
         "yaxis": "y"
        },
        {
         "hovertemplate": "Model=IFT_100<br>Layer=%{x}<br>neg_logprob=%{y}<extra></extra>",
         "legendgroup": "IFT_100",
         "line": {
          "color": "#FFA15A",
          "dash": "solid"
         },
         "marker": {
          "symbol": "circle"
         },
         "mode": "lines",
         "name": "IFT_100",
         "orientation": "v",
         "showlegend": true,
         "type": "scatter",
         "x": [
          "0_mid",
          "0_post",
          "1_mid",
          "1_post",
          "2_mid",
          "2_post",
          "3_mid",
          "3_post",
          "4_mid",
          "4_post",
          "5_mid",
          "5_post",
          "6_mid",
          "6_post",
          "7_mid",
          "7_post",
          "8_mid",
          "8_post",
          "9_mid",
          "9_post",
          "10_mid",
          "10_post",
          "11_mid",
          "11_post",
          "12_mid",
          "12_post",
          "13_mid",
          "13_post",
          "14_mid",
          "14_post",
          "15_mid",
          "15_post",
          "16_mid",
          "16_post",
          "17_mid",
          "17_post",
          "18_mid",
          "18_post",
          "19_mid",
          "19_post",
          "20_mid",
          "20_post",
          "21_mid",
          "21_post",
          "22_mid",
          "22_post",
          "23_mid",
          "23_post",
          "0_mid",
          "0_post",
          "1_mid",
          "1_post",
          "2_mid",
          "2_post",
          "3_mid",
          "3_post",
          "4_mid",
          "4_post",
          "5_mid",
          "5_post",
          "6_mid",
          "6_post",
          "7_mid",
          "7_post",
          "8_mid",
          "8_post",
          "9_mid",
          "9_post",
          "10_mid",
          "10_post",
          "11_mid",
          "11_post",
          "12_mid",
          "12_post",
          "13_mid",
          "13_post",
          "14_mid",
          "14_post",
          "15_mid",
          "15_post",
          "16_mid",
          "16_post",
          "17_mid",
          "17_post",
          "18_mid",
          "18_post",
          "19_mid",
          "19_post",
          "20_mid",
          "20_post",
          "21_mid",
          "21_post",
          "22_mid",
          "22_post",
          "23_mid",
          "23_post"
         ],
         "xaxis": "x",
         "y": [
          -12.204593658447266,
          -25.586679458618164,
          -27.565990447998047,
          -29.49468421936035,
          -35.43952178955078,
          -32.95069885253906,
          -31.090389251708984,
          -30.791500091552734,
          -33.38694763183594,
          -38.33885192871094,
          -37.27475357055664,
          -43.90993881225586,
          -43.93709182739258,
          -40.19345474243164,
          -34.981597900390625,
          -37.54535675048828,
          -36.735565185546875,
          -26.290578842163086,
          -38.914432525634766,
          -38.113258361816406,
          -41.66650390625,
          -34.084022521972656,
          -42.653900146484375,
          -37.27272415161133,
          -52.428890228271484,
          -54.8388557434082,
          -56.562744140625,
          -52.92462158203125,
          -63.284854888916016,
          -68.7028579711914,
          -62.274845123291016,
          -77.75613403320312,
          -82.52985382080078,
          -89.8624496459961,
          -90.99872589111328,
          -103.59921264648438,
          -117.86272430419922,
          -158.58438110351562,
          -149.83544921875,
          -175.57626342773438,
          -180.94342041015625,
          -185.14596557617188,
          -209.98814392089844,
          -225.5487823486328,
          -227.24407958984375,
          -233.99002075195312,
          -230.6631622314453,
          -203.60263061523438,
          -12.204593658447266,
          -25.586679458618164,
          -27.565990447998047,
          -29.49468421936035,
          -35.43952178955078,
          -32.95069885253906,
          -31.090389251708984,
          -30.791500091552734,
          -33.38694763183594,
          -38.33885192871094,
          -37.27475357055664,
          -43.90993881225586,
          -43.93709182739258,
          -40.19345474243164,
          -34.981597900390625,
          -37.54535675048828,
          -36.735565185546875,
          -26.290578842163086,
          -38.914432525634766,
          -38.113258361816406,
          -41.66650390625,
          -34.084022521972656,
          -42.653900146484375,
          -37.27272415161133,
          -52.428890228271484,
          -54.8388557434082,
          -56.562744140625,
          -52.92462158203125,
          -63.284854888916016,
          -68.7028579711914,
          -62.274845123291016,
          -77.75613403320312,
          -82.52985382080078,
          -89.8624496459961,
          -90.99872589111328,
          -103.59921264648438,
          -117.86272430419922,
          -158.58438110351562,
          -149.83544921875,
          -175.57626342773438,
          -180.94342041015625,
          -185.14596557617188,
          -209.98814392089844,
          -225.5487823486328,
          -227.24407958984375,
          -233.99002075195312,
          -230.6631622314453,
          -203.60263061523438
         ],
         "yaxis": "y"
        },
        {
         "hovertemplate": "Model=GPT2_100<br>Layer=%{x}<br>neg_logprob=%{y}<extra></extra>",
         "legendgroup": "GPT2_100",
         "line": {
          "color": "#19d3f3",
          "dash": "solid"
         },
         "marker": {
          "symbol": "circle"
         },
         "mode": "lines",
         "name": "GPT2_100",
         "orientation": "v",
         "showlegend": true,
         "type": "scatter",
         "x": [
          "0_mid",
          "0_post",
          "1_mid",
          "1_post",
          "2_mid",
          "2_post",
          "3_mid",
          "3_post",
          "4_mid",
          "4_post",
          "5_mid",
          "5_post",
          "6_mid",
          "6_post",
          "7_mid",
          "7_post",
          "8_mid",
          "8_post",
          "9_mid",
          "9_post",
          "10_mid",
          "10_post",
          "11_mid",
          "11_post",
          "12_mid",
          "12_post",
          "13_mid",
          "13_post",
          "14_mid",
          "14_post",
          "15_mid",
          "15_post",
          "16_mid",
          "16_post",
          "17_mid",
          "17_post",
          "18_mid",
          "18_post",
          "19_mid",
          "19_post",
          "20_mid",
          "20_post",
          "21_mid",
          "21_post",
          "22_mid",
          "22_post",
          "23_mid",
          "23_post",
          "0_mid",
          "0_post",
          "1_mid",
          "1_post",
          "2_mid",
          "2_post",
          "3_mid",
          "3_post",
          "4_mid",
          "4_post",
          "5_mid",
          "5_post",
          "6_mid",
          "6_post",
          "7_mid",
          "7_post",
          "8_mid",
          "8_post",
          "9_mid",
          "9_post",
          "10_mid",
          "10_post",
          "11_mid",
          "11_post",
          "12_mid",
          "12_post",
          "13_mid",
          "13_post",
          "14_mid",
          "14_post",
          "15_mid",
          "15_post",
          "16_mid",
          "16_post",
          "17_mid",
          "17_post",
          "18_mid",
          "18_post",
          "19_mid",
          "19_post",
          "20_mid",
          "20_post",
          "21_mid",
          "21_post",
          "22_mid",
          "22_post",
          "23_mid",
          "23_post"
         ],
         "xaxis": "x",
         "y": [
          -12.132278442382812,
          -27.586984634399414,
          -27.173044204711914,
          -30.9204044342041,
          -35.269317626953125,
          -35.2291145324707,
          -33.92674255371094,
          -32.09925079345703,
          -37.210357666015625,
          -47.19805145263672,
          -44.2646598815918,
          -51.48874282836914,
          -52.044403076171875,
          -47.8092041015625,
          -40.97706604003906,
          -40.08058547973633,
          -38.356632232666016,
          -29.80938720703125,
          -34.785987854003906,
          -36.97539138793945,
          -44.72078323364258,
          -45.09998321533203,
          -59.99750900268555,
          -55.57221984863281,
          -75.78805541992188,
          -75.94956970214844,
          -81.13922119140625,
          -82.91173553466797,
          -101.29203796386719,
          -112.71077728271484,
          -112.91524505615234,
          -124.19087219238281,
          -135.045166015625,
          -143.62625122070312,
          -146.93727111816406,
          -168.16000366210938,
          -189.91360473632812,
          -233.4586181640625,
          -228.44061279296875,
          -212.8367156982422,
          -220.0938720703125,
          -278.93365478515625,
          -296.63671875,
          -283.093994140625,
          -280.3814697265625,
          -285.81890869140625,
          -292.0264892578125,
          -254.44158935546875,
          -12.132278442382812,
          -27.586984634399414,
          -27.173044204711914,
          -30.9204044342041,
          -35.269317626953125,
          -35.2291145324707,
          -33.92674255371094,
          -32.09925079345703,
          -37.210357666015625,
          -47.19805145263672,
          -44.2646598815918,
          -51.48874282836914,
          -52.044403076171875,
          -47.8092041015625,
          -40.97706604003906,
          -40.08058547973633,
          -38.356632232666016,
          -29.80938720703125,
          -34.785987854003906,
          -36.97539138793945,
          -44.72078323364258,
          -45.09998321533203,
          -59.99750900268555,
          -55.57221984863281,
          -75.78805541992188,
          -75.94956970214844,
          -81.13922119140625,
          -82.91173553466797,
          -101.29203796386719,
          -112.71077728271484,
          -112.91524505615234,
          -124.19087219238281,
          -135.045166015625,
          -143.62625122070312,
          -146.93727111816406,
          -168.16000366210938,
          -189.91360473632812,
          -233.4586181640625,
          -228.44061279296875,
          -212.8367156982422,
          -220.0938720703125,
          -278.93365478515625,
          -296.63671875,
          -283.093994140625,
          -280.3814697265625,
          -285.81890869140625,
          -292.0264892578125,
          -254.44158935546875
         ],
         "yaxis": "y"
        },
        {
         "hovertemplate": "Model=IFT_10000<br>Layer=%{x}<br>neg_logprob=%{y}<extra></extra>",
         "legendgroup": "IFT_10000",
         "line": {
          "color": "#FF6692",
          "dash": "solid"
         },
         "marker": {
          "symbol": "circle"
         },
         "mode": "lines",
         "name": "IFT_10000",
         "orientation": "v",
         "showlegend": true,
         "type": "scatter",
         "x": [
          "0_mid",
          "0_post",
          "1_mid",
          "1_post",
          "2_mid",
          "2_post",
          "3_mid",
          "3_post",
          "4_mid",
          "4_post",
          "5_mid",
          "5_post",
          "6_mid",
          "6_post",
          "7_mid",
          "7_post",
          "8_mid",
          "8_post",
          "9_mid",
          "9_post",
          "10_mid",
          "10_post",
          "11_mid",
          "11_post",
          "12_mid",
          "12_post",
          "13_mid",
          "13_post",
          "14_mid",
          "14_post",
          "15_mid",
          "15_post",
          "16_mid",
          "16_post",
          "17_mid",
          "17_post",
          "18_mid",
          "18_post",
          "19_mid",
          "19_post",
          "20_mid",
          "20_post",
          "21_mid",
          "21_post",
          "22_mid",
          "22_post",
          "23_mid",
          "23_post"
         ],
         "xaxis": "x",
         "y": [
          -12.183263778686523,
          -42.920265197753906,
          -41.61343002319336,
          -58.25710678100586,
          -64.87062072753906,
          -55.58074951171875,
          -54.343406677246094,
          -42.5677604675293,
          -39.33781814575195,
          -40.21696090698242,
          -42.44285202026367,
          -43.816246032714844,
          -47.119869232177734,
          -46.61531448364258,
          -46.6401481628418,
          -51.14976501464844,
          -52.29804992675781,
          -46.626808166503906,
          -58.80160903930664,
          -52.975257873535156,
          -46.76486587524414,
          -40.26675033569336,
          -51.2913932800293,
          -52.00079345703125,
          -61.05577087402344,
          -72.86102294921875,
          -73.57733917236328,
          -80.797119140625,
          -94.30475616455078,
          -102.06118774414062,
          -99.1978530883789,
          -122.62858581542969,
          -125.04830932617188,
          -130.3272247314453,
          -125.37542724609375,
          -150.41326904296875,
          -165.48770141601562,
          -209.32864379882812,
          -203.46456909179688,
          -254.89443969726562,
          -259.9012451171875,
          -268.5501708984375,
          -304.447998046875,
          -318.3052978515625,
          -333.3945007324219,
          -353.0431823730469,
          -335.7164306640625,
          -317.0732116699219
         ],
         "yaxis": "y"
        },
        {
         "hovertemplate": "Model=GPT2_10000<br>Layer=%{x}<br>neg_logprob=%{y}<extra></extra>",
         "legendgroup": "GPT2_10000",
         "line": {
          "color": "#B6E880",
          "dash": "solid"
         },
         "marker": {
          "symbol": "circle"
         },
         "mode": "lines",
         "name": "GPT2_10000",
         "orientation": "v",
         "showlegend": true,
         "type": "scatter",
         "x": [
          "0_mid",
          "0_post",
          "1_mid",
          "1_post",
          "2_mid",
          "2_post",
          "3_mid",
          "3_post",
          "4_mid",
          "4_post",
          "5_mid",
          "5_post",
          "6_mid",
          "6_post",
          "7_mid",
          "7_post",
          "8_mid",
          "8_post",
          "9_mid",
          "9_post",
          "10_mid",
          "10_post",
          "11_mid",
          "11_post",
          "12_mid",
          "12_post",
          "13_mid",
          "13_post",
          "14_mid",
          "14_post",
          "15_mid",
          "15_post",
          "16_mid",
          "16_post",
          "17_mid",
          "17_post",
          "18_mid",
          "18_post",
          "19_mid",
          "19_post",
          "20_mid",
          "20_post",
          "21_mid",
          "21_post",
          "22_mid",
          "22_post",
          "23_mid",
          "23_post"
         ],
         "xaxis": "x",
         "y": [
          -12.27804946899414,
          -45.815921783447266,
          -43.08686065673828,
          -58.007747650146484,
          -62.48749542236328,
          -58.00032424926758,
          -56.39326095581055,
          -46.04977798461914,
          -45.95772933959961,
          -50.60857009887695,
          -50.12941360473633,
          -51.937217712402344,
          -55.23698425292969,
          -55.5036735534668,
          -55.77689743041992,
          -54.673580169677734,
          -58.77787780761719,
          -55.49891662597656,
          -63.060585021972656,
          -61.543426513671875,
          -65.96759796142578,
          -63.18050003051758,
          -83.55897521972656,
          -81.87396240234375,
          -100.99451446533203,
          -109.4555435180664,
          -115.97119140625,
          -123.76039123535156,
          -144.85305786132812,
          -158.92108154296875,
          -162.94784545898438,
          -189.94100952148438,
          -200.58030700683594,
          -204.87850952148438,
          -204.89801025390625,
          -237.8466033935547,
          -258.872802734375,
          -311.28948974609375,
          -316.5587463378906,
          -323.8128662109375,
          -331.54296875,
          -397.08966064453125,
          -421.4356994628906,
          -410.46307373046875,
          -417.78155517578125,
          -430.43267822265625,
          -436.97296142578125,
          -405.99908447265625
         ],
         "yaxis": "y"
        }
       ],
       "layout": {
        "legend": {
         "title": {
          "text": "Model"
         },
         "tracegroupgap": 0
        },
        "margin": {
         "t": 60
        },
        "template": {
         "data": {
          "bar": [
           {
            "error_x": {
             "color": "#2a3f5f"
            },
            "error_y": {
             "color": "#2a3f5f"
            },
            "marker": {
             "line": {
              "color": "#E5ECF6",
              "width": 0.5
             },
             "pattern": {
              "fillmode": "overlay",
              "size": 10,
              "solidity": 0.2
             }
            },
            "type": "bar"
           }
          ],
          "barpolar": [
           {
            "marker": {
             "line": {
              "color": "#E5ECF6",
              "width": 0.5
             },
             "pattern": {
              "fillmode": "overlay",
              "size": 10,
              "solidity": 0.2
             }
            },
            "type": "barpolar"
           }
          ],
          "carpet": [
           {
            "aaxis": {
             "endlinecolor": "#2a3f5f",
             "gridcolor": "white",
             "linecolor": "white",
             "minorgridcolor": "white",
             "startlinecolor": "#2a3f5f"
            },
            "baxis": {
             "endlinecolor": "#2a3f5f",
             "gridcolor": "white",
             "linecolor": "white",
             "minorgridcolor": "white",
             "startlinecolor": "#2a3f5f"
            },
            "type": "carpet"
           }
          ],
          "choropleth": [
           {
            "colorbar": {
             "outlinewidth": 0,
             "ticks": ""
            },
            "type": "choropleth"
           }
          ],
          "contour": [
           {
            "colorbar": {
             "outlinewidth": 0,
             "ticks": ""
            },
            "colorscale": [
             [
              0,
              "#0d0887"
             ],
             [
              0.1111111111111111,
              "#46039f"
             ],
             [
              0.2222222222222222,
              "#7201a8"
             ],
             [
              0.3333333333333333,
              "#9c179e"
             ],
             [
              0.4444444444444444,
              "#bd3786"
             ],
             [
              0.5555555555555556,
              "#d8576b"
             ],
             [
              0.6666666666666666,
              "#ed7953"
             ],
             [
              0.7777777777777778,
              "#fb9f3a"
             ],
             [
              0.8888888888888888,
              "#fdca26"
             ],
             [
              1,
              "#f0f921"
             ]
            ],
            "type": "contour"
           }
          ],
          "contourcarpet": [
           {
            "colorbar": {
             "outlinewidth": 0,
             "ticks": ""
            },
            "type": "contourcarpet"
           }
          ],
          "heatmap": [
           {
            "colorbar": {
             "outlinewidth": 0,
             "ticks": ""
            },
            "colorscale": [
             [
              0,
              "#0d0887"
             ],
             [
              0.1111111111111111,
              "#46039f"
             ],
             [
              0.2222222222222222,
              "#7201a8"
             ],
             [
              0.3333333333333333,
              "#9c179e"
             ],
             [
              0.4444444444444444,
              "#bd3786"
             ],
             [
              0.5555555555555556,
              "#d8576b"
             ],
             [
              0.6666666666666666,
              "#ed7953"
             ],
             [
              0.7777777777777778,
              "#fb9f3a"
             ],
             [
              0.8888888888888888,
              "#fdca26"
             ],
             [
              1,
              "#f0f921"
             ]
            ],
            "type": "heatmap"
           }
          ],
          "heatmapgl": [
           {
            "colorbar": {
             "outlinewidth": 0,
             "ticks": ""
            },
            "colorscale": [
             [
              0,
              "#0d0887"
             ],
             [
              0.1111111111111111,
              "#46039f"
             ],
             [
              0.2222222222222222,
              "#7201a8"
             ],
             [
              0.3333333333333333,
              "#9c179e"
             ],
             [
              0.4444444444444444,
              "#bd3786"
             ],
             [
              0.5555555555555556,
              "#d8576b"
             ],
             [
              0.6666666666666666,
              "#ed7953"
             ],
             [
              0.7777777777777778,
              "#fb9f3a"
             ],
             [
              0.8888888888888888,
              "#fdca26"
             ],
             [
              1,
              "#f0f921"
             ]
            ],
            "type": "heatmapgl"
           }
          ],
          "histogram": [
           {
            "marker": {
             "pattern": {
              "fillmode": "overlay",
              "size": 10,
              "solidity": 0.2
             }
            },
            "type": "histogram"
           }
          ],
          "histogram2d": [
           {
            "colorbar": {
             "outlinewidth": 0,
             "ticks": ""
            },
            "colorscale": [
             [
              0,
              "#0d0887"
             ],
             [
              0.1111111111111111,
              "#46039f"
             ],
             [
              0.2222222222222222,
              "#7201a8"
             ],
             [
              0.3333333333333333,
              "#9c179e"
             ],
             [
              0.4444444444444444,
              "#bd3786"
             ],
             [
              0.5555555555555556,
              "#d8576b"
             ],
             [
              0.6666666666666666,
              "#ed7953"
             ],
             [
              0.7777777777777778,
              "#fb9f3a"
             ],
             [
              0.8888888888888888,
              "#fdca26"
             ],
             [
              1,
              "#f0f921"
             ]
            ],
            "type": "histogram2d"
           }
          ],
          "histogram2dcontour": [
           {
            "colorbar": {
             "outlinewidth": 0,
             "ticks": ""
            },
            "colorscale": [
             [
              0,
              "#0d0887"
             ],
             [
              0.1111111111111111,
              "#46039f"
             ],
             [
              0.2222222222222222,
              "#7201a8"
             ],
             [
              0.3333333333333333,
              "#9c179e"
             ],
             [
              0.4444444444444444,
              "#bd3786"
             ],
             [
              0.5555555555555556,
              "#d8576b"
             ],
             [
              0.6666666666666666,
              "#ed7953"
             ],
             [
              0.7777777777777778,
              "#fb9f3a"
             ],
             [
              0.8888888888888888,
              "#fdca26"
             ],
             [
              1,
              "#f0f921"
             ]
            ],
            "type": "histogram2dcontour"
           }
          ],
          "mesh3d": [
           {
            "colorbar": {
             "outlinewidth": 0,
             "ticks": ""
            },
            "type": "mesh3d"
           }
          ],
          "parcoords": [
           {
            "line": {
             "colorbar": {
              "outlinewidth": 0,
              "ticks": ""
             }
            },
            "type": "parcoords"
           }
          ],
          "pie": [
           {
            "automargin": true,
            "type": "pie"
           }
          ],
          "scatter": [
           {
            "fillpattern": {
             "fillmode": "overlay",
             "size": 10,
             "solidity": 0.2
            },
            "type": "scatter"
           }
          ],
          "scatter3d": [
           {
            "line": {
             "colorbar": {
              "outlinewidth": 0,
              "ticks": ""
             }
            },
            "marker": {
             "colorbar": {
              "outlinewidth": 0,
              "ticks": ""
             }
            },
            "type": "scatter3d"
           }
          ],
          "scattercarpet": [
           {
            "marker": {
             "colorbar": {
              "outlinewidth": 0,
              "ticks": ""
             }
            },
            "type": "scattercarpet"
           }
          ],
          "scattergeo": [
           {
            "marker": {
             "colorbar": {
              "outlinewidth": 0,
              "ticks": ""
             }
            },
            "type": "scattergeo"
           }
          ],
          "scattergl": [
           {
            "marker": {
             "colorbar": {
              "outlinewidth": 0,
              "ticks": ""
             }
            },
            "type": "scattergl"
           }
          ],
          "scattermapbox": [
           {
            "marker": {
             "colorbar": {
              "outlinewidth": 0,
              "ticks": ""
             }
            },
            "type": "scattermapbox"
           }
          ],
          "scatterpolar": [
           {
            "marker": {
             "colorbar": {
              "outlinewidth": 0,
              "ticks": ""
             }
            },
            "type": "scatterpolar"
           }
          ],
          "scatterpolargl": [
           {
            "marker": {
             "colorbar": {
              "outlinewidth": 0,
              "ticks": ""
             }
            },
            "type": "scatterpolargl"
           }
          ],
          "scatterternary": [
           {
            "marker": {
             "colorbar": {
              "outlinewidth": 0,
              "ticks": ""
             }
            },
            "type": "scatterternary"
           }
          ],
          "surface": [
           {
            "colorbar": {
             "outlinewidth": 0,
             "ticks": ""
            },
            "colorscale": [
             [
              0,
              "#0d0887"
             ],
             [
              0.1111111111111111,
              "#46039f"
             ],
             [
              0.2222222222222222,
              "#7201a8"
             ],
             [
              0.3333333333333333,
              "#9c179e"
             ],
             [
              0.4444444444444444,
              "#bd3786"
             ],
             [
              0.5555555555555556,
              "#d8576b"
             ],
             [
              0.6666666666666666,
              "#ed7953"
             ],
             [
              0.7777777777777778,
              "#fb9f3a"
             ],
             [
              0.8888888888888888,
              "#fdca26"
             ],
             [
              1,
              "#f0f921"
             ]
            ],
            "type": "surface"
           }
          ],
          "table": [
           {
            "cells": {
             "fill": {
              "color": "#EBF0F8"
             },
             "line": {
              "color": "white"
             }
            },
            "header": {
             "fill": {
              "color": "#C8D4E3"
             },
             "line": {
              "color": "white"
             }
            },
            "type": "table"
           }
          ]
         },
         "layout": {
          "annotationdefaults": {
           "arrowcolor": "#2a3f5f",
           "arrowhead": 0,
           "arrowwidth": 1
          },
          "autotypenumbers": "strict",
          "coloraxis": {
           "colorbar": {
            "outlinewidth": 0,
            "ticks": ""
           }
          },
          "colorscale": {
           "diverging": [
            [
             0,
             "#8e0152"
            ],
            [
             0.1,
             "#c51b7d"
            ],
            [
             0.2,
             "#de77ae"
            ],
            [
             0.3,
             "#f1b6da"
            ],
            [
             0.4,
             "#fde0ef"
            ],
            [
             0.5,
             "#f7f7f7"
            ],
            [
             0.6,
             "#e6f5d0"
            ],
            [
             0.7,
             "#b8e186"
            ],
            [
             0.8,
             "#7fbc41"
            ],
            [
             0.9,
             "#4d9221"
            ],
            [
             1,
             "#276419"
            ]
           ],
           "sequential": [
            [
             0,
             "#0d0887"
            ],
            [
             0.1111111111111111,
             "#46039f"
            ],
            [
             0.2222222222222222,
             "#7201a8"
            ],
            [
             0.3333333333333333,
             "#9c179e"
            ],
            [
             0.4444444444444444,
             "#bd3786"
            ],
            [
             0.5555555555555556,
             "#d8576b"
            ],
            [
             0.6666666666666666,
             "#ed7953"
            ],
            [
             0.7777777777777778,
             "#fb9f3a"
            ],
            [
             0.8888888888888888,
             "#fdca26"
            ],
            [
             1,
             "#f0f921"
            ]
           ],
           "sequentialminus": [
            [
             0,
             "#0d0887"
            ],
            [
             0.1111111111111111,
             "#46039f"
            ],
            [
             0.2222222222222222,
             "#7201a8"
            ],
            [
             0.3333333333333333,
             "#9c179e"
            ],
            [
             0.4444444444444444,
             "#bd3786"
            ],
            [
             0.5555555555555556,
             "#d8576b"
            ],
            [
             0.6666666666666666,
             "#ed7953"
            ],
            [
             0.7777777777777778,
             "#fb9f3a"
            ],
            [
             0.8888888888888888,
             "#fdca26"
            ],
            [
             1,
             "#f0f921"
            ]
           ]
          },
          "colorway": [
           "#636efa",
           "#EF553B",
           "#00cc96",
           "#ab63fa",
           "#FFA15A",
           "#19d3f3",
           "#FF6692",
           "#B6E880",
           "#FF97FF",
           "#FECB52"
          ],
          "font": {
           "color": "#2a3f5f"
          },
          "geo": {
           "bgcolor": "white",
           "lakecolor": "white",
           "landcolor": "#E5ECF6",
           "showlakes": true,
           "showland": true,
           "subunitcolor": "white"
          },
          "hoverlabel": {
           "align": "left"
          },
          "hovermode": "closest",
          "mapbox": {
           "style": "light"
          },
          "paper_bgcolor": "white",
          "plot_bgcolor": "#E5ECF6",
          "polar": {
           "angularaxis": {
            "gridcolor": "white",
            "linecolor": "white",
            "ticks": ""
           },
           "bgcolor": "#E5ECF6",
           "radialaxis": {
            "gridcolor": "white",
            "linecolor": "white",
            "ticks": ""
           }
          },
          "scene": {
           "xaxis": {
            "backgroundcolor": "#E5ECF6",
            "gridcolor": "white",
            "gridwidth": 2,
            "linecolor": "white",
            "showbackground": true,
            "ticks": "",
            "zerolinecolor": "white"
           },
           "yaxis": {
            "backgroundcolor": "#E5ECF6",
            "gridcolor": "white",
            "gridwidth": 2,
            "linecolor": "white",
            "showbackground": true,
            "ticks": "",
            "zerolinecolor": "white"
           },
           "zaxis": {
            "backgroundcolor": "#E5ECF6",
            "gridcolor": "white",
            "gridwidth": 2,
            "linecolor": "white",
            "showbackground": true,
            "ticks": "",
            "zerolinecolor": "white"
           }
          },
          "shapedefaults": {
           "line": {
            "color": "#2a3f5f"
           }
          },
          "ternary": {
           "aaxis": {
            "gridcolor": "white",
            "linecolor": "white",
            "ticks": ""
           },
           "baxis": {
            "gridcolor": "white",
            "linecolor": "white",
            "ticks": ""
           },
           "bgcolor": "#E5ECF6",
           "caxis": {
            "gridcolor": "white",
            "linecolor": "white",
            "ticks": ""
           }
          },
          "title": {
           "x": 0.05
          },
          "xaxis": {
           "automargin": true,
           "gridcolor": "white",
           "linecolor": "white",
           "ticks": "",
           "title": {
            "standoff": 15
           },
           "zerolinecolor": "white",
           "zerolinewidth": 2
          },
          "yaxis": {
           "automargin": true,
           "gridcolor": "white",
           "linecolor": "white",
           "ticks": "",
           "title": {
            "standoff": 15
           },
           "zerolinecolor": "white",
           "zerolinewidth": 2
          }
         }
        },
        "xaxis": {
         "anchor": "y",
         "domain": [
          0,
          1
         ],
         "title": {
          "text": "Layer"
         }
        },
        "yaxis": {
         "anchor": "x",
         "domain": [
          0,
          1
         ],
         "title": {
          "text": "neg_logprob"
         }
        }
       }
      },
      "text/html": [
       "<div>                            <div id=\"b4946bcd-fc27-429c-b308-f00f2950f639\" class=\"plotly-graph-div\" style=\"height:525px; width:100%;\"></div>            <script type=\"text/javascript\">                require([\"plotly\"], function(Plotly) {                    window.PLOTLYENV=window.PLOTLYENV || {};                                    if (document.getElementById(\"b4946bcd-fc27-429c-b308-f00f2950f639\")) {                    Plotly.newPlot(                        \"b4946bcd-fc27-429c-b308-f00f2950f639\",                        [{\"hovertemplate\":\"Model=IFT\\u003cbr\\u003eLayer=%{x}\\u003cbr\\u003eneg_logprob=%{y}\\u003cextra\\u003e\\u003c\\u002fextra\\u003e\",\"legendgroup\":\"IFT\",\"line\":{\"color\":\"#636efa\",\"dash\":\"solid\"},\"marker\":{\"symbol\":\"circle\"},\"mode\":\"lines\",\"name\":\"IFT\",\"orientation\":\"v\",\"showlegend\":true,\"x\":[\"0_mid\",\"0_post\",\"1_mid\",\"1_post\",\"2_mid\",\"2_post\",\"3_mid\",\"3_post\",\"4_mid\",\"4_post\",\"5_mid\",\"5_post\",\"6_mid\",\"6_post\",\"7_mid\",\"7_post\",\"8_mid\",\"8_post\",\"9_mid\",\"9_post\",\"10_mid\",\"10_post\",\"11_mid\",\"11_post\",\"12_mid\",\"12_post\",\"13_mid\",\"13_post\",\"14_mid\",\"14_post\",\"15_mid\",\"15_post\",\"16_mid\",\"16_post\",\"17_mid\",\"17_post\",\"18_mid\",\"18_post\",\"19_mid\",\"19_post\",\"20_mid\",\"20_post\",\"21_mid\",\"21_post\",\"22_mid\",\"22_post\",\"23_mid\",\"23_post\"],\"xaxis\":\"x\",\"y\":[-14.018868446350098,-30.11005401611328,-29.7423095703125,-30.7487735748291,-36.028316497802734,-25.56928253173828,-24.098766326904297,-31.860700607299805,-32.68754196166992,-35.91687774658203,-31.886629104614258,-32.811702728271484,-27.631114959716797,-27.396337509155273,-21.355300903320312,-28.281200408935547,-26.636716842651367,-23.930830001831055,-2.4209935665130615,-7.331487655639648,-5.6197943687438965,-3.5970401763916016,-0.0012815127847716212,-0.08817178010940552,-0.05052158236503601,-2.489015579223633,-3.452683687210083,-0.09639593213796616,-1.764281842042692e-05,0.0,-4.8993817472364753e-05,0.0,0.0,0.0,0.0,0.0,0.0,0.0,0.0,-30.6942138671875,-28.94256591796875,-0.04738916829228401,-1.4305104514278355e-06,-1.2950513362884521,-8.801206588745117,-10.047772407531738,-8.059489250183105,-7.664501190185547],\"yaxis\":\"y\",\"type\":\"scatter\"},{\"hovertemplate\":\"Model=GPT2\\u003cbr\\u003eLayer=%{x}\\u003cbr\\u003eneg_logprob=%{y}\\u003cextra\\u003e\\u003c\\u002fextra\\u003e\",\"legendgroup\":\"GPT2\",\"line\":{\"color\":\"#EF553B\",\"dash\":\"solid\"},\"marker\":{\"symbol\":\"circle\"},\"mode\":\"lines\",\"name\":\"GPT2\",\"orientation\":\"v\",\"showlegend\":true,\"x\":[\"0_mid\",\"0_post\",\"1_mid\",\"1_post\",\"2_mid\",\"2_post\",\"3_mid\",\"3_post\",\"4_mid\",\"4_post\",\"5_mid\",\"5_post\",\"6_mid\",\"6_post\",\"7_mid\",\"7_post\",\"8_mid\",\"8_post\",\"9_mid\",\"9_post\",\"10_mid\",\"10_post\",\"11_mid\",\"11_post\",\"12_mid\",\"12_post\",\"13_mid\",\"13_post\",\"14_mid\",\"14_post\",\"15_mid\",\"15_post\",\"16_mid\",\"16_post\",\"17_mid\",\"17_post\",\"18_mid\",\"18_post\",\"19_mid\",\"19_post\",\"20_mid\",\"20_post\",\"21_mid\",\"21_post\",\"22_mid\",\"22_post\",\"23_mid\",\"23_post\"],\"xaxis\":\"x\",\"y\":[-14.009649276733398,-33.915199279785156,-31.19052505493164,-34.20401382446289,-37.78535842895508,-30.32469940185547,-28.3370304107666,-31.289899826049805,-35.327728271484375,-44.68828201293945,-38.172367095947266,-40.90865707397461,-36.354400634765625,-34.643890380859375,-28.94344711303711,-29.227428436279297,-28.323999404907227,-26.379840850830078,-1.786353588104248,-7.131608009338379,-0.004045517649501562,-9.262132516596466e-05,0.0,0.0,0.0,0.0,0.0,0.0,0.0,0.0,0.0,0.0,0.0,0.0,0.0,0.0,0.0,0.0,0.0,0.0,0.0,0.0,0.0,0.0,0.0,0.0,0.0,0.0],\"yaxis\":\"y\",\"type\":\"scatter\"},{\"hovertemplate\":\"Model=IFT_10\\u003cbr\\u003eLayer=%{x}\\u003cbr\\u003eneg_logprob=%{y}\\u003cextra\\u003e\\u003c\\u002fextra\\u003e\",\"legendgroup\":\"IFT_10\",\"line\":{\"color\":\"#00cc96\",\"dash\":\"solid\"},\"marker\":{\"symbol\":\"circle\"},\"mode\":\"lines\",\"name\":\"IFT_10\",\"orientation\":\"v\",\"showlegend\":true,\"x\":[\"0_mid\",\"0_post\",\"1_mid\",\"1_post\",\"2_mid\",\"2_post\",\"3_mid\",\"3_post\",\"4_mid\",\"4_post\",\"5_mid\",\"5_post\",\"6_mid\",\"6_post\",\"7_mid\",\"7_post\",\"8_mid\",\"8_post\",\"9_mid\",\"9_post\",\"10_mid\",\"10_post\",\"11_mid\",\"11_post\",\"12_mid\",\"12_post\",\"13_mid\",\"13_post\",\"14_mid\",\"14_post\",\"15_mid\",\"15_post\",\"16_mid\",\"16_post\",\"17_mid\",\"17_post\",\"18_mid\",\"18_post\",\"19_mid\",\"19_post\",\"20_mid\",\"20_post\",\"21_mid\",\"21_post\",\"22_mid\",\"22_post\",\"23_mid\",\"23_post\"],\"xaxis\":\"x\",\"y\":[-11.96336841583252,-34.185298919677734,-33.35942840576172,-36.347774505615234,-43.58420944213867,-34.199806213378906,-35.21180725097656,-43.15113830566406,-47.074161529541016,-48.31411361694336,-46.32441329956055,-48.74675750732422,-41.084407806396484,-43.66382598876953,-37.27606201171875,-41.077301025390625,-36.41621017456055,-41.55343246459961,-19.770729064941406,-19.260583877563477,-21.827062606811523,-24.46946907043457,-28.39895248413086,-29.114599227905273,-31.499195098876953,-41.17912673950195,-49.706809997558594,-48.71269226074219,-51.700138092041016,-51.027862548828125,-59.358150482177734,-57.83592224121094,-60.29472351074219,-56.660247802734375,-55.55895233154297,-62.28050231933594,-75.70962524414062,-86.29483032226562,-90.16366577148438,-133.1817169189453,-139.83938598632812,-129.5897216796875,-154.239501953125,-175.2707977294922,-181.89845275878906,-199.4924774169922,-169.27122497558594,-166.5474395751953],\"yaxis\":\"y\",\"type\":\"scatter\"},{\"hovertemplate\":\"Model=GPT2_10\\u003cbr\\u003eLayer=%{x}\\u003cbr\\u003eneg_logprob=%{y}\\u003cextra\\u003e\\u003c\\u002fextra\\u003e\",\"legendgroup\":\"GPT2_10\",\"line\":{\"color\":\"#ab63fa\",\"dash\":\"solid\"},\"marker\":{\"symbol\":\"circle\"},\"mode\":\"lines\",\"name\":\"GPT2_10\",\"orientation\":\"v\",\"showlegend\":true,\"x\":[\"0_mid\",\"0_post\",\"1_mid\",\"1_post\",\"2_mid\",\"2_post\",\"3_mid\",\"3_post\",\"4_mid\",\"4_post\",\"5_mid\",\"5_post\",\"6_mid\",\"6_post\",\"7_mid\",\"7_post\",\"8_mid\",\"8_post\",\"9_mid\",\"9_post\",\"10_mid\",\"10_post\",\"11_mid\",\"11_post\",\"12_mid\",\"12_post\",\"13_mid\",\"13_post\",\"14_mid\",\"14_post\",\"15_mid\",\"15_post\",\"16_mid\",\"16_post\",\"17_mid\",\"17_post\",\"18_mid\",\"18_post\",\"19_mid\",\"19_post\",\"20_mid\",\"20_post\",\"21_mid\",\"21_post\",\"22_mid\",\"22_post\",\"23_mid\",\"23_post\"],\"xaxis\":\"x\",\"y\":[-11.94058609008789,-37.791351318359375,-35.109642028808594,-40.399627685546875,-46.94428634643555,-39.92715072631836,-40.76567459106445,-45.049808502197266,-51.24382781982422,-59.8621940612793,-55.09834289550781,-58.40153121948242,-50.954715728759766,-53.70104217529297,-46.78795623779297,-44.237308502197266,-40.66493225097656,-47.7227783203125,-22.41119384765625,-25.399581909179688,-19.347841262817383,-28.320016860961914,-35.26792907714844,-31.81896209716797,-39.06816101074219,-43.8824462890625,-47.94463348388672,-52.25422668457031,-58.811981201171875,-61.61932373046875,-66.74562072753906,-68.539306640625,-74.97674560546875,-74.45817565917969,-75.94615173339844,-84.57905578613281,-92.89161682128906,-109.60014343261719,-116.21896362304688,-128.46188354492188,-134.23812866210938,-155.38848876953125,-169.36032104492188,-181.78707885742188,-185.29330444335938,-194.85028076171875,-191.86880493164062,-179.0460205078125],\"yaxis\":\"y\",\"type\":\"scatter\"},{\"hovertemplate\":\"Model=IFT_100\\u003cbr\\u003eLayer=%{x}\\u003cbr\\u003eneg_logprob=%{y}\\u003cextra\\u003e\\u003c\\u002fextra\\u003e\",\"legendgroup\":\"IFT_100\",\"line\":{\"color\":\"#FFA15A\",\"dash\":\"solid\"},\"marker\":{\"symbol\":\"circle\"},\"mode\":\"lines\",\"name\":\"IFT_100\",\"orientation\":\"v\",\"showlegend\":true,\"x\":[\"0_mid\",\"0_post\",\"1_mid\",\"1_post\",\"2_mid\",\"2_post\",\"3_mid\",\"3_post\",\"4_mid\",\"4_post\",\"5_mid\",\"5_post\",\"6_mid\",\"6_post\",\"7_mid\",\"7_post\",\"8_mid\",\"8_post\",\"9_mid\",\"9_post\",\"10_mid\",\"10_post\",\"11_mid\",\"11_post\",\"12_mid\",\"12_post\",\"13_mid\",\"13_post\",\"14_mid\",\"14_post\",\"15_mid\",\"15_post\",\"16_mid\",\"16_post\",\"17_mid\",\"17_post\",\"18_mid\",\"18_post\",\"19_mid\",\"19_post\",\"20_mid\",\"20_post\",\"21_mid\",\"21_post\",\"22_mid\",\"22_post\",\"23_mid\",\"23_post\",\"0_mid\",\"0_post\",\"1_mid\",\"1_post\",\"2_mid\",\"2_post\",\"3_mid\",\"3_post\",\"4_mid\",\"4_post\",\"5_mid\",\"5_post\",\"6_mid\",\"6_post\",\"7_mid\",\"7_post\",\"8_mid\",\"8_post\",\"9_mid\",\"9_post\",\"10_mid\",\"10_post\",\"11_mid\",\"11_post\",\"12_mid\",\"12_post\",\"13_mid\",\"13_post\",\"14_mid\",\"14_post\",\"15_mid\",\"15_post\",\"16_mid\",\"16_post\",\"17_mid\",\"17_post\",\"18_mid\",\"18_post\",\"19_mid\",\"19_post\",\"20_mid\",\"20_post\",\"21_mid\",\"21_post\",\"22_mid\",\"22_post\",\"23_mid\",\"23_post\"],\"xaxis\":\"x\",\"y\":[-12.204593658447266,-25.586679458618164,-27.565990447998047,-29.49468421936035,-35.43952178955078,-32.95069885253906,-31.090389251708984,-30.791500091552734,-33.38694763183594,-38.33885192871094,-37.27475357055664,-43.90993881225586,-43.93709182739258,-40.19345474243164,-34.981597900390625,-37.54535675048828,-36.735565185546875,-26.290578842163086,-38.914432525634766,-38.113258361816406,-41.66650390625,-34.084022521972656,-42.653900146484375,-37.27272415161133,-52.428890228271484,-54.8388557434082,-56.562744140625,-52.92462158203125,-63.284854888916016,-68.7028579711914,-62.274845123291016,-77.75613403320312,-82.52985382080078,-89.8624496459961,-90.99872589111328,-103.59921264648438,-117.86272430419922,-158.58438110351562,-149.83544921875,-175.57626342773438,-180.94342041015625,-185.14596557617188,-209.98814392089844,-225.5487823486328,-227.24407958984375,-233.99002075195312,-230.6631622314453,-203.60263061523438,-12.204593658447266,-25.586679458618164,-27.565990447998047,-29.49468421936035,-35.43952178955078,-32.95069885253906,-31.090389251708984,-30.791500091552734,-33.38694763183594,-38.33885192871094,-37.27475357055664,-43.90993881225586,-43.93709182739258,-40.19345474243164,-34.981597900390625,-37.54535675048828,-36.735565185546875,-26.290578842163086,-38.914432525634766,-38.113258361816406,-41.66650390625,-34.084022521972656,-42.653900146484375,-37.27272415161133,-52.428890228271484,-54.8388557434082,-56.562744140625,-52.92462158203125,-63.284854888916016,-68.7028579711914,-62.274845123291016,-77.75613403320312,-82.52985382080078,-89.8624496459961,-90.99872589111328,-103.59921264648438,-117.86272430419922,-158.58438110351562,-149.83544921875,-175.57626342773438,-180.94342041015625,-185.14596557617188,-209.98814392089844,-225.5487823486328,-227.24407958984375,-233.99002075195312,-230.6631622314453,-203.60263061523438],\"yaxis\":\"y\",\"type\":\"scatter\"},{\"hovertemplate\":\"Model=GPT2_100\\u003cbr\\u003eLayer=%{x}\\u003cbr\\u003eneg_logprob=%{y}\\u003cextra\\u003e\\u003c\\u002fextra\\u003e\",\"legendgroup\":\"GPT2_100\",\"line\":{\"color\":\"#19d3f3\",\"dash\":\"solid\"},\"marker\":{\"symbol\":\"circle\"},\"mode\":\"lines\",\"name\":\"GPT2_100\",\"orientation\":\"v\",\"showlegend\":true,\"x\":[\"0_mid\",\"0_post\",\"1_mid\",\"1_post\",\"2_mid\",\"2_post\",\"3_mid\",\"3_post\",\"4_mid\",\"4_post\",\"5_mid\",\"5_post\",\"6_mid\",\"6_post\",\"7_mid\",\"7_post\",\"8_mid\",\"8_post\",\"9_mid\",\"9_post\",\"10_mid\",\"10_post\",\"11_mid\",\"11_post\",\"12_mid\",\"12_post\",\"13_mid\",\"13_post\",\"14_mid\",\"14_post\",\"15_mid\",\"15_post\",\"16_mid\",\"16_post\",\"17_mid\",\"17_post\",\"18_mid\",\"18_post\",\"19_mid\",\"19_post\",\"20_mid\",\"20_post\",\"21_mid\",\"21_post\",\"22_mid\",\"22_post\",\"23_mid\",\"23_post\",\"0_mid\",\"0_post\",\"1_mid\",\"1_post\",\"2_mid\",\"2_post\",\"3_mid\",\"3_post\",\"4_mid\",\"4_post\",\"5_mid\",\"5_post\",\"6_mid\",\"6_post\",\"7_mid\",\"7_post\",\"8_mid\",\"8_post\",\"9_mid\",\"9_post\",\"10_mid\",\"10_post\",\"11_mid\",\"11_post\",\"12_mid\",\"12_post\",\"13_mid\",\"13_post\",\"14_mid\",\"14_post\",\"15_mid\",\"15_post\",\"16_mid\",\"16_post\",\"17_mid\",\"17_post\",\"18_mid\",\"18_post\",\"19_mid\",\"19_post\",\"20_mid\",\"20_post\",\"21_mid\",\"21_post\",\"22_mid\",\"22_post\",\"23_mid\",\"23_post\"],\"xaxis\":\"x\",\"y\":[-12.132278442382812,-27.586984634399414,-27.173044204711914,-30.9204044342041,-35.269317626953125,-35.2291145324707,-33.92674255371094,-32.09925079345703,-37.210357666015625,-47.19805145263672,-44.2646598815918,-51.48874282836914,-52.044403076171875,-47.8092041015625,-40.97706604003906,-40.08058547973633,-38.356632232666016,-29.80938720703125,-34.785987854003906,-36.97539138793945,-44.72078323364258,-45.09998321533203,-59.99750900268555,-55.57221984863281,-75.78805541992188,-75.94956970214844,-81.13922119140625,-82.91173553466797,-101.29203796386719,-112.71077728271484,-112.91524505615234,-124.19087219238281,-135.045166015625,-143.62625122070312,-146.93727111816406,-168.16000366210938,-189.91360473632812,-233.4586181640625,-228.44061279296875,-212.8367156982422,-220.0938720703125,-278.93365478515625,-296.63671875,-283.093994140625,-280.3814697265625,-285.81890869140625,-292.0264892578125,-254.44158935546875,-12.132278442382812,-27.586984634399414,-27.173044204711914,-30.9204044342041,-35.269317626953125,-35.2291145324707,-33.92674255371094,-32.09925079345703,-37.210357666015625,-47.19805145263672,-44.2646598815918,-51.48874282836914,-52.044403076171875,-47.8092041015625,-40.97706604003906,-40.08058547973633,-38.356632232666016,-29.80938720703125,-34.785987854003906,-36.97539138793945,-44.72078323364258,-45.09998321533203,-59.99750900268555,-55.57221984863281,-75.78805541992188,-75.94956970214844,-81.13922119140625,-82.91173553466797,-101.29203796386719,-112.71077728271484,-112.91524505615234,-124.19087219238281,-135.045166015625,-143.62625122070312,-146.93727111816406,-168.16000366210938,-189.91360473632812,-233.4586181640625,-228.44061279296875,-212.8367156982422,-220.0938720703125,-278.93365478515625,-296.63671875,-283.093994140625,-280.3814697265625,-285.81890869140625,-292.0264892578125,-254.44158935546875],\"yaxis\":\"y\",\"type\":\"scatter\"},{\"hovertemplate\":\"Model=IFT_10000\\u003cbr\\u003eLayer=%{x}\\u003cbr\\u003eneg_logprob=%{y}\\u003cextra\\u003e\\u003c\\u002fextra\\u003e\",\"legendgroup\":\"IFT_10000\",\"line\":{\"color\":\"#FF6692\",\"dash\":\"solid\"},\"marker\":{\"symbol\":\"circle\"},\"mode\":\"lines\",\"name\":\"IFT_10000\",\"orientation\":\"v\",\"showlegend\":true,\"x\":[\"0_mid\",\"0_post\",\"1_mid\",\"1_post\",\"2_mid\",\"2_post\",\"3_mid\",\"3_post\",\"4_mid\",\"4_post\",\"5_mid\",\"5_post\",\"6_mid\",\"6_post\",\"7_mid\",\"7_post\",\"8_mid\",\"8_post\",\"9_mid\",\"9_post\",\"10_mid\",\"10_post\",\"11_mid\",\"11_post\",\"12_mid\",\"12_post\",\"13_mid\",\"13_post\",\"14_mid\",\"14_post\",\"15_mid\",\"15_post\",\"16_mid\",\"16_post\",\"17_mid\",\"17_post\",\"18_mid\",\"18_post\",\"19_mid\",\"19_post\",\"20_mid\",\"20_post\",\"21_mid\",\"21_post\",\"22_mid\",\"22_post\",\"23_mid\",\"23_post\"],\"xaxis\":\"x\",\"y\":[-12.183263778686523,-42.920265197753906,-41.61343002319336,-58.25710678100586,-64.87062072753906,-55.58074951171875,-54.343406677246094,-42.5677604675293,-39.33781814575195,-40.21696090698242,-42.44285202026367,-43.816246032714844,-47.119869232177734,-46.61531448364258,-46.6401481628418,-51.14976501464844,-52.29804992675781,-46.626808166503906,-58.80160903930664,-52.975257873535156,-46.76486587524414,-40.26675033569336,-51.2913932800293,-52.00079345703125,-61.05577087402344,-72.86102294921875,-73.57733917236328,-80.797119140625,-94.30475616455078,-102.06118774414062,-99.1978530883789,-122.62858581542969,-125.04830932617188,-130.3272247314453,-125.37542724609375,-150.41326904296875,-165.48770141601562,-209.32864379882812,-203.46456909179688,-254.89443969726562,-259.9012451171875,-268.5501708984375,-304.447998046875,-318.3052978515625,-333.3945007324219,-353.0431823730469,-335.7164306640625,-317.0732116699219],\"yaxis\":\"y\",\"type\":\"scatter\"},{\"hovertemplate\":\"Model=GPT2_10000\\u003cbr\\u003eLayer=%{x}\\u003cbr\\u003eneg_logprob=%{y}\\u003cextra\\u003e\\u003c\\u002fextra\\u003e\",\"legendgroup\":\"GPT2_10000\",\"line\":{\"color\":\"#B6E880\",\"dash\":\"solid\"},\"marker\":{\"symbol\":\"circle\"},\"mode\":\"lines\",\"name\":\"GPT2_10000\",\"orientation\":\"v\",\"showlegend\":true,\"x\":[\"0_mid\",\"0_post\",\"1_mid\",\"1_post\",\"2_mid\",\"2_post\",\"3_mid\",\"3_post\",\"4_mid\",\"4_post\",\"5_mid\",\"5_post\",\"6_mid\",\"6_post\",\"7_mid\",\"7_post\",\"8_mid\",\"8_post\",\"9_mid\",\"9_post\",\"10_mid\",\"10_post\",\"11_mid\",\"11_post\",\"12_mid\",\"12_post\",\"13_mid\",\"13_post\",\"14_mid\",\"14_post\",\"15_mid\",\"15_post\",\"16_mid\",\"16_post\",\"17_mid\",\"17_post\",\"18_mid\",\"18_post\",\"19_mid\",\"19_post\",\"20_mid\",\"20_post\",\"21_mid\",\"21_post\",\"22_mid\",\"22_post\",\"23_mid\",\"23_post\"],\"xaxis\":\"x\",\"y\":[-12.27804946899414,-45.815921783447266,-43.08686065673828,-58.007747650146484,-62.48749542236328,-58.00032424926758,-56.39326095581055,-46.04977798461914,-45.95772933959961,-50.60857009887695,-50.12941360473633,-51.937217712402344,-55.23698425292969,-55.5036735534668,-55.77689743041992,-54.673580169677734,-58.77787780761719,-55.49891662597656,-63.060585021972656,-61.543426513671875,-65.96759796142578,-63.18050003051758,-83.55897521972656,-81.87396240234375,-100.99451446533203,-109.4555435180664,-115.97119140625,-123.76039123535156,-144.85305786132812,-158.92108154296875,-162.94784545898438,-189.94100952148438,-200.58030700683594,-204.87850952148438,-204.89801025390625,-237.8466033935547,-258.872802734375,-311.28948974609375,-316.5587463378906,-323.8128662109375,-331.54296875,-397.08966064453125,-421.4356994628906,-410.46307373046875,-417.78155517578125,-430.43267822265625,-436.97296142578125,-405.99908447265625],\"yaxis\":\"y\",\"type\":\"scatter\"}],                        {\"template\":{\"data\":{\"histogram2dcontour\":[{\"type\":\"histogram2dcontour\",\"colorbar\":{\"outlinewidth\":0,\"ticks\":\"\"},\"colorscale\":[[0.0,\"#0d0887\"],[0.1111111111111111,\"#46039f\"],[0.2222222222222222,\"#7201a8\"],[0.3333333333333333,\"#9c179e\"],[0.4444444444444444,\"#bd3786\"],[0.5555555555555556,\"#d8576b\"],[0.6666666666666666,\"#ed7953\"],[0.7777777777777778,\"#fb9f3a\"],[0.8888888888888888,\"#fdca26\"],[1.0,\"#f0f921\"]]}],\"choropleth\":[{\"type\":\"choropleth\",\"colorbar\":{\"outlinewidth\":0,\"ticks\":\"\"}}],\"histogram2d\":[{\"type\":\"histogram2d\",\"colorbar\":{\"outlinewidth\":0,\"ticks\":\"\"},\"colorscale\":[[0.0,\"#0d0887\"],[0.1111111111111111,\"#46039f\"],[0.2222222222222222,\"#7201a8\"],[0.3333333333333333,\"#9c179e\"],[0.4444444444444444,\"#bd3786\"],[0.5555555555555556,\"#d8576b\"],[0.6666666666666666,\"#ed7953\"],[0.7777777777777778,\"#fb9f3a\"],[0.8888888888888888,\"#fdca26\"],[1.0,\"#f0f921\"]]}],\"heatmap\":[{\"type\":\"heatmap\",\"colorbar\":{\"outlinewidth\":0,\"ticks\":\"\"},\"colorscale\":[[0.0,\"#0d0887\"],[0.1111111111111111,\"#46039f\"],[0.2222222222222222,\"#7201a8\"],[0.3333333333333333,\"#9c179e\"],[0.4444444444444444,\"#bd3786\"],[0.5555555555555556,\"#d8576b\"],[0.6666666666666666,\"#ed7953\"],[0.7777777777777778,\"#fb9f3a\"],[0.8888888888888888,\"#fdca26\"],[1.0,\"#f0f921\"]]}],\"heatmapgl\":[{\"type\":\"heatmapgl\",\"colorbar\":{\"outlinewidth\":0,\"ticks\":\"\"},\"colorscale\":[[0.0,\"#0d0887\"],[0.1111111111111111,\"#46039f\"],[0.2222222222222222,\"#7201a8\"],[0.3333333333333333,\"#9c179e\"],[0.4444444444444444,\"#bd3786\"],[0.5555555555555556,\"#d8576b\"],[0.6666666666666666,\"#ed7953\"],[0.7777777777777778,\"#fb9f3a\"],[0.8888888888888888,\"#fdca26\"],[1.0,\"#f0f921\"]]}],\"contourcarpet\":[{\"type\":\"contourcarpet\",\"colorbar\":{\"outlinewidth\":0,\"ticks\":\"\"}}],\"contour\":[{\"type\":\"contour\",\"colorbar\":{\"outlinewidth\":0,\"ticks\":\"\"},\"colorscale\":[[0.0,\"#0d0887\"],[0.1111111111111111,\"#46039f\"],[0.2222222222222222,\"#7201a8\"],[0.3333333333333333,\"#9c179e\"],[0.4444444444444444,\"#bd3786\"],[0.5555555555555556,\"#d8576b\"],[0.6666666666666666,\"#ed7953\"],[0.7777777777777778,\"#fb9f3a\"],[0.8888888888888888,\"#fdca26\"],[1.0,\"#f0f921\"]]}],\"surface\":[{\"type\":\"surface\",\"colorbar\":{\"outlinewidth\":0,\"ticks\":\"\"},\"colorscale\":[[0.0,\"#0d0887\"],[0.1111111111111111,\"#46039f\"],[0.2222222222222222,\"#7201a8\"],[0.3333333333333333,\"#9c179e\"],[0.4444444444444444,\"#bd3786\"],[0.5555555555555556,\"#d8576b\"],[0.6666666666666666,\"#ed7953\"],[0.7777777777777778,\"#fb9f3a\"],[0.8888888888888888,\"#fdca26\"],[1.0,\"#f0f921\"]]}],\"mesh3d\":[{\"type\":\"mesh3d\",\"colorbar\":{\"outlinewidth\":0,\"ticks\":\"\"}}],\"scatter\":[{\"fillpattern\":{\"fillmode\":\"overlay\",\"size\":10,\"solidity\":0.2},\"type\":\"scatter\"}],\"parcoords\":[{\"type\":\"parcoords\",\"line\":{\"colorbar\":{\"outlinewidth\":0,\"ticks\":\"\"}}}],\"scatterpolargl\":[{\"type\":\"scatterpolargl\",\"marker\":{\"colorbar\":{\"outlinewidth\":0,\"ticks\":\"\"}}}],\"bar\":[{\"error_x\":{\"color\":\"#2a3f5f\"},\"error_y\":{\"color\":\"#2a3f5f\"},\"marker\":{\"line\":{\"color\":\"#E5ECF6\",\"width\":0.5},\"pattern\":{\"fillmode\":\"overlay\",\"size\":10,\"solidity\":0.2}},\"type\":\"bar\"}],\"scattergeo\":[{\"type\":\"scattergeo\",\"marker\":{\"colorbar\":{\"outlinewidth\":0,\"ticks\":\"\"}}}],\"scatterpolar\":[{\"type\":\"scatterpolar\",\"marker\":{\"colorbar\":{\"outlinewidth\":0,\"ticks\":\"\"}}}],\"histogram\":[{\"marker\":{\"pattern\":{\"fillmode\":\"overlay\",\"size\":10,\"solidity\":0.2}},\"type\":\"histogram\"}],\"scattergl\":[{\"type\":\"scattergl\",\"marker\":{\"colorbar\":{\"outlinewidth\":0,\"ticks\":\"\"}}}],\"scatter3d\":[{\"type\":\"scatter3d\",\"line\":{\"colorbar\":{\"outlinewidth\":0,\"ticks\":\"\"}},\"marker\":{\"colorbar\":{\"outlinewidth\":0,\"ticks\":\"\"}}}],\"scattermapbox\":[{\"type\":\"scattermapbox\",\"marker\":{\"colorbar\":{\"outlinewidth\":0,\"ticks\":\"\"}}}],\"scatterternary\":[{\"type\":\"scatterternary\",\"marker\":{\"colorbar\":{\"outlinewidth\":0,\"ticks\":\"\"}}}],\"scattercarpet\":[{\"type\":\"scattercarpet\",\"marker\":{\"colorbar\":{\"outlinewidth\":0,\"ticks\":\"\"}}}],\"carpet\":[{\"aaxis\":{\"endlinecolor\":\"#2a3f5f\",\"gridcolor\":\"white\",\"linecolor\":\"white\",\"minorgridcolor\":\"white\",\"startlinecolor\":\"#2a3f5f\"},\"baxis\":{\"endlinecolor\":\"#2a3f5f\",\"gridcolor\":\"white\",\"linecolor\":\"white\",\"minorgridcolor\":\"white\",\"startlinecolor\":\"#2a3f5f\"},\"type\":\"carpet\"}],\"table\":[{\"cells\":{\"fill\":{\"color\":\"#EBF0F8\"},\"line\":{\"color\":\"white\"}},\"header\":{\"fill\":{\"color\":\"#C8D4E3\"},\"line\":{\"color\":\"white\"}},\"type\":\"table\"}],\"barpolar\":[{\"marker\":{\"line\":{\"color\":\"#E5ECF6\",\"width\":0.5},\"pattern\":{\"fillmode\":\"overlay\",\"size\":10,\"solidity\":0.2}},\"type\":\"barpolar\"}],\"pie\":[{\"automargin\":true,\"type\":\"pie\"}]},\"layout\":{\"autotypenumbers\":\"strict\",\"colorway\":[\"#636efa\",\"#EF553B\",\"#00cc96\",\"#ab63fa\",\"#FFA15A\",\"#19d3f3\",\"#FF6692\",\"#B6E880\",\"#FF97FF\",\"#FECB52\"],\"font\":{\"color\":\"#2a3f5f\"},\"hovermode\":\"closest\",\"hoverlabel\":{\"align\":\"left\"},\"paper_bgcolor\":\"white\",\"plot_bgcolor\":\"#E5ECF6\",\"polar\":{\"bgcolor\":\"#E5ECF6\",\"angularaxis\":{\"gridcolor\":\"white\",\"linecolor\":\"white\",\"ticks\":\"\"},\"radialaxis\":{\"gridcolor\":\"white\",\"linecolor\":\"white\",\"ticks\":\"\"}},\"ternary\":{\"bgcolor\":\"#E5ECF6\",\"aaxis\":{\"gridcolor\":\"white\",\"linecolor\":\"white\",\"ticks\":\"\"},\"baxis\":{\"gridcolor\":\"white\",\"linecolor\":\"white\",\"ticks\":\"\"},\"caxis\":{\"gridcolor\":\"white\",\"linecolor\":\"white\",\"ticks\":\"\"}},\"coloraxis\":{\"colorbar\":{\"outlinewidth\":0,\"ticks\":\"\"}},\"colorscale\":{\"sequential\":[[0.0,\"#0d0887\"],[0.1111111111111111,\"#46039f\"],[0.2222222222222222,\"#7201a8\"],[0.3333333333333333,\"#9c179e\"],[0.4444444444444444,\"#bd3786\"],[0.5555555555555556,\"#d8576b\"],[0.6666666666666666,\"#ed7953\"],[0.7777777777777778,\"#fb9f3a\"],[0.8888888888888888,\"#fdca26\"],[1.0,\"#f0f921\"]],\"sequentialminus\":[[0.0,\"#0d0887\"],[0.1111111111111111,\"#46039f\"],[0.2222222222222222,\"#7201a8\"],[0.3333333333333333,\"#9c179e\"],[0.4444444444444444,\"#bd3786\"],[0.5555555555555556,\"#d8576b\"],[0.6666666666666666,\"#ed7953\"],[0.7777777777777778,\"#fb9f3a\"],[0.8888888888888888,\"#fdca26\"],[1.0,\"#f0f921\"]],\"diverging\":[[0,\"#8e0152\"],[0.1,\"#c51b7d\"],[0.2,\"#de77ae\"],[0.3,\"#f1b6da\"],[0.4,\"#fde0ef\"],[0.5,\"#f7f7f7\"],[0.6,\"#e6f5d0\"],[0.7,\"#b8e186\"],[0.8,\"#7fbc41\"],[0.9,\"#4d9221\"],[1,\"#276419\"]]},\"xaxis\":{\"gridcolor\":\"white\",\"linecolor\":\"white\",\"ticks\":\"\",\"title\":{\"standoff\":15},\"zerolinecolor\":\"white\",\"automargin\":true,\"zerolinewidth\":2},\"yaxis\":{\"gridcolor\":\"white\",\"linecolor\":\"white\",\"ticks\":\"\",\"title\":{\"standoff\":15},\"zerolinecolor\":\"white\",\"automargin\":true,\"zerolinewidth\":2},\"scene\":{\"xaxis\":{\"backgroundcolor\":\"#E5ECF6\",\"gridcolor\":\"white\",\"linecolor\":\"white\",\"showbackground\":true,\"ticks\":\"\",\"zerolinecolor\":\"white\",\"gridwidth\":2},\"yaxis\":{\"backgroundcolor\":\"#E5ECF6\",\"gridcolor\":\"white\",\"linecolor\":\"white\",\"showbackground\":true,\"ticks\":\"\",\"zerolinecolor\":\"white\",\"gridwidth\":2},\"zaxis\":{\"backgroundcolor\":\"#E5ECF6\",\"gridcolor\":\"white\",\"linecolor\":\"white\",\"showbackground\":true,\"ticks\":\"\",\"zerolinecolor\":\"white\",\"gridwidth\":2}},\"shapedefaults\":{\"line\":{\"color\":\"#2a3f5f\"}},\"annotationdefaults\":{\"arrowcolor\":\"#2a3f5f\",\"arrowhead\":0,\"arrowwidth\":1},\"geo\":{\"bgcolor\":\"white\",\"landcolor\":\"#E5ECF6\",\"subunitcolor\":\"white\",\"showland\":true,\"showlakes\":true,\"lakecolor\":\"white\"},\"title\":{\"x\":0.05},\"mapbox\":{\"style\":\"light\"}}},\"xaxis\":{\"anchor\":\"y\",\"domain\":[0.0,1.0],\"title\":{\"text\":\"Layer\"}},\"yaxis\":{\"anchor\":\"x\",\"domain\":[0.0,1.0],\"title\":{\"text\":\"neg_logprob\"}},\"legend\":{\"title\":{\"text\":\"Model\"},\"tracegroupgap\":0},\"margin\":{\"t\":60}},                        {\"responsive\": true}                    ).then(function(){\n",
       "                            \n",
       "var gd = document.getElementById('b4946bcd-fc27-429c-b308-f00f2950f639');\n",
       "var x = new MutationObserver(function (mutations, observer) {{\n",
       "        var display = window.getComputedStyle(gd).display;\n",
       "        if (!display || display === 'none') {{\n",
       "            console.log([gd, 'removed!']);\n",
       "            Plotly.purge(gd);\n",
       "            observer.disconnect();\n",
       "        }}\n",
       "}});\n",
       "\n",
       "// Listen for the removal of the full notebook cells\n",
       "var notebookContainer = gd.closest('#notebook-container');\n",
       "if (notebookContainer) {{\n",
       "    x.observe(notebookContainer, {childList: true});\n",
       "}}\n",
       "\n",
       "// Listen for the clearing of the current output cell\n",
       "var outputEl = gd.closest('.output');\n",
       "if (outputEl) {{\n",
       "    x.observe(outputEl, {childList: true});\n",
       "}}\n",
       "\n",
       "                        })                };                });            </script>        </div>"
      ]
     },
     "metadata": {},
     "output_type": "display_data"
    },
    {
     "name": "stdout",
     "output_type": "stream",
     "text": [
      "zzzzzzzzzzzzzzzzzzzzzzzzzzzzzzzzzzzzzzzzzzzzzzzzzzzz\n",
      "Neg tok: 13788\n",
      "Tok id: 611\n"
     ]
    },
    {
     "data": {
      "application/vnd.plotly.v1+json": {
       "config": {
        "plotlyServerURL": "https://plot.ly"
       },
       "data": [
        {
         "hovertemplate": "Model=IFT<br>Layer=%{x}<br>neg_logprob=%{y}<extra></extra>",
         "legendgroup": "IFT",
         "line": {
          "color": "#636efa",
          "dash": "solid"
         },
         "marker": {
          "symbol": "circle"
         },
         "mode": "lines",
         "name": "IFT",
         "orientation": "v",
         "showlegend": true,
         "type": "scatter",
         "x": [
          "0_mid",
          "0_post",
          "1_mid",
          "1_post",
          "2_mid",
          "2_post",
          "3_mid",
          "3_post",
          "4_mid",
          "4_post",
          "5_mid",
          "5_post",
          "6_mid",
          "6_post",
          "7_mid",
          "7_post",
          "8_mid",
          "8_post",
          "9_mid",
          "9_post",
          "10_mid",
          "10_post",
          "11_mid",
          "11_post",
          "12_mid",
          "12_post",
          "13_mid",
          "13_post",
          "14_mid",
          "14_post",
          "15_mid",
          "15_post",
          "16_mid",
          "16_post",
          "17_mid",
          "17_post",
          "18_mid",
          "18_post",
          "19_mid",
          "19_post",
          "20_mid",
          "20_post",
          "21_mid",
          "21_post",
          "22_mid",
          "22_post",
          "23_mid",
          "23_post"
         ],
         "xaxis": "x",
         "y": [
          -11.170919418334961,
          -11.749319076538086,
          -11.561980247497559,
          -11.684011459350586,
          -14.81054401397705,
          -13.49365234375,
          -13.365089416503906,
          -10.940292358398438,
          -11.704239845275879,
          -11.199211120605469,
          -10.094552040100098,
          -7.388379096984863,
          -2.0161609649658203,
          -1.6496738195419312,
          -6.360963821411133,
          -10.188105583190918,
          -17.739503860473633,
          -24.509008407592773,
          -26.851016998291016,
          -19.917205810546875,
          -20.062820434570312,
          -13.464845657348633,
          -12.095433235168457,
          -3.8490195274353027,
          -2.0638084411621094,
          -4.5159711837768555,
          -0.33277109265327454,
          -1.3597707748413086,
          0,
          -1.1920928244535389e-07,
          -3.576278118089249e-07,
          0,
          0,
          0,
          0,
          0,
          0,
          0,
          0,
          0,
          0,
          0,
          0,
          0,
          0,
          0,
          0,
          0
         ],
         "yaxis": "y"
        },
        {
         "hovertemplate": "Model=GPT2<br>Layer=%{x}<br>neg_logprob=%{y}<extra></extra>",
         "legendgroup": "GPT2",
         "line": {
          "color": "#EF553B",
          "dash": "solid"
         },
         "marker": {
          "symbol": "circle"
         },
         "mode": "lines",
         "name": "GPT2",
         "orientation": "v",
         "showlegend": true,
         "type": "scatter",
         "x": [
          "0_mid",
          "0_post",
          "1_mid",
          "1_post",
          "2_mid",
          "2_post",
          "3_mid",
          "3_post",
          "4_mid",
          "4_post",
          "5_mid",
          "5_post",
          "6_mid",
          "6_post",
          "7_mid",
          "7_post",
          "8_mid",
          "8_post",
          "9_mid",
          "9_post",
          "10_mid",
          "10_post",
          "11_mid",
          "11_post",
          "12_mid",
          "12_post",
          "13_mid",
          "13_post",
          "14_mid",
          "14_post",
          "15_mid",
          "15_post",
          "16_mid",
          "16_post",
          "17_mid",
          "17_post",
          "18_mid",
          "18_post",
          "19_mid",
          "19_post",
          "20_mid",
          "20_post",
          "21_mid",
          "21_post",
          "22_mid",
          "22_post",
          "23_mid",
          "23_post"
         ],
         "xaxis": "x",
         "y": [
          -11.128209114074707,
          -12.5861177444458,
          -11.992871284484863,
          -12.28926944732666,
          -14.385880470275879,
          -13.200876235961914,
          -13.42453670501709,
          -11.235292434692383,
          -12.30859661102295,
          -11.993643760681152,
          -9.34376049041748,
          -8.63692569732666,
          -1.3363763093948364,
          -2.063770294189453,
          -2.4780690670013428,
          -8.573378562927246,
          -15.166258811950684,
          -14.573532104492188,
          -9.747480392456055,
          -7.416734218597412,
          -1.8620970249176025,
          -0.038793954998254776,
          -0.0028745303861796856,
          -0.11789068579673767,
          -9.775113539944869e-06,
          -2.109982233378105e-05,
          -1.0728830375228426e-06,
          -1.645074735279195e-05,
          0,
          0,
          0,
          0,
          0,
          0,
          0,
          0,
          0,
          0,
          0,
          0,
          0,
          0,
          0,
          0,
          0,
          0,
          0,
          0
         ],
         "yaxis": "y"
        },
        {
         "hovertemplate": "Model=IFT_10<br>Layer=%{x}<br>neg_logprob=%{y}<extra></extra>",
         "legendgroup": "IFT_10",
         "line": {
          "color": "#00cc96",
          "dash": "solid"
         },
         "marker": {
          "symbol": "circle"
         },
         "mode": "lines",
         "name": "IFT_10",
         "orientation": "v",
         "showlegend": true,
         "type": "scatter",
         "x": [
          "0_mid",
          "0_post",
          "1_mid",
          "1_post",
          "2_mid",
          "2_post",
          "3_mid",
          "3_post",
          "4_mid",
          "4_post",
          "5_mid",
          "5_post",
          "6_mid",
          "6_post",
          "7_mid",
          "7_post",
          "8_mid",
          "8_post",
          "9_mid",
          "9_post",
          "10_mid",
          "10_post",
          "11_mid",
          "11_post",
          "12_mid",
          "12_post",
          "13_mid",
          "13_post",
          "14_mid",
          "14_post",
          "15_mid",
          "15_post",
          "16_mid",
          "16_post",
          "17_mid",
          "17_post",
          "18_mid",
          "18_post",
          "19_mid",
          "19_post",
          "20_mid",
          "20_post",
          "21_mid",
          "21_post",
          "22_mid",
          "22_post",
          "23_mid",
          "23_post"
         ],
         "xaxis": "x",
         "y": [
          -11.47001838684082,
          -16.17402458190918,
          -15.582494735717773,
          -18.175893783569336,
          -21.8739013671875,
          -20.141469955444336,
          -21.90471076965332,
          -21.7344970703125,
          -23.44394302368164,
          -24.111495971679688,
          -24.94161033630371,
          -22.958621978759766,
          -19.60856056213379,
          -19.975820541381836,
          -26.351194381713867,
          -29.107099533081055,
          -29.851228713989258,
          -38.12705993652344,
          -41.936859130859375,
          -38.46324157714844,
          -40.40581130981445,
          -35.820472717285156,
          -28.177135467529297,
          -21.30208396911621,
          -21.471179962158203,
          -29.98782730102539,
          -31.02422332763672,
          -35.15242004394531,
          -86.72804260253906,
          -91.36678314208984,
          -84.93463897705078,
          -90.18148803710938,
          -108.65479278564453,
          -104.87611389160156,
          -102.26229858398438,
          -106.28678894042969,
          -102.97657775878906,
          -117.10430908203125,
          -127.00486755371094,
          -157.42373657226562,
          -167.07351684570312,
          -124.76370239257812,
          -134.22442626953125,
          -171.04739379882812,
          -168.34878540039062,
          -145.87109375,
          -142.66314697265625,
          -131.213134765625
         ],
         "yaxis": "y"
        },
        {
         "hovertemplate": "Model=GPT2_10<br>Layer=%{x}<br>neg_logprob=%{y}<extra></extra>",
         "legendgroup": "GPT2_10",
         "line": {
          "color": "#ab63fa",
          "dash": "solid"
         },
         "marker": {
          "symbol": "circle"
         },
         "mode": "lines",
         "name": "GPT2_10",
         "orientation": "v",
         "showlegend": true,
         "type": "scatter",
         "x": [
          "0_mid",
          "0_post",
          "1_mid",
          "1_post",
          "2_mid",
          "2_post",
          "3_mid",
          "3_post",
          "4_mid",
          "4_post",
          "5_mid",
          "5_post",
          "6_mid",
          "6_post",
          "7_mid",
          "7_post",
          "8_mid",
          "8_post",
          "9_mid",
          "9_post",
          "10_mid",
          "10_post",
          "11_mid",
          "11_post",
          "12_mid",
          "12_post",
          "13_mid",
          "13_post",
          "14_mid",
          "14_post",
          "15_mid",
          "15_post",
          "16_mid",
          "16_post",
          "17_mid",
          "17_post",
          "18_mid",
          "18_post",
          "19_mid",
          "19_post",
          "20_mid",
          "20_post",
          "21_mid",
          "21_post",
          "22_mid",
          "22_post",
          "23_mid",
          "23_post"
         ],
         "xaxis": "x",
         "y": [
          -11.433141708374023,
          -16.512393951416016,
          -16.086240768432617,
          -17.91377830505371,
          -21.033946990966797,
          -19.87379264831543,
          -23.167652130126953,
          -22.005281448364258,
          -24.542299270629883,
          -25.458736419677734,
          -22.62281608581543,
          -22.733972549438477,
          -17.890602111816406,
          -18.884952545166016,
          -23.119613647460938,
          -25.545930862426758,
          -31.06631088256836,
          -28.476001739501953,
          -30.876752853393555,
          -30.0574893951416,
          -29.500471115112305,
          -27.94545555114746,
          -30.160497665405273,
          -31.5295467376709,
          -40.96845626831055,
          -44.93109893798828,
          -49.091026306152344,
          -57.26371765136719,
          -100.14984130859375,
          -103.9326171875,
          -103.33063507080078,
          -103.11335754394531,
          -117.63843536376953,
          -118.28437805175781,
          -114.7578125,
          -124.92398071289062,
          -125.51596069335938,
          -132.2081298828125,
          -156.65957641601562,
          -173.14010620117188,
          -182.68238830566406,
          -151.82205200195312,
          -158.25,
          -203.56698608398438,
          -206.55398559570312,
          -182.97625732421875,
          -187.69891357421875,
          -170.09954833984375
         ],
         "yaxis": "y"
        },
        {
         "hovertemplate": "Model=IFT_100<br>Layer=%{x}<br>neg_logprob=%{y}<extra></extra>",
         "legendgroup": "IFT_100",
         "line": {
          "color": "#FFA15A",
          "dash": "solid"
         },
         "marker": {
          "symbol": "circle"
         },
         "mode": "lines",
         "name": "IFT_100",
         "orientation": "v",
         "showlegend": true,
         "type": "scatter",
         "x": [
          "0_mid",
          "0_post",
          "1_mid",
          "1_post",
          "2_mid",
          "2_post",
          "3_mid",
          "3_post",
          "4_mid",
          "4_post",
          "5_mid",
          "5_post",
          "6_mid",
          "6_post",
          "7_mid",
          "7_post",
          "8_mid",
          "8_post",
          "9_mid",
          "9_post",
          "10_mid",
          "10_post",
          "11_mid",
          "11_post",
          "12_mid",
          "12_post",
          "13_mid",
          "13_post",
          "14_mid",
          "14_post",
          "15_mid",
          "15_post",
          "16_mid",
          "16_post",
          "17_mid",
          "17_post",
          "18_mid",
          "18_post",
          "19_mid",
          "19_post",
          "20_mid",
          "20_post",
          "21_mid",
          "21_post",
          "22_mid",
          "22_post",
          "23_mid",
          "23_post",
          "0_mid",
          "0_post",
          "1_mid",
          "1_post",
          "2_mid",
          "2_post",
          "3_mid",
          "3_post",
          "4_mid",
          "4_post",
          "5_mid",
          "5_post",
          "6_mid",
          "6_post",
          "7_mid",
          "7_post",
          "8_mid",
          "8_post",
          "9_mid",
          "9_post",
          "10_mid",
          "10_post",
          "11_mid",
          "11_post",
          "12_mid",
          "12_post",
          "13_mid",
          "13_post",
          "14_mid",
          "14_post",
          "15_mid",
          "15_post",
          "16_mid",
          "16_post",
          "17_mid",
          "17_post",
          "18_mid",
          "18_post",
          "19_mid",
          "19_post",
          "20_mid",
          "20_post",
          "21_mid",
          "21_post",
          "22_mid",
          "22_post",
          "23_mid",
          "23_post"
         ],
         "xaxis": "x",
         "y": [
          -10.641533851623535,
          -27.101430892944336,
          -25.10171890258789,
          -24.622806549072266,
          -24.438005447387695,
          -27.534832000732422,
          -30.365829467773438,
          -34.16511535644531,
          -35.550270080566406,
          -36.3471794128418,
          -39.500701904296875,
          -38.11957931518555,
          -44.706878662109375,
          -44.68251037597656,
          -48.21961975097656,
          -44.932830810546875,
          -49.498043060302734,
          -48.93257522583008,
          -57.88329315185547,
          -57.447200775146484,
          -72.37173461914062,
          -65.31499481201172,
          -68.05380249023438,
          -62.85525894165039,
          -65.91143798828125,
          -76.79708862304688,
          -86.84353637695312,
          -102.33943939208984,
          -165.9882049560547,
          -178.01414489746094,
          -171.9603729248047,
          -185.304443359375,
          -208.83619689941406,
          -211.56924438476562,
          -190.89291381835938,
          -201.305908203125,
          -191.18707275390625,
          -230.2325439453125,
          -236.53329467773438,
          -273.0718078613281,
          -260.73773193359375,
          -236.60589599609375,
          -237.3603515625,
          -277.19268798828125,
          -241.53179931640625,
          -248.15652465820312,
          -226.07485961914062,
          -224.47967529296875,
          -10.641533851623535,
          -27.101430892944336,
          -25.10171890258789,
          -24.622806549072266,
          -24.438005447387695,
          -27.534832000732422,
          -30.365829467773438,
          -34.16511535644531,
          -35.550270080566406,
          -36.3471794128418,
          -39.500701904296875,
          -38.11957931518555,
          -44.706878662109375,
          -44.68251037597656,
          -48.21961975097656,
          -44.932830810546875,
          -49.498043060302734,
          -48.93257522583008,
          -57.88329315185547,
          -57.447200775146484,
          -72.37173461914062,
          -65.31499481201172,
          -68.05380249023438,
          -62.85525894165039,
          -65.91143798828125,
          -76.79708862304688,
          -86.84353637695312,
          -102.33943939208984,
          -165.9882049560547,
          -178.01414489746094,
          -171.9603729248047,
          -185.304443359375,
          -208.83619689941406,
          -211.56924438476562,
          -190.89291381835938,
          -201.305908203125,
          -191.18707275390625,
          -230.2325439453125,
          -236.53329467773438,
          -273.0718078613281,
          -260.73773193359375,
          -236.60589599609375,
          -237.3603515625,
          -277.19268798828125,
          -241.53179931640625,
          -248.15652465820312,
          -226.07485961914062,
          -224.47967529296875
         ],
         "yaxis": "y"
        },
        {
         "hovertemplate": "Model=GPT2_100<br>Layer=%{x}<br>neg_logprob=%{y}<extra></extra>",
         "legendgroup": "GPT2_100",
         "line": {
          "color": "#19d3f3",
          "dash": "solid"
         },
         "marker": {
          "symbol": "circle"
         },
         "mode": "lines",
         "name": "GPT2_100",
         "orientation": "v",
         "showlegend": true,
         "type": "scatter",
         "x": [
          "0_mid",
          "0_post",
          "1_mid",
          "1_post",
          "2_mid",
          "2_post",
          "3_mid",
          "3_post",
          "4_mid",
          "4_post",
          "5_mid",
          "5_post",
          "6_mid",
          "6_post",
          "7_mid",
          "7_post",
          "8_mid",
          "8_post",
          "9_mid",
          "9_post",
          "10_mid",
          "10_post",
          "11_mid",
          "11_post",
          "12_mid",
          "12_post",
          "13_mid",
          "13_post",
          "14_mid",
          "14_post",
          "15_mid",
          "15_post",
          "16_mid",
          "16_post",
          "17_mid",
          "17_post",
          "18_mid",
          "18_post",
          "19_mid",
          "19_post",
          "20_mid",
          "20_post",
          "21_mid",
          "21_post",
          "22_mid",
          "22_post",
          "23_mid",
          "23_post",
          "0_mid",
          "0_post",
          "1_mid",
          "1_post",
          "2_mid",
          "2_post",
          "3_mid",
          "3_post",
          "4_mid",
          "4_post",
          "5_mid",
          "5_post",
          "6_mid",
          "6_post",
          "7_mid",
          "7_post",
          "8_mid",
          "8_post",
          "9_mid",
          "9_post",
          "10_mid",
          "10_post",
          "11_mid",
          "11_post",
          "12_mid",
          "12_post",
          "13_mid",
          "13_post",
          "14_mid",
          "14_post",
          "15_mid",
          "15_post",
          "16_mid",
          "16_post",
          "17_mid",
          "17_post",
          "18_mid",
          "18_post",
          "19_mid",
          "19_post",
          "20_mid",
          "20_post",
          "21_mid",
          "21_post",
          "22_mid",
          "22_post",
          "23_mid",
          "23_post"
         ],
         "xaxis": "x",
         "y": [
          -10.620658874511719,
          -28.667104721069336,
          -27.933147430419922,
          -27.897417068481445,
          -28.624053955078125,
          -31.023637771606445,
          -34.610877990722656,
          -38.38710021972656,
          -38.887237548828125,
          -39.793495178222656,
          -39.70002365112305,
          -41.850467681884766,
          -49.03958511352539,
          -50.15749740600586,
          -53.91082000732422,
          -52.92499542236328,
          -61.55671691894531,
          -57.84429931640625,
          -69.03685760498047,
          -68.28253936767578,
          -75.62142181396484,
          -71.63546752929688,
          -78.58563232421875,
          -77.08101654052734,
          -96.54840087890625,
          -97.71294403076172,
          -109.05948638916016,
          -117.4942855834961,
          -161.9492950439453,
          -175.9191131591797,
          -171.43948364257812,
          -180.08702087402344,
          -202.82772827148438,
          -198.990478515625,
          -185.73020935058594,
          -198.81849670410156,
          -193.32730102539062,
          -223.25173950195312,
          -245.70584106445312,
          -266.6077575683594,
          -270.12408447265625,
          -253.7333984375,
          -246.55496215820312,
          -295.5252990722656,
          -279.839599609375,
          -294.8218994140625,
          -291.7574462890625,
          -252.8897705078125,
          -10.620658874511719,
          -28.667104721069336,
          -27.933147430419922,
          -27.897417068481445,
          -28.624053955078125,
          -31.023637771606445,
          -34.610877990722656,
          -38.38710021972656,
          -38.887237548828125,
          -39.793495178222656,
          -39.70002365112305,
          -41.850467681884766,
          -49.03958511352539,
          -50.15749740600586,
          -53.91082000732422,
          -52.92499542236328,
          -61.55671691894531,
          -57.84429931640625,
          -69.03685760498047,
          -68.28253936767578,
          -75.62142181396484,
          -71.63546752929688,
          -78.58563232421875,
          -77.08101654052734,
          -96.54840087890625,
          -97.71294403076172,
          -109.05948638916016,
          -117.4942855834961,
          -161.9492950439453,
          -175.9191131591797,
          -171.43948364257812,
          -180.08702087402344,
          -202.82772827148438,
          -198.990478515625,
          -185.73020935058594,
          -198.81849670410156,
          -193.32730102539062,
          -223.25173950195312,
          -245.70584106445312,
          -266.6077575683594,
          -270.12408447265625,
          -253.7333984375,
          -246.55496215820312,
          -295.5252990722656,
          -279.839599609375,
          -294.8218994140625,
          -291.7574462890625,
          -252.8897705078125
         ],
         "yaxis": "y"
        },
        {
         "hovertemplate": "Model=IFT_10000<br>Layer=%{x}<br>neg_logprob=%{y}<extra></extra>",
         "legendgroup": "IFT_10000",
         "line": {
          "color": "#FF6692",
          "dash": "solid"
         },
         "marker": {
          "symbol": "circle"
         },
         "mode": "lines",
         "name": "IFT_10000",
         "orientation": "v",
         "showlegend": true,
         "type": "scatter",
         "x": [
          "0_mid",
          "0_post",
          "1_mid",
          "1_post",
          "2_mid",
          "2_post",
          "3_mid",
          "3_post",
          "4_mid",
          "4_post",
          "5_mid",
          "5_post",
          "6_mid",
          "6_post",
          "7_mid",
          "7_post",
          "8_mid",
          "8_post",
          "9_mid",
          "9_post",
          "10_mid",
          "10_post",
          "11_mid",
          "11_post",
          "12_mid",
          "12_post",
          "13_mid",
          "13_post",
          "14_mid",
          "14_post",
          "15_mid",
          "15_post",
          "16_mid",
          "16_post",
          "17_mid",
          "17_post",
          "18_mid",
          "18_post",
          "19_mid",
          "19_post",
          "20_mid",
          "20_post",
          "21_mid",
          "21_post",
          "22_mid",
          "22_post",
          "23_mid",
          "23_post"
         ],
         "xaxis": "x",
         "y": [
          -11.438440322875977,
          -20.5504150390625,
          -23.737775802612305,
          -22.954668045043945,
          -25.275672912597656,
          -28.410770416259766,
          -29.319719314575195,
          -31.310911178588867,
          -32.523746490478516,
          -34.43477249145508,
          -34.093292236328125,
          -35.34215545654297,
          -35.49699401855469,
          -33.6485595703125,
          -36.75185012817383,
          -42.3011360168457,
          -47.33786392211914,
          -54.17465591430664,
          -59.86445617675781,
          -58.5311279296875,
          -70.20728302001953,
          -70.4942626953125,
          -70.53868865966797,
          -71.04663848876953,
          -71.19905853271484,
          -81.52859497070312,
          -87.25061798095703,
          -92.66462707519531,
          -150.82867431640625,
          -171.15777587890625,
          -169.907958984375,
          -180.67507934570312,
          -204.27000427246094,
          -214.0023193359375,
          -210.61729431152344,
          -223.83360290527344,
          -217.35403442382812,
          -257.9634704589844,
          -271.6800231933594,
          -315.6339111328125,
          -322.4127197265625,
          -305.8672790527344,
          -319.51739501953125,
          -371.28289794921875,
          -377.9848327636719,
          -360.1125183105469,
          -350.7288513183594,
          -334.4586181640625
         ],
         "yaxis": "y"
        },
        {
         "hovertemplate": "Model=GPT2_10000<br>Layer=%{x}<br>neg_logprob=%{y}<extra></extra>",
         "legendgroup": "GPT2_10000",
         "line": {
          "color": "#B6E880",
          "dash": "solid"
         },
         "marker": {
          "symbol": "circle"
         },
         "mode": "lines",
         "name": "GPT2_10000",
         "orientation": "v",
         "showlegend": true,
         "type": "scatter",
         "x": [
          "0_mid",
          "0_post",
          "1_mid",
          "1_post",
          "2_mid",
          "2_post",
          "3_mid",
          "3_post",
          "4_mid",
          "4_post",
          "5_mid",
          "5_post",
          "6_mid",
          "6_post",
          "7_mid",
          "7_post",
          "8_mid",
          "8_post",
          "9_mid",
          "9_post",
          "10_mid",
          "10_post",
          "11_mid",
          "11_post",
          "12_mid",
          "12_post",
          "13_mid",
          "13_post",
          "14_mid",
          "14_post",
          "15_mid",
          "15_post",
          "16_mid",
          "16_post",
          "17_mid",
          "17_post",
          "18_mid",
          "18_post",
          "19_mid",
          "19_post",
          "20_mid",
          "20_post",
          "21_mid",
          "21_post",
          "22_mid",
          "22_post",
          "23_mid",
          "23_post"
         ],
         "xaxis": "x",
         "y": [
          -11.519317626953125,
          -21.474817276000977,
          -24.390230178833008,
          -24.443279266357422,
          -26.311744689941406,
          -28.91551971435547,
          -30.450464248657227,
          -33.63241958618164,
          -35.11014175415039,
          -37.434078216552734,
          -35.084693908691406,
          -38.349693298339844,
          -39.55849075317383,
          -39.17747116088867,
          -39.680301666259766,
          -46.41701889038086,
          -53.371665954589844,
          -50.79050827026367,
          -56.53575134277344,
          -57.79436492919922,
          -66.6678695678711,
          -69.28117370605469,
          -78.56868743896484,
          -80.5084228515625,
          -92.62500762939453,
          -107.34451293945312,
          -115.30093383789062,
          -122.33604431152344,
          -170.8775634765625,
          -190.2566375732422,
          -192.60153198242188,
          -209.50680541992188,
          -233.41566467285156,
          -251.5177459716797,
          -251.33778381347656,
          -274.3839111328125,
          -277.418212890625,
          -305.2410583496094,
          -327.0802917480469,
          -347.538330078125,
          -368.319091796875,
          -357.35455322265625,
          -370.83624267578125,
          -428.29461669921875,
          -443.8953857421875,
          -451.1390380859375,
          -466.3882751464844,
          -438.18243408203125
         ],
         "yaxis": "y"
        }
       ],
       "layout": {
        "legend": {
         "title": {
          "text": "Model"
         },
         "tracegroupgap": 0
        },
        "margin": {
         "t": 60
        },
        "template": {
         "data": {
          "bar": [
           {
            "error_x": {
             "color": "#2a3f5f"
            },
            "error_y": {
             "color": "#2a3f5f"
            },
            "marker": {
             "line": {
              "color": "#E5ECF6",
              "width": 0.5
             },
             "pattern": {
              "fillmode": "overlay",
              "size": 10,
              "solidity": 0.2
             }
            },
            "type": "bar"
           }
          ],
          "barpolar": [
           {
            "marker": {
             "line": {
              "color": "#E5ECF6",
              "width": 0.5
             },
             "pattern": {
              "fillmode": "overlay",
              "size": 10,
              "solidity": 0.2
             }
            },
            "type": "barpolar"
           }
          ],
          "carpet": [
           {
            "aaxis": {
             "endlinecolor": "#2a3f5f",
             "gridcolor": "white",
             "linecolor": "white",
             "minorgridcolor": "white",
             "startlinecolor": "#2a3f5f"
            },
            "baxis": {
             "endlinecolor": "#2a3f5f",
             "gridcolor": "white",
             "linecolor": "white",
             "minorgridcolor": "white",
             "startlinecolor": "#2a3f5f"
            },
            "type": "carpet"
           }
          ],
          "choropleth": [
           {
            "colorbar": {
             "outlinewidth": 0,
             "ticks": ""
            },
            "type": "choropleth"
           }
          ],
          "contour": [
           {
            "colorbar": {
             "outlinewidth": 0,
             "ticks": ""
            },
            "colorscale": [
             [
              0,
              "#0d0887"
             ],
             [
              0.1111111111111111,
              "#46039f"
             ],
             [
              0.2222222222222222,
              "#7201a8"
             ],
             [
              0.3333333333333333,
              "#9c179e"
             ],
             [
              0.4444444444444444,
              "#bd3786"
             ],
             [
              0.5555555555555556,
              "#d8576b"
             ],
             [
              0.6666666666666666,
              "#ed7953"
             ],
             [
              0.7777777777777778,
              "#fb9f3a"
             ],
             [
              0.8888888888888888,
              "#fdca26"
             ],
             [
              1,
              "#f0f921"
             ]
            ],
            "type": "contour"
           }
          ],
          "contourcarpet": [
           {
            "colorbar": {
             "outlinewidth": 0,
             "ticks": ""
            },
            "type": "contourcarpet"
           }
          ],
          "heatmap": [
           {
            "colorbar": {
             "outlinewidth": 0,
             "ticks": ""
            },
            "colorscale": [
             [
              0,
              "#0d0887"
             ],
             [
              0.1111111111111111,
              "#46039f"
             ],
             [
              0.2222222222222222,
              "#7201a8"
             ],
             [
              0.3333333333333333,
              "#9c179e"
             ],
             [
              0.4444444444444444,
              "#bd3786"
             ],
             [
              0.5555555555555556,
              "#d8576b"
             ],
             [
              0.6666666666666666,
              "#ed7953"
             ],
             [
              0.7777777777777778,
              "#fb9f3a"
             ],
             [
              0.8888888888888888,
              "#fdca26"
             ],
             [
              1,
              "#f0f921"
             ]
            ],
            "type": "heatmap"
           }
          ],
          "heatmapgl": [
           {
            "colorbar": {
             "outlinewidth": 0,
             "ticks": ""
            },
            "colorscale": [
             [
              0,
              "#0d0887"
             ],
             [
              0.1111111111111111,
              "#46039f"
             ],
             [
              0.2222222222222222,
              "#7201a8"
             ],
             [
              0.3333333333333333,
              "#9c179e"
             ],
             [
              0.4444444444444444,
              "#bd3786"
             ],
             [
              0.5555555555555556,
              "#d8576b"
             ],
             [
              0.6666666666666666,
              "#ed7953"
             ],
             [
              0.7777777777777778,
              "#fb9f3a"
             ],
             [
              0.8888888888888888,
              "#fdca26"
             ],
             [
              1,
              "#f0f921"
             ]
            ],
            "type": "heatmapgl"
           }
          ],
          "histogram": [
           {
            "marker": {
             "pattern": {
              "fillmode": "overlay",
              "size": 10,
              "solidity": 0.2
             }
            },
            "type": "histogram"
           }
          ],
          "histogram2d": [
           {
            "colorbar": {
             "outlinewidth": 0,
             "ticks": ""
            },
            "colorscale": [
             [
              0,
              "#0d0887"
             ],
             [
              0.1111111111111111,
              "#46039f"
             ],
             [
              0.2222222222222222,
              "#7201a8"
             ],
             [
              0.3333333333333333,
              "#9c179e"
             ],
             [
              0.4444444444444444,
              "#bd3786"
             ],
             [
              0.5555555555555556,
              "#d8576b"
             ],
             [
              0.6666666666666666,
              "#ed7953"
             ],
             [
              0.7777777777777778,
              "#fb9f3a"
             ],
             [
              0.8888888888888888,
              "#fdca26"
             ],
             [
              1,
              "#f0f921"
             ]
            ],
            "type": "histogram2d"
           }
          ],
          "histogram2dcontour": [
           {
            "colorbar": {
             "outlinewidth": 0,
             "ticks": ""
            },
            "colorscale": [
             [
              0,
              "#0d0887"
             ],
             [
              0.1111111111111111,
              "#46039f"
             ],
             [
              0.2222222222222222,
              "#7201a8"
             ],
             [
              0.3333333333333333,
              "#9c179e"
             ],
             [
              0.4444444444444444,
              "#bd3786"
             ],
             [
              0.5555555555555556,
              "#d8576b"
             ],
             [
              0.6666666666666666,
              "#ed7953"
             ],
             [
              0.7777777777777778,
              "#fb9f3a"
             ],
             [
              0.8888888888888888,
              "#fdca26"
             ],
             [
              1,
              "#f0f921"
             ]
            ],
            "type": "histogram2dcontour"
           }
          ],
          "mesh3d": [
           {
            "colorbar": {
             "outlinewidth": 0,
             "ticks": ""
            },
            "type": "mesh3d"
           }
          ],
          "parcoords": [
           {
            "line": {
             "colorbar": {
              "outlinewidth": 0,
              "ticks": ""
             }
            },
            "type": "parcoords"
           }
          ],
          "pie": [
           {
            "automargin": true,
            "type": "pie"
           }
          ],
          "scatter": [
           {
            "fillpattern": {
             "fillmode": "overlay",
             "size": 10,
             "solidity": 0.2
            },
            "type": "scatter"
           }
          ],
          "scatter3d": [
           {
            "line": {
             "colorbar": {
              "outlinewidth": 0,
              "ticks": ""
             }
            },
            "marker": {
             "colorbar": {
              "outlinewidth": 0,
              "ticks": ""
             }
            },
            "type": "scatter3d"
           }
          ],
          "scattercarpet": [
           {
            "marker": {
             "colorbar": {
              "outlinewidth": 0,
              "ticks": ""
             }
            },
            "type": "scattercarpet"
           }
          ],
          "scattergeo": [
           {
            "marker": {
             "colorbar": {
              "outlinewidth": 0,
              "ticks": ""
             }
            },
            "type": "scattergeo"
           }
          ],
          "scattergl": [
           {
            "marker": {
             "colorbar": {
              "outlinewidth": 0,
              "ticks": ""
             }
            },
            "type": "scattergl"
           }
          ],
          "scattermapbox": [
           {
            "marker": {
             "colorbar": {
              "outlinewidth": 0,
              "ticks": ""
             }
            },
            "type": "scattermapbox"
           }
          ],
          "scatterpolar": [
           {
            "marker": {
             "colorbar": {
              "outlinewidth": 0,
              "ticks": ""
             }
            },
            "type": "scatterpolar"
           }
          ],
          "scatterpolargl": [
           {
            "marker": {
             "colorbar": {
              "outlinewidth": 0,
              "ticks": ""
             }
            },
            "type": "scatterpolargl"
           }
          ],
          "scatterternary": [
           {
            "marker": {
             "colorbar": {
              "outlinewidth": 0,
              "ticks": ""
             }
            },
            "type": "scatterternary"
           }
          ],
          "surface": [
           {
            "colorbar": {
             "outlinewidth": 0,
             "ticks": ""
            },
            "colorscale": [
             [
              0,
              "#0d0887"
             ],
             [
              0.1111111111111111,
              "#46039f"
             ],
             [
              0.2222222222222222,
              "#7201a8"
             ],
             [
              0.3333333333333333,
              "#9c179e"
             ],
             [
              0.4444444444444444,
              "#bd3786"
             ],
             [
              0.5555555555555556,
              "#d8576b"
             ],
             [
              0.6666666666666666,
              "#ed7953"
             ],
             [
              0.7777777777777778,
              "#fb9f3a"
             ],
             [
              0.8888888888888888,
              "#fdca26"
             ],
             [
              1,
              "#f0f921"
             ]
            ],
            "type": "surface"
           }
          ],
          "table": [
           {
            "cells": {
             "fill": {
              "color": "#EBF0F8"
             },
             "line": {
              "color": "white"
             }
            },
            "header": {
             "fill": {
              "color": "#C8D4E3"
             },
             "line": {
              "color": "white"
             }
            },
            "type": "table"
           }
          ]
         },
         "layout": {
          "annotationdefaults": {
           "arrowcolor": "#2a3f5f",
           "arrowhead": 0,
           "arrowwidth": 1
          },
          "autotypenumbers": "strict",
          "coloraxis": {
           "colorbar": {
            "outlinewidth": 0,
            "ticks": ""
           }
          },
          "colorscale": {
           "diverging": [
            [
             0,
             "#8e0152"
            ],
            [
             0.1,
             "#c51b7d"
            ],
            [
             0.2,
             "#de77ae"
            ],
            [
             0.3,
             "#f1b6da"
            ],
            [
             0.4,
             "#fde0ef"
            ],
            [
             0.5,
             "#f7f7f7"
            ],
            [
             0.6,
             "#e6f5d0"
            ],
            [
             0.7,
             "#b8e186"
            ],
            [
             0.8,
             "#7fbc41"
            ],
            [
             0.9,
             "#4d9221"
            ],
            [
             1,
             "#276419"
            ]
           ],
           "sequential": [
            [
             0,
             "#0d0887"
            ],
            [
             0.1111111111111111,
             "#46039f"
            ],
            [
             0.2222222222222222,
             "#7201a8"
            ],
            [
             0.3333333333333333,
             "#9c179e"
            ],
            [
             0.4444444444444444,
             "#bd3786"
            ],
            [
             0.5555555555555556,
             "#d8576b"
            ],
            [
             0.6666666666666666,
             "#ed7953"
            ],
            [
             0.7777777777777778,
             "#fb9f3a"
            ],
            [
             0.8888888888888888,
             "#fdca26"
            ],
            [
             1,
             "#f0f921"
            ]
           ],
           "sequentialminus": [
            [
             0,
             "#0d0887"
            ],
            [
             0.1111111111111111,
             "#46039f"
            ],
            [
             0.2222222222222222,
             "#7201a8"
            ],
            [
             0.3333333333333333,
             "#9c179e"
            ],
            [
             0.4444444444444444,
             "#bd3786"
            ],
            [
             0.5555555555555556,
             "#d8576b"
            ],
            [
             0.6666666666666666,
             "#ed7953"
            ],
            [
             0.7777777777777778,
             "#fb9f3a"
            ],
            [
             0.8888888888888888,
             "#fdca26"
            ],
            [
             1,
             "#f0f921"
            ]
           ]
          },
          "colorway": [
           "#636efa",
           "#EF553B",
           "#00cc96",
           "#ab63fa",
           "#FFA15A",
           "#19d3f3",
           "#FF6692",
           "#B6E880",
           "#FF97FF",
           "#FECB52"
          ],
          "font": {
           "color": "#2a3f5f"
          },
          "geo": {
           "bgcolor": "white",
           "lakecolor": "white",
           "landcolor": "#E5ECF6",
           "showlakes": true,
           "showland": true,
           "subunitcolor": "white"
          },
          "hoverlabel": {
           "align": "left"
          },
          "hovermode": "closest",
          "mapbox": {
           "style": "light"
          },
          "paper_bgcolor": "white",
          "plot_bgcolor": "#E5ECF6",
          "polar": {
           "angularaxis": {
            "gridcolor": "white",
            "linecolor": "white",
            "ticks": ""
           },
           "bgcolor": "#E5ECF6",
           "radialaxis": {
            "gridcolor": "white",
            "linecolor": "white",
            "ticks": ""
           }
          },
          "scene": {
           "xaxis": {
            "backgroundcolor": "#E5ECF6",
            "gridcolor": "white",
            "gridwidth": 2,
            "linecolor": "white",
            "showbackground": true,
            "ticks": "",
            "zerolinecolor": "white"
           },
           "yaxis": {
            "backgroundcolor": "#E5ECF6",
            "gridcolor": "white",
            "gridwidth": 2,
            "linecolor": "white",
            "showbackground": true,
            "ticks": "",
            "zerolinecolor": "white"
           },
           "zaxis": {
            "backgroundcolor": "#E5ECF6",
            "gridcolor": "white",
            "gridwidth": 2,
            "linecolor": "white",
            "showbackground": true,
            "ticks": "",
            "zerolinecolor": "white"
           }
          },
          "shapedefaults": {
           "line": {
            "color": "#2a3f5f"
           }
          },
          "ternary": {
           "aaxis": {
            "gridcolor": "white",
            "linecolor": "white",
            "ticks": ""
           },
           "baxis": {
            "gridcolor": "white",
            "linecolor": "white",
            "ticks": ""
           },
           "bgcolor": "#E5ECF6",
           "caxis": {
            "gridcolor": "white",
            "linecolor": "white",
            "ticks": ""
           }
          },
          "title": {
           "x": 0.05
          },
          "xaxis": {
           "automargin": true,
           "gridcolor": "white",
           "linecolor": "white",
           "ticks": "",
           "title": {
            "standoff": 15
           },
           "zerolinecolor": "white",
           "zerolinewidth": 2
          },
          "yaxis": {
           "automargin": true,
           "gridcolor": "white",
           "linecolor": "white",
           "ticks": "",
           "title": {
            "standoff": 15
           },
           "zerolinecolor": "white",
           "zerolinewidth": 2
          }
         }
        },
        "xaxis": {
         "anchor": "y",
         "domain": [
          0,
          1
         ],
         "title": {
          "text": "Layer"
         }
        },
        "yaxis": {
         "anchor": "x",
         "domain": [
          0,
          1
         ],
         "title": {
          "text": "neg_logprob"
         }
        }
       }
      },
      "text/html": [
       "<div>                            <div id=\"d9cf018e-02b3-4358-b5f9-85cd5e203238\" class=\"plotly-graph-div\" style=\"height:525px; width:100%;\"></div>            <script type=\"text/javascript\">                require([\"plotly\"], function(Plotly) {                    window.PLOTLYENV=window.PLOTLYENV || {};                                    if (document.getElementById(\"d9cf018e-02b3-4358-b5f9-85cd5e203238\")) {                    Plotly.newPlot(                        \"d9cf018e-02b3-4358-b5f9-85cd5e203238\",                        [{\"hovertemplate\":\"Model=IFT\\u003cbr\\u003eLayer=%{x}\\u003cbr\\u003eneg_logprob=%{y}\\u003cextra\\u003e\\u003c\\u002fextra\\u003e\",\"legendgroup\":\"IFT\",\"line\":{\"color\":\"#636efa\",\"dash\":\"solid\"},\"marker\":{\"symbol\":\"circle\"},\"mode\":\"lines\",\"name\":\"IFT\",\"orientation\":\"v\",\"showlegend\":true,\"x\":[\"0_mid\",\"0_post\",\"1_mid\",\"1_post\",\"2_mid\",\"2_post\",\"3_mid\",\"3_post\",\"4_mid\",\"4_post\",\"5_mid\",\"5_post\",\"6_mid\",\"6_post\",\"7_mid\",\"7_post\",\"8_mid\",\"8_post\",\"9_mid\",\"9_post\",\"10_mid\",\"10_post\",\"11_mid\",\"11_post\",\"12_mid\",\"12_post\",\"13_mid\",\"13_post\",\"14_mid\",\"14_post\",\"15_mid\",\"15_post\",\"16_mid\",\"16_post\",\"17_mid\",\"17_post\",\"18_mid\",\"18_post\",\"19_mid\",\"19_post\",\"20_mid\",\"20_post\",\"21_mid\",\"21_post\",\"22_mid\",\"22_post\",\"23_mid\",\"23_post\"],\"xaxis\":\"x\",\"y\":[-11.170919418334961,-11.749319076538086,-11.561980247497559,-11.684011459350586,-14.81054401397705,-13.49365234375,-13.365089416503906,-10.940292358398438,-11.704239845275879,-11.199211120605469,-10.094552040100098,-7.388379096984863,-2.0161609649658203,-1.6496738195419312,-6.360963821411133,-10.188105583190918,-17.739503860473633,-24.509008407592773,-26.851016998291016,-19.917205810546875,-20.062820434570312,-13.464845657348633,-12.095433235168457,-3.8490195274353027,-2.0638084411621094,-4.5159711837768555,-0.33277109265327454,-1.3597707748413086,0.0,-1.1920928244535389e-07,-3.576278118089249e-07,0.0,0.0,0.0,0.0,0.0,0.0,0.0,0.0,0.0,0.0,0.0,0.0,0.0,0.0,0.0,0.0,0.0],\"yaxis\":\"y\",\"type\":\"scatter\"},{\"hovertemplate\":\"Model=GPT2\\u003cbr\\u003eLayer=%{x}\\u003cbr\\u003eneg_logprob=%{y}\\u003cextra\\u003e\\u003c\\u002fextra\\u003e\",\"legendgroup\":\"GPT2\",\"line\":{\"color\":\"#EF553B\",\"dash\":\"solid\"},\"marker\":{\"symbol\":\"circle\"},\"mode\":\"lines\",\"name\":\"GPT2\",\"orientation\":\"v\",\"showlegend\":true,\"x\":[\"0_mid\",\"0_post\",\"1_mid\",\"1_post\",\"2_mid\",\"2_post\",\"3_mid\",\"3_post\",\"4_mid\",\"4_post\",\"5_mid\",\"5_post\",\"6_mid\",\"6_post\",\"7_mid\",\"7_post\",\"8_mid\",\"8_post\",\"9_mid\",\"9_post\",\"10_mid\",\"10_post\",\"11_mid\",\"11_post\",\"12_mid\",\"12_post\",\"13_mid\",\"13_post\",\"14_mid\",\"14_post\",\"15_mid\",\"15_post\",\"16_mid\",\"16_post\",\"17_mid\",\"17_post\",\"18_mid\",\"18_post\",\"19_mid\",\"19_post\",\"20_mid\",\"20_post\",\"21_mid\",\"21_post\",\"22_mid\",\"22_post\",\"23_mid\",\"23_post\"],\"xaxis\":\"x\",\"y\":[-11.128209114074707,-12.5861177444458,-11.992871284484863,-12.28926944732666,-14.385880470275879,-13.200876235961914,-13.42453670501709,-11.235292434692383,-12.30859661102295,-11.993643760681152,-9.34376049041748,-8.63692569732666,-1.3363763093948364,-2.063770294189453,-2.4780690670013428,-8.573378562927246,-15.166258811950684,-14.573532104492188,-9.747480392456055,-7.416734218597412,-1.8620970249176025,-0.038793954998254776,-0.0028745303861796856,-0.11789068579673767,-9.775113539944869e-06,-2.109982233378105e-05,-1.0728830375228426e-06,-1.645074735279195e-05,0.0,0.0,0.0,0.0,0.0,0.0,0.0,0.0,0.0,0.0,0.0,0.0,0.0,0.0,0.0,0.0,0.0,0.0,0.0,0.0],\"yaxis\":\"y\",\"type\":\"scatter\"},{\"hovertemplate\":\"Model=IFT_10\\u003cbr\\u003eLayer=%{x}\\u003cbr\\u003eneg_logprob=%{y}\\u003cextra\\u003e\\u003c\\u002fextra\\u003e\",\"legendgroup\":\"IFT_10\",\"line\":{\"color\":\"#00cc96\",\"dash\":\"solid\"},\"marker\":{\"symbol\":\"circle\"},\"mode\":\"lines\",\"name\":\"IFT_10\",\"orientation\":\"v\",\"showlegend\":true,\"x\":[\"0_mid\",\"0_post\",\"1_mid\",\"1_post\",\"2_mid\",\"2_post\",\"3_mid\",\"3_post\",\"4_mid\",\"4_post\",\"5_mid\",\"5_post\",\"6_mid\",\"6_post\",\"7_mid\",\"7_post\",\"8_mid\",\"8_post\",\"9_mid\",\"9_post\",\"10_mid\",\"10_post\",\"11_mid\",\"11_post\",\"12_mid\",\"12_post\",\"13_mid\",\"13_post\",\"14_mid\",\"14_post\",\"15_mid\",\"15_post\",\"16_mid\",\"16_post\",\"17_mid\",\"17_post\",\"18_mid\",\"18_post\",\"19_mid\",\"19_post\",\"20_mid\",\"20_post\",\"21_mid\",\"21_post\",\"22_mid\",\"22_post\",\"23_mid\",\"23_post\"],\"xaxis\":\"x\",\"y\":[-11.47001838684082,-16.17402458190918,-15.582494735717773,-18.175893783569336,-21.8739013671875,-20.141469955444336,-21.90471076965332,-21.7344970703125,-23.44394302368164,-24.111495971679688,-24.94161033630371,-22.958621978759766,-19.60856056213379,-19.975820541381836,-26.351194381713867,-29.107099533081055,-29.851228713989258,-38.12705993652344,-41.936859130859375,-38.46324157714844,-40.40581130981445,-35.820472717285156,-28.177135467529297,-21.30208396911621,-21.471179962158203,-29.98782730102539,-31.02422332763672,-35.15242004394531,-86.72804260253906,-91.36678314208984,-84.93463897705078,-90.18148803710938,-108.65479278564453,-104.87611389160156,-102.26229858398438,-106.28678894042969,-102.97657775878906,-117.10430908203125,-127.00486755371094,-157.42373657226562,-167.07351684570312,-124.76370239257812,-134.22442626953125,-171.04739379882812,-168.34878540039062,-145.87109375,-142.66314697265625,-131.213134765625],\"yaxis\":\"y\",\"type\":\"scatter\"},{\"hovertemplate\":\"Model=GPT2_10\\u003cbr\\u003eLayer=%{x}\\u003cbr\\u003eneg_logprob=%{y}\\u003cextra\\u003e\\u003c\\u002fextra\\u003e\",\"legendgroup\":\"GPT2_10\",\"line\":{\"color\":\"#ab63fa\",\"dash\":\"solid\"},\"marker\":{\"symbol\":\"circle\"},\"mode\":\"lines\",\"name\":\"GPT2_10\",\"orientation\":\"v\",\"showlegend\":true,\"x\":[\"0_mid\",\"0_post\",\"1_mid\",\"1_post\",\"2_mid\",\"2_post\",\"3_mid\",\"3_post\",\"4_mid\",\"4_post\",\"5_mid\",\"5_post\",\"6_mid\",\"6_post\",\"7_mid\",\"7_post\",\"8_mid\",\"8_post\",\"9_mid\",\"9_post\",\"10_mid\",\"10_post\",\"11_mid\",\"11_post\",\"12_mid\",\"12_post\",\"13_mid\",\"13_post\",\"14_mid\",\"14_post\",\"15_mid\",\"15_post\",\"16_mid\",\"16_post\",\"17_mid\",\"17_post\",\"18_mid\",\"18_post\",\"19_mid\",\"19_post\",\"20_mid\",\"20_post\",\"21_mid\",\"21_post\",\"22_mid\",\"22_post\",\"23_mid\",\"23_post\"],\"xaxis\":\"x\",\"y\":[-11.433141708374023,-16.512393951416016,-16.086240768432617,-17.91377830505371,-21.033946990966797,-19.87379264831543,-23.167652130126953,-22.005281448364258,-24.542299270629883,-25.458736419677734,-22.62281608581543,-22.733972549438477,-17.890602111816406,-18.884952545166016,-23.119613647460938,-25.545930862426758,-31.06631088256836,-28.476001739501953,-30.876752853393555,-30.0574893951416,-29.500471115112305,-27.94545555114746,-30.160497665405273,-31.5295467376709,-40.96845626831055,-44.93109893798828,-49.091026306152344,-57.26371765136719,-100.14984130859375,-103.9326171875,-103.33063507080078,-103.11335754394531,-117.63843536376953,-118.28437805175781,-114.7578125,-124.92398071289062,-125.51596069335938,-132.2081298828125,-156.65957641601562,-173.14010620117188,-182.68238830566406,-151.82205200195312,-158.25,-203.56698608398438,-206.55398559570312,-182.97625732421875,-187.69891357421875,-170.09954833984375],\"yaxis\":\"y\",\"type\":\"scatter\"},{\"hovertemplate\":\"Model=IFT_100\\u003cbr\\u003eLayer=%{x}\\u003cbr\\u003eneg_logprob=%{y}\\u003cextra\\u003e\\u003c\\u002fextra\\u003e\",\"legendgroup\":\"IFT_100\",\"line\":{\"color\":\"#FFA15A\",\"dash\":\"solid\"},\"marker\":{\"symbol\":\"circle\"},\"mode\":\"lines\",\"name\":\"IFT_100\",\"orientation\":\"v\",\"showlegend\":true,\"x\":[\"0_mid\",\"0_post\",\"1_mid\",\"1_post\",\"2_mid\",\"2_post\",\"3_mid\",\"3_post\",\"4_mid\",\"4_post\",\"5_mid\",\"5_post\",\"6_mid\",\"6_post\",\"7_mid\",\"7_post\",\"8_mid\",\"8_post\",\"9_mid\",\"9_post\",\"10_mid\",\"10_post\",\"11_mid\",\"11_post\",\"12_mid\",\"12_post\",\"13_mid\",\"13_post\",\"14_mid\",\"14_post\",\"15_mid\",\"15_post\",\"16_mid\",\"16_post\",\"17_mid\",\"17_post\",\"18_mid\",\"18_post\",\"19_mid\",\"19_post\",\"20_mid\",\"20_post\",\"21_mid\",\"21_post\",\"22_mid\",\"22_post\",\"23_mid\",\"23_post\",\"0_mid\",\"0_post\",\"1_mid\",\"1_post\",\"2_mid\",\"2_post\",\"3_mid\",\"3_post\",\"4_mid\",\"4_post\",\"5_mid\",\"5_post\",\"6_mid\",\"6_post\",\"7_mid\",\"7_post\",\"8_mid\",\"8_post\",\"9_mid\",\"9_post\",\"10_mid\",\"10_post\",\"11_mid\",\"11_post\",\"12_mid\",\"12_post\",\"13_mid\",\"13_post\",\"14_mid\",\"14_post\",\"15_mid\",\"15_post\",\"16_mid\",\"16_post\",\"17_mid\",\"17_post\",\"18_mid\",\"18_post\",\"19_mid\",\"19_post\",\"20_mid\",\"20_post\",\"21_mid\",\"21_post\",\"22_mid\",\"22_post\",\"23_mid\",\"23_post\"],\"xaxis\":\"x\",\"y\":[-10.641533851623535,-27.101430892944336,-25.10171890258789,-24.622806549072266,-24.438005447387695,-27.534832000732422,-30.365829467773438,-34.16511535644531,-35.550270080566406,-36.3471794128418,-39.500701904296875,-38.11957931518555,-44.706878662109375,-44.68251037597656,-48.21961975097656,-44.932830810546875,-49.498043060302734,-48.93257522583008,-57.88329315185547,-57.447200775146484,-72.37173461914062,-65.31499481201172,-68.05380249023438,-62.85525894165039,-65.91143798828125,-76.79708862304688,-86.84353637695312,-102.33943939208984,-165.9882049560547,-178.01414489746094,-171.9603729248047,-185.304443359375,-208.83619689941406,-211.56924438476562,-190.89291381835938,-201.305908203125,-191.18707275390625,-230.2325439453125,-236.53329467773438,-273.0718078613281,-260.73773193359375,-236.60589599609375,-237.3603515625,-277.19268798828125,-241.53179931640625,-248.15652465820312,-226.07485961914062,-224.47967529296875,-10.641533851623535,-27.101430892944336,-25.10171890258789,-24.622806549072266,-24.438005447387695,-27.534832000732422,-30.365829467773438,-34.16511535644531,-35.550270080566406,-36.3471794128418,-39.500701904296875,-38.11957931518555,-44.706878662109375,-44.68251037597656,-48.21961975097656,-44.932830810546875,-49.498043060302734,-48.93257522583008,-57.88329315185547,-57.447200775146484,-72.37173461914062,-65.31499481201172,-68.05380249023438,-62.85525894165039,-65.91143798828125,-76.79708862304688,-86.84353637695312,-102.33943939208984,-165.9882049560547,-178.01414489746094,-171.9603729248047,-185.304443359375,-208.83619689941406,-211.56924438476562,-190.89291381835938,-201.305908203125,-191.18707275390625,-230.2325439453125,-236.53329467773438,-273.0718078613281,-260.73773193359375,-236.60589599609375,-237.3603515625,-277.19268798828125,-241.53179931640625,-248.15652465820312,-226.07485961914062,-224.47967529296875],\"yaxis\":\"y\",\"type\":\"scatter\"},{\"hovertemplate\":\"Model=GPT2_100\\u003cbr\\u003eLayer=%{x}\\u003cbr\\u003eneg_logprob=%{y}\\u003cextra\\u003e\\u003c\\u002fextra\\u003e\",\"legendgroup\":\"GPT2_100\",\"line\":{\"color\":\"#19d3f3\",\"dash\":\"solid\"},\"marker\":{\"symbol\":\"circle\"},\"mode\":\"lines\",\"name\":\"GPT2_100\",\"orientation\":\"v\",\"showlegend\":true,\"x\":[\"0_mid\",\"0_post\",\"1_mid\",\"1_post\",\"2_mid\",\"2_post\",\"3_mid\",\"3_post\",\"4_mid\",\"4_post\",\"5_mid\",\"5_post\",\"6_mid\",\"6_post\",\"7_mid\",\"7_post\",\"8_mid\",\"8_post\",\"9_mid\",\"9_post\",\"10_mid\",\"10_post\",\"11_mid\",\"11_post\",\"12_mid\",\"12_post\",\"13_mid\",\"13_post\",\"14_mid\",\"14_post\",\"15_mid\",\"15_post\",\"16_mid\",\"16_post\",\"17_mid\",\"17_post\",\"18_mid\",\"18_post\",\"19_mid\",\"19_post\",\"20_mid\",\"20_post\",\"21_mid\",\"21_post\",\"22_mid\",\"22_post\",\"23_mid\",\"23_post\",\"0_mid\",\"0_post\",\"1_mid\",\"1_post\",\"2_mid\",\"2_post\",\"3_mid\",\"3_post\",\"4_mid\",\"4_post\",\"5_mid\",\"5_post\",\"6_mid\",\"6_post\",\"7_mid\",\"7_post\",\"8_mid\",\"8_post\",\"9_mid\",\"9_post\",\"10_mid\",\"10_post\",\"11_mid\",\"11_post\",\"12_mid\",\"12_post\",\"13_mid\",\"13_post\",\"14_mid\",\"14_post\",\"15_mid\",\"15_post\",\"16_mid\",\"16_post\",\"17_mid\",\"17_post\",\"18_mid\",\"18_post\",\"19_mid\",\"19_post\",\"20_mid\",\"20_post\",\"21_mid\",\"21_post\",\"22_mid\",\"22_post\",\"23_mid\",\"23_post\"],\"xaxis\":\"x\",\"y\":[-10.620658874511719,-28.667104721069336,-27.933147430419922,-27.897417068481445,-28.624053955078125,-31.023637771606445,-34.610877990722656,-38.38710021972656,-38.887237548828125,-39.793495178222656,-39.70002365112305,-41.850467681884766,-49.03958511352539,-50.15749740600586,-53.91082000732422,-52.92499542236328,-61.55671691894531,-57.84429931640625,-69.03685760498047,-68.28253936767578,-75.62142181396484,-71.63546752929688,-78.58563232421875,-77.08101654052734,-96.54840087890625,-97.71294403076172,-109.05948638916016,-117.4942855834961,-161.9492950439453,-175.9191131591797,-171.43948364257812,-180.08702087402344,-202.82772827148438,-198.990478515625,-185.73020935058594,-198.81849670410156,-193.32730102539062,-223.25173950195312,-245.70584106445312,-266.6077575683594,-270.12408447265625,-253.7333984375,-246.55496215820312,-295.5252990722656,-279.839599609375,-294.8218994140625,-291.7574462890625,-252.8897705078125,-10.620658874511719,-28.667104721069336,-27.933147430419922,-27.897417068481445,-28.624053955078125,-31.023637771606445,-34.610877990722656,-38.38710021972656,-38.887237548828125,-39.793495178222656,-39.70002365112305,-41.850467681884766,-49.03958511352539,-50.15749740600586,-53.91082000732422,-52.92499542236328,-61.55671691894531,-57.84429931640625,-69.03685760498047,-68.28253936767578,-75.62142181396484,-71.63546752929688,-78.58563232421875,-77.08101654052734,-96.54840087890625,-97.71294403076172,-109.05948638916016,-117.4942855834961,-161.9492950439453,-175.9191131591797,-171.43948364257812,-180.08702087402344,-202.82772827148438,-198.990478515625,-185.73020935058594,-198.81849670410156,-193.32730102539062,-223.25173950195312,-245.70584106445312,-266.6077575683594,-270.12408447265625,-253.7333984375,-246.55496215820312,-295.5252990722656,-279.839599609375,-294.8218994140625,-291.7574462890625,-252.8897705078125],\"yaxis\":\"y\",\"type\":\"scatter\"},{\"hovertemplate\":\"Model=IFT_10000\\u003cbr\\u003eLayer=%{x}\\u003cbr\\u003eneg_logprob=%{y}\\u003cextra\\u003e\\u003c\\u002fextra\\u003e\",\"legendgroup\":\"IFT_10000\",\"line\":{\"color\":\"#FF6692\",\"dash\":\"solid\"},\"marker\":{\"symbol\":\"circle\"},\"mode\":\"lines\",\"name\":\"IFT_10000\",\"orientation\":\"v\",\"showlegend\":true,\"x\":[\"0_mid\",\"0_post\",\"1_mid\",\"1_post\",\"2_mid\",\"2_post\",\"3_mid\",\"3_post\",\"4_mid\",\"4_post\",\"5_mid\",\"5_post\",\"6_mid\",\"6_post\",\"7_mid\",\"7_post\",\"8_mid\",\"8_post\",\"9_mid\",\"9_post\",\"10_mid\",\"10_post\",\"11_mid\",\"11_post\",\"12_mid\",\"12_post\",\"13_mid\",\"13_post\",\"14_mid\",\"14_post\",\"15_mid\",\"15_post\",\"16_mid\",\"16_post\",\"17_mid\",\"17_post\",\"18_mid\",\"18_post\",\"19_mid\",\"19_post\",\"20_mid\",\"20_post\",\"21_mid\",\"21_post\",\"22_mid\",\"22_post\",\"23_mid\",\"23_post\"],\"xaxis\":\"x\",\"y\":[-11.438440322875977,-20.5504150390625,-23.737775802612305,-22.954668045043945,-25.275672912597656,-28.410770416259766,-29.319719314575195,-31.310911178588867,-32.523746490478516,-34.43477249145508,-34.093292236328125,-35.34215545654297,-35.49699401855469,-33.6485595703125,-36.75185012817383,-42.3011360168457,-47.33786392211914,-54.17465591430664,-59.86445617675781,-58.5311279296875,-70.20728302001953,-70.4942626953125,-70.53868865966797,-71.04663848876953,-71.19905853271484,-81.52859497070312,-87.25061798095703,-92.66462707519531,-150.82867431640625,-171.15777587890625,-169.907958984375,-180.67507934570312,-204.27000427246094,-214.0023193359375,-210.61729431152344,-223.83360290527344,-217.35403442382812,-257.9634704589844,-271.6800231933594,-315.6339111328125,-322.4127197265625,-305.8672790527344,-319.51739501953125,-371.28289794921875,-377.9848327636719,-360.1125183105469,-350.7288513183594,-334.4586181640625],\"yaxis\":\"y\",\"type\":\"scatter\"},{\"hovertemplate\":\"Model=GPT2_10000\\u003cbr\\u003eLayer=%{x}\\u003cbr\\u003eneg_logprob=%{y}\\u003cextra\\u003e\\u003c\\u002fextra\\u003e\",\"legendgroup\":\"GPT2_10000\",\"line\":{\"color\":\"#B6E880\",\"dash\":\"solid\"},\"marker\":{\"symbol\":\"circle\"},\"mode\":\"lines\",\"name\":\"GPT2_10000\",\"orientation\":\"v\",\"showlegend\":true,\"x\":[\"0_mid\",\"0_post\",\"1_mid\",\"1_post\",\"2_mid\",\"2_post\",\"3_mid\",\"3_post\",\"4_mid\",\"4_post\",\"5_mid\",\"5_post\",\"6_mid\",\"6_post\",\"7_mid\",\"7_post\",\"8_mid\",\"8_post\",\"9_mid\",\"9_post\",\"10_mid\",\"10_post\",\"11_mid\",\"11_post\",\"12_mid\",\"12_post\",\"13_mid\",\"13_post\",\"14_mid\",\"14_post\",\"15_mid\",\"15_post\",\"16_mid\",\"16_post\",\"17_mid\",\"17_post\",\"18_mid\",\"18_post\",\"19_mid\",\"19_post\",\"20_mid\",\"20_post\",\"21_mid\",\"21_post\",\"22_mid\",\"22_post\",\"23_mid\",\"23_post\"],\"xaxis\":\"x\",\"y\":[-11.519317626953125,-21.474817276000977,-24.390230178833008,-24.443279266357422,-26.311744689941406,-28.91551971435547,-30.450464248657227,-33.63241958618164,-35.11014175415039,-37.434078216552734,-35.084693908691406,-38.349693298339844,-39.55849075317383,-39.17747116088867,-39.680301666259766,-46.41701889038086,-53.371665954589844,-50.79050827026367,-56.53575134277344,-57.79436492919922,-66.6678695678711,-69.28117370605469,-78.56868743896484,-80.5084228515625,-92.62500762939453,-107.34451293945312,-115.30093383789062,-122.33604431152344,-170.8775634765625,-190.2566375732422,-192.60153198242188,-209.50680541992188,-233.41566467285156,-251.5177459716797,-251.33778381347656,-274.3839111328125,-277.418212890625,-305.2410583496094,-327.0802917480469,-347.538330078125,-368.319091796875,-357.35455322265625,-370.83624267578125,-428.29461669921875,-443.8953857421875,-451.1390380859375,-466.3882751464844,-438.18243408203125],\"yaxis\":\"y\",\"type\":\"scatter\"}],                        {\"template\":{\"data\":{\"histogram2dcontour\":[{\"type\":\"histogram2dcontour\",\"colorbar\":{\"outlinewidth\":0,\"ticks\":\"\"},\"colorscale\":[[0.0,\"#0d0887\"],[0.1111111111111111,\"#46039f\"],[0.2222222222222222,\"#7201a8\"],[0.3333333333333333,\"#9c179e\"],[0.4444444444444444,\"#bd3786\"],[0.5555555555555556,\"#d8576b\"],[0.6666666666666666,\"#ed7953\"],[0.7777777777777778,\"#fb9f3a\"],[0.8888888888888888,\"#fdca26\"],[1.0,\"#f0f921\"]]}],\"choropleth\":[{\"type\":\"choropleth\",\"colorbar\":{\"outlinewidth\":0,\"ticks\":\"\"}}],\"histogram2d\":[{\"type\":\"histogram2d\",\"colorbar\":{\"outlinewidth\":0,\"ticks\":\"\"},\"colorscale\":[[0.0,\"#0d0887\"],[0.1111111111111111,\"#46039f\"],[0.2222222222222222,\"#7201a8\"],[0.3333333333333333,\"#9c179e\"],[0.4444444444444444,\"#bd3786\"],[0.5555555555555556,\"#d8576b\"],[0.6666666666666666,\"#ed7953\"],[0.7777777777777778,\"#fb9f3a\"],[0.8888888888888888,\"#fdca26\"],[1.0,\"#f0f921\"]]}],\"heatmap\":[{\"type\":\"heatmap\",\"colorbar\":{\"outlinewidth\":0,\"ticks\":\"\"},\"colorscale\":[[0.0,\"#0d0887\"],[0.1111111111111111,\"#46039f\"],[0.2222222222222222,\"#7201a8\"],[0.3333333333333333,\"#9c179e\"],[0.4444444444444444,\"#bd3786\"],[0.5555555555555556,\"#d8576b\"],[0.6666666666666666,\"#ed7953\"],[0.7777777777777778,\"#fb9f3a\"],[0.8888888888888888,\"#fdca26\"],[1.0,\"#f0f921\"]]}],\"heatmapgl\":[{\"type\":\"heatmapgl\",\"colorbar\":{\"outlinewidth\":0,\"ticks\":\"\"},\"colorscale\":[[0.0,\"#0d0887\"],[0.1111111111111111,\"#46039f\"],[0.2222222222222222,\"#7201a8\"],[0.3333333333333333,\"#9c179e\"],[0.4444444444444444,\"#bd3786\"],[0.5555555555555556,\"#d8576b\"],[0.6666666666666666,\"#ed7953\"],[0.7777777777777778,\"#fb9f3a\"],[0.8888888888888888,\"#fdca26\"],[1.0,\"#f0f921\"]]}],\"contourcarpet\":[{\"type\":\"contourcarpet\",\"colorbar\":{\"outlinewidth\":0,\"ticks\":\"\"}}],\"contour\":[{\"type\":\"contour\",\"colorbar\":{\"outlinewidth\":0,\"ticks\":\"\"},\"colorscale\":[[0.0,\"#0d0887\"],[0.1111111111111111,\"#46039f\"],[0.2222222222222222,\"#7201a8\"],[0.3333333333333333,\"#9c179e\"],[0.4444444444444444,\"#bd3786\"],[0.5555555555555556,\"#d8576b\"],[0.6666666666666666,\"#ed7953\"],[0.7777777777777778,\"#fb9f3a\"],[0.8888888888888888,\"#fdca26\"],[1.0,\"#f0f921\"]]}],\"surface\":[{\"type\":\"surface\",\"colorbar\":{\"outlinewidth\":0,\"ticks\":\"\"},\"colorscale\":[[0.0,\"#0d0887\"],[0.1111111111111111,\"#46039f\"],[0.2222222222222222,\"#7201a8\"],[0.3333333333333333,\"#9c179e\"],[0.4444444444444444,\"#bd3786\"],[0.5555555555555556,\"#d8576b\"],[0.6666666666666666,\"#ed7953\"],[0.7777777777777778,\"#fb9f3a\"],[0.8888888888888888,\"#fdca26\"],[1.0,\"#f0f921\"]]}],\"mesh3d\":[{\"type\":\"mesh3d\",\"colorbar\":{\"outlinewidth\":0,\"ticks\":\"\"}}],\"scatter\":[{\"fillpattern\":{\"fillmode\":\"overlay\",\"size\":10,\"solidity\":0.2},\"type\":\"scatter\"}],\"parcoords\":[{\"type\":\"parcoords\",\"line\":{\"colorbar\":{\"outlinewidth\":0,\"ticks\":\"\"}}}],\"scatterpolargl\":[{\"type\":\"scatterpolargl\",\"marker\":{\"colorbar\":{\"outlinewidth\":0,\"ticks\":\"\"}}}],\"bar\":[{\"error_x\":{\"color\":\"#2a3f5f\"},\"error_y\":{\"color\":\"#2a3f5f\"},\"marker\":{\"line\":{\"color\":\"#E5ECF6\",\"width\":0.5},\"pattern\":{\"fillmode\":\"overlay\",\"size\":10,\"solidity\":0.2}},\"type\":\"bar\"}],\"scattergeo\":[{\"type\":\"scattergeo\",\"marker\":{\"colorbar\":{\"outlinewidth\":0,\"ticks\":\"\"}}}],\"scatterpolar\":[{\"type\":\"scatterpolar\",\"marker\":{\"colorbar\":{\"outlinewidth\":0,\"ticks\":\"\"}}}],\"histogram\":[{\"marker\":{\"pattern\":{\"fillmode\":\"overlay\",\"size\":10,\"solidity\":0.2}},\"type\":\"histogram\"}],\"scattergl\":[{\"type\":\"scattergl\",\"marker\":{\"colorbar\":{\"outlinewidth\":0,\"ticks\":\"\"}}}],\"scatter3d\":[{\"type\":\"scatter3d\",\"line\":{\"colorbar\":{\"outlinewidth\":0,\"ticks\":\"\"}},\"marker\":{\"colorbar\":{\"outlinewidth\":0,\"ticks\":\"\"}}}],\"scattermapbox\":[{\"type\":\"scattermapbox\",\"marker\":{\"colorbar\":{\"outlinewidth\":0,\"ticks\":\"\"}}}],\"scatterternary\":[{\"type\":\"scatterternary\",\"marker\":{\"colorbar\":{\"outlinewidth\":0,\"ticks\":\"\"}}}],\"scattercarpet\":[{\"type\":\"scattercarpet\",\"marker\":{\"colorbar\":{\"outlinewidth\":0,\"ticks\":\"\"}}}],\"carpet\":[{\"aaxis\":{\"endlinecolor\":\"#2a3f5f\",\"gridcolor\":\"white\",\"linecolor\":\"white\",\"minorgridcolor\":\"white\",\"startlinecolor\":\"#2a3f5f\"},\"baxis\":{\"endlinecolor\":\"#2a3f5f\",\"gridcolor\":\"white\",\"linecolor\":\"white\",\"minorgridcolor\":\"white\",\"startlinecolor\":\"#2a3f5f\"},\"type\":\"carpet\"}],\"table\":[{\"cells\":{\"fill\":{\"color\":\"#EBF0F8\"},\"line\":{\"color\":\"white\"}},\"header\":{\"fill\":{\"color\":\"#C8D4E3\"},\"line\":{\"color\":\"white\"}},\"type\":\"table\"}],\"barpolar\":[{\"marker\":{\"line\":{\"color\":\"#E5ECF6\",\"width\":0.5},\"pattern\":{\"fillmode\":\"overlay\",\"size\":10,\"solidity\":0.2}},\"type\":\"barpolar\"}],\"pie\":[{\"automargin\":true,\"type\":\"pie\"}]},\"layout\":{\"autotypenumbers\":\"strict\",\"colorway\":[\"#636efa\",\"#EF553B\",\"#00cc96\",\"#ab63fa\",\"#FFA15A\",\"#19d3f3\",\"#FF6692\",\"#B6E880\",\"#FF97FF\",\"#FECB52\"],\"font\":{\"color\":\"#2a3f5f\"},\"hovermode\":\"closest\",\"hoverlabel\":{\"align\":\"left\"},\"paper_bgcolor\":\"white\",\"plot_bgcolor\":\"#E5ECF6\",\"polar\":{\"bgcolor\":\"#E5ECF6\",\"angularaxis\":{\"gridcolor\":\"white\",\"linecolor\":\"white\",\"ticks\":\"\"},\"radialaxis\":{\"gridcolor\":\"white\",\"linecolor\":\"white\",\"ticks\":\"\"}},\"ternary\":{\"bgcolor\":\"#E5ECF6\",\"aaxis\":{\"gridcolor\":\"white\",\"linecolor\":\"white\",\"ticks\":\"\"},\"baxis\":{\"gridcolor\":\"white\",\"linecolor\":\"white\",\"ticks\":\"\"},\"caxis\":{\"gridcolor\":\"white\",\"linecolor\":\"white\",\"ticks\":\"\"}},\"coloraxis\":{\"colorbar\":{\"outlinewidth\":0,\"ticks\":\"\"}},\"colorscale\":{\"sequential\":[[0.0,\"#0d0887\"],[0.1111111111111111,\"#46039f\"],[0.2222222222222222,\"#7201a8\"],[0.3333333333333333,\"#9c179e\"],[0.4444444444444444,\"#bd3786\"],[0.5555555555555556,\"#d8576b\"],[0.6666666666666666,\"#ed7953\"],[0.7777777777777778,\"#fb9f3a\"],[0.8888888888888888,\"#fdca26\"],[1.0,\"#f0f921\"]],\"sequentialminus\":[[0.0,\"#0d0887\"],[0.1111111111111111,\"#46039f\"],[0.2222222222222222,\"#7201a8\"],[0.3333333333333333,\"#9c179e\"],[0.4444444444444444,\"#bd3786\"],[0.5555555555555556,\"#d8576b\"],[0.6666666666666666,\"#ed7953\"],[0.7777777777777778,\"#fb9f3a\"],[0.8888888888888888,\"#fdca26\"],[1.0,\"#f0f921\"]],\"diverging\":[[0,\"#8e0152\"],[0.1,\"#c51b7d\"],[0.2,\"#de77ae\"],[0.3,\"#f1b6da\"],[0.4,\"#fde0ef\"],[0.5,\"#f7f7f7\"],[0.6,\"#e6f5d0\"],[0.7,\"#b8e186\"],[0.8,\"#7fbc41\"],[0.9,\"#4d9221\"],[1,\"#276419\"]]},\"xaxis\":{\"gridcolor\":\"white\",\"linecolor\":\"white\",\"ticks\":\"\",\"title\":{\"standoff\":15},\"zerolinecolor\":\"white\",\"automargin\":true,\"zerolinewidth\":2},\"yaxis\":{\"gridcolor\":\"white\",\"linecolor\":\"white\",\"ticks\":\"\",\"title\":{\"standoff\":15},\"zerolinecolor\":\"white\",\"automargin\":true,\"zerolinewidth\":2},\"scene\":{\"xaxis\":{\"backgroundcolor\":\"#E5ECF6\",\"gridcolor\":\"white\",\"linecolor\":\"white\",\"showbackground\":true,\"ticks\":\"\",\"zerolinecolor\":\"white\",\"gridwidth\":2},\"yaxis\":{\"backgroundcolor\":\"#E5ECF6\",\"gridcolor\":\"white\",\"linecolor\":\"white\",\"showbackground\":true,\"ticks\":\"\",\"zerolinecolor\":\"white\",\"gridwidth\":2},\"zaxis\":{\"backgroundcolor\":\"#E5ECF6\",\"gridcolor\":\"white\",\"linecolor\":\"white\",\"showbackground\":true,\"ticks\":\"\",\"zerolinecolor\":\"white\",\"gridwidth\":2}},\"shapedefaults\":{\"line\":{\"color\":\"#2a3f5f\"}},\"annotationdefaults\":{\"arrowcolor\":\"#2a3f5f\",\"arrowhead\":0,\"arrowwidth\":1},\"geo\":{\"bgcolor\":\"white\",\"landcolor\":\"#E5ECF6\",\"subunitcolor\":\"white\",\"showland\":true,\"showlakes\":true,\"lakecolor\":\"white\"},\"title\":{\"x\":0.05},\"mapbox\":{\"style\":\"light\"}}},\"xaxis\":{\"anchor\":\"y\",\"domain\":[0.0,1.0],\"title\":{\"text\":\"Layer\"}},\"yaxis\":{\"anchor\":\"x\",\"domain\":[0.0,1.0],\"title\":{\"text\":\"neg_logprob\"}},\"legend\":{\"title\":{\"text\":\"Model\"},\"tracegroupgap\":0},\"margin\":{\"t\":60}},                        {\"responsive\": true}                    ).then(function(){\n",
       "                            \n",
       "var gd = document.getElementById('d9cf018e-02b3-4358-b5f9-85cd5e203238');\n",
       "var x = new MutationObserver(function (mutations, observer) {{\n",
       "        var display = window.getComputedStyle(gd).display;\n",
       "        if (!display || display === 'none') {{\n",
       "            console.log([gd, 'removed!']);\n",
       "            Plotly.purge(gd);\n",
       "            observer.disconnect();\n",
       "        }}\n",
       "}});\n",
       "\n",
       "// Listen for the removal of the full notebook cells\n",
       "var notebookContainer = gd.closest('#notebook-container');\n",
       "if (notebookContainer) {{\n",
       "    x.observe(notebookContainer, {childList: true});\n",
       "}}\n",
       "\n",
       "// Listen for the clearing of the current output cell\n",
       "var outputEl = gd.closest('.output');\n",
       "if (outputEl) {{\n",
       "    x.observe(outputEl, {childList: true});\n",
       "}}\n",
       "\n",
       "                        })                };                });            </script>        </div>"
      ]
     },
     "metadata": {},
     "output_type": "display_data"
    },
    {
     "name": "stdout",
     "output_type": "stream",
     "text": [
      "zzzzzzzzzzzzzzzzzzzzzzzzzzzzzzzzzzzzzzzzzzzzzzzzzzzz\n",
      "Neg tok: 26577\n",
      "Tok id: 39280\n"
     ]
    },
    {
     "data": {
      "application/vnd.plotly.v1+json": {
       "config": {
        "plotlyServerURL": "https://plot.ly"
       },
       "data": [
        {
         "hovertemplate": "Model=IFT<br>Layer=%{x}<br>neg_logprob=%{y}<extra></extra>",
         "legendgroup": "IFT",
         "line": {
          "color": "#636efa",
          "dash": "solid"
         },
         "marker": {
          "symbol": "circle"
         },
         "mode": "lines",
         "name": "IFT",
         "orientation": "v",
         "showlegend": true,
         "type": "scatter",
         "x": [
          "0_mid",
          "0_post",
          "1_mid",
          "1_post",
          "2_mid",
          "2_post",
          "3_mid",
          "3_post",
          "4_mid",
          "4_post",
          "5_mid",
          "5_post",
          "6_mid",
          "6_post",
          "7_mid",
          "7_post",
          "8_mid",
          "8_post",
          "9_mid",
          "9_post",
          "10_mid",
          "10_post",
          "11_mid",
          "11_post",
          "12_mid",
          "12_post",
          "13_mid",
          "13_post",
          "14_mid",
          "14_post",
          "15_mid",
          "15_post",
          "16_mid",
          "16_post",
          "17_mid",
          "17_post",
          "18_mid",
          "18_post",
          "19_mid",
          "19_post",
          "20_mid",
          "20_post",
          "21_mid",
          "21_post",
          "22_mid",
          "22_post",
          "23_mid",
          "23_post"
         ],
         "xaxis": "x",
         "y": [
          -10.795049667358398,
          -23.039716720581055,
          -15.620205879211426,
          -21.280702590942383,
          -17.52652359008789,
          -17.336902618408203,
          -17.79526138305664,
          -25.66820526123047,
          -27.233531951904297,
          -30.464252471923828,
          -32.90074920654297,
          -32.77827072143555,
          -36.30396270751953,
          -34.8000373840332,
          -32.62947082519531,
          -29.045167922973633,
          -24.74146270751953,
          -21.985395431518555,
          -3.256669282913208,
          -6.6698317527771,
          -5.9702959060668945,
          -23.91647720336914,
          -3.700605630874634,
          -6.258936405181885,
          -1.0553537607192993,
          -1.3839994668960571,
          -5.960462772236497e-07,
          0,
          0,
          0,
          0,
          0,
          0,
          0,
          0,
          0,
          0,
          0,
          0,
          0,
          0,
          0,
          0,
          0,
          0,
          0,
          0,
          0
         ],
         "yaxis": "y"
        },
        {
         "hovertemplate": "Model=GPT2<br>Layer=%{x}<br>neg_logprob=%{y}<extra></extra>",
         "legendgroup": "GPT2",
         "line": {
          "color": "#EF553B",
          "dash": "solid"
         },
         "marker": {
          "symbol": "circle"
         },
         "mode": "lines",
         "name": "GPT2",
         "orientation": "v",
         "showlegend": true,
         "type": "scatter",
         "x": [
          "0_mid",
          "0_post",
          "1_mid",
          "1_post",
          "2_mid",
          "2_post",
          "3_mid",
          "3_post",
          "4_mid",
          "4_post",
          "5_mid",
          "5_post",
          "6_mid",
          "6_post",
          "7_mid",
          "7_post",
          "8_mid",
          "8_post",
          "9_mid",
          "9_post",
          "10_mid",
          "10_post",
          "11_mid",
          "11_post",
          "12_mid",
          "12_post",
          "13_mid",
          "13_post",
          "14_mid",
          "14_post",
          "15_mid",
          "15_post",
          "16_mid",
          "16_post",
          "17_mid",
          "17_post",
          "18_mid",
          "18_post",
          "19_mid",
          "19_post",
          "20_mid",
          "20_post",
          "21_mid",
          "21_post",
          "22_mid",
          "22_post",
          "23_mid",
          "23_post"
         ],
         "xaxis": "x",
         "y": [
          -10.686180114746094,
          -23.991573333740234,
          -18.392026901245117,
          -23.499221801757812,
          -20.252717971801758,
          -22.694364547729492,
          -21.57841682434082,
          -28.50094223022461,
          -28.74801254272461,
          -31.240449905395508,
          -31.776643753051758,
          -29.79182243347168,
          -30.973684310913086,
          -30.982215881347656,
          -27.372568130493164,
          -26.5915470123291,
          -26.54820442199707,
          -27.470170974731445,
          -3.4109857082366943,
          -8.005151748657227,
          -2.340104579925537,
          -9.099814414978027,
          -0.047406673431396484,
          -9.149253845214844,
          -0.021969635039567947,
          -8.106198947643861e-06,
          0,
          0,
          0,
          0,
          0,
          0,
          0,
          0,
          0,
          0,
          0,
          0,
          0,
          0,
          0,
          0,
          0,
          0,
          0,
          0,
          0,
          0
         ],
         "yaxis": "y"
        },
        {
         "hovertemplate": "Model=IFT_10<br>Layer=%{x}<br>neg_logprob=%{y}<extra></extra>",
         "legendgroup": "IFT_10",
         "line": {
          "color": "#00cc96",
          "dash": "solid"
         },
         "marker": {
          "symbol": "circle"
         },
         "mode": "lines",
         "name": "IFT_10",
         "orientation": "v",
         "showlegend": true,
         "type": "scatter",
         "x": [
          "0_mid",
          "0_post",
          "1_mid",
          "1_post",
          "2_mid",
          "2_post",
          "3_mid",
          "3_post",
          "4_mid",
          "4_post",
          "5_mid",
          "5_post",
          "6_mid",
          "6_post",
          "7_mid",
          "7_post",
          "8_mid",
          "8_post",
          "9_mid",
          "9_post",
          "10_mid",
          "10_post",
          "11_mid",
          "11_post",
          "12_mid",
          "12_post",
          "13_mid",
          "13_post",
          "14_mid",
          "14_post",
          "15_mid",
          "15_post",
          "16_mid",
          "16_post",
          "17_mid",
          "17_post",
          "18_mid",
          "18_post",
          "19_mid",
          "19_post",
          "20_mid",
          "20_post",
          "21_mid",
          "21_post",
          "22_mid",
          "22_post",
          "23_mid",
          "23_post"
         ],
         "xaxis": "x",
         "y": [
          -12.112321853637695,
          -9.374794960021973,
          -9.084495544433594,
          -9.35342025756836,
          -8.744510650634766,
          -11.302933692932129,
          -12.8403902053833,
          -12.756606101989746,
          -14.284003257751465,
          -15.206573486328125,
          -19.070966720581055,
          -18.950454711914062,
          -25.94438362121582,
          -24.412322998046875,
          -27.759960174560547,
          -19.996736526489258,
          -19.86004638671875,
          -9.95449161529541,
          -15.494450569152832,
          -19.324419021606445,
          -22.477577209472656,
          -31.807819366455078,
          -32.459556579589844,
          -26.711336135864258,
          -41.21957015991211,
          -46.19962692260742,
          -53.47425842285156,
          -56.61848449707031,
          -69.68964385986328,
          -64.50924682617188,
          -74.77716064453125,
          -84.94329071044922,
          -109.9866943359375,
          -120.56451416015625,
          -171.92593383789062,
          -170.6898651123047,
          -188.24525451660156,
          -176.05020141601562,
          -236.36761474609375,
          -215.4669647216797,
          -213.705078125,
          -188.0957489013672,
          -221.13430786132812,
          -183.58013916015625,
          -194.648193359375,
          -214.94049072265625,
          -260.38885498046875,
          -204.2513427734375
         ],
         "yaxis": "y"
        },
        {
         "hovertemplate": "Model=GPT2_10<br>Layer=%{x}<br>neg_logprob=%{y}<extra></extra>",
         "legendgroup": "GPT2_10",
         "line": {
          "color": "#ab63fa",
          "dash": "solid"
         },
         "marker": {
          "symbol": "circle"
         },
         "mode": "lines",
         "name": "GPT2_10",
         "orientation": "v",
         "showlegend": true,
         "type": "scatter",
         "x": [
          "0_mid",
          "0_post",
          "1_mid",
          "1_post",
          "2_mid",
          "2_post",
          "3_mid",
          "3_post",
          "4_mid",
          "4_post",
          "5_mid",
          "5_post",
          "6_mid",
          "6_post",
          "7_mid",
          "7_post",
          "8_mid",
          "8_post",
          "9_mid",
          "9_post",
          "10_mid",
          "10_post",
          "11_mid",
          "11_post",
          "12_mid",
          "12_post",
          "13_mid",
          "13_post",
          "14_mid",
          "14_post",
          "15_mid",
          "15_post",
          "16_mid",
          "16_post",
          "17_mid",
          "17_post",
          "18_mid",
          "18_post",
          "19_mid",
          "19_post",
          "20_mid",
          "20_post",
          "21_mid",
          "21_post",
          "22_mid",
          "22_post",
          "23_mid",
          "23_post"
         ],
         "xaxis": "x",
         "y": [
          -12.025056838989258,
          -11.06193733215332,
          -10.712785720825195,
          -10.55787181854248,
          -9.429340362548828,
          -13.339449882507324,
          -13.968790054321289,
          -14.128406524658203,
          -15.74142837524414,
          -15.897379875183105,
          -17.815570831298828,
          -15.671271324157715,
          -20.849916458129883,
          -19.4302978515625,
          -21.332239151000977,
          -16.555627822875977,
          -18.36836814880371,
          -14.06437873840332,
          -11.943170547485352,
          -17.993974685668945,
          -22.183698654174805,
          -23.073776245117188,
          -38.5894660949707,
          -38.11872100830078,
          -57.07124710083008,
          -59.72698211669922,
          -76.43637084960938,
          -81.2171630859375,
          -104.23632049560547,
          -105.34801483154297,
          -120.32762145996094,
          -127.96076202392578,
          -144.51405334472656,
          -151.55392456054688,
          -206.01971435546875,
          -198.30686950683594,
          -238.32144165039062,
          -234.39520263671875,
          -313.66864013671875,
          -300.9824523925781,
          -325.37225341796875,
          -304.78253173828125,
          -341.276611328125,
          -298.03729248046875,
          -299.38519287109375,
          -301.4734191894531,
          -312.3985290527344,
          -301.2677001953125
         ],
         "yaxis": "y"
        },
        {
         "hovertemplate": "Model=IFT_100<br>Layer=%{x}<br>neg_logprob=%{y}<extra></extra>",
         "legendgroup": "IFT_100",
         "line": {
          "color": "#FFA15A",
          "dash": "solid"
         },
         "marker": {
          "symbol": "circle"
         },
         "mode": "lines",
         "name": "IFT_100",
         "orientation": "v",
         "showlegend": true,
         "type": "scatter",
         "x": [
          "0_mid",
          "0_post",
          "1_mid",
          "1_post",
          "2_mid",
          "2_post",
          "3_mid",
          "3_post",
          "4_mid",
          "4_post",
          "5_mid",
          "5_post",
          "6_mid",
          "6_post",
          "7_mid",
          "7_post",
          "8_mid",
          "8_post",
          "9_mid",
          "9_post",
          "10_mid",
          "10_post",
          "11_mid",
          "11_post",
          "12_mid",
          "12_post",
          "13_mid",
          "13_post",
          "14_mid",
          "14_post",
          "15_mid",
          "15_post",
          "16_mid",
          "16_post",
          "17_mid",
          "17_post",
          "18_mid",
          "18_post",
          "19_mid",
          "19_post",
          "20_mid",
          "20_post",
          "21_mid",
          "21_post",
          "22_mid",
          "22_post",
          "23_mid",
          "23_post",
          "0_mid",
          "0_post",
          "1_mid",
          "1_post",
          "2_mid",
          "2_post",
          "3_mid",
          "3_post",
          "4_mid",
          "4_post",
          "5_mid",
          "5_post",
          "6_mid",
          "6_post",
          "7_mid",
          "7_post",
          "8_mid",
          "8_post",
          "9_mid",
          "9_post",
          "10_mid",
          "10_post",
          "11_mid",
          "11_post",
          "12_mid",
          "12_post",
          "13_mid",
          "13_post",
          "14_mid",
          "14_post",
          "15_mid",
          "15_post",
          "16_mid",
          "16_post",
          "17_mid",
          "17_post",
          "18_mid",
          "18_post",
          "19_mid",
          "19_post",
          "20_mid",
          "20_post",
          "21_mid",
          "21_post",
          "22_mid",
          "22_post",
          "23_mid",
          "23_post"
         ],
         "xaxis": "x",
         "y": [
          -10.847681045532227,
          -24.407398223876953,
          -22.484270095825195,
          -27.664653778076172,
          -27.514493942260742,
          -26.54673957824707,
          -26.46965789794922,
          -25.988780975341797,
          -26.374298095703125,
          -27.25634002685547,
          -33.202754974365234,
          -33.64250946044922,
          -41.706512451171875,
          -38.22634506225586,
          -41.57253646850586,
          -36.3177490234375,
          -34.838722229003906,
          -31.220022201538086,
          -40.25178146362305,
          -38.186187744140625,
          -44.69961929321289,
          -54.970890045166016,
          -58.82966995239258,
          -57.375980377197266,
          -73.30872344970703,
          -85.29156494140625,
          -90.08888244628906,
          -93.83081817626953,
          -106.80001068115234,
          -101.6386947631836,
          -114.70344543457031,
          -121.52334594726562,
          -142.80319213867188,
          -145.42694091796875,
          -190.87294006347656,
          -184.77525329589844,
          -213.0394287109375,
          -204.2774200439453,
          -257.940673828125,
          -238.77951049804688,
          -236.73635864257812,
          -227.018310546875,
          -262.8564453125,
          -236.46966552734375,
          -251.63824462890625,
          -273.58929443359375,
          -311.7520446777344,
          -256.3406066894531,
          -10.847681045532227,
          -24.407398223876953,
          -22.484270095825195,
          -27.664653778076172,
          -27.514493942260742,
          -26.54673957824707,
          -26.46965789794922,
          -25.988780975341797,
          -26.374298095703125,
          -27.25634002685547,
          -33.202754974365234,
          -33.64250946044922,
          -41.706512451171875,
          -38.22634506225586,
          -41.57253646850586,
          -36.3177490234375,
          -34.838722229003906,
          -31.220022201538086,
          -40.25178146362305,
          -38.186187744140625,
          -44.69961929321289,
          -54.970890045166016,
          -58.82966995239258,
          -57.375980377197266,
          -73.30872344970703,
          -85.29156494140625,
          -90.08888244628906,
          -93.83081817626953,
          -106.80001068115234,
          -101.6386947631836,
          -114.70344543457031,
          -121.52334594726562,
          -142.80319213867188,
          -145.42694091796875,
          -190.87294006347656,
          -184.77525329589844,
          -213.0394287109375,
          -204.2774200439453,
          -257.940673828125,
          -238.77951049804688,
          -236.73635864257812,
          -227.018310546875,
          -262.8564453125,
          -236.46966552734375,
          -251.63824462890625,
          -273.58929443359375,
          -311.7520446777344,
          -256.3406066894531
         ],
         "yaxis": "y"
        },
        {
         "hovertemplate": "Model=GPT2_100<br>Layer=%{x}<br>neg_logprob=%{y}<extra></extra>",
         "legendgroup": "GPT2_100",
         "line": {
          "color": "#19d3f3",
          "dash": "solid"
         },
         "marker": {
          "symbol": "circle"
         },
         "mode": "lines",
         "name": "GPT2_100",
         "orientation": "v",
         "showlegend": true,
         "type": "scatter",
         "x": [
          "0_mid",
          "0_post",
          "1_mid",
          "1_post",
          "2_mid",
          "2_post",
          "3_mid",
          "3_post",
          "4_mid",
          "4_post",
          "5_mid",
          "5_post",
          "6_mid",
          "6_post",
          "7_mid",
          "7_post",
          "8_mid",
          "8_post",
          "9_mid",
          "9_post",
          "10_mid",
          "10_post",
          "11_mid",
          "11_post",
          "12_mid",
          "12_post",
          "13_mid",
          "13_post",
          "14_mid",
          "14_post",
          "15_mid",
          "15_post",
          "16_mid",
          "16_post",
          "17_mid",
          "17_post",
          "18_mid",
          "18_post",
          "19_mid",
          "19_post",
          "20_mid",
          "20_post",
          "21_mid",
          "21_post",
          "22_mid",
          "22_post",
          "23_mid",
          "23_post",
          "0_mid",
          "0_post",
          "1_mid",
          "1_post",
          "2_mid",
          "2_post",
          "3_mid",
          "3_post",
          "4_mid",
          "4_post",
          "5_mid",
          "5_post",
          "6_mid",
          "6_post",
          "7_mid",
          "7_post",
          "8_mid",
          "8_post",
          "9_mid",
          "9_post",
          "10_mid",
          "10_post",
          "11_mid",
          "11_post",
          "12_mid",
          "12_post",
          "13_mid",
          "13_post",
          "14_mid",
          "14_post",
          "15_mid",
          "15_post",
          "16_mid",
          "16_post",
          "17_mid",
          "17_post",
          "18_mid",
          "18_post",
          "19_mid",
          "19_post",
          "20_mid",
          "20_post",
          "21_mid",
          "21_post",
          "22_mid",
          "22_post",
          "23_mid",
          "23_post"
         ],
         "xaxis": "x",
         "y": [
          -10.792224884033203,
          -25.787498474121094,
          -24.694311141967773,
          -28.341203689575195,
          -26.923181533813477,
          -29.22954750061035,
          -28.582271575927734,
          -28.839805603027344,
          -29.25693130493164,
          -30.103885650634766,
          -34.26466369628906,
          -29.900320053100586,
          -35.568660736083984,
          -34.214847564697266,
          -36.65238571166992,
          -35.4385986328125,
          -35.45071792602539,
          -36.892887115478516,
          -37.02158737182617,
          -40.33269500732422,
          -44.438045501708984,
          -46.97344207763672,
          -65.9375,
          -72.64970397949219,
          -94.85859680175781,
          -104.15908813476562,
          -118.46886444091797,
          -123.02040100097656,
          -145.91058349609375,
          -150.62844848632812,
          -167.9962158203125,
          -177.7026824951172,
          -192.91612243652344,
          -200.44717407226562,
          -251.9272918701172,
          -244.85696411132812,
          -290.35589599609375,
          -287.68585205078125,
          -360.81634521484375,
          -348.1274719238281,
          -374.58941650390625,
          -371.7467346191406,
          -412.15777587890625,
          -383.0419616699219,
          -392.0131530761719,
          -397.53192138671875,
          -419.8533020019531,
          -401.92608642578125,
          -10.792224884033203,
          -25.787498474121094,
          -24.694311141967773,
          -28.341203689575195,
          -26.923181533813477,
          -29.22954750061035,
          -28.582271575927734,
          -28.839805603027344,
          -29.25693130493164,
          -30.103885650634766,
          -34.26466369628906,
          -29.900320053100586,
          -35.568660736083984,
          -34.214847564697266,
          -36.65238571166992,
          -35.4385986328125,
          -35.45071792602539,
          -36.892887115478516,
          -37.02158737182617,
          -40.33269500732422,
          -44.438045501708984,
          -46.97344207763672,
          -65.9375,
          -72.64970397949219,
          -94.85859680175781,
          -104.15908813476562,
          -118.46886444091797,
          -123.02040100097656,
          -145.91058349609375,
          -150.62844848632812,
          -167.9962158203125,
          -177.7026824951172,
          -192.91612243652344,
          -200.44717407226562,
          -251.9272918701172,
          -244.85696411132812,
          -290.35589599609375,
          -287.68585205078125,
          -360.81634521484375,
          -348.1274719238281,
          -374.58941650390625,
          -371.7467346191406,
          -412.15777587890625,
          -383.0419616699219,
          -392.0131530761719,
          -397.53192138671875,
          -419.8533020019531,
          -401.92608642578125
         ],
         "yaxis": "y"
        },
        {
         "hovertemplate": "Model=IFT_10000<br>Layer=%{x}<br>neg_logprob=%{y}<extra></extra>",
         "legendgroup": "IFT_10000",
         "line": {
          "color": "#FF6692",
          "dash": "solid"
         },
         "marker": {
          "symbol": "circle"
         },
         "mode": "lines",
         "name": "IFT_10000",
         "orientation": "v",
         "showlegend": true,
         "type": "scatter",
         "x": [
          "0_mid",
          "0_post",
          "1_mid",
          "1_post",
          "2_mid",
          "2_post",
          "3_mid",
          "3_post",
          "4_mid",
          "4_post",
          "5_mid",
          "5_post",
          "6_mid",
          "6_post",
          "7_mid",
          "7_post",
          "8_mid",
          "8_post",
          "9_mid",
          "9_post",
          "10_mid",
          "10_post",
          "11_mid",
          "11_post",
          "12_mid",
          "12_post",
          "13_mid",
          "13_post",
          "14_mid",
          "14_post",
          "15_mid",
          "15_post",
          "16_mid",
          "16_post",
          "17_mid",
          "17_post",
          "18_mid",
          "18_post",
          "19_mid",
          "19_post",
          "20_mid",
          "20_post",
          "21_mid",
          "21_post",
          "22_mid",
          "22_post",
          "23_mid",
          "23_post"
         ],
         "xaxis": "x",
         "y": [
          -11.223493576049805,
          -17.572914123535156,
          -18.388835906982422,
          -22.635360717773438,
          -25.582624435424805,
          -23.463111877441406,
          -29.549909591674805,
          -28.238510131835938,
          -29.67581558227539,
          -32.42060089111328,
          -40.98441696166992,
          -43.404930114746094,
          -47.5336799621582,
          -44.262943267822266,
          -49.12788772583008,
          -44.544620513916016,
          -43.17872619628906,
          -34.65018081665039,
          -35.414459228515625,
          -37.76654052734375,
          -40.70930862426758,
          -63.09965515136719,
          -69.03938293457031,
          -62.99748229980469,
          -88.67284393310547,
          -92.37318420410156,
          -101.52430725097656,
          -101.70497131347656,
          -122.01219940185547,
          -123.53799438476562,
          -133.82666015625,
          -150.22254943847656,
          -166.36924743652344,
          -176.7340850830078,
          -224.162841796875,
          -222.758544921875,
          -251.08694458007812,
          -251.67514038085938,
          -316.88189697265625,
          -322.336181640625,
          -332.04913330078125,
          -318.19610595703125,
          -376.0264892578125,
          -371.9849853515625,
          -409.75927734375,
          -434.9141845703125,
          -454.7084655761719,
          -387.95867919921875
         ],
         "yaxis": "y"
        },
        {
         "hovertemplate": "Model=GPT2_10000<br>Layer=%{x}<br>neg_logprob=%{y}<extra></extra>",
         "legendgroup": "GPT2_10000",
         "line": {
          "color": "#B6E880",
          "dash": "solid"
         },
         "marker": {
          "symbol": "circle"
         },
         "mode": "lines",
         "name": "GPT2_10000",
         "orientation": "v",
         "showlegend": true,
         "type": "scatter",
         "x": [
          "0_mid",
          "0_post",
          "1_mid",
          "1_post",
          "2_mid",
          "2_post",
          "3_mid",
          "3_post",
          "4_mid",
          "4_post",
          "5_mid",
          "5_post",
          "6_mid",
          "6_post",
          "7_mid",
          "7_post",
          "8_mid",
          "8_post",
          "9_mid",
          "9_post",
          "10_mid",
          "10_post",
          "11_mid",
          "11_post",
          "12_mid",
          "12_post",
          "13_mid",
          "13_post",
          "14_mid",
          "14_post",
          "15_mid",
          "15_post",
          "16_mid",
          "16_post",
          "17_mid",
          "17_post",
          "18_mid",
          "18_post",
          "19_mid",
          "19_post",
          "20_mid",
          "20_post",
          "21_mid",
          "21_post",
          "22_mid",
          "22_post",
          "23_mid",
          "23_post"
         ],
         "xaxis": "x",
         "y": [
          -11.132674217224121,
          -18.191627502441406,
          -19.913724899291992,
          -23.52583885192871,
          -26.61400032043457,
          -28.773725509643555,
          -34.470802307128906,
          -33.231727600097656,
          -35.31511306762695,
          -38.68308639526367,
          -44.16366195678711,
          -41.436195373535156,
          -42.33797073364258,
          -41.73527145385742,
          -46.582008361816406,
          -44.40489196777344,
          -48.17061233520508,
          -45.46600341796875,
          -40.29275131225586,
          -43.19147872924805,
          -51.62109375,
          -58.8436279296875,
          -82.11311340332031,
          -83.65489196777344,
          -115.32007598876953,
          -120.78621673583984,
          -141.98284912109375,
          -142.7659149169922,
          -173.54225158691406,
          -181.04248046875,
          -200.41758728027344,
          -211.626708984375,
          -228.1119384765625,
          -241.81268310546875,
          -293.8341369628906,
          -290.0574645996094,
          -332.82550048828125,
          -345.8344421386719,
          -428.7530517578125,
          -434.1514892578125,
          -473.2905578613281,
          -469.5482482910156,
          -527.287109375,
          -522.2803344726562,
          -547.7703247070312,
          -565.7276611328125,
          -593.9254760742188,
          -565.155029296875
         ],
         "yaxis": "y"
        }
       ],
       "layout": {
        "legend": {
         "title": {
          "text": "Model"
         },
         "tracegroupgap": 0
        },
        "margin": {
         "t": 60
        },
        "template": {
         "data": {
          "bar": [
           {
            "error_x": {
             "color": "#2a3f5f"
            },
            "error_y": {
             "color": "#2a3f5f"
            },
            "marker": {
             "line": {
              "color": "#E5ECF6",
              "width": 0.5
             },
             "pattern": {
              "fillmode": "overlay",
              "size": 10,
              "solidity": 0.2
             }
            },
            "type": "bar"
           }
          ],
          "barpolar": [
           {
            "marker": {
             "line": {
              "color": "#E5ECF6",
              "width": 0.5
             },
             "pattern": {
              "fillmode": "overlay",
              "size": 10,
              "solidity": 0.2
             }
            },
            "type": "barpolar"
           }
          ],
          "carpet": [
           {
            "aaxis": {
             "endlinecolor": "#2a3f5f",
             "gridcolor": "white",
             "linecolor": "white",
             "minorgridcolor": "white",
             "startlinecolor": "#2a3f5f"
            },
            "baxis": {
             "endlinecolor": "#2a3f5f",
             "gridcolor": "white",
             "linecolor": "white",
             "minorgridcolor": "white",
             "startlinecolor": "#2a3f5f"
            },
            "type": "carpet"
           }
          ],
          "choropleth": [
           {
            "colorbar": {
             "outlinewidth": 0,
             "ticks": ""
            },
            "type": "choropleth"
           }
          ],
          "contour": [
           {
            "colorbar": {
             "outlinewidth": 0,
             "ticks": ""
            },
            "colorscale": [
             [
              0,
              "#0d0887"
             ],
             [
              0.1111111111111111,
              "#46039f"
             ],
             [
              0.2222222222222222,
              "#7201a8"
             ],
             [
              0.3333333333333333,
              "#9c179e"
             ],
             [
              0.4444444444444444,
              "#bd3786"
             ],
             [
              0.5555555555555556,
              "#d8576b"
             ],
             [
              0.6666666666666666,
              "#ed7953"
             ],
             [
              0.7777777777777778,
              "#fb9f3a"
             ],
             [
              0.8888888888888888,
              "#fdca26"
             ],
             [
              1,
              "#f0f921"
             ]
            ],
            "type": "contour"
           }
          ],
          "contourcarpet": [
           {
            "colorbar": {
             "outlinewidth": 0,
             "ticks": ""
            },
            "type": "contourcarpet"
           }
          ],
          "heatmap": [
           {
            "colorbar": {
             "outlinewidth": 0,
             "ticks": ""
            },
            "colorscale": [
             [
              0,
              "#0d0887"
             ],
             [
              0.1111111111111111,
              "#46039f"
             ],
             [
              0.2222222222222222,
              "#7201a8"
             ],
             [
              0.3333333333333333,
              "#9c179e"
             ],
             [
              0.4444444444444444,
              "#bd3786"
             ],
             [
              0.5555555555555556,
              "#d8576b"
             ],
             [
              0.6666666666666666,
              "#ed7953"
             ],
             [
              0.7777777777777778,
              "#fb9f3a"
             ],
             [
              0.8888888888888888,
              "#fdca26"
             ],
             [
              1,
              "#f0f921"
             ]
            ],
            "type": "heatmap"
           }
          ],
          "heatmapgl": [
           {
            "colorbar": {
             "outlinewidth": 0,
             "ticks": ""
            },
            "colorscale": [
             [
              0,
              "#0d0887"
             ],
             [
              0.1111111111111111,
              "#46039f"
             ],
             [
              0.2222222222222222,
              "#7201a8"
             ],
             [
              0.3333333333333333,
              "#9c179e"
             ],
             [
              0.4444444444444444,
              "#bd3786"
             ],
             [
              0.5555555555555556,
              "#d8576b"
             ],
             [
              0.6666666666666666,
              "#ed7953"
             ],
             [
              0.7777777777777778,
              "#fb9f3a"
             ],
             [
              0.8888888888888888,
              "#fdca26"
             ],
             [
              1,
              "#f0f921"
             ]
            ],
            "type": "heatmapgl"
           }
          ],
          "histogram": [
           {
            "marker": {
             "pattern": {
              "fillmode": "overlay",
              "size": 10,
              "solidity": 0.2
             }
            },
            "type": "histogram"
           }
          ],
          "histogram2d": [
           {
            "colorbar": {
             "outlinewidth": 0,
             "ticks": ""
            },
            "colorscale": [
             [
              0,
              "#0d0887"
             ],
             [
              0.1111111111111111,
              "#46039f"
             ],
             [
              0.2222222222222222,
              "#7201a8"
             ],
             [
              0.3333333333333333,
              "#9c179e"
             ],
             [
              0.4444444444444444,
              "#bd3786"
             ],
             [
              0.5555555555555556,
              "#d8576b"
             ],
             [
              0.6666666666666666,
              "#ed7953"
             ],
             [
              0.7777777777777778,
              "#fb9f3a"
             ],
             [
              0.8888888888888888,
              "#fdca26"
             ],
             [
              1,
              "#f0f921"
             ]
            ],
            "type": "histogram2d"
           }
          ],
          "histogram2dcontour": [
           {
            "colorbar": {
             "outlinewidth": 0,
             "ticks": ""
            },
            "colorscale": [
             [
              0,
              "#0d0887"
             ],
             [
              0.1111111111111111,
              "#46039f"
             ],
             [
              0.2222222222222222,
              "#7201a8"
             ],
             [
              0.3333333333333333,
              "#9c179e"
             ],
             [
              0.4444444444444444,
              "#bd3786"
             ],
             [
              0.5555555555555556,
              "#d8576b"
             ],
             [
              0.6666666666666666,
              "#ed7953"
             ],
             [
              0.7777777777777778,
              "#fb9f3a"
             ],
             [
              0.8888888888888888,
              "#fdca26"
             ],
             [
              1,
              "#f0f921"
             ]
            ],
            "type": "histogram2dcontour"
           }
          ],
          "mesh3d": [
           {
            "colorbar": {
             "outlinewidth": 0,
             "ticks": ""
            },
            "type": "mesh3d"
           }
          ],
          "parcoords": [
           {
            "line": {
             "colorbar": {
              "outlinewidth": 0,
              "ticks": ""
             }
            },
            "type": "parcoords"
           }
          ],
          "pie": [
           {
            "automargin": true,
            "type": "pie"
           }
          ],
          "scatter": [
           {
            "fillpattern": {
             "fillmode": "overlay",
             "size": 10,
             "solidity": 0.2
            },
            "type": "scatter"
           }
          ],
          "scatter3d": [
           {
            "line": {
             "colorbar": {
              "outlinewidth": 0,
              "ticks": ""
             }
            },
            "marker": {
             "colorbar": {
              "outlinewidth": 0,
              "ticks": ""
             }
            },
            "type": "scatter3d"
           }
          ],
          "scattercarpet": [
           {
            "marker": {
             "colorbar": {
              "outlinewidth": 0,
              "ticks": ""
             }
            },
            "type": "scattercarpet"
           }
          ],
          "scattergeo": [
           {
            "marker": {
             "colorbar": {
              "outlinewidth": 0,
              "ticks": ""
             }
            },
            "type": "scattergeo"
           }
          ],
          "scattergl": [
           {
            "marker": {
             "colorbar": {
              "outlinewidth": 0,
              "ticks": ""
             }
            },
            "type": "scattergl"
           }
          ],
          "scattermapbox": [
           {
            "marker": {
             "colorbar": {
              "outlinewidth": 0,
              "ticks": ""
             }
            },
            "type": "scattermapbox"
           }
          ],
          "scatterpolar": [
           {
            "marker": {
             "colorbar": {
              "outlinewidth": 0,
              "ticks": ""
             }
            },
            "type": "scatterpolar"
           }
          ],
          "scatterpolargl": [
           {
            "marker": {
             "colorbar": {
              "outlinewidth": 0,
              "ticks": ""
             }
            },
            "type": "scatterpolargl"
           }
          ],
          "scatterternary": [
           {
            "marker": {
             "colorbar": {
              "outlinewidth": 0,
              "ticks": ""
             }
            },
            "type": "scatterternary"
           }
          ],
          "surface": [
           {
            "colorbar": {
             "outlinewidth": 0,
             "ticks": ""
            },
            "colorscale": [
             [
              0,
              "#0d0887"
             ],
             [
              0.1111111111111111,
              "#46039f"
             ],
             [
              0.2222222222222222,
              "#7201a8"
             ],
             [
              0.3333333333333333,
              "#9c179e"
             ],
             [
              0.4444444444444444,
              "#bd3786"
             ],
             [
              0.5555555555555556,
              "#d8576b"
             ],
             [
              0.6666666666666666,
              "#ed7953"
             ],
             [
              0.7777777777777778,
              "#fb9f3a"
             ],
             [
              0.8888888888888888,
              "#fdca26"
             ],
             [
              1,
              "#f0f921"
             ]
            ],
            "type": "surface"
           }
          ],
          "table": [
           {
            "cells": {
             "fill": {
              "color": "#EBF0F8"
             },
             "line": {
              "color": "white"
             }
            },
            "header": {
             "fill": {
              "color": "#C8D4E3"
             },
             "line": {
              "color": "white"
             }
            },
            "type": "table"
           }
          ]
         },
         "layout": {
          "annotationdefaults": {
           "arrowcolor": "#2a3f5f",
           "arrowhead": 0,
           "arrowwidth": 1
          },
          "autotypenumbers": "strict",
          "coloraxis": {
           "colorbar": {
            "outlinewidth": 0,
            "ticks": ""
           }
          },
          "colorscale": {
           "diverging": [
            [
             0,
             "#8e0152"
            ],
            [
             0.1,
             "#c51b7d"
            ],
            [
             0.2,
             "#de77ae"
            ],
            [
             0.3,
             "#f1b6da"
            ],
            [
             0.4,
             "#fde0ef"
            ],
            [
             0.5,
             "#f7f7f7"
            ],
            [
             0.6,
             "#e6f5d0"
            ],
            [
             0.7,
             "#b8e186"
            ],
            [
             0.8,
             "#7fbc41"
            ],
            [
             0.9,
             "#4d9221"
            ],
            [
             1,
             "#276419"
            ]
           ],
           "sequential": [
            [
             0,
             "#0d0887"
            ],
            [
             0.1111111111111111,
             "#46039f"
            ],
            [
             0.2222222222222222,
             "#7201a8"
            ],
            [
             0.3333333333333333,
             "#9c179e"
            ],
            [
             0.4444444444444444,
             "#bd3786"
            ],
            [
             0.5555555555555556,
             "#d8576b"
            ],
            [
             0.6666666666666666,
             "#ed7953"
            ],
            [
             0.7777777777777778,
             "#fb9f3a"
            ],
            [
             0.8888888888888888,
             "#fdca26"
            ],
            [
             1,
             "#f0f921"
            ]
           ],
           "sequentialminus": [
            [
             0,
             "#0d0887"
            ],
            [
             0.1111111111111111,
             "#46039f"
            ],
            [
             0.2222222222222222,
             "#7201a8"
            ],
            [
             0.3333333333333333,
             "#9c179e"
            ],
            [
             0.4444444444444444,
             "#bd3786"
            ],
            [
             0.5555555555555556,
             "#d8576b"
            ],
            [
             0.6666666666666666,
             "#ed7953"
            ],
            [
             0.7777777777777778,
             "#fb9f3a"
            ],
            [
             0.8888888888888888,
             "#fdca26"
            ],
            [
             1,
             "#f0f921"
            ]
           ]
          },
          "colorway": [
           "#636efa",
           "#EF553B",
           "#00cc96",
           "#ab63fa",
           "#FFA15A",
           "#19d3f3",
           "#FF6692",
           "#B6E880",
           "#FF97FF",
           "#FECB52"
          ],
          "font": {
           "color": "#2a3f5f"
          },
          "geo": {
           "bgcolor": "white",
           "lakecolor": "white",
           "landcolor": "#E5ECF6",
           "showlakes": true,
           "showland": true,
           "subunitcolor": "white"
          },
          "hoverlabel": {
           "align": "left"
          },
          "hovermode": "closest",
          "mapbox": {
           "style": "light"
          },
          "paper_bgcolor": "white",
          "plot_bgcolor": "#E5ECF6",
          "polar": {
           "angularaxis": {
            "gridcolor": "white",
            "linecolor": "white",
            "ticks": ""
           },
           "bgcolor": "#E5ECF6",
           "radialaxis": {
            "gridcolor": "white",
            "linecolor": "white",
            "ticks": ""
           }
          },
          "scene": {
           "xaxis": {
            "backgroundcolor": "#E5ECF6",
            "gridcolor": "white",
            "gridwidth": 2,
            "linecolor": "white",
            "showbackground": true,
            "ticks": "",
            "zerolinecolor": "white"
           },
           "yaxis": {
            "backgroundcolor": "#E5ECF6",
            "gridcolor": "white",
            "gridwidth": 2,
            "linecolor": "white",
            "showbackground": true,
            "ticks": "",
            "zerolinecolor": "white"
           },
           "zaxis": {
            "backgroundcolor": "#E5ECF6",
            "gridcolor": "white",
            "gridwidth": 2,
            "linecolor": "white",
            "showbackground": true,
            "ticks": "",
            "zerolinecolor": "white"
           }
          },
          "shapedefaults": {
           "line": {
            "color": "#2a3f5f"
           }
          },
          "ternary": {
           "aaxis": {
            "gridcolor": "white",
            "linecolor": "white",
            "ticks": ""
           },
           "baxis": {
            "gridcolor": "white",
            "linecolor": "white",
            "ticks": ""
           },
           "bgcolor": "#E5ECF6",
           "caxis": {
            "gridcolor": "white",
            "linecolor": "white",
            "ticks": ""
           }
          },
          "title": {
           "x": 0.05
          },
          "xaxis": {
           "automargin": true,
           "gridcolor": "white",
           "linecolor": "white",
           "ticks": "",
           "title": {
            "standoff": 15
           },
           "zerolinecolor": "white",
           "zerolinewidth": 2
          },
          "yaxis": {
           "automargin": true,
           "gridcolor": "white",
           "linecolor": "white",
           "ticks": "",
           "title": {
            "standoff": 15
           },
           "zerolinecolor": "white",
           "zerolinewidth": 2
          }
         }
        },
        "xaxis": {
         "anchor": "y",
         "domain": [
          0,
          1
         ],
         "title": {
          "text": "Layer"
         }
        },
        "yaxis": {
         "anchor": "x",
         "domain": [
          0,
          1
         ],
         "title": {
          "text": "neg_logprob"
         }
        }
       }
      },
      "text/html": [
       "<div>                            <div id=\"7cacd12c-ca23-4f65-a25d-778354e0bafc\" class=\"plotly-graph-div\" style=\"height:525px; width:100%;\"></div>            <script type=\"text/javascript\">                require([\"plotly\"], function(Plotly) {                    window.PLOTLYENV=window.PLOTLYENV || {};                                    if (document.getElementById(\"7cacd12c-ca23-4f65-a25d-778354e0bafc\")) {                    Plotly.newPlot(                        \"7cacd12c-ca23-4f65-a25d-778354e0bafc\",                        [{\"hovertemplate\":\"Model=IFT\\u003cbr\\u003eLayer=%{x}\\u003cbr\\u003eneg_logprob=%{y}\\u003cextra\\u003e\\u003c\\u002fextra\\u003e\",\"legendgroup\":\"IFT\",\"line\":{\"color\":\"#636efa\",\"dash\":\"solid\"},\"marker\":{\"symbol\":\"circle\"},\"mode\":\"lines\",\"name\":\"IFT\",\"orientation\":\"v\",\"showlegend\":true,\"x\":[\"0_mid\",\"0_post\",\"1_mid\",\"1_post\",\"2_mid\",\"2_post\",\"3_mid\",\"3_post\",\"4_mid\",\"4_post\",\"5_mid\",\"5_post\",\"6_mid\",\"6_post\",\"7_mid\",\"7_post\",\"8_mid\",\"8_post\",\"9_mid\",\"9_post\",\"10_mid\",\"10_post\",\"11_mid\",\"11_post\",\"12_mid\",\"12_post\",\"13_mid\",\"13_post\",\"14_mid\",\"14_post\",\"15_mid\",\"15_post\",\"16_mid\",\"16_post\",\"17_mid\",\"17_post\",\"18_mid\",\"18_post\",\"19_mid\",\"19_post\",\"20_mid\",\"20_post\",\"21_mid\",\"21_post\",\"22_mid\",\"22_post\",\"23_mid\",\"23_post\"],\"xaxis\":\"x\",\"y\":[-10.795049667358398,-23.039716720581055,-15.620205879211426,-21.280702590942383,-17.52652359008789,-17.336902618408203,-17.79526138305664,-25.66820526123047,-27.233531951904297,-30.464252471923828,-32.90074920654297,-32.77827072143555,-36.30396270751953,-34.8000373840332,-32.62947082519531,-29.045167922973633,-24.74146270751953,-21.985395431518555,-3.256669282913208,-6.6698317527771,-5.9702959060668945,-23.91647720336914,-3.700605630874634,-6.258936405181885,-1.0553537607192993,-1.3839994668960571,-5.960462772236497e-07,0.0,0.0,0.0,0.0,0.0,0.0,0.0,0.0,0.0,0.0,0.0,0.0,0.0,0.0,0.0,0.0,0.0,0.0,0.0,0.0,0.0],\"yaxis\":\"y\",\"type\":\"scatter\"},{\"hovertemplate\":\"Model=GPT2\\u003cbr\\u003eLayer=%{x}\\u003cbr\\u003eneg_logprob=%{y}\\u003cextra\\u003e\\u003c\\u002fextra\\u003e\",\"legendgroup\":\"GPT2\",\"line\":{\"color\":\"#EF553B\",\"dash\":\"solid\"},\"marker\":{\"symbol\":\"circle\"},\"mode\":\"lines\",\"name\":\"GPT2\",\"orientation\":\"v\",\"showlegend\":true,\"x\":[\"0_mid\",\"0_post\",\"1_mid\",\"1_post\",\"2_mid\",\"2_post\",\"3_mid\",\"3_post\",\"4_mid\",\"4_post\",\"5_mid\",\"5_post\",\"6_mid\",\"6_post\",\"7_mid\",\"7_post\",\"8_mid\",\"8_post\",\"9_mid\",\"9_post\",\"10_mid\",\"10_post\",\"11_mid\",\"11_post\",\"12_mid\",\"12_post\",\"13_mid\",\"13_post\",\"14_mid\",\"14_post\",\"15_mid\",\"15_post\",\"16_mid\",\"16_post\",\"17_mid\",\"17_post\",\"18_mid\",\"18_post\",\"19_mid\",\"19_post\",\"20_mid\",\"20_post\",\"21_mid\",\"21_post\",\"22_mid\",\"22_post\",\"23_mid\",\"23_post\"],\"xaxis\":\"x\",\"y\":[-10.686180114746094,-23.991573333740234,-18.392026901245117,-23.499221801757812,-20.252717971801758,-22.694364547729492,-21.57841682434082,-28.50094223022461,-28.74801254272461,-31.240449905395508,-31.776643753051758,-29.79182243347168,-30.973684310913086,-30.982215881347656,-27.372568130493164,-26.5915470123291,-26.54820442199707,-27.470170974731445,-3.4109857082366943,-8.005151748657227,-2.340104579925537,-9.099814414978027,-0.047406673431396484,-9.149253845214844,-0.021969635039567947,-8.106198947643861e-06,0.0,0.0,0.0,0.0,0.0,0.0,0.0,0.0,0.0,0.0,0.0,0.0,0.0,0.0,0.0,0.0,0.0,0.0,0.0,0.0,0.0,0.0],\"yaxis\":\"y\",\"type\":\"scatter\"},{\"hovertemplate\":\"Model=IFT_10\\u003cbr\\u003eLayer=%{x}\\u003cbr\\u003eneg_logprob=%{y}\\u003cextra\\u003e\\u003c\\u002fextra\\u003e\",\"legendgroup\":\"IFT_10\",\"line\":{\"color\":\"#00cc96\",\"dash\":\"solid\"},\"marker\":{\"symbol\":\"circle\"},\"mode\":\"lines\",\"name\":\"IFT_10\",\"orientation\":\"v\",\"showlegend\":true,\"x\":[\"0_mid\",\"0_post\",\"1_mid\",\"1_post\",\"2_mid\",\"2_post\",\"3_mid\",\"3_post\",\"4_mid\",\"4_post\",\"5_mid\",\"5_post\",\"6_mid\",\"6_post\",\"7_mid\",\"7_post\",\"8_mid\",\"8_post\",\"9_mid\",\"9_post\",\"10_mid\",\"10_post\",\"11_mid\",\"11_post\",\"12_mid\",\"12_post\",\"13_mid\",\"13_post\",\"14_mid\",\"14_post\",\"15_mid\",\"15_post\",\"16_mid\",\"16_post\",\"17_mid\",\"17_post\",\"18_mid\",\"18_post\",\"19_mid\",\"19_post\",\"20_mid\",\"20_post\",\"21_mid\",\"21_post\",\"22_mid\",\"22_post\",\"23_mid\",\"23_post\"],\"xaxis\":\"x\",\"y\":[-12.112321853637695,-9.374794960021973,-9.084495544433594,-9.35342025756836,-8.744510650634766,-11.302933692932129,-12.8403902053833,-12.756606101989746,-14.284003257751465,-15.206573486328125,-19.070966720581055,-18.950454711914062,-25.94438362121582,-24.412322998046875,-27.759960174560547,-19.996736526489258,-19.86004638671875,-9.95449161529541,-15.494450569152832,-19.324419021606445,-22.477577209472656,-31.807819366455078,-32.459556579589844,-26.711336135864258,-41.21957015991211,-46.19962692260742,-53.47425842285156,-56.61848449707031,-69.68964385986328,-64.50924682617188,-74.77716064453125,-84.94329071044922,-109.9866943359375,-120.56451416015625,-171.92593383789062,-170.6898651123047,-188.24525451660156,-176.05020141601562,-236.36761474609375,-215.4669647216797,-213.705078125,-188.0957489013672,-221.13430786132812,-183.58013916015625,-194.648193359375,-214.94049072265625,-260.38885498046875,-204.2513427734375],\"yaxis\":\"y\",\"type\":\"scatter\"},{\"hovertemplate\":\"Model=GPT2_10\\u003cbr\\u003eLayer=%{x}\\u003cbr\\u003eneg_logprob=%{y}\\u003cextra\\u003e\\u003c\\u002fextra\\u003e\",\"legendgroup\":\"GPT2_10\",\"line\":{\"color\":\"#ab63fa\",\"dash\":\"solid\"},\"marker\":{\"symbol\":\"circle\"},\"mode\":\"lines\",\"name\":\"GPT2_10\",\"orientation\":\"v\",\"showlegend\":true,\"x\":[\"0_mid\",\"0_post\",\"1_mid\",\"1_post\",\"2_mid\",\"2_post\",\"3_mid\",\"3_post\",\"4_mid\",\"4_post\",\"5_mid\",\"5_post\",\"6_mid\",\"6_post\",\"7_mid\",\"7_post\",\"8_mid\",\"8_post\",\"9_mid\",\"9_post\",\"10_mid\",\"10_post\",\"11_mid\",\"11_post\",\"12_mid\",\"12_post\",\"13_mid\",\"13_post\",\"14_mid\",\"14_post\",\"15_mid\",\"15_post\",\"16_mid\",\"16_post\",\"17_mid\",\"17_post\",\"18_mid\",\"18_post\",\"19_mid\",\"19_post\",\"20_mid\",\"20_post\",\"21_mid\",\"21_post\",\"22_mid\",\"22_post\",\"23_mid\",\"23_post\"],\"xaxis\":\"x\",\"y\":[-12.025056838989258,-11.06193733215332,-10.712785720825195,-10.55787181854248,-9.429340362548828,-13.339449882507324,-13.968790054321289,-14.128406524658203,-15.74142837524414,-15.897379875183105,-17.815570831298828,-15.671271324157715,-20.849916458129883,-19.4302978515625,-21.332239151000977,-16.555627822875977,-18.36836814880371,-14.06437873840332,-11.943170547485352,-17.993974685668945,-22.183698654174805,-23.073776245117188,-38.5894660949707,-38.11872100830078,-57.07124710083008,-59.72698211669922,-76.43637084960938,-81.2171630859375,-104.23632049560547,-105.34801483154297,-120.32762145996094,-127.96076202392578,-144.51405334472656,-151.55392456054688,-206.01971435546875,-198.30686950683594,-238.32144165039062,-234.39520263671875,-313.66864013671875,-300.9824523925781,-325.37225341796875,-304.78253173828125,-341.276611328125,-298.03729248046875,-299.38519287109375,-301.4734191894531,-312.3985290527344,-301.2677001953125],\"yaxis\":\"y\",\"type\":\"scatter\"},{\"hovertemplate\":\"Model=IFT_100\\u003cbr\\u003eLayer=%{x}\\u003cbr\\u003eneg_logprob=%{y}\\u003cextra\\u003e\\u003c\\u002fextra\\u003e\",\"legendgroup\":\"IFT_100\",\"line\":{\"color\":\"#FFA15A\",\"dash\":\"solid\"},\"marker\":{\"symbol\":\"circle\"},\"mode\":\"lines\",\"name\":\"IFT_100\",\"orientation\":\"v\",\"showlegend\":true,\"x\":[\"0_mid\",\"0_post\",\"1_mid\",\"1_post\",\"2_mid\",\"2_post\",\"3_mid\",\"3_post\",\"4_mid\",\"4_post\",\"5_mid\",\"5_post\",\"6_mid\",\"6_post\",\"7_mid\",\"7_post\",\"8_mid\",\"8_post\",\"9_mid\",\"9_post\",\"10_mid\",\"10_post\",\"11_mid\",\"11_post\",\"12_mid\",\"12_post\",\"13_mid\",\"13_post\",\"14_mid\",\"14_post\",\"15_mid\",\"15_post\",\"16_mid\",\"16_post\",\"17_mid\",\"17_post\",\"18_mid\",\"18_post\",\"19_mid\",\"19_post\",\"20_mid\",\"20_post\",\"21_mid\",\"21_post\",\"22_mid\",\"22_post\",\"23_mid\",\"23_post\",\"0_mid\",\"0_post\",\"1_mid\",\"1_post\",\"2_mid\",\"2_post\",\"3_mid\",\"3_post\",\"4_mid\",\"4_post\",\"5_mid\",\"5_post\",\"6_mid\",\"6_post\",\"7_mid\",\"7_post\",\"8_mid\",\"8_post\",\"9_mid\",\"9_post\",\"10_mid\",\"10_post\",\"11_mid\",\"11_post\",\"12_mid\",\"12_post\",\"13_mid\",\"13_post\",\"14_mid\",\"14_post\",\"15_mid\",\"15_post\",\"16_mid\",\"16_post\",\"17_mid\",\"17_post\",\"18_mid\",\"18_post\",\"19_mid\",\"19_post\",\"20_mid\",\"20_post\",\"21_mid\",\"21_post\",\"22_mid\",\"22_post\",\"23_mid\",\"23_post\"],\"xaxis\":\"x\",\"y\":[-10.847681045532227,-24.407398223876953,-22.484270095825195,-27.664653778076172,-27.514493942260742,-26.54673957824707,-26.46965789794922,-25.988780975341797,-26.374298095703125,-27.25634002685547,-33.202754974365234,-33.64250946044922,-41.706512451171875,-38.22634506225586,-41.57253646850586,-36.3177490234375,-34.838722229003906,-31.220022201538086,-40.25178146362305,-38.186187744140625,-44.69961929321289,-54.970890045166016,-58.82966995239258,-57.375980377197266,-73.30872344970703,-85.29156494140625,-90.08888244628906,-93.83081817626953,-106.80001068115234,-101.6386947631836,-114.70344543457031,-121.52334594726562,-142.80319213867188,-145.42694091796875,-190.87294006347656,-184.77525329589844,-213.0394287109375,-204.2774200439453,-257.940673828125,-238.77951049804688,-236.73635864257812,-227.018310546875,-262.8564453125,-236.46966552734375,-251.63824462890625,-273.58929443359375,-311.7520446777344,-256.3406066894531,-10.847681045532227,-24.407398223876953,-22.484270095825195,-27.664653778076172,-27.514493942260742,-26.54673957824707,-26.46965789794922,-25.988780975341797,-26.374298095703125,-27.25634002685547,-33.202754974365234,-33.64250946044922,-41.706512451171875,-38.22634506225586,-41.57253646850586,-36.3177490234375,-34.838722229003906,-31.220022201538086,-40.25178146362305,-38.186187744140625,-44.69961929321289,-54.970890045166016,-58.82966995239258,-57.375980377197266,-73.30872344970703,-85.29156494140625,-90.08888244628906,-93.83081817626953,-106.80001068115234,-101.6386947631836,-114.70344543457031,-121.52334594726562,-142.80319213867188,-145.42694091796875,-190.87294006347656,-184.77525329589844,-213.0394287109375,-204.2774200439453,-257.940673828125,-238.77951049804688,-236.73635864257812,-227.018310546875,-262.8564453125,-236.46966552734375,-251.63824462890625,-273.58929443359375,-311.7520446777344,-256.3406066894531],\"yaxis\":\"y\",\"type\":\"scatter\"},{\"hovertemplate\":\"Model=GPT2_100\\u003cbr\\u003eLayer=%{x}\\u003cbr\\u003eneg_logprob=%{y}\\u003cextra\\u003e\\u003c\\u002fextra\\u003e\",\"legendgroup\":\"GPT2_100\",\"line\":{\"color\":\"#19d3f3\",\"dash\":\"solid\"},\"marker\":{\"symbol\":\"circle\"},\"mode\":\"lines\",\"name\":\"GPT2_100\",\"orientation\":\"v\",\"showlegend\":true,\"x\":[\"0_mid\",\"0_post\",\"1_mid\",\"1_post\",\"2_mid\",\"2_post\",\"3_mid\",\"3_post\",\"4_mid\",\"4_post\",\"5_mid\",\"5_post\",\"6_mid\",\"6_post\",\"7_mid\",\"7_post\",\"8_mid\",\"8_post\",\"9_mid\",\"9_post\",\"10_mid\",\"10_post\",\"11_mid\",\"11_post\",\"12_mid\",\"12_post\",\"13_mid\",\"13_post\",\"14_mid\",\"14_post\",\"15_mid\",\"15_post\",\"16_mid\",\"16_post\",\"17_mid\",\"17_post\",\"18_mid\",\"18_post\",\"19_mid\",\"19_post\",\"20_mid\",\"20_post\",\"21_mid\",\"21_post\",\"22_mid\",\"22_post\",\"23_mid\",\"23_post\",\"0_mid\",\"0_post\",\"1_mid\",\"1_post\",\"2_mid\",\"2_post\",\"3_mid\",\"3_post\",\"4_mid\",\"4_post\",\"5_mid\",\"5_post\",\"6_mid\",\"6_post\",\"7_mid\",\"7_post\",\"8_mid\",\"8_post\",\"9_mid\",\"9_post\",\"10_mid\",\"10_post\",\"11_mid\",\"11_post\",\"12_mid\",\"12_post\",\"13_mid\",\"13_post\",\"14_mid\",\"14_post\",\"15_mid\",\"15_post\",\"16_mid\",\"16_post\",\"17_mid\",\"17_post\",\"18_mid\",\"18_post\",\"19_mid\",\"19_post\",\"20_mid\",\"20_post\",\"21_mid\",\"21_post\",\"22_mid\",\"22_post\",\"23_mid\",\"23_post\"],\"xaxis\":\"x\",\"y\":[-10.792224884033203,-25.787498474121094,-24.694311141967773,-28.341203689575195,-26.923181533813477,-29.22954750061035,-28.582271575927734,-28.839805603027344,-29.25693130493164,-30.103885650634766,-34.26466369628906,-29.900320053100586,-35.568660736083984,-34.214847564697266,-36.65238571166992,-35.4385986328125,-35.45071792602539,-36.892887115478516,-37.02158737182617,-40.33269500732422,-44.438045501708984,-46.97344207763672,-65.9375,-72.64970397949219,-94.85859680175781,-104.15908813476562,-118.46886444091797,-123.02040100097656,-145.91058349609375,-150.62844848632812,-167.9962158203125,-177.7026824951172,-192.91612243652344,-200.44717407226562,-251.9272918701172,-244.85696411132812,-290.35589599609375,-287.68585205078125,-360.81634521484375,-348.1274719238281,-374.58941650390625,-371.7467346191406,-412.15777587890625,-383.0419616699219,-392.0131530761719,-397.53192138671875,-419.8533020019531,-401.92608642578125,-10.792224884033203,-25.787498474121094,-24.694311141967773,-28.341203689575195,-26.923181533813477,-29.22954750061035,-28.582271575927734,-28.839805603027344,-29.25693130493164,-30.103885650634766,-34.26466369628906,-29.900320053100586,-35.568660736083984,-34.214847564697266,-36.65238571166992,-35.4385986328125,-35.45071792602539,-36.892887115478516,-37.02158737182617,-40.33269500732422,-44.438045501708984,-46.97344207763672,-65.9375,-72.64970397949219,-94.85859680175781,-104.15908813476562,-118.46886444091797,-123.02040100097656,-145.91058349609375,-150.62844848632812,-167.9962158203125,-177.7026824951172,-192.91612243652344,-200.44717407226562,-251.9272918701172,-244.85696411132812,-290.35589599609375,-287.68585205078125,-360.81634521484375,-348.1274719238281,-374.58941650390625,-371.7467346191406,-412.15777587890625,-383.0419616699219,-392.0131530761719,-397.53192138671875,-419.8533020019531,-401.92608642578125],\"yaxis\":\"y\",\"type\":\"scatter\"},{\"hovertemplate\":\"Model=IFT_10000\\u003cbr\\u003eLayer=%{x}\\u003cbr\\u003eneg_logprob=%{y}\\u003cextra\\u003e\\u003c\\u002fextra\\u003e\",\"legendgroup\":\"IFT_10000\",\"line\":{\"color\":\"#FF6692\",\"dash\":\"solid\"},\"marker\":{\"symbol\":\"circle\"},\"mode\":\"lines\",\"name\":\"IFT_10000\",\"orientation\":\"v\",\"showlegend\":true,\"x\":[\"0_mid\",\"0_post\",\"1_mid\",\"1_post\",\"2_mid\",\"2_post\",\"3_mid\",\"3_post\",\"4_mid\",\"4_post\",\"5_mid\",\"5_post\",\"6_mid\",\"6_post\",\"7_mid\",\"7_post\",\"8_mid\",\"8_post\",\"9_mid\",\"9_post\",\"10_mid\",\"10_post\",\"11_mid\",\"11_post\",\"12_mid\",\"12_post\",\"13_mid\",\"13_post\",\"14_mid\",\"14_post\",\"15_mid\",\"15_post\",\"16_mid\",\"16_post\",\"17_mid\",\"17_post\",\"18_mid\",\"18_post\",\"19_mid\",\"19_post\",\"20_mid\",\"20_post\",\"21_mid\",\"21_post\",\"22_mid\",\"22_post\",\"23_mid\",\"23_post\"],\"xaxis\":\"x\",\"y\":[-11.223493576049805,-17.572914123535156,-18.388835906982422,-22.635360717773438,-25.582624435424805,-23.463111877441406,-29.549909591674805,-28.238510131835938,-29.67581558227539,-32.42060089111328,-40.98441696166992,-43.404930114746094,-47.5336799621582,-44.262943267822266,-49.12788772583008,-44.544620513916016,-43.17872619628906,-34.65018081665039,-35.414459228515625,-37.76654052734375,-40.70930862426758,-63.09965515136719,-69.03938293457031,-62.99748229980469,-88.67284393310547,-92.37318420410156,-101.52430725097656,-101.70497131347656,-122.01219940185547,-123.53799438476562,-133.82666015625,-150.22254943847656,-166.36924743652344,-176.7340850830078,-224.162841796875,-222.758544921875,-251.08694458007812,-251.67514038085938,-316.88189697265625,-322.336181640625,-332.04913330078125,-318.19610595703125,-376.0264892578125,-371.9849853515625,-409.75927734375,-434.9141845703125,-454.7084655761719,-387.95867919921875],\"yaxis\":\"y\",\"type\":\"scatter\"},{\"hovertemplate\":\"Model=GPT2_10000\\u003cbr\\u003eLayer=%{x}\\u003cbr\\u003eneg_logprob=%{y}\\u003cextra\\u003e\\u003c\\u002fextra\\u003e\",\"legendgroup\":\"GPT2_10000\",\"line\":{\"color\":\"#B6E880\",\"dash\":\"solid\"},\"marker\":{\"symbol\":\"circle\"},\"mode\":\"lines\",\"name\":\"GPT2_10000\",\"orientation\":\"v\",\"showlegend\":true,\"x\":[\"0_mid\",\"0_post\",\"1_mid\",\"1_post\",\"2_mid\",\"2_post\",\"3_mid\",\"3_post\",\"4_mid\",\"4_post\",\"5_mid\",\"5_post\",\"6_mid\",\"6_post\",\"7_mid\",\"7_post\",\"8_mid\",\"8_post\",\"9_mid\",\"9_post\",\"10_mid\",\"10_post\",\"11_mid\",\"11_post\",\"12_mid\",\"12_post\",\"13_mid\",\"13_post\",\"14_mid\",\"14_post\",\"15_mid\",\"15_post\",\"16_mid\",\"16_post\",\"17_mid\",\"17_post\",\"18_mid\",\"18_post\",\"19_mid\",\"19_post\",\"20_mid\",\"20_post\",\"21_mid\",\"21_post\",\"22_mid\",\"22_post\",\"23_mid\",\"23_post\"],\"xaxis\":\"x\",\"y\":[-11.132674217224121,-18.191627502441406,-19.913724899291992,-23.52583885192871,-26.61400032043457,-28.773725509643555,-34.470802307128906,-33.231727600097656,-35.31511306762695,-38.68308639526367,-44.16366195678711,-41.436195373535156,-42.33797073364258,-41.73527145385742,-46.582008361816406,-44.40489196777344,-48.17061233520508,-45.46600341796875,-40.29275131225586,-43.19147872924805,-51.62109375,-58.8436279296875,-82.11311340332031,-83.65489196777344,-115.32007598876953,-120.78621673583984,-141.98284912109375,-142.7659149169922,-173.54225158691406,-181.04248046875,-200.41758728027344,-211.626708984375,-228.1119384765625,-241.81268310546875,-293.8341369628906,-290.0574645996094,-332.82550048828125,-345.8344421386719,-428.7530517578125,-434.1514892578125,-473.2905578613281,-469.5482482910156,-527.287109375,-522.2803344726562,-547.7703247070312,-565.7276611328125,-593.9254760742188,-565.155029296875],\"yaxis\":\"y\",\"type\":\"scatter\"}],                        {\"template\":{\"data\":{\"histogram2dcontour\":[{\"type\":\"histogram2dcontour\",\"colorbar\":{\"outlinewidth\":0,\"ticks\":\"\"},\"colorscale\":[[0.0,\"#0d0887\"],[0.1111111111111111,\"#46039f\"],[0.2222222222222222,\"#7201a8\"],[0.3333333333333333,\"#9c179e\"],[0.4444444444444444,\"#bd3786\"],[0.5555555555555556,\"#d8576b\"],[0.6666666666666666,\"#ed7953\"],[0.7777777777777778,\"#fb9f3a\"],[0.8888888888888888,\"#fdca26\"],[1.0,\"#f0f921\"]]}],\"choropleth\":[{\"type\":\"choropleth\",\"colorbar\":{\"outlinewidth\":0,\"ticks\":\"\"}}],\"histogram2d\":[{\"type\":\"histogram2d\",\"colorbar\":{\"outlinewidth\":0,\"ticks\":\"\"},\"colorscale\":[[0.0,\"#0d0887\"],[0.1111111111111111,\"#46039f\"],[0.2222222222222222,\"#7201a8\"],[0.3333333333333333,\"#9c179e\"],[0.4444444444444444,\"#bd3786\"],[0.5555555555555556,\"#d8576b\"],[0.6666666666666666,\"#ed7953\"],[0.7777777777777778,\"#fb9f3a\"],[0.8888888888888888,\"#fdca26\"],[1.0,\"#f0f921\"]]}],\"heatmap\":[{\"type\":\"heatmap\",\"colorbar\":{\"outlinewidth\":0,\"ticks\":\"\"},\"colorscale\":[[0.0,\"#0d0887\"],[0.1111111111111111,\"#46039f\"],[0.2222222222222222,\"#7201a8\"],[0.3333333333333333,\"#9c179e\"],[0.4444444444444444,\"#bd3786\"],[0.5555555555555556,\"#d8576b\"],[0.6666666666666666,\"#ed7953\"],[0.7777777777777778,\"#fb9f3a\"],[0.8888888888888888,\"#fdca26\"],[1.0,\"#f0f921\"]]}],\"heatmapgl\":[{\"type\":\"heatmapgl\",\"colorbar\":{\"outlinewidth\":0,\"ticks\":\"\"},\"colorscale\":[[0.0,\"#0d0887\"],[0.1111111111111111,\"#46039f\"],[0.2222222222222222,\"#7201a8\"],[0.3333333333333333,\"#9c179e\"],[0.4444444444444444,\"#bd3786\"],[0.5555555555555556,\"#d8576b\"],[0.6666666666666666,\"#ed7953\"],[0.7777777777777778,\"#fb9f3a\"],[0.8888888888888888,\"#fdca26\"],[1.0,\"#f0f921\"]]}],\"contourcarpet\":[{\"type\":\"contourcarpet\",\"colorbar\":{\"outlinewidth\":0,\"ticks\":\"\"}}],\"contour\":[{\"type\":\"contour\",\"colorbar\":{\"outlinewidth\":0,\"ticks\":\"\"},\"colorscale\":[[0.0,\"#0d0887\"],[0.1111111111111111,\"#46039f\"],[0.2222222222222222,\"#7201a8\"],[0.3333333333333333,\"#9c179e\"],[0.4444444444444444,\"#bd3786\"],[0.5555555555555556,\"#d8576b\"],[0.6666666666666666,\"#ed7953\"],[0.7777777777777778,\"#fb9f3a\"],[0.8888888888888888,\"#fdca26\"],[1.0,\"#f0f921\"]]}],\"surface\":[{\"type\":\"surface\",\"colorbar\":{\"outlinewidth\":0,\"ticks\":\"\"},\"colorscale\":[[0.0,\"#0d0887\"],[0.1111111111111111,\"#46039f\"],[0.2222222222222222,\"#7201a8\"],[0.3333333333333333,\"#9c179e\"],[0.4444444444444444,\"#bd3786\"],[0.5555555555555556,\"#d8576b\"],[0.6666666666666666,\"#ed7953\"],[0.7777777777777778,\"#fb9f3a\"],[0.8888888888888888,\"#fdca26\"],[1.0,\"#f0f921\"]]}],\"mesh3d\":[{\"type\":\"mesh3d\",\"colorbar\":{\"outlinewidth\":0,\"ticks\":\"\"}}],\"scatter\":[{\"fillpattern\":{\"fillmode\":\"overlay\",\"size\":10,\"solidity\":0.2},\"type\":\"scatter\"}],\"parcoords\":[{\"type\":\"parcoords\",\"line\":{\"colorbar\":{\"outlinewidth\":0,\"ticks\":\"\"}}}],\"scatterpolargl\":[{\"type\":\"scatterpolargl\",\"marker\":{\"colorbar\":{\"outlinewidth\":0,\"ticks\":\"\"}}}],\"bar\":[{\"error_x\":{\"color\":\"#2a3f5f\"},\"error_y\":{\"color\":\"#2a3f5f\"},\"marker\":{\"line\":{\"color\":\"#E5ECF6\",\"width\":0.5},\"pattern\":{\"fillmode\":\"overlay\",\"size\":10,\"solidity\":0.2}},\"type\":\"bar\"}],\"scattergeo\":[{\"type\":\"scattergeo\",\"marker\":{\"colorbar\":{\"outlinewidth\":0,\"ticks\":\"\"}}}],\"scatterpolar\":[{\"type\":\"scatterpolar\",\"marker\":{\"colorbar\":{\"outlinewidth\":0,\"ticks\":\"\"}}}],\"histogram\":[{\"marker\":{\"pattern\":{\"fillmode\":\"overlay\",\"size\":10,\"solidity\":0.2}},\"type\":\"histogram\"}],\"scattergl\":[{\"type\":\"scattergl\",\"marker\":{\"colorbar\":{\"outlinewidth\":0,\"ticks\":\"\"}}}],\"scatter3d\":[{\"type\":\"scatter3d\",\"line\":{\"colorbar\":{\"outlinewidth\":0,\"ticks\":\"\"}},\"marker\":{\"colorbar\":{\"outlinewidth\":0,\"ticks\":\"\"}}}],\"scattermapbox\":[{\"type\":\"scattermapbox\",\"marker\":{\"colorbar\":{\"outlinewidth\":0,\"ticks\":\"\"}}}],\"scatterternary\":[{\"type\":\"scatterternary\",\"marker\":{\"colorbar\":{\"outlinewidth\":0,\"ticks\":\"\"}}}],\"scattercarpet\":[{\"type\":\"scattercarpet\",\"marker\":{\"colorbar\":{\"outlinewidth\":0,\"ticks\":\"\"}}}],\"carpet\":[{\"aaxis\":{\"endlinecolor\":\"#2a3f5f\",\"gridcolor\":\"white\",\"linecolor\":\"white\",\"minorgridcolor\":\"white\",\"startlinecolor\":\"#2a3f5f\"},\"baxis\":{\"endlinecolor\":\"#2a3f5f\",\"gridcolor\":\"white\",\"linecolor\":\"white\",\"minorgridcolor\":\"white\",\"startlinecolor\":\"#2a3f5f\"},\"type\":\"carpet\"}],\"table\":[{\"cells\":{\"fill\":{\"color\":\"#EBF0F8\"},\"line\":{\"color\":\"white\"}},\"header\":{\"fill\":{\"color\":\"#C8D4E3\"},\"line\":{\"color\":\"white\"}},\"type\":\"table\"}],\"barpolar\":[{\"marker\":{\"line\":{\"color\":\"#E5ECF6\",\"width\":0.5},\"pattern\":{\"fillmode\":\"overlay\",\"size\":10,\"solidity\":0.2}},\"type\":\"barpolar\"}],\"pie\":[{\"automargin\":true,\"type\":\"pie\"}]},\"layout\":{\"autotypenumbers\":\"strict\",\"colorway\":[\"#636efa\",\"#EF553B\",\"#00cc96\",\"#ab63fa\",\"#FFA15A\",\"#19d3f3\",\"#FF6692\",\"#B6E880\",\"#FF97FF\",\"#FECB52\"],\"font\":{\"color\":\"#2a3f5f\"},\"hovermode\":\"closest\",\"hoverlabel\":{\"align\":\"left\"},\"paper_bgcolor\":\"white\",\"plot_bgcolor\":\"#E5ECF6\",\"polar\":{\"bgcolor\":\"#E5ECF6\",\"angularaxis\":{\"gridcolor\":\"white\",\"linecolor\":\"white\",\"ticks\":\"\"},\"radialaxis\":{\"gridcolor\":\"white\",\"linecolor\":\"white\",\"ticks\":\"\"}},\"ternary\":{\"bgcolor\":\"#E5ECF6\",\"aaxis\":{\"gridcolor\":\"white\",\"linecolor\":\"white\",\"ticks\":\"\"},\"baxis\":{\"gridcolor\":\"white\",\"linecolor\":\"white\",\"ticks\":\"\"},\"caxis\":{\"gridcolor\":\"white\",\"linecolor\":\"white\",\"ticks\":\"\"}},\"coloraxis\":{\"colorbar\":{\"outlinewidth\":0,\"ticks\":\"\"}},\"colorscale\":{\"sequential\":[[0.0,\"#0d0887\"],[0.1111111111111111,\"#46039f\"],[0.2222222222222222,\"#7201a8\"],[0.3333333333333333,\"#9c179e\"],[0.4444444444444444,\"#bd3786\"],[0.5555555555555556,\"#d8576b\"],[0.6666666666666666,\"#ed7953\"],[0.7777777777777778,\"#fb9f3a\"],[0.8888888888888888,\"#fdca26\"],[1.0,\"#f0f921\"]],\"sequentialminus\":[[0.0,\"#0d0887\"],[0.1111111111111111,\"#46039f\"],[0.2222222222222222,\"#7201a8\"],[0.3333333333333333,\"#9c179e\"],[0.4444444444444444,\"#bd3786\"],[0.5555555555555556,\"#d8576b\"],[0.6666666666666666,\"#ed7953\"],[0.7777777777777778,\"#fb9f3a\"],[0.8888888888888888,\"#fdca26\"],[1.0,\"#f0f921\"]],\"diverging\":[[0,\"#8e0152\"],[0.1,\"#c51b7d\"],[0.2,\"#de77ae\"],[0.3,\"#f1b6da\"],[0.4,\"#fde0ef\"],[0.5,\"#f7f7f7\"],[0.6,\"#e6f5d0\"],[0.7,\"#b8e186\"],[0.8,\"#7fbc41\"],[0.9,\"#4d9221\"],[1,\"#276419\"]]},\"xaxis\":{\"gridcolor\":\"white\",\"linecolor\":\"white\",\"ticks\":\"\",\"title\":{\"standoff\":15},\"zerolinecolor\":\"white\",\"automargin\":true,\"zerolinewidth\":2},\"yaxis\":{\"gridcolor\":\"white\",\"linecolor\":\"white\",\"ticks\":\"\",\"title\":{\"standoff\":15},\"zerolinecolor\":\"white\",\"automargin\":true,\"zerolinewidth\":2},\"scene\":{\"xaxis\":{\"backgroundcolor\":\"#E5ECF6\",\"gridcolor\":\"white\",\"linecolor\":\"white\",\"showbackground\":true,\"ticks\":\"\",\"zerolinecolor\":\"white\",\"gridwidth\":2},\"yaxis\":{\"backgroundcolor\":\"#E5ECF6\",\"gridcolor\":\"white\",\"linecolor\":\"white\",\"showbackground\":true,\"ticks\":\"\",\"zerolinecolor\":\"white\",\"gridwidth\":2},\"zaxis\":{\"backgroundcolor\":\"#E5ECF6\",\"gridcolor\":\"white\",\"linecolor\":\"white\",\"showbackground\":true,\"ticks\":\"\",\"zerolinecolor\":\"white\",\"gridwidth\":2}},\"shapedefaults\":{\"line\":{\"color\":\"#2a3f5f\"}},\"annotationdefaults\":{\"arrowcolor\":\"#2a3f5f\",\"arrowhead\":0,\"arrowwidth\":1},\"geo\":{\"bgcolor\":\"white\",\"landcolor\":\"#E5ECF6\",\"subunitcolor\":\"white\",\"showland\":true,\"showlakes\":true,\"lakecolor\":\"white\"},\"title\":{\"x\":0.05},\"mapbox\":{\"style\":\"light\"}}},\"xaxis\":{\"anchor\":\"y\",\"domain\":[0.0,1.0],\"title\":{\"text\":\"Layer\"}},\"yaxis\":{\"anchor\":\"x\",\"domain\":[0.0,1.0],\"title\":{\"text\":\"neg_logprob\"}},\"legend\":{\"title\":{\"text\":\"Model\"},\"tracegroupgap\":0},\"margin\":{\"t\":60}},                        {\"responsive\": true}                    ).then(function(){\n",
       "                            \n",
       "var gd = document.getElementById('7cacd12c-ca23-4f65-a25d-778354e0bafc');\n",
       "var x = new MutationObserver(function (mutations, observer) {{\n",
       "        var display = window.getComputedStyle(gd).display;\n",
       "        if (!display || display === 'none') {{\n",
       "            console.log([gd, 'removed!']);\n",
       "            Plotly.purge(gd);\n",
       "            observer.disconnect();\n",
       "        }}\n",
       "}});\n",
       "\n",
       "// Listen for the removal of the full notebook cells\n",
       "var notebookContainer = gd.closest('#notebook-container');\n",
       "if (notebookContainer) {{\n",
       "    x.observe(notebookContainer, {childList: true});\n",
       "}}\n",
       "\n",
       "// Listen for the clearing of the current output cell\n",
       "var outputEl = gd.closest('.output');\n",
       "if (outputEl) {{\n",
       "    x.observe(outputEl, {childList: true});\n",
       "}}\n",
       "\n",
       "                        })                };                });            </script>        </div>"
      ]
     },
     "metadata": {},
     "output_type": "display_data"
    },
    {
     "name": "stdout",
     "output_type": "stream",
     "text": [
      "zzzzzzzzzzzzzzzzzzzzzzzzzzzzzzzzzzzzzzzzzzzzzzzzzzzz\n",
      "Neg tok: 1749\n",
      "Tok id: 70\n"
     ]
    },
    {
     "data": {
      "application/vnd.plotly.v1+json": {
       "config": {
        "plotlyServerURL": "https://plot.ly"
       },
       "data": [
        {
         "hovertemplate": "Model=IFT<br>Layer=%{x}<br>neg_logprob=%{y}<extra></extra>",
         "legendgroup": "IFT",
         "line": {
          "color": "#636efa",
          "dash": "solid"
         },
         "marker": {
          "symbol": "circle"
         },
         "mode": "lines",
         "name": "IFT",
         "orientation": "v",
         "showlegend": true,
         "type": "scatter",
         "x": [
          "0_mid",
          "0_post",
          "1_mid",
          "1_post",
          "2_mid",
          "2_post",
          "3_mid",
          "3_post",
          "4_mid",
          "4_post",
          "5_mid",
          "5_post",
          "6_mid",
          "6_post",
          "7_mid",
          "7_post",
          "8_mid",
          "8_post",
          "9_mid",
          "9_post",
          "10_mid",
          "10_post",
          "11_mid",
          "11_post",
          "12_mid",
          "12_post",
          "13_mid",
          "13_post",
          "14_mid",
          "14_post",
          "15_mid",
          "15_post",
          "16_mid",
          "16_post",
          "17_mid",
          "17_post",
          "18_mid",
          "18_post",
          "19_mid",
          "19_post",
          "20_mid",
          "20_post",
          "21_mid",
          "21_post",
          "22_mid",
          "22_post",
          "23_mid",
          "23_post"
         ],
         "xaxis": "x",
         "y": [
          -14.352872848510742,
          -29.39604377746582,
          -34.87065124511719,
          -35.33454132080078,
          -38.82957458496094,
          -30.874799728393555,
          -29.526090621948242,
          -28.346790313720703,
          -27.282472610473633,
          -25.99575424194336,
          -20.318458557128906,
          -25.211774826049805,
          -17.712120056152344,
          -18.053232192993164,
          -18.18295669555664,
          -23.975589752197266,
          -24.053354263305664,
          -20.67827606201172,
          -10.208463668823242,
          -10.684493064880371,
          -10.446221351623535,
          -5.067965030670166,
          -0.00015472168161068112,
          -9.881961887003854e-05,
          -0.013636763207614422,
          -14.382462501525879,
          -15.806655883789062,
          -12.883634567260742,
          -3.194669008255005,
          -10.15128231048584,
          -12.57114315032959,
          -26.950103759765625,
          -33.73890686035156,
          -36.709747314453125,
          -31.915008544921875,
          -36.679779052734375,
          -21.727386474609375,
          -33.54290771484375,
          0,
          0,
          0,
          0,
          0,
          0,
          0,
          0,
          0,
          0
         ],
         "yaxis": "y"
        },
        {
         "hovertemplate": "Model=GPT2<br>Layer=%{x}<br>neg_logprob=%{y}<extra></extra>",
         "legendgroup": "GPT2",
         "line": {
          "color": "#EF553B",
          "dash": "solid"
         },
         "marker": {
          "symbol": "circle"
         },
         "mode": "lines",
         "name": "GPT2",
         "orientation": "v",
         "showlegend": true,
         "type": "scatter",
         "x": [
          "0_mid",
          "0_post",
          "1_mid",
          "1_post",
          "2_mid",
          "2_post",
          "3_mid",
          "3_post",
          "4_mid",
          "4_post",
          "5_mid",
          "5_post",
          "6_mid",
          "6_post",
          "7_mid",
          "7_post",
          "8_mid",
          "8_post",
          "9_mid",
          "9_post",
          "10_mid",
          "10_post",
          "11_mid",
          "11_post",
          "12_mid",
          "12_post",
          "13_mid",
          "13_post",
          "14_mid",
          "14_post",
          "15_mid",
          "15_post",
          "16_mid",
          "16_post",
          "17_mid",
          "17_post",
          "18_mid",
          "18_post",
          "19_mid",
          "19_post",
          "20_mid",
          "20_post",
          "21_mid",
          "21_post",
          "22_mid",
          "22_post",
          "23_mid",
          "23_post"
         ],
         "xaxis": "x",
         "y": [
          -14.499181747436523,
          -30.53049659729004,
          -34.28727340698242,
          -36.095062255859375,
          -38.031005859375,
          -32.83720397949219,
          -30.273056030273438,
          -30.532814025878906,
          -29.175580978393555,
          -29.98169708251953,
          -24.04383659362793,
          -26.098825454711914,
          -20.95035171508789,
          -19.99095916748047,
          -19.40938377380371,
          -25.211484909057617,
          -25.007537841796875,
          -23.200603485107422,
          -10.521212577819824,
          -10.330822944641113,
          -6.522040843963623,
          -2.818044662475586,
          -0.022837601602077484,
          -4.029192859889008e-05,
          0,
          -0.0014846028061583638,
          -0.003433643840253353,
          -1.4588291645050049,
          -0.29591086506843567,
          -7.805944919586182,
          -5.822695255279541,
          -22.627197265625,
          -25.661972045898438,
          -32.3846435546875,
          -31.158981323242188,
          -45.936737060546875,
          -30.5050048828125,
          -40.424407958984375,
          -0.042096588760614395,
          -3.45700973412022e-05,
          0,
          0,
          0,
          0,
          0,
          0,
          0,
          0
         ],
         "yaxis": "y"
        },
        {
         "hovertemplate": "Model=IFT_10<br>Layer=%{x}<br>neg_logprob=%{y}<extra></extra>",
         "legendgroup": "IFT_10",
         "line": {
          "color": "#00cc96",
          "dash": "solid"
         },
         "marker": {
          "symbol": "circle"
         },
         "mode": "lines",
         "name": "IFT_10",
         "orientation": "v",
         "showlegend": true,
         "type": "scatter",
         "x": [
          "0_mid",
          "0_post",
          "1_mid",
          "1_post",
          "2_mid",
          "2_post",
          "3_mid",
          "3_post",
          "4_mid",
          "4_post",
          "5_mid",
          "5_post",
          "6_mid",
          "6_post",
          "7_mid",
          "7_post",
          "8_mid",
          "8_post",
          "9_mid",
          "9_post",
          "10_mid",
          "10_post",
          "11_mid",
          "11_post",
          "12_mid",
          "12_post",
          "13_mid",
          "13_post",
          "14_mid",
          "14_post",
          "15_mid",
          "15_post",
          "16_mid",
          "16_post",
          "17_mid",
          "17_post",
          "18_mid",
          "18_post",
          "19_mid",
          "19_post",
          "20_mid",
          "20_post",
          "21_mid",
          "21_post",
          "22_mid",
          "22_post",
          "23_mid",
          "23_post"
         ],
         "xaxis": "x",
         "y": [
          -11.464826583862305,
          -22.17428207397461,
          -26.03980827331543,
          -18.384496688842773,
          -21.553735733032227,
          -20.091093063354492,
          -18.892053604125977,
          -19.516632080078125,
          -18.67386817932129,
          -16.173686981201172,
          -14.622207641601562,
          -14.275655746459961,
          -10.709587097167969,
          -13.230070114135742,
          -15.567341804504395,
          -18.830394744873047,
          -16.592905044555664,
          -26.69256591796875,
          -33.972896575927734,
          -34.29795837402344,
          -40.12347412109375,
          -32.85622024536133,
          -41.59193801879883,
          -46.31182098388672,
          -37.43624496459961,
          -40.912353515625,
          -46.63392639160156,
          -39.80048751831055,
          -40.030452728271484,
          -43.920509338378906,
          -45.137840270996094,
          -65.61128234863281,
          -70.66264343261719,
          -71.65115356445312,
          -65.986572265625,
          -73.2808837890625,
          -74.01202392578125,
          -74.73040771484375,
          -87.84555053710938,
          -117.64614868164062,
          -156.5167694091797,
          -151.73519897460938,
          -159.87753295898438,
          -150.47848510742188,
          -121.2213134765625,
          -113.67587280273438,
          -93.77664184570312,
          -164.49310302734375
         ],
         "yaxis": "y"
        },
        {
         "hovertemplate": "Model=GPT2_10<br>Layer=%{x}<br>neg_logprob=%{y}<extra></extra>",
         "legendgroup": "GPT2_10",
         "line": {
          "color": "#ab63fa",
          "dash": "solid"
         },
         "marker": {
          "symbol": "circle"
         },
         "mode": "lines",
         "name": "GPT2_10",
         "orientation": "v",
         "showlegend": true,
         "type": "scatter",
         "x": [
          "0_mid",
          "0_post",
          "1_mid",
          "1_post",
          "2_mid",
          "2_post",
          "3_mid",
          "3_post",
          "4_mid",
          "4_post",
          "5_mid",
          "5_post",
          "6_mid",
          "6_post",
          "7_mid",
          "7_post",
          "8_mid",
          "8_post",
          "9_mid",
          "9_post",
          "10_mid",
          "10_post",
          "11_mid",
          "11_post",
          "12_mid",
          "12_post",
          "13_mid",
          "13_post",
          "14_mid",
          "14_post",
          "15_mid",
          "15_post",
          "16_mid",
          "16_post",
          "17_mid",
          "17_post",
          "18_mid",
          "18_post",
          "19_mid",
          "19_post",
          "20_mid",
          "20_post",
          "21_mid",
          "21_post",
          "22_mid",
          "22_post",
          "23_mid",
          "23_post"
         ],
         "xaxis": "x",
         "y": [
          -11.505212783813477,
          -21.635976791381836,
          -23.912160873413086,
          -19.13475227355957,
          -22.3454647064209,
          -21.76630973815918,
          -19.487560272216797,
          -19.331485748291016,
          -18.08748435974121,
          -17.994647979736328,
          -15.52800178527832,
          -14.167848587036133,
          -12.44841480255127,
          -16.040889739990234,
          -17.41823387145996,
          -21.62250328063965,
          -21.907135009765625,
          -31.269023895263672,
          -34.794986724853516,
          -32.07139205932617,
          -35.31208801269531,
          -32.48287582397461,
          -41.19826889038086,
          -43.873958587646484,
          -47.00969696044922,
          -37.44392776489258,
          -41.850341796875,
          -35.27451705932617,
          -30.051877975463867,
          -32.350502014160156,
          -32.99342727661133,
          -52.72669982910156,
          -56.37751770019531,
          -57.50244140625,
          -53.39306640625,
          -59.62535095214844,
          -63.01933288574219,
          -59.726409912109375,
          -58.93467330932617,
          -78.60517120361328,
          -115.43435668945312,
          -108.27789306640625,
          -133.1907958984375,
          -132.02972412109375,
          -126.10040283203125,
          -97.071533203125,
          -109.490478515625,
          -165.76397705078125
         ],
         "yaxis": "y"
        },
        {
         "hovertemplate": "Model=IFT_100<br>Layer=%{x}<br>neg_logprob=%{y}<extra></extra>",
         "legendgroup": "IFT_100",
         "line": {
          "color": "#FFA15A",
          "dash": "solid"
         },
         "marker": {
          "symbol": "circle"
         },
         "mode": "lines",
         "name": "IFT_100",
         "orientation": "v",
         "showlegend": true,
         "type": "scatter",
         "x": [
          "0_mid",
          "0_post",
          "1_mid",
          "1_post",
          "2_mid",
          "2_post",
          "3_mid",
          "3_post",
          "4_mid",
          "4_post",
          "5_mid",
          "5_post",
          "6_mid",
          "6_post",
          "7_mid",
          "7_post",
          "8_mid",
          "8_post",
          "9_mid",
          "9_post",
          "10_mid",
          "10_post",
          "11_mid",
          "11_post",
          "12_mid",
          "12_post",
          "13_mid",
          "13_post",
          "14_mid",
          "14_post",
          "15_mid",
          "15_post",
          "16_mid",
          "16_post",
          "17_mid",
          "17_post",
          "18_mid",
          "18_post",
          "19_mid",
          "19_post",
          "20_mid",
          "20_post",
          "21_mid",
          "21_post",
          "22_mid",
          "22_post",
          "23_mid",
          "23_post",
          "0_mid",
          "0_post",
          "1_mid",
          "1_post",
          "2_mid",
          "2_post",
          "3_mid",
          "3_post",
          "4_mid",
          "4_post",
          "5_mid",
          "5_post",
          "6_mid",
          "6_post",
          "7_mid",
          "7_post",
          "8_mid",
          "8_post",
          "9_mid",
          "9_post",
          "10_mid",
          "10_post",
          "11_mid",
          "11_post",
          "12_mid",
          "12_post",
          "13_mid",
          "13_post",
          "14_mid",
          "14_post",
          "15_mid",
          "15_post",
          "16_mid",
          "16_post",
          "17_mid",
          "17_post",
          "18_mid",
          "18_post",
          "19_mid",
          "19_post",
          "20_mid",
          "20_post",
          "21_mid",
          "21_post",
          "22_mid",
          "22_post",
          "23_mid",
          "23_post"
         ],
         "xaxis": "x",
         "y": [
          -12.711219787597656,
          -29.80512237548828,
          -37.43730163574219,
          -40.91641616821289,
          -40.816410064697266,
          -34.96782302856445,
          -34.81211471557617,
          -41.28575897216797,
          -40.06101608276367,
          -41.38653564453125,
          -40.25029754638672,
          -40.82844543457031,
          -43.51462936401367,
          -46.336219787597656,
          -51.6845817565918,
          -59.47612762451172,
          -61.31924819946289,
          -66.44754791259766,
          -60.49437713623047,
          -65.40584564208984,
          -68.30786895751953,
          -67.06598663330078,
          -69.02171325683594,
          -68.0846176147461,
          -62.86758041381836,
          -83.00030517578125,
          -90.310791015625,
          -84.04552459716797,
          -85.32844543457031,
          -89.92900848388672,
          -92.59945678710938,
          -120.543701171875,
          -130.33306884765625,
          -139.21490478515625,
          -144.0978240966797,
          -142.3355712890625,
          -144.26058959960938,
          -142.0235595703125,
          -147.50111389160156,
          -162.30328369140625,
          -194.73147583007812,
          -185.748291015625,
          -193.6886444091797,
          -167.38409423828125,
          -172.23016357421875,
          -192.91558837890625,
          -203.79641723632812,
          -245.79583740234375,
          -12.711219787597656,
          -29.80512237548828,
          -37.43730163574219,
          -40.91641616821289,
          -40.816410064697266,
          -34.96782302856445,
          -34.81211471557617,
          -41.28575897216797,
          -40.06101608276367,
          -41.38653564453125,
          -40.25029754638672,
          -40.82844543457031,
          -43.51462936401367,
          -46.336219787597656,
          -51.6845817565918,
          -59.47612762451172,
          -61.31924819946289,
          -66.44754791259766,
          -60.49437713623047,
          -65.40584564208984,
          -68.30786895751953,
          -67.06598663330078,
          -69.02171325683594,
          -68.0846176147461,
          -62.86758041381836,
          -83.00030517578125,
          -90.310791015625,
          -84.04552459716797,
          -85.32844543457031,
          -89.92900848388672,
          -92.59945678710938,
          -120.543701171875,
          -130.33306884765625,
          -139.21490478515625,
          -144.0978240966797,
          -142.3355712890625,
          -144.26058959960938,
          -142.0235595703125,
          -147.50111389160156,
          -162.30328369140625,
          -194.73147583007812,
          -185.748291015625,
          -193.6886444091797,
          -167.38409423828125,
          -172.23016357421875,
          -192.91558837890625,
          -203.79641723632812,
          -245.79583740234375
         ],
         "yaxis": "y"
        },
        {
         "hovertemplate": "Model=GPT2_100<br>Layer=%{x}<br>neg_logprob=%{y}<extra></extra>",
         "legendgroup": "GPT2_100",
         "line": {
          "color": "#19d3f3",
          "dash": "solid"
         },
         "marker": {
          "symbol": "circle"
         },
         "mode": "lines",
         "name": "GPT2_100",
         "orientation": "v",
         "showlegend": true,
         "type": "scatter",
         "x": [
          "0_mid",
          "0_post",
          "1_mid",
          "1_post",
          "2_mid",
          "2_post",
          "3_mid",
          "3_post",
          "4_mid",
          "4_post",
          "5_mid",
          "5_post",
          "6_mid",
          "6_post",
          "7_mid",
          "7_post",
          "8_mid",
          "8_post",
          "9_mid",
          "9_post",
          "10_mid",
          "10_post",
          "11_mid",
          "11_post",
          "12_mid",
          "12_post",
          "13_mid",
          "13_post",
          "14_mid",
          "14_post",
          "15_mid",
          "15_post",
          "16_mid",
          "16_post",
          "17_mid",
          "17_post",
          "18_mid",
          "18_post",
          "19_mid",
          "19_post",
          "20_mid",
          "20_post",
          "21_mid",
          "21_post",
          "22_mid",
          "22_post",
          "23_mid",
          "23_post",
          "0_mid",
          "0_post",
          "1_mid",
          "1_post",
          "2_mid",
          "2_post",
          "3_mid",
          "3_post",
          "4_mid",
          "4_post",
          "5_mid",
          "5_post",
          "6_mid",
          "6_post",
          "7_mid",
          "7_post",
          "8_mid",
          "8_post",
          "9_mid",
          "9_post",
          "10_mid",
          "10_post",
          "11_mid",
          "11_post",
          "12_mid",
          "12_post",
          "13_mid",
          "13_post",
          "14_mid",
          "14_post",
          "15_mid",
          "15_post",
          "16_mid",
          "16_post",
          "17_mid",
          "17_post",
          "18_mid",
          "18_post",
          "19_mid",
          "19_post",
          "20_mid",
          "20_post",
          "21_mid",
          "21_post",
          "22_mid",
          "22_post",
          "23_mid",
          "23_post"
         ],
         "xaxis": "x",
         "y": [
          -12.8397855758667,
          -30.801713943481445,
          -37.66092300415039,
          -44.00597381591797,
          -44.0401496887207,
          -42.13443374633789,
          -41.116363525390625,
          -46.807823181152344,
          -46.60573196411133,
          -50.17475509643555,
          -47.144168853759766,
          -46.222408294677734,
          -49.29774475097656,
          -49.66896057128906,
          -54.86474609375,
          -62.175941467285156,
          -65.64351654052734,
          -70.00357818603516,
          -62.63775634765625,
          -67.46699523925781,
          -75.67845153808594,
          -73.39608764648438,
          -77.66211700439453,
          -73.9217529296875,
          -71.62691497802734,
          -77.23622131347656,
          -78.19529724121094,
          -72.60498046875,
          -80.69619750976562,
          -88.71456146240234,
          -89.87874603271484,
          -116.51728820800781,
          -125.13629913330078,
          -134.3287811279297,
          -138.86151123046875,
          -146.5700225830078,
          -145.46119689941406,
          -141.9322967529297,
          -136.77789306640625,
          -149.88168334960938,
          -175.24105834960938,
          -167.8428955078125,
          -193.01895141601562,
          -177.2393798828125,
          -181.811767578125,
          -183.403564453125,
          -203.21981811523438,
          -241.2652587890625,
          -12.8397855758667,
          -30.801713943481445,
          -37.66092300415039,
          -44.00597381591797,
          -44.0401496887207,
          -42.13443374633789,
          -41.116363525390625,
          -46.807823181152344,
          -46.60573196411133,
          -50.17475509643555,
          -47.144168853759766,
          -46.222408294677734,
          -49.29774475097656,
          -49.66896057128906,
          -54.86474609375,
          -62.175941467285156,
          -65.64351654052734,
          -70.00357818603516,
          -62.63775634765625,
          -67.46699523925781,
          -75.67845153808594,
          -73.39608764648438,
          -77.66211700439453,
          -73.9217529296875,
          -71.62691497802734,
          -77.23622131347656,
          -78.19529724121094,
          -72.60498046875,
          -80.69619750976562,
          -88.71456146240234,
          -89.87874603271484,
          -116.51728820800781,
          -125.13629913330078,
          -134.3287811279297,
          -138.86151123046875,
          -146.5700225830078,
          -145.46119689941406,
          -141.9322967529297,
          -136.77789306640625,
          -149.88168334960938,
          -175.24105834960938,
          -167.8428955078125,
          -193.01895141601562,
          -177.2393798828125,
          -181.811767578125,
          -183.403564453125,
          -203.21981811523438,
          -241.2652587890625
         ],
         "yaxis": "y"
        },
        {
         "hovertemplate": "Model=IFT_10000<br>Layer=%{x}<br>neg_logprob=%{y}<extra></extra>",
         "legendgroup": "IFT_10000",
         "line": {
          "color": "#FF6692",
          "dash": "solid"
         },
         "marker": {
          "symbol": "circle"
         },
         "mode": "lines",
         "name": "IFT_10000",
         "orientation": "v",
         "showlegend": true,
         "type": "scatter",
         "x": [
          "0_mid",
          "0_post",
          "1_mid",
          "1_post",
          "2_mid",
          "2_post",
          "3_mid",
          "3_post",
          "4_mid",
          "4_post",
          "5_mid",
          "5_post",
          "6_mid",
          "6_post",
          "7_mid",
          "7_post",
          "8_mid",
          "8_post",
          "9_mid",
          "9_post",
          "10_mid",
          "10_post",
          "11_mid",
          "11_post",
          "12_mid",
          "12_post",
          "13_mid",
          "13_post",
          "14_mid",
          "14_post",
          "15_mid",
          "15_post",
          "16_mid",
          "16_post",
          "17_mid",
          "17_post",
          "18_mid",
          "18_post",
          "19_mid",
          "19_post",
          "20_mid",
          "20_post",
          "21_mid",
          "21_post",
          "22_mid",
          "22_post",
          "23_mid",
          "23_post"
         ],
         "xaxis": "x",
         "y": [
          -12.288666725158691,
          -43.70384979248047,
          -51.18677520751953,
          -55.820106506347656,
          -61.18260955810547,
          -51.03112030029297,
          -49.278751373291016,
          -45.5074462890625,
          -43.398826599121094,
          -44.6381950378418,
          -41.67499542236328,
          -43.212703704833984,
          -38.463966369628906,
          -40.43206787109375,
          -42.65775680541992,
          -43.724143981933594,
          -43.21166229248047,
          -52.37104415893555,
          -56.84396743774414,
          -64.98514556884766,
          -70.26020050048828,
          -74.07984924316406,
          -89.576171875,
          -107.5619125366211,
          -122.39007568359375,
          -140.95938110351562,
          -145.80810546875,
          -148.10992431640625,
          -157.7972869873047,
          -167.85830688476562,
          -176.10025024414062,
          -181.4813232421875,
          -192.9764404296875,
          -195.88645935058594,
          -200.24440002441406,
          -212.9193115234375,
          -216.3088836669922,
          -224.0169677734375,
          -251.79327392578125,
          -296.29949951171875,
          -331.1456604003906,
          -343.1424560546875,
          -361.0263366699219,
          -376.5286865234375,
          -363.8119201660156,
          -374.474365234375,
          -402.96551513671875,
          -526.4174194335938
         ],
         "yaxis": "y"
        },
        {
         "hovertemplate": "Model=GPT2_10000<br>Layer=%{x}<br>neg_logprob=%{y}<extra></extra>",
         "legendgroup": "GPT2_10000",
         "line": {
          "color": "#B6E880",
          "dash": "solid"
         },
         "marker": {
          "symbol": "circle"
         },
         "mode": "lines",
         "name": "GPT2_10000",
         "orientation": "v",
         "showlegend": true,
         "type": "scatter",
         "x": [
          "0_mid",
          "0_post",
          "1_mid",
          "1_post",
          "2_mid",
          "2_post",
          "3_mid",
          "3_post",
          "4_mid",
          "4_post",
          "5_mid",
          "5_post",
          "6_mid",
          "6_post",
          "7_mid",
          "7_post",
          "8_mid",
          "8_post",
          "9_mid",
          "9_post",
          "10_mid",
          "10_post",
          "11_mid",
          "11_post",
          "12_mid",
          "12_post",
          "13_mid",
          "13_post",
          "14_mid",
          "14_post",
          "15_mid",
          "15_post",
          "16_mid",
          "16_post",
          "17_mid",
          "17_post",
          "18_mid",
          "18_post",
          "19_mid",
          "19_post",
          "20_mid",
          "20_post",
          "21_mid",
          "21_post",
          "22_mid",
          "22_post",
          "23_mid",
          "23_post"
         ],
         "xaxis": "x",
         "y": [
          -12.388779640197754,
          -45.15415573120117,
          -50.87338638305664,
          -54.85994338989258,
          -57.81424331665039,
          -52.8590202331543,
          -50.59691619873047,
          -46.23535919189453,
          -46.1539421081543,
          -48.53042221069336,
          -44.872962951660156,
          -44.866050720214844,
          -42.49481201171875,
          -44.87034225463867,
          -46.240478515625,
          -47.00302505493164,
          -49.99884033203125,
          -58.86802291870117,
          -62.42319869995117,
          -67.58740997314453,
          -71.34552764892578,
          -76.90410614013672,
          -90.18035125732422,
          -103.01182556152344,
          -117.94073486328125,
          -124.4214859008789,
          -128.0626220703125,
          -133.4792938232422,
          -144.830322265625,
          -159.06063842773438,
          -163.54014587402344,
          -182.82981872558594,
          -190.95394897460938,
          -206.82200622558594,
          -212.2373046875,
          -236.60049438476562,
          -243.2945556640625,
          -257.3888854980469,
          -268.2422180175781,
          -307.4134826660156,
          -341.5260925292969,
          -353.4114990234375,
          -386.5233154296875,
          -413.0697021484375,
          -416.4374084472656,
          -409.0363464355469,
          -435.3003234863281,
          -496.4824523925781
         ],
         "yaxis": "y"
        }
       ],
       "layout": {
        "legend": {
         "title": {
          "text": "Model"
         },
         "tracegroupgap": 0
        },
        "margin": {
         "t": 60
        },
        "template": {
         "data": {
          "bar": [
           {
            "error_x": {
             "color": "#2a3f5f"
            },
            "error_y": {
             "color": "#2a3f5f"
            },
            "marker": {
             "line": {
              "color": "#E5ECF6",
              "width": 0.5
             },
             "pattern": {
              "fillmode": "overlay",
              "size": 10,
              "solidity": 0.2
             }
            },
            "type": "bar"
           }
          ],
          "barpolar": [
           {
            "marker": {
             "line": {
              "color": "#E5ECF6",
              "width": 0.5
             },
             "pattern": {
              "fillmode": "overlay",
              "size": 10,
              "solidity": 0.2
             }
            },
            "type": "barpolar"
           }
          ],
          "carpet": [
           {
            "aaxis": {
             "endlinecolor": "#2a3f5f",
             "gridcolor": "white",
             "linecolor": "white",
             "minorgridcolor": "white",
             "startlinecolor": "#2a3f5f"
            },
            "baxis": {
             "endlinecolor": "#2a3f5f",
             "gridcolor": "white",
             "linecolor": "white",
             "minorgridcolor": "white",
             "startlinecolor": "#2a3f5f"
            },
            "type": "carpet"
           }
          ],
          "choropleth": [
           {
            "colorbar": {
             "outlinewidth": 0,
             "ticks": ""
            },
            "type": "choropleth"
           }
          ],
          "contour": [
           {
            "colorbar": {
             "outlinewidth": 0,
             "ticks": ""
            },
            "colorscale": [
             [
              0,
              "#0d0887"
             ],
             [
              0.1111111111111111,
              "#46039f"
             ],
             [
              0.2222222222222222,
              "#7201a8"
             ],
             [
              0.3333333333333333,
              "#9c179e"
             ],
             [
              0.4444444444444444,
              "#bd3786"
             ],
             [
              0.5555555555555556,
              "#d8576b"
             ],
             [
              0.6666666666666666,
              "#ed7953"
             ],
             [
              0.7777777777777778,
              "#fb9f3a"
             ],
             [
              0.8888888888888888,
              "#fdca26"
             ],
             [
              1,
              "#f0f921"
             ]
            ],
            "type": "contour"
           }
          ],
          "contourcarpet": [
           {
            "colorbar": {
             "outlinewidth": 0,
             "ticks": ""
            },
            "type": "contourcarpet"
           }
          ],
          "heatmap": [
           {
            "colorbar": {
             "outlinewidth": 0,
             "ticks": ""
            },
            "colorscale": [
             [
              0,
              "#0d0887"
             ],
             [
              0.1111111111111111,
              "#46039f"
             ],
             [
              0.2222222222222222,
              "#7201a8"
             ],
             [
              0.3333333333333333,
              "#9c179e"
             ],
             [
              0.4444444444444444,
              "#bd3786"
             ],
             [
              0.5555555555555556,
              "#d8576b"
             ],
             [
              0.6666666666666666,
              "#ed7953"
             ],
             [
              0.7777777777777778,
              "#fb9f3a"
             ],
             [
              0.8888888888888888,
              "#fdca26"
             ],
             [
              1,
              "#f0f921"
             ]
            ],
            "type": "heatmap"
           }
          ],
          "heatmapgl": [
           {
            "colorbar": {
             "outlinewidth": 0,
             "ticks": ""
            },
            "colorscale": [
             [
              0,
              "#0d0887"
             ],
             [
              0.1111111111111111,
              "#46039f"
             ],
             [
              0.2222222222222222,
              "#7201a8"
             ],
             [
              0.3333333333333333,
              "#9c179e"
             ],
             [
              0.4444444444444444,
              "#bd3786"
             ],
             [
              0.5555555555555556,
              "#d8576b"
             ],
             [
              0.6666666666666666,
              "#ed7953"
             ],
             [
              0.7777777777777778,
              "#fb9f3a"
             ],
             [
              0.8888888888888888,
              "#fdca26"
             ],
             [
              1,
              "#f0f921"
             ]
            ],
            "type": "heatmapgl"
           }
          ],
          "histogram": [
           {
            "marker": {
             "pattern": {
              "fillmode": "overlay",
              "size": 10,
              "solidity": 0.2
             }
            },
            "type": "histogram"
           }
          ],
          "histogram2d": [
           {
            "colorbar": {
             "outlinewidth": 0,
             "ticks": ""
            },
            "colorscale": [
             [
              0,
              "#0d0887"
             ],
             [
              0.1111111111111111,
              "#46039f"
             ],
             [
              0.2222222222222222,
              "#7201a8"
             ],
             [
              0.3333333333333333,
              "#9c179e"
             ],
             [
              0.4444444444444444,
              "#bd3786"
             ],
             [
              0.5555555555555556,
              "#d8576b"
             ],
             [
              0.6666666666666666,
              "#ed7953"
             ],
             [
              0.7777777777777778,
              "#fb9f3a"
             ],
             [
              0.8888888888888888,
              "#fdca26"
             ],
             [
              1,
              "#f0f921"
             ]
            ],
            "type": "histogram2d"
           }
          ],
          "histogram2dcontour": [
           {
            "colorbar": {
             "outlinewidth": 0,
             "ticks": ""
            },
            "colorscale": [
             [
              0,
              "#0d0887"
             ],
             [
              0.1111111111111111,
              "#46039f"
             ],
             [
              0.2222222222222222,
              "#7201a8"
             ],
             [
              0.3333333333333333,
              "#9c179e"
             ],
             [
              0.4444444444444444,
              "#bd3786"
             ],
             [
              0.5555555555555556,
              "#d8576b"
             ],
             [
              0.6666666666666666,
              "#ed7953"
             ],
             [
              0.7777777777777778,
              "#fb9f3a"
             ],
             [
              0.8888888888888888,
              "#fdca26"
             ],
             [
              1,
              "#f0f921"
             ]
            ],
            "type": "histogram2dcontour"
           }
          ],
          "mesh3d": [
           {
            "colorbar": {
             "outlinewidth": 0,
             "ticks": ""
            },
            "type": "mesh3d"
           }
          ],
          "parcoords": [
           {
            "line": {
             "colorbar": {
              "outlinewidth": 0,
              "ticks": ""
             }
            },
            "type": "parcoords"
           }
          ],
          "pie": [
           {
            "automargin": true,
            "type": "pie"
           }
          ],
          "scatter": [
           {
            "fillpattern": {
             "fillmode": "overlay",
             "size": 10,
             "solidity": 0.2
            },
            "type": "scatter"
           }
          ],
          "scatter3d": [
           {
            "line": {
             "colorbar": {
              "outlinewidth": 0,
              "ticks": ""
             }
            },
            "marker": {
             "colorbar": {
              "outlinewidth": 0,
              "ticks": ""
             }
            },
            "type": "scatter3d"
           }
          ],
          "scattercarpet": [
           {
            "marker": {
             "colorbar": {
              "outlinewidth": 0,
              "ticks": ""
             }
            },
            "type": "scattercarpet"
           }
          ],
          "scattergeo": [
           {
            "marker": {
             "colorbar": {
              "outlinewidth": 0,
              "ticks": ""
             }
            },
            "type": "scattergeo"
           }
          ],
          "scattergl": [
           {
            "marker": {
             "colorbar": {
              "outlinewidth": 0,
              "ticks": ""
             }
            },
            "type": "scattergl"
           }
          ],
          "scattermapbox": [
           {
            "marker": {
             "colorbar": {
              "outlinewidth": 0,
              "ticks": ""
             }
            },
            "type": "scattermapbox"
           }
          ],
          "scatterpolar": [
           {
            "marker": {
             "colorbar": {
              "outlinewidth": 0,
              "ticks": ""
             }
            },
            "type": "scatterpolar"
           }
          ],
          "scatterpolargl": [
           {
            "marker": {
             "colorbar": {
              "outlinewidth": 0,
              "ticks": ""
             }
            },
            "type": "scatterpolargl"
           }
          ],
          "scatterternary": [
           {
            "marker": {
             "colorbar": {
              "outlinewidth": 0,
              "ticks": ""
             }
            },
            "type": "scatterternary"
           }
          ],
          "surface": [
           {
            "colorbar": {
             "outlinewidth": 0,
             "ticks": ""
            },
            "colorscale": [
             [
              0,
              "#0d0887"
             ],
             [
              0.1111111111111111,
              "#46039f"
             ],
             [
              0.2222222222222222,
              "#7201a8"
             ],
             [
              0.3333333333333333,
              "#9c179e"
             ],
             [
              0.4444444444444444,
              "#bd3786"
             ],
             [
              0.5555555555555556,
              "#d8576b"
             ],
             [
              0.6666666666666666,
              "#ed7953"
             ],
             [
              0.7777777777777778,
              "#fb9f3a"
             ],
             [
              0.8888888888888888,
              "#fdca26"
             ],
             [
              1,
              "#f0f921"
             ]
            ],
            "type": "surface"
           }
          ],
          "table": [
           {
            "cells": {
             "fill": {
              "color": "#EBF0F8"
             },
             "line": {
              "color": "white"
             }
            },
            "header": {
             "fill": {
              "color": "#C8D4E3"
             },
             "line": {
              "color": "white"
             }
            },
            "type": "table"
           }
          ]
         },
         "layout": {
          "annotationdefaults": {
           "arrowcolor": "#2a3f5f",
           "arrowhead": 0,
           "arrowwidth": 1
          },
          "autotypenumbers": "strict",
          "coloraxis": {
           "colorbar": {
            "outlinewidth": 0,
            "ticks": ""
           }
          },
          "colorscale": {
           "diverging": [
            [
             0,
             "#8e0152"
            ],
            [
             0.1,
             "#c51b7d"
            ],
            [
             0.2,
             "#de77ae"
            ],
            [
             0.3,
             "#f1b6da"
            ],
            [
             0.4,
             "#fde0ef"
            ],
            [
             0.5,
             "#f7f7f7"
            ],
            [
             0.6,
             "#e6f5d0"
            ],
            [
             0.7,
             "#b8e186"
            ],
            [
             0.8,
             "#7fbc41"
            ],
            [
             0.9,
             "#4d9221"
            ],
            [
             1,
             "#276419"
            ]
           ],
           "sequential": [
            [
             0,
             "#0d0887"
            ],
            [
             0.1111111111111111,
             "#46039f"
            ],
            [
             0.2222222222222222,
             "#7201a8"
            ],
            [
             0.3333333333333333,
             "#9c179e"
            ],
            [
             0.4444444444444444,
             "#bd3786"
            ],
            [
             0.5555555555555556,
             "#d8576b"
            ],
            [
             0.6666666666666666,
             "#ed7953"
            ],
            [
             0.7777777777777778,
             "#fb9f3a"
            ],
            [
             0.8888888888888888,
             "#fdca26"
            ],
            [
             1,
             "#f0f921"
            ]
           ],
           "sequentialminus": [
            [
             0,
             "#0d0887"
            ],
            [
             0.1111111111111111,
             "#46039f"
            ],
            [
             0.2222222222222222,
             "#7201a8"
            ],
            [
             0.3333333333333333,
             "#9c179e"
            ],
            [
             0.4444444444444444,
             "#bd3786"
            ],
            [
             0.5555555555555556,
             "#d8576b"
            ],
            [
             0.6666666666666666,
             "#ed7953"
            ],
            [
             0.7777777777777778,
             "#fb9f3a"
            ],
            [
             0.8888888888888888,
             "#fdca26"
            ],
            [
             1,
             "#f0f921"
            ]
           ]
          },
          "colorway": [
           "#636efa",
           "#EF553B",
           "#00cc96",
           "#ab63fa",
           "#FFA15A",
           "#19d3f3",
           "#FF6692",
           "#B6E880",
           "#FF97FF",
           "#FECB52"
          ],
          "font": {
           "color": "#2a3f5f"
          },
          "geo": {
           "bgcolor": "white",
           "lakecolor": "white",
           "landcolor": "#E5ECF6",
           "showlakes": true,
           "showland": true,
           "subunitcolor": "white"
          },
          "hoverlabel": {
           "align": "left"
          },
          "hovermode": "closest",
          "mapbox": {
           "style": "light"
          },
          "paper_bgcolor": "white",
          "plot_bgcolor": "#E5ECF6",
          "polar": {
           "angularaxis": {
            "gridcolor": "white",
            "linecolor": "white",
            "ticks": ""
           },
           "bgcolor": "#E5ECF6",
           "radialaxis": {
            "gridcolor": "white",
            "linecolor": "white",
            "ticks": ""
           }
          },
          "scene": {
           "xaxis": {
            "backgroundcolor": "#E5ECF6",
            "gridcolor": "white",
            "gridwidth": 2,
            "linecolor": "white",
            "showbackground": true,
            "ticks": "",
            "zerolinecolor": "white"
           },
           "yaxis": {
            "backgroundcolor": "#E5ECF6",
            "gridcolor": "white",
            "gridwidth": 2,
            "linecolor": "white",
            "showbackground": true,
            "ticks": "",
            "zerolinecolor": "white"
           },
           "zaxis": {
            "backgroundcolor": "#E5ECF6",
            "gridcolor": "white",
            "gridwidth": 2,
            "linecolor": "white",
            "showbackground": true,
            "ticks": "",
            "zerolinecolor": "white"
           }
          },
          "shapedefaults": {
           "line": {
            "color": "#2a3f5f"
           }
          },
          "ternary": {
           "aaxis": {
            "gridcolor": "white",
            "linecolor": "white",
            "ticks": ""
           },
           "baxis": {
            "gridcolor": "white",
            "linecolor": "white",
            "ticks": ""
           },
           "bgcolor": "#E5ECF6",
           "caxis": {
            "gridcolor": "white",
            "linecolor": "white",
            "ticks": ""
           }
          },
          "title": {
           "x": 0.05
          },
          "xaxis": {
           "automargin": true,
           "gridcolor": "white",
           "linecolor": "white",
           "ticks": "",
           "title": {
            "standoff": 15
           },
           "zerolinecolor": "white",
           "zerolinewidth": 2
          },
          "yaxis": {
           "automargin": true,
           "gridcolor": "white",
           "linecolor": "white",
           "ticks": "",
           "title": {
            "standoff": 15
           },
           "zerolinecolor": "white",
           "zerolinewidth": 2
          }
         }
        },
        "xaxis": {
         "anchor": "y",
         "domain": [
          0,
          1
         ],
         "title": {
          "text": "Layer"
         }
        },
        "yaxis": {
         "anchor": "x",
         "domain": [
          0,
          1
         ],
         "title": {
          "text": "neg_logprob"
         }
        }
       }
      },
      "text/html": [
       "<div>                            <div id=\"50cbd4fc-45c5-4620-8fab-a203faf03144\" class=\"plotly-graph-div\" style=\"height:525px; width:100%;\"></div>            <script type=\"text/javascript\">                require([\"plotly\"], function(Plotly) {                    window.PLOTLYENV=window.PLOTLYENV || {};                                    if (document.getElementById(\"50cbd4fc-45c5-4620-8fab-a203faf03144\")) {                    Plotly.newPlot(                        \"50cbd4fc-45c5-4620-8fab-a203faf03144\",                        [{\"hovertemplate\":\"Model=IFT\\u003cbr\\u003eLayer=%{x}\\u003cbr\\u003eneg_logprob=%{y}\\u003cextra\\u003e\\u003c\\u002fextra\\u003e\",\"legendgroup\":\"IFT\",\"line\":{\"color\":\"#636efa\",\"dash\":\"solid\"},\"marker\":{\"symbol\":\"circle\"},\"mode\":\"lines\",\"name\":\"IFT\",\"orientation\":\"v\",\"showlegend\":true,\"x\":[\"0_mid\",\"0_post\",\"1_mid\",\"1_post\",\"2_mid\",\"2_post\",\"3_mid\",\"3_post\",\"4_mid\",\"4_post\",\"5_mid\",\"5_post\",\"6_mid\",\"6_post\",\"7_mid\",\"7_post\",\"8_mid\",\"8_post\",\"9_mid\",\"9_post\",\"10_mid\",\"10_post\",\"11_mid\",\"11_post\",\"12_mid\",\"12_post\",\"13_mid\",\"13_post\",\"14_mid\",\"14_post\",\"15_mid\",\"15_post\",\"16_mid\",\"16_post\",\"17_mid\",\"17_post\",\"18_mid\",\"18_post\",\"19_mid\",\"19_post\",\"20_mid\",\"20_post\",\"21_mid\",\"21_post\",\"22_mid\",\"22_post\",\"23_mid\",\"23_post\"],\"xaxis\":\"x\",\"y\":[-14.352872848510742,-29.39604377746582,-34.87065124511719,-35.33454132080078,-38.82957458496094,-30.874799728393555,-29.526090621948242,-28.346790313720703,-27.282472610473633,-25.99575424194336,-20.318458557128906,-25.211774826049805,-17.712120056152344,-18.053232192993164,-18.18295669555664,-23.975589752197266,-24.053354263305664,-20.67827606201172,-10.208463668823242,-10.684493064880371,-10.446221351623535,-5.067965030670166,-0.00015472168161068112,-9.881961887003854e-05,-0.013636763207614422,-14.382462501525879,-15.806655883789062,-12.883634567260742,-3.194669008255005,-10.15128231048584,-12.57114315032959,-26.950103759765625,-33.73890686035156,-36.709747314453125,-31.915008544921875,-36.679779052734375,-21.727386474609375,-33.54290771484375,0.0,0.0,0.0,0.0,0.0,0.0,0.0,0.0,0.0,0.0],\"yaxis\":\"y\",\"type\":\"scatter\"},{\"hovertemplate\":\"Model=GPT2\\u003cbr\\u003eLayer=%{x}\\u003cbr\\u003eneg_logprob=%{y}\\u003cextra\\u003e\\u003c\\u002fextra\\u003e\",\"legendgroup\":\"GPT2\",\"line\":{\"color\":\"#EF553B\",\"dash\":\"solid\"},\"marker\":{\"symbol\":\"circle\"},\"mode\":\"lines\",\"name\":\"GPT2\",\"orientation\":\"v\",\"showlegend\":true,\"x\":[\"0_mid\",\"0_post\",\"1_mid\",\"1_post\",\"2_mid\",\"2_post\",\"3_mid\",\"3_post\",\"4_mid\",\"4_post\",\"5_mid\",\"5_post\",\"6_mid\",\"6_post\",\"7_mid\",\"7_post\",\"8_mid\",\"8_post\",\"9_mid\",\"9_post\",\"10_mid\",\"10_post\",\"11_mid\",\"11_post\",\"12_mid\",\"12_post\",\"13_mid\",\"13_post\",\"14_mid\",\"14_post\",\"15_mid\",\"15_post\",\"16_mid\",\"16_post\",\"17_mid\",\"17_post\",\"18_mid\",\"18_post\",\"19_mid\",\"19_post\",\"20_mid\",\"20_post\",\"21_mid\",\"21_post\",\"22_mid\",\"22_post\",\"23_mid\",\"23_post\"],\"xaxis\":\"x\",\"y\":[-14.499181747436523,-30.53049659729004,-34.28727340698242,-36.095062255859375,-38.031005859375,-32.83720397949219,-30.273056030273438,-30.532814025878906,-29.175580978393555,-29.98169708251953,-24.04383659362793,-26.098825454711914,-20.95035171508789,-19.99095916748047,-19.40938377380371,-25.211484909057617,-25.007537841796875,-23.200603485107422,-10.521212577819824,-10.330822944641113,-6.522040843963623,-2.818044662475586,-0.022837601602077484,-4.029192859889008e-05,0.0,-0.0014846028061583638,-0.003433643840253353,-1.4588291645050049,-0.29591086506843567,-7.805944919586182,-5.822695255279541,-22.627197265625,-25.661972045898438,-32.3846435546875,-31.158981323242188,-45.936737060546875,-30.5050048828125,-40.424407958984375,-0.042096588760614395,-3.45700973412022e-05,0.0,0.0,0.0,0.0,0.0,0.0,0.0,0.0],\"yaxis\":\"y\",\"type\":\"scatter\"},{\"hovertemplate\":\"Model=IFT_10\\u003cbr\\u003eLayer=%{x}\\u003cbr\\u003eneg_logprob=%{y}\\u003cextra\\u003e\\u003c\\u002fextra\\u003e\",\"legendgroup\":\"IFT_10\",\"line\":{\"color\":\"#00cc96\",\"dash\":\"solid\"},\"marker\":{\"symbol\":\"circle\"},\"mode\":\"lines\",\"name\":\"IFT_10\",\"orientation\":\"v\",\"showlegend\":true,\"x\":[\"0_mid\",\"0_post\",\"1_mid\",\"1_post\",\"2_mid\",\"2_post\",\"3_mid\",\"3_post\",\"4_mid\",\"4_post\",\"5_mid\",\"5_post\",\"6_mid\",\"6_post\",\"7_mid\",\"7_post\",\"8_mid\",\"8_post\",\"9_mid\",\"9_post\",\"10_mid\",\"10_post\",\"11_mid\",\"11_post\",\"12_mid\",\"12_post\",\"13_mid\",\"13_post\",\"14_mid\",\"14_post\",\"15_mid\",\"15_post\",\"16_mid\",\"16_post\",\"17_mid\",\"17_post\",\"18_mid\",\"18_post\",\"19_mid\",\"19_post\",\"20_mid\",\"20_post\",\"21_mid\",\"21_post\",\"22_mid\",\"22_post\",\"23_mid\",\"23_post\"],\"xaxis\":\"x\",\"y\":[-11.464826583862305,-22.17428207397461,-26.03980827331543,-18.384496688842773,-21.553735733032227,-20.091093063354492,-18.892053604125977,-19.516632080078125,-18.67386817932129,-16.173686981201172,-14.622207641601562,-14.275655746459961,-10.709587097167969,-13.230070114135742,-15.567341804504395,-18.830394744873047,-16.592905044555664,-26.69256591796875,-33.972896575927734,-34.29795837402344,-40.12347412109375,-32.85622024536133,-41.59193801879883,-46.31182098388672,-37.43624496459961,-40.912353515625,-46.63392639160156,-39.80048751831055,-40.030452728271484,-43.920509338378906,-45.137840270996094,-65.61128234863281,-70.66264343261719,-71.65115356445312,-65.986572265625,-73.2808837890625,-74.01202392578125,-74.73040771484375,-87.84555053710938,-117.64614868164062,-156.5167694091797,-151.73519897460938,-159.87753295898438,-150.47848510742188,-121.2213134765625,-113.67587280273438,-93.77664184570312,-164.49310302734375],\"yaxis\":\"y\",\"type\":\"scatter\"},{\"hovertemplate\":\"Model=GPT2_10\\u003cbr\\u003eLayer=%{x}\\u003cbr\\u003eneg_logprob=%{y}\\u003cextra\\u003e\\u003c\\u002fextra\\u003e\",\"legendgroup\":\"GPT2_10\",\"line\":{\"color\":\"#ab63fa\",\"dash\":\"solid\"},\"marker\":{\"symbol\":\"circle\"},\"mode\":\"lines\",\"name\":\"GPT2_10\",\"orientation\":\"v\",\"showlegend\":true,\"x\":[\"0_mid\",\"0_post\",\"1_mid\",\"1_post\",\"2_mid\",\"2_post\",\"3_mid\",\"3_post\",\"4_mid\",\"4_post\",\"5_mid\",\"5_post\",\"6_mid\",\"6_post\",\"7_mid\",\"7_post\",\"8_mid\",\"8_post\",\"9_mid\",\"9_post\",\"10_mid\",\"10_post\",\"11_mid\",\"11_post\",\"12_mid\",\"12_post\",\"13_mid\",\"13_post\",\"14_mid\",\"14_post\",\"15_mid\",\"15_post\",\"16_mid\",\"16_post\",\"17_mid\",\"17_post\",\"18_mid\",\"18_post\",\"19_mid\",\"19_post\",\"20_mid\",\"20_post\",\"21_mid\",\"21_post\",\"22_mid\",\"22_post\",\"23_mid\",\"23_post\"],\"xaxis\":\"x\",\"y\":[-11.505212783813477,-21.635976791381836,-23.912160873413086,-19.13475227355957,-22.3454647064209,-21.76630973815918,-19.487560272216797,-19.331485748291016,-18.08748435974121,-17.994647979736328,-15.52800178527832,-14.167848587036133,-12.44841480255127,-16.040889739990234,-17.41823387145996,-21.62250328063965,-21.907135009765625,-31.269023895263672,-34.794986724853516,-32.07139205932617,-35.31208801269531,-32.48287582397461,-41.19826889038086,-43.873958587646484,-47.00969696044922,-37.44392776489258,-41.850341796875,-35.27451705932617,-30.051877975463867,-32.350502014160156,-32.99342727661133,-52.72669982910156,-56.37751770019531,-57.50244140625,-53.39306640625,-59.62535095214844,-63.01933288574219,-59.726409912109375,-58.93467330932617,-78.60517120361328,-115.43435668945312,-108.27789306640625,-133.1907958984375,-132.02972412109375,-126.10040283203125,-97.071533203125,-109.490478515625,-165.76397705078125],\"yaxis\":\"y\",\"type\":\"scatter\"},{\"hovertemplate\":\"Model=IFT_100\\u003cbr\\u003eLayer=%{x}\\u003cbr\\u003eneg_logprob=%{y}\\u003cextra\\u003e\\u003c\\u002fextra\\u003e\",\"legendgroup\":\"IFT_100\",\"line\":{\"color\":\"#FFA15A\",\"dash\":\"solid\"},\"marker\":{\"symbol\":\"circle\"},\"mode\":\"lines\",\"name\":\"IFT_100\",\"orientation\":\"v\",\"showlegend\":true,\"x\":[\"0_mid\",\"0_post\",\"1_mid\",\"1_post\",\"2_mid\",\"2_post\",\"3_mid\",\"3_post\",\"4_mid\",\"4_post\",\"5_mid\",\"5_post\",\"6_mid\",\"6_post\",\"7_mid\",\"7_post\",\"8_mid\",\"8_post\",\"9_mid\",\"9_post\",\"10_mid\",\"10_post\",\"11_mid\",\"11_post\",\"12_mid\",\"12_post\",\"13_mid\",\"13_post\",\"14_mid\",\"14_post\",\"15_mid\",\"15_post\",\"16_mid\",\"16_post\",\"17_mid\",\"17_post\",\"18_mid\",\"18_post\",\"19_mid\",\"19_post\",\"20_mid\",\"20_post\",\"21_mid\",\"21_post\",\"22_mid\",\"22_post\",\"23_mid\",\"23_post\",\"0_mid\",\"0_post\",\"1_mid\",\"1_post\",\"2_mid\",\"2_post\",\"3_mid\",\"3_post\",\"4_mid\",\"4_post\",\"5_mid\",\"5_post\",\"6_mid\",\"6_post\",\"7_mid\",\"7_post\",\"8_mid\",\"8_post\",\"9_mid\",\"9_post\",\"10_mid\",\"10_post\",\"11_mid\",\"11_post\",\"12_mid\",\"12_post\",\"13_mid\",\"13_post\",\"14_mid\",\"14_post\",\"15_mid\",\"15_post\",\"16_mid\",\"16_post\",\"17_mid\",\"17_post\",\"18_mid\",\"18_post\",\"19_mid\",\"19_post\",\"20_mid\",\"20_post\",\"21_mid\",\"21_post\",\"22_mid\",\"22_post\",\"23_mid\",\"23_post\"],\"xaxis\":\"x\",\"y\":[-12.711219787597656,-29.80512237548828,-37.43730163574219,-40.91641616821289,-40.816410064697266,-34.96782302856445,-34.81211471557617,-41.28575897216797,-40.06101608276367,-41.38653564453125,-40.25029754638672,-40.82844543457031,-43.51462936401367,-46.336219787597656,-51.6845817565918,-59.47612762451172,-61.31924819946289,-66.44754791259766,-60.49437713623047,-65.40584564208984,-68.30786895751953,-67.06598663330078,-69.02171325683594,-68.0846176147461,-62.86758041381836,-83.00030517578125,-90.310791015625,-84.04552459716797,-85.32844543457031,-89.92900848388672,-92.59945678710938,-120.543701171875,-130.33306884765625,-139.21490478515625,-144.0978240966797,-142.3355712890625,-144.26058959960938,-142.0235595703125,-147.50111389160156,-162.30328369140625,-194.73147583007812,-185.748291015625,-193.6886444091797,-167.38409423828125,-172.23016357421875,-192.91558837890625,-203.79641723632812,-245.79583740234375,-12.711219787597656,-29.80512237548828,-37.43730163574219,-40.91641616821289,-40.816410064697266,-34.96782302856445,-34.81211471557617,-41.28575897216797,-40.06101608276367,-41.38653564453125,-40.25029754638672,-40.82844543457031,-43.51462936401367,-46.336219787597656,-51.6845817565918,-59.47612762451172,-61.31924819946289,-66.44754791259766,-60.49437713623047,-65.40584564208984,-68.30786895751953,-67.06598663330078,-69.02171325683594,-68.0846176147461,-62.86758041381836,-83.00030517578125,-90.310791015625,-84.04552459716797,-85.32844543457031,-89.92900848388672,-92.59945678710938,-120.543701171875,-130.33306884765625,-139.21490478515625,-144.0978240966797,-142.3355712890625,-144.26058959960938,-142.0235595703125,-147.50111389160156,-162.30328369140625,-194.73147583007812,-185.748291015625,-193.6886444091797,-167.38409423828125,-172.23016357421875,-192.91558837890625,-203.79641723632812,-245.79583740234375],\"yaxis\":\"y\",\"type\":\"scatter\"},{\"hovertemplate\":\"Model=GPT2_100\\u003cbr\\u003eLayer=%{x}\\u003cbr\\u003eneg_logprob=%{y}\\u003cextra\\u003e\\u003c\\u002fextra\\u003e\",\"legendgroup\":\"GPT2_100\",\"line\":{\"color\":\"#19d3f3\",\"dash\":\"solid\"},\"marker\":{\"symbol\":\"circle\"},\"mode\":\"lines\",\"name\":\"GPT2_100\",\"orientation\":\"v\",\"showlegend\":true,\"x\":[\"0_mid\",\"0_post\",\"1_mid\",\"1_post\",\"2_mid\",\"2_post\",\"3_mid\",\"3_post\",\"4_mid\",\"4_post\",\"5_mid\",\"5_post\",\"6_mid\",\"6_post\",\"7_mid\",\"7_post\",\"8_mid\",\"8_post\",\"9_mid\",\"9_post\",\"10_mid\",\"10_post\",\"11_mid\",\"11_post\",\"12_mid\",\"12_post\",\"13_mid\",\"13_post\",\"14_mid\",\"14_post\",\"15_mid\",\"15_post\",\"16_mid\",\"16_post\",\"17_mid\",\"17_post\",\"18_mid\",\"18_post\",\"19_mid\",\"19_post\",\"20_mid\",\"20_post\",\"21_mid\",\"21_post\",\"22_mid\",\"22_post\",\"23_mid\",\"23_post\",\"0_mid\",\"0_post\",\"1_mid\",\"1_post\",\"2_mid\",\"2_post\",\"3_mid\",\"3_post\",\"4_mid\",\"4_post\",\"5_mid\",\"5_post\",\"6_mid\",\"6_post\",\"7_mid\",\"7_post\",\"8_mid\",\"8_post\",\"9_mid\",\"9_post\",\"10_mid\",\"10_post\",\"11_mid\",\"11_post\",\"12_mid\",\"12_post\",\"13_mid\",\"13_post\",\"14_mid\",\"14_post\",\"15_mid\",\"15_post\",\"16_mid\",\"16_post\",\"17_mid\",\"17_post\",\"18_mid\",\"18_post\",\"19_mid\",\"19_post\",\"20_mid\",\"20_post\",\"21_mid\",\"21_post\",\"22_mid\",\"22_post\",\"23_mid\",\"23_post\"],\"xaxis\":\"x\",\"y\":[-12.8397855758667,-30.801713943481445,-37.66092300415039,-44.00597381591797,-44.0401496887207,-42.13443374633789,-41.116363525390625,-46.807823181152344,-46.60573196411133,-50.17475509643555,-47.144168853759766,-46.222408294677734,-49.29774475097656,-49.66896057128906,-54.86474609375,-62.175941467285156,-65.64351654052734,-70.00357818603516,-62.63775634765625,-67.46699523925781,-75.67845153808594,-73.39608764648438,-77.66211700439453,-73.9217529296875,-71.62691497802734,-77.23622131347656,-78.19529724121094,-72.60498046875,-80.69619750976562,-88.71456146240234,-89.87874603271484,-116.51728820800781,-125.13629913330078,-134.3287811279297,-138.86151123046875,-146.5700225830078,-145.46119689941406,-141.9322967529297,-136.77789306640625,-149.88168334960938,-175.24105834960938,-167.8428955078125,-193.01895141601562,-177.2393798828125,-181.811767578125,-183.403564453125,-203.21981811523438,-241.2652587890625,-12.8397855758667,-30.801713943481445,-37.66092300415039,-44.00597381591797,-44.0401496887207,-42.13443374633789,-41.116363525390625,-46.807823181152344,-46.60573196411133,-50.17475509643555,-47.144168853759766,-46.222408294677734,-49.29774475097656,-49.66896057128906,-54.86474609375,-62.175941467285156,-65.64351654052734,-70.00357818603516,-62.63775634765625,-67.46699523925781,-75.67845153808594,-73.39608764648438,-77.66211700439453,-73.9217529296875,-71.62691497802734,-77.23622131347656,-78.19529724121094,-72.60498046875,-80.69619750976562,-88.71456146240234,-89.87874603271484,-116.51728820800781,-125.13629913330078,-134.3287811279297,-138.86151123046875,-146.5700225830078,-145.46119689941406,-141.9322967529297,-136.77789306640625,-149.88168334960938,-175.24105834960938,-167.8428955078125,-193.01895141601562,-177.2393798828125,-181.811767578125,-183.403564453125,-203.21981811523438,-241.2652587890625],\"yaxis\":\"y\",\"type\":\"scatter\"},{\"hovertemplate\":\"Model=IFT_10000\\u003cbr\\u003eLayer=%{x}\\u003cbr\\u003eneg_logprob=%{y}\\u003cextra\\u003e\\u003c\\u002fextra\\u003e\",\"legendgroup\":\"IFT_10000\",\"line\":{\"color\":\"#FF6692\",\"dash\":\"solid\"},\"marker\":{\"symbol\":\"circle\"},\"mode\":\"lines\",\"name\":\"IFT_10000\",\"orientation\":\"v\",\"showlegend\":true,\"x\":[\"0_mid\",\"0_post\",\"1_mid\",\"1_post\",\"2_mid\",\"2_post\",\"3_mid\",\"3_post\",\"4_mid\",\"4_post\",\"5_mid\",\"5_post\",\"6_mid\",\"6_post\",\"7_mid\",\"7_post\",\"8_mid\",\"8_post\",\"9_mid\",\"9_post\",\"10_mid\",\"10_post\",\"11_mid\",\"11_post\",\"12_mid\",\"12_post\",\"13_mid\",\"13_post\",\"14_mid\",\"14_post\",\"15_mid\",\"15_post\",\"16_mid\",\"16_post\",\"17_mid\",\"17_post\",\"18_mid\",\"18_post\",\"19_mid\",\"19_post\",\"20_mid\",\"20_post\",\"21_mid\",\"21_post\",\"22_mid\",\"22_post\",\"23_mid\",\"23_post\"],\"xaxis\":\"x\",\"y\":[-12.288666725158691,-43.70384979248047,-51.18677520751953,-55.820106506347656,-61.18260955810547,-51.03112030029297,-49.278751373291016,-45.5074462890625,-43.398826599121094,-44.6381950378418,-41.67499542236328,-43.212703704833984,-38.463966369628906,-40.43206787109375,-42.65775680541992,-43.724143981933594,-43.21166229248047,-52.37104415893555,-56.84396743774414,-64.98514556884766,-70.26020050048828,-74.07984924316406,-89.576171875,-107.5619125366211,-122.39007568359375,-140.95938110351562,-145.80810546875,-148.10992431640625,-157.7972869873047,-167.85830688476562,-176.10025024414062,-181.4813232421875,-192.9764404296875,-195.88645935058594,-200.24440002441406,-212.9193115234375,-216.3088836669922,-224.0169677734375,-251.79327392578125,-296.29949951171875,-331.1456604003906,-343.1424560546875,-361.0263366699219,-376.5286865234375,-363.8119201660156,-374.474365234375,-402.96551513671875,-526.4174194335938],\"yaxis\":\"y\",\"type\":\"scatter\"},{\"hovertemplate\":\"Model=GPT2_10000\\u003cbr\\u003eLayer=%{x}\\u003cbr\\u003eneg_logprob=%{y}\\u003cextra\\u003e\\u003c\\u002fextra\\u003e\",\"legendgroup\":\"GPT2_10000\",\"line\":{\"color\":\"#B6E880\",\"dash\":\"solid\"},\"marker\":{\"symbol\":\"circle\"},\"mode\":\"lines\",\"name\":\"GPT2_10000\",\"orientation\":\"v\",\"showlegend\":true,\"x\":[\"0_mid\",\"0_post\",\"1_mid\",\"1_post\",\"2_mid\",\"2_post\",\"3_mid\",\"3_post\",\"4_mid\",\"4_post\",\"5_mid\",\"5_post\",\"6_mid\",\"6_post\",\"7_mid\",\"7_post\",\"8_mid\",\"8_post\",\"9_mid\",\"9_post\",\"10_mid\",\"10_post\",\"11_mid\",\"11_post\",\"12_mid\",\"12_post\",\"13_mid\",\"13_post\",\"14_mid\",\"14_post\",\"15_mid\",\"15_post\",\"16_mid\",\"16_post\",\"17_mid\",\"17_post\",\"18_mid\",\"18_post\",\"19_mid\",\"19_post\",\"20_mid\",\"20_post\",\"21_mid\",\"21_post\",\"22_mid\",\"22_post\",\"23_mid\",\"23_post\"],\"xaxis\":\"x\",\"y\":[-12.388779640197754,-45.15415573120117,-50.87338638305664,-54.85994338989258,-57.81424331665039,-52.8590202331543,-50.59691619873047,-46.23535919189453,-46.1539421081543,-48.53042221069336,-44.872962951660156,-44.866050720214844,-42.49481201171875,-44.87034225463867,-46.240478515625,-47.00302505493164,-49.99884033203125,-58.86802291870117,-62.42319869995117,-67.58740997314453,-71.34552764892578,-76.90410614013672,-90.18035125732422,-103.01182556152344,-117.94073486328125,-124.4214859008789,-128.0626220703125,-133.4792938232422,-144.830322265625,-159.06063842773438,-163.54014587402344,-182.82981872558594,-190.95394897460938,-206.82200622558594,-212.2373046875,-236.60049438476562,-243.2945556640625,-257.3888854980469,-268.2422180175781,-307.4134826660156,-341.5260925292969,-353.4114990234375,-386.5233154296875,-413.0697021484375,-416.4374084472656,-409.0363464355469,-435.3003234863281,-496.4824523925781],\"yaxis\":\"y\",\"type\":\"scatter\"}],                        {\"template\":{\"data\":{\"histogram2dcontour\":[{\"type\":\"histogram2dcontour\",\"colorbar\":{\"outlinewidth\":0,\"ticks\":\"\"},\"colorscale\":[[0.0,\"#0d0887\"],[0.1111111111111111,\"#46039f\"],[0.2222222222222222,\"#7201a8\"],[0.3333333333333333,\"#9c179e\"],[0.4444444444444444,\"#bd3786\"],[0.5555555555555556,\"#d8576b\"],[0.6666666666666666,\"#ed7953\"],[0.7777777777777778,\"#fb9f3a\"],[0.8888888888888888,\"#fdca26\"],[1.0,\"#f0f921\"]]}],\"choropleth\":[{\"type\":\"choropleth\",\"colorbar\":{\"outlinewidth\":0,\"ticks\":\"\"}}],\"histogram2d\":[{\"type\":\"histogram2d\",\"colorbar\":{\"outlinewidth\":0,\"ticks\":\"\"},\"colorscale\":[[0.0,\"#0d0887\"],[0.1111111111111111,\"#46039f\"],[0.2222222222222222,\"#7201a8\"],[0.3333333333333333,\"#9c179e\"],[0.4444444444444444,\"#bd3786\"],[0.5555555555555556,\"#d8576b\"],[0.6666666666666666,\"#ed7953\"],[0.7777777777777778,\"#fb9f3a\"],[0.8888888888888888,\"#fdca26\"],[1.0,\"#f0f921\"]]}],\"heatmap\":[{\"type\":\"heatmap\",\"colorbar\":{\"outlinewidth\":0,\"ticks\":\"\"},\"colorscale\":[[0.0,\"#0d0887\"],[0.1111111111111111,\"#46039f\"],[0.2222222222222222,\"#7201a8\"],[0.3333333333333333,\"#9c179e\"],[0.4444444444444444,\"#bd3786\"],[0.5555555555555556,\"#d8576b\"],[0.6666666666666666,\"#ed7953\"],[0.7777777777777778,\"#fb9f3a\"],[0.8888888888888888,\"#fdca26\"],[1.0,\"#f0f921\"]]}],\"heatmapgl\":[{\"type\":\"heatmapgl\",\"colorbar\":{\"outlinewidth\":0,\"ticks\":\"\"},\"colorscale\":[[0.0,\"#0d0887\"],[0.1111111111111111,\"#46039f\"],[0.2222222222222222,\"#7201a8\"],[0.3333333333333333,\"#9c179e\"],[0.4444444444444444,\"#bd3786\"],[0.5555555555555556,\"#d8576b\"],[0.6666666666666666,\"#ed7953\"],[0.7777777777777778,\"#fb9f3a\"],[0.8888888888888888,\"#fdca26\"],[1.0,\"#f0f921\"]]}],\"contourcarpet\":[{\"type\":\"contourcarpet\",\"colorbar\":{\"outlinewidth\":0,\"ticks\":\"\"}}],\"contour\":[{\"type\":\"contour\",\"colorbar\":{\"outlinewidth\":0,\"ticks\":\"\"},\"colorscale\":[[0.0,\"#0d0887\"],[0.1111111111111111,\"#46039f\"],[0.2222222222222222,\"#7201a8\"],[0.3333333333333333,\"#9c179e\"],[0.4444444444444444,\"#bd3786\"],[0.5555555555555556,\"#d8576b\"],[0.6666666666666666,\"#ed7953\"],[0.7777777777777778,\"#fb9f3a\"],[0.8888888888888888,\"#fdca26\"],[1.0,\"#f0f921\"]]}],\"surface\":[{\"type\":\"surface\",\"colorbar\":{\"outlinewidth\":0,\"ticks\":\"\"},\"colorscale\":[[0.0,\"#0d0887\"],[0.1111111111111111,\"#46039f\"],[0.2222222222222222,\"#7201a8\"],[0.3333333333333333,\"#9c179e\"],[0.4444444444444444,\"#bd3786\"],[0.5555555555555556,\"#d8576b\"],[0.6666666666666666,\"#ed7953\"],[0.7777777777777778,\"#fb9f3a\"],[0.8888888888888888,\"#fdca26\"],[1.0,\"#f0f921\"]]}],\"mesh3d\":[{\"type\":\"mesh3d\",\"colorbar\":{\"outlinewidth\":0,\"ticks\":\"\"}}],\"scatter\":[{\"fillpattern\":{\"fillmode\":\"overlay\",\"size\":10,\"solidity\":0.2},\"type\":\"scatter\"}],\"parcoords\":[{\"type\":\"parcoords\",\"line\":{\"colorbar\":{\"outlinewidth\":0,\"ticks\":\"\"}}}],\"scatterpolargl\":[{\"type\":\"scatterpolargl\",\"marker\":{\"colorbar\":{\"outlinewidth\":0,\"ticks\":\"\"}}}],\"bar\":[{\"error_x\":{\"color\":\"#2a3f5f\"},\"error_y\":{\"color\":\"#2a3f5f\"},\"marker\":{\"line\":{\"color\":\"#E5ECF6\",\"width\":0.5},\"pattern\":{\"fillmode\":\"overlay\",\"size\":10,\"solidity\":0.2}},\"type\":\"bar\"}],\"scattergeo\":[{\"type\":\"scattergeo\",\"marker\":{\"colorbar\":{\"outlinewidth\":0,\"ticks\":\"\"}}}],\"scatterpolar\":[{\"type\":\"scatterpolar\",\"marker\":{\"colorbar\":{\"outlinewidth\":0,\"ticks\":\"\"}}}],\"histogram\":[{\"marker\":{\"pattern\":{\"fillmode\":\"overlay\",\"size\":10,\"solidity\":0.2}},\"type\":\"histogram\"}],\"scattergl\":[{\"type\":\"scattergl\",\"marker\":{\"colorbar\":{\"outlinewidth\":0,\"ticks\":\"\"}}}],\"scatter3d\":[{\"type\":\"scatter3d\",\"line\":{\"colorbar\":{\"outlinewidth\":0,\"ticks\":\"\"}},\"marker\":{\"colorbar\":{\"outlinewidth\":0,\"ticks\":\"\"}}}],\"scattermapbox\":[{\"type\":\"scattermapbox\",\"marker\":{\"colorbar\":{\"outlinewidth\":0,\"ticks\":\"\"}}}],\"scatterternary\":[{\"type\":\"scatterternary\",\"marker\":{\"colorbar\":{\"outlinewidth\":0,\"ticks\":\"\"}}}],\"scattercarpet\":[{\"type\":\"scattercarpet\",\"marker\":{\"colorbar\":{\"outlinewidth\":0,\"ticks\":\"\"}}}],\"carpet\":[{\"aaxis\":{\"endlinecolor\":\"#2a3f5f\",\"gridcolor\":\"white\",\"linecolor\":\"white\",\"minorgridcolor\":\"white\",\"startlinecolor\":\"#2a3f5f\"},\"baxis\":{\"endlinecolor\":\"#2a3f5f\",\"gridcolor\":\"white\",\"linecolor\":\"white\",\"minorgridcolor\":\"white\",\"startlinecolor\":\"#2a3f5f\"},\"type\":\"carpet\"}],\"table\":[{\"cells\":{\"fill\":{\"color\":\"#EBF0F8\"},\"line\":{\"color\":\"white\"}},\"header\":{\"fill\":{\"color\":\"#C8D4E3\"},\"line\":{\"color\":\"white\"}},\"type\":\"table\"}],\"barpolar\":[{\"marker\":{\"line\":{\"color\":\"#E5ECF6\",\"width\":0.5},\"pattern\":{\"fillmode\":\"overlay\",\"size\":10,\"solidity\":0.2}},\"type\":\"barpolar\"}],\"pie\":[{\"automargin\":true,\"type\":\"pie\"}]},\"layout\":{\"autotypenumbers\":\"strict\",\"colorway\":[\"#636efa\",\"#EF553B\",\"#00cc96\",\"#ab63fa\",\"#FFA15A\",\"#19d3f3\",\"#FF6692\",\"#B6E880\",\"#FF97FF\",\"#FECB52\"],\"font\":{\"color\":\"#2a3f5f\"},\"hovermode\":\"closest\",\"hoverlabel\":{\"align\":\"left\"},\"paper_bgcolor\":\"white\",\"plot_bgcolor\":\"#E5ECF6\",\"polar\":{\"bgcolor\":\"#E5ECF6\",\"angularaxis\":{\"gridcolor\":\"white\",\"linecolor\":\"white\",\"ticks\":\"\"},\"radialaxis\":{\"gridcolor\":\"white\",\"linecolor\":\"white\",\"ticks\":\"\"}},\"ternary\":{\"bgcolor\":\"#E5ECF6\",\"aaxis\":{\"gridcolor\":\"white\",\"linecolor\":\"white\",\"ticks\":\"\"},\"baxis\":{\"gridcolor\":\"white\",\"linecolor\":\"white\",\"ticks\":\"\"},\"caxis\":{\"gridcolor\":\"white\",\"linecolor\":\"white\",\"ticks\":\"\"}},\"coloraxis\":{\"colorbar\":{\"outlinewidth\":0,\"ticks\":\"\"}},\"colorscale\":{\"sequential\":[[0.0,\"#0d0887\"],[0.1111111111111111,\"#46039f\"],[0.2222222222222222,\"#7201a8\"],[0.3333333333333333,\"#9c179e\"],[0.4444444444444444,\"#bd3786\"],[0.5555555555555556,\"#d8576b\"],[0.6666666666666666,\"#ed7953\"],[0.7777777777777778,\"#fb9f3a\"],[0.8888888888888888,\"#fdca26\"],[1.0,\"#f0f921\"]],\"sequentialminus\":[[0.0,\"#0d0887\"],[0.1111111111111111,\"#46039f\"],[0.2222222222222222,\"#7201a8\"],[0.3333333333333333,\"#9c179e\"],[0.4444444444444444,\"#bd3786\"],[0.5555555555555556,\"#d8576b\"],[0.6666666666666666,\"#ed7953\"],[0.7777777777777778,\"#fb9f3a\"],[0.8888888888888888,\"#fdca26\"],[1.0,\"#f0f921\"]],\"diverging\":[[0,\"#8e0152\"],[0.1,\"#c51b7d\"],[0.2,\"#de77ae\"],[0.3,\"#f1b6da\"],[0.4,\"#fde0ef\"],[0.5,\"#f7f7f7\"],[0.6,\"#e6f5d0\"],[0.7,\"#b8e186\"],[0.8,\"#7fbc41\"],[0.9,\"#4d9221\"],[1,\"#276419\"]]},\"xaxis\":{\"gridcolor\":\"white\",\"linecolor\":\"white\",\"ticks\":\"\",\"title\":{\"standoff\":15},\"zerolinecolor\":\"white\",\"automargin\":true,\"zerolinewidth\":2},\"yaxis\":{\"gridcolor\":\"white\",\"linecolor\":\"white\",\"ticks\":\"\",\"title\":{\"standoff\":15},\"zerolinecolor\":\"white\",\"automargin\":true,\"zerolinewidth\":2},\"scene\":{\"xaxis\":{\"backgroundcolor\":\"#E5ECF6\",\"gridcolor\":\"white\",\"linecolor\":\"white\",\"showbackground\":true,\"ticks\":\"\",\"zerolinecolor\":\"white\",\"gridwidth\":2},\"yaxis\":{\"backgroundcolor\":\"#E5ECF6\",\"gridcolor\":\"white\",\"linecolor\":\"white\",\"showbackground\":true,\"ticks\":\"\",\"zerolinecolor\":\"white\",\"gridwidth\":2},\"zaxis\":{\"backgroundcolor\":\"#E5ECF6\",\"gridcolor\":\"white\",\"linecolor\":\"white\",\"showbackground\":true,\"ticks\":\"\",\"zerolinecolor\":\"white\",\"gridwidth\":2}},\"shapedefaults\":{\"line\":{\"color\":\"#2a3f5f\"}},\"annotationdefaults\":{\"arrowcolor\":\"#2a3f5f\",\"arrowhead\":0,\"arrowwidth\":1},\"geo\":{\"bgcolor\":\"white\",\"landcolor\":\"#E5ECF6\",\"subunitcolor\":\"white\",\"showland\":true,\"showlakes\":true,\"lakecolor\":\"white\"},\"title\":{\"x\":0.05},\"mapbox\":{\"style\":\"light\"}}},\"xaxis\":{\"anchor\":\"y\",\"domain\":[0.0,1.0],\"title\":{\"text\":\"Layer\"}},\"yaxis\":{\"anchor\":\"x\",\"domain\":[0.0,1.0],\"title\":{\"text\":\"neg_logprob\"}},\"legend\":{\"title\":{\"text\":\"Model\"},\"tracegroupgap\":0},\"margin\":{\"t\":60}},                        {\"responsive\": true}                    ).then(function(){\n",
       "                            \n",
       "var gd = document.getElementById('50cbd4fc-45c5-4620-8fab-a203faf03144');\n",
       "var x = new MutationObserver(function (mutations, observer) {{\n",
       "        var display = window.getComputedStyle(gd).display;\n",
       "        if (!display || display === 'none') {{\n",
       "            console.log([gd, 'removed!']);\n",
       "            Plotly.purge(gd);\n",
       "            observer.disconnect();\n",
       "        }}\n",
       "}});\n",
       "\n",
       "// Listen for the removal of the full notebook cells\n",
       "var notebookContainer = gd.closest('#notebook-container');\n",
       "if (notebookContainer) {{\n",
       "    x.observe(notebookContainer, {childList: true});\n",
       "}}\n",
       "\n",
       "// Listen for the clearing of the current output cell\n",
       "var outputEl = gd.closest('.output');\n",
       "if (outputEl) {{\n",
       "    x.observe(outputEl, {childList: true});\n",
       "}}\n",
       "\n",
       "                        })                };                });            </script>        </div>"
      ]
     },
     "metadata": {},
     "output_type": "display_data"
    },
    {
     "name": "stdout",
     "output_type": "stream",
     "text": [
      "zzzzzzzzzzzzzzzzzzzzzzzzzzzzzzzzzzzzzzzzzzzzzzzzzzzz\n",
      "Neg tok: 37362\n",
      "Tok id: 10210\n"
     ]
    },
    {
     "data": {
      "application/vnd.plotly.v1+json": {
       "config": {
        "plotlyServerURL": "https://plot.ly"
       },
       "data": [
        {
         "hovertemplate": "Model=IFT<br>Layer=%{x}<br>neg_logprob=%{y}<extra></extra>",
         "legendgroup": "IFT",
         "line": {
          "color": "#636efa",
          "dash": "solid"
         },
         "marker": {
          "symbol": "circle"
         },
         "mode": "lines",
         "name": "IFT",
         "orientation": "v",
         "showlegend": true,
         "type": "scatter",
         "x": [
          "0_mid",
          "0_post",
          "1_mid",
          "1_post",
          "2_mid",
          "2_post",
          "3_mid",
          "3_post",
          "4_mid",
          "4_post",
          "5_mid",
          "5_post",
          "6_mid",
          "6_post",
          "7_mid",
          "7_post",
          "8_mid",
          "8_post",
          "9_mid",
          "9_post",
          "10_mid",
          "10_post",
          "11_mid",
          "11_post",
          "12_mid",
          "12_post",
          "13_mid",
          "13_post",
          "14_mid",
          "14_post",
          "15_mid",
          "15_post",
          "16_mid",
          "16_post",
          "17_mid",
          "17_post",
          "18_mid",
          "18_post",
          "19_mid",
          "19_post",
          "20_mid",
          "20_post",
          "21_mid",
          "21_post",
          "22_mid",
          "22_post",
          "23_mid",
          "23_post"
         ],
         "xaxis": "x",
         "y": [
          -9.775274276733398,
          -19.507869720458984,
          -18.483684539794922,
          -22.26642417907715,
          -20.375638961791992,
          -19.521209716796875,
          -16.015605926513672,
          -15.712206840515137,
          -17.306718826293945,
          -16.790559768676758,
          -15.831666946411133,
          -16.91731071472168,
          -15.982449531555176,
          -14.483054161071777,
          -11.956534385681152,
          -19.442129135131836,
          -22.445051193237305,
          -17.425823211669922,
          -9.343646049499512,
          -14.105046272277832,
          -5.349120616912842,
          -8.58721923828125,
          -2.707484722137451,
          -9.753561019897461,
          -0.00013791563105769455,
          -10.634360313415527,
          -0.005295298527926207,
          -5.406968116760254,
          -1.740081548690796,
          -0.06441473960876465,
          0,
          0,
          0,
          0,
          0,
          0,
          0,
          0,
          0,
          0,
          0,
          0,
          0,
          0,
          0,
          0,
          0,
          0
         ],
         "yaxis": "y"
        },
        {
         "hovertemplate": "Model=GPT2<br>Layer=%{x}<br>neg_logprob=%{y}<extra></extra>",
         "legendgroup": "GPT2",
         "line": {
          "color": "#EF553B",
          "dash": "solid"
         },
         "marker": {
          "symbol": "circle"
         },
         "mode": "lines",
         "name": "GPT2",
         "orientation": "v",
         "showlegend": true,
         "type": "scatter",
         "x": [
          "0_mid",
          "0_post",
          "1_mid",
          "1_post",
          "2_mid",
          "2_post",
          "3_mid",
          "3_post",
          "4_mid",
          "4_post",
          "5_mid",
          "5_post",
          "6_mid",
          "6_post",
          "7_mid",
          "7_post",
          "8_mid",
          "8_post",
          "9_mid",
          "9_post",
          "10_mid",
          "10_post",
          "11_mid",
          "11_post",
          "12_mid",
          "12_post",
          "13_mid",
          "13_post",
          "14_mid",
          "14_post",
          "15_mid",
          "15_post",
          "16_mid",
          "16_post",
          "17_mid",
          "17_post",
          "18_mid",
          "18_post",
          "19_mid",
          "19_post",
          "20_mid",
          "20_post",
          "21_mid",
          "21_post",
          "22_mid",
          "22_post",
          "23_mid",
          "23_post"
         ],
         "xaxis": "x",
         "y": [
          -9.790413856506348,
          -19.972169876098633,
          -18.03636932373047,
          -22.55022621154785,
          -20.144832611083984,
          -22.344158172607422,
          -18.26374626159668,
          -16.312755584716797,
          -17.565536499023438,
          -17.07754898071289,
          -16.283916473388672,
          -21.073083877563477,
          -18.246301651000977,
          -18.27530860900879,
          -13.739082336425781,
          -17.986480712890625,
          -14.878658294677734,
          -16.528234481811523,
          -2.059131145477295,
          -4.179698467254639,
          -0.026568520814180374,
          -10.020326614379883,
          -4.434327602386475,
          -0.5798972845077515,
          0,
          -6.890059739816934e-05,
          0,
          0,
          0,
          0,
          0,
          0,
          0,
          0,
          0,
          0,
          0,
          0,
          0,
          0,
          0,
          0,
          0,
          0,
          0,
          0,
          0,
          0
         ],
         "yaxis": "y"
        },
        {
         "hovertemplate": "Model=IFT_10<br>Layer=%{x}<br>neg_logprob=%{y}<extra></extra>",
         "legendgroup": "IFT_10",
         "line": {
          "color": "#00cc96",
          "dash": "solid"
         },
         "marker": {
          "symbol": "circle"
         },
         "mode": "lines",
         "name": "IFT_10",
         "orientation": "v",
         "showlegend": true,
         "type": "scatter",
         "x": [
          "0_mid",
          "0_post",
          "1_mid",
          "1_post",
          "2_mid",
          "2_post",
          "3_mid",
          "3_post",
          "4_mid",
          "4_post",
          "5_mid",
          "5_post",
          "6_mid",
          "6_post",
          "7_mid",
          "7_post",
          "8_mid",
          "8_post",
          "9_mid",
          "9_post",
          "10_mid",
          "10_post",
          "11_mid",
          "11_post",
          "12_mid",
          "12_post",
          "13_mid",
          "13_post",
          "14_mid",
          "14_post",
          "15_mid",
          "15_post",
          "16_mid",
          "16_post",
          "17_mid",
          "17_post",
          "18_mid",
          "18_post",
          "19_mid",
          "19_post",
          "20_mid",
          "20_post",
          "21_mid",
          "21_post",
          "22_mid",
          "22_post",
          "23_mid",
          "23_post"
         ],
         "xaxis": "x",
         "y": [
          -9.91196346282959,
          -26.715587615966797,
          -27.300519943237305,
          -34.6549072265625,
          -31.423383712768555,
          -31.003843307495117,
          -26.77068328857422,
          -28.28058624267578,
          -29.515417098999023,
          -26.169803619384766,
          -25.96902847290039,
          -31.59638786315918,
          -30.770404815673828,
          -34.05809783935547,
          -30.83019256591797,
          -30.980905532836914,
          -30.794809341430664,
          -32.396915435791016,
          -30.804035186767578,
          -32.7314338684082,
          -32.216209411621094,
          -39.16239929199219,
          -36.072330474853516,
          -40.27729034423828,
          -41.856475830078125,
          -45.064414978027344,
          -38.93409729003906,
          -42.17088317871094,
          -42.90513610839844,
          -49.87712860107422,
          -62.738983154296875,
          -93.41903686523438,
          -105.5372314453125,
          -106.98966979980469,
          -109.45953369140625,
          -107.46556091308594,
          -126.31515502929688,
          -130.788818359375,
          -131.9053497314453,
          -168.8072052001953,
          -192.19775390625,
          -183.05059814453125,
          -220.36260986328125,
          -226.14495849609375,
          -221.20953369140625,
          -213.54367065429688,
          -232.19418334960938,
          -248.71612548828125
         ],
         "yaxis": "y"
        },
        {
         "hovertemplate": "Model=GPT2_10<br>Layer=%{x}<br>neg_logprob=%{y}<extra></extra>",
         "legendgroup": "GPT2_10",
         "line": {
          "color": "#ab63fa",
          "dash": "solid"
         },
         "marker": {
          "symbol": "circle"
         },
         "mode": "lines",
         "name": "GPT2_10",
         "orientation": "v",
         "showlegend": true,
         "type": "scatter",
         "x": [
          "0_mid",
          "0_post",
          "1_mid",
          "1_post",
          "2_mid",
          "2_post",
          "3_mid",
          "3_post",
          "4_mid",
          "4_post",
          "5_mid",
          "5_post",
          "6_mid",
          "6_post",
          "7_mid",
          "7_post",
          "8_mid",
          "8_post",
          "9_mid",
          "9_post",
          "10_mid",
          "10_post",
          "11_mid",
          "11_post",
          "12_mid",
          "12_post",
          "13_mid",
          "13_post",
          "14_mid",
          "14_post",
          "15_mid",
          "15_post",
          "16_mid",
          "16_post",
          "17_mid",
          "17_post",
          "18_mid",
          "18_post",
          "19_mid",
          "19_post",
          "20_mid",
          "20_post",
          "21_mid",
          "21_post",
          "22_mid",
          "22_post",
          "23_mid",
          "23_post"
         ],
         "xaxis": "x",
         "y": [
          -9.852815628051758,
          -27.78740119934082,
          -26.859987258911133,
          -35.58426284790039,
          -31.602272033691406,
          -35.067352294921875,
          -29.851289749145508,
          -30.911983489990234,
          -32.48415756225586,
          -31.47183609008789,
          -31.301658630371094,
          -37.997291564941406,
          -35.591087341308594,
          -39.74010467529297,
          -35.105712890625,
          -36.318992614746094,
          -31.737735748291016,
          -38.75033187866211,
          -32.20304489135742,
          -30.57187271118164,
          -32.5307502746582,
          -41.27481460571289,
          -40.900787353515625,
          -36.64793014526367,
          -53.187767028808594,
          -42.629417419433594,
          -53.54188537597656,
          -53.820098876953125,
          -53.798919677734375,
          -66.17861938476562,
          -74.81568908691406,
          -102.23143005371094,
          -110.08734130859375,
          -110.5638427734375,
          -111.56231689453125,
          -112.21876525878906,
          -128.37294006347656,
          -131.25048828125,
          -138.4698028564453,
          -168.19677734375,
          -208.1284637451172,
          -199.17369079589844,
          -252.38827514648438,
          -262.89990234375,
          -263.3332214355469,
          -273.325927734375,
          -296.2545166015625,
          -317.4775390625
         ],
         "yaxis": "y"
        },
        {
         "hovertemplate": "Model=IFT_100<br>Layer=%{x}<br>neg_logprob=%{y}<extra></extra>",
         "legendgroup": "IFT_100",
         "line": {
          "color": "#FFA15A",
          "dash": "solid"
         },
         "marker": {
          "symbol": "circle"
         },
         "mode": "lines",
         "name": "IFT_100",
         "orientation": "v",
         "showlegend": true,
         "type": "scatter",
         "x": [
          "0_mid",
          "0_post",
          "1_mid",
          "1_post",
          "2_mid",
          "2_post",
          "3_mid",
          "3_post",
          "4_mid",
          "4_post",
          "5_mid",
          "5_post",
          "6_mid",
          "6_post",
          "7_mid",
          "7_post",
          "8_mid",
          "8_post",
          "9_mid",
          "9_post",
          "10_mid",
          "10_post",
          "11_mid",
          "11_post",
          "12_mid",
          "12_post",
          "13_mid",
          "13_post",
          "14_mid",
          "14_post",
          "15_mid",
          "15_post",
          "16_mid",
          "16_post",
          "17_mid",
          "17_post",
          "18_mid",
          "18_post",
          "19_mid",
          "19_post",
          "20_mid",
          "20_post",
          "21_mid",
          "21_post",
          "22_mid",
          "22_post",
          "23_mid",
          "23_post",
          "0_mid",
          "0_post",
          "1_mid",
          "1_post",
          "2_mid",
          "2_post",
          "3_mid",
          "3_post",
          "4_mid",
          "4_post",
          "5_mid",
          "5_post",
          "6_mid",
          "6_post",
          "7_mid",
          "7_post",
          "8_mid",
          "8_post",
          "9_mid",
          "9_post",
          "10_mid",
          "10_post",
          "11_mid",
          "11_post",
          "12_mid",
          "12_post",
          "13_mid",
          "13_post",
          "14_mid",
          "14_post",
          "15_mid",
          "15_post",
          "16_mid",
          "16_post",
          "17_mid",
          "17_post",
          "18_mid",
          "18_post",
          "19_mid",
          "19_post",
          "20_mid",
          "20_post",
          "21_mid",
          "21_post",
          "22_mid",
          "22_post",
          "23_mid",
          "23_post"
         ],
         "xaxis": "x",
         "y": [
          -10.225677490234375,
          -25.755672454833984,
          -27.02288818359375,
          -38.34013748168945,
          -37.412174224853516,
          -33.84019470214844,
          -29.802093505859375,
          -36.88304138183594,
          -38.37065505981445,
          -39.72340774536133,
          -38.863563537597656,
          -39.47526550292969,
          -42.56940460205078,
          -41.312843322753906,
          -39.917449951171875,
          -37.74106216430664,
          -41.1778450012207,
          -42.432456970214844,
          -51.835567474365234,
          -59.01065444946289,
          -60.43362808227539,
          -60.925926208496094,
          -78.4309310913086,
          -66.29975891113281,
          -75.24939727783203,
          -73.76079559326172,
          -84.44705200195312,
          -86.2203140258789,
          -89.94781494140625,
          -89.13241577148438,
          -105.82958221435547,
          -136.56439208984375,
          -151.45834350585938,
          -159.6193084716797,
          -160.0142059326172,
          -167.6897735595703,
          -180.2811737060547,
          -184.95895385742188,
          -187.63162231445312,
          -218.26901245117188,
          -238.9297637939453,
          -241.11204528808594,
          -276.0633850097656,
          -291.3516540527344,
          -302.3822021484375,
          -307.3482971191406,
          -339.20947265625,
          -356.6944885253906,
          -10.225677490234375,
          -25.755672454833984,
          -27.02288818359375,
          -38.34013748168945,
          -37.412174224853516,
          -33.84019470214844,
          -29.802093505859375,
          -36.88304138183594,
          -38.37065505981445,
          -39.72340774536133,
          -38.863563537597656,
          -39.47526550292969,
          -42.56940460205078,
          -41.312843322753906,
          -39.917449951171875,
          -37.74106216430664,
          -41.1778450012207,
          -42.432456970214844,
          -51.835567474365234,
          -59.01065444946289,
          -60.43362808227539,
          -60.925926208496094,
          -78.4309310913086,
          -66.29975891113281,
          -75.24939727783203,
          -73.76079559326172,
          -84.44705200195312,
          -86.2203140258789,
          -89.94781494140625,
          -89.13241577148438,
          -105.82958221435547,
          -136.56439208984375,
          -151.45834350585938,
          -159.6193084716797,
          -160.0142059326172,
          -167.6897735595703,
          -180.2811737060547,
          -184.95895385742188,
          -187.63162231445312,
          -218.26901245117188,
          -238.9297637939453,
          -241.11204528808594,
          -276.0633850097656,
          -291.3516540527344,
          -302.3822021484375,
          -307.3482971191406,
          -339.20947265625,
          -356.6944885253906
         ],
         "yaxis": "y"
        },
        {
         "hovertemplate": "Model=GPT2_100<br>Layer=%{x}<br>neg_logprob=%{y}<extra></extra>",
         "legendgroup": "GPT2_100",
         "line": {
          "color": "#19d3f3",
          "dash": "solid"
         },
         "marker": {
          "symbol": "circle"
         },
         "mode": "lines",
         "name": "GPT2_100",
         "orientation": "v",
         "showlegend": true,
         "type": "scatter",
         "x": [
          "0_mid",
          "0_post",
          "1_mid",
          "1_post",
          "2_mid",
          "2_post",
          "3_mid",
          "3_post",
          "4_mid",
          "4_post",
          "5_mid",
          "5_post",
          "6_mid",
          "6_post",
          "7_mid",
          "7_post",
          "8_mid",
          "8_post",
          "9_mid",
          "9_post",
          "10_mid",
          "10_post",
          "11_mid",
          "11_post",
          "12_mid",
          "12_post",
          "13_mid",
          "13_post",
          "14_mid",
          "14_post",
          "15_mid",
          "15_post",
          "16_mid",
          "16_post",
          "17_mid",
          "17_post",
          "18_mid",
          "18_post",
          "19_mid",
          "19_post",
          "20_mid",
          "20_post",
          "21_mid",
          "21_post",
          "22_mid",
          "22_post",
          "23_mid",
          "23_post",
          "0_mid",
          "0_post",
          "1_mid",
          "1_post",
          "2_mid",
          "2_post",
          "3_mid",
          "3_post",
          "4_mid",
          "4_post",
          "5_mid",
          "5_post",
          "6_mid",
          "6_post",
          "7_mid",
          "7_post",
          "8_mid",
          "8_post",
          "9_mid",
          "9_post",
          "10_mid",
          "10_post",
          "11_mid",
          "11_post",
          "12_mid",
          "12_post",
          "13_mid",
          "13_post",
          "14_mid",
          "14_post",
          "15_mid",
          "15_post",
          "16_mid",
          "16_post",
          "17_mid",
          "17_post",
          "18_mid",
          "18_post",
          "19_mid",
          "19_post",
          "20_mid",
          "20_post",
          "21_mid",
          "21_post",
          "22_mid",
          "22_post",
          "23_mid",
          "23_post"
         ],
         "xaxis": "x",
         "y": [
          -10.204904556274414,
          -26.400300979614258,
          -27.037466049194336,
          -38.0106315612793,
          -35.87287139892578,
          -37.14506912231445,
          -32.642032623291016,
          -35.50674819946289,
          -37.093814849853516,
          -39.071739196777344,
          -38.74871826171875,
          -42.98505783081055,
          -45.33229446411133,
          -46.30760192871094,
          -45.09318923950195,
          -41.93098831176758,
          -40.221824645996094,
          -47.23611068725586,
          -53.38490676879883,
          -55.610965728759766,
          -61.2946662902832,
          -67.45047760009766,
          -83.36968994140625,
          -68.92958068847656,
          -91.71701049804688,
          -81.74137115478516,
          -107.86492919921875,
          -105.48207092285156,
          -107.78404235839844,
          -114.92035675048828,
          -123.44703674316406,
          -150.81414794921875,
          -161.629638671875,
          -170.58322143554688,
          -172.7779541015625,
          -180.11074829101562,
          -193.21099853515625,
          -197.65135192871094,
          -207.0843505859375,
          -235.80111694335938,
          -267.03668212890625,
          -266.3240966796875,
          -314.8186340332031,
          -326.5841369628906,
          -337.6754455566406,
          -360.2940368652344,
          -392.96484375,
          -389.1821594238281,
          -10.204904556274414,
          -26.400300979614258,
          -27.037466049194336,
          -38.0106315612793,
          -35.87287139892578,
          -37.14506912231445,
          -32.642032623291016,
          -35.50674819946289,
          -37.093814849853516,
          -39.071739196777344,
          -38.74871826171875,
          -42.98505783081055,
          -45.33229446411133,
          -46.30760192871094,
          -45.09318923950195,
          -41.93098831176758,
          -40.221824645996094,
          -47.23611068725586,
          -53.38490676879883,
          -55.610965728759766,
          -61.2946662902832,
          -67.45047760009766,
          -83.36968994140625,
          -68.92958068847656,
          -91.71701049804688,
          -81.74137115478516,
          -107.86492919921875,
          -105.48207092285156,
          -107.78404235839844,
          -114.92035675048828,
          -123.44703674316406,
          -150.81414794921875,
          -161.629638671875,
          -170.58322143554688,
          -172.7779541015625,
          -180.11074829101562,
          -193.21099853515625,
          -197.65135192871094,
          -207.0843505859375,
          -235.80111694335938,
          -267.03668212890625,
          -266.3240966796875,
          -314.8186340332031,
          -326.5841369628906,
          -337.6754455566406,
          -360.2940368652344,
          -392.96484375,
          -389.1821594238281
         ],
         "yaxis": "y"
        },
        {
         "hovertemplate": "Model=IFT_10000<br>Layer=%{x}<br>neg_logprob=%{y}<extra></extra>",
         "legendgroup": "IFT_10000",
         "line": {
          "color": "#FF6692",
          "dash": "solid"
         },
         "marker": {
          "symbol": "circle"
         },
         "mode": "lines",
         "name": "IFT_10000",
         "orientation": "v",
         "showlegend": true,
         "type": "scatter",
         "x": [
          "0_mid",
          "0_post",
          "1_mid",
          "1_post",
          "2_mid",
          "2_post",
          "3_mid",
          "3_post",
          "4_mid",
          "4_post",
          "5_mid",
          "5_post",
          "6_mid",
          "6_post",
          "7_mid",
          "7_post",
          "8_mid",
          "8_post",
          "9_mid",
          "9_post",
          "10_mid",
          "10_post",
          "11_mid",
          "11_post",
          "12_mid",
          "12_post",
          "13_mid",
          "13_post",
          "14_mid",
          "14_post",
          "15_mid",
          "15_post",
          "16_mid",
          "16_post",
          "17_mid",
          "17_post",
          "18_mid",
          "18_post",
          "19_mid",
          "19_post",
          "20_mid",
          "20_post",
          "21_mid",
          "21_post",
          "22_mid",
          "22_post",
          "23_mid",
          "23_post"
         ],
         "xaxis": "x",
         "y": [
          -9.619856834411621,
          -32.387508392333984,
          -34.057708740234375,
          -42.75059509277344,
          -37.82937240600586,
          -40.03363037109375,
          -34.90851593017578,
          -36.789913177490234,
          -39.965633392333984,
          -38.37881088256836,
          -37.925655364990234,
          -44.42620849609375,
          -45.2611198425293,
          -43.27092742919922,
          -42.872406005859375,
          -38.90691375732422,
          -50.17412185668945,
          -55.10347366333008,
          -67.74628448486328,
          -71.28280639648438,
          -75.21688079833984,
          -77.60322570800781,
          -97.88566589355469,
          -93.42826080322266,
          -113.572265625,
          -126.9147720336914,
          -135.94581604003906,
          -138.84512329101562,
          -139.59149169921875,
          -148.6309814453125,
          -165.60560607910156,
          -184.67787170410156,
          -210.54624938964844,
          -217.63534545898438,
          -222.24456787109375,
          -236.65863037109375,
          -247.1312255859375,
          -249.69677734375,
          -257.4630432128906,
          -266.9873046875,
          -290.80133056640625,
          -307.25048828125,
          -350.5477294921875,
          -343.8689880371094,
          -339.49951171875,
          -413.71575927734375,
          -441.4132080078125,
          -536.5647583007812
         ],
         "yaxis": "y"
        },
        {
         "hovertemplate": "Model=GPT2_10000<br>Layer=%{x}<br>neg_logprob=%{y}<extra></extra>",
         "legendgroup": "GPT2_10000",
         "line": {
          "color": "#B6E880",
          "dash": "solid"
         },
         "marker": {
          "symbol": "circle"
         },
         "mode": "lines",
         "name": "GPT2_10000",
         "orientation": "v",
         "showlegend": true,
         "type": "scatter",
         "x": [
          "0_mid",
          "0_post",
          "1_mid",
          "1_post",
          "2_mid",
          "2_post",
          "3_mid",
          "3_post",
          "4_mid",
          "4_post",
          "5_mid",
          "5_post",
          "6_mid",
          "6_post",
          "7_mid",
          "7_post",
          "8_mid",
          "8_post",
          "9_mid",
          "9_post",
          "10_mid",
          "10_post",
          "11_mid",
          "11_post",
          "12_mid",
          "12_post",
          "13_mid",
          "13_post",
          "14_mid",
          "14_post",
          "15_mid",
          "15_post",
          "16_mid",
          "16_post",
          "17_mid",
          "17_post",
          "18_mid",
          "18_post",
          "19_mid",
          "19_post",
          "20_mid",
          "20_post",
          "21_mid",
          "21_post",
          "22_mid",
          "22_post",
          "23_mid",
          "23_post"
         ],
         "xaxis": "x",
         "y": [
          -9.617648124694824,
          -34.10081100463867,
          -34.84305953979492,
          -44.37217712402344,
          -40.58628845214844,
          -45.21962356567383,
          -39.60267639160156,
          -39.83169174194336,
          -42.3990592956543,
          -44.052703857421875,
          -46.63850021362305,
          -56.74684143066406,
          -57.49996566772461,
          -55.928192138671875,
          -55.38637161254883,
          -52.81037521362305,
          -57.187110900878906,
          -65.27433776855469,
          -78.59660339355469,
          -80.12444305419922,
          -93.57894897460938,
          -101.3135757446289,
          -121.60713958740234,
          -109.41857147216797,
          -146.62136840820312,
          -148.12164306640625,
          -175.47552490234375,
          -172.77772521972656,
          -174.222900390625,
          -187.79995727539062,
          -198.48887634277344,
          -217.92221069335938,
          -238.71597290039062,
          -247.46218872070312,
          -255.55104064941406,
          -271.25750732421875,
          -285.2372131347656,
          -288.576416015625,
          -302.0308532714844,
          -316.97662353515625,
          -359.4928894042969,
          -377.00213623046875,
          -430.24420166015625,
          -424.59942626953125,
          -424.6164855957031,
          -487.15716552734375,
          -516.9769287109375,
          -645.6099853515625
         ],
         "yaxis": "y"
        }
       ],
       "layout": {
        "legend": {
         "title": {
          "text": "Model"
         },
         "tracegroupgap": 0
        },
        "margin": {
         "t": 60
        },
        "template": {
         "data": {
          "bar": [
           {
            "error_x": {
             "color": "#2a3f5f"
            },
            "error_y": {
             "color": "#2a3f5f"
            },
            "marker": {
             "line": {
              "color": "#E5ECF6",
              "width": 0.5
             },
             "pattern": {
              "fillmode": "overlay",
              "size": 10,
              "solidity": 0.2
             }
            },
            "type": "bar"
           }
          ],
          "barpolar": [
           {
            "marker": {
             "line": {
              "color": "#E5ECF6",
              "width": 0.5
             },
             "pattern": {
              "fillmode": "overlay",
              "size": 10,
              "solidity": 0.2
             }
            },
            "type": "barpolar"
           }
          ],
          "carpet": [
           {
            "aaxis": {
             "endlinecolor": "#2a3f5f",
             "gridcolor": "white",
             "linecolor": "white",
             "minorgridcolor": "white",
             "startlinecolor": "#2a3f5f"
            },
            "baxis": {
             "endlinecolor": "#2a3f5f",
             "gridcolor": "white",
             "linecolor": "white",
             "minorgridcolor": "white",
             "startlinecolor": "#2a3f5f"
            },
            "type": "carpet"
           }
          ],
          "choropleth": [
           {
            "colorbar": {
             "outlinewidth": 0,
             "ticks": ""
            },
            "type": "choropleth"
           }
          ],
          "contour": [
           {
            "colorbar": {
             "outlinewidth": 0,
             "ticks": ""
            },
            "colorscale": [
             [
              0,
              "#0d0887"
             ],
             [
              0.1111111111111111,
              "#46039f"
             ],
             [
              0.2222222222222222,
              "#7201a8"
             ],
             [
              0.3333333333333333,
              "#9c179e"
             ],
             [
              0.4444444444444444,
              "#bd3786"
             ],
             [
              0.5555555555555556,
              "#d8576b"
             ],
             [
              0.6666666666666666,
              "#ed7953"
             ],
             [
              0.7777777777777778,
              "#fb9f3a"
             ],
             [
              0.8888888888888888,
              "#fdca26"
             ],
             [
              1,
              "#f0f921"
             ]
            ],
            "type": "contour"
           }
          ],
          "contourcarpet": [
           {
            "colorbar": {
             "outlinewidth": 0,
             "ticks": ""
            },
            "type": "contourcarpet"
           }
          ],
          "heatmap": [
           {
            "colorbar": {
             "outlinewidth": 0,
             "ticks": ""
            },
            "colorscale": [
             [
              0,
              "#0d0887"
             ],
             [
              0.1111111111111111,
              "#46039f"
             ],
             [
              0.2222222222222222,
              "#7201a8"
             ],
             [
              0.3333333333333333,
              "#9c179e"
             ],
             [
              0.4444444444444444,
              "#bd3786"
             ],
             [
              0.5555555555555556,
              "#d8576b"
             ],
             [
              0.6666666666666666,
              "#ed7953"
             ],
             [
              0.7777777777777778,
              "#fb9f3a"
             ],
             [
              0.8888888888888888,
              "#fdca26"
             ],
             [
              1,
              "#f0f921"
             ]
            ],
            "type": "heatmap"
           }
          ],
          "heatmapgl": [
           {
            "colorbar": {
             "outlinewidth": 0,
             "ticks": ""
            },
            "colorscale": [
             [
              0,
              "#0d0887"
             ],
             [
              0.1111111111111111,
              "#46039f"
             ],
             [
              0.2222222222222222,
              "#7201a8"
             ],
             [
              0.3333333333333333,
              "#9c179e"
             ],
             [
              0.4444444444444444,
              "#bd3786"
             ],
             [
              0.5555555555555556,
              "#d8576b"
             ],
             [
              0.6666666666666666,
              "#ed7953"
             ],
             [
              0.7777777777777778,
              "#fb9f3a"
             ],
             [
              0.8888888888888888,
              "#fdca26"
             ],
             [
              1,
              "#f0f921"
             ]
            ],
            "type": "heatmapgl"
           }
          ],
          "histogram": [
           {
            "marker": {
             "pattern": {
              "fillmode": "overlay",
              "size": 10,
              "solidity": 0.2
             }
            },
            "type": "histogram"
           }
          ],
          "histogram2d": [
           {
            "colorbar": {
             "outlinewidth": 0,
             "ticks": ""
            },
            "colorscale": [
             [
              0,
              "#0d0887"
             ],
             [
              0.1111111111111111,
              "#46039f"
             ],
             [
              0.2222222222222222,
              "#7201a8"
             ],
             [
              0.3333333333333333,
              "#9c179e"
             ],
             [
              0.4444444444444444,
              "#bd3786"
             ],
             [
              0.5555555555555556,
              "#d8576b"
             ],
             [
              0.6666666666666666,
              "#ed7953"
             ],
             [
              0.7777777777777778,
              "#fb9f3a"
             ],
             [
              0.8888888888888888,
              "#fdca26"
             ],
             [
              1,
              "#f0f921"
             ]
            ],
            "type": "histogram2d"
           }
          ],
          "histogram2dcontour": [
           {
            "colorbar": {
             "outlinewidth": 0,
             "ticks": ""
            },
            "colorscale": [
             [
              0,
              "#0d0887"
             ],
             [
              0.1111111111111111,
              "#46039f"
             ],
             [
              0.2222222222222222,
              "#7201a8"
             ],
             [
              0.3333333333333333,
              "#9c179e"
             ],
             [
              0.4444444444444444,
              "#bd3786"
             ],
             [
              0.5555555555555556,
              "#d8576b"
             ],
             [
              0.6666666666666666,
              "#ed7953"
             ],
             [
              0.7777777777777778,
              "#fb9f3a"
             ],
             [
              0.8888888888888888,
              "#fdca26"
             ],
             [
              1,
              "#f0f921"
             ]
            ],
            "type": "histogram2dcontour"
           }
          ],
          "mesh3d": [
           {
            "colorbar": {
             "outlinewidth": 0,
             "ticks": ""
            },
            "type": "mesh3d"
           }
          ],
          "parcoords": [
           {
            "line": {
             "colorbar": {
              "outlinewidth": 0,
              "ticks": ""
             }
            },
            "type": "parcoords"
           }
          ],
          "pie": [
           {
            "automargin": true,
            "type": "pie"
           }
          ],
          "scatter": [
           {
            "fillpattern": {
             "fillmode": "overlay",
             "size": 10,
             "solidity": 0.2
            },
            "type": "scatter"
           }
          ],
          "scatter3d": [
           {
            "line": {
             "colorbar": {
              "outlinewidth": 0,
              "ticks": ""
             }
            },
            "marker": {
             "colorbar": {
              "outlinewidth": 0,
              "ticks": ""
             }
            },
            "type": "scatter3d"
           }
          ],
          "scattercarpet": [
           {
            "marker": {
             "colorbar": {
              "outlinewidth": 0,
              "ticks": ""
             }
            },
            "type": "scattercarpet"
           }
          ],
          "scattergeo": [
           {
            "marker": {
             "colorbar": {
              "outlinewidth": 0,
              "ticks": ""
             }
            },
            "type": "scattergeo"
           }
          ],
          "scattergl": [
           {
            "marker": {
             "colorbar": {
              "outlinewidth": 0,
              "ticks": ""
             }
            },
            "type": "scattergl"
           }
          ],
          "scattermapbox": [
           {
            "marker": {
             "colorbar": {
              "outlinewidth": 0,
              "ticks": ""
             }
            },
            "type": "scattermapbox"
           }
          ],
          "scatterpolar": [
           {
            "marker": {
             "colorbar": {
              "outlinewidth": 0,
              "ticks": ""
             }
            },
            "type": "scatterpolar"
           }
          ],
          "scatterpolargl": [
           {
            "marker": {
             "colorbar": {
              "outlinewidth": 0,
              "ticks": ""
             }
            },
            "type": "scatterpolargl"
           }
          ],
          "scatterternary": [
           {
            "marker": {
             "colorbar": {
              "outlinewidth": 0,
              "ticks": ""
             }
            },
            "type": "scatterternary"
           }
          ],
          "surface": [
           {
            "colorbar": {
             "outlinewidth": 0,
             "ticks": ""
            },
            "colorscale": [
             [
              0,
              "#0d0887"
             ],
             [
              0.1111111111111111,
              "#46039f"
             ],
             [
              0.2222222222222222,
              "#7201a8"
             ],
             [
              0.3333333333333333,
              "#9c179e"
             ],
             [
              0.4444444444444444,
              "#bd3786"
             ],
             [
              0.5555555555555556,
              "#d8576b"
             ],
             [
              0.6666666666666666,
              "#ed7953"
             ],
             [
              0.7777777777777778,
              "#fb9f3a"
             ],
             [
              0.8888888888888888,
              "#fdca26"
             ],
             [
              1,
              "#f0f921"
             ]
            ],
            "type": "surface"
           }
          ],
          "table": [
           {
            "cells": {
             "fill": {
              "color": "#EBF0F8"
             },
             "line": {
              "color": "white"
             }
            },
            "header": {
             "fill": {
              "color": "#C8D4E3"
             },
             "line": {
              "color": "white"
             }
            },
            "type": "table"
           }
          ]
         },
         "layout": {
          "annotationdefaults": {
           "arrowcolor": "#2a3f5f",
           "arrowhead": 0,
           "arrowwidth": 1
          },
          "autotypenumbers": "strict",
          "coloraxis": {
           "colorbar": {
            "outlinewidth": 0,
            "ticks": ""
           }
          },
          "colorscale": {
           "diverging": [
            [
             0,
             "#8e0152"
            ],
            [
             0.1,
             "#c51b7d"
            ],
            [
             0.2,
             "#de77ae"
            ],
            [
             0.3,
             "#f1b6da"
            ],
            [
             0.4,
             "#fde0ef"
            ],
            [
             0.5,
             "#f7f7f7"
            ],
            [
             0.6,
             "#e6f5d0"
            ],
            [
             0.7,
             "#b8e186"
            ],
            [
             0.8,
             "#7fbc41"
            ],
            [
             0.9,
             "#4d9221"
            ],
            [
             1,
             "#276419"
            ]
           ],
           "sequential": [
            [
             0,
             "#0d0887"
            ],
            [
             0.1111111111111111,
             "#46039f"
            ],
            [
             0.2222222222222222,
             "#7201a8"
            ],
            [
             0.3333333333333333,
             "#9c179e"
            ],
            [
             0.4444444444444444,
             "#bd3786"
            ],
            [
             0.5555555555555556,
             "#d8576b"
            ],
            [
             0.6666666666666666,
             "#ed7953"
            ],
            [
             0.7777777777777778,
             "#fb9f3a"
            ],
            [
             0.8888888888888888,
             "#fdca26"
            ],
            [
             1,
             "#f0f921"
            ]
           ],
           "sequentialminus": [
            [
             0,
             "#0d0887"
            ],
            [
             0.1111111111111111,
             "#46039f"
            ],
            [
             0.2222222222222222,
             "#7201a8"
            ],
            [
             0.3333333333333333,
             "#9c179e"
            ],
            [
             0.4444444444444444,
             "#bd3786"
            ],
            [
             0.5555555555555556,
             "#d8576b"
            ],
            [
             0.6666666666666666,
             "#ed7953"
            ],
            [
             0.7777777777777778,
             "#fb9f3a"
            ],
            [
             0.8888888888888888,
             "#fdca26"
            ],
            [
             1,
             "#f0f921"
            ]
           ]
          },
          "colorway": [
           "#636efa",
           "#EF553B",
           "#00cc96",
           "#ab63fa",
           "#FFA15A",
           "#19d3f3",
           "#FF6692",
           "#B6E880",
           "#FF97FF",
           "#FECB52"
          ],
          "font": {
           "color": "#2a3f5f"
          },
          "geo": {
           "bgcolor": "white",
           "lakecolor": "white",
           "landcolor": "#E5ECF6",
           "showlakes": true,
           "showland": true,
           "subunitcolor": "white"
          },
          "hoverlabel": {
           "align": "left"
          },
          "hovermode": "closest",
          "mapbox": {
           "style": "light"
          },
          "paper_bgcolor": "white",
          "plot_bgcolor": "#E5ECF6",
          "polar": {
           "angularaxis": {
            "gridcolor": "white",
            "linecolor": "white",
            "ticks": ""
           },
           "bgcolor": "#E5ECF6",
           "radialaxis": {
            "gridcolor": "white",
            "linecolor": "white",
            "ticks": ""
           }
          },
          "scene": {
           "xaxis": {
            "backgroundcolor": "#E5ECF6",
            "gridcolor": "white",
            "gridwidth": 2,
            "linecolor": "white",
            "showbackground": true,
            "ticks": "",
            "zerolinecolor": "white"
           },
           "yaxis": {
            "backgroundcolor": "#E5ECF6",
            "gridcolor": "white",
            "gridwidth": 2,
            "linecolor": "white",
            "showbackground": true,
            "ticks": "",
            "zerolinecolor": "white"
           },
           "zaxis": {
            "backgroundcolor": "#E5ECF6",
            "gridcolor": "white",
            "gridwidth": 2,
            "linecolor": "white",
            "showbackground": true,
            "ticks": "",
            "zerolinecolor": "white"
           }
          },
          "shapedefaults": {
           "line": {
            "color": "#2a3f5f"
           }
          },
          "ternary": {
           "aaxis": {
            "gridcolor": "white",
            "linecolor": "white",
            "ticks": ""
           },
           "baxis": {
            "gridcolor": "white",
            "linecolor": "white",
            "ticks": ""
           },
           "bgcolor": "#E5ECF6",
           "caxis": {
            "gridcolor": "white",
            "linecolor": "white",
            "ticks": ""
           }
          },
          "title": {
           "x": 0.05
          },
          "xaxis": {
           "automargin": true,
           "gridcolor": "white",
           "linecolor": "white",
           "ticks": "",
           "title": {
            "standoff": 15
           },
           "zerolinecolor": "white",
           "zerolinewidth": 2
          },
          "yaxis": {
           "automargin": true,
           "gridcolor": "white",
           "linecolor": "white",
           "ticks": "",
           "title": {
            "standoff": 15
           },
           "zerolinecolor": "white",
           "zerolinewidth": 2
          }
         }
        },
        "xaxis": {
         "anchor": "y",
         "domain": [
          0,
          1
         ],
         "title": {
          "text": "Layer"
         }
        },
        "yaxis": {
         "anchor": "x",
         "domain": [
          0,
          1
         ],
         "title": {
          "text": "neg_logprob"
         }
        }
       }
      },
      "text/html": [
       "<div>                            <div id=\"d1ab19e5-5178-4b50-b4e2-aa5bc710bb5a\" class=\"plotly-graph-div\" style=\"height:525px; width:100%;\"></div>            <script type=\"text/javascript\">                require([\"plotly\"], function(Plotly) {                    window.PLOTLYENV=window.PLOTLYENV || {};                                    if (document.getElementById(\"d1ab19e5-5178-4b50-b4e2-aa5bc710bb5a\")) {                    Plotly.newPlot(                        \"d1ab19e5-5178-4b50-b4e2-aa5bc710bb5a\",                        [{\"hovertemplate\":\"Model=IFT\\u003cbr\\u003eLayer=%{x}\\u003cbr\\u003eneg_logprob=%{y}\\u003cextra\\u003e\\u003c\\u002fextra\\u003e\",\"legendgroup\":\"IFT\",\"line\":{\"color\":\"#636efa\",\"dash\":\"solid\"},\"marker\":{\"symbol\":\"circle\"},\"mode\":\"lines\",\"name\":\"IFT\",\"orientation\":\"v\",\"showlegend\":true,\"x\":[\"0_mid\",\"0_post\",\"1_mid\",\"1_post\",\"2_mid\",\"2_post\",\"3_mid\",\"3_post\",\"4_mid\",\"4_post\",\"5_mid\",\"5_post\",\"6_mid\",\"6_post\",\"7_mid\",\"7_post\",\"8_mid\",\"8_post\",\"9_mid\",\"9_post\",\"10_mid\",\"10_post\",\"11_mid\",\"11_post\",\"12_mid\",\"12_post\",\"13_mid\",\"13_post\",\"14_mid\",\"14_post\",\"15_mid\",\"15_post\",\"16_mid\",\"16_post\",\"17_mid\",\"17_post\",\"18_mid\",\"18_post\",\"19_mid\",\"19_post\",\"20_mid\",\"20_post\",\"21_mid\",\"21_post\",\"22_mid\",\"22_post\",\"23_mid\",\"23_post\"],\"xaxis\":\"x\",\"y\":[-9.775274276733398,-19.507869720458984,-18.483684539794922,-22.26642417907715,-20.375638961791992,-19.521209716796875,-16.015605926513672,-15.712206840515137,-17.306718826293945,-16.790559768676758,-15.831666946411133,-16.91731071472168,-15.982449531555176,-14.483054161071777,-11.956534385681152,-19.442129135131836,-22.445051193237305,-17.425823211669922,-9.343646049499512,-14.105046272277832,-5.349120616912842,-8.58721923828125,-2.707484722137451,-9.753561019897461,-0.00013791563105769455,-10.634360313415527,-0.005295298527926207,-5.406968116760254,-1.740081548690796,-0.06441473960876465,0.0,0.0,0.0,0.0,0.0,0.0,0.0,0.0,0.0,0.0,0.0,0.0,0.0,0.0,0.0,0.0,0.0,0.0],\"yaxis\":\"y\",\"type\":\"scatter\"},{\"hovertemplate\":\"Model=GPT2\\u003cbr\\u003eLayer=%{x}\\u003cbr\\u003eneg_logprob=%{y}\\u003cextra\\u003e\\u003c\\u002fextra\\u003e\",\"legendgroup\":\"GPT2\",\"line\":{\"color\":\"#EF553B\",\"dash\":\"solid\"},\"marker\":{\"symbol\":\"circle\"},\"mode\":\"lines\",\"name\":\"GPT2\",\"orientation\":\"v\",\"showlegend\":true,\"x\":[\"0_mid\",\"0_post\",\"1_mid\",\"1_post\",\"2_mid\",\"2_post\",\"3_mid\",\"3_post\",\"4_mid\",\"4_post\",\"5_mid\",\"5_post\",\"6_mid\",\"6_post\",\"7_mid\",\"7_post\",\"8_mid\",\"8_post\",\"9_mid\",\"9_post\",\"10_mid\",\"10_post\",\"11_mid\",\"11_post\",\"12_mid\",\"12_post\",\"13_mid\",\"13_post\",\"14_mid\",\"14_post\",\"15_mid\",\"15_post\",\"16_mid\",\"16_post\",\"17_mid\",\"17_post\",\"18_mid\",\"18_post\",\"19_mid\",\"19_post\",\"20_mid\",\"20_post\",\"21_mid\",\"21_post\",\"22_mid\",\"22_post\",\"23_mid\",\"23_post\"],\"xaxis\":\"x\",\"y\":[-9.790413856506348,-19.972169876098633,-18.03636932373047,-22.55022621154785,-20.144832611083984,-22.344158172607422,-18.26374626159668,-16.312755584716797,-17.565536499023438,-17.07754898071289,-16.283916473388672,-21.073083877563477,-18.246301651000977,-18.27530860900879,-13.739082336425781,-17.986480712890625,-14.878658294677734,-16.528234481811523,-2.059131145477295,-4.179698467254639,-0.026568520814180374,-10.020326614379883,-4.434327602386475,-0.5798972845077515,0.0,-6.890059739816934e-05,0.0,0.0,0.0,0.0,0.0,0.0,0.0,0.0,0.0,0.0,0.0,0.0,0.0,0.0,0.0,0.0,0.0,0.0,0.0,0.0,0.0,0.0],\"yaxis\":\"y\",\"type\":\"scatter\"},{\"hovertemplate\":\"Model=IFT_10\\u003cbr\\u003eLayer=%{x}\\u003cbr\\u003eneg_logprob=%{y}\\u003cextra\\u003e\\u003c\\u002fextra\\u003e\",\"legendgroup\":\"IFT_10\",\"line\":{\"color\":\"#00cc96\",\"dash\":\"solid\"},\"marker\":{\"symbol\":\"circle\"},\"mode\":\"lines\",\"name\":\"IFT_10\",\"orientation\":\"v\",\"showlegend\":true,\"x\":[\"0_mid\",\"0_post\",\"1_mid\",\"1_post\",\"2_mid\",\"2_post\",\"3_mid\",\"3_post\",\"4_mid\",\"4_post\",\"5_mid\",\"5_post\",\"6_mid\",\"6_post\",\"7_mid\",\"7_post\",\"8_mid\",\"8_post\",\"9_mid\",\"9_post\",\"10_mid\",\"10_post\",\"11_mid\",\"11_post\",\"12_mid\",\"12_post\",\"13_mid\",\"13_post\",\"14_mid\",\"14_post\",\"15_mid\",\"15_post\",\"16_mid\",\"16_post\",\"17_mid\",\"17_post\",\"18_mid\",\"18_post\",\"19_mid\",\"19_post\",\"20_mid\",\"20_post\",\"21_mid\",\"21_post\",\"22_mid\",\"22_post\",\"23_mid\",\"23_post\"],\"xaxis\":\"x\",\"y\":[-9.91196346282959,-26.715587615966797,-27.300519943237305,-34.6549072265625,-31.423383712768555,-31.003843307495117,-26.77068328857422,-28.28058624267578,-29.515417098999023,-26.169803619384766,-25.96902847290039,-31.59638786315918,-30.770404815673828,-34.05809783935547,-30.83019256591797,-30.980905532836914,-30.794809341430664,-32.396915435791016,-30.804035186767578,-32.7314338684082,-32.216209411621094,-39.16239929199219,-36.072330474853516,-40.27729034423828,-41.856475830078125,-45.064414978027344,-38.93409729003906,-42.17088317871094,-42.90513610839844,-49.87712860107422,-62.738983154296875,-93.41903686523438,-105.5372314453125,-106.98966979980469,-109.45953369140625,-107.46556091308594,-126.31515502929688,-130.788818359375,-131.9053497314453,-168.8072052001953,-192.19775390625,-183.05059814453125,-220.36260986328125,-226.14495849609375,-221.20953369140625,-213.54367065429688,-232.19418334960938,-248.71612548828125],\"yaxis\":\"y\",\"type\":\"scatter\"},{\"hovertemplate\":\"Model=GPT2_10\\u003cbr\\u003eLayer=%{x}\\u003cbr\\u003eneg_logprob=%{y}\\u003cextra\\u003e\\u003c\\u002fextra\\u003e\",\"legendgroup\":\"GPT2_10\",\"line\":{\"color\":\"#ab63fa\",\"dash\":\"solid\"},\"marker\":{\"symbol\":\"circle\"},\"mode\":\"lines\",\"name\":\"GPT2_10\",\"orientation\":\"v\",\"showlegend\":true,\"x\":[\"0_mid\",\"0_post\",\"1_mid\",\"1_post\",\"2_mid\",\"2_post\",\"3_mid\",\"3_post\",\"4_mid\",\"4_post\",\"5_mid\",\"5_post\",\"6_mid\",\"6_post\",\"7_mid\",\"7_post\",\"8_mid\",\"8_post\",\"9_mid\",\"9_post\",\"10_mid\",\"10_post\",\"11_mid\",\"11_post\",\"12_mid\",\"12_post\",\"13_mid\",\"13_post\",\"14_mid\",\"14_post\",\"15_mid\",\"15_post\",\"16_mid\",\"16_post\",\"17_mid\",\"17_post\",\"18_mid\",\"18_post\",\"19_mid\",\"19_post\",\"20_mid\",\"20_post\",\"21_mid\",\"21_post\",\"22_mid\",\"22_post\",\"23_mid\",\"23_post\"],\"xaxis\":\"x\",\"y\":[-9.852815628051758,-27.78740119934082,-26.859987258911133,-35.58426284790039,-31.602272033691406,-35.067352294921875,-29.851289749145508,-30.911983489990234,-32.48415756225586,-31.47183609008789,-31.301658630371094,-37.997291564941406,-35.591087341308594,-39.74010467529297,-35.105712890625,-36.318992614746094,-31.737735748291016,-38.75033187866211,-32.20304489135742,-30.57187271118164,-32.5307502746582,-41.27481460571289,-40.900787353515625,-36.64793014526367,-53.187767028808594,-42.629417419433594,-53.54188537597656,-53.820098876953125,-53.798919677734375,-66.17861938476562,-74.81568908691406,-102.23143005371094,-110.08734130859375,-110.5638427734375,-111.56231689453125,-112.21876525878906,-128.37294006347656,-131.25048828125,-138.4698028564453,-168.19677734375,-208.1284637451172,-199.17369079589844,-252.38827514648438,-262.89990234375,-263.3332214355469,-273.325927734375,-296.2545166015625,-317.4775390625],\"yaxis\":\"y\",\"type\":\"scatter\"},{\"hovertemplate\":\"Model=IFT_100\\u003cbr\\u003eLayer=%{x}\\u003cbr\\u003eneg_logprob=%{y}\\u003cextra\\u003e\\u003c\\u002fextra\\u003e\",\"legendgroup\":\"IFT_100\",\"line\":{\"color\":\"#FFA15A\",\"dash\":\"solid\"},\"marker\":{\"symbol\":\"circle\"},\"mode\":\"lines\",\"name\":\"IFT_100\",\"orientation\":\"v\",\"showlegend\":true,\"x\":[\"0_mid\",\"0_post\",\"1_mid\",\"1_post\",\"2_mid\",\"2_post\",\"3_mid\",\"3_post\",\"4_mid\",\"4_post\",\"5_mid\",\"5_post\",\"6_mid\",\"6_post\",\"7_mid\",\"7_post\",\"8_mid\",\"8_post\",\"9_mid\",\"9_post\",\"10_mid\",\"10_post\",\"11_mid\",\"11_post\",\"12_mid\",\"12_post\",\"13_mid\",\"13_post\",\"14_mid\",\"14_post\",\"15_mid\",\"15_post\",\"16_mid\",\"16_post\",\"17_mid\",\"17_post\",\"18_mid\",\"18_post\",\"19_mid\",\"19_post\",\"20_mid\",\"20_post\",\"21_mid\",\"21_post\",\"22_mid\",\"22_post\",\"23_mid\",\"23_post\",\"0_mid\",\"0_post\",\"1_mid\",\"1_post\",\"2_mid\",\"2_post\",\"3_mid\",\"3_post\",\"4_mid\",\"4_post\",\"5_mid\",\"5_post\",\"6_mid\",\"6_post\",\"7_mid\",\"7_post\",\"8_mid\",\"8_post\",\"9_mid\",\"9_post\",\"10_mid\",\"10_post\",\"11_mid\",\"11_post\",\"12_mid\",\"12_post\",\"13_mid\",\"13_post\",\"14_mid\",\"14_post\",\"15_mid\",\"15_post\",\"16_mid\",\"16_post\",\"17_mid\",\"17_post\",\"18_mid\",\"18_post\",\"19_mid\",\"19_post\",\"20_mid\",\"20_post\",\"21_mid\",\"21_post\",\"22_mid\",\"22_post\",\"23_mid\",\"23_post\"],\"xaxis\":\"x\",\"y\":[-10.225677490234375,-25.755672454833984,-27.02288818359375,-38.34013748168945,-37.412174224853516,-33.84019470214844,-29.802093505859375,-36.88304138183594,-38.37065505981445,-39.72340774536133,-38.863563537597656,-39.47526550292969,-42.56940460205078,-41.312843322753906,-39.917449951171875,-37.74106216430664,-41.1778450012207,-42.432456970214844,-51.835567474365234,-59.01065444946289,-60.43362808227539,-60.925926208496094,-78.4309310913086,-66.29975891113281,-75.24939727783203,-73.76079559326172,-84.44705200195312,-86.2203140258789,-89.94781494140625,-89.13241577148438,-105.82958221435547,-136.56439208984375,-151.45834350585938,-159.6193084716797,-160.0142059326172,-167.6897735595703,-180.2811737060547,-184.95895385742188,-187.63162231445312,-218.26901245117188,-238.9297637939453,-241.11204528808594,-276.0633850097656,-291.3516540527344,-302.3822021484375,-307.3482971191406,-339.20947265625,-356.6944885253906,-10.225677490234375,-25.755672454833984,-27.02288818359375,-38.34013748168945,-37.412174224853516,-33.84019470214844,-29.802093505859375,-36.88304138183594,-38.37065505981445,-39.72340774536133,-38.863563537597656,-39.47526550292969,-42.56940460205078,-41.312843322753906,-39.917449951171875,-37.74106216430664,-41.1778450012207,-42.432456970214844,-51.835567474365234,-59.01065444946289,-60.43362808227539,-60.925926208496094,-78.4309310913086,-66.29975891113281,-75.24939727783203,-73.76079559326172,-84.44705200195312,-86.2203140258789,-89.94781494140625,-89.13241577148438,-105.82958221435547,-136.56439208984375,-151.45834350585938,-159.6193084716797,-160.0142059326172,-167.6897735595703,-180.2811737060547,-184.95895385742188,-187.63162231445312,-218.26901245117188,-238.9297637939453,-241.11204528808594,-276.0633850097656,-291.3516540527344,-302.3822021484375,-307.3482971191406,-339.20947265625,-356.6944885253906],\"yaxis\":\"y\",\"type\":\"scatter\"},{\"hovertemplate\":\"Model=GPT2_100\\u003cbr\\u003eLayer=%{x}\\u003cbr\\u003eneg_logprob=%{y}\\u003cextra\\u003e\\u003c\\u002fextra\\u003e\",\"legendgroup\":\"GPT2_100\",\"line\":{\"color\":\"#19d3f3\",\"dash\":\"solid\"},\"marker\":{\"symbol\":\"circle\"},\"mode\":\"lines\",\"name\":\"GPT2_100\",\"orientation\":\"v\",\"showlegend\":true,\"x\":[\"0_mid\",\"0_post\",\"1_mid\",\"1_post\",\"2_mid\",\"2_post\",\"3_mid\",\"3_post\",\"4_mid\",\"4_post\",\"5_mid\",\"5_post\",\"6_mid\",\"6_post\",\"7_mid\",\"7_post\",\"8_mid\",\"8_post\",\"9_mid\",\"9_post\",\"10_mid\",\"10_post\",\"11_mid\",\"11_post\",\"12_mid\",\"12_post\",\"13_mid\",\"13_post\",\"14_mid\",\"14_post\",\"15_mid\",\"15_post\",\"16_mid\",\"16_post\",\"17_mid\",\"17_post\",\"18_mid\",\"18_post\",\"19_mid\",\"19_post\",\"20_mid\",\"20_post\",\"21_mid\",\"21_post\",\"22_mid\",\"22_post\",\"23_mid\",\"23_post\",\"0_mid\",\"0_post\",\"1_mid\",\"1_post\",\"2_mid\",\"2_post\",\"3_mid\",\"3_post\",\"4_mid\",\"4_post\",\"5_mid\",\"5_post\",\"6_mid\",\"6_post\",\"7_mid\",\"7_post\",\"8_mid\",\"8_post\",\"9_mid\",\"9_post\",\"10_mid\",\"10_post\",\"11_mid\",\"11_post\",\"12_mid\",\"12_post\",\"13_mid\",\"13_post\",\"14_mid\",\"14_post\",\"15_mid\",\"15_post\",\"16_mid\",\"16_post\",\"17_mid\",\"17_post\",\"18_mid\",\"18_post\",\"19_mid\",\"19_post\",\"20_mid\",\"20_post\",\"21_mid\",\"21_post\",\"22_mid\",\"22_post\",\"23_mid\",\"23_post\"],\"xaxis\":\"x\",\"y\":[-10.204904556274414,-26.400300979614258,-27.037466049194336,-38.0106315612793,-35.87287139892578,-37.14506912231445,-32.642032623291016,-35.50674819946289,-37.093814849853516,-39.071739196777344,-38.74871826171875,-42.98505783081055,-45.33229446411133,-46.30760192871094,-45.09318923950195,-41.93098831176758,-40.221824645996094,-47.23611068725586,-53.38490676879883,-55.610965728759766,-61.2946662902832,-67.45047760009766,-83.36968994140625,-68.92958068847656,-91.71701049804688,-81.74137115478516,-107.86492919921875,-105.48207092285156,-107.78404235839844,-114.92035675048828,-123.44703674316406,-150.81414794921875,-161.629638671875,-170.58322143554688,-172.7779541015625,-180.11074829101562,-193.21099853515625,-197.65135192871094,-207.0843505859375,-235.80111694335938,-267.03668212890625,-266.3240966796875,-314.8186340332031,-326.5841369628906,-337.6754455566406,-360.2940368652344,-392.96484375,-389.1821594238281,-10.204904556274414,-26.400300979614258,-27.037466049194336,-38.0106315612793,-35.87287139892578,-37.14506912231445,-32.642032623291016,-35.50674819946289,-37.093814849853516,-39.071739196777344,-38.74871826171875,-42.98505783081055,-45.33229446411133,-46.30760192871094,-45.09318923950195,-41.93098831176758,-40.221824645996094,-47.23611068725586,-53.38490676879883,-55.610965728759766,-61.2946662902832,-67.45047760009766,-83.36968994140625,-68.92958068847656,-91.71701049804688,-81.74137115478516,-107.86492919921875,-105.48207092285156,-107.78404235839844,-114.92035675048828,-123.44703674316406,-150.81414794921875,-161.629638671875,-170.58322143554688,-172.7779541015625,-180.11074829101562,-193.21099853515625,-197.65135192871094,-207.0843505859375,-235.80111694335938,-267.03668212890625,-266.3240966796875,-314.8186340332031,-326.5841369628906,-337.6754455566406,-360.2940368652344,-392.96484375,-389.1821594238281],\"yaxis\":\"y\",\"type\":\"scatter\"},{\"hovertemplate\":\"Model=IFT_10000\\u003cbr\\u003eLayer=%{x}\\u003cbr\\u003eneg_logprob=%{y}\\u003cextra\\u003e\\u003c\\u002fextra\\u003e\",\"legendgroup\":\"IFT_10000\",\"line\":{\"color\":\"#FF6692\",\"dash\":\"solid\"},\"marker\":{\"symbol\":\"circle\"},\"mode\":\"lines\",\"name\":\"IFT_10000\",\"orientation\":\"v\",\"showlegend\":true,\"x\":[\"0_mid\",\"0_post\",\"1_mid\",\"1_post\",\"2_mid\",\"2_post\",\"3_mid\",\"3_post\",\"4_mid\",\"4_post\",\"5_mid\",\"5_post\",\"6_mid\",\"6_post\",\"7_mid\",\"7_post\",\"8_mid\",\"8_post\",\"9_mid\",\"9_post\",\"10_mid\",\"10_post\",\"11_mid\",\"11_post\",\"12_mid\",\"12_post\",\"13_mid\",\"13_post\",\"14_mid\",\"14_post\",\"15_mid\",\"15_post\",\"16_mid\",\"16_post\",\"17_mid\",\"17_post\",\"18_mid\",\"18_post\",\"19_mid\",\"19_post\",\"20_mid\",\"20_post\",\"21_mid\",\"21_post\",\"22_mid\",\"22_post\",\"23_mid\",\"23_post\"],\"xaxis\":\"x\",\"y\":[-9.619856834411621,-32.387508392333984,-34.057708740234375,-42.75059509277344,-37.82937240600586,-40.03363037109375,-34.90851593017578,-36.789913177490234,-39.965633392333984,-38.37881088256836,-37.925655364990234,-44.42620849609375,-45.2611198425293,-43.27092742919922,-42.872406005859375,-38.90691375732422,-50.17412185668945,-55.10347366333008,-67.74628448486328,-71.28280639648438,-75.21688079833984,-77.60322570800781,-97.88566589355469,-93.42826080322266,-113.572265625,-126.9147720336914,-135.94581604003906,-138.84512329101562,-139.59149169921875,-148.6309814453125,-165.60560607910156,-184.67787170410156,-210.54624938964844,-217.63534545898438,-222.24456787109375,-236.65863037109375,-247.1312255859375,-249.69677734375,-257.4630432128906,-266.9873046875,-290.80133056640625,-307.25048828125,-350.5477294921875,-343.8689880371094,-339.49951171875,-413.71575927734375,-441.4132080078125,-536.5647583007812],\"yaxis\":\"y\",\"type\":\"scatter\"},{\"hovertemplate\":\"Model=GPT2_10000\\u003cbr\\u003eLayer=%{x}\\u003cbr\\u003eneg_logprob=%{y}\\u003cextra\\u003e\\u003c\\u002fextra\\u003e\",\"legendgroup\":\"GPT2_10000\",\"line\":{\"color\":\"#B6E880\",\"dash\":\"solid\"},\"marker\":{\"symbol\":\"circle\"},\"mode\":\"lines\",\"name\":\"GPT2_10000\",\"orientation\":\"v\",\"showlegend\":true,\"x\":[\"0_mid\",\"0_post\",\"1_mid\",\"1_post\",\"2_mid\",\"2_post\",\"3_mid\",\"3_post\",\"4_mid\",\"4_post\",\"5_mid\",\"5_post\",\"6_mid\",\"6_post\",\"7_mid\",\"7_post\",\"8_mid\",\"8_post\",\"9_mid\",\"9_post\",\"10_mid\",\"10_post\",\"11_mid\",\"11_post\",\"12_mid\",\"12_post\",\"13_mid\",\"13_post\",\"14_mid\",\"14_post\",\"15_mid\",\"15_post\",\"16_mid\",\"16_post\",\"17_mid\",\"17_post\",\"18_mid\",\"18_post\",\"19_mid\",\"19_post\",\"20_mid\",\"20_post\",\"21_mid\",\"21_post\",\"22_mid\",\"22_post\",\"23_mid\",\"23_post\"],\"xaxis\":\"x\",\"y\":[-9.617648124694824,-34.10081100463867,-34.84305953979492,-44.37217712402344,-40.58628845214844,-45.21962356567383,-39.60267639160156,-39.83169174194336,-42.3990592956543,-44.052703857421875,-46.63850021362305,-56.74684143066406,-57.49996566772461,-55.928192138671875,-55.38637161254883,-52.81037521362305,-57.187110900878906,-65.27433776855469,-78.59660339355469,-80.12444305419922,-93.57894897460938,-101.3135757446289,-121.60713958740234,-109.41857147216797,-146.62136840820312,-148.12164306640625,-175.47552490234375,-172.77772521972656,-174.222900390625,-187.79995727539062,-198.48887634277344,-217.92221069335938,-238.71597290039062,-247.46218872070312,-255.55104064941406,-271.25750732421875,-285.2372131347656,-288.576416015625,-302.0308532714844,-316.97662353515625,-359.4928894042969,-377.00213623046875,-430.24420166015625,-424.59942626953125,-424.6164855957031,-487.15716552734375,-516.9769287109375,-645.6099853515625],\"yaxis\":\"y\",\"type\":\"scatter\"}],                        {\"template\":{\"data\":{\"histogram2dcontour\":[{\"type\":\"histogram2dcontour\",\"colorbar\":{\"outlinewidth\":0,\"ticks\":\"\"},\"colorscale\":[[0.0,\"#0d0887\"],[0.1111111111111111,\"#46039f\"],[0.2222222222222222,\"#7201a8\"],[0.3333333333333333,\"#9c179e\"],[0.4444444444444444,\"#bd3786\"],[0.5555555555555556,\"#d8576b\"],[0.6666666666666666,\"#ed7953\"],[0.7777777777777778,\"#fb9f3a\"],[0.8888888888888888,\"#fdca26\"],[1.0,\"#f0f921\"]]}],\"choropleth\":[{\"type\":\"choropleth\",\"colorbar\":{\"outlinewidth\":0,\"ticks\":\"\"}}],\"histogram2d\":[{\"type\":\"histogram2d\",\"colorbar\":{\"outlinewidth\":0,\"ticks\":\"\"},\"colorscale\":[[0.0,\"#0d0887\"],[0.1111111111111111,\"#46039f\"],[0.2222222222222222,\"#7201a8\"],[0.3333333333333333,\"#9c179e\"],[0.4444444444444444,\"#bd3786\"],[0.5555555555555556,\"#d8576b\"],[0.6666666666666666,\"#ed7953\"],[0.7777777777777778,\"#fb9f3a\"],[0.8888888888888888,\"#fdca26\"],[1.0,\"#f0f921\"]]}],\"heatmap\":[{\"type\":\"heatmap\",\"colorbar\":{\"outlinewidth\":0,\"ticks\":\"\"},\"colorscale\":[[0.0,\"#0d0887\"],[0.1111111111111111,\"#46039f\"],[0.2222222222222222,\"#7201a8\"],[0.3333333333333333,\"#9c179e\"],[0.4444444444444444,\"#bd3786\"],[0.5555555555555556,\"#d8576b\"],[0.6666666666666666,\"#ed7953\"],[0.7777777777777778,\"#fb9f3a\"],[0.8888888888888888,\"#fdca26\"],[1.0,\"#f0f921\"]]}],\"heatmapgl\":[{\"type\":\"heatmapgl\",\"colorbar\":{\"outlinewidth\":0,\"ticks\":\"\"},\"colorscale\":[[0.0,\"#0d0887\"],[0.1111111111111111,\"#46039f\"],[0.2222222222222222,\"#7201a8\"],[0.3333333333333333,\"#9c179e\"],[0.4444444444444444,\"#bd3786\"],[0.5555555555555556,\"#d8576b\"],[0.6666666666666666,\"#ed7953\"],[0.7777777777777778,\"#fb9f3a\"],[0.8888888888888888,\"#fdca26\"],[1.0,\"#f0f921\"]]}],\"contourcarpet\":[{\"type\":\"contourcarpet\",\"colorbar\":{\"outlinewidth\":0,\"ticks\":\"\"}}],\"contour\":[{\"type\":\"contour\",\"colorbar\":{\"outlinewidth\":0,\"ticks\":\"\"},\"colorscale\":[[0.0,\"#0d0887\"],[0.1111111111111111,\"#46039f\"],[0.2222222222222222,\"#7201a8\"],[0.3333333333333333,\"#9c179e\"],[0.4444444444444444,\"#bd3786\"],[0.5555555555555556,\"#d8576b\"],[0.6666666666666666,\"#ed7953\"],[0.7777777777777778,\"#fb9f3a\"],[0.8888888888888888,\"#fdca26\"],[1.0,\"#f0f921\"]]}],\"surface\":[{\"type\":\"surface\",\"colorbar\":{\"outlinewidth\":0,\"ticks\":\"\"},\"colorscale\":[[0.0,\"#0d0887\"],[0.1111111111111111,\"#46039f\"],[0.2222222222222222,\"#7201a8\"],[0.3333333333333333,\"#9c179e\"],[0.4444444444444444,\"#bd3786\"],[0.5555555555555556,\"#d8576b\"],[0.6666666666666666,\"#ed7953\"],[0.7777777777777778,\"#fb9f3a\"],[0.8888888888888888,\"#fdca26\"],[1.0,\"#f0f921\"]]}],\"mesh3d\":[{\"type\":\"mesh3d\",\"colorbar\":{\"outlinewidth\":0,\"ticks\":\"\"}}],\"scatter\":[{\"fillpattern\":{\"fillmode\":\"overlay\",\"size\":10,\"solidity\":0.2},\"type\":\"scatter\"}],\"parcoords\":[{\"type\":\"parcoords\",\"line\":{\"colorbar\":{\"outlinewidth\":0,\"ticks\":\"\"}}}],\"scatterpolargl\":[{\"type\":\"scatterpolargl\",\"marker\":{\"colorbar\":{\"outlinewidth\":0,\"ticks\":\"\"}}}],\"bar\":[{\"error_x\":{\"color\":\"#2a3f5f\"},\"error_y\":{\"color\":\"#2a3f5f\"},\"marker\":{\"line\":{\"color\":\"#E5ECF6\",\"width\":0.5},\"pattern\":{\"fillmode\":\"overlay\",\"size\":10,\"solidity\":0.2}},\"type\":\"bar\"}],\"scattergeo\":[{\"type\":\"scattergeo\",\"marker\":{\"colorbar\":{\"outlinewidth\":0,\"ticks\":\"\"}}}],\"scatterpolar\":[{\"type\":\"scatterpolar\",\"marker\":{\"colorbar\":{\"outlinewidth\":0,\"ticks\":\"\"}}}],\"histogram\":[{\"marker\":{\"pattern\":{\"fillmode\":\"overlay\",\"size\":10,\"solidity\":0.2}},\"type\":\"histogram\"}],\"scattergl\":[{\"type\":\"scattergl\",\"marker\":{\"colorbar\":{\"outlinewidth\":0,\"ticks\":\"\"}}}],\"scatter3d\":[{\"type\":\"scatter3d\",\"line\":{\"colorbar\":{\"outlinewidth\":0,\"ticks\":\"\"}},\"marker\":{\"colorbar\":{\"outlinewidth\":0,\"ticks\":\"\"}}}],\"scattermapbox\":[{\"type\":\"scattermapbox\",\"marker\":{\"colorbar\":{\"outlinewidth\":0,\"ticks\":\"\"}}}],\"scatterternary\":[{\"type\":\"scatterternary\",\"marker\":{\"colorbar\":{\"outlinewidth\":0,\"ticks\":\"\"}}}],\"scattercarpet\":[{\"type\":\"scattercarpet\",\"marker\":{\"colorbar\":{\"outlinewidth\":0,\"ticks\":\"\"}}}],\"carpet\":[{\"aaxis\":{\"endlinecolor\":\"#2a3f5f\",\"gridcolor\":\"white\",\"linecolor\":\"white\",\"minorgridcolor\":\"white\",\"startlinecolor\":\"#2a3f5f\"},\"baxis\":{\"endlinecolor\":\"#2a3f5f\",\"gridcolor\":\"white\",\"linecolor\":\"white\",\"minorgridcolor\":\"white\",\"startlinecolor\":\"#2a3f5f\"},\"type\":\"carpet\"}],\"table\":[{\"cells\":{\"fill\":{\"color\":\"#EBF0F8\"},\"line\":{\"color\":\"white\"}},\"header\":{\"fill\":{\"color\":\"#C8D4E3\"},\"line\":{\"color\":\"white\"}},\"type\":\"table\"}],\"barpolar\":[{\"marker\":{\"line\":{\"color\":\"#E5ECF6\",\"width\":0.5},\"pattern\":{\"fillmode\":\"overlay\",\"size\":10,\"solidity\":0.2}},\"type\":\"barpolar\"}],\"pie\":[{\"automargin\":true,\"type\":\"pie\"}]},\"layout\":{\"autotypenumbers\":\"strict\",\"colorway\":[\"#636efa\",\"#EF553B\",\"#00cc96\",\"#ab63fa\",\"#FFA15A\",\"#19d3f3\",\"#FF6692\",\"#B6E880\",\"#FF97FF\",\"#FECB52\"],\"font\":{\"color\":\"#2a3f5f\"},\"hovermode\":\"closest\",\"hoverlabel\":{\"align\":\"left\"},\"paper_bgcolor\":\"white\",\"plot_bgcolor\":\"#E5ECF6\",\"polar\":{\"bgcolor\":\"#E5ECF6\",\"angularaxis\":{\"gridcolor\":\"white\",\"linecolor\":\"white\",\"ticks\":\"\"},\"radialaxis\":{\"gridcolor\":\"white\",\"linecolor\":\"white\",\"ticks\":\"\"}},\"ternary\":{\"bgcolor\":\"#E5ECF6\",\"aaxis\":{\"gridcolor\":\"white\",\"linecolor\":\"white\",\"ticks\":\"\"},\"baxis\":{\"gridcolor\":\"white\",\"linecolor\":\"white\",\"ticks\":\"\"},\"caxis\":{\"gridcolor\":\"white\",\"linecolor\":\"white\",\"ticks\":\"\"}},\"coloraxis\":{\"colorbar\":{\"outlinewidth\":0,\"ticks\":\"\"}},\"colorscale\":{\"sequential\":[[0.0,\"#0d0887\"],[0.1111111111111111,\"#46039f\"],[0.2222222222222222,\"#7201a8\"],[0.3333333333333333,\"#9c179e\"],[0.4444444444444444,\"#bd3786\"],[0.5555555555555556,\"#d8576b\"],[0.6666666666666666,\"#ed7953\"],[0.7777777777777778,\"#fb9f3a\"],[0.8888888888888888,\"#fdca26\"],[1.0,\"#f0f921\"]],\"sequentialminus\":[[0.0,\"#0d0887\"],[0.1111111111111111,\"#46039f\"],[0.2222222222222222,\"#7201a8\"],[0.3333333333333333,\"#9c179e\"],[0.4444444444444444,\"#bd3786\"],[0.5555555555555556,\"#d8576b\"],[0.6666666666666666,\"#ed7953\"],[0.7777777777777778,\"#fb9f3a\"],[0.8888888888888888,\"#fdca26\"],[1.0,\"#f0f921\"]],\"diverging\":[[0,\"#8e0152\"],[0.1,\"#c51b7d\"],[0.2,\"#de77ae\"],[0.3,\"#f1b6da\"],[0.4,\"#fde0ef\"],[0.5,\"#f7f7f7\"],[0.6,\"#e6f5d0\"],[0.7,\"#b8e186\"],[0.8,\"#7fbc41\"],[0.9,\"#4d9221\"],[1,\"#276419\"]]},\"xaxis\":{\"gridcolor\":\"white\",\"linecolor\":\"white\",\"ticks\":\"\",\"title\":{\"standoff\":15},\"zerolinecolor\":\"white\",\"automargin\":true,\"zerolinewidth\":2},\"yaxis\":{\"gridcolor\":\"white\",\"linecolor\":\"white\",\"ticks\":\"\",\"title\":{\"standoff\":15},\"zerolinecolor\":\"white\",\"automargin\":true,\"zerolinewidth\":2},\"scene\":{\"xaxis\":{\"backgroundcolor\":\"#E5ECF6\",\"gridcolor\":\"white\",\"linecolor\":\"white\",\"showbackground\":true,\"ticks\":\"\",\"zerolinecolor\":\"white\",\"gridwidth\":2},\"yaxis\":{\"backgroundcolor\":\"#E5ECF6\",\"gridcolor\":\"white\",\"linecolor\":\"white\",\"showbackground\":true,\"ticks\":\"\",\"zerolinecolor\":\"white\",\"gridwidth\":2},\"zaxis\":{\"backgroundcolor\":\"#E5ECF6\",\"gridcolor\":\"white\",\"linecolor\":\"white\",\"showbackground\":true,\"ticks\":\"\",\"zerolinecolor\":\"white\",\"gridwidth\":2}},\"shapedefaults\":{\"line\":{\"color\":\"#2a3f5f\"}},\"annotationdefaults\":{\"arrowcolor\":\"#2a3f5f\",\"arrowhead\":0,\"arrowwidth\":1},\"geo\":{\"bgcolor\":\"white\",\"landcolor\":\"#E5ECF6\",\"subunitcolor\":\"white\",\"showland\":true,\"showlakes\":true,\"lakecolor\":\"white\"},\"title\":{\"x\":0.05},\"mapbox\":{\"style\":\"light\"}}},\"xaxis\":{\"anchor\":\"y\",\"domain\":[0.0,1.0],\"title\":{\"text\":\"Layer\"}},\"yaxis\":{\"anchor\":\"x\",\"domain\":[0.0,1.0],\"title\":{\"text\":\"neg_logprob\"}},\"legend\":{\"title\":{\"text\":\"Model\"},\"tracegroupgap\":0},\"margin\":{\"t\":60}},                        {\"responsive\": true}                    ).then(function(){\n",
       "                            \n",
       "var gd = document.getElementById('d1ab19e5-5178-4b50-b4e2-aa5bc710bb5a');\n",
       "var x = new MutationObserver(function (mutations, observer) {{\n",
       "        var display = window.getComputedStyle(gd).display;\n",
       "        if (!display || display === 'none') {{\n",
       "            console.log([gd, 'removed!']);\n",
       "            Plotly.purge(gd);\n",
       "            observer.disconnect();\n",
       "        }}\n",
       "}});\n",
       "\n",
       "// Listen for the removal of the full notebook cells\n",
       "var notebookContainer = gd.closest('#notebook-container');\n",
       "if (notebookContainer) {{\n",
       "    x.observe(notebookContainer, {childList: true});\n",
       "}}\n",
       "\n",
       "// Listen for the clearing of the current output cell\n",
       "var outputEl = gd.closest('.output');\n",
       "if (outputEl) {{\n",
       "    x.observe(outputEl, {childList: true});\n",
       "}}\n",
       "\n",
       "                        })                };                });            </script>        </div>"
      ]
     },
     "metadata": {},
     "output_type": "display_data"
    },
    {
     "name": "stdout",
     "output_type": "stream",
     "text": [
      "zzzzzzzzzzzzzzzzzzzzzzzzzzzzzzzzzzzzzzzzzzzzzzzzzzzz\n",
      "Neg tok: 27511\n",
      "Tok id: 7\n"
     ]
    },
    {
     "data": {
      "application/vnd.plotly.v1+json": {
       "config": {
        "plotlyServerURL": "https://plot.ly"
       },
       "data": [
        {
         "hovertemplate": "Model=IFT<br>Layer=%{x}<br>neg_logprob=%{y}<extra></extra>",
         "legendgroup": "IFT",
         "line": {
          "color": "#636efa",
          "dash": "solid"
         },
         "marker": {
          "symbol": "circle"
         },
         "mode": "lines",
         "name": "IFT",
         "orientation": "v",
         "showlegend": true,
         "type": "scatter",
         "x": [
          "0_mid",
          "0_post",
          "1_mid",
          "1_post",
          "2_mid",
          "2_post",
          "3_mid",
          "3_post",
          "4_mid",
          "4_post",
          "5_mid",
          "5_post",
          "6_mid",
          "6_post",
          "7_mid",
          "7_post",
          "8_mid",
          "8_post",
          "9_mid",
          "9_post",
          "10_mid",
          "10_post",
          "11_mid",
          "11_post",
          "12_mid",
          "12_post",
          "13_mid",
          "13_post",
          "14_mid",
          "14_post",
          "15_mid",
          "15_post",
          "16_mid",
          "16_post",
          "17_mid",
          "17_post",
          "18_mid",
          "18_post",
          "19_mid",
          "19_post",
          "20_mid",
          "20_post",
          "21_mid",
          "21_post",
          "22_mid",
          "22_post",
          "23_mid",
          "23_post"
         ],
         "xaxis": "x",
         "y": [
          -16.3011531829834,
          -44.7659912109375,
          -45.05807876586914,
          -39.371707916259766,
          -38.63463592529297,
          -33.19145965576172,
          -33.87068557739258,
          -24.648637771606445,
          -28.10481834411621,
          -31.01326560974121,
          -27.97208595275879,
          -23.421524047851562,
          -17.876379013061523,
          -17.43829917907715,
          -11.327155113220215,
          -10.326935768127441,
          -3.5547337532043457,
          -4.5218281745910645,
          -0.0021289559081196785,
          -2.975830316543579,
          -8.344646857949556e-07,
          -4.768370445162873e-07,
          0,
          0,
          0,
          0,
          0,
          0,
          0,
          0,
          0,
          0,
          0,
          0,
          0,
          0,
          0,
          0,
          0,
          0,
          0,
          0,
          0,
          0,
          0,
          0,
          0,
          0
         ],
         "yaxis": "y"
        },
        {
         "hovertemplate": "Model=GPT2<br>Layer=%{x}<br>neg_logprob=%{y}<extra></extra>",
         "legendgroup": "GPT2",
         "line": {
          "color": "#EF553B",
          "dash": "solid"
         },
         "marker": {
          "symbol": "circle"
         },
         "mode": "lines",
         "name": "GPT2",
         "orientation": "v",
         "showlegend": true,
         "type": "scatter",
         "x": [
          "0_mid",
          "0_post",
          "1_mid",
          "1_post",
          "2_mid",
          "2_post",
          "3_mid",
          "3_post",
          "4_mid",
          "4_post",
          "5_mid",
          "5_post",
          "6_mid",
          "6_post",
          "7_mid",
          "7_post",
          "8_mid",
          "8_post",
          "9_mid",
          "9_post",
          "10_mid",
          "10_post",
          "11_mid",
          "11_post",
          "12_mid",
          "12_post",
          "13_mid",
          "13_post",
          "14_mid",
          "14_post",
          "15_mid",
          "15_post",
          "16_mid",
          "16_post",
          "17_mid",
          "17_post",
          "18_mid",
          "18_post",
          "19_mid",
          "19_post",
          "20_mid",
          "20_post",
          "21_mid",
          "21_post",
          "22_mid",
          "22_post",
          "23_mid",
          "23_post"
         ],
         "xaxis": "x",
         "y": [
          -16.331398010253906,
          -49.13566589355469,
          -48.76317596435547,
          -43.98080825805664,
          -42.553550720214844,
          -39.40459442138672,
          -40.1713752746582,
          -30.53426742553711,
          -33.89130783081055,
          -36.701026916503906,
          -33.541046142578125,
          -26.5595760345459,
          -18.931856155395508,
          -19.862045288085938,
          -13.906291961669922,
          -13.198907852172852,
          -4.325474262237549,
          -0.3499564528465271,
          -9.77468371274881e-05,
          -0.0003040566807612777,
          0,
          0,
          0,
          0,
          0,
          0,
          0,
          0,
          0,
          0,
          0,
          0,
          0,
          0,
          0,
          0,
          0,
          0,
          0,
          0,
          0,
          0,
          0,
          0,
          0,
          0,
          0,
          0
         ],
         "yaxis": "y"
        },
        {
         "hovertemplate": "Model=IFT_10<br>Layer=%{x}<br>neg_logprob=%{y}<extra></extra>",
         "legendgroup": "IFT_10",
         "line": {
          "color": "#00cc96",
          "dash": "solid"
         },
         "marker": {
          "symbol": "circle"
         },
         "mode": "lines",
         "name": "IFT_10",
         "orientation": "v",
         "showlegend": true,
         "type": "scatter",
         "x": [
          "0_mid",
          "0_post",
          "1_mid",
          "1_post",
          "2_mid",
          "2_post",
          "3_mid",
          "3_post",
          "4_mid",
          "4_post",
          "5_mid",
          "5_post",
          "6_mid",
          "6_post",
          "7_mid",
          "7_post",
          "8_mid",
          "8_post",
          "9_mid",
          "9_post",
          "10_mid",
          "10_post",
          "11_mid",
          "11_post",
          "12_mid",
          "12_post",
          "13_mid",
          "13_post",
          "14_mid",
          "14_post",
          "15_mid",
          "15_post",
          "16_mid",
          "16_post",
          "17_mid",
          "17_post",
          "18_mid",
          "18_post",
          "19_mid",
          "19_post",
          "20_mid",
          "20_post",
          "21_mid",
          "21_post",
          "22_mid",
          "22_post",
          "23_mid",
          "23_post"
         ],
         "xaxis": "x",
         "y": [
          -15.727981567382812,
          -44.47332763671875,
          -42.28847885131836,
          -41.83866500854492,
          -39.51075744628906,
          -37.9279670715332,
          -36.4616813659668,
          -28.476877212524414,
          -29.490026473999023,
          -30.804372787475586,
          -30.823328018188477,
          -28.644119262695312,
          -29.550867080688477,
          -33.94017028808594,
          -26.439661026000977,
          -22.446321487426758,
          -24.704822540283203,
          -24.279922485351562,
          -24.25287628173828,
          -26.308074951171875,
          -42.72889709472656,
          -40.14345932006836,
          -54.24201965332031,
          -53.118568420410156,
          -77.41127014160156,
          -84.6920166015625,
          -82.62364959716797,
          -89.92701721191406,
          -108.77375793457031,
          -119.75050354003906,
          -115.83416748046875,
          -133.027587890625,
          -117.46342468261719,
          -120.79849243164062,
          -99.43919372558594,
          -92.95985412597656,
          -94.6131591796875,
          -105.01422119140625,
          -80.40704345703125,
          -89.05487060546875,
          -86.83074951171875,
          -96.15805053710938,
          -89.629150390625,
          -108.19577026367188,
          -103.59518432617188,
          -115.11434936523438,
          -108.52099609375,
          -178.7974853515625
         ],
         "yaxis": "y"
        },
        {
         "hovertemplate": "Model=GPT2_10<br>Layer=%{x}<br>neg_logprob=%{y}<extra></extra>",
         "legendgroup": "GPT2_10",
         "line": {
          "color": "#ab63fa",
          "dash": "solid"
         },
         "marker": {
          "symbol": "circle"
         },
         "mode": "lines",
         "name": "GPT2_10",
         "orientation": "v",
         "showlegend": true,
         "type": "scatter",
         "x": [
          "0_mid",
          "0_post",
          "1_mid",
          "1_post",
          "2_mid",
          "2_post",
          "3_mid",
          "3_post",
          "4_mid",
          "4_post",
          "5_mid",
          "5_post",
          "6_mid",
          "6_post",
          "7_mid",
          "7_post",
          "8_mid",
          "8_post",
          "9_mid",
          "9_post",
          "10_mid",
          "10_post",
          "11_mid",
          "11_post",
          "12_mid",
          "12_post",
          "13_mid",
          "13_post",
          "14_mid",
          "14_post",
          "15_mid",
          "15_post",
          "16_mid",
          "16_post",
          "17_mid",
          "17_post",
          "18_mid",
          "18_post",
          "19_mid",
          "19_post",
          "20_mid",
          "20_post",
          "21_mid",
          "21_post",
          "22_mid",
          "22_post",
          "23_mid",
          "23_post"
         ],
         "xaxis": "x",
         "y": [
          -15.787188529968262,
          -47.70305633544922,
          -46.25111389160156,
          -46.86002731323242,
          -45.77433395385742,
          -45.666996002197266,
          -44.05412673950195,
          -36.876583099365234,
          -37.430870056152344,
          -38.33294677734375,
          -37.59186935424805,
          -32.53006362915039,
          -33.071075439453125,
          -38.48495864868164,
          -30.540191650390625,
          -27.23050880432129,
          -24.66189956665039,
          -22.362159729003906,
          -32.157203674316406,
          -32.777252197265625,
          -57.11207580566406,
          -55.853546142578125,
          -68.12842559814453,
          -67.94578552246094,
          -90.18370056152344,
          -98.01405334472656,
          -101.76251220703125,
          -107.36943054199219,
          -131.44131469726562,
          -143.80963134765625,
          -142.1286163330078,
          -155.0950164794922,
          -137.46788024902344,
          -141.74615478515625,
          -133.1378936767578,
          -132.11727905273438,
          -127.04507446289062,
          -139.81204223632812,
          -122.59271240234375,
          -132.45779418945312,
          -137.59661865234375,
          -144.8040771484375,
          -126.36026000976562,
          -163.599365234375,
          -158.44573974609375,
          -137.1904296875,
          -137.45330810546875,
          -199.18869018554688
         ],
         "yaxis": "y"
        },
        {
         "hovertemplate": "Model=IFT_100<br>Layer=%{x}<br>neg_logprob=%{y}<extra></extra>",
         "legendgroup": "IFT_100",
         "line": {
          "color": "#FFA15A",
          "dash": "solid"
         },
         "marker": {
          "symbol": "circle"
         },
         "mode": "lines",
         "name": "IFT_100",
         "orientation": "v",
         "showlegend": true,
         "type": "scatter",
         "x": [
          "0_mid",
          "0_post",
          "1_mid",
          "1_post",
          "2_mid",
          "2_post",
          "3_mid",
          "3_post",
          "4_mid",
          "4_post",
          "5_mid",
          "5_post",
          "6_mid",
          "6_post",
          "7_mid",
          "7_post",
          "8_mid",
          "8_post",
          "9_mid",
          "9_post",
          "10_mid",
          "10_post",
          "11_mid",
          "11_post",
          "12_mid",
          "12_post",
          "13_mid",
          "13_post",
          "14_mid",
          "14_post",
          "15_mid",
          "15_post",
          "16_mid",
          "16_post",
          "17_mid",
          "17_post",
          "18_mid",
          "18_post",
          "19_mid",
          "19_post",
          "20_mid",
          "20_post",
          "21_mid",
          "21_post",
          "22_mid",
          "22_post",
          "23_mid",
          "23_post",
          "0_mid",
          "0_post",
          "1_mid",
          "1_post",
          "2_mid",
          "2_post",
          "3_mid",
          "3_post",
          "4_mid",
          "4_post",
          "5_mid",
          "5_post",
          "6_mid",
          "6_post",
          "7_mid",
          "7_post",
          "8_mid",
          "8_post",
          "9_mid",
          "9_post",
          "10_mid",
          "10_post",
          "11_mid",
          "11_post",
          "12_mid",
          "12_post",
          "13_mid",
          "13_post",
          "14_mid",
          "14_post",
          "15_mid",
          "15_post",
          "16_mid",
          "16_post",
          "17_mid",
          "17_post",
          "18_mid",
          "18_post",
          "19_mid",
          "19_post",
          "20_mid",
          "20_post",
          "21_mid",
          "21_post",
          "22_mid",
          "22_post",
          "23_mid",
          "23_post"
         ],
         "xaxis": "x",
         "y": [
          -15.435367584228516,
          -37.09546661376953,
          -38.15660095214844,
          -31.426355361938477,
          -33.98609161376953,
          -33.145381927490234,
          -37.71847915649414,
          -31.107688903808594,
          -33.171836853027344,
          -31.602882385253906,
          -35.6478157043457,
          -32.37614059448242,
          -34.55158615112305,
          -30.866403579711914,
          -33.625858306884766,
          -33.76145935058594,
          -31.5369873046875,
          -34.31302261352539,
          -36.14860534667969,
          -36.61751174926758,
          -56.598655700683594,
          -53.01317596435547,
          -63.66204833984375,
          -72.24919891357422,
          -110.2432861328125,
          -123.80299377441406,
          -123.36174011230469,
          -134.91445922851562,
          -161.63023376464844,
          -175.61654663085938,
          -179.872802734375,
          -194.59730529785156,
          -188.7666473388672,
          -207.50291442871094,
          -223.80377197265625,
          -228.1703338623047,
          -227.6555938720703,
          -241.96104431152344,
          -228.91506958007812,
          -210.95816040039062,
          -216.15878295898438,
          -248.68373107910156,
          -263.1265563964844,
          -281.6788024902344,
          -286.26702880859375,
          -281.48516845703125,
          -313.41729736328125,
          -373.4185791015625,
          -15.435367584228516,
          -37.09546661376953,
          -38.15660095214844,
          -31.426355361938477,
          -33.98609161376953,
          -33.145381927490234,
          -37.71847915649414,
          -31.107688903808594,
          -33.171836853027344,
          -31.602882385253906,
          -35.6478157043457,
          -32.37614059448242,
          -34.55158615112305,
          -30.866403579711914,
          -33.625858306884766,
          -33.76145935058594,
          -31.5369873046875,
          -34.31302261352539,
          -36.14860534667969,
          -36.61751174926758,
          -56.598655700683594,
          -53.01317596435547,
          -63.66204833984375,
          -72.24919891357422,
          -110.2432861328125,
          -123.80299377441406,
          -123.36174011230469,
          -134.91445922851562,
          -161.63023376464844,
          -175.61654663085938,
          -179.872802734375,
          -194.59730529785156,
          -188.7666473388672,
          -207.50291442871094,
          -223.80377197265625,
          -228.1703338623047,
          -227.6555938720703,
          -241.96104431152344,
          -228.91506958007812,
          -210.95816040039062,
          -216.15878295898438,
          -248.68373107910156,
          -263.1265563964844,
          -281.6788024902344,
          -286.26702880859375,
          -281.48516845703125,
          -313.41729736328125,
          -373.4185791015625
         ],
         "yaxis": "y"
        },
        {
         "hovertemplate": "Model=GPT2_100<br>Layer=%{x}<br>neg_logprob=%{y}<extra></extra>",
         "legendgroup": "GPT2_100",
         "line": {
          "color": "#19d3f3",
          "dash": "solid"
         },
         "marker": {
          "symbol": "circle"
         },
         "mode": "lines",
         "name": "GPT2_100",
         "orientation": "v",
         "showlegend": true,
         "type": "scatter",
         "x": [
          "0_mid",
          "0_post",
          "1_mid",
          "1_post",
          "2_mid",
          "2_post",
          "3_mid",
          "3_post",
          "4_mid",
          "4_post",
          "5_mid",
          "5_post",
          "6_mid",
          "6_post",
          "7_mid",
          "7_post",
          "8_mid",
          "8_post",
          "9_mid",
          "9_post",
          "10_mid",
          "10_post",
          "11_mid",
          "11_post",
          "12_mid",
          "12_post",
          "13_mid",
          "13_post",
          "14_mid",
          "14_post",
          "15_mid",
          "15_post",
          "16_mid",
          "16_post",
          "17_mid",
          "17_post",
          "18_mid",
          "18_post",
          "19_mid",
          "19_post",
          "20_mid",
          "20_post",
          "21_mid",
          "21_post",
          "22_mid",
          "22_post",
          "23_mid",
          "23_post",
          "0_mid",
          "0_post",
          "1_mid",
          "1_post",
          "2_mid",
          "2_post",
          "3_mid",
          "3_post",
          "4_mid",
          "4_post",
          "5_mid",
          "5_post",
          "6_mid",
          "6_post",
          "7_mid",
          "7_post",
          "8_mid",
          "8_post",
          "9_mid",
          "9_post",
          "10_mid",
          "10_post",
          "11_mid",
          "11_post",
          "12_mid",
          "12_post",
          "13_mid",
          "13_post",
          "14_mid",
          "14_post",
          "15_mid",
          "15_post",
          "16_mid",
          "16_post",
          "17_mid",
          "17_post",
          "18_mid",
          "18_post",
          "19_mid",
          "19_post",
          "20_mid",
          "20_post",
          "21_mid",
          "21_post",
          "22_mid",
          "22_post",
          "23_mid",
          "23_post"
         ],
         "xaxis": "x",
         "y": [
          -15.497286796569824,
          -40.09423828125,
          -40.45397186279297,
          -34.980072021484375,
          -37.55288314819336,
          -39.76558303833008,
          -45.01052474975586,
          -37.947105407714844,
          -41.591007232666016,
          -41.61359405517578,
          -45.661834716796875,
          -39.89201736450195,
          -38.43027877807617,
          -36.337406158447266,
          -37.88767623901367,
          -38.884613037109375,
          -34.58527755737305,
          -33.0655403137207,
          -47.369964599609375,
          -45.18451690673828,
          -72.65779113769531,
          -71.60247039794922,
          -84.39460754394531,
          -90.33052062988281,
          -123.99241638183594,
          -135.89561462402344,
          -140.32632446289062,
          -152.04483032226562,
          -181.34439086914062,
          -202.78585815429688,
          -208.3941192626953,
          -219.3236846923828,
          -216.2215118408203,
          -238.76202392578125,
          -260.632568359375,
          -261.12139892578125,
          -255.24559020996094,
          -277.99609375,
          -265.2020263671875,
          -268.61181640625,
          -279.3431396484375,
          -297.0119934082031,
          -295.37725830078125,
          -307.46282958984375,
          -305.7698669433594,
          -277.72637939453125,
          -278.4759521484375,
          -335.60638427734375,
          -15.497286796569824,
          -40.09423828125,
          -40.45397186279297,
          -34.980072021484375,
          -37.55288314819336,
          -39.76558303833008,
          -45.01052474975586,
          -37.947105407714844,
          -41.591007232666016,
          -41.61359405517578,
          -45.661834716796875,
          -39.89201736450195,
          -38.43027877807617,
          -36.337406158447266,
          -37.88767623901367,
          -38.884613037109375,
          -34.58527755737305,
          -33.0655403137207,
          -47.369964599609375,
          -45.18451690673828,
          -72.65779113769531,
          -71.60247039794922,
          -84.39460754394531,
          -90.33052062988281,
          -123.99241638183594,
          -135.89561462402344,
          -140.32632446289062,
          -152.04483032226562,
          -181.34439086914062,
          -202.78585815429688,
          -208.3941192626953,
          -219.3236846923828,
          -216.2215118408203,
          -238.76202392578125,
          -260.632568359375,
          -261.12139892578125,
          -255.24559020996094,
          -277.99609375,
          -265.2020263671875,
          -268.61181640625,
          -279.3431396484375,
          -297.0119934082031,
          -295.37725830078125,
          -307.46282958984375,
          -305.7698669433594,
          -277.72637939453125,
          -278.4759521484375,
          -335.60638427734375
         ],
         "yaxis": "y"
        },
        {
         "hovertemplate": "Model=IFT_10000<br>Layer=%{x}<br>neg_logprob=%{y}<extra></extra>",
         "legendgroup": "IFT_10000",
         "line": {
          "color": "#FF6692",
          "dash": "solid"
         },
         "marker": {
          "symbol": "circle"
         },
         "mode": "lines",
         "name": "IFT_10000",
         "orientation": "v",
         "showlegend": true,
         "type": "scatter",
         "x": [
          "0_mid",
          "0_post",
          "1_mid",
          "1_post",
          "2_mid",
          "2_post",
          "3_mid",
          "3_post",
          "4_mid",
          "4_post",
          "5_mid",
          "5_post",
          "6_mid",
          "6_post",
          "7_mid",
          "7_post",
          "8_mid",
          "8_post",
          "9_mid",
          "9_post",
          "10_mid",
          "10_post",
          "11_mid",
          "11_post",
          "12_mid",
          "12_post",
          "13_mid",
          "13_post",
          "14_mid",
          "14_post",
          "15_mid",
          "15_post",
          "16_mid",
          "16_post",
          "17_mid",
          "17_post",
          "18_mid",
          "18_post",
          "19_mid",
          "19_post",
          "20_mid",
          "20_post",
          "21_mid",
          "21_post",
          "22_mid",
          "22_post",
          "23_mid",
          "23_post"
         ],
         "xaxis": "x",
         "y": [
          -15.623676300048828,
          -57.6364860534668,
          -60.23390197753906,
          -55.35166549682617,
          -62.242530822753906,
          -55.63936233520508,
          -62.08224868774414,
          -61.294158935546875,
          -61.909385681152344,
          -58.40281677246094,
          -59.78449630737305,
          -51.528011322021484,
          -57.19660568237305,
          -60.676353454589844,
          -55.9055290222168,
          -61.60354995727539,
          -61.10431671142578,
          -70.25847625732422,
          -75.23400115966797,
          -75.88526916503906,
          -97.24195098876953,
          -90.71781921386719,
          -107.92869567871094,
          -117.81228637695312,
          -154.20619201660156,
          -170.35928344726562,
          -178.46304321289062,
          -185.6991424560547,
          -208.28646850585938,
          -233.9227752685547,
          -235.41876220703125,
          -253.56109619140625,
          -264.16925048828125,
          -282.5748291015625,
          -311.79248046875,
          -302.229248046875,
          -303.159912109375,
          -331.804443359375,
          -325.1621398925781,
          -316.1806640625,
          -332.2207946777344,
          -347.4333801269531,
          -381.1199035644531,
          -414.6904296875,
          -427.8259582519531,
          -495.7365417480469,
          -567.4407958984375,
          -621.0148315429688
         ],
         "yaxis": "y"
        },
        {
         "hovertemplate": "Model=GPT2_10000<br>Layer=%{x}<br>neg_logprob=%{y}<extra></extra>",
         "legendgroup": "GPT2_10000",
         "line": {
          "color": "#B6E880",
          "dash": "solid"
         },
         "marker": {
          "symbol": "circle"
         },
         "mode": "lines",
         "name": "GPT2_10000",
         "orientation": "v",
         "showlegend": true,
         "type": "scatter",
         "x": [
          "0_mid",
          "0_post",
          "1_mid",
          "1_post",
          "2_mid",
          "2_post",
          "3_mid",
          "3_post",
          "4_mid",
          "4_post",
          "5_mid",
          "5_post",
          "6_mid",
          "6_post",
          "7_mid",
          "7_post",
          "8_mid",
          "8_post",
          "9_mid",
          "9_post",
          "10_mid",
          "10_post",
          "11_mid",
          "11_post",
          "12_mid",
          "12_post",
          "13_mid",
          "13_post",
          "14_mid",
          "14_post",
          "15_mid",
          "15_post",
          "16_mid",
          "16_post",
          "17_mid",
          "17_post",
          "18_mid",
          "18_post",
          "19_mid",
          "19_post",
          "20_mid",
          "20_post",
          "21_mid",
          "21_post",
          "22_mid",
          "22_post",
          "23_mid",
          "23_post"
         ],
         "xaxis": "x",
         "y": [
          -15.823694229125977,
          -63.587886810302734,
          -66.79903411865234,
          -62.508819580078125,
          -69.25126647949219,
          -65.7921142578125,
          -72.41743469238281,
          -68.1376724243164,
          -71.73322296142578,
          -70.6092529296875,
          -72.21643829345703,
          -60.98918533325195,
          -64.3496322631836,
          -67.39842224121094,
          -64.7220687866211,
          -68.32730102539062,
          -66.99217987060547,
          -72.30142974853516,
          -90.99472045898438,
          -85.32977294921875,
          -119.75519561767578,
          -117.23582458496094,
          -133.91549682617188,
          -143.1878662109375,
          -182.1617431640625,
          -195.21261596679688,
          -208.51544189453125,
          -219.07276916503906,
          -248.87872314453125,
          -272.61962890625,
          -278.5238342285156,
          -295.539794921875,
          -307.15179443359375,
          -325.8145751953125,
          -356.76898193359375,
          -347.3984680175781,
          -349.894287109375,
          -378.1722106933594,
          -375.8895263671875,
          -379.0202331542969,
          -399.9092102050781,
          -413.6247253417969,
          -431.6171569824219,
          -475.77496337890625,
          -480.4964599609375,
          -478.60052490234375,
          -477.78814697265625,
          -528.8123779296875
         ],
         "yaxis": "y"
        }
       ],
       "layout": {
        "legend": {
         "title": {
          "text": "Model"
         },
         "tracegroupgap": 0
        },
        "margin": {
         "t": 60
        },
        "template": {
         "data": {
          "bar": [
           {
            "error_x": {
             "color": "#2a3f5f"
            },
            "error_y": {
             "color": "#2a3f5f"
            },
            "marker": {
             "line": {
              "color": "#E5ECF6",
              "width": 0.5
             },
             "pattern": {
              "fillmode": "overlay",
              "size": 10,
              "solidity": 0.2
             }
            },
            "type": "bar"
           }
          ],
          "barpolar": [
           {
            "marker": {
             "line": {
              "color": "#E5ECF6",
              "width": 0.5
             },
             "pattern": {
              "fillmode": "overlay",
              "size": 10,
              "solidity": 0.2
             }
            },
            "type": "barpolar"
           }
          ],
          "carpet": [
           {
            "aaxis": {
             "endlinecolor": "#2a3f5f",
             "gridcolor": "white",
             "linecolor": "white",
             "minorgridcolor": "white",
             "startlinecolor": "#2a3f5f"
            },
            "baxis": {
             "endlinecolor": "#2a3f5f",
             "gridcolor": "white",
             "linecolor": "white",
             "minorgridcolor": "white",
             "startlinecolor": "#2a3f5f"
            },
            "type": "carpet"
           }
          ],
          "choropleth": [
           {
            "colorbar": {
             "outlinewidth": 0,
             "ticks": ""
            },
            "type": "choropleth"
           }
          ],
          "contour": [
           {
            "colorbar": {
             "outlinewidth": 0,
             "ticks": ""
            },
            "colorscale": [
             [
              0,
              "#0d0887"
             ],
             [
              0.1111111111111111,
              "#46039f"
             ],
             [
              0.2222222222222222,
              "#7201a8"
             ],
             [
              0.3333333333333333,
              "#9c179e"
             ],
             [
              0.4444444444444444,
              "#bd3786"
             ],
             [
              0.5555555555555556,
              "#d8576b"
             ],
             [
              0.6666666666666666,
              "#ed7953"
             ],
             [
              0.7777777777777778,
              "#fb9f3a"
             ],
             [
              0.8888888888888888,
              "#fdca26"
             ],
             [
              1,
              "#f0f921"
             ]
            ],
            "type": "contour"
           }
          ],
          "contourcarpet": [
           {
            "colorbar": {
             "outlinewidth": 0,
             "ticks": ""
            },
            "type": "contourcarpet"
           }
          ],
          "heatmap": [
           {
            "colorbar": {
             "outlinewidth": 0,
             "ticks": ""
            },
            "colorscale": [
             [
              0,
              "#0d0887"
             ],
             [
              0.1111111111111111,
              "#46039f"
             ],
             [
              0.2222222222222222,
              "#7201a8"
             ],
             [
              0.3333333333333333,
              "#9c179e"
             ],
             [
              0.4444444444444444,
              "#bd3786"
             ],
             [
              0.5555555555555556,
              "#d8576b"
             ],
             [
              0.6666666666666666,
              "#ed7953"
             ],
             [
              0.7777777777777778,
              "#fb9f3a"
             ],
             [
              0.8888888888888888,
              "#fdca26"
             ],
             [
              1,
              "#f0f921"
             ]
            ],
            "type": "heatmap"
           }
          ],
          "heatmapgl": [
           {
            "colorbar": {
             "outlinewidth": 0,
             "ticks": ""
            },
            "colorscale": [
             [
              0,
              "#0d0887"
             ],
             [
              0.1111111111111111,
              "#46039f"
             ],
             [
              0.2222222222222222,
              "#7201a8"
             ],
             [
              0.3333333333333333,
              "#9c179e"
             ],
             [
              0.4444444444444444,
              "#bd3786"
             ],
             [
              0.5555555555555556,
              "#d8576b"
             ],
             [
              0.6666666666666666,
              "#ed7953"
             ],
             [
              0.7777777777777778,
              "#fb9f3a"
             ],
             [
              0.8888888888888888,
              "#fdca26"
             ],
             [
              1,
              "#f0f921"
             ]
            ],
            "type": "heatmapgl"
           }
          ],
          "histogram": [
           {
            "marker": {
             "pattern": {
              "fillmode": "overlay",
              "size": 10,
              "solidity": 0.2
             }
            },
            "type": "histogram"
           }
          ],
          "histogram2d": [
           {
            "colorbar": {
             "outlinewidth": 0,
             "ticks": ""
            },
            "colorscale": [
             [
              0,
              "#0d0887"
             ],
             [
              0.1111111111111111,
              "#46039f"
             ],
             [
              0.2222222222222222,
              "#7201a8"
             ],
             [
              0.3333333333333333,
              "#9c179e"
             ],
             [
              0.4444444444444444,
              "#bd3786"
             ],
             [
              0.5555555555555556,
              "#d8576b"
             ],
             [
              0.6666666666666666,
              "#ed7953"
             ],
             [
              0.7777777777777778,
              "#fb9f3a"
             ],
             [
              0.8888888888888888,
              "#fdca26"
             ],
             [
              1,
              "#f0f921"
             ]
            ],
            "type": "histogram2d"
           }
          ],
          "histogram2dcontour": [
           {
            "colorbar": {
             "outlinewidth": 0,
             "ticks": ""
            },
            "colorscale": [
             [
              0,
              "#0d0887"
             ],
             [
              0.1111111111111111,
              "#46039f"
             ],
             [
              0.2222222222222222,
              "#7201a8"
             ],
             [
              0.3333333333333333,
              "#9c179e"
             ],
             [
              0.4444444444444444,
              "#bd3786"
             ],
             [
              0.5555555555555556,
              "#d8576b"
             ],
             [
              0.6666666666666666,
              "#ed7953"
             ],
             [
              0.7777777777777778,
              "#fb9f3a"
             ],
             [
              0.8888888888888888,
              "#fdca26"
             ],
             [
              1,
              "#f0f921"
             ]
            ],
            "type": "histogram2dcontour"
           }
          ],
          "mesh3d": [
           {
            "colorbar": {
             "outlinewidth": 0,
             "ticks": ""
            },
            "type": "mesh3d"
           }
          ],
          "parcoords": [
           {
            "line": {
             "colorbar": {
              "outlinewidth": 0,
              "ticks": ""
             }
            },
            "type": "parcoords"
           }
          ],
          "pie": [
           {
            "automargin": true,
            "type": "pie"
           }
          ],
          "scatter": [
           {
            "fillpattern": {
             "fillmode": "overlay",
             "size": 10,
             "solidity": 0.2
            },
            "type": "scatter"
           }
          ],
          "scatter3d": [
           {
            "line": {
             "colorbar": {
              "outlinewidth": 0,
              "ticks": ""
             }
            },
            "marker": {
             "colorbar": {
              "outlinewidth": 0,
              "ticks": ""
             }
            },
            "type": "scatter3d"
           }
          ],
          "scattercarpet": [
           {
            "marker": {
             "colorbar": {
              "outlinewidth": 0,
              "ticks": ""
             }
            },
            "type": "scattercarpet"
           }
          ],
          "scattergeo": [
           {
            "marker": {
             "colorbar": {
              "outlinewidth": 0,
              "ticks": ""
             }
            },
            "type": "scattergeo"
           }
          ],
          "scattergl": [
           {
            "marker": {
             "colorbar": {
              "outlinewidth": 0,
              "ticks": ""
             }
            },
            "type": "scattergl"
           }
          ],
          "scattermapbox": [
           {
            "marker": {
             "colorbar": {
              "outlinewidth": 0,
              "ticks": ""
             }
            },
            "type": "scattermapbox"
           }
          ],
          "scatterpolar": [
           {
            "marker": {
             "colorbar": {
              "outlinewidth": 0,
              "ticks": ""
             }
            },
            "type": "scatterpolar"
           }
          ],
          "scatterpolargl": [
           {
            "marker": {
             "colorbar": {
              "outlinewidth": 0,
              "ticks": ""
             }
            },
            "type": "scatterpolargl"
           }
          ],
          "scatterternary": [
           {
            "marker": {
             "colorbar": {
              "outlinewidth": 0,
              "ticks": ""
             }
            },
            "type": "scatterternary"
           }
          ],
          "surface": [
           {
            "colorbar": {
             "outlinewidth": 0,
             "ticks": ""
            },
            "colorscale": [
             [
              0,
              "#0d0887"
             ],
             [
              0.1111111111111111,
              "#46039f"
             ],
             [
              0.2222222222222222,
              "#7201a8"
             ],
             [
              0.3333333333333333,
              "#9c179e"
             ],
             [
              0.4444444444444444,
              "#bd3786"
             ],
             [
              0.5555555555555556,
              "#d8576b"
             ],
             [
              0.6666666666666666,
              "#ed7953"
             ],
             [
              0.7777777777777778,
              "#fb9f3a"
             ],
             [
              0.8888888888888888,
              "#fdca26"
             ],
             [
              1,
              "#f0f921"
             ]
            ],
            "type": "surface"
           }
          ],
          "table": [
           {
            "cells": {
             "fill": {
              "color": "#EBF0F8"
             },
             "line": {
              "color": "white"
             }
            },
            "header": {
             "fill": {
              "color": "#C8D4E3"
             },
             "line": {
              "color": "white"
             }
            },
            "type": "table"
           }
          ]
         },
         "layout": {
          "annotationdefaults": {
           "arrowcolor": "#2a3f5f",
           "arrowhead": 0,
           "arrowwidth": 1
          },
          "autotypenumbers": "strict",
          "coloraxis": {
           "colorbar": {
            "outlinewidth": 0,
            "ticks": ""
           }
          },
          "colorscale": {
           "diverging": [
            [
             0,
             "#8e0152"
            ],
            [
             0.1,
             "#c51b7d"
            ],
            [
             0.2,
             "#de77ae"
            ],
            [
             0.3,
             "#f1b6da"
            ],
            [
             0.4,
             "#fde0ef"
            ],
            [
             0.5,
             "#f7f7f7"
            ],
            [
             0.6,
             "#e6f5d0"
            ],
            [
             0.7,
             "#b8e186"
            ],
            [
             0.8,
             "#7fbc41"
            ],
            [
             0.9,
             "#4d9221"
            ],
            [
             1,
             "#276419"
            ]
           ],
           "sequential": [
            [
             0,
             "#0d0887"
            ],
            [
             0.1111111111111111,
             "#46039f"
            ],
            [
             0.2222222222222222,
             "#7201a8"
            ],
            [
             0.3333333333333333,
             "#9c179e"
            ],
            [
             0.4444444444444444,
             "#bd3786"
            ],
            [
             0.5555555555555556,
             "#d8576b"
            ],
            [
             0.6666666666666666,
             "#ed7953"
            ],
            [
             0.7777777777777778,
             "#fb9f3a"
            ],
            [
             0.8888888888888888,
             "#fdca26"
            ],
            [
             1,
             "#f0f921"
            ]
           ],
           "sequentialminus": [
            [
             0,
             "#0d0887"
            ],
            [
             0.1111111111111111,
             "#46039f"
            ],
            [
             0.2222222222222222,
             "#7201a8"
            ],
            [
             0.3333333333333333,
             "#9c179e"
            ],
            [
             0.4444444444444444,
             "#bd3786"
            ],
            [
             0.5555555555555556,
             "#d8576b"
            ],
            [
             0.6666666666666666,
             "#ed7953"
            ],
            [
             0.7777777777777778,
             "#fb9f3a"
            ],
            [
             0.8888888888888888,
             "#fdca26"
            ],
            [
             1,
             "#f0f921"
            ]
           ]
          },
          "colorway": [
           "#636efa",
           "#EF553B",
           "#00cc96",
           "#ab63fa",
           "#FFA15A",
           "#19d3f3",
           "#FF6692",
           "#B6E880",
           "#FF97FF",
           "#FECB52"
          ],
          "font": {
           "color": "#2a3f5f"
          },
          "geo": {
           "bgcolor": "white",
           "lakecolor": "white",
           "landcolor": "#E5ECF6",
           "showlakes": true,
           "showland": true,
           "subunitcolor": "white"
          },
          "hoverlabel": {
           "align": "left"
          },
          "hovermode": "closest",
          "mapbox": {
           "style": "light"
          },
          "paper_bgcolor": "white",
          "plot_bgcolor": "#E5ECF6",
          "polar": {
           "angularaxis": {
            "gridcolor": "white",
            "linecolor": "white",
            "ticks": ""
           },
           "bgcolor": "#E5ECF6",
           "radialaxis": {
            "gridcolor": "white",
            "linecolor": "white",
            "ticks": ""
           }
          },
          "scene": {
           "xaxis": {
            "backgroundcolor": "#E5ECF6",
            "gridcolor": "white",
            "gridwidth": 2,
            "linecolor": "white",
            "showbackground": true,
            "ticks": "",
            "zerolinecolor": "white"
           },
           "yaxis": {
            "backgroundcolor": "#E5ECF6",
            "gridcolor": "white",
            "gridwidth": 2,
            "linecolor": "white",
            "showbackground": true,
            "ticks": "",
            "zerolinecolor": "white"
           },
           "zaxis": {
            "backgroundcolor": "#E5ECF6",
            "gridcolor": "white",
            "gridwidth": 2,
            "linecolor": "white",
            "showbackground": true,
            "ticks": "",
            "zerolinecolor": "white"
           }
          },
          "shapedefaults": {
           "line": {
            "color": "#2a3f5f"
           }
          },
          "ternary": {
           "aaxis": {
            "gridcolor": "white",
            "linecolor": "white",
            "ticks": ""
           },
           "baxis": {
            "gridcolor": "white",
            "linecolor": "white",
            "ticks": ""
           },
           "bgcolor": "#E5ECF6",
           "caxis": {
            "gridcolor": "white",
            "linecolor": "white",
            "ticks": ""
           }
          },
          "title": {
           "x": 0.05
          },
          "xaxis": {
           "automargin": true,
           "gridcolor": "white",
           "linecolor": "white",
           "ticks": "",
           "title": {
            "standoff": 15
           },
           "zerolinecolor": "white",
           "zerolinewidth": 2
          },
          "yaxis": {
           "automargin": true,
           "gridcolor": "white",
           "linecolor": "white",
           "ticks": "",
           "title": {
            "standoff": 15
           },
           "zerolinecolor": "white",
           "zerolinewidth": 2
          }
         }
        },
        "xaxis": {
         "anchor": "y",
         "domain": [
          0,
          1
         ],
         "title": {
          "text": "Layer"
         }
        },
        "yaxis": {
         "anchor": "x",
         "domain": [
          0,
          1
         ],
         "title": {
          "text": "neg_logprob"
         }
        }
       }
      },
      "text/html": [
       "<div>                            <div id=\"a9011d0d-1aa1-40e1-b259-f3d08e46b570\" class=\"plotly-graph-div\" style=\"height:525px; width:100%;\"></div>            <script type=\"text/javascript\">                require([\"plotly\"], function(Plotly) {                    window.PLOTLYENV=window.PLOTLYENV || {};                                    if (document.getElementById(\"a9011d0d-1aa1-40e1-b259-f3d08e46b570\")) {                    Plotly.newPlot(                        \"a9011d0d-1aa1-40e1-b259-f3d08e46b570\",                        [{\"hovertemplate\":\"Model=IFT\\u003cbr\\u003eLayer=%{x}\\u003cbr\\u003eneg_logprob=%{y}\\u003cextra\\u003e\\u003c\\u002fextra\\u003e\",\"legendgroup\":\"IFT\",\"line\":{\"color\":\"#636efa\",\"dash\":\"solid\"},\"marker\":{\"symbol\":\"circle\"},\"mode\":\"lines\",\"name\":\"IFT\",\"orientation\":\"v\",\"showlegend\":true,\"x\":[\"0_mid\",\"0_post\",\"1_mid\",\"1_post\",\"2_mid\",\"2_post\",\"3_mid\",\"3_post\",\"4_mid\",\"4_post\",\"5_mid\",\"5_post\",\"6_mid\",\"6_post\",\"7_mid\",\"7_post\",\"8_mid\",\"8_post\",\"9_mid\",\"9_post\",\"10_mid\",\"10_post\",\"11_mid\",\"11_post\",\"12_mid\",\"12_post\",\"13_mid\",\"13_post\",\"14_mid\",\"14_post\",\"15_mid\",\"15_post\",\"16_mid\",\"16_post\",\"17_mid\",\"17_post\",\"18_mid\",\"18_post\",\"19_mid\",\"19_post\",\"20_mid\",\"20_post\",\"21_mid\",\"21_post\",\"22_mid\",\"22_post\",\"23_mid\",\"23_post\"],\"xaxis\":\"x\",\"y\":[-16.3011531829834,-44.7659912109375,-45.05807876586914,-39.371707916259766,-38.63463592529297,-33.19145965576172,-33.87068557739258,-24.648637771606445,-28.10481834411621,-31.01326560974121,-27.97208595275879,-23.421524047851562,-17.876379013061523,-17.43829917907715,-11.327155113220215,-10.326935768127441,-3.5547337532043457,-4.5218281745910645,-0.0021289559081196785,-2.975830316543579,-8.344646857949556e-07,-4.768370445162873e-07,0.0,0.0,0.0,0.0,0.0,0.0,0.0,0.0,0.0,0.0,0.0,0.0,0.0,0.0,0.0,0.0,0.0,0.0,0.0,0.0,0.0,0.0,0.0,0.0,0.0,0.0],\"yaxis\":\"y\",\"type\":\"scatter\"},{\"hovertemplate\":\"Model=GPT2\\u003cbr\\u003eLayer=%{x}\\u003cbr\\u003eneg_logprob=%{y}\\u003cextra\\u003e\\u003c\\u002fextra\\u003e\",\"legendgroup\":\"GPT2\",\"line\":{\"color\":\"#EF553B\",\"dash\":\"solid\"},\"marker\":{\"symbol\":\"circle\"},\"mode\":\"lines\",\"name\":\"GPT2\",\"orientation\":\"v\",\"showlegend\":true,\"x\":[\"0_mid\",\"0_post\",\"1_mid\",\"1_post\",\"2_mid\",\"2_post\",\"3_mid\",\"3_post\",\"4_mid\",\"4_post\",\"5_mid\",\"5_post\",\"6_mid\",\"6_post\",\"7_mid\",\"7_post\",\"8_mid\",\"8_post\",\"9_mid\",\"9_post\",\"10_mid\",\"10_post\",\"11_mid\",\"11_post\",\"12_mid\",\"12_post\",\"13_mid\",\"13_post\",\"14_mid\",\"14_post\",\"15_mid\",\"15_post\",\"16_mid\",\"16_post\",\"17_mid\",\"17_post\",\"18_mid\",\"18_post\",\"19_mid\",\"19_post\",\"20_mid\",\"20_post\",\"21_mid\",\"21_post\",\"22_mid\",\"22_post\",\"23_mid\",\"23_post\"],\"xaxis\":\"x\",\"y\":[-16.331398010253906,-49.13566589355469,-48.76317596435547,-43.98080825805664,-42.553550720214844,-39.40459442138672,-40.1713752746582,-30.53426742553711,-33.89130783081055,-36.701026916503906,-33.541046142578125,-26.5595760345459,-18.931856155395508,-19.862045288085938,-13.906291961669922,-13.198907852172852,-4.325474262237549,-0.3499564528465271,-9.77468371274881e-05,-0.0003040566807612777,0.0,0.0,0.0,0.0,0.0,0.0,0.0,0.0,0.0,0.0,0.0,0.0,0.0,0.0,0.0,0.0,0.0,0.0,0.0,0.0,0.0,0.0,0.0,0.0,0.0,0.0,0.0,0.0],\"yaxis\":\"y\",\"type\":\"scatter\"},{\"hovertemplate\":\"Model=IFT_10\\u003cbr\\u003eLayer=%{x}\\u003cbr\\u003eneg_logprob=%{y}\\u003cextra\\u003e\\u003c\\u002fextra\\u003e\",\"legendgroup\":\"IFT_10\",\"line\":{\"color\":\"#00cc96\",\"dash\":\"solid\"},\"marker\":{\"symbol\":\"circle\"},\"mode\":\"lines\",\"name\":\"IFT_10\",\"orientation\":\"v\",\"showlegend\":true,\"x\":[\"0_mid\",\"0_post\",\"1_mid\",\"1_post\",\"2_mid\",\"2_post\",\"3_mid\",\"3_post\",\"4_mid\",\"4_post\",\"5_mid\",\"5_post\",\"6_mid\",\"6_post\",\"7_mid\",\"7_post\",\"8_mid\",\"8_post\",\"9_mid\",\"9_post\",\"10_mid\",\"10_post\",\"11_mid\",\"11_post\",\"12_mid\",\"12_post\",\"13_mid\",\"13_post\",\"14_mid\",\"14_post\",\"15_mid\",\"15_post\",\"16_mid\",\"16_post\",\"17_mid\",\"17_post\",\"18_mid\",\"18_post\",\"19_mid\",\"19_post\",\"20_mid\",\"20_post\",\"21_mid\",\"21_post\",\"22_mid\",\"22_post\",\"23_mid\",\"23_post\"],\"xaxis\":\"x\",\"y\":[-15.727981567382812,-44.47332763671875,-42.28847885131836,-41.83866500854492,-39.51075744628906,-37.9279670715332,-36.4616813659668,-28.476877212524414,-29.490026473999023,-30.804372787475586,-30.823328018188477,-28.644119262695312,-29.550867080688477,-33.94017028808594,-26.439661026000977,-22.446321487426758,-24.704822540283203,-24.279922485351562,-24.25287628173828,-26.308074951171875,-42.72889709472656,-40.14345932006836,-54.24201965332031,-53.118568420410156,-77.41127014160156,-84.6920166015625,-82.62364959716797,-89.92701721191406,-108.77375793457031,-119.75050354003906,-115.83416748046875,-133.027587890625,-117.46342468261719,-120.79849243164062,-99.43919372558594,-92.95985412597656,-94.6131591796875,-105.01422119140625,-80.40704345703125,-89.05487060546875,-86.83074951171875,-96.15805053710938,-89.629150390625,-108.19577026367188,-103.59518432617188,-115.11434936523438,-108.52099609375,-178.7974853515625],\"yaxis\":\"y\",\"type\":\"scatter\"},{\"hovertemplate\":\"Model=GPT2_10\\u003cbr\\u003eLayer=%{x}\\u003cbr\\u003eneg_logprob=%{y}\\u003cextra\\u003e\\u003c\\u002fextra\\u003e\",\"legendgroup\":\"GPT2_10\",\"line\":{\"color\":\"#ab63fa\",\"dash\":\"solid\"},\"marker\":{\"symbol\":\"circle\"},\"mode\":\"lines\",\"name\":\"GPT2_10\",\"orientation\":\"v\",\"showlegend\":true,\"x\":[\"0_mid\",\"0_post\",\"1_mid\",\"1_post\",\"2_mid\",\"2_post\",\"3_mid\",\"3_post\",\"4_mid\",\"4_post\",\"5_mid\",\"5_post\",\"6_mid\",\"6_post\",\"7_mid\",\"7_post\",\"8_mid\",\"8_post\",\"9_mid\",\"9_post\",\"10_mid\",\"10_post\",\"11_mid\",\"11_post\",\"12_mid\",\"12_post\",\"13_mid\",\"13_post\",\"14_mid\",\"14_post\",\"15_mid\",\"15_post\",\"16_mid\",\"16_post\",\"17_mid\",\"17_post\",\"18_mid\",\"18_post\",\"19_mid\",\"19_post\",\"20_mid\",\"20_post\",\"21_mid\",\"21_post\",\"22_mid\",\"22_post\",\"23_mid\",\"23_post\"],\"xaxis\":\"x\",\"y\":[-15.787188529968262,-47.70305633544922,-46.25111389160156,-46.86002731323242,-45.77433395385742,-45.666996002197266,-44.05412673950195,-36.876583099365234,-37.430870056152344,-38.33294677734375,-37.59186935424805,-32.53006362915039,-33.071075439453125,-38.48495864868164,-30.540191650390625,-27.23050880432129,-24.66189956665039,-22.362159729003906,-32.157203674316406,-32.777252197265625,-57.11207580566406,-55.853546142578125,-68.12842559814453,-67.94578552246094,-90.18370056152344,-98.01405334472656,-101.76251220703125,-107.36943054199219,-131.44131469726562,-143.80963134765625,-142.1286163330078,-155.0950164794922,-137.46788024902344,-141.74615478515625,-133.1378936767578,-132.11727905273438,-127.04507446289062,-139.81204223632812,-122.59271240234375,-132.45779418945312,-137.59661865234375,-144.8040771484375,-126.36026000976562,-163.599365234375,-158.44573974609375,-137.1904296875,-137.45330810546875,-199.18869018554688],\"yaxis\":\"y\",\"type\":\"scatter\"},{\"hovertemplate\":\"Model=IFT_100\\u003cbr\\u003eLayer=%{x}\\u003cbr\\u003eneg_logprob=%{y}\\u003cextra\\u003e\\u003c\\u002fextra\\u003e\",\"legendgroup\":\"IFT_100\",\"line\":{\"color\":\"#FFA15A\",\"dash\":\"solid\"},\"marker\":{\"symbol\":\"circle\"},\"mode\":\"lines\",\"name\":\"IFT_100\",\"orientation\":\"v\",\"showlegend\":true,\"x\":[\"0_mid\",\"0_post\",\"1_mid\",\"1_post\",\"2_mid\",\"2_post\",\"3_mid\",\"3_post\",\"4_mid\",\"4_post\",\"5_mid\",\"5_post\",\"6_mid\",\"6_post\",\"7_mid\",\"7_post\",\"8_mid\",\"8_post\",\"9_mid\",\"9_post\",\"10_mid\",\"10_post\",\"11_mid\",\"11_post\",\"12_mid\",\"12_post\",\"13_mid\",\"13_post\",\"14_mid\",\"14_post\",\"15_mid\",\"15_post\",\"16_mid\",\"16_post\",\"17_mid\",\"17_post\",\"18_mid\",\"18_post\",\"19_mid\",\"19_post\",\"20_mid\",\"20_post\",\"21_mid\",\"21_post\",\"22_mid\",\"22_post\",\"23_mid\",\"23_post\",\"0_mid\",\"0_post\",\"1_mid\",\"1_post\",\"2_mid\",\"2_post\",\"3_mid\",\"3_post\",\"4_mid\",\"4_post\",\"5_mid\",\"5_post\",\"6_mid\",\"6_post\",\"7_mid\",\"7_post\",\"8_mid\",\"8_post\",\"9_mid\",\"9_post\",\"10_mid\",\"10_post\",\"11_mid\",\"11_post\",\"12_mid\",\"12_post\",\"13_mid\",\"13_post\",\"14_mid\",\"14_post\",\"15_mid\",\"15_post\",\"16_mid\",\"16_post\",\"17_mid\",\"17_post\",\"18_mid\",\"18_post\",\"19_mid\",\"19_post\",\"20_mid\",\"20_post\",\"21_mid\",\"21_post\",\"22_mid\",\"22_post\",\"23_mid\",\"23_post\"],\"xaxis\":\"x\",\"y\":[-15.435367584228516,-37.09546661376953,-38.15660095214844,-31.426355361938477,-33.98609161376953,-33.145381927490234,-37.71847915649414,-31.107688903808594,-33.171836853027344,-31.602882385253906,-35.6478157043457,-32.37614059448242,-34.55158615112305,-30.866403579711914,-33.625858306884766,-33.76145935058594,-31.5369873046875,-34.31302261352539,-36.14860534667969,-36.61751174926758,-56.598655700683594,-53.01317596435547,-63.66204833984375,-72.24919891357422,-110.2432861328125,-123.80299377441406,-123.36174011230469,-134.91445922851562,-161.63023376464844,-175.61654663085938,-179.872802734375,-194.59730529785156,-188.7666473388672,-207.50291442871094,-223.80377197265625,-228.1703338623047,-227.6555938720703,-241.96104431152344,-228.91506958007812,-210.95816040039062,-216.15878295898438,-248.68373107910156,-263.1265563964844,-281.6788024902344,-286.26702880859375,-281.48516845703125,-313.41729736328125,-373.4185791015625,-15.435367584228516,-37.09546661376953,-38.15660095214844,-31.426355361938477,-33.98609161376953,-33.145381927490234,-37.71847915649414,-31.107688903808594,-33.171836853027344,-31.602882385253906,-35.6478157043457,-32.37614059448242,-34.55158615112305,-30.866403579711914,-33.625858306884766,-33.76145935058594,-31.5369873046875,-34.31302261352539,-36.14860534667969,-36.61751174926758,-56.598655700683594,-53.01317596435547,-63.66204833984375,-72.24919891357422,-110.2432861328125,-123.80299377441406,-123.36174011230469,-134.91445922851562,-161.63023376464844,-175.61654663085938,-179.872802734375,-194.59730529785156,-188.7666473388672,-207.50291442871094,-223.80377197265625,-228.1703338623047,-227.6555938720703,-241.96104431152344,-228.91506958007812,-210.95816040039062,-216.15878295898438,-248.68373107910156,-263.1265563964844,-281.6788024902344,-286.26702880859375,-281.48516845703125,-313.41729736328125,-373.4185791015625],\"yaxis\":\"y\",\"type\":\"scatter\"},{\"hovertemplate\":\"Model=GPT2_100\\u003cbr\\u003eLayer=%{x}\\u003cbr\\u003eneg_logprob=%{y}\\u003cextra\\u003e\\u003c\\u002fextra\\u003e\",\"legendgroup\":\"GPT2_100\",\"line\":{\"color\":\"#19d3f3\",\"dash\":\"solid\"},\"marker\":{\"symbol\":\"circle\"},\"mode\":\"lines\",\"name\":\"GPT2_100\",\"orientation\":\"v\",\"showlegend\":true,\"x\":[\"0_mid\",\"0_post\",\"1_mid\",\"1_post\",\"2_mid\",\"2_post\",\"3_mid\",\"3_post\",\"4_mid\",\"4_post\",\"5_mid\",\"5_post\",\"6_mid\",\"6_post\",\"7_mid\",\"7_post\",\"8_mid\",\"8_post\",\"9_mid\",\"9_post\",\"10_mid\",\"10_post\",\"11_mid\",\"11_post\",\"12_mid\",\"12_post\",\"13_mid\",\"13_post\",\"14_mid\",\"14_post\",\"15_mid\",\"15_post\",\"16_mid\",\"16_post\",\"17_mid\",\"17_post\",\"18_mid\",\"18_post\",\"19_mid\",\"19_post\",\"20_mid\",\"20_post\",\"21_mid\",\"21_post\",\"22_mid\",\"22_post\",\"23_mid\",\"23_post\",\"0_mid\",\"0_post\",\"1_mid\",\"1_post\",\"2_mid\",\"2_post\",\"3_mid\",\"3_post\",\"4_mid\",\"4_post\",\"5_mid\",\"5_post\",\"6_mid\",\"6_post\",\"7_mid\",\"7_post\",\"8_mid\",\"8_post\",\"9_mid\",\"9_post\",\"10_mid\",\"10_post\",\"11_mid\",\"11_post\",\"12_mid\",\"12_post\",\"13_mid\",\"13_post\",\"14_mid\",\"14_post\",\"15_mid\",\"15_post\",\"16_mid\",\"16_post\",\"17_mid\",\"17_post\",\"18_mid\",\"18_post\",\"19_mid\",\"19_post\",\"20_mid\",\"20_post\",\"21_mid\",\"21_post\",\"22_mid\",\"22_post\",\"23_mid\",\"23_post\"],\"xaxis\":\"x\",\"y\":[-15.497286796569824,-40.09423828125,-40.45397186279297,-34.980072021484375,-37.55288314819336,-39.76558303833008,-45.01052474975586,-37.947105407714844,-41.591007232666016,-41.61359405517578,-45.661834716796875,-39.89201736450195,-38.43027877807617,-36.337406158447266,-37.88767623901367,-38.884613037109375,-34.58527755737305,-33.0655403137207,-47.369964599609375,-45.18451690673828,-72.65779113769531,-71.60247039794922,-84.39460754394531,-90.33052062988281,-123.99241638183594,-135.89561462402344,-140.32632446289062,-152.04483032226562,-181.34439086914062,-202.78585815429688,-208.3941192626953,-219.3236846923828,-216.2215118408203,-238.76202392578125,-260.632568359375,-261.12139892578125,-255.24559020996094,-277.99609375,-265.2020263671875,-268.61181640625,-279.3431396484375,-297.0119934082031,-295.37725830078125,-307.46282958984375,-305.7698669433594,-277.72637939453125,-278.4759521484375,-335.60638427734375,-15.497286796569824,-40.09423828125,-40.45397186279297,-34.980072021484375,-37.55288314819336,-39.76558303833008,-45.01052474975586,-37.947105407714844,-41.591007232666016,-41.61359405517578,-45.661834716796875,-39.89201736450195,-38.43027877807617,-36.337406158447266,-37.88767623901367,-38.884613037109375,-34.58527755737305,-33.0655403137207,-47.369964599609375,-45.18451690673828,-72.65779113769531,-71.60247039794922,-84.39460754394531,-90.33052062988281,-123.99241638183594,-135.89561462402344,-140.32632446289062,-152.04483032226562,-181.34439086914062,-202.78585815429688,-208.3941192626953,-219.3236846923828,-216.2215118408203,-238.76202392578125,-260.632568359375,-261.12139892578125,-255.24559020996094,-277.99609375,-265.2020263671875,-268.61181640625,-279.3431396484375,-297.0119934082031,-295.37725830078125,-307.46282958984375,-305.7698669433594,-277.72637939453125,-278.4759521484375,-335.60638427734375],\"yaxis\":\"y\",\"type\":\"scatter\"},{\"hovertemplate\":\"Model=IFT_10000\\u003cbr\\u003eLayer=%{x}\\u003cbr\\u003eneg_logprob=%{y}\\u003cextra\\u003e\\u003c\\u002fextra\\u003e\",\"legendgroup\":\"IFT_10000\",\"line\":{\"color\":\"#FF6692\",\"dash\":\"solid\"},\"marker\":{\"symbol\":\"circle\"},\"mode\":\"lines\",\"name\":\"IFT_10000\",\"orientation\":\"v\",\"showlegend\":true,\"x\":[\"0_mid\",\"0_post\",\"1_mid\",\"1_post\",\"2_mid\",\"2_post\",\"3_mid\",\"3_post\",\"4_mid\",\"4_post\",\"5_mid\",\"5_post\",\"6_mid\",\"6_post\",\"7_mid\",\"7_post\",\"8_mid\",\"8_post\",\"9_mid\",\"9_post\",\"10_mid\",\"10_post\",\"11_mid\",\"11_post\",\"12_mid\",\"12_post\",\"13_mid\",\"13_post\",\"14_mid\",\"14_post\",\"15_mid\",\"15_post\",\"16_mid\",\"16_post\",\"17_mid\",\"17_post\",\"18_mid\",\"18_post\",\"19_mid\",\"19_post\",\"20_mid\",\"20_post\",\"21_mid\",\"21_post\",\"22_mid\",\"22_post\",\"23_mid\",\"23_post\"],\"xaxis\":\"x\",\"y\":[-15.623676300048828,-57.6364860534668,-60.23390197753906,-55.35166549682617,-62.242530822753906,-55.63936233520508,-62.08224868774414,-61.294158935546875,-61.909385681152344,-58.40281677246094,-59.78449630737305,-51.528011322021484,-57.19660568237305,-60.676353454589844,-55.9055290222168,-61.60354995727539,-61.10431671142578,-70.25847625732422,-75.23400115966797,-75.88526916503906,-97.24195098876953,-90.71781921386719,-107.92869567871094,-117.81228637695312,-154.20619201660156,-170.35928344726562,-178.46304321289062,-185.6991424560547,-208.28646850585938,-233.9227752685547,-235.41876220703125,-253.56109619140625,-264.16925048828125,-282.5748291015625,-311.79248046875,-302.229248046875,-303.159912109375,-331.804443359375,-325.1621398925781,-316.1806640625,-332.2207946777344,-347.4333801269531,-381.1199035644531,-414.6904296875,-427.8259582519531,-495.7365417480469,-567.4407958984375,-621.0148315429688],\"yaxis\":\"y\",\"type\":\"scatter\"},{\"hovertemplate\":\"Model=GPT2_10000\\u003cbr\\u003eLayer=%{x}\\u003cbr\\u003eneg_logprob=%{y}\\u003cextra\\u003e\\u003c\\u002fextra\\u003e\",\"legendgroup\":\"GPT2_10000\",\"line\":{\"color\":\"#B6E880\",\"dash\":\"solid\"},\"marker\":{\"symbol\":\"circle\"},\"mode\":\"lines\",\"name\":\"GPT2_10000\",\"orientation\":\"v\",\"showlegend\":true,\"x\":[\"0_mid\",\"0_post\",\"1_mid\",\"1_post\",\"2_mid\",\"2_post\",\"3_mid\",\"3_post\",\"4_mid\",\"4_post\",\"5_mid\",\"5_post\",\"6_mid\",\"6_post\",\"7_mid\",\"7_post\",\"8_mid\",\"8_post\",\"9_mid\",\"9_post\",\"10_mid\",\"10_post\",\"11_mid\",\"11_post\",\"12_mid\",\"12_post\",\"13_mid\",\"13_post\",\"14_mid\",\"14_post\",\"15_mid\",\"15_post\",\"16_mid\",\"16_post\",\"17_mid\",\"17_post\",\"18_mid\",\"18_post\",\"19_mid\",\"19_post\",\"20_mid\",\"20_post\",\"21_mid\",\"21_post\",\"22_mid\",\"22_post\",\"23_mid\",\"23_post\"],\"xaxis\":\"x\",\"y\":[-15.823694229125977,-63.587886810302734,-66.79903411865234,-62.508819580078125,-69.25126647949219,-65.7921142578125,-72.41743469238281,-68.1376724243164,-71.73322296142578,-70.6092529296875,-72.21643829345703,-60.98918533325195,-64.3496322631836,-67.39842224121094,-64.7220687866211,-68.32730102539062,-66.99217987060547,-72.30142974853516,-90.99472045898438,-85.32977294921875,-119.75519561767578,-117.23582458496094,-133.91549682617188,-143.1878662109375,-182.1617431640625,-195.21261596679688,-208.51544189453125,-219.07276916503906,-248.87872314453125,-272.61962890625,-278.5238342285156,-295.539794921875,-307.15179443359375,-325.8145751953125,-356.76898193359375,-347.3984680175781,-349.894287109375,-378.1722106933594,-375.8895263671875,-379.0202331542969,-399.9092102050781,-413.6247253417969,-431.6171569824219,-475.77496337890625,-480.4964599609375,-478.60052490234375,-477.78814697265625,-528.8123779296875],\"yaxis\":\"y\",\"type\":\"scatter\"}],                        {\"template\":{\"data\":{\"histogram2dcontour\":[{\"type\":\"histogram2dcontour\",\"colorbar\":{\"outlinewidth\":0,\"ticks\":\"\"},\"colorscale\":[[0.0,\"#0d0887\"],[0.1111111111111111,\"#46039f\"],[0.2222222222222222,\"#7201a8\"],[0.3333333333333333,\"#9c179e\"],[0.4444444444444444,\"#bd3786\"],[0.5555555555555556,\"#d8576b\"],[0.6666666666666666,\"#ed7953\"],[0.7777777777777778,\"#fb9f3a\"],[0.8888888888888888,\"#fdca26\"],[1.0,\"#f0f921\"]]}],\"choropleth\":[{\"type\":\"choropleth\",\"colorbar\":{\"outlinewidth\":0,\"ticks\":\"\"}}],\"histogram2d\":[{\"type\":\"histogram2d\",\"colorbar\":{\"outlinewidth\":0,\"ticks\":\"\"},\"colorscale\":[[0.0,\"#0d0887\"],[0.1111111111111111,\"#46039f\"],[0.2222222222222222,\"#7201a8\"],[0.3333333333333333,\"#9c179e\"],[0.4444444444444444,\"#bd3786\"],[0.5555555555555556,\"#d8576b\"],[0.6666666666666666,\"#ed7953\"],[0.7777777777777778,\"#fb9f3a\"],[0.8888888888888888,\"#fdca26\"],[1.0,\"#f0f921\"]]}],\"heatmap\":[{\"type\":\"heatmap\",\"colorbar\":{\"outlinewidth\":0,\"ticks\":\"\"},\"colorscale\":[[0.0,\"#0d0887\"],[0.1111111111111111,\"#46039f\"],[0.2222222222222222,\"#7201a8\"],[0.3333333333333333,\"#9c179e\"],[0.4444444444444444,\"#bd3786\"],[0.5555555555555556,\"#d8576b\"],[0.6666666666666666,\"#ed7953\"],[0.7777777777777778,\"#fb9f3a\"],[0.8888888888888888,\"#fdca26\"],[1.0,\"#f0f921\"]]}],\"heatmapgl\":[{\"type\":\"heatmapgl\",\"colorbar\":{\"outlinewidth\":0,\"ticks\":\"\"},\"colorscale\":[[0.0,\"#0d0887\"],[0.1111111111111111,\"#46039f\"],[0.2222222222222222,\"#7201a8\"],[0.3333333333333333,\"#9c179e\"],[0.4444444444444444,\"#bd3786\"],[0.5555555555555556,\"#d8576b\"],[0.6666666666666666,\"#ed7953\"],[0.7777777777777778,\"#fb9f3a\"],[0.8888888888888888,\"#fdca26\"],[1.0,\"#f0f921\"]]}],\"contourcarpet\":[{\"type\":\"contourcarpet\",\"colorbar\":{\"outlinewidth\":0,\"ticks\":\"\"}}],\"contour\":[{\"type\":\"contour\",\"colorbar\":{\"outlinewidth\":0,\"ticks\":\"\"},\"colorscale\":[[0.0,\"#0d0887\"],[0.1111111111111111,\"#46039f\"],[0.2222222222222222,\"#7201a8\"],[0.3333333333333333,\"#9c179e\"],[0.4444444444444444,\"#bd3786\"],[0.5555555555555556,\"#d8576b\"],[0.6666666666666666,\"#ed7953\"],[0.7777777777777778,\"#fb9f3a\"],[0.8888888888888888,\"#fdca26\"],[1.0,\"#f0f921\"]]}],\"surface\":[{\"type\":\"surface\",\"colorbar\":{\"outlinewidth\":0,\"ticks\":\"\"},\"colorscale\":[[0.0,\"#0d0887\"],[0.1111111111111111,\"#46039f\"],[0.2222222222222222,\"#7201a8\"],[0.3333333333333333,\"#9c179e\"],[0.4444444444444444,\"#bd3786\"],[0.5555555555555556,\"#d8576b\"],[0.6666666666666666,\"#ed7953\"],[0.7777777777777778,\"#fb9f3a\"],[0.8888888888888888,\"#fdca26\"],[1.0,\"#f0f921\"]]}],\"mesh3d\":[{\"type\":\"mesh3d\",\"colorbar\":{\"outlinewidth\":0,\"ticks\":\"\"}}],\"scatter\":[{\"fillpattern\":{\"fillmode\":\"overlay\",\"size\":10,\"solidity\":0.2},\"type\":\"scatter\"}],\"parcoords\":[{\"type\":\"parcoords\",\"line\":{\"colorbar\":{\"outlinewidth\":0,\"ticks\":\"\"}}}],\"scatterpolargl\":[{\"type\":\"scatterpolargl\",\"marker\":{\"colorbar\":{\"outlinewidth\":0,\"ticks\":\"\"}}}],\"bar\":[{\"error_x\":{\"color\":\"#2a3f5f\"},\"error_y\":{\"color\":\"#2a3f5f\"},\"marker\":{\"line\":{\"color\":\"#E5ECF6\",\"width\":0.5},\"pattern\":{\"fillmode\":\"overlay\",\"size\":10,\"solidity\":0.2}},\"type\":\"bar\"}],\"scattergeo\":[{\"type\":\"scattergeo\",\"marker\":{\"colorbar\":{\"outlinewidth\":0,\"ticks\":\"\"}}}],\"scatterpolar\":[{\"type\":\"scatterpolar\",\"marker\":{\"colorbar\":{\"outlinewidth\":0,\"ticks\":\"\"}}}],\"histogram\":[{\"marker\":{\"pattern\":{\"fillmode\":\"overlay\",\"size\":10,\"solidity\":0.2}},\"type\":\"histogram\"}],\"scattergl\":[{\"type\":\"scattergl\",\"marker\":{\"colorbar\":{\"outlinewidth\":0,\"ticks\":\"\"}}}],\"scatter3d\":[{\"type\":\"scatter3d\",\"line\":{\"colorbar\":{\"outlinewidth\":0,\"ticks\":\"\"}},\"marker\":{\"colorbar\":{\"outlinewidth\":0,\"ticks\":\"\"}}}],\"scattermapbox\":[{\"type\":\"scattermapbox\",\"marker\":{\"colorbar\":{\"outlinewidth\":0,\"ticks\":\"\"}}}],\"scatterternary\":[{\"type\":\"scatterternary\",\"marker\":{\"colorbar\":{\"outlinewidth\":0,\"ticks\":\"\"}}}],\"scattercarpet\":[{\"type\":\"scattercarpet\",\"marker\":{\"colorbar\":{\"outlinewidth\":0,\"ticks\":\"\"}}}],\"carpet\":[{\"aaxis\":{\"endlinecolor\":\"#2a3f5f\",\"gridcolor\":\"white\",\"linecolor\":\"white\",\"minorgridcolor\":\"white\",\"startlinecolor\":\"#2a3f5f\"},\"baxis\":{\"endlinecolor\":\"#2a3f5f\",\"gridcolor\":\"white\",\"linecolor\":\"white\",\"minorgridcolor\":\"white\",\"startlinecolor\":\"#2a3f5f\"},\"type\":\"carpet\"}],\"table\":[{\"cells\":{\"fill\":{\"color\":\"#EBF0F8\"},\"line\":{\"color\":\"white\"}},\"header\":{\"fill\":{\"color\":\"#C8D4E3\"},\"line\":{\"color\":\"white\"}},\"type\":\"table\"}],\"barpolar\":[{\"marker\":{\"line\":{\"color\":\"#E5ECF6\",\"width\":0.5},\"pattern\":{\"fillmode\":\"overlay\",\"size\":10,\"solidity\":0.2}},\"type\":\"barpolar\"}],\"pie\":[{\"automargin\":true,\"type\":\"pie\"}]},\"layout\":{\"autotypenumbers\":\"strict\",\"colorway\":[\"#636efa\",\"#EF553B\",\"#00cc96\",\"#ab63fa\",\"#FFA15A\",\"#19d3f3\",\"#FF6692\",\"#B6E880\",\"#FF97FF\",\"#FECB52\"],\"font\":{\"color\":\"#2a3f5f\"},\"hovermode\":\"closest\",\"hoverlabel\":{\"align\":\"left\"},\"paper_bgcolor\":\"white\",\"plot_bgcolor\":\"#E5ECF6\",\"polar\":{\"bgcolor\":\"#E5ECF6\",\"angularaxis\":{\"gridcolor\":\"white\",\"linecolor\":\"white\",\"ticks\":\"\"},\"radialaxis\":{\"gridcolor\":\"white\",\"linecolor\":\"white\",\"ticks\":\"\"}},\"ternary\":{\"bgcolor\":\"#E5ECF6\",\"aaxis\":{\"gridcolor\":\"white\",\"linecolor\":\"white\",\"ticks\":\"\"},\"baxis\":{\"gridcolor\":\"white\",\"linecolor\":\"white\",\"ticks\":\"\"},\"caxis\":{\"gridcolor\":\"white\",\"linecolor\":\"white\",\"ticks\":\"\"}},\"coloraxis\":{\"colorbar\":{\"outlinewidth\":0,\"ticks\":\"\"}},\"colorscale\":{\"sequential\":[[0.0,\"#0d0887\"],[0.1111111111111111,\"#46039f\"],[0.2222222222222222,\"#7201a8\"],[0.3333333333333333,\"#9c179e\"],[0.4444444444444444,\"#bd3786\"],[0.5555555555555556,\"#d8576b\"],[0.6666666666666666,\"#ed7953\"],[0.7777777777777778,\"#fb9f3a\"],[0.8888888888888888,\"#fdca26\"],[1.0,\"#f0f921\"]],\"sequentialminus\":[[0.0,\"#0d0887\"],[0.1111111111111111,\"#46039f\"],[0.2222222222222222,\"#7201a8\"],[0.3333333333333333,\"#9c179e\"],[0.4444444444444444,\"#bd3786\"],[0.5555555555555556,\"#d8576b\"],[0.6666666666666666,\"#ed7953\"],[0.7777777777777778,\"#fb9f3a\"],[0.8888888888888888,\"#fdca26\"],[1.0,\"#f0f921\"]],\"diverging\":[[0,\"#8e0152\"],[0.1,\"#c51b7d\"],[0.2,\"#de77ae\"],[0.3,\"#f1b6da\"],[0.4,\"#fde0ef\"],[0.5,\"#f7f7f7\"],[0.6,\"#e6f5d0\"],[0.7,\"#b8e186\"],[0.8,\"#7fbc41\"],[0.9,\"#4d9221\"],[1,\"#276419\"]]},\"xaxis\":{\"gridcolor\":\"white\",\"linecolor\":\"white\",\"ticks\":\"\",\"title\":{\"standoff\":15},\"zerolinecolor\":\"white\",\"automargin\":true,\"zerolinewidth\":2},\"yaxis\":{\"gridcolor\":\"white\",\"linecolor\":\"white\",\"ticks\":\"\",\"title\":{\"standoff\":15},\"zerolinecolor\":\"white\",\"automargin\":true,\"zerolinewidth\":2},\"scene\":{\"xaxis\":{\"backgroundcolor\":\"#E5ECF6\",\"gridcolor\":\"white\",\"linecolor\":\"white\",\"showbackground\":true,\"ticks\":\"\",\"zerolinecolor\":\"white\",\"gridwidth\":2},\"yaxis\":{\"backgroundcolor\":\"#E5ECF6\",\"gridcolor\":\"white\",\"linecolor\":\"white\",\"showbackground\":true,\"ticks\":\"\",\"zerolinecolor\":\"white\",\"gridwidth\":2},\"zaxis\":{\"backgroundcolor\":\"#E5ECF6\",\"gridcolor\":\"white\",\"linecolor\":\"white\",\"showbackground\":true,\"ticks\":\"\",\"zerolinecolor\":\"white\",\"gridwidth\":2}},\"shapedefaults\":{\"line\":{\"color\":\"#2a3f5f\"}},\"annotationdefaults\":{\"arrowcolor\":\"#2a3f5f\",\"arrowhead\":0,\"arrowwidth\":1},\"geo\":{\"bgcolor\":\"white\",\"landcolor\":\"#E5ECF6\",\"subunitcolor\":\"white\",\"showland\":true,\"showlakes\":true,\"lakecolor\":\"white\"},\"title\":{\"x\":0.05},\"mapbox\":{\"style\":\"light\"}}},\"xaxis\":{\"anchor\":\"y\",\"domain\":[0.0,1.0],\"title\":{\"text\":\"Layer\"}},\"yaxis\":{\"anchor\":\"x\",\"domain\":[0.0,1.0],\"title\":{\"text\":\"neg_logprob\"}},\"legend\":{\"title\":{\"text\":\"Model\"},\"tracegroupgap\":0},\"margin\":{\"t\":60}},                        {\"responsive\": true}                    ).then(function(){\n",
       "                            \n",
       "var gd = document.getElementById('a9011d0d-1aa1-40e1-b259-f3d08e46b570');\n",
       "var x = new MutationObserver(function (mutations, observer) {{\n",
       "        var display = window.getComputedStyle(gd).display;\n",
       "        if (!display || display === 'none') {{\n",
       "            console.log([gd, 'removed!']);\n",
       "            Plotly.purge(gd);\n",
       "            observer.disconnect();\n",
       "        }}\n",
       "}});\n",
       "\n",
       "// Listen for the removal of the full notebook cells\n",
       "var notebookContainer = gd.closest('#notebook-container');\n",
       "if (notebookContainer) {{\n",
       "    x.observe(notebookContainer, {childList: true});\n",
       "}}\n",
       "\n",
       "// Listen for the clearing of the current output cell\n",
       "var outputEl = gd.closest('.output');\n",
       "if (outputEl) {{\n",
       "    x.observe(outputEl, {childList: true});\n",
       "}}\n",
       "\n",
       "                        })                };                });            </script>        </div>"
      ]
     },
     "metadata": {},
     "output_type": "display_data"
    },
    {
     "name": "stdout",
     "output_type": "stream",
     "text": [
      "zzzzzzzzzzzzzzzzzzzzzzzzzzzzzzzzzzzzzzzzzzzzzzzzzzzz\n"
     ]
    }
   ],
   "source": [
    "\n",
    "ift_device = ift.embed.W_E.device\n",
    "gpt2_device = gpt2.embed.W_E.device\n",
    "# tok_ids = [29, 314, 1101, 2111, 284, 5879, 25, 611, 39280]\n",
    "tok_ids = gpt2_out\n",
    "prompt_shape = prompt_input_ids.shape\n",
    "print(tok_ids)\n",
    "\n",
    "\n",
    "curr_input_ids = prompt_input_ids\n",
    "curr_attn_mask = attention_mask\n",
    "for tok_id in tok_ids[0][:12]:\n",
    "\n",
    "    with torch.inference_mode():\n",
    "        _, gpt2_cache = gpt2.run_with_cache(\n",
    "            curr_input_ids.to(gpt2_device),\n",
    "            attention_mask=curr_attn_mask.to(gpt2_device),\n",
    "            past_kv_cache=None,\n",
    "        )\n",
    "        _, ift_cache = ift.run_with_cache(\n",
    "            curr_input_ids.to(ift_device),\n",
    "            attention_mask=curr_attn_mask.to(ift_device),\n",
    "            past_kv_cache=None,\n",
    "        )\n",
    "\n",
    "    gpt2_acts = []\n",
    "    for layer in range(gpt2.cfg.n_layers):\n",
    "        gpt2_acts.append(\n",
    "            gpt2_cache[f\"blocks.{layer}.hook_resid_mid\"][0, -1, :]\n",
    "        )\n",
    "        gpt2_acts.append(\n",
    "            gpt2_cache[f\"blocks.{layer}.hook_resid_post\"][0, -1, :]\n",
    "        )\n",
    "    gpt2_acts = torch.stack(gpt2_acts, dim=0)\n",
    "    gpt2_unembed = gpt2.unembed.W_U\n",
    "    gpt2_vocab_proj = einsum(\n",
    "        \"layer d_model, d_model vocab -> layer vocab\",\n",
    "        gpt2_acts,\n",
    "        gpt2_unembed,\n",
    "    )\n",
    "    ift_acts = []\n",
    "    for layer in range(gpt2.cfg.n_layers):\n",
    "        ift_acts.append(ift_cache[f\"blocks.{layer}.hook_resid_mid\"][0, -1, :])\n",
    "        ift_acts.append(ift_cache[f\"blocks.{layer}.hook_resid_post\"][0, -1, :])\n",
    "    ift_acts = torch.stack(ift_acts, dim=0)\n",
    "    ift_unembed = ift.unembed.W_U\n",
    "    ift_vocab_proj = einsum(\n",
    "        \"layer d_model, d_model vocab -> layer vocab\",\n",
    "        ift_acts,\n",
    "        ift_unembed,\n",
    "    )\n",
    "\n",
    "    neg_tok = gpt2_vocab_proj[-1].argmax(dim=-1)\n",
    "\n",
    "    gpt2_neg_logprobs = gpt2_vocab_proj.log_softmax(dim=-1)[:, neg_tok]\n",
    "    gpt2_neg_rank = (\n",
    "        gpt2_vocab_proj.topk(k=gpt2.cfg.d_vocab).indices == neg_tok\n",
    "    ).nonzero()[:, 1]\n",
    "    ift_neg_logprobs = ift_vocab_proj.log_softmax(dim=-1)[:, neg_tok]\n",
    "    ift_neg_rank = (\n",
    "        ift_vocab_proj.topk(k=ift.cfg.d_vocab).indices\n",
    "        == neg_tok.to(ift_device)\n",
    "    ).nonzero()[:, 1]\n",
    "\n",
    "    plot_data = []\n",
    "    for layer in range(gpt2.cfg.n_layers * 2):\n",
    "\n",
    "        layer_num = int(layer / 2)\n",
    "        suffix = \"mid\"\n",
    "        if layer % 2 == 1:\n",
    "            suffix = \"post\"\n",
    "\n",
    "        plot_data.append(\n",
    "            {\n",
    "                \"Layer\": f\"{layer_num}_{suffix}\",\n",
    "                \"neg_logprob\": ift_neg_logprobs[layer].item(),\n",
    "                # \"neg_rank\": ift_neg_rank[layer].item(),\n",
    "                \"Model\": \"IFT\",\n",
    "            }\n",
    "        )\n",
    "        plot_data.append(\n",
    "            {\n",
    "                \"Layer\": f\"{layer_num}_{suffix}\",\n",
    "                \"neg_logprob\": gpt2_neg_logprobs[layer].item(),\n",
    "                # \"neg_rank\": gpt2_neg_rank[layer].item(),\n",
    "                \"Model\": \"GPT2\",\n",
    "            }\n",
    "        )\n",
    "\n",
    "    neg_toks = gpt2_vocab_proj[-1].topk(k=10001, dim=-1)\n",
    "    for k in [10, 100, 100, 10000]:\n",
    "        neg_tok = neg_toks.indices[k]\n",
    "        gpt2_log_probs = gpt2_vocab_proj.log_softmax(dim=-1)[:, neg_tok]\n",
    "        ift_log_probs = ift_vocab_proj.log_softmax(dim=-1)[:, neg_tok]\n",
    "        for layer in range(gpt2.cfg.n_layers * 2):\n",
    "\n",
    "            layer_num = int(layer / 2)\n",
    "            suffix = \"mid\"\n",
    "            if layer % 2 == 1:\n",
    "                suffix = \"post\"\n",
    "\n",
    "            plot_data.append(\n",
    "                {\n",
    "                    \"Layer\": f\"{layer_num}_{suffix}\",\n",
    "                    \"neg_logprob\": ift_log_probs[layer].item(),\n",
    "                    # \"neg_rank\": ift_neg_rank[layer].item(),\n",
    "                    \"Model\": f\"IFT_{k}\",\n",
    "                    \"k\": k,\n",
    "                }\n",
    "            )\n",
    "            plot_data.append(\n",
    "                {\n",
    "                    \"Layer\": f\"{layer_num}_{suffix}\",\n",
    "                    \"neg_logprob\": gpt2_log_probs[layer].item(),\n",
    "                    # \"neg_rank\": gpt2_neg_rank[layer].item(),\n",
    "                    \"Model\": f\"GPT2_{k}\",\n",
    "                    \"k\": k,\n",
    "                }\n",
    "            )\n",
    "\n",
    "    plot_data = pd.DataFrame(plot_data)\n",
    "\n",
    "    print(f\"Neg tok: {neg_tok}\")\n",
    "    print(f\"Tok id: {tok_id}\")\n",
    "    # px.line(gpt2_i_probs.detach().cpu(), labels={\"x\": labels})\n",
    "    # px.line(plot_data, x=\"Layer\", y=\"neg_prob\", color=\"Model\").show(None)\n",
    "    px.line(plot_data, x=\"Layer\", y=\"neg_logprob\", color=\"Model\").show(None)\n",
    "    #px.line(plot_data, x=\"Layer\", y=\"neg_logprob\", color=\"Model\").show(None)\n",
    "    # px.line(plot_data, x=\"Layer\", y=\"neg_rank\", color=\"Model\").show(None)\n",
    "    # px.line(plot_data, x=\"Layer\", y=\"pos_prob\", color=\"Model\").show(None)\n",
    "    # px.line(plot_data, x=\"Layer\", y=\"pos_logprob\", color=\"Model\").show(None)\n",
    "    # px.line(plot_data, x=\"Layer\", y=\"pos_rank\", color=\"Model\").show(None)\n",
    "    print(\"zzzzzzzzzzzzzzzzzzzzzzzzzzzzzzzzzzzzzzzzzzzzzzzzzzzz\")\n",
    "\n",
    "    curr_input_ids = torch.cat(\n",
    "        [curr_input_ids, torch.tensor([[tok_id.item()]])], dim=1\n",
    "    )\n",
    "    curr_attn_mask = torch.cat([curr_attn_mask, torch.tensor([[1]])], dim=1)\n",
    "    prompt_shape = curr_input_ids.shape\n",
    "\n",
    "    breakpoint()"
   ]
  },
  {
   "cell_type": "code",
   "execution_count": 9,
   "id": "7ce507ca",
   "metadata": {},
   "outputs": [
    {
     "ename": "NameError",
     "evalue": "name 'gpt2_pos_probs' is not defined",
     "output_type": "error",
     "traceback": [
      "\u001b[0;31m---------------------------------------------------------------------------\u001b[0m",
      "\u001b[0;31mNameError\u001b[0m                                 Traceback (most recent call last)",
      "Cell \u001b[0;32mIn[9], line 2\u001b[0m\n\u001b[1;32m      1\u001b[0m plot_data \u001b[38;5;241m=\u001b[39m []\n\u001b[0;32m----> 2\u001b[0m \u001b[38;5;28;01mfor\u001b[39;00m layer \u001b[38;5;129;01min\u001b[39;00m \u001b[38;5;28mrange\u001b[39m(\u001b[43mgpt2_pos_probs\u001b[49m\u001b[38;5;241m.\u001b[39mshape[\u001b[38;5;241m0\u001b[39m]):\n\u001b[1;32m      4\u001b[0m     layer_num \u001b[38;5;241m=\u001b[39m \u001b[38;5;28mint\u001b[39m(layer \u001b[38;5;241m/\u001b[39m \u001b[38;5;241m2\u001b[39m)\n\u001b[1;32m      5\u001b[0m     suffix \u001b[38;5;241m=\u001b[39m \u001b[38;5;124m\"\u001b[39m\u001b[38;5;124mmid\u001b[39m\u001b[38;5;124m\"\u001b[39m\n",
      "\u001b[0;31mNameError\u001b[0m: name 'gpt2_pos_probs' is not defined"
     ]
    }
   ],
   "source": [
    "\n",
    "plot_data = []\n",
    "for layer in range(gpt2_pos_probs.shape[0]):\n",
    "\n",
    "    layer_num = int(layer / 2)\n",
    "    suffix = \"mid\"\n",
    "    if layer % 2 == 1:\n",
    "        suffix = \"post\"\n",
    "\n",
    "    plot_data.append(\n",
    "        {\n",
    "            \"Layer\": f\"{layer_num}_{suffix}\",\n",
    "            \"pos_prob\": gpt2_pos_probs[layer].item(),\n",
    "            \"pos_logprob\": gpt2_pos_logprobs[layer].item(),\n",
    "            \"neg_prob\": gpt2_neg_probs[layer].item(),\n",
    "            \"neg_logprob\": gpt2_neg_logprobs[layer].item(),\n",
    "            \"pos_rank\": gpt2_pos_rank[layer].item(),\n",
    "            \"neg_rank\": gpt2_neg_rank[layer].item(),\n",
    "            \"Model\": \"GPT2\",\n",
    "        }\n",
    "    )\n",
    "    plot_data.append(\n",
    "        {\n",
    "            \"Layer\": f\"{layer_num}_{suffix}\",\n",
    "            \"pos_prob\": ift_pos_probs[layer].item(),\n",
    "            \"pos_logprob\": ift_pos_logprobs[layer].item(),\n",
    "            \"neg_prob\": ift_neg_probs[layer].item(),\n",
    "            \"neg_logprob\": ift_neg_logprobs[layer].item(),\n",
    "            \"pos_rank\": ift_pos_rank[layer].item(),\n",
    "            \"neg_rank\": ift_neg_rank[layer].item(),\n",
    "            \"Model\": \"IFT\",\n",
    "        }\n",
    "    )\n",
    "\n",
    "plot_data = pd.DataFrame(plot_data)"
   ]
  },
  {
   "cell_type": "code",
   "execution_count": null,
   "id": "6c3f6517",
   "metadata": {
    "scrolled": false
   },
   "outputs": [],
   "source": [
    "\n",
    "# px.line(gpt2_i_probs.detach().cpu(), labels={\"x\": labels})\n",
    "px.line(plot_data, x=\"Layer\", y=\"neg_prob\", color=\"Model\").show(None)\n",
    "px.line(plot_data, x=\"Layer\", y=\"neg_logprob\", color=\"Model\").show(None)\n",
    "px.line(plot_data, x=\"Layer\", y=\"neg_rank\", color=\"Model\").show(None)\n",
    "px.line(plot_data, x=\"Layer\", y=\"pos_prob\", color=\"Model\").show(None)\n",
    "px.line(plot_data, x=\"Layer\", y=\"pos_logprob\", color=\"Model\").show(None)\n",
    "px.line(plot_data, x=\"Layer\", y=\"pos_rank\", color=\"Model\").show(None)"
   ]
  },
  {
   "cell_type": "code",
   "execution_count": null,
   "id": "f83ccc80",
   "metadata": {},
   "outputs": [],
   "source": [
    "\n",
    "\n",
    "with torch.inference_mode():\n",
    "    ift_cache.compute_head_results()\n",
    "    gpt2_cache.compute_head_results()"
   ]
  },
  {
   "cell_type": "code",
   "execution_count": null,
   "id": "2998ce07",
   "metadata": {},
   "outputs": [],
   "source": [
    "\n",
    "layer = 9\n",
    "\n",
    "# [batch, heads, seq, seq]\n",
    "gpt2_attn_pattern = gpt2_cache[f\"blocks.{layer}.attn.hook_pattern\"]\n",
    "gpt2_attn_pattern[0, :, -1, :].max(dim=1)\n",
    "ift_attn_pattern = ift_cache[f\"blocks.{layer}.attn.hook_pattern\"]\n",
    "ift_attn_pattern[0, :, -1, :].max(dim=1)\n",
    "\n",
    "breakpoint()\n",
    "\n",
    "# [batch seq heads d_model] --> [heads d_model]\n",
    "gpt2_decomp_heads = gpt2_cache[f\"blocks.{layer}.attn.hook_result\"][\n",
    "    0, -1, ...\n",
    "].clone()\n",
    "ift_decomp_heads = ift_cache[f\"blocks.{layer}.attn.hook_result\"][\n",
    "    0, -1, ...\n",
    "].clone()\n",
    "\n",
    "\n",
    "gpt2_heads_proj_vocab = (\n",
    "    einsum(\n",
    "        \"heads d_model, d_model vocab -> heads vocab\",\n",
    "        gpt2_decomp_heads,\n",
    "        unembed.to(gpt2_device),\n",
    "    )\n",
    "    .topk(k=10, dim=1)\n",
    "    .indices\n",
    ")\n",
    "ift_heads_proj_vocab = (\n",
    "    einsum(\n",
    "        \"heads d_model, d_model vocab -> heads vocab\",\n",
    "        ift_decomp_heads,\n",
    "        unembed.to(ift_device),\n",
    "    )\n",
    "    .topk(k=10, dim=1)\n",
    "    .indices\n",
    ")\n",
    "\n",
    "# d_model\n",
    "next_tok_vec = unembed[:, neg_tok]\n",
    "\n",
    "\n",
    "# (at layer 15)\n",
    "# tokenizer.batch_decode(gpt2_heads_proj_vocab[2]) --> \"my, mine, myself, gonna, propositions, me, tomorrow, I, future, hypothetical\"\n",
    "\n",
    "breakpoint()\n",
    "\n",
    "\n",
    "ift_head_outs = torch.stack(\n",
    "    [ift_cache[f\"blocks.{layer}.attn.hook_result\"] for layer in range(24)],\n",
    "    dim=0,\n",
    ")[:, 0, -1, :, :]\n",
    "gpt2_head_outs = torch.stack(\n",
    "    [gpt2_cache[f\"blocks.{layer}.attn.hook_result\"] for layer in range(24)],\n",
    "    dim=0,\n",
    ")[:, 0, -1, :, :]\n",
    "print(ift_head_outs.shape)\n",
    "\n",
    "print(\n",
    "    F.cosine_similarity(\n",
    "        ift_head_outs[layer, :, :],\n",
    "        next_tok_vec.to(ift_head_outs.device).unsqueeze(0),\n",
    "        dim=1,\n",
    "    )\n",
    ")\n",
    "breakpoint()\n",
    "print(gpt2_cache.keys())\n",
    "print(\n",
    "    F.cosine_similarity(\n",
    "        gpt2_head_outs[layer, :, :], next_tok_vec.unsqueeze(0), dim=1\n",
    "    )\n",
    ")\n",
    "\n",
    "breakpoint()\n",
    "\n",
    "print(\n",
    "    einsum(\n",
    "        \"head d_model, d_model -> head\",\n",
    "        ift_head_outs[layer],\n",
    "        next_tok_vec.to(ift_head_outs.device),\n",
    "    )\n",
    ")\n",
    "print(\n",
    "    einsum(\n",
    "        \"head d_model, d_model -> head\", gpt2_head_outs[layer], next_tok_vec\n",
    "    )\n",
    ")"
   ]
  },
  {
   "cell_type": "code",
   "execution_count": null,
   "id": "baa6f1d7",
   "metadata": {},
   "outputs": [],
   "source": [
    "\n",
    "print(gpt2_cache[f\"blocks.{layer}.attn.hook_attn_scores\"].shape)\n",
    "print(gpt2_cache[f\"blocks.{layer}.attn.hook_pattern\"].shape)\n",
    "patterns = gpt2_cache[f\"blocks.{layer}.attn.hook_pattern\"].squeeze()\n",
    "for head_idx in range(patterns.shape[0]):\n",
    "    print(patterns[head_idx, -1, :])\n",
    "\n",
    "\n",
    "breakpoint()"
   ]
  },
  {
   "cell_type": "code",
   "execution_count": null,
   "id": "27125584",
   "metadata": {},
   "outputs": [],
   "source": [
    "\n",
    "# 1024\n",
    "mlp_17 = gpt2_cache[\"blocks.17.hook_resid_mid\"][:, -1, :].clone()\n",
    "print(mlp_17.shape)\n",
    "mlp_17_proj_vocab = einsum(\n",
    "    \"batch d_model, d_model vocab -> batch vocab\", mlp_17, unembed\n",
    ")\n",
    "print(tokenizer.batch_decode(mlp_17_proj_vocab.topk(k=10).indices[0]))\n",
    "\n",
    "\n",
    "mlp_mid = gpt2_cache[f\"blocks.17.mlp.hook_post\"][0, -1, :]\n",
    "high_acts = mlp_mid.topk(k=50)\n",
    "print(high_acts)\n",
    "\n",
    "# [k, d_model]\n",
    "high_w_out = gpt2.blocks[17].mlp.W_out[high_acts.indices[:50]]\n",
    "proj_vocab = einsum(\"k d_model, d_model vocab -> k vocab\", high_w_out, unembed)\n",
    "for idx in range(high_w_out.shape[0]):\n",
    "    print(tokenizer.batch_decode(proj_vocab.topk(k=30).indices[idx]))"
   ]
  },
  {
   "cell_type": "code",
   "execution_count": null,
   "id": "030a383b",
   "metadata": {},
   "outputs": [],
   "source": [
    "\n",
    "\n",
    "cos_scores = F.cosine_similarity(\n",
    "    gpt2.blocks[17].mlp.W_out, next_tok_vec.unsqueeze(dim=0), dim=1\n",
    ")\n",
    "top_cos = cos_scores.topk(k=20)\n",
    "print(top_cos)\n",
    "high_w_out = gpt2.blocks[17].mlp.W_out[top_cos.indices]\n",
    "proj_vocab = einsum(\"k d_model, d_model vocab -> k vocab\", high_w_out, unembed)\n",
    "for idx in range(high_w_out.shape[0]):\n",
    "    print(tokenizer.batch_decode(proj_vocab.topk(k=30).indices[idx]))"
   ]
  },
  {
   "cell_type": "code",
   "execution_count": null,
   "id": "d751bbd0",
   "metadata": {},
   "outputs": [],
   "source": [
    "\n",
    "decomps_lbsd, labels = gpt2_cache.decompose_resid(return_labels=True)\n",
    "\n",
    "print(decomps.shape)\n",
    "mlp17_idx = labels.index(\"17_mlp_out\")\n",
    "print(labels)\n",
    "print(mlp17_idx)\n",
    "_decomp = decomps_lbsd[mlp17_idx, 0, -1, :]\n",
    "\n",
    "top_cos = F.cosine_similarity(\n",
    "    _decomp.unsqueeze(0), gpt2.blocks[17].mlp.W_out, dim=1\n",
    ").topk(k=20)\n",
    "print(top_cos)\n",
    "proj_vocab = einsum(\n",
    "    \"k d_model, d_model vocab -> k vocab\",\n",
    "    gpt2.blocks[17].mlp.W_out[top_cos.indices],\n",
    "    unembed,\n",
    ")\n",
    "print(proj_vocab)\n",
    "for layer in range(proj_vocab.shape[0]):\n",
    "    print(tokenizer.batch_decode(proj_vocab[layer].topk(k=20).indices))\n",
    "\n",
    "# proj_vocab = einsum(\"layer d_model, d_model vocab -> layer vocab\", _decomp, unembed)\n",
    "# for layer in range(decomps_lbsd.shape[0]):\n",
    "#    print(tokenizer.batch_decode(proj_vocab[layer].topk(k=30).indices))"
   ]
  },
  {
   "cell_type": "code",
   "execution_count": null,
   "id": "d14d5f45",
   "metadata": {},
   "outputs": [],
   "source": [
    "\n",
    "\n",
    "gs = GridSpec(2, 2)\n",
    "fig = plt.figure(figsize=(5, 5))\n",
    "\n",
    "for idx in range(4):\n",
    "    curr_row = idx // 2\n",
    "    curr_col = idx % 2\n",
    "\n",
    "    ax = fig.add_subplot(gs[curr_row, curr_col])\n",
    "    y = {\n",
    "        0: \"i_prob\",\n",
    "        1: \"one_prob\",\n",
    "        2: \"i_rank\",\n",
    "        3: \"one_rank\",\n",
    "    }[idx]\n",
    "    sns.lineplot(data=plot_data, x=\"Layer\", y=y, hue=\"Model\", ax=ax)"
   ]
  },
  {
   "cell_type": "code",
   "execution_count": null,
   "id": "83fa53cb",
   "metadata": {},
   "outputs": [],
   "source": []
  }
 ],
 "metadata": {
  "kernelspec": {
   "display_name": "Python 3 (ipykernel)",
   "language": "python",
   "name": "python3"
  },
  "language_info": {
   "codemirror_mode": {
    "name": "ipython",
    "version": 3
   },
   "file_extension": ".py",
   "mimetype": "text/x-python",
   "name": "python",
   "nbconvert_exporter": "python",
   "pygments_lexer": "ipython3",
   "version": "3.11.8"
  }
 },
 "nbformat": 4,
 "nbformat_minor": 5
}
